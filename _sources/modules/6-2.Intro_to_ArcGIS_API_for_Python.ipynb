{
 "cells": [
  {
   "attachments": {},
   "cell_type": "markdown",
   "metadata": {},
   "source": [
    "# 6-2: Visualizing Spatial Data using ArcGIS API for Python\n",
    "\n",
    "## 1. Introduction to the ArcGIS API for Python\n",
    "\n",
    "- The ArcGIS API for Python, i.e., the `arcgis` package, is a powerful, modern and easy to use Pythonic library to perform GIS **visualization** and analysis, spatial data management and GIS system administration tasks that can run both in an interactive fashion, as well as using scripts.\n",
    "- Shipped with the ArcGIS Pro installation file\n",
    "\n",
    "Helpful resource on **arcgis**:\n",
    "- [An overview of the API](https://developers.arcgis.com/python/guide/overview-of-the-arcgis-api-for-python/)\n",
    "- [GitHub: ArcGIS API for Python](https://github.com/Esri/arcgis-python-api)"
   ]
  },
  {
   "cell_type": "code",
   "execution_count": 1,
   "metadata": {
    "hide_input": true
   },
   "outputs": [
    {
     "data": {
      "text/html": [
       "<iframe width=\"560\" height=\"315\" src=\"https://www.youtube.com/embed/irpubkYLrWI\" title=\"YouTube video player\" frameborder=\"0\" allow=\"accelerometer; autoplay; clipboard-write; encrypted-media; gyroscope; picture-in-picture\" allowfullscreen></iframe>\n"
      ],
      "text/plain": [
       "<IPython.core.display.HTML object>"
      ]
     },
     "metadata": {},
     "output_type": "display_data"
    }
   ],
   "source": [
    "%%html\n",
    "<iframe width=\"560\" height=\"315\" src=\"https://www.youtube.com/embed/irpubkYLrWI\" title=\"YouTube video player\" frameborder=\"0\" allow=\"accelerometer; autoplay; clipboard-write; encrypted-media; gyroscope; picture-in-picture\" allowfullscreen></iframe>"
   ]
  },
  {
   "cell_type": "markdown",
   "metadata": {},
   "source": [
    "### 1.1 Import the package"
   ]
  },
  {
   "cell_type": "code",
   "execution_count": 1,
   "metadata": {},
   "outputs": [],
   "source": [
    "import arcgis"
   ]
  },
  {
   "cell_type": "code",
   "execution_count": 2,
   "metadata": {},
   "outputs": [],
   "source": [
    "from arcgis import GIS, GeoAccessor, GeoSeriesAccessor, pd"
   ]
  },
  {
   "cell_type": "markdown",
   "metadata": {},
   "source": [
    "### 1.2 The _GIS_ class from the _gis_ module\n",
    "\n",
    "- what is **class** in Python?\n",
    "    + it is a blueprint for building things (a machine produces products)\n",
    "    + things get created from the class are called objects (or instances of the class)\n",
    "    + DRY (Don't repeat yourself) code. \n",
    "    + example:\n",
    "        * a college student\n",
    "        * a data structure that organizes the data -- _NumPy_ array and _pandas_ DataFrame\n",
    "- what is **gis** (Geographic Information System)?\n",
    "    + Geographic Data:\n",
    "        * collection\n",
    "        * storage\n",
    "        * manipulation\n",
    "        * analysis\n",
    "        * visualization\n",
    "        * management/administration\n",
    "        * distribution\n",
    "    + A variety of technologies:\n",
    "        * human activities (such as conducting survey of a area of land)\n",
    "        * hardware\n",
    "        * software (a narrower definition of GIS)\n",
    "- The **GIS** class\n",
    "    + from the **gis** module (the core) of the _arcgis_ package \n",
    "    + a portal to do GIS\n",
    "    + can link to an ArcGIS Online account\n",
    "    + or, be used locally without the connection"
   ]
  },
  {
   "cell_type": "markdown",
   "metadata": {},
   "source": [
    "## 2. Spatially Enabled DataFrame (SEDF)\n",
    "\n",
    "### 2.1 What is SEDF\n",
    "\n",
    "- A class from the _features_ module of _arcgis_ (`arcgis.features`)\n",
    "    + contains types and functions for working with features and feature layers in the GIS.\n",
    "- An extension of the `DataFrame` class from _pandas_\n",
    "- we use ArcPy as the geometry engine for this module, which gives us access to all native GIS data ArcGIS Pro supports"
   ]
  },
  {
   "cell_type": "markdown",
   "metadata": {},
   "source": [
    "### 2.2 Load a feature class as SEDF"
   ]
  },
  {
   "cell_type": "code",
   "execution_count": 1,
   "metadata": {},
   "outputs": [],
   "source": [
    "from arcgis import pd, GeoAccessor, GeoSeriesAccessor\n",
    "import arcpy\n",
    "\n",
    "gdb_worksp = r\"..\\data\\class_data.gdb\"\n",
    "arcpy.env.workspace = gdb_worksp\n",
    "blkgrp_fc = \"blockgroups\""
   ]
  },
  {
   "cell_type": "code",
   "execution_count": 4,
   "metadata": {},
   "outputs": [
    {
     "data": {
      "text/html": [
       "<div>\n",
       "<style scoped>\n",
       "    .dataframe tbody tr th:only-of-type {\n",
       "        vertical-align: middle;\n",
       "    }\n",
       "\n",
       "    .dataframe tbody tr th {\n",
       "        vertical-align: top;\n",
       "    }\n",
       "\n",
       "    .dataframe thead th {\n",
       "        text-align: right;\n",
       "    }\n",
       "</style>\n",
       "<table border=\"1\" class=\"dataframe\">\n",
       "  <thead>\n",
       "    <tr style=\"text-align: right;\">\n",
       "      <th></th>\n",
       "      <th>OBJECTID</th>\n",
       "      <th>STATEFP10</th>\n",
       "      <th>COUNTYFP10</th>\n",
       "      <th>TRACTCE10</th>\n",
       "      <th>BLKGRPCE10</th>\n",
       "      <th>GEOID10</th>\n",
       "      <th>NAMELSAD10</th>\n",
       "      <th>MTFCC10</th>\n",
       "      <th>FUNCSTAT10</th>\n",
       "      <th>ALAND10</th>\n",
       "      <th>...</th>\n",
       "      <th>DEN_NOTWEL</th>\n",
       "      <th>DEN_NOTATA</th>\n",
       "      <th>PCT_OWN5</th>\n",
       "      <th>PCT_RENT5</th>\n",
       "      <th>PCT_BACHLR</th>\n",
       "      <th>PCT_POV</th>\n",
       "      <th>PCT_RU1</th>\n",
       "      <th>DATAYEAR</th>\n",
       "      <th>DESCRIPT</th>\n",
       "      <th>SHAPE</th>\n",
       "    </tr>\n",
       "  </thead>\n",
       "  <tbody>\n",
       "    <tr>\n",
       "      <th>0</th>\n",
       "      <td>1</td>\n",
       "      <td>12</td>\n",
       "      <td>023</td>\n",
       "      <td>110903</td>\n",
       "      <td>2</td>\n",
       "      <td>120231109032</td>\n",
       "      <td>Block Group 2</td>\n",
       "      <td>G5030</td>\n",
       "      <td>S</td>\n",
       "      <td>57546992.0</td>\n",
       "      <td>...</td>\n",
       "      <td>0.004918</td>\n",
       "      <td>0.000000</td>\n",
       "      <td>17.225951</td>\n",
       "      <td>62.878788</td>\n",
       "      <td>9.922481</td>\n",
       "      <td>23.488372</td>\n",
       "      <td>23.488372</td>\n",
       "      <td>REDISTRICTING, SF1, ACS 2010</td>\n",
       "      <td>120231109032</td>\n",
       "      <td>{\"rings\": [[[530441.2199999988, 651631.75], [5...</td>\n",
       "    </tr>\n",
       "    <tr>\n",
       "      <th>1</th>\n",
       "      <td>2</td>\n",
       "      <td>12</td>\n",
       "      <td>023</td>\n",
       "      <td>110904</td>\n",
       "      <td>1</td>\n",
       "      <td>120231109041</td>\n",
       "      <td>Block Group 1</td>\n",
       "      <td>G5030</td>\n",
       "      <td>S</td>\n",
       "      <td>85591551.0</td>\n",
       "      <td>...</td>\n",
       "      <td>0.000329</td>\n",
       "      <td>0.000329</td>\n",
       "      <td>26.212320</td>\n",
       "      <td>58.015267</td>\n",
       "      <td>5.456656</td>\n",
       "      <td>4.102167</td>\n",
       "      <td>4.102167</td>\n",
       "      <td>REDISTRICTING, SF1, ACS 2010</td>\n",
       "      <td>120231109041</td>\n",
       "      <td>{\"rings\": [[[534712.1700000018, 663369.54], [5...</td>\n",
       "    </tr>\n",
       "    <tr>\n",
       "      <th>2</th>\n",
       "      <td>3</td>\n",
       "      <td>12</td>\n",
       "      <td>007</td>\n",
       "      <td>000300</td>\n",
       "      <td>5</td>\n",
       "      <td>120070003005</td>\n",
       "      <td>Block Group 5</td>\n",
       "      <td>G5030</td>\n",
       "      <td>S</td>\n",
       "      <td>196424609.0</td>\n",
       "      <td>...</td>\n",
       "      <td>0.000021</td>\n",
       "      <td>0.000000</td>\n",
       "      <td>13.270142</td>\n",
       "      <td>68.181818</td>\n",
       "      <td>1.254613</td>\n",
       "      <td>10.701107</td>\n",
       "      <td>10.701107</td>\n",
       "      <td>REDISTRICTING, SF1, ACS 2010</td>\n",
       "      <td>120070003005</td>\n",
       "      <td>{\"rings\": [[[567924.9299999997, 665800.79], [5...</td>\n",
       "    </tr>\n",
       "    <tr>\n",
       "      <th>3</th>\n",
       "      <td>4</td>\n",
       "      <td>12</td>\n",
       "      <td>007</td>\n",
       "      <td>000300</td>\n",
       "      <td>4</td>\n",
       "      <td>120070003004</td>\n",
       "      <td>Block Group 4</td>\n",
       "      <td>G5030</td>\n",
       "      <td>S</td>\n",
       "      <td>16339411.0</td>\n",
       "      <td>...</td>\n",
       "      <td>0.000000</td>\n",
       "      <td>0.000000</td>\n",
       "      <td>18.924731</td>\n",
       "      <td>73.711340</td>\n",
       "      <td>12.617839</td>\n",
       "      <td>14.902103</td>\n",
       "      <td>14.902103</td>\n",
       "      <td>REDISTRICTING, SF1, ACS 2010</td>\n",
       "      <td>120070003004</td>\n",
       "      <td>{\"rings\": [[[588576.3599999994, 644359.46], [5...</td>\n",
       "    </tr>\n",
       "    <tr>\n",
       "      <th>4</th>\n",
       "      <td>5</td>\n",
       "      <td>12</td>\n",
       "      <td>007</td>\n",
       "      <td>000300</td>\n",
       "      <td>1</td>\n",
       "      <td>120070003001</td>\n",
       "      <td>Block Group 1</td>\n",
       "      <td>G5030</td>\n",
       "      <td>S</td>\n",
       "      <td>57089369.0</td>\n",
       "      <td>...</td>\n",
       "      <td>0.000000</td>\n",
       "      <td>0.001138</td>\n",
       "      <td>22.957198</td>\n",
       "      <td>43.333333</td>\n",
       "      <td>1.134021</td>\n",
       "      <td>21.161826</td>\n",
       "      <td>21.161826</td>\n",
       "      <td>REDISTRICTING, SF1, ACS 2010</td>\n",
       "      <td>120070003001</td>\n",
       "      <td>{\"rings\": [[[576256.1799999997, 656541.8300000...</td>\n",
       "    </tr>\n",
       "  </tbody>\n",
       "</table>\n",
       "<p>5 rows × 202 columns</p>\n",
       "</div>"
      ],
      "text/plain": [
       "   OBJECTID STATEFP10 COUNTYFP10 TRACTCE10 BLKGRPCE10       GEOID10  \\\n",
       "0         1        12        023    110903          2  120231109032   \n",
       "1         2        12        023    110904          1  120231109041   \n",
       "2         3        12        007    000300          5  120070003005   \n",
       "3         4        12        007    000300          4  120070003004   \n",
       "4         5        12        007    000300          1  120070003001   \n",
       "\n",
       "      NAMELSAD10 MTFCC10 FUNCSTAT10      ALAND10  ...  DEN_NOTWEL DEN_NOTATA  \\\n",
       "0  Block Group 2   G5030          S   57546992.0  ...    0.004918   0.000000   \n",
       "1  Block Group 1   G5030          S   85591551.0  ...    0.000329   0.000329   \n",
       "2  Block Group 5   G5030          S  196424609.0  ...    0.000021   0.000000   \n",
       "3  Block Group 4   G5030          S   16339411.0  ...    0.000000   0.000000   \n",
       "4  Block Group 1   G5030          S   57089369.0  ...    0.000000   0.001138   \n",
       "\n",
       "    PCT_OWN5  PCT_RENT5 PCT_BACHLR    PCT_POV    PCT_RU1  \\\n",
       "0  17.225951  62.878788   9.922481  23.488372  23.488372   \n",
       "1  26.212320  58.015267   5.456656   4.102167   4.102167   \n",
       "2  13.270142  68.181818   1.254613  10.701107  10.701107   \n",
       "3  18.924731  73.711340  12.617839  14.902103  14.902103   \n",
       "4  22.957198  43.333333   1.134021  21.161826  21.161826   \n",
       "\n",
       "                       DATAYEAR      DESCRIPT  \\\n",
       "0  REDISTRICTING, SF1, ACS 2010  120231109032   \n",
       "1  REDISTRICTING, SF1, ACS 2010  120231109041   \n",
       "2  REDISTRICTING, SF1, ACS 2010  120070003005   \n",
       "3  REDISTRICTING, SF1, ACS 2010  120070003004   \n",
       "4  REDISTRICTING, SF1, ACS 2010  120070003001   \n",
       "\n",
       "                                               SHAPE  \n",
       "0  {\"rings\": [[[530441.2199999988, 651631.75], [5...  \n",
       "1  {\"rings\": [[[534712.1700000018, 663369.54], [5...  \n",
       "2  {\"rings\": [[[567924.9299999997, 665800.79], [5...  \n",
       "3  {\"rings\": [[[588576.3599999994, 644359.46], [5...  \n",
       "4  {\"rings\": [[[576256.1799999997, 656541.8300000...  \n",
       "\n",
       "[5 rows x 202 columns]"
      ]
     },
     "execution_count": 4,
     "metadata": {},
     "output_type": "execute_result"
    }
   ],
   "source": [
    "blkgrp_sedf = pd.DataFrame.spatial.from_featureclass(blkgrp_fc)\n",
    "blkgrp_sedf.head()"
   ]
  },
  {
   "cell_type": "code",
   "execution_count": 5,
   "metadata": {},
   "outputs": [
    {
     "data": {
      "text/plain": [
       "178"
      ]
     },
     "execution_count": 5,
     "metadata": {},
     "output_type": "execute_result"
    }
   ],
   "source": [
    "len(blkgrp_sedf)  # recall"
   ]
  },
  {
   "cell_type": "code",
   "execution_count": 6,
   "metadata": {},
   "outputs": [
    {
     "data": {
      "text/plain": [
       "(178, 202)"
      ]
     },
     "execution_count": 6,
     "metadata": {},
     "output_type": "execute_result"
    }
   ],
   "source": [
    "blkgrp_sedf.shape  # recall"
   ]
  },
  {
   "cell_type": "code",
   "execution_count": 7,
   "metadata": {},
   "outputs": [
    {
     "data": {
      "text/plain": [
       "array([2094, 2269, 1305, 1991, 2056, 1410, 1890, 2510, 1150, 1856, 1455,\n",
       "       1905, 2703,  865, 1735, 2330,  979, 1169, 2186, 3172,  163, 2175,\n",
       "       2139, 2162,  999, 2124, 2278, 1600,  323, 2558, 2452, 1814, 4757,\n",
       "       3260,  710,  911, 1391,  866, 2755,  798, 1937, 1166, 1246, 2329,\n",
       "        924, 1779,  885,  665,  803,  844, 1418,  770, 1430,  568, 1193,\n",
       "       1440,  777, 1806,  821, 1627, 1347, 1058, 2112, 1391, 1502, 1232,\n",
       "       3088, 1077, 1174, 1155, 1582, 1130,  625, 1165, 1090, 1210, 2285,\n",
       "       2171, 1604, 1957,  620, 1091, 1196,  642, 3589, 1433, 2906, 1930,\n",
       "       5398, 1414, 1033,  993, 1345, 1482,  787, 1157, 1962, 1658, 1570,\n",
       "       1973, 3617, 1270, 2497, 1522, 1356, 2877, 1323, 1741,  682,  833,\n",
       "       1364,  895, 2482,  962,  838, 2136, 1567, 1255, 2030, 1269, 1154,\n",
       "       1488, 2180,  703, 1066, 1861, 1515, 2027, 1061, 1067, 1851, 1614,\n",
       "       1363, 1779, 1685, 1784,  696,  866, 1638, 1684, 3282, 1462,  386,\n",
       "       2040,  662, 3641, 1431,  718, 2888, 1846, 2559, 1619, 1538,  963,\n",
       "       2463,  696, 1070, 3415, 2034, 2613, 1138,  823, 3886, 2662, 2625,\n",
       "        823,  836,  978, 1091,  637,  921, 1342, 2680, 1211, 1788, 1723,\n",
       "       1189,  789], dtype=int64)"
      ]
     },
     "execution_count": 7,
     "metadata": {},
     "output_type": "execute_result"
    }
   ],
   "source": [
    "blkgrp_sedf['TOTALPOP'].values"
   ]
  },
  {
   "cell_type": "markdown",
   "metadata": {},
   "source": [
    "## 3. Visualizing GIS data\n",
    "\n",
    "### 3.1 Create a map\n",
    "\n",
    "1. **<font color='royalblue'>Import all the necessary modules</font>**"
   ]
  },
  {
   "cell_type": "code",
   "execution_count": 8,
   "metadata": {},
   "outputs": [],
   "source": [
    "from arcgis import GIS, GeoAccessor, GeoSeriesAccessor, pd"
   ]
  },
  {
   "cell_type": "markdown",
   "metadata": {},
   "source": [
    "2. **<font color='royalblue'>Create a `GIS` instance</font>**"
   ]
  },
  {
   "cell_type": "code",
   "execution_count": 9,
   "metadata": {},
   "outputs": [],
   "source": [
    "my_gis = GIS()"
   ]
  },
  {
   "cell_type": "code",
   "execution_count": 10,
   "metadata": {},
   "outputs": [
    {
     "data": {
      "text/html": [
       "GIS @ <a href=\"https://www.arcgis.com\">https://www.arcgis.com</a>"
      ],
      "text/plain": [
       "GIS @ https://www.arcgis.com version:9.4"
      ]
     },
     "execution_count": 10,
     "metadata": {},
     "output_type": "execute_result"
    }
   ],
   "source": [
    "my_gis"
   ]
  },
  {
   "cell_type": "markdown",
   "metadata": {},
   "source": [
    "3. **<font color='royalblue'>Load data in the \"GIS\" as SEDF</font>**"
   ]
  },
  {
   "cell_type": "code",
   "execution_count": 11,
   "metadata": {},
   "outputs": [],
   "source": [
    "import arcpy\n",
    "gdb_worksp = r\"..\\data\\class_data.gdb\"\n",
    "arcpy.env.workspace = gdb_worksp\n",
    "\n",
    "blkgrp = \"blockgroups\"\n",
    "schools = 'schools'"
   ]
  },
  {
   "cell_type": "code",
   "execution_count": 12,
   "metadata": {},
   "outputs": [],
   "source": [
    "blkgrp_sedf = pd.DataFrame.spatial.from_featureclass(blkgrp)\n",
    "schools_sedf = pd.DataFrame.spatial.from_featureclass(schools)"
   ]
  },
  {
   "cell_type": "markdown",
   "metadata": {},
   "source": [
    "4. **<font color='royalblue'>Use the map widget from the `GIS` instance to create a map</font>**"
   ]
  },
  {
   "cell_type": "code",
   "execution_count": 13,
   "metadata": {},
   "outputs": [],
   "source": [
    "# call the map() function from the GIS instance\n",
    "my_map_in_my_gis = my_gis.map(location=[29.7, -82.3], zoomlevel=9)"
   ]
  },
  {
   "cell_type": "code",
   "execution_count": 14,
   "metadata": {},
   "outputs": [
    {
     "data": {
      "application/vnd.jupyter.widget-view+json": {
       "model_id": "aa17dd58cea04fa28f8b167707d78ea1",
       "version_major": 2,
       "version_minor": 0
      },
      "text/plain": [
       "MapView(layout=Layout(height='400px', width='100%'))"
      ]
     },
     "metadata": {},
     "output_type": "display_data"
    },
    {
     "data": {
      "text/html": [
       "<div class=\"map-static-img-preview-3b40cd05-810b-4df4-b8b5-d02474e14a80\"><img src=\"\"></img></div>"
      ],
      "text/plain": [
       "<IPython.core.display.HTML object>"
      ]
     },
     "metadata": {},
     "output_type": "display_data"
    },
    {
     "data": {
      "text/html": [
       "<div class=\"map-html-embed-preview-3b40cd05-810b-4df4-b8b5-d02474e14a80\"></div>"
      ],
      "text/plain": [
       "<IPython.core.display.HTML object>"
      ]
     },
     "metadata": {},
     "output_type": "display_data"
    }
   ],
   "source": [
    "my_map_in_my_gis"
   ]
  },
  {
   "cell_type": "markdown",
   "metadata": {},
   "source": [
    "5. **<font color='royalblue'>Load SEDFs into the map</font>**\n",
    "\n",
    "- call `spatial.plot()` from the sedf\n",
    "- last loaded sedf will be displayed on the top"
   ]
  },
  {
   "cell_type": "code",
   "execution_count": 15,
   "metadata": {},
   "outputs": [
    {
     "data": {
      "text/plain": [
       "True"
      ]
     },
     "execution_count": 15,
     "metadata": {},
     "output_type": "execute_result"
    }
   ],
   "source": [
    "blkgrp_sedf.spatial.plot(map_widget=my_map_in_my_gis)"
   ]
  },
  {
   "cell_type": "code",
   "execution_count": 16,
   "metadata": {},
   "outputs": [
    {
     "data": {
      "text/plain": [
       "True"
      ]
     },
     "execution_count": 16,
     "metadata": {},
     "output_type": "execute_result"
    }
   ],
   "source": [
    "schools_sedf.spatial.plot(map_widget=my_map_in_my_gis,\n",
    "                          col='NAME', \n",
    "                          renderer_type='u')"
   ]
  },
  {
   "cell_type": "markdown",
   "metadata": {},
   "source": [
    "### 3.2 Modify the size of the widget window"
   ]
  },
  {
   "cell_type": "code",
   "execution_count": 17,
   "metadata": {},
   "outputs": [],
   "source": [
    "from ipywidgets import Layout"
   ]
  },
  {
   "cell_type": "code",
   "execution_count": 18,
   "metadata": {},
   "outputs": [],
   "source": [
    "my_map_in_my_gis.layout = Layout(height=\"600px\")"
   ]
  },
  {
   "cell_type": "code",
   "execution_count": 19,
   "metadata": {},
   "outputs": [],
   "source": [
    "my_map_in_my_gis.layout = Layout(width=\"600px\", height=\"600px\")"
   ]
  },
  {
   "cell_type": "code",
   "execution_count": 20,
   "metadata": {},
   "outputs": [
    {
     "data": {
      "application/vnd.jupyter.widget-view+json": {
       "model_id": "aa17dd58cea04fa28f8b167707d78ea1",
       "version_major": 2,
       "version_minor": 0
      },
      "text/plain": [
       "MapView(jupyter_target='notebook', layout=Layout(height='600px', width='600px'), ready=True)"
      ]
     },
     "metadata": {},
     "output_type": "display_data"
    },
    {
     "data": {
      "text/html": [
       "<div class=\"map-static-img-preview-3b40cd05-810b-4df4-b8b5-d02474e14a80\"><img src=\"\"></img></div>"
      ],
      "text/plain": [
       "<IPython.core.display.HTML object>"
      ]
     },
     "metadata": {},
     "output_type": "display_data"
    },
    {
     "data": {
      "text/html": [
       "<div class=\"map-html-embed-preview-3b40cd05-810b-4df4-b8b5-d02474e14a80\"></div>"
      ],
      "text/plain": [
       "<IPython.core.display.HTML object>"
      ]
     },
     "metadata": {},
     "output_type": "display_data"
    }
   ],
   "source": [
    "my_map_in_my_gis"
   ]
  },
  {
   "cell_type": "markdown",
   "metadata": {},
   "source": [
    "### 3.3 Change the Basemap\n",
    "\n",
    "1. `basemaps` attribute of a `map` returns a list of available basemaps"
   ]
  },
  {
   "cell_type": "code",
   "execution_count": 21,
   "metadata": {},
   "outputs": [
    {
     "data": {
      "text/plain": [
       "['dark-gray',\n",
       " 'dark-gray-vector',\n",
       " 'gray',\n",
       " 'gray-vector',\n",
       " 'hybrid',\n",
       " 'national-geographic',\n",
       " 'oceans',\n",
       " 'osm',\n",
       " 'satellite',\n",
       " 'streets',\n",
       " 'streets-navigation-vector',\n",
       " 'streets-night-vector',\n",
       " 'streets-relief-vector',\n",
       " 'streets-vector',\n",
       " 'terrain',\n",
       " 'topo',\n",
       " 'topo-vector']"
      ]
     },
     "execution_count": 21,
     "metadata": {},
     "output_type": "execute_result"
    }
   ],
   "source": [
    "my_map_in_my_gis.basemaps"
   ]
  },
  {
   "cell_type": "code",
   "execution_count": 22,
   "metadata": {},
   "outputs": [
    {
     "data": {
      "application/vnd.jupyter.widget-view+json": {
       "model_id": "aa17dd58cea04fa28f8b167707d78ea1",
       "version_major": 2,
       "version_minor": 0
      },
      "text/plain": [
       "MapView(jupyter_target='notebook', layout=Layout(height='600px', width='600px'), ready=True)"
      ]
     },
     "metadata": {},
     "output_type": "display_data"
    },
    {
     "data": {
      "text/html": [
       "<div class=\"map-static-img-preview-3b40cd05-810b-4df4-b8b5-d02474e14a80\"><img src=\"\"></img></div>"
      ],
      "text/plain": [
       "<IPython.core.display.HTML object>"
      ]
     },
     "metadata": {},
     "output_type": "display_data"
    },
    {
     "data": {
      "text/html": [
       "<div class=\"map-html-embed-preview-3b40cd05-810b-4df4-b8b5-d02474e14a80\"></div>"
      ],
      "text/plain": [
       "<IPython.core.display.HTML object>"
      ]
     },
     "metadata": {},
     "output_type": "display_data"
    }
   ],
   "source": [
    "my_map_in_my_gis"
   ]
  },
  {
   "cell_type": "markdown",
   "metadata": {},
   "source": [
    "2. Set basemap by assign a value in the list to the `basemap` attribut."
   ]
  },
  {
   "cell_type": "code",
   "execution_count": 23,
   "metadata": {},
   "outputs": [],
   "source": [
    "my_map_in_my_gis.basemap = 'dark-gray'"
   ]
  },
  {
   "cell_type": "markdown",
   "metadata": {},
   "source": [
    "### 3.4 Choropleth Map"
   ]
  },
  {
   "cell_type": "code",
   "execution_count": 24,
   "metadata": {},
   "outputs": [],
   "source": [
    "from arcgis import mapping"
   ]
  },
  {
   "cell_type": "code",
   "execution_count": 25,
   "metadata": {
    "scrolled": false
   },
   "outputs": [
    {
     "data": {
      "image/png": "[encoded data removed]",
      "text/plain": [
       "<Figure size 432x2160 with 150 Axes>"
      ]
     },
     "metadata": {
      "needs_background": "light"
     },
     "output_type": "display_data"
    }
   ],
   "source": [
    "mapping.display_colormaps()"
   ]
  },
  {
   "cell_type": "code",
   "execution_count": 26,
   "metadata": {},
   "outputs": [],
   "source": [
    "map2 = my_gis.map(location=[29.7, -82.3], zoomlevel=10)"
   ]
  },
  {
   "cell_type": "code",
   "execution_count": 27,
   "metadata": {},
   "outputs": [
    {
     "data": {
      "text/plain": [
       "True"
      ]
     },
     "execution_count": 27,
     "metadata": {},
     "output_type": "execute_result"
    }
   ],
   "source": [
    "blkgrp_sedf.spatial.plot(map_widget=map2, colors=\"YlGnBu\",\n",
    "                         col='TOTALPOP', renderer_type='c',\n",
    "                         method='esriClassifyNaturalBreaks',\n",
    "                         class_count=7)"
   ]
  },
  {
   "cell_type": "code",
   "execution_count": 28,
   "metadata": {},
   "outputs": [],
   "source": [
    "from ipywidgets import Layout\n",
    "map2.layout = Layout(height=\"700px\")"
   ]
  },
  {
   "cell_type": "code",
   "execution_count": 29,
   "metadata": {},
   "outputs": [
    {
     "data": {
      "application/vnd.jupyter.widget-view+json": {
       "model_id": "c759595deb3d49ee9b5d22b074e87a70",
       "version_major": 2,
       "version_minor": 0
      },
      "text/plain": [
       "MapView(layout=Layout(height='700px'))"
      ]
     },
     "metadata": {},
     "output_type": "display_data"
    },
    {
     "data": {
      "text/html": [
       "<div class=\"map-static-img-preview-a5efdde5-86d1-4aec-9fa0-2d4a10e3e994\"><img src=\"\"></img></div>"
      ],
      "text/plain": [
       "<IPython.core.display.HTML object>"
      ]
     },
     "metadata": {},
     "output_type": "display_data"
    },
    {
     "data": {
      "text/html": [
       "<div class=\"map-html-embed-preview-a5efdde5-86d1-4aec-9fa0-2d4a10e3e994\"></div>"
      ],
      "text/plain": [
       "<IPython.core.display.HTML object>"
      ]
     },
     "metadata": {},
     "output_type": "display_data"
    }
   ],
   "source": [
    "map2"
   ]
  }
 ],
 "metadata": {
  "kernelspec": {
   "display_name": "Python 3",
   "language": "python",
   "name": "python3"
  },
  "language_info": {
   "codemirror_mode": {
    "name": "ipython",
    "version": 3
   },
   "file_extension": ".py",
   "mimetype": "text/x-python",
   "name": "python",
   "nbconvert_exporter": "python",
   "pygments_lexer": "ipython3",
   "version": "3.9.11"
  },
  "varInspector": {
   "cols": {
    "lenName": 16,
    "lenType": 16,
    "lenVar": 40
   },
   "kernels_config": {
    "python": {
     "delete_cmd_postfix": "",
     "delete_cmd_prefix": "del ",
     "library": "var_list.py",
     "varRefreshCmd": "print(var_dic_list())"
    },
    "r": {
     "delete_cmd_postfix": ") ",
     "delete_cmd_prefix": "rm(",
     "library": "var_list.r",
     "varRefreshCmd": "cat(var_dic_list()) "
    }
   },
   "types_to_exclude": [
    "module",
    "function",
    "builtin_function_or_method",
    "instance",
    "_Feature"
   ],
   "window_display": false
  },
  "vscode": {
   "interpreter": {
    "hash": "4512e868ce03776b2acb55696d863bcca535b363b5450b1af05055989d5d969c"
   }
  }
 },
 "nbformat": 4,
 "nbformat_minor": 2
}
