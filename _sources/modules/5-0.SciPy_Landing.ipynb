{
 "cells": [
  {
   "attachments": {},
   "cell_type": "markdown",
   "metadata": {},
   "source": [
    "# Introduction to the Scientific Python Ecosystem\n"
   ]
  },
  {
   "attachments": {},
   "cell_type": "markdown",
   "metadata": {},
   "source": [
    "## Learning Objectives\n",
    "\n",
    "Upon completion of this module, you should be able to:\n",
    "\n",
    "- Getting to know the three most popular Python packages used in data science\n",
    "- Apply highly productive functions from these packages in the context of ArcGIS\n",
    "- Convert feature classes into Numpy structured arrays\n",
    "- Calculate statistics and run query against arrays\n",
    "- Understand the structure of pandas Series and DataFrame\n",
    "- Select DataFrame records based on single or multiple conditions\n",
    "- Use Matplotlib to create simple plots to better understand attribute data"
   ]
  },
  {
   "attachments": {},
   "cell_type": "markdown",
   "metadata": {},
   "source": [
    "## Learning Steps\n",
    "\n",
    "- Work on Homework #5 Assignment\n",
    "- Submit Assignment by Date"
   ]
  }
 ],
 "metadata": {
  "kernelspec": {
   "display_name": "Python 3",
   "language": "python",
   "name": "python3"
  },
  "language_info": {
   "name": "python",
   "version": "3.9.11 [MSC v.1931 64 bit (AMD64)]"
  },
  "orig_nbformat": 4,
  "vscode": {
   "interpreter": {
    "hash": "4512e868ce03776b2acb55696d863bcca535b363b5450b1af05055989d5d969c"
   }
  }
 },
 "nbformat": 4,
 "nbformat_minor": 2
}
