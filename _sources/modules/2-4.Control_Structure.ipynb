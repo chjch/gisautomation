{
 "cells": [
  {
   "attachments": {},
   "cell_type": "markdown",
   "metadata": {
    "slideshow": {
     "slide_type": "slide"
    },
    "pycharm": {
     "name": "#%% md\n"
    }
   },
   "source": [
    "# 2-4. Control (Flow) Structure"
   ]
  },
  {
   "cell_type": "markdown",
   "metadata": {
    "heading_collapsed": true,
    "pycharm": {
     "name": "#%% md\n"
    }
   },
   "source": [
    "## 1. Conditional Statement"
   ]
  },
  {
   "cell_type": "code",
   "execution_count": 6,
   "metadata": {
    "hidden": true,
    "pycharm": {
     "name": "#%%\n"
    }
   },
   "outputs": [
    {
     "name": "stdout",
     "output_type": "stream",
     "text": [
      "False\n"
     ]
    }
   ],
   "source": [
    "a = '-'\n",
    "print(a == '+')     # is a equal to plus sign"
   ]
  },
  {
   "attachments": {},
   "cell_type": "markdown",
   "metadata": {
    "hidden": true,
    "pycharm": {
     "name": "#%% md\n"
    }
   },
   "source": [
    "``` {admonition} **Note**: \n",
    "- \"=\" is an assignment operator.\n",
    "- \"==\" is a comparison operator.\n",
    "```"
   ]
  },
  {
   "cell_type": "markdown",
   "metadata": {
    "hidden": true,
    "pycharm": {
     "name": "#%% md\n"
    }
   },
   "source": [
    "### 1.1 If statement"
   ]
  },
  {
   "cell_type": "code",
   "execution_count": 8,
   "metadata": {
    "hidden": true,
    "pycharm": {
     "name": "#%%\n"
    }
   },
   "outputs": [
    {
     "name": "stdout",
     "output_type": "stream",
     "text": [
      "yes\n"
     ]
    }
   ],
   "source": [
    "if a == '-':\n",
    "    print('yes')"
   ]
  },
  {
   "cell_type": "markdown",
   "metadata": {
    "hidden": true,
    "pycharm": {
     "name": "#%% md\n"
    }
   },
   "source": [
    "### 1.2 If-else compound statements (block)"
   ]
  },
  {
   "cell_type": "code",
   "execution_count": 9,
   "metadata": {
    "hidden": true,
    "pycharm": {
     "name": "#%%\n"
    }
   },
   "outputs": [
    {
     "name": "stdout",
     "output_type": "stream",
     "text": [
      "a is a minus sign\n"
     ]
    }
   ],
   "source": [
    "if a == '+':\n",
    "    print('a is a plus sign')\n",
    "else:\n",
    "    print('a is a minus sign')"
   ]
  },
  {
   "attachments": {},
   "cell_type": "markdown",
   "metadata": {
    "hidden": true,
    "pycharm": {
     "name": "#%% md\n"
    }
   },
   "source": [
    "``` {admonition} **Note**:\n",
    "In Python, we use **indentation** to define the structure, or the flow, of code execution.<br><br>\n",
    "The **colon** after the **if** statement is required. Most code blocks, such as _loop_ and _function_ start by a **colon**.\n",
    "```"
   ]
  },
  {
   "cell_type": "markdown",
   "metadata": {
    "hidden": true,
    "pycharm": {
     "name": "#%% md\n"
    }
   },
   "source": [
    "### 1.3 if-elif-else block"
   ]
  },
  {
   "cell_type": "code",
   "execution_count": 10,
   "metadata": {
    "hidden": true,
    "pycharm": {
     "name": "#%%\n"
    }
   },
   "outputs": [
    {
     "name": "stdout",
     "output_type": "stream",
     "text": [
      "a is a minus sign\n"
     ]
    }
   ],
   "source": [
    "if a == '+':\n",
    "    print('a is a plus sign')\n",
    "elif a == \"-\":\n",
    "    print('a is a minus sign')\n",
    "else:\n",
    "    print('a is neither a plus nor a minus sign')"
   ]
  },
  {
   "cell_type": "markdown",
   "metadata": {
    "hidden": true,
    "pycharm": {
     "name": "#%% md\n"
    }
   },
   "source": [
    "### 1.4 Comparing Numbers"
   ]
  },
  {
   "cell_type": "code",
   "execution_count": null,
   "metadata": {
    "hidden": true,
    "pycharm": {
     "name": "#%%\n"
    }
   },
   "outputs": [],
   "source": [
    "first_number = 20\n",
    "second_number = 20\n",
    "if first_number > second_number:\n",
    "    print(str(first_number) + \" is greater than \" + str(second_number)) \n",
    "elif first_number < second_number:\n",
    "    print(str(first_number) + \" is smaller than \" + str(second_number))\n",
    "else:  \n",
    "    print(str(first_number) + \" is equmal to \" + str(second_number))"
   ]
  },
  {
   "cell_type": "code",
   "execution_count": 11,
   "metadata": {
    "hidden": true,
    "pycharm": {
     "name": "#%%\n"
    }
   },
   "outputs": [
    {
     "name": "stdout",
     "output_type": "stream",
     "text": [
      "Enter first number: 1\n",
      "Enter second number: 2\n",
      "1 is smaller than 2\n"
     ]
    }
   ],
   "source": [
    "# dynamic user inputs\n",
    "first_number = int(input(\"Enter first number: \"))\n",
    "second_number = int(input(\"Enter second number: \"))\n",
    "\n",
    "if first_number > second_number:\n",
    "    print(str(first_number) + \" is greater than \" + str(second_number))\n",
    "elif first_number < second_number:\n",
    "    print(str(first_number) + \" is smaller than \" + str(second_number))\n",
    "else:\n",
    "    print(str(first_number) + \" is equal to \" + str(second_number))"
   ]
  },
  {
   "cell_type": "code",
   "execution_count": 12,
   "metadata": {
    "hidden": true,
    "pycharm": {
     "name": "#%%\n"
    }
   },
   "outputs": [
    {
     "data": {
      "text/plain": [
       "True"
      ]
     },
     "execution_count": 12,
     "metadata": {},
     "output_type": "execute_result"
    }
   ],
   "source": [
    "# without converting to integers\n",
    "'45' > '245'"
   ]
  },
  {
   "cell_type": "markdown",
   "metadata": {
    "hidden": true,
    "pycharm": {
     "name": "#%% md\n"
    }
   },
   "source": [
    "### 1.5 Logical Operators in Conditional Statement"
   ]
  },
  {
   "cell_type": "code",
   "execution_count": 13,
   "metadata": {
    "hidden": true,
    "pycharm": {
     "name": "#%%\n"
    }
   },
   "outputs": [
    {
     "name": "stdout",
     "output_type": "stream",
     "text": [
      "Enter first number: 2\n",
      "2 is smaller or equal to 5 but greater than 0.\n"
     ]
    }
   ],
   "source": [
    "first_number = int(input(\"Enter first number: \"))\n",
    "\n",
    "if first_number > 10:\n",
    "    print(str(first_number) + \" is greater than 10.\")\n",
    "elif first_number > 5 and first_number <= 10:\n",
    "    print(str(first_number) + \" is smaller or equal to 10 but greater than 5.\")\n",
    "elif first_number > 0 and first_number <= 5:\n",
    "    print(str(first_number) + \" is smaller or equal to 5 but greater than 0.\")\n",
    "else:\n",
    "    print(str(first_number) + \" is negative.\")"
   ]
  },
  {
   "cell_type": "markdown",
   "metadata": {
    "heading_collapsed": true,
    "pycharm": {
     "name": "#%% md\n"
    }
   },
   "source": [
    "## 2. Loop (Iteration)"
   ]
  },
  {
   "cell_type": "markdown",
   "metadata": {
    "hidden": true,
    "pycharm": {
     "name": "#%% md\n"
    }
   },
   "source": [
    "### 2.1 For Loop\n",
    "\n",
    "For loop with a **range** object"
   ]
  },
  {
   "cell_type": "code",
   "execution_count": null,
   "metadata": {
    "hidden": true,
    "pycharm": {
     "name": "#%%\n"
    }
   },
   "outputs": [],
   "source": [
    "range(4)"
   ]
  },
  {
   "cell_type": "code",
   "execution_count": null,
   "metadata": {
    "hidden": true,
    "pycharm": {
     "name": "#%%\n"
    }
   },
   "outputs": [],
   "source": [
    "range(1, 4)"
   ]
  },
  {
   "cell_type": "code",
   "execution_count": null,
   "metadata": {
    "hidden": true,
    "pycharm": {
     "name": "#%%\n"
    }
   },
   "outputs": [],
   "source": [
    "list(range(1, 10, 2))"
   ]
  },
  {
   "cell_type": "code",
   "execution_count": null,
   "metadata": {
    "hidden": true,
    "pycharm": {
     "name": "#%%\n"
    }
   },
   "outputs": [],
   "source": [
    "list(range(4, 1, -1))"
   ]
  },
  {
   "cell_type": "code",
   "execution_count": null,
   "metadata": {
    "hidden": true,
    "pycharm": {
     "name": "#%%\n"
    }
   },
   "outputs": [],
   "source": [
    "# sum up value from 1 to 4.\n",
    "total = 0\n",
    "for i in range(4):\n",
    "    print(\"i is \" + str(i))\n",
    "    total = total + i\n",
    "    print(\"sum is \" + str(total))\n",
    "print(\"program done.\")"
   ]
  },
  {
   "attachments": {},
   "cell_type": "markdown",
   "metadata": {
    "hidden": true,
    "pycharm": {
     "name": "#%% md\n"
    }
   },
   "source": [
    "``` {admonition} **Note**: \n",
    "\"sum\" is a reserved word in python. It is a function, so avoid using it for variable names.\n",
    "```"
   ]
  },
  {
   "cell_type": "markdown",
   "metadata": {
    "hidden": true,
    "pycharm": {
     "name": "#%% md\n"
    }
   },
   "source": [
    "For loop with a **list** object"
   ]
  },
  {
   "cell_type": "code",
   "execution_count": 15,
   "metadata": {
    "hidden": true,
    "pycharm": {
     "name": "#%%\n"
    }
   },
   "outputs": [
    {
     "name": "stdout",
     "output_type": "stream",
     "text": [
      "I like Gainesville\n",
      "I like Miami\n",
      "I like Orlando\n",
      "I like Tampa\n"
     ]
    }
   ],
   "source": [
    "cities = ['Gainesville', 'Miami', 'Orlando', 'Tampa']\n",
    "for city in cities:  # city is just a pointer it can have any name abiding by the rules\n",
    "    print(\"I like \" + city)"
   ]
  },
  {
   "cell_type": "markdown",
   "metadata": {
    "hidden": true,
    "pycharm": {
     "name": "#%% md\n"
    }
   },
   "source": [
    "### 2.2 While Loop"
   ]
  },
  {
   "cell_type": "markdown",
   "metadata": {
    "hidden": true,
    "pycharm": {
     "name": "#%% md\n"
    }
   },
   "source": [
    "Calculate the **total sum from 1 to 100**."
   ]
  },
  {
   "cell_type": "code",
   "execution_count": 19,
   "metadata": {
    "hidden": true,
    "pycharm": {
     "name": "#%%\n"
    }
   },
   "outputs": [
    {
     "name": "stdout",
     "output_type": "stream",
     "text": [
      "Final sum is 5050\n"
     ]
    }
   ],
   "source": [
    "i = 1\n",
    "total = 0\n",
    "while i <= 100:\n",
    "    # print(\"i is \" + str(i))\n",
    "    total = total + i\n",
    "    i += 1 # same as i = i + 1\n",
    "print(\"Final sum is \" + str(total))"
   ]
  },
  {
   "attachments": {},
   "cell_type": "markdown",
   "metadata": {
    "hidden": true,
    "pycharm": {
     "name": "#%% md\n"
    }
   },
   "source": [
    "``` {admonition} **Note**\n",
    "The difference between for and while loop is whether the number of iteration is known.\n",
    "```"
   ]
  },
  {
   "cell_type": "code",
   "execution_count": 20,
   "metadata": {
    "hidden": true,
    "pycharm": {
     "name": "#%%\n"
    }
   },
   "outputs": [
    {
     "name": "stdout",
     "output_type": "stream",
     "text": [
      "Please enter a number: 1\n",
      "Please enter a number: 2\n",
      "Please enter a number: 3\n",
      "program finished.\n"
     ]
    }
   ],
   "source": [
    "my_bool = True\n",
    "while my_bool:\n",
    "    x = input(\"Please enter a number: \")\n",
    "    if x == \"3\":\n",
    "        my_bool = False\n",
    "print(\"program finished.\")"
   ]
  },
  {
   "cell_type": "markdown",
   "metadata": {
    "heading_collapsed": true,
    "pycharm": {
     "name": "#%% md\n"
    }
   },
   "source": [
    "## 3. Guess a Randomly Generated Integer"
   ]
  },
  {
   "cell_type": "code",
   "execution_count": 21,
   "metadata": {
    "hidden": true,
    "pycharm": {
     "name": "#%%\n"
    }
   },
   "outputs": [],
   "source": [
    "import random"
   ]
  },
  {
   "cell_type": "code",
   "execution_count": 24,
   "metadata": {
    "hidden": true,
    "pycharm": {
     "name": "#%%\n"
    }
   },
   "outputs": [
    {
     "name": "stdout",
     "output_type": "stream",
     "text": [
      "6\n"
     ]
    }
   ],
   "source": [
    "# generate a random integer between 1 and 6, i.e., 1, 2, 3, 4, 5, 6\n",
    "\n",
    "print(x)"
   ]
  },
  {
   "attachments": {},
   "cell_type": "markdown",
   "metadata": {
    "hidden": true,
    "pycharm": {
     "name": "#%% md\n"
    }
   },
   "source": [
    "```{admonition} Tip:\n",
    ":class: tip\n",
    "- ```tab``` to **auto**complete code\n",
    "- ```Shift + tab``` to view the documentation\n",
    "```"
   ]
  },
  {
   "cell_type": "code",
   "execution_count": 1,
   "metadata": {
    "hidden": true,
    "pycharm": {
     "name": "#%%\n"
    }
   },
   "outputs": [
    {
     "ename": "NameError",
     "evalue": "name 'random' is not defined",
     "output_type": "error",
     "traceback": [
      "\u001B[1;31m---------------------------------------------------------------------------\u001B[0m",
      "\u001B[1;31mNameError\u001B[0m                                 Traceback (most recent call last)",
      "\u001B[1;32m<ipython-input-1-3086970dede1>\u001B[0m in \u001B[0;36m<module>\u001B[1;34m\u001B[0m\n\u001B[1;32m----> 1\u001B[1;33m \u001B[0mx\u001B[0m \u001B[1;33m=\u001B[0m \u001B[0mrandom\u001B[0m\u001B[1;33m.\u001B[0m\u001B[0mrandint\u001B[0m\u001B[1;33m(\u001B[0m\u001B[1;36m1\u001B[0m\u001B[1;33m,\u001B[0m \u001B[1;36m6\u001B[0m\u001B[1;33m)\u001B[0m\u001B[1;33m\u001B[0m\u001B[1;33m\u001B[0m\u001B[0m\n\u001B[0m\u001B[0;32m      2\u001B[0m \u001B[0mnum_guess\u001B[0m \u001B[1;33m=\u001B[0m \u001B[1;36m5\u001B[0m\u001B[1;33m\u001B[0m\u001B[1;33m\u001B[0m\u001B[0m\n\u001B[0;32m      3\u001B[0m \u001B[1;33m\u001B[0m\u001B[0m\n\u001B[0;32m      4\u001B[0m \u001B[1;32mwhile\u001B[0m \u001B[0mnum_guess\u001B[0m \u001B[1;33m>\u001B[0m \u001B[1;36m0\u001B[0m\u001B[1;33m:\u001B[0m\u001B[1;33m\u001B[0m\u001B[1;33m\u001B[0m\u001B[0m\n\u001B[0;32m      5\u001B[0m     \u001B[0mguess\u001B[0m \u001B[1;33m=\u001B[0m \u001B[0mint\u001B[0m\u001B[1;33m(\u001B[0m\u001B[0minput\u001B[0m\u001B[1;33m(\u001B[0m\u001B[1;34m\"Enter a number between 1 and 6: \"\u001B[0m\u001B[1;33m)\u001B[0m\u001B[1;33m)\u001B[0m\u001B[1;33m\u001B[0m\u001B[1;33m\u001B[0m\u001B[0m\n",
      "\u001B[1;31mNameError\u001B[0m: name 'random' is not defined"
     ]
    }
   ],
   "source": [
    "x = random.randint(1, 6)\n",
    "num_guess = 5\n",
    "\n",
    "while num_guess > 0:\n",
    "    guess = int(input(\"Enter a number between 1 and 6: \"))\n",
    "    num_guess -= 1\n",
    "    if x > guess:\n",
    "        print(\"Try larger.\")\n",
    "    elif x < guess:\n",
    "        print(\"Try smaller.\")\n",
    "    else:\n",
    "        print(\"Bingo!\")\n",
    "        break    \n",
    "        \n",
    "    if num_guess > 0:\n",
    "        print(str(num_guess) + \" more guesses left.\")\n",
    "    else:\n",
    "        print(\"Sorry, no more guesses.\")"
   ]
  },
  {
   "cell_type": "code",
   "execution_count": null,
   "metadata": {
    "pycharm": {
     "name": "#%%\n"
    }
   },
   "outputs": [],
   "source": []
  }
 ],
 "metadata": {
  "kernelspec": {
   "display_name": "arcgispro-py3",
   "language": "python",
   "name": "python3"
  },
  "language_info": {
   "codemirror_mode": {
    "name": "ipython",
    "version": 3
   },
   "file_extension": ".py",
   "mimetype": "text/x-python",
   "name": "python",
   "nbconvert_exporter": "python",
   "pygments_lexer": "ipython3",
   "version": "3.9.11 [MSC v.1931 64 bit (AMD64)]"
  },
  "vscode": {
   "interpreter": {
    "hash": "ce21b655b4d6c9e397d5ad93d5666c623f49909f6d0cc2f72076dafcf1b3ecfb"
   }
  }
 },
 "nbformat": 4,
 "nbformat_minor": 2
}