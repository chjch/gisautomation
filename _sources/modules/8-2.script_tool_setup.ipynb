{
 "cells": [
  {
   "cell_type": "markdown",
   "id": "5cdbc596",
   "metadata": {},
   "source": [
    "# Build a Script Tool\n",
    "\n",
    "After developing the script, we can now build it into a script tool.\n",
    "\n",
    "## 1. Script tool in custom toolbox\n",
    "\n",
    "Like a ModelBuilder model, a script tool also exists in a toolbox.\n",
    "\n",
    "## 2. Create a new script tool\n",
    "\n",
    "<img src=\"https://live.staticflickr.com/65535/51944863831_b009a5046f_o.png\" width=\"400\"\n",
    "alt=\"create_script\">"
   ]
  },
  {
   "cell_type": "markdown",
   "id": "dfdc4574",
   "metadata": {},
   "source": [
    "## 3. Configure the \"General\" tab\n",
    "\n",
    "- Name: for operation (alphanumeric only and no spaces)\n",
    "- Label: for display (all characters allowed)\n",
    "- Link the script (`.py` file) to the tool\n",
    "\n",
    "<img src=\"https://live.staticflickr.com/65535/51945181259_f8f27d4b2e_o.png\" alt=\"wizard_general\">"
   ]
  },
  {
   "cell_type": "markdown",
   "id": "83355901",
   "metadata": {},
   "source": [
    "## 4. Configure the \"Parameter\" tab\n",
    "\n",
    "- Name and label for each parameter\n",
    "- Data Type: Feature Class, Field, String, Number (short, long, double), Boolean, and [other](https://desktop.arcgis.com/en/arcmap/10.3/tools/supplement/pdf/Geoprocessing_data_types.pdf)\n",
    "- Type: Required or Optional\n",
    "- Direction: Input (in most situation) or Output\n",
    "\n",
    "<img src=\"https://live.staticflickr.com/65535/51945473950_de9c5bffce_o.png\" alt=\"wizard_parameter\">\n",
    "\n",
    "Checkout the [Official Documententation](https://pro.arcgis.com/en/pro-app/arcpy/geoprocessing_and_python/setting-script-tool-parameters.htm#GUID-852D5C7F-B0EE-41A2-B6F8-1A86CD1DE3E7)."
   ]
  },
  {
   "cell_type": "markdown",
   "id": "497a5cf2",
   "metadata": {},
   "source": [
    "## 5. Access parameters values\n",
    "\n",
    "One advantage of using a script tool is that it can work with user-defined inputs.\n",
    "Here's how it works.\n",
    "\n",
    "- `arcpy.GetParameterAsText()`\n",
    "- access by position of the parameter, e.g., `arcpy.GetParameterAsText(0)`"
   ]
  },
  {
   "cell_type": "code",
   "execution_count": 7,
   "id": "aed11337",
   "metadata": {},
   "outputs": [],
   "source": [
    "import arcpy\n",
    "\n",
    "# Define hard-coded parameter\n",
    "I75_fc = \"I75\"\n",
    "blkgrp_fc = \"blockgroups\"\n",
    "cntbnd_fc = \"county_boundary\"\n",
    "lawenforce_fc = \"law_enforcement\""
   ]
  },
  {
   "cell_type": "code",
   "execution_count": null,
   "id": "189cd1f9",
   "metadata": {
    "tags": [
     "remove-output"
    ]
   },
   "outputs": [],
   "source": [
    "# Access soft-coded parameter\n",
    "I75 = arcpy.GetParameterAsText(1)\n",
    "blkgrp = arcpy.GetParameterAsText(0)\n",
    "cntbnd = arcpy.GetParameterAsText(2)\n",
    "lawenforce = arcpy.GetParameterAsText(3)"
   ]
  },
  {
   "cell_type": "code",
   "execution_count": null,
   "id": "25dbb7c0",
   "metadata": {
    "tags": [
     "remove-output"
    ]
   },
   "outputs": [],
   "source": [
    "output_gdb = arcpy.GetParameterAsText(4)\n",
    "blkgrp_select = arcpy.GetParameterAsText(5)"
   ]
  },
  {
   "cell_type": "code",
   "execution_count": null,
   "id": "08f3104b",
   "metadata": {},
   "outputs": [],
   "source": [
    "# intermediate output\n",
    "I75_buff = output_gdb + \"\\\\\" + \"I75_Buff\"\n",
    "blkgrp_law = output_gdb + \"\\\\\" + \"blkgrp_law\""
   ]
  }
 ],
 "metadata": {
  "celltoolbar": "Edit Metadata",
  "kernelspec": {
   "display_name": "Python 3 (ipykernel)",
   "language": "python",
   "name": "python3"
  },
  "language_info": {
   "codemirror_mode": {
    "name": "ipython",
    "version": 3
   },
   "file_extension": ".py",
   "mimetype": "text/x-python",
   "name": "python",
   "nbconvert_exporter": "python",
   "pygments_lexer": "ipython3",
   "version": "3.9.16"
  },
  "vscode": {
   "interpreter": {
    "hash": "ce21b655b4d6c9e397d5ad93d5666c623f49909f6d0cc2f72076dafcf1b3ecfb"
   }
  }
 },
 "nbformat": 4,
 "nbformat_minor": 5
}
