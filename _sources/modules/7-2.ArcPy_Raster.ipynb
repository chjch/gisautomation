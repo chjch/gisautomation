{
 "cells": [
  {
   "cell_type": "markdown",
   "metadata": {},
   "source": [
    "# Run Raster Geoprocessing using ArcPy\n",
    "\n",
    "## 1. Set \"mesc\" for ArcPy processing"
   ]
  },
  {
   "cell_type": "code",
   "execution_count": 1,
   "metadata": {},
   "outputs": [],
   "source": [
    "import arcpy\n",
    "\n",
    "gdb_worksp = r\"..\\data\\class_data.gdb\"\n",
    "arcpy.env.workspace = gdb_worksp"
   ]
  },
  {
   "cell_type": "markdown",
   "metadata": {},
   "source": [
    "### 1.1 `env` object\n",
    "\n",
    "The [env](https://pro.arcgis.com/en/pro-app/arcpy/classes/env.htm) object exposes\n",
    "**environment settings** for geoprocessing functions in ArcGIS.\n",
    "\n",
    "These properties can be used to retrieve (_read_) the current values or to set\n",
    "(_write_) them.\n",
    "\n",
    "Geoprocessing environment settings can be thought of as **additional parameters**\n",
    "that affect a tool's results.\n",
    "\n",
    "### 1.2 Set mask\n",
    "\n",
    "We can set the \"mask\" of a geoprocessing tool using a feature class."
   ]
  },
  {
   "cell_type": "code",
   "execution_count": null,
   "metadata": {},
   "outputs": [],
   "source": [
    "arcpy.env.mask = \"county_boundary\""
   ]
  },
  {
   "cell_type": "markdown",
   "metadata": {},
   "source": [
    "It can also be set by a raster dataset."
   ]
  },
  {
   "cell_type": "code",
   "execution_count": null,
   "metadata": {},
   "outputs": [],
   "source": [
    "arcpy.env.mask = \"dem\""
   ]
  },
  {
   "cell_type": "markdown",
   "metadata": {},
   "source": [
    "### 1.3 Set extent and Read extent\n",
    "\n",
    "Similarly, we can set the _processing_ \"extent\" using a feature class."
   ]
  },
  {
   "cell_type": "code",
   "execution_count": null,
   "metadata": {},
   "outputs": [],
   "source": [
    "arcpy.env.extent = \"county_boundary\""
   ]
  },
  {
   "cell_type": "markdown",
   "metadata": {},
   "source": [
    "Or, a raster dataset."
   ]
  },
  {
   "cell_type": "code",
   "execution_count": null,
   "metadata": {},
   "outputs": [],
   "source": [
    "arcpy.env.extent = \"dem\""
   ]
  },
  {
   "cell_type": "markdown",
   "metadata": {},
   "source": [
    "The extent is essentially defined by 4 numbers: top, left, bottom, right.\n",
    "For example, we can read the left, right, top, bottom coordinates of the extent setting."
   ]
  },
  {
   "cell_type": "code",
   "execution_count": null,
   "metadata": {},
   "outputs": [],
   "source": [
    "extent_info = \"Left:\\t{}\\nRight:\\t{}\\nTop:\\t{}\\nBottom:\\t{}\".format(\n",
    "    arcpy.env.extent.XMin, \n",
    "    arcpy.env.extent.XMax, \n",
    "    arcpy.env.extent.YMax, \n",
    "    arcpy.env.extent.YMin\n",
    ")"
   ]
  },
  {
   "cell_type": "code",
   "execution_count": null,
   "metadata": {},
   "outputs": [],
   "source": [
    "print(extent_info)"
   ]
  },
  {
   "cell_type": "markdown",
   "metadata": {},
   "source": [
    "### 1.4 Set snap raster\n",
    "\n",
    "Since \"snap raster\" is a raster itself, so it can only be set by a raster dataset."
   ]
  },
  {
   "cell_type": "code",
   "execution_count": null,
   "metadata": {},
   "outputs": [],
   "source": [
    "arcpy.env.snapRaster = \"dem\""
   ]
  },
  {
   "cell_type": "markdown",
   "metadata": {},
   "source": [
    "### 1.5 Set cell size\n",
    "\n",
    "We can set the output raster's cell size by another raster."
   ]
  },
  {
   "cell_type": "code",
   "execution_count": null,
   "metadata": {},
   "outputs": [],
   "source": [
    "arcpy.env.cellSize = \"dem\""
   ]
  },
  {
   "cell_type": "markdown",
   "metadata": {},
   "source": [
    "Or a number. Note that this number is in the default **linear unit** defined by the raster's spatial reference."
   ]
  },
  {
   "cell_type": "code",
   "execution_count": null,
   "metadata": {},
   "outputs": [],
   "source": [
    "arcpy.env.cellSize = 90"
   ]
  },
  {
   "cell_type": "markdown",
   "metadata": {},
   "source": [
    "## 2. Run Raster Functions using ArcPy"
   ]
  },
  {
   "cell_type": "code",
   "execution_count": null,
   "metadata": {},
   "outputs": [],
   "source": [
    "# setup \"mesc\"\n",
    "\n",
    "cntbnd_fc = \"county_boundary\"\n",
    "dem_rast = \"dem\"\n",
    "\n",
    "arcpy.env.mask = cntbnd_fc\n",
    "arcpy.env.extent = cntbnd_fc\n",
    "arcpy.env.snapRaster = None\n",
    "arcpy.env.cellSize = 30"
   ]
  },
  {
   "cell_type": "markdown",
   "metadata": {},
   "source": [
    "### 2.1 Setup output geodatabase\n",
    "\n",
    "Recall the ways we can define an output feature class [here](4-3.ArcPy_selection.html#save-layer-selection-to-a-feature-class)."
   ]
  },
  {
   "cell_type": "code",
   "execution_count": 4,
   "metadata": {},
   "outputs": [
    {
     "data": {
      "text/plain": [
       "'..\\\\data\\\\output_data.gdb\\\\out_rast'"
      ]
     },
     "execution_count": 4,
     "metadata": {},
     "output_type": "execute_result"
    }
   ],
   "source": [
    "import os\n",
    "\n",
    "output_gdb = r\"..\\data\\output_data.gdb\"\n",
    "os.path.join(output_gdb, 'out_rast')"
   ]
  },
  {
   "cell_type": "code",
   "execution_count": null,
   "metadata": {},
   "outputs": [],
   "source": [
    "output_gdb + \"\\\\\" + 'out_rast' # with string concatnation"
   ]
  },
  {
   "cell_type": "code",
   "execution_count": null,
   "metadata": {},
   "outputs": [],
   "source": [
    "\"{}\\{}\".format(output_gdb, 'out_rast') # with .format function"
   ]
  },
  {
   "cell_type": "code",
   "execution_count": null,
   "metadata": {},
   "outputs": [],
   "source": [
    "output_gdb = os.path.abspath(output_gdb)"
   ]
  },
  {
   "cell_type": "markdown",
   "metadata": {},
   "source": [
    "### 2.2 Euclidean Distance"
   ]
  },
  {
   "cell_type": "code",
   "execution_count": null,
   "metadata": {
    "hide_input": false
   },
   "outputs": [],
   "source": [
    "?arcpy.sa.EucDistance"
   ]
  },
  {
   "cell_type": "code",
   "execution_count": 6,
   "metadata": {},
   "outputs": [],
   "source": [
    "school_fc = \"schools\""
   ]
  },
  {
   "cell_type": "code",
   "execution_count": 7,
   "metadata": {
    "tags": [
     "remove-cell"
    ]
   },
   "outputs": [],
   "source": [
    "school_fc = os.path.join(gdb_worksp, school_fc)\n",
    "school_fc = os.path.abspath(school_fc)\n",
    "arcpy.env.workspace = None"
   ]
  },
  {
   "cell_type": "code",
   "execution_count": 9,
   "metadata": {},
   "outputs": [],
   "source": [
    "school_dist_rast = arcpy.sa.EucDistance(school_fc)   # without setting cell_size\n",
    "school_dist_rast.save(os.path.join(output_gdb, 'school_dist_rast'))"
   ]
  },
  {
   "cell_type": "markdown",
   "metadata": {},
   "source": [
    "### 2.3 Slice"
   ]
  },
  {
   "cell_type": "code",
   "execution_count": null,
   "metadata": {},
   "outputs": [],
   "source": [
    "?arcpy.sa.Slice"
   ]
  },
  {
   "cell_type": "code",
   "execution_count": null,
   "metadata": {},
   "outputs": [],
   "source": [
    "arcpy.env.snapRaster = school_dist_rast\n",
    "\n",
    "school_dist_1_9 = arcpy.sa.Slice(\n",
    "    school_dist_rast,\n",
    "    number_zones=9, \n",
    "    slice_type=\"NATURAL_BREAKS\",\n",
    "    base_output_zone=1\n",
    ")\n",
    "\n",
    "school_dist_1_9.save(output_gdb + \"\\\\\" + \"school_dist_1_9\")"
   ]
  },
  {
   "cell_type": "markdown",
   "metadata": {},
   "source": [
    "### 2.4 Reclassify\n",
    "\n",
    "- [_RemapValue_](https://pro.arcgis.com/en/pro-app/arcpy/spatial-analyst/remapvalue-class.htm) object takes **a list of lists**, with the inner lists being composed of 2 parts\n",
    "    + oldValue\n",
    "    + newValue\n",
    "- [_RemapRange_](https://pro.arcgis.com/en/pro-app/arcpy/spatial-analyst/an-overview-of-transformation-classes.htm) object takes **a list of lists**, with the inner lists being composed of 3 parts\n",
    "    + startValue\n",
    "    + endValue\n",
    "    + newvalue"
   ]
  },
  {
   "cell_type": "code",
   "execution_count": null,
   "metadata": {},
   "outputs": [],
   "source": [
    "?arcpy.sa.Reclassify"
   ]
  },
  {
   "cell_type": "code",
   "execution_count": null,
   "metadata": {},
   "outputs": [],
   "source": [
    "dist_remap = arcpy.sa.RemapValue(\n",
    "    [[1, 9], [2, 8], [3, 7], [4, 6],\n",
    "     [6, 4], [7, 3], [8, 2], [9, 1]]\n",
    ")\n",
    "\n",
    "school_dist_9_1 = arcpy.sa.Reclassify(school_dist_1_9, \"Value\", dist_remap)\n",
    "school_dist_9_1.save(\"{}\\{}\".format(output_gdb, \"school_dist_9_1\"))"
   ]
  },
  {
   "cell_type": "markdown",
   "metadata": {},
   "source": [
    "### 2.5 Map Algebra directly operated on rasters"
   ]
  },
  {
   "cell_type": "code",
   "execution_count": null,
   "metadata": {},
   "outputs": [],
   "source": [
    "school_dist_wgted = school_dist_9_1*0.3 + school_dist_1_9*0.7\n",
    "school_dist_wgted.save(os.path.join(output_gdb, \"school_dist_wgted\"))"
   ]
  },
  {
   "cell_type": "code",
   "execution_count": null,
   "metadata": {},
   "outputs": [],
   "source": [
    "?arcpy.sa.Int"
   ]
  },
  {
   "cell_type": "code",
   "execution_count": null,
   "metadata": {},
   "outputs": [],
   "source": [
    "# without defining a variable to store the output raster\n",
    "\n",
    "arcpy.sa.Int(school_dist_wgted).save(\n",
    "    os.path.join(output_gdb, \"school_dist_wgted_int\")\n",
    ")"
   ]
  }
 ],
 "metadata": {
  "celltoolbar": "Edit Metadata",
  "kernelspec": {
   "display_name": "Python 3 (ipykernel)",
   "language": "python",
   "name": "python3"
  },
  "language_info": {
   "codemirror_mode": {
    "name": "ipython",
    "version": 3
   },
   "file_extension": ".py",
   "mimetype": "text/x-python",
   "name": "python",
   "nbconvert_exporter": "python",
   "pygments_lexer": "ipython3",
   "version": "3.9.16"
  },
  "vscode": {
   "interpreter": {
    "hash": "4512e868ce03776b2acb55696d863bcca535b363b5450b1af05055989d5d969c"
   }
  }
 },
 "nbformat": 4,
 "nbformat_minor": 2
}
