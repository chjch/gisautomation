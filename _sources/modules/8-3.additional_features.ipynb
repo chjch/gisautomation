{
 "cells": [
  {
   "cell_type": "markdown",
   "id": "7bfccc5d",
   "metadata": {},
   "source": [
    "#  More Script Tool Features\n",
    "\n",
    "## 1. Add Message to the running window\n",
    "\n",
    "When a tool is run, ArcPy identifies the application it is called from. This allows you to write messages in Python. Those messages automatically appear on the tool dialog box, in Geoprocessing history, and in the Python window. It also means that any model or script tool that calls your tool has access to the messages you write.\n",
    "\n",
    "One of the most used function to write communication message is `arcpy.AddMessage()`. To see other functions, check out\n",
    "[script tool message](https://pro.arcgis.com/en/pro-app/latest/arcpy/geoprocessing_and_python/writing-messages-in-script-tools.htm)."
   ]
  },
  {
   "cell_type": "code",
   "execution_count": null,
   "id": "829efbc8",
   "metadata": {
    "tags": [
     "remove-output"
    ]
   },
   "outputs": [],
   "source": [
    "# setup workspace\n",
    "import arcpy\n",
    "gdb_worksp = r\"..\\data\\class_data.gdb\"\n",
    "arcpy.env.workspace = gdb_worksp\n",
    "\n",
    "# setup input feature classes\n",
    "# Access soft-coded parameter\n",
    "I75 = arcpy.GetParameterAsText(1)\n",
    "blkgrp = arcpy.GetParameterAsText(0)\n",
    "cntbnd = arcpy.GetParameterAsText(2)\n",
    "lawenforce = arcpy.GetParameterAsText(3)\n",
    "\n",
    "# setup output feature\n",
    "output_gdb = arcpy.GetParameterAsText(4)\n",
    "blkgrp_select = arcpy.GetParameterAsText(5)\n",
    "I75_buff = output_gdb + \"\\\\\" + \"I75_Buff\"\n",
    "blkgrp_law = output_gdb + \"\\\\\" + \"blkgrp_law\"\n",
    "\n",
    "# geoprocessing operations \n",
    "arcpy.Buffer_analysis(I75, I75_buff, \"6 Miles\")\n",
    "arcpy.AddMessage(\"Finished buffer {}\".format(I75))\n",
    "\n",
    "blkgrp_lyr_1 = arcpy.SelectLayerByLocation_management(\n",
    "    blkgrp, \"WITHIN\", cntbnd\n",
    ")\n",
    "blkgrp_lyr_2 = arcpy.SelectLayerByLocation_management(\n",
    "    blkgrp_lyr_1, \"WITHIN\", I75_buff\n",
    ")\n",
    "arcpy.AddMessage(\"Finished Select by location.\")\n",
    "\n",
    "arcpy.SpatialJoin_analysis(\n",
    "    blkgrp_lyr_2, lawenforce, blkgrp_law, \n",
    "    \"JOIN_ONE_TO_ONE\", \"KEEP_ALL\", \"\", \"INTERSECT\", \"\", \"\"\n",
    ")\n",
    "arcpy.AddMessage(\"Finished creating {}\".format(blkgrp_law))\n",
    "\n",
    "query_exp = \"{} = 0\".format('\"Join_Count\"')\n",
    "arcpy.FeatureClassToFeatureClass_conversion(\n",
    "    blkgrp_law, output_gdb, blkgrp_select, query_exp, \"\", \"\"\n",
    ")\n",
    "arcpy.AddMessage(\"All tasks are completed.\")"
   ]
  },
  {
   "cell_type": "markdown",
   "id": "abf57bec",
   "metadata": {},
   "source": [
    "## 2. Add Progress bar\n",
    "\n",
    "A progressor object to support progress information to be displayed in the Geoprocessing pane.\n",
    "It is useful when dealing with time-consuming geoprocessing tasks.\n",
    "\n",
    "We use `arcpy.SetProgressor()` to create a **progressor** object. There are two types of progressors\n",
    "\n",
    "- default progressor<br>\n",
    "  ![progressor_default](../_static/images/progressor_default.png)\n",
    "- step progressor<br>\n",
    "  ![progrssor_step](../_static/images/progressor_step.png)\n",
    "\n",
    "There are two other functions we can use to update the progressor.\n",
    "\n",
    "- `arcpy.SetProgressorPosition()`: Moves the step progressor by an increment.\n",
    "- `arcpy.ResetProgressor()`: Resets the progressor."
   ]
  },
  {
   "cell_type": "code",
   "execution_count": null,
   "id": "1360967e",
   "metadata": {
    "tags": [
     "remove-output"
    ]
   },
   "outputs": [],
   "source": [
    "import arcpy\n",
    "gdb_worksp = r\"..\\data\\class_data.gdb\"\n",
    "arcpy.env.workspace = gdb_worksp\n",
    "\n",
    "# setup input feature classes\n",
    "# Access soft-coded parameter\n",
    "I75 = arcpy.GetParameterAsText(1)\n",
    "blkgrp = arcpy.GetParameterAsText(0)\n",
    "cntbnd = arcpy.GetParameterAsText(2)\n",
    "lawenforce = arcpy.GetParameterAsText(3)\n",
    "\n",
    "# setup output feature\n",
    "output_gdb = arcpy.GetParameterAsText(4)\n",
    "blkgrp_select = arcpy.GetParameterAsText(5)\n",
    "I75_buff = output_gdb + \"\\\\\" + \"I75_Buff\"\n",
    "blkgrp_law = output_gdb + \"\\\\\" + \"blkgrp_law\"\n",
    "\n",
    "# geoprocessing operations \n",
    "arcpy.SetProgressor(\"step\", \"tool running\", 0, 5, 1)\n",
    "arcpy.Buffer_analysis(I75, I75_buff, \"6 Miles\")\n",
    "arcpy.AddMessage(\"Finished buffer {}\".format(I75))\n",
    "arcpy.SetProgressorPosition()\n",
    "\n",
    "blkgrp_lyr_1 = arcpy.SelectLayerByLocation_management(\n",
    "    blkgrp, \"WITHIN\", cntbnd\n",
    ")\n",
    "arcpy.SetProgressorPosition()\n",
    "blkgrp_lyr_2 = arcpy.SelectLayerByLocation_management(\n",
    "    blkgrp_lyr_1, \"WITHIN\", I75_buff\n",
    ")\n",
    "arcpy.SetProgressorPosition()\n",
    "arcpy.AddMessage(\"Finished Select by location.\")\n",
    "\n",
    "arcpy.SpatialJoin_analysis(\n",
    "    blkgrp_lyr_2, lawenforce, blkgrp_law, \n",
    "    \"JOIN_ONE_TO_ONE\", \"KEEP_ALL\", \"\", \"INTERSECT\", \"\", \"\"\n",
    ")\n",
    "arcpy.AddMessage(\"Finished creating {}\".format(blkgrp_law))\n",
    "arcpy.SetProgressorPosition()\n",
    "\n",
    "query_exp = \"{} = 0\".format('\"Join_Count\"')\n",
    "arcpy.FeatureClassToFeatureClass_conversion(\n",
    "    blkgrp_law, output_gdb, blkgrp_select, query_exp, \"\", \"\"\n",
    ")\n",
    "arcpy.AddMessage(\"All tasks are completed.\")\n",
    "arcpy.SetProgressorPosition()\n",
    "arcpy.ResetProgressor()"
   ]
  },
  {
   "cell_type": "markdown",
   "id": "1b9db05a",
   "metadata": {},
   "source": [
    "## 3. Add an Overwrite Checkbox\n",
    "\n",
    "To add a checkbox for overwrite existing data, we can set a parameter using:\n",
    "\n",
    "- Data Type: **Boolean**\n",
    "- Type: **Optional**\n",
    "- Default: **False**\n",
    "\n",
    "Then, access its value in the tool using `arcpy.GetParameter()`."
   ]
  },
  {
   "cell_type": "code",
   "execution_count": null,
   "id": "2c336535",
   "metadata": {
    "tags": [
     "remove-output"
    ]
   },
   "outputs": [],
   "source": [
    "import arcpy\n",
    "gdb_worksp = r\"..\\data\\class_data.gdb\"\n",
    "arcpy.env.workspace = gdb_worksp\n",
    "\n",
    "# setup input feature classes\n",
    "# Access soft-coded parameter\n",
    "I75 = arcpy.GetParameterAsText(1)\n",
    "blkgrp = arcpy.GetParameterAsText(0)\n",
    "cntbnd = arcpy.GetParameterAsText(2)\n",
    "lawenforce = arcpy.GetParameterAsText(3)\n",
    "\n",
    "# setup output feature\n",
    "output_gdb = arcpy.GetParameterAsText(4)\n",
    "blkgrp_select = arcpy.GetParameterAsText(5)\n",
    "I75_buff = output_gdb + \"\\\\\" + \"I75_Buff\"\n",
    "blkgrp_law = output_gdb + \"\\\\\" + \"blkgrp_law\"\n",
    "\n",
    "ow = arcpy.GetParameter(6)\n",
    "if ow is True:\n",
    "    arcpy.env.overwriteOutput = True\n",
    "arcpy.AddMessage(str(ow))\n",
    "\n",
    "# geoprocessing operations \n",
    "arcpy.SetProgressor(\"step\", \"tool running\", 0, 5, 1)\n",
    "arcpy.Buffer_analysis(I75, I75_buff, \"6 Miles\")\n",
    "arcpy.AddMessage(\"Finished buffer {}\".format(I75))\n",
    "arcpy.SetProgressorPosition()\n",
    "\n",
    "blkgrp_lyr_1 = arcpy.SelectLayerByLocation_management(\n",
    "    blkgrp, \"WITHIN\", cntbnd\n",
    ")\n",
    "arcpy.SetProgressorPosition()\n",
    "blkgrp_lyr_2 = arcpy.SelectLayerByLocation_management(\n",
    "    blkgrp_lyr_1, \"WITHIN\", I75_buff\n",
    ")\n",
    "arcpy.SetProgressorPosition()\n",
    "arcpy.AddMessage(\"Finished Select by location.\")\n",
    "\n",
    "arcpy.SpatialJoin_analysis(\n",
    "    blkgrp_lyr_2, lawenforce, blkgrp_law, \n",
    "    \"JOIN_ONE_TO_ONE\", \"KEEP_ALL\", \"\", \"INTERSECT\", \"\", \"\"\n",
    ")\n",
    "arcpy.AddMessage(\"Finished creating {}\".format(blkgrp_law))\n",
    "arcpy.SetProgressorPosition()\n",
    "\n",
    "query_exp = \"{} = 0\".format('\"Join_Count\"')\n",
    "arcpy.FeatureClassToFeatureClass_conversion(\n",
    "    blkgrp_law, output_gdb, blkgrp_select, query_exp, \"\", \"\"\n",
    ")\n",
    "arcpy.AddMessage(\"All tasks are completed.\")\n",
    "arcpy.SetProgressorPosition()\n",
    "arcpy.ResetProgressor()"
   ]
  },
  {
   "cell_type": "markdown",
   "id": "3f5cfc60",
   "metadata": {},
   "source": [
    "## 4. Useful resource\n",
    "\n",
    "- [A quick tour of creating tools with Python](https://pro.arcgis.com/en/pro-app/arcpy/geoprocessing_and_python/a-quick-tour-of-creating-tools-in-python.htm)\n",
    "- [Comparing custom and Python toolboxes](https://pro.arcgis.com/en/pro-app/arcpy/geoprocessing_and_python/comparing-custom-and-python-toolboxes.htm)\n",
    "- [Creating script tools in a custom toolbox](https://pro.arcgis.com/en/pro-app/arcpy/geoprocessing_and_python/adding-a-script-tool.htm)\n",
    "- [Customizing script tool behavor](https://pro.arcgis.com/en/pro-app/arcpy/geoprocessing_and_python/customizing-script-tool-behavior.htm)\n",
    "- [Programming a ToolValidator class](https://pro.arcgis.com/en/pro-app/arcpy/geoprocessing_and_python/programming-a-toolvalidator-class.htm)"
   ]
  }
 ],
 "metadata": {
  "celltoolbar": "Edit Metadata",
  "kernelspec": {
   "display_name": "Python 3 (ipykernel)",
   "language": "python",
   "name": "python3"
  },
  "language_info": {
   "codemirror_mode": {
    "name": "ipython",
    "version": 3
   },
   "file_extension": ".py",
   "mimetype": "text/x-python",
   "name": "python",
   "nbconvert_exporter": "python",
   "pygments_lexer": "ipython3",
   "version": "3.9.16"
  },
  "vscode": {
   "interpreter": {
    "hash": "4512e868ce03776b2acb55696d863bcca535b363b5450b1af05055989d5d969c"
   }
  }
 },
 "nbformat": 4,
 "nbformat_minor": 5
}
