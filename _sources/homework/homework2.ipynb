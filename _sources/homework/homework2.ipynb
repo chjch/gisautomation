{
 "cells": [
  {
   "cell_type": "markdown",
   "metadata": {
    "pycharm": {
     "name": "#%% md\n"
    }
   },
   "source": [
    "# Homework 2\n",
    "\n",
    "## Assignment Instruction\n",
    "\n",
    "- Create a new Jupyter Notebook file to work on the following questions.\n",
    "- Run your codes to ensure the output is the same as the expected result of each question.\n",
    "- Rename your Jupyter Notebook (the `.ipynb` file) as `HW2_<LASTNAME>.ipynb`, e.g., `HW2_CHEN.ipynb`.\n",
    "- Submit this Jupyter Notebook no later than the deadline posted in the course schedule on Canvas."
   ]
  },
  {
   "cell_type": "markdown",
   "metadata": {
    "pycharm": {
     "name": "#%% md\n"
    }
   },
   "source": [
    "### 1. Create a list of cities\n",
    "\n",
    "- create a **list** variable named `cities` that contains top 20 cities in the world,\n",
    "- print the variable.\n",
    "    \n",
    "**<center>[Top 20](https://en.wikipedia.org/wiki/List_of_largest_cities) largest city in the world</center>**\n",
    "\n",
    "| ID | Name           | Country        | Continent     | UN Estimation (2018) | Urban Area |\n",
    "|----|----------------|----------------|---------------|----------------------|------------|\n",
    "| 1  | Tokyo          |  Japan         | Asia          | 37,400,068           | 4,751      |\n",
    "| 2  | Delhi          |  India         | Asia          | 28,514,000           | 14,272     |\n",
    "| 3  | Shanghai       |  China         | Asia          | 25,582,000           | 5,436      |\n",
    "| 4  | Sao Paulo      |  Brazil        | South America | 21,650,000           | 6,949      |\n",
    "| 5  | Mexico City    |  Mexico        | South America | 21,581,000           | 9,017      |\n",
    "| 6  | Cairo          |  Egypt         | Africa        | 20,076,000           | 9,844      |\n",
    "| 7  | Mumbai         |  India         | Asia          | 19,980,000           | 22,010     |\n",
    "| 8  | Beijing        |  China         | Asia          | 19,618,000           | 4,659      |\n",
    "| 9  | Dhaka          |  Bangladesh    | Asia          | 19,578,000           | 36,928     |\n",
    "| 10 | Osaka          |  Japan         | Asia          | 19,281,000           | 5,129      |\n",
    "| 11 | New York       |  United States | North America | 18,819,000           | 684        |\n",
    "| 12 | Karachi        |  Pakistan      | Asia          | 15,400,000           | 14,648     |\n",
    "| 13 | Buenos Aires   |  Argentina     | South America | 14,967,000           | 5,033      |\n",
    "| 14 | Chongqing      |  China         | Asia          | 14,838,000           | 5,378      |\n",
    "| 15 | Istanbul       |  Turkey        | Europe        | 14,751,000           | 11,135     |\n",
    "| 16 | Kolkata        |  India         | Asia          | 14,681,000           | 13,830     |\n",
    "| 17 | Manila         |  Philippines   | Asia          | 13,482,000           | 12,798     |\n",
    "| 18 | Lagos          |  Nigeria       | Africa        | 13,463,000           | 7,877      |\n",
    "| 19 | Rio de Janeiro |  Brazil        | South America | 13,293,000           | 6,181      |\n",
    "| 20 | Tianjin        |  China         | Asia          | 13,215,000           | 3,886      |"
   ]
  },
  {
   "cell_type": "code",
   "execution_count": null,
   "metadata": {},
   "outputs": [],
   "source": [
    "# write your code below\n"
   ]
  },
  {
   "cell_type": "code",
   "execution_count": 7,
   "metadata": {
    "ExecuteTime": {
     "end_time": "2024-01-15T23:01:40.898364Z",
     "start_time": "2024-01-15T23:01:40.877171200Z"
    },
    "pycharm": {
     "name": "#%%\n"
    },
    "tags": [
     "remove-input"
    ]
   },
   "outputs": [
    {
     "name": "stdout",
     "output_type": "stream",
     "text": [
      "Tokyo, Delhi, Shanghai, Sao Paulo, Mexico City, Cairo, Mumbai, Beijing, Dhaka, Osaka, New York, Karachi, Buenos Aires, Chongqing, Istanbul, Kolkata, Manila, Lagos, Rio de Janeiro, Tianjin\n"
     ]
    }
   ],
   "source": [
    "cities = [\n",
    "    'Tokyo', 'Delhi', 'Shanghai', 'Sao Paulo', 'Mexico City',\n",
    "    'Cairo', 'Mumbai', 'Beijing', 'Dhaka', 'Osaka', 'New York',\n",
    "    'Karachi', 'Buenos Aires', 'Chongqing', 'Istanbul', 'Kolkata',\n",
    "    'Manila', 'Lagos', 'Rio de Janeiro', 'Tianjin'\n",
    "]\n",
    "print(', '.join(cities))"
   ]
  },
  {
   "cell_type": "markdown",
   "metadata": {
    "pycharm": {
     "name": "#%% md\n"
    }
   },
   "source": [
    "### 2. Calculate the ratio of Asian cities in the list\n",
    "\n",
    "- create a new list called `asian_cities`.\n",
    "- print the variable."
   ]
  },
  {
   "cell_type": "code",
   "execution_count": null,
   "metadata": {
    "pycharm": {
     "name": "#%%\n"
    }
   },
   "outputs": [],
   "source": [
    "# write your code below\n"
   ]
  },
  {
   "cell_type": "code",
   "execution_count": 8,
   "metadata": {
    "tags": [
     "remove-input"
    ]
   },
   "outputs": [
    {
     "name": "stdout",
     "output_type": "stream",
     "text": [
      "Tokyo, Delhi, Shanghai, Mumbai, Beijing, Dhaka, Osaka, Karachi, Chongqing, Kolkata, Manila, Tianjin\n"
     ]
    }
   ],
   "source": [
    "asian_cities = [\n",
    "    'Tokyo', 'Delhi', 'Shanghai', 'Mumbai',\n",
    "    'Beijing', 'Dhaka', 'Osaka', 'Karachi',\n",
    "    'Chongqing', 'Kolkata','Manila', 'Tianjin'\n",
    "]\n",
    "print(', '.join(asian_cities))"
   ]
  },
  {
   "cell_type": "markdown",
   "metadata": {},
   "source": [
    "- create two new integer variables to calculate the lengths of `cities` and `asian_cities` pectively. \n",
    "- print the two variables. "
   ]
  },
  {
   "cell_type": "code",
   "execution_count": 10,
   "metadata": {
    "tags": [
     "remove-input"
    ]
   },
   "outputs": [
    {
     "name": "stdout",
     "output_type": "stream",
     "text": [
      "20\n",
      "12\n"
     ]
    }
   ],
   "source": [
    "a = len(cities)\n",
    "b = len(asian_cities)\n",
    "print(a)\n",
    "print(b)"
   ]
  },
  {
   "cell_type": "markdown",
   "metadata": {
    "pycharm": {
     "name": "#%% md\n"
    }
   },
   "source": [
    "- Define a new variable called ```ratio```\n",
    "- calculate the ratio by using the two lengths."
   ]
  },
  {
   "cell_type": "code",
   "execution_count": null,
   "metadata": {},
   "outputs": [],
   "source": [
    "# write your code below\n",
    "  "
   ]
  },
  {
   "cell_type": "code",
   "execution_count": 11,
   "metadata": {
    "pycharm": {
     "name": "#%%\n"
    },
    "tags": [
     "remove-input"
    ]
   },
   "outputs": [
    {
     "name": "stdout",
     "output_type": "stream",
     "text": [
      "the ratio is: 0.6\n"
     ]
    }
   ],
   "source": [
    "print(\"the ratio is: \" + str(b / a))"
   ]
  },
  {
   "cell_type": "markdown",
   "metadata": {
    "pycharm": {
     "name": "#%% md\n"
    }
   },
   "source": [
    "### 3. Indexing and Selecting for list and string\n",
    "- Select the 16th item in the `cities` and assign the value to a new variable `city`.\n",
    "- create a new variable, you define its name, that calculates the number of characters in ```city```. \n",
    "- print both variables."
   ]
  },
  {
   "cell_type": "code",
   "execution_count": null,
   "metadata": {
    "pycharm": {
     "name": "#%%\n"
    }
   },
   "outputs": [],
   "source": [
    "# write your code below\n",
    "  "
   ]
  },
  {
   "cell_type": "code",
   "execution_count": 13,
   "metadata": {
    "tags": [
     "remove-input"
    ]
   },
   "outputs": [
    {
     "name": "stdout",
     "output_type": "stream",
     "text": [
      "Kolkata\n",
      "7\n"
     ]
    }
   ],
   "source": [
    "city = cities[15]\n",
    "print(city)\n",
    "print(len(city))"
   ]
  },
  {
   "cell_type": "markdown",
   "metadata": {
    "pycharm": {
     "name": "#%% md\n"
    }
   },
   "source": [
    "- Convert the ```city``` variable to upper case and lower case and assign the results to ```city_upper``` and ```city_lower``` respectively.\n",
    "- print the two new variables"
   ]
  },
  {
   "cell_type": "code",
   "execution_count": null,
   "metadata": {
    "pycharm": {
     "name": "#%%\n"
    }
   },
   "outputs": [],
   "source": [
    "# write your code below\n"
   ]
  },
  {
   "cell_type": "code",
   "execution_count": 16,
   "metadata": {
    "tags": [
     "remove-input"
    ]
   },
   "outputs": [
    {
     "name": "stdout",
     "output_type": "stream",
     "text": [
      "KOLKATA\n",
      "kolkata\n"
     ]
    }
   ],
   "source": [
    "city_upper = city.upper()\n",
    "city_lower = city.lower()\n",
    "print(city_upper)\n",
    "print(city_lower)"
   ]
  },
  {
   "cell_type": "markdown",
   "metadata": {
    "pycharm": {
     "name": "#%% md\n"
    }
   },
   "source": [
    "- obtain the second last (negative index) item of `cities`.\n",
    "- assign the value you retrieved to a new variable `city2`.\n",
    "- concatenate `city` and `city2` (separate with a whitespace) and print the result."
   ]
  },
  {
   "cell_type": "code",
   "execution_count": null,
   "metadata": {
    "pycharm": {
     "name": "#%%\n"
    }
   },
   "outputs": [],
   "source": [
    "# write your code below\n"
   ]
  },
  {
   "cell_type": "code",
   "execution_count": 18,
   "metadata": {
    "tags": [
     "remove-input"
    ]
   },
   "outputs": [
    {
     "name": "stdout",
     "output_type": "stream",
     "text": [
      "Kolkata Rio de Janeiro\n"
     ]
    }
   ],
   "source": [
    "city2 = cities[-2]\n",
    "print(city + ' ' + city2)"
   ]
  },
  {
   "cell_type": "markdown",
   "metadata": {
    "pycharm": {
     "name": "#%% md\n"
    }
   },
   "source": [
    "- Select and print out the middle part of the variable `city2`, i.e., characters between the two spaces.\n",
    "- To do this, you must use proper start and end indices. \n",
    "- Your output should be the same as the following cell."
   ]
  },
  {
   "cell_type": "code",
   "execution_count": null,
   "metadata": {
    "pycharm": {
     "name": "#%%\n"
    }
   },
   "outputs": [],
   "source": [
    "# write your code below\n",
    "  "
   ]
  },
  {
   "cell_type": "code",
   "execution_count": 19,
   "metadata": {
    "tags": [
     "remove-input"
    ]
   },
   "outputs": [
    {
     "name": "stdout",
     "output_type": "stream",
     "text": [
      "de\n"
     ]
    }
   ],
   "source": [
    "print(city2[4:6])"
   ]
  },
  {
   "cell_type": "markdown",
   "metadata": {
    "pycharm": {
     "name": "#%% md\n"
    }
   },
   "source": [
    "- reverse the order of the `cities` and assign the value to a new variable `re_cities`.\n",
    "- print out the value of `re_cities`."
   ]
  },
  {
   "cell_type": "code",
   "execution_count": null,
   "metadata": {
    "pycharm": {
     "name": "#%%\n"
    }
   },
   "outputs": [],
   "source": [
    "# write your code below\n"
   ]
  },
  {
   "cell_type": "code",
   "execution_count": 20,
   "metadata": {
    "tags": [
     "remove-input"
    ]
   },
   "outputs": [
    {
     "name": "stdout",
     "output_type": "stream",
     "text": [
      "['Tianjin', 'Rio de Janeiro', 'Lagos', 'Manila', 'Kolkata', 'Istanbul', 'Chongqing', 'Buenos Aires', 'Karachi', 'New York', 'Osaka', 'Dhaka', 'Beijing', 'Mumbai', 'Cairo', 'Mexico City', 'Sao Paulo', 'Shanghai', 'Delhi', 'Tokyo']\n"
     ]
    }
   ],
   "source": [
    "print(cities[::-1])"
   ]
  },
  {
   "cell_type": "markdown",
   "metadata": {},
   "source": [
    "### 4. Tuple\n",
    "\n",
    "- convert `cities` to a tuple named `cities_tuple`.\n",
    "- print the variable."
   ]
  },
  {
   "cell_type": "code",
   "execution_count": null,
   "metadata": {},
   "outputs": [],
   "source": [
    "# write your code below\n"
   ]
  },
  {
   "cell_type": "code",
   "execution_count": 22,
   "metadata": {
    "tags": [
     "remove-input"
    ]
   },
   "outputs": [
    {
     "name": "stdout",
     "output_type": "stream",
     "text": [
      "('Tokyo', 'Delhi', 'Shanghai', 'Sao Paulo', 'Mexico City', 'Cairo', 'Mumbai', 'Beijing', 'Dhaka', 'Osaka', 'New York', 'Karachi', 'Buenos Aires', 'Chongqing', 'Istanbul', 'Kolkata', 'Manila', 'Lagos', 'Rio de Janeiro', 'Tianjin')\n"
     ]
    }
   ],
   "source": [
    "cities_tuple = tuple(cities)\n",
    "print(cities_tuple)"
   ]
  },
  {
   "cell_type": "markdown",
   "metadata": {},
   "source": [
    "- obtain the top 3 cities from this tuple\n",
    "- use **tuple unpacking** to assign the items of the tuple to `city_1st`, `city_2nd`, and `city_3rd` respectively.\n",
    "- print them out."
   ]
  },
  {
   "cell_type": "code",
   "execution_count": 23,
   "metadata": {
    "tags": [
     "remove-input"
    ]
   },
   "outputs": [
    {
     "name": "stdout",
     "output_type": "stream",
     "text": [
      "Tokyo\n",
      "Delhi\n",
      "Shanghai\n"
     ]
    }
   ],
   "source": [
    "top3_cities = cities_tuple[:3]\n",
    "city_1st, city_2nd, city_3rd = top3_cities\n",
    "print(city_1st)\n",
    "print(city_2nd)\n",
    "print(city_3rd)"
   ]
  },
  {
   "cell_type": "markdown",
   "metadata": {},
   "source": [
    "### 5. Dictionary, Boolean, and `format()` function\n",
    "\n",
    "- create a dictionary called `african_cities`, where\n",
    "    - **key**: the names of the two **African** cities in the `cities` \n",
    "    - **value**: a `list` contains two integers _population_ and _urban area_   \n",
    "\n",
    "| ID | Name           | Country        | Continent     | UN Estimation (2018) | Urban Area |\n",
    "|----|----------------|----------------|---------------|----------------------|------------|\n",
    "| 6  | Cairo          |  Egypt         | Africa        | 20,076,000           | 9,844      |\n",
    "| 18 | Lagos          |  Nigeria       | Africa        | 13,463,000           | 7,877      |\n",
    "\n",
    "- print the dictionary out"
   ]
  },
  {
   "cell_type": "code",
   "execution_count": null,
   "metadata": {},
   "outputs": [],
   "source": [
    "# write your code below\n"
   ]
  },
  {
   "cell_type": "markdown",
   "metadata": {},
   "source": [
    "- use `format()` function to print the following strings\n",
    "    - \"The population of Cario is 20076000 and its urban area is 9844.\"\n",
    "    - \"The population of Lagos is 13463000 and its urban area is 7877.\"\n",
    "- you must substitute the numbers of **population** and **urban area** with the corresponding values and indexing in `african_cities`."
   ]
  },
  {
   "cell_type": "code",
   "execution_count": null,
   "metadata": {},
   "outputs": [],
   "source": [
    "# write your code below\n"
   ]
  },
  {
   "cell_type": "markdown",
   "metadata": {},
   "source": [
    "- create two variables `cario_den` and `lagos_den`\n",
    "- calculate densities i.e., $\\frac{population}{urban\\;area}$ for each city and stores them in the two variables respectively\n",
    "- compare the two variables using a comparison operator (print it out),\n",
    "- which city has a larger population (answer by print statement)?"
   ]
  },
  {
   "cell_type": "code",
   "execution_count": null,
   "metadata": {
    "pycharm": {
     "name": "#%%\n"
    }
   },
   "outputs": [],
   "source": [
    "# write your code below\n",
    "  "
   ]
  },
  {
   "cell_type": "code",
   "execution_count": 28,
   "metadata": {
    "tags": [
     "remove-input"
    ]
   },
   "outputs": [
    {
     "name": "stdout",
     "output_type": "stream",
     "text": [
      "True\n",
      "Cario has a higher population density.\n"
     ]
    }
   ],
   "source": [
    "african_cities = {\n",
    "    'Cario': [20076000, 9844],\n",
    "    'Lagos': [13463000, 7877]\n",
    "}\n",
    "cario_den = african_cities['Cario'][0] / african_cities['Cario'][1]\n",
    "lagos_den = african_cities['Lagos'][0] / african_cities['Lagos'][1]\n",
    "print(cario_den > lagos_den)\n",
    "print(\"Cario has a higher population density.\")"
   ]
  }
 ],
 "metadata": {
  "celltoolbar": "Edit Metadata",
  "kernelspec": {
   "display_name": "Python 3 (ipykernel)",
   "language": "python",
   "name": "python3"
  },
  "language_info": {
   "codemirror_mode": {
    "name": "ipython",
    "version": 3
   },
   "file_extension": ".py",
   "mimetype": "text/x-python",
   "name": "python",
   "nbconvert_exporter": "python",
   "pygments_lexer": "ipython3",
   "version": "3.9.18"
  },
  "varInspector": {
   "cols": {
    "lenName": 16,
    "lenType": 16,
    "lenVar": 40
   },
   "kernels_config": {
    "python": {
     "delete_cmd_postfix": "",
     "delete_cmd_prefix": "del ",
     "library": "var_list.py",
     "varRefreshCmd": "print(var_dic_list())"
    },
    "r": {
     "delete_cmd_postfix": ") ",
     "delete_cmd_prefix": "rm(",
     "library": "var_list.r",
     "varRefreshCmd": "cat(var_dic_list()) "
    }
   },
   "types_to_exclude": [
    "module",
    "function",
    "builtin_function_or_method",
    "instance",
    "_Feature"
   ],
   "window_display": false
  }
 },
 "nbformat": 4,
 "nbformat_minor": 2
}
