{
 "cells": [
  {
   "cell_type": "markdown",
   "metadata": {},
   "source": [
    "# More Statements for Control Flow and Python Exceptions\n",
    "\n",
    "## 1. Control Flow Statements"
   ]
  },
  {
   "cell_type": "code",
   "execution_count": null,
   "metadata": {},
   "outputs": [],
   "source": [
    "import random\n",
    "x = random.randint(1, 6)"
   ]
  },
  {
   "cell_type": "markdown",
   "metadata": {},
   "source": [
    "### 1.1 `break` statement terminate the loop"
   ]
  },
  {
   "cell_type": "code",
   "execution_count": null,
   "metadata": {},
   "outputs": [],
   "source": [
    "# example of break statement (same script from last module)\n",
    "num_guess = 3\n",
    "\n",
    "while num_guess > 0:\n",
    "    guess = int(input(\"Enter a number between 1 and 6: \"))\n",
    "    num_guess -= 1\n",
    "    if x > guess:\n",
    "        print(\"Try larger.\")\n",
    "    elif x < guess:\n",
    "        print(\"Try smaller.\")\n",
    "    else:\n",
    "        print(\"Bingo!\")\n",
    "        break  # using break to terminate the loop although num_guess > 0\n",
    "        \n",
    "    if num_guess > 0:\n",
    "        print(str(num_guess) + \" more guesses left.\")\n",
    "    else:\n",
    "        print(\"Sorry, no more guesses.\")"
   ]
  },
  {
   "cell_type": "markdown",
   "metadata": {},
   "source": [
    "### 1.2 `continue` statement move on to the next iteration\n",
    "\n",
    "The following example allows us to validate the input before evaluate the value of the input number."
   ]
  },
  {
   "cell_type": "code",
   "execution_count": null,
   "metadata": {},
   "outputs": [],
   "source": [
    "num_guess = 3\n",
    "while num_guess > 0:\n",
    "    guess = int(input(\"Enter a number between 1 and 6: \"))\n",
    "    \n",
    "    if guess > 6 or guess < 1:\n",
    "        print(\"Your input is out of range\")\n",
    "        continue\n",
    "    \n",
    "    num_guess -= 1\n",
    "    \n",
    "    if x > guess:\n",
    "        hint = \"Try larger. \"\n",
    "    elif x < guess:\n",
    "        hint = \"Try smaller. \"\n",
    "    else:\n",
    "        print(\"Bingo!\")\n",
    "        break      \n",
    "        \n",
    "    if num_guess > 0:\n",
    "        print(hint + str(num_guess) + \" more guesses left.\")\n",
    "    else:\n",
    "        print(\"You guessed wrong, no more guesses.\")"
   ]
  },
  {
   "cell_type": "markdown",
   "metadata": {},
   "source": [
    "### 1.3 `pass` statement\n",
    "\n",
    "The pass statement does nothing. It can be used when a statement is required syntactically but the program requires no action. "
   ]
  },
  {
   "cell_type": "code",
   "execution_count": null,
   "metadata": {},
   "outputs": [],
   "source": [
    "num_guess = 3\n",
    "while num_guess > 0:\n",
    "    guess = int(input(\"Enter a number between 1 and 6: \"))\n",
    "    num_guess -= 1\n",
    "    \n",
    "    if guess > 6 or guess < 1:\n",
    "        print(\"Your input is out of range\")\n",
    "        continue\n",
    "    else:\n",
    "        if x > guess:\n",
    "            hint = \"Try larger. \"\n",
    "        elif x < guess:\n",
    "            hint = \"Try smaller. \"\n",
    "        else:\n",
    "            print(\"Bingo!\")\n",
    "            break      \n",
    "        \n",
    "    if num_guess > 0:\n",
    "        print(hint + str(num_guess) + \" more guesses left.\")\n",
    "    else:\n",
    "        pass\n",
    "    \n",
    "else: # else on exhaustion of loop\n",
    "    print(\"You guessed wrong, no more guesses.\")"
   ]
  },
  {
   "cell_type": "code",
   "execution_count": null,
   "metadata": {},
   "outputs": [],
   "source": [
    "def my_func():\n",
    "    pass  # a placeholder## Section 3 - Exceptions in Python\n",
    "In general, two types of errors we can encounter in Python:\n",
    "- **syntax error**: also known as _parsing_ error, the _Python interprter_ cannot parse the codes to machine language.\n",
    "- **exception**: _syntactically correct_, cause an error when an attempt is made to execute the codes."
   ]
  },
  {
   "cell_type": "markdown",
   "metadata": {},
   "source": [
    "## 2. Exceptions\n",
    "In general, two types of errors we can encounter in Python:\n",
    "- **syntax error**: also known as _parsing_ error, the _Python interprter_ cannot parse the codes to machine language.\n",
    "- **exception**: _syntactically correct_, cause an error when an attempt is made to execute the codes."
   ]
  },
  {
   "cell_type": "markdown",
   "metadata": {},
   "source": [
    "### 2.1 Syntax Error\n",
    "- most common complaint you get while you are still learning Python\n",
    "- checked first before all exceptions\n",
    "- Examples:\n",
    "    + in `if` statement, use assignment operator, `=`, rather than comparison operator `==`.\n",
    "    + \"if-else\" without colon, `:`.\n",
    "    + `else` without a `if`\n",
    "    + define string with just one quote, or mixed the quotes\n",
    "    + mistyped dots e.g., 1.3.2\n",
    "    \n",
    "**Can you point out the error in the following code**?"
   ]
  },
  {
   "cell_type": "code",
   "execution_count": null,
   "metadata": {},
   "outputs": [],
   "source": [
    "a = 3.4\n",
    "if a = 3\n",
    "    print(\"a is equal to 3\")\n",
    "elif:\n",
    "    print(\"a is not equal to 3')"
   ]
  },
  {
   "cell_type": "markdown",
   "metadata": {},
   "source": [
    "``` {admonition} Note:\n",
    "Syntax error were checked first because _Python Interpreter_ first converts Python code to machine code\n",
    "```"
   ]
  },
  {
   "cell_type": "markdown",
   "metadata": {},
   "source": [
    "### 2.2  Exceptions\n",
    "\n",
    "**Type Error**\n",
    "\n",
    "- pass a list where a number or string is expected\n",
    "- more arguments received"
   ]
  },
  {
   "cell_type": "code",
   "execution_count": null,
   "metadata": {},
   "outputs": [],
   "source": [
    "int(['3.4'])"
   ]
  },
  {
   "cell_type": "markdown",
   "metadata": {},
   "source": [
    "**Name Error**\n",
    "\n",
    "- A typo in Python keywords\n",
    "- A variable is called before it get defined"
   ]
  },
  {
   "cell_type": "markdown",
   "metadata": {},
   "source": [
    "**Zero Division Error**"
   ]
  },
  {
   "cell_type": "code",
   "execution_count": null,
   "metadata": {},
   "outputs": [],
   "source": [
    "print(3 / 0)"
   ]
  },
  {
   "cell_type": "markdown",
   "metadata": {},
   "source": [
    "**Attribute Error**\n",
    "\n",
    "- An object does not have the attribute called.m"
   ]
  },
  {
   "cell_type": "code",
   "execution_count": null,
   "metadata": {},
   "outputs": [],
   "source": [
    "\"a\".upper()"
   ]
  },
  {
   "cell_type": "code",
   "execution_count": null,
   "metadata": {},
   "outputs": [],
   "source": [
    "[\"a\"].upper()"
   ]
  },
  {
   "cell_type": "markdown",
   "metadata": {},
   "source": [
    "**Value Error**\n",
    "\n",
    "- Cannot convert something\n",
    "- useful when checking whether the input is numeric"
   ]
  },
  {
   "cell_type": "code",
   "execution_count": null,
   "metadata": {},
   "outputs": [],
   "source": [
    "float(\"3\")"
   ]
  },
  {
   "cell_type": "code",
   "execution_count": null,
   "metadata": {},
   "outputs": [],
   "source": [
    "float(\"d\")"
   ]
  },
  {
   "cell_type": "code",
   "execution_count": null,
   "metadata": {},
   "outputs": [],
   "source": [
    "num = input(\"Please enter a number: \")\n",
    "print(float(num))"
   ]
  },
  {
   "cell_type": "markdown",
   "metadata": {},
   "source": [
    "## 3. Exception Handling\n",
    "\n",
    "Customize the behavior when an exception occured. Using the `try`-`except` statement\n",
    "```\n",
    "try:\n",
    "    some Python\n",
    "    statements\n",
    "except:\n",
    "    what to do \n",
    "    if exception is raised\n",
    "```"
   ]
  },
  {
   "cell_type": "code",
   "execution_count": null,
   "metadata": {},
   "outputs": [],
   "source": [
    "try:\n",
    "    guess = int(input(\"Enter a number between 1 and 6: \"))\n",
    "except ValueError:\n",
    "    print(\"Invalid number\")"
   ]
  }
 ],
 "metadata": {
  "kernelspec": {
   "display_name": "Python 3",
   "language": "python",
   "name": "python3"
  },
  "language_info": {
   "codemirror_mode": {
    "name": "ipython",
    "version": 3
   },
   "file_extension": ".py",
   "mimetype": "text/x-python",
   "name": "python",
   "nbconvert_exporter": "python",
   "pygments_lexer": "ipython3",
   "version": "3.9.11"
  },
  "vscode": {
   "interpreter": {
    "hash": "ce21b655b4d6c9e397d5ad93d5666c623f49909f6d0cc2f72076dafcf1b3ecfb"
   }
  }
 },
 "nbformat": 4,
 "nbformat_minor": 2
}
