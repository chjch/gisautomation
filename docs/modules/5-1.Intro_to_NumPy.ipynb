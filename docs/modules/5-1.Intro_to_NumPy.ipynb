{
 "cells": [
  {
   "attachments": {},
   "cell_type": "markdown",
   "metadata": {},
   "source": [
    "# Use NumPy in ArcGIS\n",
    "\n",
    "```{image} ../_static/images/numpylogo.svg\n",
    ":class: border\n",
    ":alt: numpylogo\n",
    ":scale: 7%\n",
    ":align: right\n",
    "```\n",
    "\n",
    "[NumPy](https://numpy.org/) is a **numeric computing library** of Python. It is a fundamental package of the\n",
    "Scientific Python Ecosystem. It provides fast operation on n-dimensional (n-d) arrays. It includes functions\n",
    "for **linear algebra** and comprehensive mathematical operations.\n",
    "\n",
    "Other packages in the Scientific Python Ecosystem.\n",
    "\n",
    "- [pandas](https://pandas.pydata.org/): Python's \"**excelsheet**\"\n",
    "- [SciPy](https://scipy.org/): _optimization_, interpolation, mathematical **algorithms**\n",
    "- [matplotlib](https://matplotlib.org/): **plotting** graphs and interactive visualization\n",
    "- [Seaborn](https://seaborn.pydata.org/): based on `matplotlib` with more graph types and styles\n",
    "- [scikit-learn](https://scikit-learn.org/): regression, classification, clustering, **machine learning**\n",
    "- [NetworkX](https://networkx.org/documentation/stable/auto_examples/index.html): create, manipulate complex **networks** (graphs).\n",
    "- [statsmodels](https://www.statsmodels.org/stable/index.html): estimation **statistical models**, conducting statistical tests."
   ]
  },
  {
   "cell_type": "markdown",
   "metadata": {},
   "source": [
    "Same as before, when dealing with a new package, we need to learn how to import\n",
    "it. Note that please **follow the convention** (as below) to import the package."
   ]
  },
  {
   "cell_type": "code",
   "execution_count": 4,
   "metadata": {},
   "outputs": [],
   "source": [
    "import numpy as np"
   ]
  },
  {
   "cell_type": "markdown",
   "metadata": {},
   "source": [
    "## 1. Create a `numpy.ndarray`\n",
    "\n",
    "`numpy.ndarray` is a fundamental data structure in the NumPy library for Python,\n",
    "which is used to represent homogeneous multidimensional arrays of data.\n",
    "It is a collection of **elements of the same data type** that can be **indexed**\n",
    "and manipulated efficiently.\n",
    "\n",
    "### 1.1 From a Python list\n",
    "\n",
    "We can convert a `list` to `np.ndarray` using `np.array()`."
   ]
  },
  {
   "cell_type": "code",
   "execution_count": 2,
   "metadata": {},
   "outputs": [
    {
     "data": {
      "text/plain": "[1, 2, 3, 4]"
     },
     "execution_count": 2,
     "metadata": {},
     "output_type": "execute_result"
    }
   ],
   "source": [
    "my_list = [1, 2, 3, 4]\n",
    "my_list"
   ]
  },
  {
   "cell_type": "markdown",
   "source": [
    "````{tip}\n",
    "Recall that we can also create a `list` using the `range` object.\n",
    "```python\n",
    "my_list = list(range(1, 5))\n",
    "```\n",
    "````"
   ],
   "metadata": {
    "collapsed": false
   }
  },
  {
   "cell_type": "code",
   "execution_count": 4,
   "metadata": {},
   "outputs": [
    {
     "data": {
      "text/plain": [
       "array([1, 2, 3, 4])"
      ]
     },
     "execution_count": 4,
     "metadata": {},
     "output_type": "execute_result"
    }
   ],
   "source": [
    "np.array(my_list)"
   ]
  },
  {
   "cell_type": "code",
   "execution_count": 5,
   "metadata": {},
   "outputs": [
    {
     "data": {
      "text/plain": [
       "numpy.ndarray"
      ]
     },
     "execution_count": 5,
     "metadata": {},
     "output_type": "execute_result"
    }
   ],
   "source": [
    "type(np.array(my_list))"
   ]
  },
  {
   "cell_type": "markdown",
   "source": [
    "```{admonition} Make sure the list is homogeneous\n",
    "\n",
    "If a list is not homogeneous, NumPy will **try to cast** all the elements to the **same data type**.\n",
    "This may result in unexpected behavior or errors if the elements cannot be converted to a common data type.\n",
    "For example, if a list contains both strings and integers, NumPy may cast all the elements to strings,\n",
    "resulting in a NumPy array of dtype 'U'.\n",
    "\n",
    "In general, it is recommended to use NumPy arrays **with homogeneous data** types to take full advantage\n",
    "of the **performance benefits** and functionality provided by the library.\n",
    "```"
   ],
   "metadata": {
    "collapsed": false
   }
  },
  {
   "cell_type": "code",
   "execution_count": null,
   "outputs": [],
   "source": [
    "mix_list = [1, 2, 3, 'four', 'five']\n",
    "np.array(mix_list)"
   ],
   "metadata": {
    "collapsed": false
   }
  },
  {
   "cell_type": "markdown",
   "metadata": {},
   "source": [
    "### 1.2 Use `np.arange()`\n",
    "\n",
    "Returns an array of **evenly spaced** values within a specified interval.\n",
    "The interval is defined by a start value, a stop value, and a step size.\n",
    "Think of it as a NumPy equivalent of the `range` object.\n",
    "\n",
    "```python\n",
    "np.arange([start,] stop[, step,], dtype=None)\n",
    "```"
   ]
  },
  {
   "cell_type": "code",
   "execution_count": 6,
   "metadata": {},
   "outputs": [
    {
     "data": {
      "text/plain": [
       "array([1, 2, 3, 4])"
      ]
     },
     "execution_count": 6,
     "metadata": {},
     "output_type": "execute_result"
    }
   ],
   "source": [
    "np.arange(1, 5)"
   ]
  },
  {
   "cell_type": "markdown",
   "source": [
    "As shown in the syntax, if `start` is omitted, the function will use a default\n",
    "\"start\" of `0`. Therefore, the two statements below are equivalent."
   ],
   "metadata": {
    "collapsed": false
   }
  },
  {
   "cell_type": "code",
   "execution_count": 7,
   "metadata": {},
   "outputs": [
    {
     "data": {
      "text/plain": [
       "array([0, 1, 2, 3, 4, 5, 6, 7, 8, 9])"
      ]
     },
     "execution_count": 7,
     "metadata": {},
     "output_type": "execute_result"
    }
   ],
   "source": [
    "print(np.arange(10))\n",
    "print(np.arange(0, 10))"
   ]
  },
  {
   "cell_type": "markdown",
   "source": [
    "Similar to the `step` argument in `range`, `step` here is an optional argument\n",
    "that specifies the **step size** (increment/decrement) between each value in\n",
    "the interval. If step is not provided, the default value of `1` is used."
   ],
   "metadata": {
    "collapsed": false
   }
  },
  {
   "cell_type": "code",
   "execution_count": 9,
   "metadata": {},
   "outputs": [
    {
     "data": {
      "text/plain": [
       "array([0, 2, 4, 6, 8])"
      ]
     },
     "execution_count": 9,
     "metadata": {},
     "output_type": "execute_result"
    }
   ],
   "source": [
    "np.arange(0, 10, 2)"
   ]
  },
  {
   "cell_type": "markdown",
   "metadata": {},
   "source": [
    "### 1.3 Use `np.linspace()`\n",
    "\n",
    "Returns an array of evenly spaced values within a specified interval, and allows you\n",
    "to **specify the number** (`num`) of items in the interval.\n",
    "\n",
    "```python\n",
    "np.linspace(start, stop, num=50, endpoint=True, retstep=False, dtype=None, axis=None)\n",
    "```"
   ]
  },
  {
   "cell_type": "code",
   "execution_count": 10,
   "metadata": {},
   "outputs": [
    {
     "data": {
      "text/plain": [
       "array([1., 2., 3., 4., 5.])"
      ]
     },
     "execution_count": 10,
     "metadata": {},
     "output_type": "execute_result"
    }
   ],
   "source": [
    "np.linspace(1, 5, 5) # start, stop, num"
   ]
  },
  {
   "cell_type": "markdown",
   "source": [
    "The \"spacing\" is calculated by `(stop - start) / (num - 1)`. In the example,\n",
    "`(5 - 1) / (5 - 1)` equals to `1`, hence the result.\n",
    "Let's see another example in which we create an array with spacing equals to `0.5`."
   ],
   "metadata": {
    "collapsed": false
   }
  },
  {
   "cell_type": "code",
   "execution_count": 11,
   "metadata": {},
   "outputs": [
    {
     "data": {
      "text/plain": [
       "array([0. , 0.5, 1. , 1.5, 2. , 2.5, 3. , 3.5, 4. , 4.5, 5. ])"
      ]
     },
     "execution_count": 11,
     "metadata": {},
     "output_type": "execute_result"
    }
   ],
   "source": [
    "np.linspace(0, 5, 11)   # (5-0)/(11-1)"
   ]
  },
  {
   "cell_type": "code",
   "execution_count": 12,
   "metadata": {},
   "outputs": [
    {
     "data": {
      "text/plain": [
       "array([0.  , 0.25, 0.5 , 0.75, 1.  , 1.25, 1.5 , 1.75, 2.  , 2.25, 2.5 ,\n",
       "       2.75, 3.  , 3.25, 3.5 , 3.75, 4.  , 4.25, 4.5 , 4.75, 5.  ])"
      ]
     },
     "execution_count": 12,
     "metadata": {},
     "output_type": "execute_result"
    }
   ],
   "source": [
    "np.linspace(0, 5, 21)"
   ]
  },
  {
   "cell_type": "markdown",
   "source": [
    "NumPy is very powerful and flexible in generating array of numbers.\n",
    "Imagine how much more codes you need if creating such an array or list using \"loops\".\n",
    "\n",
    "The default value for argument `num` is 50 and `True` for `endpoint`, meaning the\n",
    "end is included by default."
   ],
   "metadata": {
    "collapsed": false
   }
  },
  {
   "cell_type": "code",
   "execution_count": 8,
   "metadata": {},
   "outputs": [
    {
     "data": {
      "text/plain": "array([ 1.,  2.,  3.,  4.,  5.,  6.,  7.,  8.,  9., 10., 11., 12., 13.,\n       14., 15., 16., 17., 18., 19., 20., 21., 22., 23., 24., 25., 26.,\n       27., 28., 29., 30., 31., 32., 33., 34., 35., 36., 37., 38., 39.,\n       40., 41., 42., 43., 44., 45., 46., 47., 48., 49., 50.])"
     },
     "execution_count": 8,
     "metadata": {},
     "output_type": "execute_result"
    }
   ],
   "source": [
    "np.linspace(1, 50)"
   ]
  },
  {
   "cell_type": "markdown",
   "source": [
    "The `len` function also works for numpy arrays. `len(arr)` returns\n",
    "the length of the first dimension of the array.\n",
    "For a 1-dimensional array, the length returned by len is equal to the\n",
    "**size** of the first dimension of the array."
   ],
   "metadata": {
    "collapsed": false
   }
  },
  {
   "cell_type": "code",
   "execution_count": null,
   "outputs": [],
   "source": [
    "len(np.linspace(1, 50))"
   ],
   "metadata": {
    "collapsed": false
   }
  },
  {
   "cell_type": "markdown",
   "metadata": {},
   "source": [
    "## 2. Indexing and slicing\n",
    "\n",
    "Indexing and slicing in NumPy arrays are **_similar_** to those in Python lists, but with additional\n",
    "features that make them more powerful and flexible.\n",
    "\n",
    "- index starts with \"**0**\" as usual\n",
    "- a negative index start count from the end of the array\n",
    "- use the colon to specify the start and end for **slicing**\n",
    "- slice NumPy array with \"step\" is also allowed"
   ]
  },
  {
   "cell_type": "code",
   "execution_count": 14,
   "metadata": {},
   "outputs": [
    {
     "data": {
      "text/plain": [
       "array([0, 1, 2, 3, 4, 5, 6, 7, 8, 9])"
      ]
     },
     "execution_count": 14,
     "metadata": {},
     "output_type": "execute_result"
    }
   ],
   "source": [
    "my_arr = np.arange(10)\n",
    "my_arr"
   ]
  },
  {
   "cell_type": "code",
   "execution_count": 15,
   "metadata": {},
   "outputs": [
    {
     "data": {
      "text/plain": [
       "4"
      ]
     },
     "execution_count": 15,
     "metadata": {},
     "output_type": "execute_result"
    }
   ],
   "source": [
    "print(my_arr[4])\n",
    "print(my_arr[-2])"
   ]
  },
  {
   "cell_type": "code",
   "execution_count": 17,
   "metadata": {},
   "outputs": [
    {
     "data": {
      "text/plain": [
       "array([1, 2, 3, 4, 5])"
      ]
     },
     "execution_count": 17,
     "metadata": {},
     "output_type": "execute_result"
    }
   ],
   "source": [
    "my_arr[1:6]  # slicing"
   ]
  },
  {
   "cell_type": "code",
   "execution_count": 18,
   "metadata": {},
   "outputs": [
    {
     "data": {
      "text/plain": [
       "array([1, 3, 5])"
      ]
     },
     "execution_count": 18,
     "metadata": {},
     "output_type": "execute_result"
    }
   ],
   "source": [
    "my_arr[1:6:2]  # slicing with step"
   ]
  },
  {
   "cell_type": "code",
   "execution_count": 19,
   "metadata": {},
   "outputs": [
    {
     "data": {
      "text/plain": [
       "array([0, 1, 2, 3, 4, 5, 6, 7, 8, 9])"
      ]
     },
     "execution_count": 19,
     "metadata": {},
     "output_type": "execute_result"
    }
   ],
   "source": [
    "my_arr[:]  # omit both ends"
   ]
  },
  {
   "cell_type": "code",
   "execution_count": 20,
   "metadata": {},
   "outputs": [
    {
     "data": {
      "text/plain": [
       "array([9, 8, 7, 6, 5, 4, 3, 2, 1, 0])"
      ]
     },
     "execution_count": 20,
     "metadata": {},
     "output_type": "execute_result"
    }
   ],
   "source": [
    "my_arr[::-1]  # reverse the order"
   ]
  },
  {
   "cell_type": "markdown",
   "source": [
    "```{admonition} Fancy indexing\n",
    ":class: tip\n",
    "\n",
    "You can use a _list_ or an _array_ **of indices** to access specific\n",
    "elements of an array. The result will be another `np.ndarray`.\n",
    "This is another demo of NumPy's power in manipulating arrays.\n",
    "Consider how you would get this without \"fancy indexing.\""
   ],
   "metadata": {
    "collapsed": false
   }
  },
  {
   "cell_type": "code",
   "execution_count": null,
   "outputs": [],
   "source": [
    "my_arr[[1, 3, 5]]  # to access elements at index 1, 3, and 5."
   ],
   "metadata": {
    "collapsed": false
   }
  },
  {
   "cell_type": "markdown",
   "metadata": {},
   "source": [
    "## 3. Generate random numbers with NumPy"
   ]
  },
  {
   "cell_type": "markdown",
   "source": [
    "The behavior of `numpy.random.randint` is different from the built-in `random.randint`\n",
    "function in Python when it comes to the _inclusion of the upper bound_.\n",
    "\n",
    "- `random.randint`: `[low, high]`, i.e., high is included.\n",
    "- `np.random.randint`: `[low, high)`, i.e., high is excluded. This is also called \"**half open**.\""
   ],
   "metadata": {
    "collapsed": false
   }
  },
  {
   "cell_type": "code",
   "execution_count": 21,
   "metadata": {},
   "outputs": [
    {
     "data": {
      "text/plain": [
       "6"
      ]
     },
     "execution_count": 21,
     "metadata": {},
     "output_type": "execute_result"
    }
   ],
   "source": [
    "np.random.randint(2, 10)"
   ]
  },
  {
   "cell_type": "markdown",
   "source": [
    "If _high_ is `None` (the default), then results are from `[0, low)`."
   ],
   "metadata": {
    "collapsed": false
   }
  },
  {
   "cell_type": "code",
   "execution_count": 22,
   "metadata": {},
   "outputs": [
    {
     "data": {
      "text/plain": [
       "5"
      ]
     },
     "execution_count": 22,
     "metadata": {},
     "output_type": "execute_result"
    }
   ],
   "source": [
    "np.random.randint(10)"
   ]
  },
  {
   "cell_type": "markdown",
   "source": [
    "You can repeatedly generate any number of integers within such an interval.\n",
    "The resulting random integers follows a “**discrete uniform**” distribution,\n",
    "meaning any integer within that range has equal probability to be drawn each time."
   ],
   "metadata": {
    "collapsed": false
   }
  },
  {
   "cell_type": "code",
   "execution_count": 23,
   "metadata": {},
   "outputs": [
    {
     "data": {
      "text/plain": [
       "array([3, 1, 8, 5, 2, 2, 7, 3, 5, 1, 0, 1, 8, 7, 0, 0, 4, 6, 5, 2])"
      ]
     },
     "execution_count": 23,
     "metadata": {},
     "output_type": "execute_result"
    }
   ],
   "source": [
    "np.random.randint(0, 10, 20)"
   ]
  },
  {
   "cell_type": "markdown",
   "source": [
    "Another popular function for many experimental testing is to randomly generate\n",
    "floating numbers in [0, 1), which can be done by `np.random.rand`.\n",
    "The function allows to specify the shape of the numpy array."
   ],
   "metadata": {
    "collapsed": false
   }
  },
  {
   "cell_type": "code",
   "execution_count": 24,
   "metadata": {},
   "outputs": [
    {
     "data": {
      "text/plain": [
       "array([[0.74538232, 0.41584597],\n",
       "       [0.35122428, 0.03901372],\n",
       "       [0.2887653 , 0.38537612]])"
      ]
     },
     "execution_count": 24,
     "metadata": {},
     "output_type": "execute_result"
    }
   ],
   "source": [
    "np.random.rand(3, 2)  # an array of size 6 and shape 3 (rows) by 2 (columns)"
   ]
  },
  {
   "cell_type": "markdown",
   "source": [
    "Two useful methods of `np.ndarray` is `shape` and `size`. `shape` returns a\n",
    "`tuple` consists of number of elements on each dimension.\n",
    "`size` is the total number of elements regardless of dimension.\n"
   ],
   "metadata": {
    "collapsed": false
   }
  },
  {
   "cell_type": "code",
   "execution_count": null,
   "outputs": [],
   "source": [
    "arr = np.random.rand(6, 3)\n",
    "print(arr)\n",
    "print(f\"The size of arr: {arr.size}.\")\n",
    "print(f\"The shape of arr: {arr.shape}.\")"
   ],
   "metadata": {
    "collapsed": false
   }
  },
  {
   "cell_type": "markdown",
   "source": [
    "Note that `len` returns the element of first dimension only. So, except for 1-d array,\n",
    "`len` and `size` will not return the same value."
   ],
   "metadata": {
    "collapsed": false
   }
  },
  {
   "cell_type": "code",
   "execution_count": null,
   "outputs": [],
   "source": [
    "print(len(arr))\n",
    "print(arr.size)"
   ],
   "metadata": {
    "collapsed": false
   }
  },
  {
   "cell_type": "markdown",
   "metadata": {},
   "source": [
    "## 4. Work with NumPy in ArcGIS"
   ]
  },
  {
   "cell_type": "code",
   "execution_count": 25,
   "metadata": {},
   "outputs": [],
   "source": [
    "import arcpy"
   ]
  },
  {
   "cell_type": "code",
   "execution_count": 26,
   "metadata": {},
   "outputs": [],
   "source": [
    "gdb_worksp = r\"../data/class_data.gdb\"\n",
    "arcpy.env.workspace = gdb_worksp"
   ]
  },
  {
   "cell_type": "code",
   "execution_count": 27,
   "metadata": {},
   "outputs": [
    {
     "data": {
      "text/plain": [
       "['county_boundary',\n",
       " 'hospitals',\n",
       " 'schools',\n",
       " 'I75',\n",
       " 'roads',\n",
       " 'law_enforcement',\n",
       " 'major_highways',\n",
       " 'zip_boundaries',\n",
       " 'major_roads',\n",
       " 'landuse',\n",
       " 'crash',\n",
       " 'blockgroups',\n",
       " 'I75_2mile_buff',\n",
       " 'schools_2mile_I75',\n",
       " 'blockgroups_school_spjoin',\n",
       " 'zipbnd_q1',\n",
       " 'zipbnd_q2',\n",
       " 'blockgroups_Layer2_CopyFeatures']"
      ]
     },
     "execution_count": 27,
     "metadata": {},
     "output_type": "execute_result"
    }
   ],
   "source": [
    "arcpy.ListFeatureClasses()"
   ]
  },
  {
   "cell_type": "markdown",
   "source": [
    "Set to work with the `schools` feature class."
   ],
   "metadata": {
    "collapsed": false
   }
  },
  {
   "cell_type": "code",
   "execution_count": 28,
   "metadata": {},
   "outputs": [],
   "source": [
    "school_fc = \"schools\""
   ]
  },
  {
   "cell_type": "markdown",
   "metadata": {},
   "source": [
    "### 4.1 Use `arcpy.ListFields()` to access fields\n",
    "\n",
    "A [field object](https://pro.arcgis.com/en/pro-app/latest/arcpy/classes/field.htm)\n",
    "represents a column in a table. A field has many properties, the most obvious ones\n",
    "being its **name** and its **type**."
   ]
  },
  {
   "cell_type": "markdown",
   "source": [
    "````{admonition} An example of field object\n",
    ":class: seealso\n",
    "\n",
    "```python\n",
    "fields = arcpy.ListFields(feature_class)\n",
    "\n",
    "# Iterate through the list of fields\n",
    "for field in fields:\n",
    "    # Print field properties\n",
    "    print(\"Field:       {0}\".format(field.name))\n",
    "    print(\"Alias:       {0}\".format(field.aliasName))\n",
    "    print(\"Type:        {0}\".format(field.type))\n",
    "    print(\"Is Editable: {0}\".format(field.editable))\n",
    "    print(\"Required:    {0}\".format(field.required))\n",
    "    print(\"Scale:       {0}\".format(field.scale))\n",
    "    print(\"Precision:   {0}\".format(field.precision))\n",
    "```\n",
    "````"
   ],
   "metadata": {
    "collapsed": false
   }
  },
  {
   "cell_type": "code",
   "execution_count": 29,
   "metadata": {},
   "outputs": [
    {
     "name": "stdout",
     "output_type": "stream",
     "text": [
      "['OBJECTID_1', 'Shape', 'OBJECTID', 'STATUS', 'SCORE', 'SIDE', 'MATCH_ADDR', 'FEDERAL_ID', 'STATE_ID', 'SCHOOL_ID', 'NAME', 'ADDRESS', 'CITY', 'ZIPCODE', 'PHONE', 'COUNTY', 'OPERATING', 'OP_CLASS', 'ENROLLMENT', 'PROGRAMS', 'COMMON_USE', 'USE', 'TYPE', 'ACTIVITY', 'GRADES', 'LOW_GRADE', 'HIGH_GRADE', 'PRINCIPAL', 'TEACHERS', 'STDTCH_RT', 'MIGRNT_STD', 'TITLE1SCHO', 'MAGNETINFO', 'FREE_LUNCH', 'REDUCED_LU', 'FISH_FAC1', 'FISH_FAC2', 'COMMENTS', 'BBSERVICE', 'BBPROVIDER', 'BBSPEED', 'DSTREAMSPD', 'YR_BUILT', 'PARCEL_ID', 'LAT_DD', 'LONG_DD', 'USNG_FL_1K', 'FDOE_MSID', 'NCES_PUB', 'NCES_PRIV', 'FDOE_PRV', 'SOURCE', 'DESCRIPT', 'FLAG', 'UPDATE_DAY', 'FGDLAQDATE', 'AUTOID']\n"
     ]
    }
   ],
   "source": [
    "school_fields = []\n",
    "for field in arcpy.ListFields(school_fc):\n",
    "    school_fields.append(field.name)\n",
    "print(school_fields)"
   ]
  },
  {
   "cell_type": "markdown",
   "source": [
    "We can use the `join` function and the \"new line\" escape sequence, i.e., `\"\\n\"`\n",
    "to print individual field names on separate lines."
   ],
   "metadata": {
    "collapsed": false
   }
  },
  {
   "cell_type": "code",
   "execution_count": null,
   "outputs": [],
   "source": [
    "print('\\n'.join(school_fields))"
   ],
   "metadata": {
    "collapsed": false
   }
  },
  {
   "cell_type": "markdown",
   "metadata": {},
   "source": [
    "### 4.2 Convert a feature class to NumPy array\n",
    "\n",
    "`arcpy.da.FeatureClassToNumPyArray` converts a feature class to a [Structured Array](https://numpy.org/doc/stable/user/basics.rec.html). A NumPy structured array is a special kind of array that allows you to store and manipulate heterogeneous data (i.e., data of different types) in a **tabular format**.\n",
    "\n",
    "Each element in a structured array is a `tuple`, where each [field](https://numpy.org/doc/stable/glossary.html#term-field)\n",
    "of the tuple can be of a different data type.\n",
    "\n",
    "```python\n",
    "x = np.array([('Rex', 9, 81.0), ('Fido', 3, 27.0)],\n",
    "             dtype=[('name', 'U10'), ('age', 'i4'), ('weight', 'f4')])\n",
    "```"
   ]
  },
  {
   "cell_type": "markdown",
   "source": [
    "```{admonition} Data access module\n",
    ":class: seealso\n",
    "\n",
    "The \"da\" in `arcpy.da` stands for **Data Access**. See [a list of functions](https://pro.arcgis.com/en/pro-app/latest/arcpy/data-access/what-is-the-data-access-module-.htm)\n",
    "of this module .\n",
    "```"
   ],
   "metadata": {
    "collapsed": false
   }
  },
  {
   "cell_type": "markdown",
   "source": [
    "The syntax of [this function](https://pro.arcgis.com/en/pro-app/latest/arcpy/data-access/featureclasstonumpyarray.htm)\n",
    "is the following.\n",
    "\n",
    "```python\n",
    "FeatureClassToNumPyArray(in_table, field_names, {where_clause}, {spatial_reference},\n",
    "                         {explode_to_points}, {skip_nulls}, {null_value})\n",
    "```"
   ],
   "metadata": {
    "collapsed": false
   }
  },
  {
   "cell_type": "markdown",
   "source": [
    "Specify a list of fields that are desired to be included in the returned array."
   ],
   "metadata": {
    "collapsed": false
   }
  },
  {
   "cell_type": "code",
   "execution_count": 30,
   "metadata": {},
   "outputs": [],
   "source": [
    "school_arr = arcpy.da.FeatureClassToNumPyArray(\n",
    "    school_fc, [\"NAME\", 'OP_CLASS', 'ENROLLMENT', 'TYPE', 'TEACHERS']\n",
    ")\n",
    "\n",
    "school_arr"
   ]
  },
  {
   "cell_type": "markdown",
   "metadata": {},
   "source": [
    "Check the `shape` of an array. Note that it returns a tuple of one element\n",
    "since the structured array is considered a 1-d array."
   ]
  },
  {
   "cell_type": "code",
   "execution_count": 33,
   "metadata": {},
   "outputs": [
    {
     "data": {
      "text/plain": [
       "(112,)"
      ]
     },
     "execution_count": 33,
     "metadata": {},
     "output_type": "execute_result"
    }
   ],
   "source": [
    "school_arr.shape"
   ]
  },
  {
   "cell_type": "markdown",
   "metadata": {},
   "source": [
    "View the first five elements of a structured array"
   ]
  },
  {
   "cell_type": "code",
   "execution_count": 34,
   "metadata": {},
   "outputs": [
    {
     "data": {
      "text/plain": [
       "array([('GRACE CHRISTIAN SCHOOL OF ALACHUA CO.', 'PRIVATE',  0., 'SENIOR HIGH', 0. ),\n",
       "       ('FAMILY LIFE ACADEMY', 'PRIVATE',  0., 'COMBINATION ELEMENTARY & SECONDARY', 0. ),\n",
       "       ('FOREST GROVE CHRISTIAN ACADEMY', 'PRIVATE', 53., 'COMBINATION ELEMENTARY & SECONDARY', 9.4),\n",
       "       ('VAISHNAVA ACADEMY FOR GIRLS', 'PRIVATE', 19., 'COMBINATION JR. HIGH & SENIOR HIGH', 0. ),\n",
       "       ('BHAKTIVEDANTA ACADEMY', 'PRIVATE',  0., 'COMBINATION ELEMENTARY & MIDDLE', 0. )],\n",
       "      dtype=[('NAME', '<U100'), ('OP_CLASS', '<U12'), ('ENROLLMENT', '<f8'), ('TYPE', '<U35'), ('TEACHERS', '<f8')])"
      ]
     },
     "execution_count": 34,
     "metadata": {},
     "output_type": "execute_result"
    }
   ],
   "source": [
    "school_arr[:5]"
   ]
  },
  {
   "cell_type": "markdown",
   "metadata": {},
   "source": [
    "View the 1st, 5th, 10th, 100th element of the array by providing a list (or tuple)\n",
    "of indicies. Remember this is called _fancy indexing_."
   ]
  },
  {
   "cell_type": "code",
   "execution_count": 36,
   "metadata": {},
   "outputs": [
    {
     "data": {
      "text/plain": [
       "array([('GRACE CHRISTIAN SCHOOL OF ALACHUA CO.', 'PRIVATE',   0., 'SENIOR HIGH',  0. ),\n",
       "       ('BHAKTIVEDANTA ACADEMY', 'PRIVATE',   0., 'COMBINATION ELEMENTARY & MIDDLE',  0. ),\n",
       "       ('QUEEN OF PEACE CATHOLIC ACADEMY', 'PRIVATE', 358., 'COMBINATION ELEMENTARY & MIDDLE', 28.4),\n",
       "       ('HORIZON CENTER. ALTERNATIVE SCHOOL', 'PUBLIC',  79., 'COMBINATION JR. HIGH & SENIOR HIGH', 17. )],\n",
       "      dtype=[('NAME', '<U100'), ('OP_CLASS', '<U12'), ('ENROLLMENT', '<f8'), ('TYPE', '<U35'), ('TEACHERS', '<f8')])"
      ]
     },
     "execution_count": 36,
     "metadata": {},
     "output_type": "execute_result"
    }
   ],
   "source": [
    "school_arr[[0, 4, 9, 99]]"
   ]
  },
  {
   "cell_type": "markdown",
   "metadata": {},
   "source": [
    "Get a **field** (or column) from a structured array using the field name."
   ]
  },
  {
   "cell_type": "code",
   "execution_count": 37,
   "metadata": {},
   "outputs": [
    {
     "data": {
      "text/plain": [
       "array([   0.,    0.,   53.,   19.,    0.,    0.,    0.,    0.,  115.,\n",
       "        358.,  207.,   52.,  260.,  106.,   84.,  209.,   22.,    0.,\n",
       "        246.,  216.,  264.,   45.,   19.,    0.,    0.,  753.,    0.,\n",
       "        211.,    0.,   55.,    0.,  336.,   43.,    0.,   32.,    0.,\n",
       "         16.,  116.,  443.,    0.,   76.,  583.,  520.,  596.,  938.,\n",
       "          0.,    0.,   39.,   24.,  132.,  259., 1129.,  453.,  167.,\n",
       "        521.,  446.,    0.,    0.,    0., 2221.,  439., 1139.,  711.,\n",
       "        801.,  836.,  711.,  731.,  657.,  628., 1047.,   47.,  463.,\n",
       "       1928.,  466.,   71.,  105.,    0.,   67.,   19.,    0.,  932.,\n",
       "        644.,   53.,  106.,  570.,   86.,   35.,  131.,  100.,  709.,\n",
       "        572.,    0.,  445.,  717.,  531.,  114.,  395.,   63.,  109.,\n",
       "         79.,  408., 1549.,  202.,  193.,  395.,  215.,    0.,    0.,\n",
       "          0.,    0.,    0.,  365.])"
      ]
     },
     "execution_count": 37,
     "metadata": {},
     "output_type": "execute_result"
    }
   ],
   "source": [
    "school_arr['ENROLLMENT']"
   ]
  },
  {
   "cell_type": "markdown",
   "metadata": {},
   "source": [
    "### 4.3 Compute statistics of a `np.ndarray`\n",
    "\n",
    "- maximum: ```np.max()```\n",
    "- minimum: ```np.min()```\n",
    "- mean: ```np.mean()```\n",
    "- standard deviation: ```np.std()```"
   ]
  },
  {
   "cell_type": "code",
   "execution_count": 38,
   "metadata": {},
   "outputs": [],
   "source": [
    "enroll_arr = school_arr['ENROLLMENT']"
   ]
  },
  {
   "cell_type": "code",
   "execution_count": 39,
   "metadata": {},
   "outputs": [
    {
     "data": {
      "text/plain": [
       "2221.0"
      ]
     },
     "execution_count": 39,
     "metadata": {},
     "output_type": "execute_result"
    }
   ],
   "source": [
    "np.max(enroll_arr)"
   ]
  },
  {
   "cell_type": "code",
   "execution_count": 40,
   "metadata": {},
   "outputs": [
    {
     "data": {
      "text/plain": [
       "0.0"
      ]
     },
     "execution_count": 40,
     "metadata": {},
     "output_type": "execute_result"
    }
   ],
   "source": [
    "np.min(enroll_arr)"
   ]
  },
  {
   "cell_type": "code",
   "execution_count": 41,
   "metadata": {},
   "outputs": [
    {
     "data": {
      "text/plain": [
       "294.35714285714283"
      ]
     },
     "execution_count": 41,
     "metadata": {},
     "output_type": "execute_result"
    }
   ],
   "source": [
    "np.mean(enroll_arr)"
   ]
  },
  {
   "cell_type": "code",
   "execution_count": 42,
   "metadata": {},
   "outputs": [
    {
     "data": {
      "text/plain": [
       "397.6106732080762"
      ]
     },
     "execution_count": 42,
     "metadata": {},
     "output_type": "execute_result"
    }
   ],
   "source": [
    "np.std(enroll_arr)"
   ]
  },
  {
   "cell_type": "markdown",
   "metadata": {},
   "source": [
    "### 4.4 Simple query against NumPy array\n",
    "\n",
    "Consider the following questions:\n",
    "\n",
    "- which school has the largest enrollment: `argmax`\n",
    "- which school has the smallest enrollment: `argmin`"
   ]
  },
  {
   "cell_type": "code",
   "execution_count": 43,
   "metadata": {},
   "outputs": [
    {
     "data": {
      "text/plain": [
       "59"
      ]
     },
     "execution_count": 43,
     "metadata": {},
     "output_type": "execute_result"
    }
   ],
   "source": [
    "enroll_arr.argmax() # returns the index of the largest value"
   ]
  },
  {
   "cell_type": "code",
   "execution_count": 44,
   "metadata": {},
   "outputs": [
    {
     "data": {
      "text/plain": [
       "'BUCHHOLZ HIGH SCHOOL'"
      ]
     },
     "execution_count": 44,
     "metadata": {},
     "output_type": "execute_result"
    }
   ],
   "source": [
    "school_arr['NAME'][enroll_arr.argmax()]"
   ]
  },
  {
   "cell_type": "code",
   "execution_count": 45,
   "metadata": {},
   "outputs": [
    {
     "data": {
      "text/plain": [
       "'GRACE CHRISTIAN SCHOOL OF ALACHUA CO.'"
      ]
     },
     "execution_count": 45,
     "metadata": {},
     "output_type": "execute_result"
    }
   ],
   "source": [
    "school_arr['NAME'][enroll_arr.argmin()]"
   ]
  },
  {
   "cell_type": "markdown",
   "metadata": {},
   "source": [
    "### 4.5 Generate new arrays based on a conditional statement\n",
    "\n",
    "Let's try to filter by the following criteria:\n",
    "\n",
    "- schools enrollment is positive, and\n",
    "- schools that are public."
   ]
  },
  {
   "cell_type": "code",
   "execution_count": 46,
   "metadata": {},
   "outputs": [
    {
     "data": {
      "text/plain": [
       "array([False, False,  True,  True, False, False, False, False,  True,\n",
       "        True,  True,  True,  True,  True,  True,  True,  True, False,\n",
       "        True,  True,  True,  True,  True, False, False,  True, False,\n",
       "        True, False,  True, False,  True,  True, False,  True, False,\n",
       "        True,  True,  True, False,  True,  True,  True,  True,  True,\n",
       "       False, False,  True,  True,  True,  True,  True,  True,  True,\n",
       "        True,  True, False, False, False,  True,  True,  True,  True,\n",
       "        True,  True,  True,  True,  True,  True,  True,  True,  True,\n",
       "        True,  True,  True,  True, False,  True,  True, False,  True,\n",
       "        True,  True,  True,  True,  True,  True,  True,  True,  True,\n",
       "        True, False,  True,  True,  True,  True,  True,  True,  True,\n",
       "        True,  True,  True,  True,  True,  True,  True, False, False,\n",
       "       False, False, False,  True])"
      ]
     },
     "execution_count": 46,
     "metadata": {},
     "output_type": "execute_result"
    }
   ],
   "source": [
    "enroll_arr > 0 # returns as an ndarray of booleans"
   ]
  },
  {
   "cell_type": "code",
   "execution_count": 47,
   "metadata": {},
   "outputs": [
    {
     "data": {
      "text/plain": [
       "array([False, False, False, False, False, False, False, False, False,\n",
       "       False, False, False, False, False, False, False, False, False,\n",
       "       False, False, False, False, False, False, False, False, False,\n",
       "       False,  True, False, False, False, False, False, False, False,\n",
       "       False,  True,  True,  True,  True,  True,  True,  True,  True,\n",
       "        True,  True,  True,  True,  True,  True,  True,  True,  True,\n",
       "        True,  True,  True,  True,  True,  True,  True,  True,  True,\n",
       "        True,  True,  True,  True,  True,  True,  True,  True,  True,\n",
       "        True,  True,  True,  True,  True,  True,  True,  True,  True,\n",
       "        True,  True,  True,  True,  True,  True,  True,  True,  True,\n",
       "        True,  True,  True,  True,  True,  True,  True,  True,  True,\n",
       "        True,  True,  True,  True,  True,  True,  True,  True,  True,\n",
       "        True,  True,  True, False])"
      ]
     },
     "execution_count": 47,
     "metadata": {},
     "output_type": "execute_result"
    }
   ],
   "source": [
    "school_type_arr = school_arr['OP_CLASS']\n",
    "school_type_arr == 'PUBLIC'"
   ]
  },
  {
   "cell_type": "markdown",
   "metadata": {},
   "source": [
    "```{admonition} Boolean Indexing\n",
    ":class: tip\n",
    "\n",
    "Another great feature of NumPy contributing to its advantage in data processing\n",
    "is **boolean indexing**, in which a boolean array (array of booleans, i.e., `True` or `False`) is\n",
    "used to specify which elements of an array should be selected.\n",
    "The boolean array is typically the result of some condition that\n",
    "is applied to the original array. The result of boolean indexing is a new array that\n",
    "contains only the elements that correspond to the `True` values in the boolean array.\n",
    "\n",
    "Note that the boolean array must be in the **same shape** as the original array.\n",
    "```"
   ]
  },
  {
   "cell_type": "code",
   "execution_count": 48,
   "metadata": {},
   "outputs": [
    {
     "data": {
      "text/plain": [
       "array([1, 2, 3, 4])"
      ]
     },
     "execution_count": 48,
     "metadata": {},
     "output_type": "execute_result"
    }
   ],
   "source": [
    "num_arr = np.array([1, 2, 3, 4])\n",
    "num_arr"
   ]
  },
  {
   "cell_type": "code",
   "execution_count": 49,
   "metadata": {},
   "outputs": [],
   "source": [
    "bool_arr = np.array([True, False, True, True])"
   ]
  },
  {
   "cell_type": "code",
   "execution_count": 50,
   "metadata": {},
   "outputs": [
    {
     "data": {
      "text/plain": [
       "array([1, 3, 4])"
      ]
     },
     "execution_count": 50,
     "metadata": {},
     "output_type": "execute_result"
    }
   ],
   "source": [
    "num_arr[bool_arr]"
   ]
  },
  {
   "cell_type": "markdown",
   "source": [
    "To find out schools that don't have positive enrollment, we can use\n",
    "`np.invert` which negates the judgement.\n",
    "Then, we use the field name again to get a 1-d array of the names\n",
    "of these schools."
   ],
   "metadata": {
    "collapsed": false
   }
  },
  {
   "cell_type": "code",
   "execution_count": 51,
   "metadata": {},
   "outputs": [
    {
     "data": {
      "text/plain": [
       "array(['GRACE CHRISTIAN SCHOOL OF ALACHUA CO.', 'FAMILY LIFE ACADEMY',\n",
       "       'BHAKTIVEDANTA ACADEMY', 'DESTINY CHRISTIAN ACADEMY',\n",
       "       'INCAF MONTESSORI SCHOOL',\n",
       "       'GREAT AMERICAN VISIONS ENTERPRISES,INC',\n",
       "       'GAINESVILLE CONDUCTIVE EDUCATION ACADEMY',\n",
       "       'GAINESVILLE CONDUCTIVE EDUCATION ACADEMY',\n",
       "       'KIDS N ALL CHRISTIAN ACADEMY', 'FREEDOM CHRISTIAN ACADEMY',\n",
       "       'FAITH TABERNACLE OF PRAISE SCHOOL OF MINISTRY', 'CITY COLLEGE',\n",
       "       'COMPASSIONATE OUTREACH MINISTRIES',\n",
       "       'OAK HILL COMMUNITY PRIVATE SCHOOL SYSTEM',\n",
       "       'SANTA FE COLLEGE - DAVIS CENTER',\n",
       "       'UNIVERSITY OF FLORIDA - COMPARITIVE MEDICINE',\n",
       "       'NORTH AMERICAN FAMILY INSTITUTE ALACHUA ACADEMY',\n",
       "       'UNIVERSITY OF FLORIDA', 'UNIVERSITY OF FLORIDA - AGRONOMY LAB',\n",
       "       'SANTA FE COLLEGE - NORTHWEST CAMPUS', 'UNIVERSITY OF FLORIDA',\n",
       "       'SANTA FE COMMUNITY COLLEGE',\n",
       "       'ALACHUA COUNTY SUPERINTENDENT OFFICE - KIRBY-SMITH CENTER',\n",
       "       'UNIVERSITY OF FLORIDA',\n",
       "       'SANTA FE COLLEGE - CHARLES L BLOUNT DOWNTOWN CENTER',\n",
       "       'SANTA FE COLLEGE - KIRKPATRICK CENTER', 'ALACHUA COUNTY JAIL',\n",
       "       'ALACHUA  COUNTY STUDENT SERVICES/ MIGRANT/ VIRTUAL PROGRAM/ MCKAY SCHOLARSHIP/ HOMEBOUND PROGRAM'],\n",
       "      dtype='<U100')"
      ]
     },
     "execution_count": 51,
     "metadata": {},
     "output_type": "execute_result"
    }
   ],
   "source": [
    "school_arr[np.invert(enroll_arr > 0)]['NAME']"
   ]
  },
  {
   "cell_type": "markdown",
   "metadata": {},
   "source": [
    "### 4.6 Simple numeric operation \n",
    "\n",
    "We can apply basic arithmetic operations using the normal operators on\n",
    "arrays themselves."
   ]
  },
  {
   "cell_type": "code",
   "execution_count": 52,
   "metadata": {},
   "outputs": [
    {
     "data": {
      "text/plain": [
       "array([   0.,    0.,   53.,   19.,    0.,    0.,    0.,    0.,  115.,\n",
       "        358.,  207.,   52.,  260.,  106.,   84.,  209.,   22.,    0.,\n",
       "        246.,  216.,  264.,   45.,   19.,    0.,    0.,  753.,    0.,\n",
       "        211.,    0.,   55.,    0.,  336.,   43.,    0.,   32.,    0.,\n",
       "         16.,  116.,  443.,    0.,   76.,  583.,  520.,  596.,  938.,\n",
       "          0.,    0.,   39.,   24.,  132.,  259., 1129.,  453.,  167.,\n",
       "        521.,  446.,    0.,    0.,    0., 2221.,  439., 1139.,  711.,\n",
       "        801.,  836.,  711.,  731.,  657.,  628., 1047.,   47.,  463.,\n",
       "       1928.,  466.,   71.,  105.,    0.,   67.,   19.,    0.,  932.,\n",
       "        644.,   53.,  106.,  570.,   86.,   35.,  131.,  100.,  709.,\n",
       "        572.,    0.,  445.,  717.,  531.,  114.,  395.,   63.,  109.,\n",
       "         79.,  408., 1549.,  202.,  193.,  395.,  215.,    0.,    0.,\n",
       "          0.,    0.,    0.,  365.])"
      ]
     },
     "execution_count": 52,
     "metadata": {},
     "output_type": "execute_result"
    }
   ],
   "source": [
    "enroll_arr"
   ]
  },
  {
   "cell_type": "markdown",
   "source": [
    "The following doubles the size of each school's enrollment."
   ],
   "metadata": {
    "collapsed": false
   }
  },
  {
   "cell_type": "code",
   "execution_count": 53,
   "metadata": {},
   "outputs": [
    {
     "data": {
      "text/plain": [
       "array([   0.,    0.,  106.,   38.,    0.,    0.,    0.,    0.,  230.,\n",
       "        716.,  414.,  104.,  520.,  212.,  168.,  418.,   44.,    0.,\n",
       "        492.,  432.,  528.,   90.,   38.,    0.,    0., 1506.,    0.,\n",
       "        422.,    0.,  110.,    0.,  672.,   86.,    0.,   64.,    0.,\n",
       "         32.,  232.,  886.,    0.,  152., 1166., 1040., 1192., 1876.,\n",
       "          0.,    0.,   78.,   48.,  264.,  518., 2258.,  906.,  334.,\n",
       "       1042.,  892.,    0.,    0.,    0., 4442.,  878., 2278., 1422.,\n",
       "       1602., 1672., 1422., 1462., 1314., 1256., 2094.,   94.,  926.,\n",
       "       3856.,  932.,  142.,  210.,    0.,  134.,   38.,    0., 1864.,\n",
       "       1288.,  106.,  212., 1140.,  172.,   70.,  262.,  200., 1418.,\n",
       "       1144.,    0.,  890., 1434., 1062.,  228.,  790.,  126.,  218.,\n",
       "        158.,  816., 3098.,  404.,  386.,  790.,  430.,    0.,    0.,\n",
       "          0.,    0.,    0.,  730.])"
      ]
     },
     "execution_count": 53,
     "metadata": {},
     "output_type": "execute_result"
    }
   ],
   "source": [
    "enroll_arr * 2"
   ]
  },
  {
   "cell_type": "code",
   "execution_count": 54,
   "metadata": {},
   "outputs": [
    {
     "data": {
      "text/plain": [
       "array([ 100.,  100.,  153.,  119.,  100.,  100.,  100.,  100.,  215.,\n",
       "        458.,  307.,  152.,  360.,  206.,  184.,  309.,  122.,  100.,\n",
       "        346.,  316.,  364.,  145.,  119.,  100.,  100.,  853.,  100.,\n",
       "        311.,  100.,  155.,  100.,  436.,  143.,  100.,  132.,  100.,\n",
       "        116.,  216.,  543.,  100.,  176.,  683.,  620.,  696., 1038.,\n",
       "        100.,  100.,  139.,  124.,  232.,  359., 1229.,  553.,  267.,\n",
       "        621.,  546.,  100.,  100.,  100., 2321.,  539., 1239.,  811.,\n",
       "        901.,  936.,  811.,  831.,  757.,  728., 1147.,  147.,  563.,\n",
       "       2028.,  566.,  171.,  205.,  100.,  167.,  119.,  100., 1032.,\n",
       "        744.,  153.,  206.,  670.,  186.,  135.,  231.,  200.,  809.,\n",
       "        672.,  100.,  545.,  817.,  631.,  214.,  495.,  163.,  209.,\n",
       "        179.,  508., 1649.,  302.,  293.,  495.,  315.,  100.,  100.,\n",
       "        100.,  100.,  100.,  465.])"
      ]
     },
     "execution_count": 54,
     "metadata": {},
     "output_type": "execute_result"
    }
   ],
   "source": [
    "enroll_arr + 100"
   ]
  },
  {
   "cell_type": "code",
   "execution_count": 55,
   "metadata": {},
   "outputs": [],
   "source": [
    "pos_school_arr = school_arr[school_arr['ENROLLMENT'] > 0]"
   ]
  },
  {
   "cell_type": "markdown",
   "source": [
    "We can perform a division to find out number of teachers per student directly using\n",
    "two fields, i.e., two `np.ndarray`."
   ],
   "metadata": {
    "collapsed": false
   }
  },
  {
   "cell_type": "code",
   "execution_count": 56,
   "metadata": {},
   "outputs": [
    {
     "data": {
      "text/plain": [
       "array([0.17735849, 0.        , 0.12608696, 0.07932961, 0.08647343,\n",
       "       0.11346154, 0.07615385, 0.06132075, 0.13690476, 0.09138756,\n",
       "       0.        , 0.04390244, 0.11481481, 0.04772727, 0.13555556,\n",
       "       0.10526316, 0.08446215, 0.18720379, 0.        , 0.05208333,\n",
       "       0.        , 0.065625  , 0.0625    , 0.07758621, 0.07110609,\n",
       "       0.05263158, 0.05831904, 0.07115385, 0.05369128, 0.0575693 ,\n",
       "       0.        , 0.        , 0.06818182, 0.08494208, 0.04340124,\n",
       "       0.05960265, 0.05389222, 0.07101727, 0.07623318, 0.04502476,\n",
       "       0.07744875, 0.1071115 , 0.07313643, 0.05867665, 0.06698565,\n",
       "       0.06469761, 0.06839945, 0.07305936, 0.08041401, 0.05921681,\n",
       "       0.06382979, 0.07019438, 0.04979253, 0.08154506, 0.05633803,\n",
       "       0.23809524, 0.31343284, 0.        , 0.05686695, 0.06521739,\n",
       "       0.        , 0.06132075, 0.07192982, 0.08139535, 0.02857143,\n",
       "       0.04580153, 0.15      , 0.05994358, 0.06993007, 0.09438202,\n",
       "       0.05997211, 0.06120527, 0.0877193 , 0.07088608, 0.07936508,\n",
       "       0.06880734, 0.21518987, 0.08088235, 0.05745642, 0.02475248,\n",
       "       0.08290155, 0.05822785, 0.07906977, 0.04383562])"
      ]
     },
     "execution_count": 56,
     "metadata": {},
     "output_type": "execute_result"
    }
   ],
   "source": [
    "# ratio of number of teachers and students\n",
    "pos_school_arr[\"TEACHERS\"] / pos_school_arr[\"ENROLLMENT\"]"
   ]
  },
  {
   "cell_type": "markdown",
   "source": [
    "The following can help us answer which public school in Alachua County has the\n",
    "highest ratio between teachers and students."
   ],
   "metadata": {
    "collapsed": false
   }
  },
  {
   "cell_type": "code",
   "execution_count": 57,
   "metadata": {
    "scrolled": true
   },
   "outputs": [
    {
     "data": {
      "text/plain": [
       "56"
      ]
     },
     "execution_count": 57,
     "metadata": {},
     "output_type": "execute_result"
    }
   ],
   "source": [
    "max_ratio_id = (pos_school_arr[\"TEACHERS\"] / pos_school_arr[\"ENROLLMENT\"]).argmax()\n",
    "print(f\"the max value occurs at {max_ratio_id} index.\")"
   ]
  },
  {
   "cell_type": "code",
   "execution_count": 58,
   "metadata": {},
   "outputs": [
    {
     "data": {
      "text/plain": [
       "'A. QUINN JONES CENTER'"
      ]
     },
     "execution_count": 58,
     "metadata": {},
     "output_type": "execute_result"
    }
   ],
   "source": [
    "pos_school_arr['NAME'][max_ratio_id]"
   ]
  }
 ],
 "metadata": {
  "kernelspec": {
   "display_name": "Python 3",
   "language": "python",
   "name": "python3"
  },
  "language_info": {
   "codemirror_mode": {
    "name": "ipython",
    "version": 3
   },
   "file_extension": ".py",
   "mimetype": "text/x-python",
   "name": "python",
   "nbconvert_exporter": "python",
   "pygments_lexer": "ipython3",
   "version": "3.9.11 [MSC v.1931 64 bit (AMD64)]"
  },
  "vscode": {
   "interpreter": {
    "hash": "4512e868ce03776b2acb55696d863bcca535b363b5450b1af05055989d5d969c"
   }
  }
 },
 "nbformat": 4,
 "nbformat_minor": 2
}
