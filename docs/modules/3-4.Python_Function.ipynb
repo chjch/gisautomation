{
 "cells": [
  {
   "cell_type": "markdown",
   "metadata": {},
   "source": [
    "# Variable and Function"
   ]
  },
  {
   "cell_type": "markdown",
   "metadata": {
    "pycharm": {
     "name": "#%% md\n"
    }
   },
   "source": [
    "## 1. Create and Use of Variables\n",
    "\n",
    "- Variable is a container of data.\n",
    "- Unlike other programming languages, Python has **no explicit command** for declaring a variable and no need to specify the variable's type.\n",
    "- A variable is created the moment you first assign a value to it.\n",
    "- After the creation of a variable, it can be _referenced_, _modified_ and _deleted_."
   ]
  },
  {
   "cell_type": "markdown",
   "metadata": {
    "pycharm": {
     "name": "#%% md\n"
    }
   },
   "source": [
    "```{admonition} Naming Rules\n",
    "\n",
    "- A variable name must start with a letter or the underscore character, but **cannot start with a number**;\n",
    "- A variable name can only contain alpha-numeric characters and underscores, i.e., `A-z`, `0-9`, and `_`;\n",
    "- Variable names are case-sensitive (**_age_**, **_Age_** and **_AGE_** are <u>3 _completely_ different variables</u>);\n",
    "- Avoid using Python reserved words as a variable's name, such as `str`, `max`.\n",
    "```"
   ]
  },
  {
   "cell_type": "markdown",
   "metadata": {
    "pycharm": {
     "name": "#%% md\n"
    }
   },
   "source": [
    "### 1.1 Declare a variable"
   ]
  },
  {
   "cell_type": "code",
   "execution_count": 22,
   "metadata": {
    "pycharm": {
     "name": "#%%\n"
    }
   },
   "outputs": [],
   "source": [
    "# valid names\n",
    "my_name = \"Michael\"\n",
    "_my_name = \"Michael\"\n",
    "__my__name = \"Michael\"\n",
    "myName = \"Michael\"\n",
    "MyName = \"Michael\""
   ]
  },
  {
   "cell_type": "code",
   "execution_count": null,
   "metadata": {
    "pycharm": {
     "name": "#%%\n"
    }
   },
   "outputs": [],
   "source": [
    "# invalid names\n",
    "my name = \"Michael\"  # space is invalid\n",
    "my-name = \"Michael\"  # dash is invalid (all special characters)\n",
    "1st_name = \"Michael\"  # starting with a number is invalid"
   ]
  },
  {
   "cell_type": "markdown",
   "metadata": {
    "pycharm": {
     "name": "#%% md\n"
    }
   },
   "source": [
    "**Good naming strategy**:\n",
    "\n",
    "- Choose meaningful name instead of short name. ```num_course``` is better than ```nc```.\n",
    "- Maintain the length of a variable name. ```number_of_courses_in_spring2020``` is too long.\n",
    "- Be consistent; ```num_course``` or ```numCourse``` or ```NumCourse```.\n",
    "\n",
    "```{tip}\n",
    "A variable can have a short name (like x and y) or a more descriptive name (age, carname, total_volume). Name variables in a more descriptive fashion is always preferable.\n",
    "```\n",
    "\n",
    "```{seealso}\n",
    "[PEP 8 -- Style Guide for Python Code](https://www.python.org/dev/peps/pep-0008/)\n",
    "```"
   ]
  },
  {
   "cell_type": "markdown",
   "metadata": {
    "pycharm": {
     "name": "#%% md\n"
    }
   },
   "source": [
    "### 1.2 Declare Multiple Variables Simultaneously"
   ]
  },
  {
   "cell_type": "code",
   "execution_count": 1,
   "metadata": {
    "pycharm": {
     "name": "#%%\n"
    }
   },
   "outputs": [
    {
     "name": "stdout",
     "output_type": "stream",
     "text": [
      "Orlando\n",
      "2\n",
      "Gainesville\n"
     ]
    }
   ],
   "source": [
    "a, b, c = \"Orlando\", 2, \"Gainesville\"\n",
    "print(a)\n",
    "print(b)\n",
    "print(c)"
   ]
  },
  {
   "cell_type": "code",
   "execution_count": 2,
   "metadata": {
    "pycharm": {
     "name": "#%%\n"
    }
   },
   "outputs": [
    {
     "name": "stdout",
     "output_type": "stream",
     "text": [
      "100\n",
      "100\n",
      "100\n"
     ]
    }
   ],
   "source": [
    "x = y = z = 100\n",
    "print(x)\n",
    "print(y); print(z)"
   ]
  },
  {
   "cell_type": "markdown",
   "metadata": {},
   "source": [
    "## 2. What is a function in Python\n",
    "\n",
    "- a block of code which only runs when it is called\n",
    "- use the `def` keyword\n",
    "- pass data, known as arguments, into a function\n",
    "- return a result after a series of operations\n",
    "\n",
    "### 2.1 Define a function"
   ]
  },
  {
   "cell_type": "code",
   "execution_count": 1,
   "metadata": {},
   "outputs": [],
   "source": [
    "def my_func():\n",
    "    pass"
   ]
  },
  {
   "cell_type": "code",
   "execution_count": 2,
   "metadata": {},
   "outputs": [
    {
     "data": {
      "text/plain": [
       "<function my_func at 0x000001FD543CE168>"
      ]
     },
     "execution_count": 2,
     "metadata": {},
     "output_type": "execute_result"
    }
   ],
   "source": [
    "my_func"
   ]
  },
  {
   "cell_type": "code",
   "execution_count": 3,
   "metadata": {},
   "outputs": [],
   "source": [
    "def hello_world():\n",
    "    print('hello_world')"
   ]
  },
  {
   "cell_type": "markdown",
   "metadata": {},
   "source": [
    "### 2.2 Run (call) a function"
   ]
  },
  {
   "cell_type": "code",
   "execution_count": 6,
   "metadata": {},
   "outputs": [
    {
     "data": {
      "text/plain": [
       "<function hello_world at 0x000001FD554468B8>"
      ]
     },
     "execution_count": 6,
     "metadata": {},
     "output_type": "execute_result"
    }
   ],
   "source": [
    "hello_world"
   ]
  },
  {
   "cell_type": "markdown",
   "metadata": {},
   "source": [
    "You need to include a pair of parentheses `()` to execute a function."
   ]
  },
  {
   "cell_type": "code",
   "execution_count": null,
   "metadata": {},
   "outputs": [],
   "source": [
    "hello_world()"
   ]
  },
  {
   "cell_type": "markdown",
   "metadata": {},
   "source": [
    "### 2.3 Function with arguments"
   ]
  },
  {
   "cell_type": "code",
   "execution_count": 7,
   "metadata": {},
   "outputs": [],
   "source": [
    "def pet_favor(pet_name):\n",
    "    print(\"I like \" + pet_name + \".\")"
   ]
  },
  {
   "cell_type": "code",
   "execution_count": 8,
   "metadata": {},
   "outputs": [
    {
     "name": "stdout",
     "output_type": "stream",
     "text": [
      "I like dog.\n"
     ]
    }
   ],
   "source": [
    "pet_favor(\"dog\")"
   ]
  },
  {
   "cell_type": "markdown",
   "metadata": {},
   "source": [
    "```{note}\n",
    "In general, we should follow the same naming strategy for functions as described above for variables.\n",
    "```"
   ]
  },
  {
   "cell_type": "markdown",
   "metadata": {},
   "source": [
    "### 2.4 Function returns an  output"
   ]
  },
  {
   "cell_type": "code",
   "execution_count": 9,
   "metadata": {},
   "outputs": [],
   "source": [
    "def multiply(a, b):\n",
    "    return a * b"
   ]
  },
  {
   "cell_type": "code",
   "execution_count": 10,
   "metadata": {
    "scrolled": false
   },
   "outputs": [
    {
     "data": {
      "text/plain": [
       "12"
      ]
     },
     "execution_count": 10,
     "metadata": {},
     "output_type": "execute_result"
    }
   ],
   "source": [
    "multiply(3, 4)"
   ]
  },
  {
   "cell_type": "code",
   "execution_count": 11,
   "metadata": {},
   "outputs": [
    {
     "name": "stdout",
     "output_type": "stream",
     "text": [
      "12\n"
     ]
    }
   ],
   "source": [
    "# assign the output of a function to a variable\n",
    "result = multiply(3, 4)\n",
    "print(result)"
   ]
  },
  {
   "cell_type": "markdown",
   "metadata": {},
   "source": [
    "## 3. An Example Function\n",
    "\n",
    "Here, we look at two examples of relatively more practical functions.\n",
    "The first one will convert lat/lon coordinates from Degrees Minutes and Seconds (DMS) to Decimal Degrees (DD).\n",
    "The second function will do the conversion in the opposite direction.\n",
    "\n",
    "### 3.1 From DMS to DD\n",
    "\n",
    "Coordinates of the University of Florida:\n",
    "\n",
    "- latitude = 29°38'34.98\" N\n",
    "- longitude = 82°21'16.47\" W"
   ]
  },
  {
   "cell_type": "code",
   "execution_count": 12,
   "metadata": {},
   "outputs": [],
   "source": [
    "def dms_dd(degree, minute, second):\n",
    "    dd = degree + minute/60 + second/3600\n",
    "    return dd"
   ]
  },
  {
   "cell_type": "code",
   "execution_count": 13,
   "metadata": {},
   "outputs": [
    {
     "data": {
      "text/plain": [
       "29.64305"
      ]
     },
     "execution_count": 13,
     "metadata": {},
     "output_type": "execute_result"
    }
   ],
   "source": [
    "dms_dd(29, 38, 34.98)"
   ]
  },
  {
   "cell_type": "code",
   "execution_count": null,
   "metadata": {},
   "outputs": [],
   "source": [
    "print(\n",
    "    \"latitude is {}, and latitude is {}\".format(\n",
    "        dms_dd(29, 38, 34.98),\n",
    "        -dms_dd(82, 21, 16.74)\n",
    "    )\n",
    ")"
   ]
  },
  {
   "cell_type": "markdown",
   "metadata": {},
   "source": [
    "### 3.2 From DD to DMS\n",
    "\n",
    "Three things to learn:\n",
    "\n",
    "1. Be aware of the precision issue when dealing with floating points\n",
    "    + how does ```int()``` function work (truncating)\n",
    "    + use the ```round()``` function to round decimals.\n",
    "2. Be comfortable with using `.format()` string.\n",
    "3. The **escape character** in strings `\\`.\n",
    "    + `\\'` --> '\n",
    "    + `\\\"` --> \"\n",
    "    + `\\\\` --> \\\n",
    "\n",
    "\n",
    "Tip:\n",
    "- Hold down ```Alt``` key and type 248 on the numeric keyboard."
   ]
  },
  {
   "cell_type": "code",
   "execution_count": 15,
   "metadata": {},
   "outputs": [
    {
     "name": "stdout",
     "output_type": "stream",
     "text": [
      "1\n",
      "0\n"
     ]
    }
   ],
   "source": [
    "print(round(0.7))\n",
    "print(round(0.5))"
   ]
  },
  {
   "cell_type": "code",
   "execution_count": 17,
   "metadata": {},
   "outputs": [
    {
     "data": {
      "text/plain": [
       "3.14"
      ]
     },
     "execution_count": 17,
     "metadata": {},
     "output_type": "execute_result"
    }
   ],
   "source": [
    "round(3.1415926, 2)"
   ]
  },
  {
   "cell_type": "code",
   "execution_count": 16,
   "metadata": {},
   "outputs": [
    {
     "data": {
      "text/plain": [
       "0"
      ]
     },
     "execution_count": 16,
     "metadata": {},
     "output_type": "execute_result"
    }
   ],
   "source": [
    "int(0.7)"
   ]
  },
  {
   "cell_type": "code",
   "execution_count": 18,
   "metadata": {},
   "outputs": [],
   "source": [
    "def dd_dms(dd):\n",
    "    degree = int(dd)\n",
    "    minute = int((dd - degree) * 60)\n",
    "    second = round((dd - degree - minute/60) * 3600, 2)\n",
    "    return \"{}°{}'{}\\\"\".format(degree, minute, second)"
   ]
  },
  {
   "cell_type": "code",
   "execution_count": 19,
   "metadata": {},
   "outputs": [
    {
     "name": "stdout",
     "output_type": "stream",
     "text": [
      "latitude: 29°38'34.98\" N.\n",
      "longitude: 82°21'16.47\" W.\n"
     ]
    }
   ],
   "source": [
    "print(\"latitude: {} N.\".format(dd_dms(29.64305)))\n",
    "print(\"longitude: {} W.\".format(dd_dms(82.354575)))"
   ]
  },
  {
   "cell_type": "markdown",
   "metadata": {},
   "source": [
    "## 4. Import a function from another module\n",
    "\n",
    "- module: any python code saved in a file (.py)\n",
    "- we can store our own Python function in a .py file\n",
    "- the function can then be imported as a regular Python module we imported (e.g., random)"
   ]
  },
  {
   "cell_type": "markdown",
   "metadata": {},
   "source": [
    "1. Create a new `.ipynb` file\n",
    "2. Save the `.ipynb` file to a `.py` file\n",
    "3. Import the function from the module"
   ]
  },
  {
   "cell_type": "markdown",
   "metadata": {},
   "source": [
    "We can import the module (`.py` file) first, and then use `.` to access the function defined in the module."
   ]
  },
  {
   "cell_type": "code",
   "execution_count": null,
   "metadata": {
    "tags": [
     "remove-output"
    ]
   },
   "outputs": [],
   "source": [
    "import latlonconv\n",
    "\n",
    "latlonconv.dd_dms(29.64305)"
   ]
  },
  {
   "cell_type": "markdown",
   "metadata": {},
   "source": [
    "Or, we can directly import the function itself, using the `from <module> import <function>` method."
   ]
  },
  {
   "cell_type": "code",
   "execution_count": null,
   "metadata": {
    "tags": [
     "remove-output"
    ]
   },
   "outputs": [],
   "source": [
    "from latlonconv import dd_dms\n",
    "\n",
    "dd_dms(29.64305)"
   ]
  },
  {
   "cell_type": "markdown",
   "metadata": {},
   "source": [
    "````{admonition} Fix for Importing error\n",
    ":class: tip\n",
    "\n",
    "When running _Python Notebook_ inside ArcGIS Pro, there's a chance that\n",
    "the current path of the notebook isn't added to the **system paths**.\n",
    "To fix that, you can manually insert the path containing your `.py` file to\n",
    "the system paths.\n",
    "```python\n",
    "import sys\n",
    "sys.path.insert(0, r\"your\\own\\path\")\n",
    "```\n",
    "````"
   ]
  }
 ],
 "metadata": {
  "celltoolbar": "Edit Metadata",
  "kernelspec": {
   "display_name": "Python 3 (ipykernel)",
   "language": "python",
   "name": "python3"
  },
  "language_info": {
   "codemirror_mode": {
    "name": "ipython",
    "version": 3
   },
   "file_extension": ".py",
   "mimetype": "text/x-python",
   "name": "python",
   "nbconvert_exporter": "python",
   "pygments_lexer": "ipython3",
   "version": "3.9.5"
  }
 },
 "nbformat": 4,
 "nbformat_minor": 2
}
