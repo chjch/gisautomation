{
 "cells": [
  {
   "attachments": {},
   "cell_type": "markdown",
   "metadata": {},
   "source": [
    "# 4-3: Run ArcPy Functions"
   ]
  },
  {
   "cell_type": "markdown",
   "metadata": {},
   "source": [
    "## 1. `ListFeatureClasses()`\n",
    "\n",
    "[The function](https://pro.arcgis.com/en/pro-app/latest/arcpy/functions/listfeatureclasses.htm)\n",
    "returns a list of the feature classes in the current workspace, which can be\n",
    "further filtered by specifying **_name_**, **_feature type_**, and\n",
    "**_feature dataset_** as optional arguments.\n",
    "\n",
    "### 1.1 Basic setting"
   ]
  },
  {
   "cell_type": "code",
   "execution_count": 2,
   "metadata": {},
   "outputs": [],
   "source": [
    "import arcpy"
   ]
  },
  {
   "cell_type": "code",
   "execution_count": 3,
   "metadata": {},
   "outputs": [],
   "source": [
    "gdb_worksp = r\"D:\\Dropbox (UFL)\\URP6271\\urp6271_spring2022\\class_data.gdb\"\n",
    "arcpy.env.workspace = gdb_worksp"
   ]
  },
  {
   "cell_type": "code",
   "execution_count": 4,
   "metadata": {},
   "outputs": [],
   "source": [
    "arcpy.ListFeatureClasses()"
   ]
  },
  {
   "attachments": {},
   "cell_type": "markdown",
   "metadata": {},
   "source": [
    "```{admonition} Note:\n",
    "The `workspace` environment must be set before using the list function.\n",
    "```"
   ]
  },
  {
   "cell_type": "markdown",
   "metadata": {},
   "source": [
    "### 1.2 Optional keyword arguments\n",
    "\n",
    "- `wild_card`: a string with an asterisk \n",
    "- `feature_type`: a string indicating feature type, i.e., _Point_, _Line_, _Polygon_\n",
    "- `feature_dataset`: a string that is the name of the feature dataset."
   ]
  },
  {
   "cell_type": "code",
   "execution_count": 5,
   "metadata": {},
   "outputs": [],
   "source": [
    "arcpy.ListFeatureClasses(\"major*\")"
   ]
  },
  {
   "cell_type": "code",
   "execution_count": 6,
   "metadata": {},
   "outputs": [],
   "source": [
    "arcpy.ListFeatureClasses(\"*roads\")"
   ]
  },
  {
   "cell_type": "markdown",
   "metadata": {},
   "source": [
    "### 1.3 Supply arguments to Python functions\n",
    "\n",
    "- by order:\n",
    "  - skip the argument if using default by either **empty string** or `None`.\n",
    "- by keyword:\n",
    "  - the order of arguments doesn't matter if using keyword"
   ]
  },
  {
   "cell_type": "code",
   "execution_count": 7,
   "metadata": {},
   "outputs": [],
   "source": [
    "# by order with empty string\n",
    "arcpy.ListFeatureClasses(\"\", \"Line\")"
   ]
  },
  {
   "cell_type": "code",
   "execution_count": 8,
   "metadata": {},
   "outputs": [],
   "source": [
    "# by order with None object\n",
    "arcpy.ListFeatureClasses(None, \"Point\")"
   ]
  },
  {
   "attachments": {},
   "cell_type": "markdown",
   "metadata": {},
   "source": [
    "``` {admonition} Note:\n",
    "`None` is a Python object not a string.\n",
    "```"
   ]
  },
  {
   "cell_type": "code",
   "execution_count": 9,
   "metadata": {},
   "outputs": [
    {
     "data": {
      "text/plain": [
       "NoneType"
      ]
     },
     "execution_count": 9,
     "metadata": {},
     "output_type": "execute_result"
    }
   ],
   "source": [
    "type(None)"
   ]
  },
  {
   "cell_type": "code",
   "execution_count": 10,
   "metadata": {},
   "outputs": [],
   "source": [
    "# specifying both arguments by order\n",
    "arcpy.ListFeatureClasses(\"*s\", \"Point\")"
   ]
  },
  {
   "cell_type": "code",
   "execution_count": 11,
   "metadata": {},
   "outputs": [],
   "source": [
    "# no space around the assignment operator when assign value to argument (PEP8)\n",
    "arcpy.ListFeatureClasses(feature_type=\"Point\") # skipped the first argument"
   ]
  },
  {
   "cell_type": "code",
   "execution_count": 12,
   "metadata": {},
   "outputs": [],
   "source": [
    "# no need to supply in sequence if using keyword\n",
    "arcpy.ListFeatureClasses(feature_type=\"Point\", wild_card=\"*s\") "
   ]
  },
  {
   "cell_type": "code",
   "execution_count": 13,
   "metadata": {},
   "outputs": [],
   "source": [
    "arcpy.ListFeatureClasses(feature_type=\"Polygon\") "
   ]
  },
  {
   "cell_type": "code",
   "execution_count": 14,
   "metadata": {},
   "outputs": [],
   "source": [
    "# return empty list if no match found in the workspace\n",
    "arcpy.ListFeatureClasses(feature_dataset=\"test\")"
   ]
  },
  {
   "cell_type": "markdown",
   "metadata": {},
   "source": [
    "## 2. Buffer"
   ]
  },
  {
   "cell_type": "code",
   "execution_count": 15,
   "metadata": {},
   "outputs": [
    {
     "ename": "ExecuteError",
     "evalue": "Failed to execute. Parameters are not valid.\nERROR 000732: Input Features: Dataset I75 does not exist or is not supported\nFailed to execute (Buffer).\n",
     "output_type": "error",
     "traceback": [
      "\u001b[1;31m---------------------------------------------------------------------------\u001b[0m",
      "\u001b[1;31mExecuteError\u001b[0m                              Traceback (most recent call last)",
      "\u001b[1;32m<ipython-input-15-a2a9321326bb>\u001b[0m in \u001b[0;36m<module>\u001b[1;34m\u001b[0m\n\u001b[0;32m      1\u001b[0m \u001b[0mI75\u001b[0m \u001b[1;33m=\u001b[0m \u001b[1;34m\"I75\"\u001b[0m\u001b[1;33m\u001b[0m\u001b[1;33m\u001b[0m\u001b[0m\n\u001b[0;32m      2\u001b[0m \u001b[0mI75_buff\u001b[0m \u001b[1;33m=\u001b[0m \u001b[1;34m\"I75_2mile_buff\"\u001b[0m\u001b[1;33m\u001b[0m\u001b[1;33m\u001b[0m\u001b[0m\n\u001b[1;32m----> 3\u001b[1;33m \u001b[0marcpy\u001b[0m\u001b[1;33m.\u001b[0m\u001b[0mBuffer_analysis\u001b[0m\u001b[1;33m(\u001b[0m\u001b[0mI75\u001b[0m\u001b[1;33m,\u001b[0m \u001b[1;34m\"I75_2mile_buff\"\u001b[0m\u001b[1;33m,\u001b[0m \u001b[1;34m\"2 Miles\"\u001b[0m\u001b[1;33m)\u001b[0m\u001b[1;33m\u001b[0m\u001b[1;33m\u001b[0m\u001b[0m\n\u001b[0m",
      "\u001b[1;32mc:\\Program Files\\ArcGIS\\Pro\\Resources\\ArcPy\\arcpy\\analysis.py\u001b[0m in \u001b[0;36mBuffer\u001b[1;34m(in_features, out_feature_class, buffer_distance_or_field, line_side, line_end_type, dissolve_option, dissolve_field, method)\u001b[0m\n\u001b[0;32m   1369\u001b[0m         \u001b[1;32mreturn\u001b[0m \u001b[0mretval\u001b[0m\u001b[1;33m\u001b[0m\u001b[1;33m\u001b[0m\u001b[0m\n\u001b[0;32m   1370\u001b[0m     \u001b[1;32mexcept\u001b[0m \u001b[0mException\u001b[0m \u001b[1;32mas\u001b[0m \u001b[0me\u001b[0m\u001b[1;33m:\u001b[0m\u001b[1;33m\u001b[0m\u001b[1;33m\u001b[0m\u001b[0m\n\u001b[1;32m-> 1371\u001b[1;33m         \u001b[1;32mraise\u001b[0m \u001b[0me\u001b[0m\u001b[1;33m\u001b[0m\u001b[1;33m\u001b[0m\u001b[0m\n\u001b[0m\u001b[0;32m   1372\u001b[0m \u001b[1;33m\u001b[0m\u001b[0m\n\u001b[0;32m   1373\u001b[0m \u001b[1;33m@\u001b[0m\u001b[0mgptooldoc\u001b[0m\u001b[1;33m(\u001b[0m\u001b[1;34m'CreateThiessenPolygons_analysis'\u001b[0m\u001b[1;33m,\u001b[0m \u001b[1;32mNone\u001b[0m\u001b[1;33m)\u001b[0m\u001b[1;33m\u001b[0m\u001b[1;33m\u001b[0m\u001b[0m\n",
      "\u001b[1;32mc:\\Program Files\\ArcGIS\\Pro\\Resources\\ArcPy\\arcpy\\analysis.py\u001b[0m in \u001b[0;36mBuffer\u001b[1;34m(in_features, out_feature_class, buffer_distance_or_field, line_side, line_end_type, dissolve_option, dissolve_field, method)\u001b[0m\n\u001b[0;32m   1366\u001b[0m     \u001b[1;32mfrom\u001b[0m \u001b[0marcpy\u001b[0m\u001b[1;33m.\u001b[0m\u001b[0marcobjects\u001b[0m\u001b[1;33m.\u001b[0m\u001b[0marcobjectconversion\u001b[0m \u001b[1;32mimport\u001b[0m \u001b[0mconvertArcObjectToPythonObject\u001b[0m\u001b[1;33m\u001b[0m\u001b[1;33m\u001b[0m\u001b[0m\n\u001b[0;32m   1367\u001b[0m     \u001b[1;32mtry\u001b[0m\u001b[1;33m:\u001b[0m\u001b[1;33m\u001b[0m\u001b[1;33m\u001b[0m\u001b[0m\n\u001b[1;32m-> 1368\u001b[1;33m         \u001b[0mretval\u001b[0m \u001b[1;33m=\u001b[0m \u001b[0mconvertArcObjectToPythonObject\u001b[0m\u001b[1;33m(\u001b[0m\u001b[0mgp\u001b[0m\u001b[1;33m.\u001b[0m\u001b[0mBuffer_analysis\u001b[0m\u001b[1;33m(\u001b[0m\u001b[1;33m*\u001b[0m\u001b[0mgp_fixargs\u001b[0m\u001b[1;33m(\u001b[0m\u001b[1;33m(\u001b[0m\u001b[0min_features\u001b[0m\u001b[1;33m,\u001b[0m \u001b[0mout_feature_class\u001b[0m\u001b[1;33m,\u001b[0m \u001b[0mbuffer_distance_or_field\u001b[0m\u001b[1;33m,\u001b[0m \u001b[0mline_side\u001b[0m\u001b[1;33m,\u001b[0m \u001b[0mline_end_type\u001b[0m\u001b[1;33m,\u001b[0m \u001b[0mdissolve_option\u001b[0m\u001b[1;33m,\u001b[0m \u001b[0mdissolve_field\u001b[0m\u001b[1;33m,\u001b[0m \u001b[0mmethod\u001b[0m\u001b[1;33m)\u001b[0m\u001b[1;33m,\u001b[0m \u001b[1;32mTrue\u001b[0m\u001b[1;33m)\u001b[0m\u001b[1;33m)\u001b[0m\u001b[1;33m)\u001b[0m\u001b[1;33m\u001b[0m\u001b[1;33m\u001b[0m\u001b[0m\n\u001b[0m\u001b[0;32m   1369\u001b[0m         \u001b[1;32mreturn\u001b[0m \u001b[0mretval\u001b[0m\u001b[1;33m\u001b[0m\u001b[1;33m\u001b[0m\u001b[0m\n\u001b[0;32m   1370\u001b[0m     \u001b[1;32mexcept\u001b[0m \u001b[0mException\u001b[0m \u001b[1;32mas\u001b[0m \u001b[0me\u001b[0m\u001b[1;33m:\u001b[0m\u001b[1;33m\u001b[0m\u001b[1;33m\u001b[0m\u001b[0m\n",
      "\u001b[1;32mc:\\Program Files\\ArcGIS\\Pro\\Resources\\ArcPy\\arcpy\\geoprocessing\\_base.py\u001b[0m in \u001b[0;36m<lambda>\u001b[1;34m(*args)\u001b[0m\n\u001b[0;32m    510\u001b[0m         \u001b[0mval\u001b[0m \u001b[1;33m=\u001b[0m \u001b[0mgetattr\u001b[0m\u001b[1;33m(\u001b[0m\u001b[0mself\u001b[0m\u001b[1;33m.\u001b[0m\u001b[0m_gp\u001b[0m\u001b[1;33m,\u001b[0m \u001b[0mattr\u001b[0m\u001b[1;33m)\u001b[0m\u001b[1;33m\u001b[0m\u001b[1;33m\u001b[0m\u001b[0m\n\u001b[0;32m    511\u001b[0m         \u001b[1;32mif\u001b[0m \u001b[0mcallable\u001b[0m\u001b[1;33m(\u001b[0m\u001b[0mval\u001b[0m\u001b[1;33m)\u001b[0m\u001b[1;33m:\u001b[0m\u001b[1;33m\u001b[0m\u001b[1;33m\u001b[0m\u001b[0m\n\u001b[1;32m--> 512\u001b[1;33m             \u001b[1;32mreturn\u001b[0m \u001b[1;32mlambda\u001b[0m \u001b[1;33m*\u001b[0m\u001b[0margs\u001b[0m\u001b[1;33m:\u001b[0m \u001b[0mval\u001b[0m\u001b[1;33m(\u001b[0m\u001b[1;33m*\u001b[0m\u001b[0mgp_fixargs\u001b[0m\u001b[1;33m(\u001b[0m\u001b[0margs\u001b[0m\u001b[1;33m,\u001b[0m \u001b[1;32mTrue\u001b[0m\u001b[1;33m)\u001b[0m\u001b[1;33m)\u001b[0m\u001b[1;33m\u001b[0m\u001b[1;33m\u001b[0m\u001b[0m\n\u001b[0m\u001b[0;32m    513\u001b[0m         \u001b[1;32melse\u001b[0m\u001b[1;33m:\u001b[0m\u001b[1;33m\u001b[0m\u001b[1;33m\u001b[0m\u001b[0m\n\u001b[0;32m    514\u001b[0m             \u001b[1;32mreturn\u001b[0m \u001b[0mconvertArcObjectToPythonObject\u001b[0m\u001b[1;33m(\u001b[0m\u001b[0mval\u001b[0m\u001b[1;33m)\u001b[0m\u001b[1;33m\u001b[0m\u001b[1;33m\u001b[0m\u001b[0m\n",
      "\u001b[1;31mExecuteError\u001b[0m: Failed to execute. Parameters are not valid.\nERROR 000732: Input Features: Dataset I75 does not exist or is not supported\nFailed to execute (Buffer).\n"
     ]
    }
   ],
   "source": [
    "I75 = \"I75\"\n",
    "I75_buff = \"I75_2mile_buff\"\n",
    "arcpy.Buffer_analysis(I75, \"I75_2mile_buff\", \"2 Miles\")"
   ]
  },
  {
   "attachments": {},
   "cell_type": "markdown",
   "metadata": {},
   "source": [
    "```{admonition} Pro Tip:\n",
    "Create variables for **arguments**, especially for the _input_ and _output_ feature class.\n",
    "```"
   ]
  },
  {
   "cell_type": "markdown",
   "metadata": {},
   "source": [
    "## 3. Clip"
   ]
  },
  {
   "cell_type": "code",
   "execution_count": null,
   "metadata": {},
   "outputs": [
    {
     "data": {
      "text/html": [
       "<div class='gpresult'><h2>Messages</h2><div id='messages' data-messages='[\"Start Time: Thursday, January 27, 2022 11:13:00 PM\",\"Analyzing input features...\",\"Dissolving clip features...\",\"Clipping input features...\",\"Succeeded at Thursday, January 27, 2022 11:13:01 PM (Elapsed Time: 0.77 seconds)\"]' data-show='true'><div id = 'default' /></div></div>"
      ],
      "text/plain": [
       "<Result 'D:\\\\Dropbox (UFL)\\\\URP6271\\\\urp6271_spring2022\\\\class_data.gdb\\\\schools_2mile_I75'>"
      ]
     },
     "execution_count": 50,
     "metadata": {},
     "output_type": "execute_result"
    }
   ],
   "source": [
    "school = \"schools\"\n",
    "school_2mile_I75 = \"schools_2mile_I75\"\n",
    "arcpy.analysis.Clip(school, I75_buff, school_2mile_I75)"
   ]
  },
  {
   "cell_type": "markdown",
   "metadata": {},
   "source": [
    "## 4. Spatial Join"
   ]
  },
  {
   "cell_type": "code",
   "execution_count": 51,
   "metadata": {},
   "outputs": [
    {
     "data": {
      "text/html": [
       "<div class='gpresult'><h2>Messages</h2><div id='messages' data-messages='[\"Start Time: Thursday, January 27, 2022 11:14:01 PM\",\"Succeeded at Thursday, January 27, 2022 11:14:03 PM (Elapsed Time: 1.49 seconds)\"]' data-show='true'><div id = 'default' /></div></div>"
      ],
      "text/plain": [
       "<Result 'D:\\\\Dropbox (UFL)\\\\URP6271\\\\urp6271_spring2022\\\\class_data.gdb\\\\blockgroups_school_spjoin'>"
      ]
     },
     "execution_count": 51,
     "metadata": {},
     "output_type": "execute_result"
    }
   ],
   "source": [
    "blkgrp = \"blockgroups\"\n",
    "bg_school_spjoin = \"blockgroups_school_spjoin\"\n",
    "arcpy.SpatialJoin_analysis(blkgrp, school_2mile_I75, bg_school_spjoin, \"\", \"KEEP_COMMON\") # keep common as the join type"
   ]
  },
  {
   "cell_type": "code",
   "execution_count": 53,
   "metadata": {},
   "outputs": [
    {
     "name": "stdout",
     "output_type": "stream",
     "text": [
      "19\n"
     ]
    }
   ],
   "source": [
    "# count number of census block groups that match critieria\n",
    "print(arcpy.GetCount_management(bg_school_spjoin))"
   ]
  },
  {
   "attachments": {},
   "cell_type": "markdown",
   "metadata": {},
   "source": [
    "## 5. Add Exception Handling\n",
    "\n",
    "```\n",
    "try:\n",
    "    arcpy.Toolname_toolboxalias\n",
    "except Exception as e:\n",
    "    print(e)\n",
    "```"
   ]
  },
  {
   "cell_type": "code",
   "execution_count": null,
   "metadata": {},
   "outputs": [
    {
     "name": "stdout",
     "output_type": "stream",
     "text": [
      "Error: Failed to execute. Parameters are not valid.\n",
      "ERROR 000725: Output Feature Class: Dataset D:\\Dropbox (UFL)\\URP6271\\urp6271_spring2022\\class_data.gdb\\blockgroups_school_spjoin already exists.\n",
      "Failed to execute (SpatialJoin).\n",
      "\n"
     ]
    }
   ],
   "source": [
    "try:\n",
    "    blkgrp = \"blockgroups\"\n",
    "    bg_school_spjoin = \"blockgroups_school_spjoin\"\n",
    "    arcpy.SpatialJoin_analysis(blkgrp, school_2mile_I75, bg_school_spjoin, \"\", \"KEEP_COMMON\")\n",
    "    arcpy.GetCount_management(bg_school_spjoin)\n",
    "except Exception as e:\n",
    "    print(\"Error: \" + str(e)) #.strip())"
   ]
  },
  {
   "cell_type": "markdown",
   "metadata": {},
   "source": [
    "### 5.1 Detect feature class existance\n",
    "\n",
    "As seen in the above cell, if the output feature class already exists in a\n",
    "workspace, by default, ArcPy will complain and stop executing the function.\n",
    "\n",
    "In this situation we can use `arcpy.Exist` to detect the existance of a feature\n",
    "class first, if already exists, use `arcpy.management.Delete` to **delete** it."
   ]
  },
  {
   "cell_type": "code",
   "execution_count": null,
   "metadata": {},
   "outputs": [
    {
     "name": "stdout",
     "output_type": "stream",
     "text": [
      "A feature class with the name blockgroups_school_spjoin already exists\n",
      "However, arcpy helped you deleted blockgroups_school_spjoin.\n",
      "succeed, output 19 features\n"
     ]
    }
   ],
   "source": [
    "if arcpy.Exists(bg_school_spjoin):\n",
    "    print(\"A feature class with the name {} already exists\".format(bg_school_spjoin))\n",
    "    arcpy.Delete_management(bg_school_spjoin)\n",
    "    print(\"However, arcpy helped you deleted {}.\".format(bg_school_spjoin))\n",
    "try:\n",
    "    blkgrp = \"blockgroups\"\n",
    "    bg_school_spjoin = \"blockgroups_school_spjoin\"\n",
    "    arcpy.SpatialJoin_analysis(blkgrp, school_2mile_I75, bg_school_spjoin, \"\", \"KEEP_COMMON\")\n",
    "    print(\"succeed, output {} features\".format(arcpy.GetCount_management(bg_school_spjoin)))\n",
    "except Exception as e:\n",
    "    print(\"Error: \" + str(e).strip())"
   ]
  },
  {
   "cell_type": "markdown",
   "metadata": {},
   "source": [
    "### 5.2 Set the `OverwriteOutput` attribute of the `env` class\n",
    "\n",
    "Another option is to simply set `OverwriteOutput` to be `True`.\n",
    "However, be careful, enable this setting will cause ArcPy to always overwrite\n",
    "current feature class to write output feature class."
   ]
  },
  {
   "cell_type": "code",
   "execution_count": null,
   "metadata": {},
   "outputs": [
    {
     "name": "stdout",
     "output_type": "stream",
     "text": [
      "Yes, blockgroups_school_spjoin exists\n",
      "succeed, output 19 features\n"
     ]
    }
   ],
   "source": [
    "arcpy.env.overwriteOutput = True\n",
    "if arcpy.Exists(bg_school_spjoin):\n",
    "    print(\"Yes, {} exists\".format(bg_school_spjoin))\n",
    "try:\n",
    "    blkgrp = \"blockgroups\"\n",
    "    bg_school_spjoin = \"blockgroups_school_spjoin\"\n",
    "    arcpy.SpatialJoin_analysis(blkgrp, school_2mile_I75, bg_school_spjoin, \"\", \"KEEP_COMMON\")\n",
    "    print(\"succeed, output {} features\".format(arcpy.GetCount_management(bg_school_spjoin)))\n",
    "except Exception as e:\n",
    "    print(\"Error: \" + str(e).strip())"
   ]
  }
 ],
 "metadata": {
  "kernelspec": {
   "display_name": "arcgispro-py3",
   "language": "python",
   "name": "python3"
  },
  "language_info": {
   "codemirror_mode": {
    "name": "ipython",
    "version": 3
   },
   "file_extension": ".py",
   "mimetype": "text/x-python",
   "name": "python",
   "nbconvert_exporter": "python",
   "pygments_lexer": "ipython3",
   "version": "3.9.11"
  },
  "vscode": {
   "interpreter": {
    "hash": "ce21b655b4d6c9e397d5ad93d5666c623f49909f6d0cc2f72076dafcf1b3ecfb"
   }
  }
 },
 "nbformat": 4,
 "nbformat_minor": 2
}
