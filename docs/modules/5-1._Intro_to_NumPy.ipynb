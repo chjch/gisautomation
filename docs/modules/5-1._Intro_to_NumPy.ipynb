{
 "cells": [
  {
   "attachments": {},
   "cell_type": "markdown",
   "metadata": {},
   "source": [
    "# 5-1: Using NumPy for ArcGIS\n",
    "\n",
    "- NumPy: a numeric computing libary: multidimensional array, linear algebra, mathematical operation\n",
    "- Offer fast operation of n-dimensional array\n",
    "- The foundation of the Scientific Python Ecosystem\n",
    "    - pandas\n",
    "    - SciPy\n",
    "    - matplotlib\n",
    "    - Seaborn\n",
    "    - scikit-learn\n",
    "    - IPython\n",
    "    - NetworkX\n",
    "    - Statsmodel\n",
    "    \n",
    "Helpful resource on NumPy:\n",
    "- [NumPy official site](https://numpy.org/)\n",
    "- [Tutorials on the scientific Python ecosystem](http://scipy-lectures.org/intro/numpy/index.html)"
   ]
  },
  {
   "cell_type": "markdown",
   "metadata": {},
   "source": [
    "## 1. import the NumPy package"
   ]
  },
  {
   "cell_type": "code",
   "execution_count": 1,
   "metadata": {},
   "outputs": [],
   "source": [
    "import numpy as np # this is a convention"
   ]
  },
  {
   "cell_type": "markdown",
   "metadata": {},
   "source": [
    "## 2. Get started with the basics\n",
    "\n",
    "### 2.1 Recall a Python list\n",
    "\n",
    "- Converting list to numpy ndarray using `np.array()`"
   ]
  },
  {
   "cell_type": "code",
   "execution_count": 2,
   "metadata": {},
   "outputs": [
    {
     "data": {
      "text/plain": [
       "[1, 2, 3, 4]"
      ]
     },
     "execution_count": 2,
     "metadata": {},
     "output_type": "execute_result"
    }
   ],
   "source": [
    "my_list = [1, 2, 3, 4]\n",
    "my_list"
   ]
  },
  {
   "cell_type": "code",
   "execution_count": 3,
   "metadata": {},
   "outputs": [
    {
     "data": {
      "text/plain": [
       "[1, 2, 3, 4]"
      ]
     },
     "execution_count": 3,
     "metadata": {},
     "output_type": "execute_result"
    }
   ],
   "source": [
    "my_list = list(range(1, 5))\n",
    "my_list"
   ]
  },
  {
   "cell_type": "code",
   "execution_count": 4,
   "metadata": {},
   "outputs": [
    {
     "data": {
      "text/plain": [
       "array([1, 2, 3, 4])"
      ]
     },
     "execution_count": 4,
     "metadata": {},
     "output_type": "execute_result"
    }
   ],
   "source": [
    "np.array(my_list) "
   ]
  },
  {
   "cell_type": "code",
   "execution_count": 5,
   "metadata": {},
   "outputs": [
    {
     "data": {
      "text/plain": [
       "numpy.ndarray"
      ]
     },
     "execution_count": 5,
     "metadata": {},
     "output_type": "execute_result"
    }
   ],
   "source": [
    "type(np.array(my_list))"
   ]
  },
  {
   "cell_type": "markdown",
   "metadata": {},
   "source": [
    "- Create ndarray with `np.arange()`: control interval width"
   ]
  },
  {
   "cell_type": "code",
   "execution_count": 6,
   "metadata": {},
   "outputs": [
    {
     "data": {
      "text/plain": [
       "array([1, 2, 3, 4])"
      ]
     },
     "execution_count": 6,
     "metadata": {},
     "output_type": "execute_result"
    }
   ],
   "source": [
    "np.arange(1, 5)"
   ]
  },
  {
   "cell_type": "code",
   "execution_count": 7,
   "metadata": {},
   "outputs": [
    {
     "data": {
      "text/plain": [
       "array([0, 1, 2, 3, 4, 5, 6, 7, 8, 9])"
      ]
     },
     "execution_count": 7,
     "metadata": {},
     "output_type": "execute_result"
    }
   ],
   "source": [
    "np.arange(10)   # default is start from 0"
   ]
  },
  {
   "cell_type": "code",
   "execution_count": 8,
   "metadata": {},
   "outputs": [
    {
     "data": {
      "text/plain": [
       "array([0, 1, 2, 3, 4, 5, 6, 7, 8, 9])"
      ]
     },
     "execution_count": 8,
     "metadata": {},
     "output_type": "execute_result"
    }
   ],
   "source": [
    "np.arange(0, 10)"
   ]
  },
  {
   "cell_type": "code",
   "execution_count": 9,
   "metadata": {},
   "outputs": [
    {
     "data": {
      "text/plain": [
       "array([0, 2, 4, 6, 8])"
      ]
     },
     "execution_count": 9,
     "metadata": {},
     "output_type": "execute_result"
    }
   ],
   "source": [
    "np.arange(0, 10, 2)"
   ]
  },
  {
   "cell_type": "markdown",
   "metadata": {},
   "source": [
    "- Create ndarray the `np.linspace()`: controlling number of elements"
   ]
  },
  {
   "cell_type": "code",
   "execution_count": 10,
   "metadata": {},
   "outputs": [
    {
     "data": {
      "text/plain": [
       "array([1., 2., 3., 4., 5.])"
      ]
     },
     "execution_count": 10,
     "metadata": {},
     "output_type": "execute_result"
    }
   ],
   "source": [
    "np.linspace(1, 5, 5) # start, stop, num"
   ]
  },
  {
   "cell_type": "code",
   "execution_count": 11,
   "metadata": {},
   "outputs": [
    {
     "data": {
      "text/plain": [
       "array([0. , 0.5, 1. , 1.5, 2. , 2.5, 3. , 3.5, 4. , 4.5, 5. ])"
      ]
     },
     "execution_count": 11,
     "metadata": {},
     "output_type": "execute_result"
    }
   ],
   "source": [
    "np.linspace(0, 5, 11)   # (5-0)/(11-1)"
   ]
  },
  {
   "cell_type": "code",
   "execution_count": 12,
   "metadata": {},
   "outputs": [
    {
     "data": {
      "text/plain": [
       "array([0.  , 0.25, 0.5 , 0.75, 1.  , 1.25, 1.5 , 1.75, 2.  , 2.25, 2.5 ,\n",
       "       2.75, 3.  , 3.25, 3.5 , 3.75, 4.  , 4.25, 4.5 , 4.75, 5.  ])"
      ]
     },
     "execution_count": 12,
     "metadata": {},
     "output_type": "execute_result"
    }
   ],
   "source": [
    "np.linspace(0, 5, 21)"
   ]
  },
  {
   "cell_type": "code",
   "execution_count": 13,
   "metadata": {},
   "outputs": [
    {
     "data": {
      "text/plain": [
       "array([0. , 0.2, 0.4, 0.6, 0.8, 1. , 1.2, 1.4, 1.6, 1.8, 2. , 2.2, 2.4,\n",
       "       2.6, 2.8, 3. , 3.2, 3.4, 3.6, 3.8, 4. , 4.2, 4.4, 4.6, 4.8, 5. ])"
      ]
     },
     "execution_count": 13,
     "metadata": {},
     "output_type": "execute_result"
    }
   ],
   "source": [
    "np.linspace(0, 5, 26)   # it requires a lot more codes without numpy i.e., using loop"
   ]
  },
  {
   "cell_type": "markdown",
   "metadata": {},
   "source": [
    "### 2.2 Indexing and slicing on NumPy array\n",
    "\n",
    "- index starts with \"**0**\" as usual\n",
    "- a negative index start count from the end of the array\n",
    "- use the colon to get multiple elements and return as an array\n",
    "- we can also slice NumPy array with step"
   ]
  },
  {
   "cell_type": "code",
   "execution_count": 14,
   "metadata": {},
   "outputs": [
    {
     "data": {
      "text/plain": [
       "array([0, 1, 2, 3, 4, 5, 6, 7, 8, 9])"
      ]
     },
     "execution_count": 14,
     "metadata": {},
     "output_type": "execute_result"
    }
   ],
   "source": [
    "my_arr = np.arange(10)\n",
    "my_arr"
   ]
  },
  {
   "cell_type": "code",
   "execution_count": 15,
   "metadata": {},
   "outputs": [
    {
     "data": {
      "text/plain": [
       "4"
      ]
     },
     "execution_count": 15,
     "metadata": {},
     "output_type": "execute_result"
    }
   ],
   "source": [
    "my_arr[4]"
   ]
  },
  {
   "cell_type": "code",
   "execution_count": 16,
   "metadata": {},
   "outputs": [
    {
     "data": {
      "text/plain": [
       "8"
      ]
     },
     "execution_count": 16,
     "metadata": {},
     "output_type": "execute_result"
    }
   ],
   "source": [
    "my_arr[-2]"
   ]
  },
  {
   "cell_type": "code",
   "execution_count": 17,
   "metadata": {},
   "outputs": [
    {
     "data": {
      "text/plain": [
       "array([1, 2, 3, 4, 5])"
      ]
     },
     "execution_count": 17,
     "metadata": {},
     "output_type": "execute_result"
    }
   ],
   "source": [
    "my_arr[1:6]"
   ]
  },
  {
   "cell_type": "code",
   "execution_count": 18,
   "metadata": {},
   "outputs": [
    {
     "data": {
      "text/plain": [
       "array([1, 3, 5])"
      ]
     },
     "execution_count": 18,
     "metadata": {},
     "output_type": "execute_result"
    }
   ],
   "source": [
    "my_arr[1:6:2]"
   ]
  },
  {
   "cell_type": "code",
   "execution_count": 19,
   "metadata": {},
   "outputs": [
    {
     "data": {
      "text/plain": [
       "array([0, 1, 2, 3, 4, 5, 6, 7, 8, 9])"
      ]
     },
     "execution_count": 19,
     "metadata": {},
     "output_type": "execute_result"
    }
   ],
   "source": [
    "my_arr[:]"
   ]
  },
  {
   "cell_type": "code",
   "execution_count": 20,
   "metadata": {},
   "outputs": [
    {
     "data": {
      "text/plain": [
       "array([9, 8, 7, 6, 5, 4, 3, 2, 1, 0])"
      ]
     },
     "execution_count": 20,
     "metadata": {},
     "output_type": "execute_result"
    }
   ],
   "source": [
    "my_arr[::-1]"
   ]
  },
  {
   "cell_type": "markdown",
   "metadata": {},
   "source": [
    "## 3. Generate random numbers with NumPy"
   ]
  },
  {
   "cell_type": "code",
   "execution_count": 21,
   "metadata": {},
   "outputs": [
    {
     "data": {
      "text/plain": [
       "6"
      ]
     },
     "execution_count": 21,
     "metadata": {},
     "output_type": "execute_result"
    }
   ],
   "source": [
    "np.random.randint(2, 10)"
   ]
  },
  {
   "cell_type": "code",
   "execution_count": 22,
   "metadata": {},
   "outputs": [
    {
     "data": {
      "text/plain": [
       "5"
      ]
     },
     "execution_count": 22,
     "metadata": {},
     "output_type": "execute_result"
    }
   ],
   "source": [
    "np.random.randint(10)"
   ]
  },
  {
   "cell_type": "code",
   "execution_count": 23,
   "metadata": {},
   "outputs": [
    {
     "data": {
      "text/plain": [
       "array([3, 1, 8, 5, 2, 2, 7, 3, 5, 1, 0, 1, 8, 7, 0, 0, 4, 6, 5, 2])"
      ]
     },
     "execution_count": 23,
     "metadata": {},
     "output_type": "execute_result"
    }
   ],
   "source": [
    "np.random.randint(0, 10, 20)"
   ]
  },
  {
   "cell_type": "code",
   "execution_count": 24,
   "metadata": {},
   "outputs": [
    {
     "data": {
      "text/plain": [
       "array([[0.74538232, 0.41584597],\n",
       "       [0.35122428, 0.03901372],\n",
       "       [0.2887653 , 0.38537612]])"
      ]
     },
     "execution_count": 24,
     "metadata": {},
     "output_type": "execute_result"
    }
   ],
   "source": [
    "np.random.rand(3,2) # from a uniform distribution over `[0, 1)`"
   ]
  },
  {
   "cell_type": "markdown",
   "metadata": {},
   "source": [
    "## 4. Work with NumPy in ArcGIS"
   ]
  },
  {
   "cell_type": "code",
   "execution_count": 25,
   "metadata": {},
   "outputs": [],
   "source": [
    "import arcpy"
   ]
  },
  {
   "cell_type": "code",
   "execution_count": 26,
   "metadata": {},
   "outputs": [],
   "source": [
    "gdb_worksp = r\"D:\\Dropbox (UFL)\\URP6271\\urp6271_spring2022\\class_data.gdb\"\n",
    "arcpy.env.workspace = gdb_worksp"
   ]
  },
  {
   "cell_type": "code",
   "execution_count": 27,
   "metadata": {},
   "outputs": [
    {
     "data": {
      "text/plain": [
       "['county_boundary',\n",
       " 'hospitals',\n",
       " 'schools',\n",
       " 'I75',\n",
       " 'roads',\n",
       " 'law_enforcement',\n",
       " 'major_highways',\n",
       " 'zip_boundaries',\n",
       " 'major_roads',\n",
       " 'landuse',\n",
       " 'crash',\n",
       " 'blockgroups',\n",
       " 'I75_2mile_buff',\n",
       " 'schools_2mile_I75',\n",
       " 'blockgroups_school_spjoin',\n",
       " 'zipbnd_q1',\n",
       " 'zipbnd_q2',\n",
       " 'blockgroups_Layer2_CopyFeatures']"
      ]
     },
     "execution_count": 27,
     "metadata": {},
     "output_type": "execute_result"
    }
   ],
   "source": [
    "arcpy.ListFeatureClasses()"
   ]
  },
  {
   "cell_type": "code",
   "execution_count": 28,
   "metadata": {},
   "outputs": [],
   "source": [
    "school_fc = \"schools\""
   ]
  },
  {
   "cell_type": "markdown",
   "metadata": {},
   "source": [
    "### 4.1 Retrieve field names of a feature class `arcpy.ListFields()`\n",
    "\n",
    "- a [field object](https://pro.arcgis.com/en/pro-app/2.7/arcpy/classes/field.htm)\n",
    "- Code example:\n",
    "\n",
    "```python\n",
    "import arcpy\n",
    "\n",
    "feature_class = \"c:/data/counties.shp\"\n",
    "\n",
    "# Create a list of fields using the ListFields function\n",
    "fields = arcpy.ListFields(feature_class)\n",
    "\n",
    "# Iterate through the list of fields\n",
    "for field in fields:\n",
    "    # Print field properties\n",
    "    print(\"Field:       {0}\".format(field.name))\n",
    "    print(\"Alias:       {0}\".format(field.aliasName))\n",
    "    print(\"Type:        {0}\".format(field.type))\n",
    "    print(\"Is Editable: {0}\".format(field.editable))\n",
    "    print(\"Required:    {0}\".format(field.required))\n",
    "    print(\"Scale:       {0}\".format(field.scale))\n",
    "    print(\"Precision:   {0}\".format(field.precision))\n",
    "```"
   ]
  },
  {
   "cell_type": "code",
   "execution_count": 29,
   "metadata": {},
   "outputs": [
    {
     "name": "stdout",
     "output_type": "stream",
     "text": [
      "['OBJECTID_1', 'Shape', 'OBJECTID', 'STATUS', 'SCORE', 'SIDE', 'MATCH_ADDR', 'FEDERAL_ID', 'STATE_ID', 'SCHOOL_ID', 'NAME', 'ADDRESS', 'CITY', 'ZIPCODE', 'PHONE', 'COUNTY', 'OPERATING', 'OP_CLASS', 'ENROLLMENT', 'PROGRAMS', 'COMMON_USE', 'USE', 'TYPE', 'ACTIVITY', 'GRADES', 'LOW_GRADE', 'HIGH_GRADE', 'PRINCIPAL', 'TEACHERS', 'STDTCH_RT', 'MIGRNT_STD', 'TITLE1SCHO', 'MAGNETINFO', 'FREE_LUNCH', 'REDUCED_LU', 'FISH_FAC1', 'FISH_FAC2', 'COMMENTS', 'BBSERVICE', 'BBPROVIDER', 'BBSPEED', 'DSTREAMSPD', 'YR_BUILT', 'PARCEL_ID', 'LAT_DD', 'LONG_DD', 'USNG_FL_1K', 'FDOE_MSID', 'NCES_PUB', 'NCES_PRIV', 'FDOE_PRV', 'SOURCE', 'DESCRIPT', 'FLAG', 'UPDATE_DAY', 'FGDLAQDATE', 'AUTOID']\n"
     ]
    }
   ],
   "source": [
    "school_fields = []\n",
    "for field in arcpy.ListFields(school_fc):\n",
    "    school_fields.append(field.name)\n",
    "print(school_fields)"
   ]
  },
  {
   "cell_type": "markdown",
   "metadata": {},
   "source": [
    "### 4.2 Convert a feature class to NumPy array\n",
    "\n",
    "- `arcpy.da`: the **_[Data Access](https://pro.arcgis.com/en/pro-app/2.8/arcpy/data-access/what-is-the-data-access-module-.htm)_** module\n",
    "- `arcpy.da.FeatureClassToNumPyArray` converts a feature class to a **_Structured Array_**\n",
    "- learn more about [structured arrays](https://docs.scipy.org/doc/numpy/user/basics.rec.html) "
   ]
  },
  {
   "cell_type": "code",
   "execution_count": 30,
   "metadata": {},
   "outputs": [],
   "source": [
    "school_arr = arcpy.da.FeatureClassToNumPyArray(\n",
    "    school_fc, [\"NAME\", 'OP_CLASS', 'ENROLLMENT', 'TYPE', 'TEACHERS']\n",
    ")"
   ]
  },
  {
   "cell_type": "code",
   "execution_count": 31,
   "metadata": {},
   "outputs": [
    {
     "data": {
      "text/plain": [
       "array([('GRACE CHRISTIAN SCHOOL OF ALACHUA CO.', 'PRIVATE',    0., 'SENIOR HIGH',   0. ),\n",
       "       ('FAMILY LIFE ACADEMY', 'PRIVATE',    0., 'COMBINATION ELEMENTARY & SECONDARY',   0. ),\n",
       "       ('FOREST GROVE CHRISTIAN ACADEMY', 'PRIVATE',   53., 'COMBINATION ELEMENTARY & SECONDARY',   9.4),\n",
       "       ('VAISHNAVA ACADEMY FOR GIRLS', 'PRIVATE',   19., 'COMBINATION JR. HIGH & SENIOR HIGH',   0. ),\n",
       "       ('BHAKTIVEDANTA ACADEMY', 'PRIVATE',    0., 'COMBINATION ELEMENTARY & MIDDLE',   0. ),\n",
       "       ('DESTINY CHRISTIAN ACADEMY', 'PRIVATE',    0., 'COMBINATION ELEMENTARY & MIDDLE',   0. ),\n",
       "       ('INCAF MONTESSORI SCHOOL', 'PRIVATE',    0., 'ELEMENTARY',   0. ),\n",
       "       ('GREAT AMERICAN VISIONS ENTERPRISES,INC', 'PRIVATE',    0., 'COMBINATION ELEMENTARY & MIDDLE',   0. ),\n",
       "       ('JORDAN GLEN SCHOOL INC.', 'PRIVATE',  115., 'COMBINATION ELEMENTARY & MIDDLE',  14.5),\n",
       "       ('QUEEN OF PEACE CATHOLIC ACADEMY', 'PRIVATE',  358., 'COMBINATION ELEMENTARY & MIDDLE',  28.4),\n",
       "       ('THE ROCK SCHOOL', 'PRIVATE',  207., 'COMBINATION ELEMENTARY & SECONDARY',  17.9),\n",
       "       ('CHRISTIAN LIFE ACADEMY', 'PRIVATE',   52., 'COMBINATION ELEMENTARY & SECONDARY',   5.9),\n",
       "       ('SAINT FRANCIS CATHOLIC HIGH SCHOOL', 'PRIVATE',  260., 'SENIOR HIGH',  19.8),\n",
       "       ('COUNTRYSIDE CHRISTIAN SCHOOL', 'PRIVATE',  106., 'COMBINATION ELEMENTARY & SECONDARY',   6.5),\n",
       "       ('TRILOGY SCHOOL OF LEARNING ALTERNATIVE', 'PRIVATE',   84., 'COMBINATION ELEMENTARY & SECONDARY',  11.5),\n",
       "       ('MILLHOPPER MONTESSORI SCHOOL', 'PRIVATE',  209., 'COMBINATION ELEMENTARY & MIDDLE',  19.1),\n",
       "       ('BNAI ISRAEL DAY SCHOOL', 'PRIVATE',   22., 'ELEMENTARY',   0. ),\n",
       "       ('GAINESVILLE CONDUCTIVE EDUCATION ACADEMY', 'PRIVATE',    0., 'COMBINATION ELEMENTARY & SECONDARY',   0. ),\n",
       "       ('BRENTWOOD SCHOOL', 'PRIVATE',  246., 'ELEMENTARY',  10.8),\n",
       "       ('CORNERSTONE ACADEMY', 'PRIVATE',  216., 'COMBINATION ELEMENTARY & SECONDARY',  24.8),\n",
       "       ('WESTWOOD HILLS CHRISTIAN SCHOOL', 'PRIVATE',  264., 'COMBINATION ELEMENTARY & SECONDARY',  12.6),\n",
       "       ('FLOWERS MONTESSORI SCHOOL', 'PRIVATE',   45., 'PRE-KINDERGARTEN-KINDERGARTEN',   6.1),\n",
       "       ('Z.L. SUNG S.D.A. SCHOOL', 'PRIVATE',   19., 'COMBINATION ELEMENTARY & MIDDLE',   2. ),\n",
       "       ('GAINESVILLE CONDUCTIVE EDUCATION ACADEMY', 'PRIVATE',    0., 'COMBINATION ELEMENTARY & MIDDLE',   0. ),\n",
       "       ('KIDS N ALL CHRISTIAN ACADEMY', 'PRIVATE',    0., 'ELEMENTARY',   0. ),\n",
       "       ('OAK HALL SCHOOL', 'PRIVATE',  753., 'COMBINATION ELEMENTARY & SECONDARY',  63.6),\n",
       "       ('FREEDOM CHRISTIAN ACADEMY', 'PRIVATE',    0., 'COMBINATION ELEMENTARY & MIDDLE',   0. ),\n",
       "       ('GAINESVILLE COUNTRY DAY SCHOOL', 'PRIVATE',  211., 'ELEMENTARY',  39.5),\n",
       "       ('FAITH TABERNACLE OF PRAISE SCHOOL OF MINISTRY', 'PUBLIC',    0., 'COLLEGE/UNIVERSITY',   0. ),\n",
       "       (\"THE CHILDREN'S CENTER\", 'PRIVATE',   55., 'ELEMENTARY',   0. ),\n",
       "       ('CITY COLLEGE', 'PRIVATE',    0., 'COLLEGE/UNIVERSITY',   0. ),\n",
       "       ('SAINT PATRICK INTERPARISH SCHOOL', 'PRIVATE',  336., 'COMBINATION ELEMENTARY & MIDDLE',  17.5),\n",
       "       ('STAR CHRISTIAN CENTER AND ACADEMY', 'PRIVATE',   43., 'COMBINATION ELEMENTARY & MIDDLE',   0. ),\n",
       "       ('COMPASSIONATE OUTREACH MINISTRIES', 'PRIVATE',    0., 'ELEMENTARY',   0. ),\n",
       "       ('WINDSOR CHRISTIAN ACADEMY', 'PRIVATE',   32., 'COMBINATION ELEMENTARY & SECONDARY',   2.1),\n",
       "       ('OAK HILL COMMUNITY PRIVATE SCHOOL SYSTEM', 'PRIVATE',    0., 'COMBINATION ELEMENTARY & MIDDLE',   0. ),\n",
       "       ('NORTH FLORIDA SDA ELEMENTARY', 'PRIVATE',   16., 'COMBINATION ELEMENTARY & SECONDARY',   1. ),\n",
       "       ('MICANOPY AREA COOPERATIVE SCHOOL, INC.', 'PUBLIC',  116., 'ELEMENTARY',   9. ),\n",
       "       ('ARCHER COMMUNITY SCHOOL', 'PUBLIC',  443., 'ELEMENTARY',  31.5),\n",
       "       ('SANTA FE COLLEGE - DAVIS CENTER', 'PUBLIC',    0., 'COLLEGE/UNIVERSITY',   0. ),\n",
       "       ('MICANOPY MIDDLE SCHOOL, INC.', 'PUBLIC',   76., 'MIDDLE/JR. HIGH',   4. ),\n",
       "       ('OAK VIEW MIDDLE SCHOOL', 'PUBLIC',  583., 'COMBINATION ELEMENTARY & MIDDLE',  34. ),\n",
       "       ('NEWBERRY ELEMENTARY SCHOOL', 'PUBLIC',  520., 'ELEMENTARY',  37. ),\n",
       "       ('NEWBERRY HIGH SCHOOL', 'PUBLIC',  596., 'SENIOR HIGH',  32. ),\n",
       "       ('HIGH SPRINGS COMMUNITY - ELEMENTARY AND MIDDLE SCHOOL', 'PUBLIC',  938., 'COMBINATION ELEMENTARY & MIDDLE',  54. ),\n",
       "       ('UNIVERSITY OF FLORIDA - COMPARITIVE MEDICINE', 'PUBLIC',    0., 'COLLEGE/UNIVERSITY',   0. ),\n",
       "       ('NORTH AMERICAN FAMILY INSTITUTE ALACHUA ACADEMY', 'PUBLIC',    0., 'COMBINATION JR. HIGH & SENIOR HIGH',   0. ),\n",
       "       ('PACE', 'PUBLIC',   39., 'COMBINATION JR. HIGH & SENIOR HIGH',   0. ),\n",
       "       ('HOSPITAL HOMEBOUND', 'PUBLIC',   24., 'COMBINATION ELEMENTARY & SECONDARY',   0. ),\n",
       "       ('SWEETWATER BRANCH ACADEMY', 'PUBLIC',  132., 'ELEMENTARY',   9. ),\n",
       "       ('PROFESSIONAL ACADEMY MAGNET AT LOFTEN HIGH SCHOOL', 'PUBLIC',  259., 'COMBINATION JR. HIGH & SENIOR HIGH',  22. ),\n",
       "       ('SANTA FE HIGH SCHOOL', 'PUBLIC', 1129., 'SENIOR HIGH',  49. ),\n",
       "       ('MEBANE MIDDLE SCHOOL', 'PUBLIC',  453., 'MIDDLE/JR. HIGH',  27. ),\n",
       "       ('ALACHUA LEARNING CENTER - PUBLIC CHARTER SCHOOL', 'PUBLIC',  167., 'ELEMENTARY',   9. ),\n",
       "       ('IRBY ELEMENTARY SCHOOL', 'PUBLIC',  521., 'ELEMENTARY',  37. ),\n",
       "       ('ALACHUA ELEMENTARY SCHOOL', 'PUBLIC',  446., 'ELEMENTARY',  34. ),\n",
       "       ('UNIVERSITY OF FLORIDA', 'PUBLIC',    0., 'COLLEGE/UNIVERSITY',   0. ),\n",
       "       ('UNIVERSITY OF FLORIDA - AGRONOMY LAB', 'PUBLIC',    0., 'COLLEGE/UNIVERSITY',   0. ),\n",
       "       ('SANTA FE COLLEGE - NORTHWEST CAMPUS', 'PUBLIC',    0., 'COLLEGE/UNIVERSITY',   0. ),\n",
       "       ('BUCHHOLZ HIGH SCHOOL', 'PUBLIC', 2221., 'SENIOR HIGH', 100. ),\n",
       "       ('FINLEY ELEMENTARY SCHOOL', 'PUBLIC',  439., 'ELEMENTARY',  34. ),\n",
       "       ('P.K. YONGE DEVELOPMENTAL RESEARCH SCHOOL', 'PUBLIC', 1139., 'COMBINATION ELEMENTARY & SECONDARY', 122. ),\n",
       "       ('CHILES ELEMENTARY SCHOOL', 'PUBLIC',  711., 'ELEMENTARY',  52. ),\n",
       "       ('FT CLARKE MIDDLE SCHOOL', 'PUBLIC',  801., 'MIDDLE/JR. HIGH',  47. ),\n",
       "       ('HIDDEN OAK ELEMENTARY SCHOOL', 'PUBLIC',  836., 'ELEMENTARY',  56. ),\n",
       "       ('TERWILLIGER ELEMENTARY SCHOOL', 'PUBLIC',  711., 'ELEMENTARY',  46. ),\n",
       "       ('TALBOT ELEMENTARY SCHOOL', 'PUBLIC',  731., 'ELEMENTARY',  50. ),\n",
       "       ('NORTON ELEMENTARY SCHOOL', 'PUBLIC',  657., 'ELEMENTARY',  48. ),\n",
       "       ('LITTLEWOOD ELEMENTARY SCHOOL', 'PUBLIC',  628., 'ELEMENTARY',  50.5),\n",
       "       ('WESTWOOD MIDDLE SCHOOL', 'PUBLIC', 1047., 'MIDDLE/JR. HIGH',  62. ),\n",
       "       ('HEALTHY LEARNING ACADEMY CHARTER SCHOOL', 'PUBLIC',   47., 'ELEMENTARY',   3. ),\n",
       "       ('GLEN SPRINGS ELEMENTARY SCHOOL', 'PUBLIC',  463., 'ELEMENTARY',  32.5),\n",
       "       ('GAINESVILLE HIGH SCHOOL', 'PUBLIC', 1928., 'SENIOR HIGH',  96. ),\n",
       "       ('FOSTER ELEMENTARY SCHOOL', 'PUBLIC',  466., 'ELEMENTARY',  38. ),\n",
       "       ('GENESIS PREPARATORY SCHOOL', 'PUBLIC',   71., 'ELEMENTARY',   4. ),\n",
       "       ('LANIER CENTER & ANCHOR CENTER', 'PUBLIC',  105., 'COMBINATION ELEMENTARY & SECONDARY',  25. ),\n",
       "       ('UNIVERSITY OF FLORIDA', 'PUBLIC',    0., 'COLLEGE/UNIVERSITY',   0. ),\n",
       "       ('A. QUINN JONES CENTER', 'PUBLIC',   67., 'COMBINATION ELEMENTARY & SECONDARY',  21. ),\n",
       "       ('CHARACTER COUNTS CENTER', 'PUBLIC',   19., 'COMBINATION ELEMENTARY & MIDDLE',   0. ),\n",
       "       ('SANTA FE COMMUNITY COLLEGE', 'PUBLIC',    0., 'COLLEGE/UNIVERSITY',   0. ),\n",
       "       ('KANAPAHA MIDDLE SCHOOL', 'PUBLIC',  932., 'MIDDLE/JR. HIGH',  53. ),\n",
       "       ('WILES ELEMENTARY SCHOOL', 'PUBLIC',  644., 'ELEMENTARY',  42. ),\n",
       "       ('FAMILY PROGRESS CENTER - WILES HEAD START', 'PUBLIC',   53., 'PRE-KINDERGARTEN',   0. ),\n",
       "       ('EINSTEIN MONTESSORI SCHOOL', 'PUBLIC',  106., 'COMBINATION ELEMENTARY & MIDDLE',   6.5),\n",
       "       ('IDYLWILD ELEMENTARY SCHOOL AND MULTI-COUNTY MIGRANT PROGRAM', 'PUBLIC',  570., 'ELEMENTARY',  41. ),\n",
       "       ('EXPRESSIONS LEARNING ARTS ACADEMY', 'PUBLIC',   86., 'ELEMENTARY',   7. ),\n",
       "       ('GAINESVILLE WILDERNESS INSTITUTE', 'PUBLIC',   35., 'COMBINATION JR. HIGH & SENIOR HIGH',   1. ),\n",
       "       ('CARING & SHARING LEARNING SCHOOL', 'PUBLIC',  131., 'ELEMENTARY',   6. ),\n",
       "       ('PRAIRIE VIEW ELEMENTARY SCHOOL', 'PUBLIC',  100., 'PRE-KINDERGARTEN',  15. ),\n",
       "       ('LINCOLN MIDDLE SCHOOL', 'PUBLIC',  709., 'MIDDLE/JR. HIGH',  42.5),\n",
       "       ('WILLIAMS ELEMENTARY SCHOOL', 'PUBLIC',  572., 'ELEMENTARY',  40. ),\n",
       "       ('ALACHUA COUNTY SUPERINTENDENT OFFICE - KIRBY-SMITH CENTER', 'PUBLIC',    0., 'SUPERINTENDENT OFFICE',   4. ),\n",
       "       ('DUVAL ELEMENTARY SCHOOL', 'PUBLIC',  445., 'ELEMENTARY',  42. ),\n",
       "       ('BISHOP MIDDLE SCHOOL', 'PUBLIC',  717., 'MIDDLE/JR. HIGH',  43. ),\n",
       "       ('METCALFE ELEMENTARY SCHOOL', 'PUBLIC',  531., 'ELEMENTARY',  32.5),\n",
       "       ('THE ONE ROOM SCHOOL HOUSE PROJECT', 'PUBLIC',  114., 'ELEMENTARY',  10. ),\n",
       "       ('RAWLINGS ELEMENTARY SCHOOL', 'PUBLIC',  395., 'ELEMENTARY',  28. ),\n",
       "       ('FEARNSIDE FAMILY SERVICES CENTER AND HEAD START / PREK E I CENTER', 'PUBLIC',   63., 'PRE-KINDERGARTEN',   5. ),\n",
       "       ('HOGGETOWNE MIDDLE SCHOOL', 'PUBLIC',  109., 'MIDDLE/JR. HIGH',   7.5),\n",
       "       ('HORIZON CENTER. ALTERNATIVE SCHOOL', 'PUBLIC',   79., 'COMBINATION JR. HIGH & SENIOR HIGH',  17. ),\n",
       "       ('LAKE FOREST ELEMENTARY SCHOOL', 'PUBLIC',  408., 'ELEMENTARY',  33. ),\n",
       "       ('EASTSIDE HIGH SCHOOL', 'PUBLIC', 1549., 'SENIOR HIGH',  89. ),\n",
       "       ('FLORIDA SIATECH AT GAINESVILLE,INC.', 'PUBLIC',  202., 'SENIOR HIGH',   5. ),\n",
       "       ('SHELL ELEMENTARY SCHOOL', 'PUBLIC',  193., 'ELEMENTARY',  16. ),\n",
       "       ('HAWTHORNE JR/SR HIGH SCHOOL', 'PUBLIC',  395., 'COMBINATION JR. HIGH & SENIOR HIGH',  23. ),\n",
       "       ('WALDO COMMUNITY SCHOOL', 'PUBLIC',  215., 'ELEMENTARY',  17. ),\n",
       "       ('UNIVERSITY OF FLORIDA', 'PUBLIC',    0., 'COLLEGE/UNIVERSITY',   0. ),\n",
       "       ('SANTA FE COLLEGE - CHARLES L BLOUNT DOWNTOWN CENTER', 'PUBLIC',    0., 'COLLEGE/UNIVERSITY',   0. ),\n",
       "       ('SANTA FE COLLEGE - KIRKPATRICK CENTER', 'PUBLIC',    0., 'COLLEGE/UNIVERSITY',   0. ),\n",
       "       ('ALACHUA COUNTY JAIL', 'PUBLIC',    0., 'COMBINATION JR. HIGH & SENIOR HIGH',   0. ),\n",
       "       ('ALACHUA  COUNTY STUDENT SERVICES/ MIGRANT/ VIRTUAL PROGRAM/ MCKAY SCHOLARSHIP/ HOMEBOUND PROGRAM', 'PUBLIC',    0., 'MIGRANT EDUCATION PROGRAM',   4. ),\n",
       "       ('OAK HALL LOWER SCHOOL', 'PRIVATE',  365., 'ELEMENTARY',  16. )],\n",
       "      dtype=[('NAME', '<U100'), ('OP_CLASS', '<U12'), ('ENROLLMENT', '<f8'), ('TYPE', '<U35'), ('TEACHERS', '<f8')])"
      ]
     },
     "execution_count": 31,
     "metadata": {},
     "output_type": "execute_result"
    }
   ],
   "source": [
    "school_arr"
   ]
  },
  {
   "cell_type": "markdown",
   "metadata": {},
   "source": [
    "Retrieve the **shape** (or length) of an array"
   ]
  },
  {
   "cell_type": "code",
   "execution_count": 32,
   "metadata": {},
   "outputs": [
    {
     "data": {
      "text/plain": [
       "112"
      ]
     },
     "execution_count": 32,
     "metadata": {},
     "output_type": "execute_result"
    }
   ],
   "source": [
    "len(school_arr)"
   ]
  },
  {
   "cell_type": "code",
   "execution_count": 33,
   "metadata": {},
   "outputs": [
    {
     "data": {
      "text/plain": [
       "(112,)"
      ]
     },
     "execution_count": 33,
     "metadata": {},
     "output_type": "execute_result"
    }
   ],
   "source": [
    "school_arr.shape"
   ]
  },
  {
   "cell_type": "markdown",
   "metadata": {},
   "source": [
    "View the first five elements of a structured array"
   ]
  },
  {
   "cell_type": "code",
   "execution_count": 34,
   "metadata": {},
   "outputs": [
    {
     "data": {
      "text/plain": [
       "array([('GRACE CHRISTIAN SCHOOL OF ALACHUA CO.', 'PRIVATE',  0., 'SENIOR HIGH', 0. ),\n",
       "       ('FAMILY LIFE ACADEMY', 'PRIVATE',  0., 'COMBINATION ELEMENTARY & SECONDARY', 0. ),\n",
       "       ('FOREST GROVE CHRISTIAN ACADEMY', 'PRIVATE', 53., 'COMBINATION ELEMENTARY & SECONDARY', 9.4),\n",
       "       ('VAISHNAVA ACADEMY FOR GIRLS', 'PRIVATE', 19., 'COMBINATION JR. HIGH & SENIOR HIGH', 0. ),\n",
       "       ('BHAKTIVEDANTA ACADEMY', 'PRIVATE',  0., 'COMBINATION ELEMENTARY & MIDDLE', 0. )],\n",
       "      dtype=[('NAME', '<U100'), ('OP_CLASS', '<U12'), ('ENROLLMENT', '<f8'), ('TYPE', '<U35'), ('TEACHERS', '<f8')])"
      ]
     },
     "execution_count": 34,
     "metadata": {},
     "output_type": "execute_result"
    }
   ],
   "source": [
    "school_arr[:5]"
   ]
  },
  {
   "cell_type": "code",
   "execution_count": 35,
   "metadata": {},
   "outputs": [
    {
     "data": {
      "text/plain": [
       "array([('GRACE CHRISTIAN SCHOOL OF ALACHUA CO.', 'PRIVATE',  0., 'SENIOR HIGH', 0. ),\n",
       "       ('FAMILY LIFE ACADEMY', 'PRIVATE',  0., 'COMBINATION ELEMENTARY & SECONDARY', 0. ),\n",
       "       ('FOREST GROVE CHRISTIAN ACADEMY', 'PRIVATE', 53., 'COMBINATION ELEMENTARY & SECONDARY', 9.4),\n",
       "       ('VAISHNAVA ACADEMY FOR GIRLS', 'PRIVATE', 19., 'COMBINATION JR. HIGH & SENIOR HIGH', 0. ),\n",
       "       ('BHAKTIVEDANTA ACADEMY', 'PRIVATE',  0., 'COMBINATION ELEMENTARY & MIDDLE', 0. )],\n",
       "      dtype=[('NAME', '<U100'), ('OP_CLASS', '<U12'), ('ENROLLMENT', '<f8'), ('TYPE', '<U35'), ('TEACHERS', '<f8')])"
      ]
     },
     "execution_count": 35,
     "metadata": {},
     "output_type": "execute_result"
    }
   ],
   "source": [
    "school_arr[0:5]"
   ]
  },
  {
   "cell_type": "markdown",
   "metadata": {},
   "source": [
    "View the 1st, 5th, 10th, 100th element of the array\n",
    "\n",
    "- supply the indicies as a Python list"
   ]
  },
  {
   "cell_type": "code",
   "execution_count": 36,
   "metadata": {},
   "outputs": [
    {
     "data": {
      "text/plain": [
       "array([('GRACE CHRISTIAN SCHOOL OF ALACHUA CO.', 'PRIVATE',   0., 'SENIOR HIGH',  0. ),\n",
       "       ('BHAKTIVEDANTA ACADEMY', 'PRIVATE',   0., 'COMBINATION ELEMENTARY & MIDDLE',  0. ),\n",
       "       ('QUEEN OF PEACE CATHOLIC ACADEMY', 'PRIVATE', 358., 'COMBINATION ELEMENTARY & MIDDLE', 28.4),\n",
       "       ('HORIZON CENTER. ALTERNATIVE SCHOOL', 'PUBLIC',  79., 'COMBINATION JR. HIGH & SENIOR HIGH', 17. )],\n",
       "      dtype=[('NAME', '<U100'), ('OP_CLASS', '<U12'), ('ENROLLMENT', '<f8'), ('TYPE', '<U35'), ('TEACHERS', '<f8')])"
      ]
     },
     "execution_count": 36,
     "metadata": {},
     "output_type": "execute_result"
    }
   ],
   "source": [
    "school_arr[[0, 4, 9, 99]]"
   ]
  },
  {
   "cell_type": "markdown",
   "metadata": {},
   "source": [
    "Retrieve a **field** (column) from a structured array: using the field name"
   ]
  },
  {
   "cell_type": "code",
   "execution_count": 37,
   "metadata": {},
   "outputs": [
    {
     "data": {
      "text/plain": [
       "array([   0.,    0.,   53.,   19.,    0.,    0.,    0.,    0.,  115.,\n",
       "        358.,  207.,   52.,  260.,  106.,   84.,  209.,   22.,    0.,\n",
       "        246.,  216.,  264.,   45.,   19.,    0.,    0.,  753.,    0.,\n",
       "        211.,    0.,   55.,    0.,  336.,   43.,    0.,   32.,    0.,\n",
       "         16.,  116.,  443.,    0.,   76.,  583.,  520.,  596.,  938.,\n",
       "          0.,    0.,   39.,   24.,  132.,  259., 1129.,  453.,  167.,\n",
       "        521.,  446.,    0.,    0.,    0., 2221.,  439., 1139.,  711.,\n",
       "        801.,  836.,  711.,  731.,  657.,  628., 1047.,   47.,  463.,\n",
       "       1928.,  466.,   71.,  105.,    0.,   67.,   19.,    0.,  932.,\n",
       "        644.,   53.,  106.,  570.,   86.,   35.,  131.,  100.,  709.,\n",
       "        572.,    0.,  445.,  717.,  531.,  114.,  395.,   63.,  109.,\n",
       "         79.,  408., 1549.,  202.,  193.,  395.,  215.,    0.,    0.,\n",
       "          0.,    0.,    0.,  365.])"
      ]
     },
     "execution_count": 37,
     "metadata": {},
     "output_type": "execute_result"
    }
   ],
   "source": [
    "school_arr['ENROLLMENT']"
   ]
  },
  {
   "cell_type": "markdown",
   "metadata": {},
   "source": [
    "### 4.3 Compute statistics of an ndarray\n",
    "\n",
    "- maximum: ```np.max()```\n",
    "- minimum: ```np.min()```\n",
    "- mean: ```np.mean()```\n",
    "- standard deviation: ```np.std()```"
   ]
  },
  {
   "cell_type": "code",
   "execution_count": 38,
   "metadata": {},
   "outputs": [],
   "source": [
    "enroll_arr = school_arr['ENROLLMENT']"
   ]
  },
  {
   "cell_type": "code",
   "execution_count": 39,
   "metadata": {},
   "outputs": [
    {
     "data": {
      "text/plain": [
       "2221.0"
      ]
     },
     "execution_count": 39,
     "metadata": {},
     "output_type": "execute_result"
    }
   ],
   "source": [
    "np.max(enroll_arr)"
   ]
  },
  {
   "cell_type": "code",
   "execution_count": 40,
   "metadata": {},
   "outputs": [
    {
     "data": {
      "text/plain": [
       "0.0"
      ]
     },
     "execution_count": 40,
     "metadata": {},
     "output_type": "execute_result"
    }
   ],
   "source": [
    "np.min(enroll_arr)"
   ]
  },
  {
   "cell_type": "code",
   "execution_count": 41,
   "metadata": {},
   "outputs": [
    {
     "data": {
      "text/plain": [
       "294.35714285714283"
      ]
     },
     "execution_count": 41,
     "metadata": {},
     "output_type": "execute_result"
    }
   ],
   "source": [
    "np.mean(enroll_arr)"
   ]
  },
  {
   "cell_type": "code",
   "execution_count": 42,
   "metadata": {},
   "outputs": [
    {
     "data": {
      "text/plain": [
       "397.6106732080762"
      ]
     },
     "execution_count": 42,
     "metadata": {},
     "output_type": "execute_result"
    }
   ],
   "source": [
    "np.std(enroll_arr)"
   ]
  },
  {
   "cell_type": "markdown",
   "metadata": {},
   "source": [
    "### 4.4 Simple Query against NumPy array\n",
    "\n",
    "- which school has the largest enrollment: `argmax`\n",
    "- which school has the smallest enrollment: `argmin`"
   ]
  },
  {
   "cell_type": "code",
   "execution_count": 43,
   "metadata": {},
   "outputs": [
    {
     "data": {
      "text/plain": [
       "59"
      ]
     },
     "execution_count": 43,
     "metadata": {},
     "output_type": "execute_result"
    }
   ],
   "source": [
    "enroll_arr.argmax() # returns the index of the largest value"
   ]
  },
  {
   "cell_type": "code",
   "execution_count": 44,
   "metadata": {},
   "outputs": [
    {
     "data": {
      "text/plain": [
       "'BUCHHOLZ HIGH SCHOOL'"
      ]
     },
     "execution_count": 44,
     "metadata": {},
     "output_type": "execute_result"
    }
   ],
   "source": [
    "school_arr['NAME'][enroll_arr.argmax()]"
   ]
  },
  {
   "cell_type": "code",
   "execution_count": 45,
   "metadata": {},
   "outputs": [
    {
     "data": {
      "text/plain": [
       "'GRACE CHRISTIAN SCHOOL OF ALACHUA CO.'"
      ]
     },
     "execution_count": 45,
     "metadata": {},
     "output_type": "execute_result"
    }
   ],
   "source": [
    "school_arr['NAME'][enroll_arr.argmin()]"
   ]
  },
  {
   "cell_type": "markdown",
   "metadata": {},
   "source": [
    "### 4.5 Generate new arrays based on a conditional statement\n",
    "\n",
    "- schools enrollment is positive\n",
    "- schools that are public"
   ]
  },
  {
   "cell_type": "code",
   "execution_count": 46,
   "metadata": {},
   "outputs": [
    {
     "data": {
      "text/plain": [
       "array([False, False,  True,  True, False, False, False, False,  True,\n",
       "        True,  True,  True,  True,  True,  True,  True,  True, False,\n",
       "        True,  True,  True,  True,  True, False, False,  True, False,\n",
       "        True, False,  True, False,  True,  True, False,  True, False,\n",
       "        True,  True,  True, False,  True,  True,  True,  True,  True,\n",
       "       False, False,  True,  True,  True,  True,  True,  True,  True,\n",
       "        True,  True, False, False, False,  True,  True,  True,  True,\n",
       "        True,  True,  True,  True,  True,  True,  True,  True,  True,\n",
       "        True,  True,  True,  True, False,  True,  True, False,  True,\n",
       "        True,  True,  True,  True,  True,  True,  True,  True,  True,\n",
       "        True, False,  True,  True,  True,  True,  True,  True,  True,\n",
       "        True,  True,  True,  True,  True,  True,  True, False, False,\n",
       "       False, False, False,  True])"
      ]
     },
     "execution_count": 46,
     "metadata": {},
     "output_type": "execute_result"
    }
   ],
   "source": [
    "enroll_arr > 0 # returns as an ndarray of booleans"
   ]
  },
  {
   "cell_type": "code",
   "execution_count": 47,
   "metadata": {},
   "outputs": [
    {
     "data": {
      "text/plain": [
       "array([False, False, False, False, False, False, False, False, False,\n",
       "       False, False, False, False, False, False, False, False, False,\n",
       "       False, False, False, False, False, False, False, False, False,\n",
       "       False,  True, False, False, False, False, False, False, False,\n",
       "       False,  True,  True,  True,  True,  True,  True,  True,  True,\n",
       "        True,  True,  True,  True,  True,  True,  True,  True,  True,\n",
       "        True,  True,  True,  True,  True,  True,  True,  True,  True,\n",
       "        True,  True,  True,  True,  True,  True,  True,  True,  True,\n",
       "        True,  True,  True,  True,  True,  True,  True,  True,  True,\n",
       "        True,  True,  True,  True,  True,  True,  True,  True,  True,\n",
       "        True,  True,  True,  True,  True,  True,  True,  True,  True,\n",
       "        True,  True,  True,  True,  True,  True,  True,  True,  True,\n",
       "        True,  True,  True, False])"
      ]
     },
     "execution_count": 47,
     "metadata": {},
     "output_type": "execute_result"
    }
   ],
   "source": [
    "school_type_arr = school_arr['OP_CLASS']\n",
    "school_type_arr == 'PUBLIC'"
   ]
  },
  {
   "cell_type": "markdown",
   "metadata": {},
   "source": [
    "Use array of booleans to select from an ndarray\n",
    "\n",
    "- the array of booleans must be in the same shape as the original array"
   ]
  },
  {
   "cell_type": "code",
   "execution_count": 48,
   "metadata": {},
   "outputs": [
    {
     "data": {
      "text/plain": [
       "array([1, 2, 3, 4])"
      ]
     },
     "execution_count": 48,
     "metadata": {},
     "output_type": "execute_result"
    }
   ],
   "source": [
    "num_arr = np.array([1, 2, 3, 4])\n",
    "num_arr"
   ]
  },
  {
   "cell_type": "code",
   "execution_count": 49,
   "metadata": {},
   "outputs": [],
   "source": [
    "bool_arr = np.array([True, False, True, True])"
   ]
  },
  {
   "cell_type": "code",
   "execution_count": 50,
   "metadata": {},
   "outputs": [
    {
     "data": {
      "text/plain": [
       "array([1, 3, 4])"
      ]
     },
     "execution_count": 50,
     "metadata": {},
     "output_type": "execute_result"
    }
   ],
   "source": [
    "num_arr[bool_arr]"
   ]
  },
  {
   "cell_type": "code",
   "execution_count": 51,
   "metadata": {},
   "outputs": [
    {
     "data": {
      "text/plain": [
       "array(['GRACE CHRISTIAN SCHOOL OF ALACHUA CO.', 'FAMILY LIFE ACADEMY',\n",
       "       'BHAKTIVEDANTA ACADEMY', 'DESTINY CHRISTIAN ACADEMY',\n",
       "       'INCAF MONTESSORI SCHOOL',\n",
       "       'GREAT AMERICAN VISIONS ENTERPRISES,INC',\n",
       "       'GAINESVILLE CONDUCTIVE EDUCATION ACADEMY',\n",
       "       'GAINESVILLE CONDUCTIVE EDUCATION ACADEMY',\n",
       "       'KIDS N ALL CHRISTIAN ACADEMY', 'FREEDOM CHRISTIAN ACADEMY',\n",
       "       'FAITH TABERNACLE OF PRAISE SCHOOL OF MINISTRY', 'CITY COLLEGE',\n",
       "       'COMPASSIONATE OUTREACH MINISTRIES',\n",
       "       'OAK HILL COMMUNITY PRIVATE SCHOOL SYSTEM',\n",
       "       'SANTA FE COLLEGE - DAVIS CENTER',\n",
       "       'UNIVERSITY OF FLORIDA - COMPARITIVE MEDICINE',\n",
       "       'NORTH AMERICAN FAMILY INSTITUTE ALACHUA ACADEMY',\n",
       "       'UNIVERSITY OF FLORIDA', 'UNIVERSITY OF FLORIDA - AGRONOMY LAB',\n",
       "       'SANTA FE COLLEGE - NORTHWEST CAMPUS', 'UNIVERSITY OF FLORIDA',\n",
       "       'SANTA FE COMMUNITY COLLEGE',\n",
       "       'ALACHUA COUNTY SUPERINTENDENT OFFICE - KIRBY-SMITH CENTER',\n",
       "       'UNIVERSITY OF FLORIDA',\n",
       "       'SANTA FE COLLEGE - CHARLES L BLOUNT DOWNTOWN CENTER',\n",
       "       'SANTA FE COLLEGE - KIRKPATRICK CENTER', 'ALACHUA COUNTY JAIL',\n",
       "       'ALACHUA  COUNTY STUDENT SERVICES/ MIGRANT/ VIRTUAL PROGRAM/ MCKAY SCHOLARSHIP/ HOMEBOUND PROGRAM'],\n",
       "      dtype='<U100')"
      ]
     },
     "execution_count": 51,
     "metadata": {},
     "output_type": "execute_result"
    }
   ],
   "source": [
    "# How to find out which school doesn't have positive enrollment\n",
    "# np.invert() negates the judgement\n",
    "school_arr[np.invert(enroll_arr > 0)]['NAME']"
   ]
  },
  {
   "cell_type": "markdown",
   "metadata": {},
   "source": [
    "### 4.6 Simple numeric operation \n",
    "\n",
    "- operation on its own\n",
    "- operation including two arrays (must be of the same shape)"
   ]
  },
  {
   "cell_type": "code",
   "execution_count": 52,
   "metadata": {},
   "outputs": [
    {
     "data": {
      "text/plain": [
       "array([   0.,    0.,   53.,   19.,    0.,    0.,    0.,    0.,  115.,\n",
       "        358.,  207.,   52.,  260.,  106.,   84.,  209.,   22.,    0.,\n",
       "        246.,  216.,  264.,   45.,   19.,    0.,    0.,  753.,    0.,\n",
       "        211.,    0.,   55.,    0.,  336.,   43.,    0.,   32.,    0.,\n",
       "         16.,  116.,  443.,    0.,   76.,  583.,  520.,  596.,  938.,\n",
       "          0.,    0.,   39.,   24.,  132.,  259., 1129.,  453.,  167.,\n",
       "        521.,  446.,    0.,    0.,    0., 2221.,  439., 1139.,  711.,\n",
       "        801.,  836.,  711.,  731.,  657.,  628., 1047.,   47.,  463.,\n",
       "       1928.,  466.,   71.,  105.,    0.,   67.,   19.,    0.,  932.,\n",
       "        644.,   53.,  106.,  570.,   86.,   35.,  131.,  100.,  709.,\n",
       "        572.,    0.,  445.,  717.,  531.,  114.,  395.,   63.,  109.,\n",
       "         79.,  408., 1549.,  202.,  193.,  395.,  215.,    0.,    0.,\n",
       "          0.,    0.,    0.,  365.])"
      ]
     },
     "execution_count": 52,
     "metadata": {},
     "output_type": "execute_result"
    }
   ],
   "source": [
    "enroll_arr"
   ]
  },
  {
   "cell_type": "code",
   "execution_count": 53,
   "metadata": {},
   "outputs": [
    {
     "data": {
      "text/plain": [
       "array([   0.,    0.,  106.,   38.,    0.,    0.,    0.,    0.,  230.,\n",
       "        716.,  414.,  104.,  520.,  212.,  168.,  418.,   44.,    0.,\n",
       "        492.,  432.,  528.,   90.,   38.,    0.,    0., 1506.,    0.,\n",
       "        422.,    0.,  110.,    0.,  672.,   86.,    0.,   64.,    0.,\n",
       "         32.,  232.,  886.,    0.,  152., 1166., 1040., 1192., 1876.,\n",
       "          0.,    0.,   78.,   48.,  264.,  518., 2258.,  906.,  334.,\n",
       "       1042.,  892.,    0.,    0.,    0., 4442.,  878., 2278., 1422.,\n",
       "       1602., 1672., 1422., 1462., 1314., 1256., 2094.,   94.,  926.,\n",
       "       3856.,  932.,  142.,  210.,    0.,  134.,   38.,    0., 1864.,\n",
       "       1288.,  106.,  212., 1140.,  172.,   70.,  262.,  200., 1418.,\n",
       "       1144.,    0.,  890., 1434., 1062.,  228.,  790.,  126.,  218.,\n",
       "        158.,  816., 3098.,  404.,  386.,  790.,  430.,    0.,    0.,\n",
       "          0.,    0.,    0.,  730.])"
      ]
     },
     "execution_count": 53,
     "metadata": {},
     "output_type": "execute_result"
    }
   ],
   "source": [
    "enroll_arr * 2"
   ]
  },
  {
   "cell_type": "code",
   "execution_count": 54,
   "metadata": {},
   "outputs": [
    {
     "data": {
      "text/plain": [
       "array([ 100.,  100.,  153.,  119.,  100.,  100.,  100.,  100.,  215.,\n",
       "        458.,  307.,  152.,  360.,  206.,  184.,  309.,  122.,  100.,\n",
       "        346.,  316.,  364.,  145.,  119.,  100.,  100.,  853.,  100.,\n",
       "        311.,  100.,  155.,  100.,  436.,  143.,  100.,  132.,  100.,\n",
       "        116.,  216.,  543.,  100.,  176.,  683.,  620.,  696., 1038.,\n",
       "        100.,  100.,  139.,  124.,  232.,  359., 1229.,  553.,  267.,\n",
       "        621.,  546.,  100.,  100.,  100., 2321.,  539., 1239.,  811.,\n",
       "        901.,  936.,  811.,  831.,  757.,  728., 1147.,  147.,  563.,\n",
       "       2028.,  566.,  171.,  205.,  100.,  167.,  119.,  100., 1032.,\n",
       "        744.,  153.,  206.,  670.,  186.,  135.,  231.,  200.,  809.,\n",
       "        672.,  100.,  545.,  817.,  631.,  214.,  495.,  163.,  209.,\n",
       "        179.,  508., 1649.,  302.,  293.,  495.,  315.,  100.,  100.,\n",
       "        100.,  100.,  100.,  465.])"
      ]
     },
     "execution_count": 54,
     "metadata": {},
     "output_type": "execute_result"
    }
   ],
   "source": [
    "enroll_arr + 100"
   ]
  },
  {
   "cell_type": "code",
   "execution_count": 55,
   "metadata": {},
   "outputs": [],
   "source": [
    "pos_school_arr = school_arr[school_arr['ENROLLMENT'] > 0]"
   ]
  },
  {
   "cell_type": "code",
   "execution_count": 56,
   "metadata": {},
   "outputs": [
    {
     "data": {
      "text/plain": [
       "array([0.17735849, 0.        , 0.12608696, 0.07932961, 0.08647343,\n",
       "       0.11346154, 0.07615385, 0.06132075, 0.13690476, 0.09138756,\n",
       "       0.        , 0.04390244, 0.11481481, 0.04772727, 0.13555556,\n",
       "       0.10526316, 0.08446215, 0.18720379, 0.        , 0.05208333,\n",
       "       0.        , 0.065625  , 0.0625    , 0.07758621, 0.07110609,\n",
       "       0.05263158, 0.05831904, 0.07115385, 0.05369128, 0.0575693 ,\n",
       "       0.        , 0.        , 0.06818182, 0.08494208, 0.04340124,\n",
       "       0.05960265, 0.05389222, 0.07101727, 0.07623318, 0.04502476,\n",
       "       0.07744875, 0.1071115 , 0.07313643, 0.05867665, 0.06698565,\n",
       "       0.06469761, 0.06839945, 0.07305936, 0.08041401, 0.05921681,\n",
       "       0.06382979, 0.07019438, 0.04979253, 0.08154506, 0.05633803,\n",
       "       0.23809524, 0.31343284, 0.        , 0.05686695, 0.06521739,\n",
       "       0.        , 0.06132075, 0.07192982, 0.08139535, 0.02857143,\n",
       "       0.04580153, 0.15      , 0.05994358, 0.06993007, 0.09438202,\n",
       "       0.05997211, 0.06120527, 0.0877193 , 0.07088608, 0.07936508,\n",
       "       0.06880734, 0.21518987, 0.08088235, 0.05745642, 0.02475248,\n",
       "       0.08290155, 0.05822785, 0.07906977, 0.04383562])"
      ]
     },
     "execution_count": 56,
     "metadata": {},
     "output_type": "execute_result"
    }
   ],
   "source": [
    "# ratio of number of teachers and students\n",
    "pos_school_arr[\"TEACHERS\"] / pos_school_arr[\"ENROLLMENT\"]"
   ]
  },
  {
   "cell_type": "code",
   "execution_count": 57,
   "metadata": {
    "scrolled": true
   },
   "outputs": [
    {
     "data": {
      "text/plain": [
       "56"
      ]
     },
     "execution_count": 57,
     "metadata": {},
     "output_type": "execute_result"
    }
   ],
   "source": [
    "(pos_school_arr[\"TEACHERS\"] / pos_school_arr[\"ENROLLMENT\"]).argmax()"
   ]
  },
  {
   "cell_type": "code",
   "execution_count": 58,
   "metadata": {},
   "outputs": [
    {
     "data": {
      "text/plain": [
       "'A. QUINN JONES CENTER'"
      ]
     },
     "execution_count": 58,
     "metadata": {},
     "output_type": "execute_result"
    }
   ],
   "source": [
    "pos_school_arr['NAME'][(pos_school_arr[\"TEACHERS\"] / pos_school_arr[\"ENROLLMENT\"]).argmax()]"
   ]
  }
 ],
 "metadata": {
  "kernelspec": {
   "display_name": "arcgispro-py3",
   "language": "python",
   "name": "python3"
  },
  "language_info": {
   "codemirror_mode": {
    "name": "ipython",
    "version": 3
   },
   "file_extension": ".py",
   "mimetype": "text/x-python",
   "name": "python",
   "nbconvert_exporter": "python",
   "pygments_lexer": "ipython3",
   "version": "3.9.11 [MSC v.1931 64 bit (AMD64)]"
  },
  "vscode": {
   "interpreter": {
    "hash": "ce21b655b4d6c9e397d5ad93d5666c623f49909f6d0cc2f72076dafcf1b3ecfb"
   }
  }
 },
 "nbformat": 4,
 "nbformat_minor": 2
}
