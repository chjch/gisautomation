{
 "cells": [
  {
   "attachments": {},
   "cell_type": "markdown",
   "metadata": {},
   "source": [
    "# 3-3: Create Python Functions\n",
    "\n",
    "## 1. What is a function in Python\n",
    "\n",
    "- a block of code which only runs when it is called\n",
    "- use the `def` keyword\n",
    "- pass data, known as arguments, into a function\n",
    "- return a result after a series of operations\n",
    "\n",
    "### 1.1 Define a function"
   ]
  },
  {
   "cell_type": "code",
   "execution_count": 1,
   "metadata": {},
   "outputs": [],
   "source": [
    "def my_func():\n",
    "    pass"
   ]
  },
  {
   "cell_type": "code",
   "execution_count": 2,
   "metadata": {},
   "outputs": [
    {
     "data": {
      "text/plain": [
       "<function my_func at 0x000001FD543CE168>"
      ]
     },
     "execution_count": 2,
     "metadata": {},
     "output_type": "execute_result"
    }
   ],
   "source": [
    "my_func"
   ]
  },
  {
   "cell_type": "code",
   "execution_count": 3,
   "metadata": {},
   "outputs": [],
   "source": [
    "def hello_world():\n",
    "    print('hello_world')"
   ]
  },
  {
   "cell_type": "markdown",
   "metadata": {},
   "source": [
    "### 1.2 Run (call) a function"
   ]
  },
  {
   "cell_type": "code",
   "execution_count": 6,
   "metadata": {},
   "outputs": [
    {
     "data": {
      "text/plain": [
       "<function hello_world at 0x000001FD554468B8>"
      ]
     },
     "execution_count": 6,
     "metadata": {},
     "output_type": "execute_result"
    }
   ],
   "source": [
    "hello_world"
   ]
  },
  {
   "cell_type": "code",
   "execution_count": null,
   "metadata": {},
   "outputs": [],
   "source": [
    "hello_world()"
   ]
  },
  {
   "cell_type": "markdown",
   "metadata": {},
   "source": [
    "### 1.3 Function with arguments"
   ]
  },
  {
   "cell_type": "code",
   "execution_count": 7,
   "metadata": {},
   "outputs": [],
   "source": [
    "def my_func2(pet_name):\n",
    "    print(\"I like \" + pet_name + \".\")"
   ]
  },
  {
   "cell_type": "code",
   "execution_count": 8,
   "metadata": {},
   "outputs": [
    {
     "name": "stdout",
     "output_type": "stream",
     "text": [
      "I like dog.\n"
     ]
    }
   ],
   "source": [
    "my_func2(\"dog\")"
   ]
  },
  {
   "cell_type": "markdown",
   "metadata": {},
   "source": [
    "### 1.4 Function returns an  output"
   ]
  },
  {
   "cell_type": "code",
   "execution_count": 9,
   "metadata": {},
   "outputs": [],
   "source": [
    "def multiply(a, b):\n",
    "    return a * b"
   ]
  },
  {
   "cell_type": "code",
   "execution_count": 10,
   "metadata": {
    "scrolled": false
   },
   "outputs": [
    {
     "data": {
      "text/plain": [
       "12"
      ]
     },
     "execution_count": 10,
     "metadata": {},
     "output_type": "execute_result"
    }
   ],
   "source": [
    "multiply(3, 4)"
   ]
  },
  {
   "cell_type": "code",
   "execution_count": 11,
   "metadata": {},
   "outputs": [
    {
     "name": "stdout",
     "output_type": "stream",
     "text": [
      "12\n"
     ]
    }
   ],
   "source": [
    "# assign the output of a function to a variable\n",
    "result = multiply(3, 4)\n",
    "print(result)"
   ]
  },
  {
   "cell_type": "markdown",
   "metadata": {},
   "source": [
    "## 2. An Example of a more Pratical Function\n",
    "\n",
    "### 2.1 Convert lat/lon from Degrees Minutes Seconds(DMS) to Decimal Degrees(DD)\n",
    "\n",
    "- University of Florida\n",
    "    - latitude = 29°38'34.98\" N\n",
    "    - longitude = 82°21'16.47\" W"
   ]
  },
  {
   "cell_type": "code",
   "execution_count": 12,
   "metadata": {},
   "outputs": [],
   "source": [
    "def dms_dd(degree, minute, second):\n",
    "    dd = degree + minute/60 + second/3600\n",
    "    return dd"
   ]
  },
  {
   "cell_type": "code",
   "execution_count": 13,
   "metadata": {},
   "outputs": [
    {
     "data": {
      "text/plain": [
       "29.64305"
      ]
     },
     "execution_count": 13,
     "metadata": {},
     "output_type": "execute_result"
    }
   ],
   "source": [
    "dms_dd(29, 38, 34.98)"
   ]
  },
  {
   "cell_type": "code",
   "execution_count": 14,
   "metadata": {},
   "outputs": [
    {
     "name": "stdout",
     "output_type": "stream",
     "text": [
      "latitude is 29.64305, and latitude is -82.35464999999999\n"
     ]
    }
   ],
   "source": [
    "print(\"latitude is {}, and latitude is {}\".format(dms_dd(29, 38, 34.98), -dms_dd(82, 21, 16.74)))"
   ]
  },
  {
   "cell_type": "markdown",
   "metadata": {},
   "source": [
    "### 2.2 How to go from DD to DMS\n",
    "\n",
    "Three things to learn:\n",
    "\n",
    "1. Be aware of the precision issue when dealing with floating points\n",
    "    + how does ```int()``` function work (truncating)\n",
    "    + use the ```round()``` function to round decimals.\n",
    "2. Be comfortable with using `.format()` string.\n",
    "3. The **escape character** in strings `\\`.\n",
    "    + `\\'` --> '\n",
    "    + `\\\"` --> \"\n",
    "    + `\\\\` --> \\\n",
    "\n",
    "\n",
    "Tip:\n",
    "- Hold down ```Alt``` key and type 248 on the numeric keyboard."
   ]
  },
  {
   "cell_type": "code",
   "execution_count": 15,
   "metadata": {},
   "outputs": [
    {
     "name": "stdout",
     "output_type": "stream",
     "text": [
      "1\n",
      "0\n"
     ]
    }
   ],
   "source": [
    "print(round(0.7))\n",
    "print(round(0.5))"
   ]
  },
  {
   "cell_type": "code",
   "execution_count": 17,
   "metadata": {},
   "outputs": [
    {
     "data": {
      "text/plain": [
       "3.14"
      ]
     },
     "execution_count": 17,
     "metadata": {},
     "output_type": "execute_result"
    }
   ],
   "source": [
    "round(3.1415926, 2)"
   ]
  },
  {
   "cell_type": "code",
   "execution_count": 16,
   "metadata": {},
   "outputs": [
    {
     "data": {
      "text/plain": [
       "0"
      ]
     },
     "execution_count": 16,
     "metadata": {},
     "output_type": "execute_result"
    }
   ],
   "source": [
    "int(0.7)"
   ]
  },
  {
   "cell_type": "code",
   "execution_count": 18,
   "metadata": {},
   "outputs": [],
   "source": [
    "def dd_dms(dd):\n",
    "    degree = int(dd)\n",
    "    minute = int((dd - degree) * 60)\n",
    "    second = round((dd - degree - minute/60) * 3600, 2)\n",
    "    return \"{}°{}'{}\\\"\".format(degree, minute, second)"
   ]
  },
  {
   "cell_type": "code",
   "execution_count": 19,
   "metadata": {},
   "outputs": [
    {
     "name": "stdout",
     "output_type": "stream",
     "text": [
      "latitude: 29°38'34.98\" N.\n",
      "longitude: 82°21'16.47\" W.\n"
     ]
    }
   ],
   "source": [
    "print(\"latitude: {} N.\".format(dd_dms(29.64305)))\n",
    "print(\"longitude: {} W.\".format(dd_dms(82.354575)))"
   ]
  },
  {
   "cell_type": "markdown",
   "metadata": {},
   "source": [
    "## 3. Import a function from another module\n",
    "\n",
    "- module: any python code saved in a file (.py)\n",
    "- we can store our own Python function in a .py file\n",
    "- the function can then be imported as a regular Python module we imported (e.g., random)"
   ]
  },
  {
   "cell_type": "markdown",
   "metadata": {},
   "source": [
    "1. Create a new `.ipynb` file\n",
    "2. Save the `.ipynb` file to a `.py` file\n",
    "3. Import the function from the module"
   ]
  },
  {
   "cell_type": "code",
   "execution_count": 18,
   "metadata": {},
   "outputs": [],
   "source": [
    "del dd_dms"
   ]
  },
  {
   "cell_type": "code",
   "execution_count": null,
   "metadata": {},
   "outputs": [],
   "source": [
    "from test_code import dd_dms"
   ]
  }
 ],
 "metadata": {
  "kernelspec": {
   "display_name": "ArcGISPro",
   "language": "Python",
   "name": "python3"
  },
  "language_info": {
   "file_extension": ".py",
   "name": "python",
   "version": "3"
  }
 },
 "nbformat": 4,
 "nbformat_minor": 2
}
