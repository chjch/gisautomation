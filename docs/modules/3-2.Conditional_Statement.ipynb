{
 "cells": [
  {
   "cell_type": "markdown",
   "metadata": {
    "pycharm": {
     "name": "#%% md\n"
    },
    "slideshow": {
     "slide_type": "slide"
    }
   },
   "source": [
    "# Conditional Statement\n",
    "\n",
    "There comes situations in real life when we need to make some decisions and based\n",
    "on these decisions, we decide what should we do next.\n",
    "Similar situations arise in programming also where we need to make some decisions\n",
    "and based on these decisions we will execute the next block of code, **_or not_**.\n",
    "\n",
    "Decision-making statements in programming languages decide the **direction of the flow**\n",
    "of program execution. These decision-making statements include:\n",
    "\n",
    "- functions\n",
    "- conditional statements, and\n",
    "- loops\n",
    "\n",
    "**Control flow** refers to the **order** in which individual statements,\n",
    "instructions, or function calls are executed or evaluated.\n",
    "We start to learn control flow by diving into the conditional statements,\n",
    "i.e., `if-else` conditions.\n",
    "\n",
    "The conditional statement checks to see if a statement is `True` or `False`.\n",
    "So, executing a conditional statement outputs a [Boolean](./2-2.Data_Types.html#boolean).\n",
    "\n",
    "Here is a simple example:"
   ]
  },
  {
   "cell_type": "code",
   "execution_count": 6,
   "metadata": {
    "pycharm": {
     "name": "#%%\n"
    }
   },
   "outputs": [
    {
     "name": "stdout",
     "output_type": "stream",
     "text": [
      "False\n"
     ]
    }
   ],
   "source": [
    "a = 62\n",
    "b = 71\n",
    "print(a == b)"
   ]
  },
  {
   "cell_type": "markdown",
   "metadata": {
    "pycharm": {
     "name": "#%% md\n"
    }
   },
   "source": [
    "``` {note}\n",
    "- \"=\" is the **assignment** operator.\n",
    "- \"==\" is a **comparison** operator.\n",
    "```"
   ]
  },
  {
   "cell_type": "markdown",
   "metadata": {
    "pycharm": {
     "name": "#%% md\n"
    }
   },
   "source": [
    "Comparison operators are used to form conditions.\n",
    "Python supports the usual _logical_ conditions from mathematics:\n",
    "\n",
    "| Symbol | Meaning                  | Example   | Result  |\n",
    "|--------|--------------------------|-----------|---------|\n",
    "| `==`   | Equal to                 | `a == b`  | `False` |\n",
    "| `!=`   | Not equal to             | `a != b`  | `True`  |\n",
    "| `>`    | Greater than             | `a > b`   | `False` |\n",
    "| `<`    | Less than                | `a < b`   | `True`  |\n",
    "| `>=`   | Greater than or equal to | `a >= b`  | `False` |\n",
    "| `<=`   | Less than or equal to    | `a <= b`  | `True`  |"
   ]
  },
  {
   "cell_type": "markdown",
   "metadata": {
    "pycharm": {
     "name": "#%% md\n"
    }
   },
   "source": [
    "## 1. `if-else` statement\n",
    "\n",
    "**if statement** is one of the most common conditional statements.\n",
    "It is used to decide whether a line of code or a block of codes will\n",
    "be executed if the condition **is true**, i.e., `True`.\n",
    "Otherwise, the codes **immediately** following it will not be executed."
   ]
  },
  {
   "cell_type": "code",
   "execution_count": 8,
   "metadata": {
    "pycharm": {
     "name": "#%%\n"
    }
   },
   "outputs": [
    {
     "name": "stdout",
     "output_type": "stream",
     "text": [
      "yes\n"
     ]
    }
   ],
   "source": [
    "if a == 71:\n",
    "    print('a equals to 71')"
   ]
  },
  {
   "cell_type": "code",
   "execution_count": null,
   "metadata": {
    "pycharm": {
     "name": "#%%\n"
    }
   },
   "outputs": [],
   "source": [
    "if a == 62:\n",
    "    print('a equals to 62')"
   ]
  },
  {
   "cell_type": "markdown",
   "metadata": {
    "pycharm": {
     "name": "#%% md\n"
    }
   },
   "source": [
    "Use `in` or `not in` with a list to test if a list contains a specific element."
   ]
  },
  {
   "cell_type": "code",
   "execution_count": null,
   "metadata": {
    "pycharm": {
     "name": "#%%\n"
    }
   },
   "outputs": [],
   "source": [
    "states = ['Florida', 'New York', 'California']\n",
    "\n",
    "if 'Florida' in states:\n",
    "    print('Florida is in the list.')\n",
    "    \n",
    "if 'Texas' not in states:\n",
    "    print('Texas is not in the list.')"
   ]
  },
  {
   "cell_type": "markdown",
   "metadata": {
    "pycharm": {
     "name": "#%% md\n"
    }
   },
   "source": [
    "```{admonition} Code Block Definition\n",
    ":class: important\n",
    "Python relies on indentation (whitespace at the beginning of a line) to define scope in the code. Missing indentation will raise an exception (`IndentationError`).\n",
    "\n",
    "- By convention, indentation is **four white spaces**.\n",
    "- The **colon** after the **if** statement is required. \n",
    "- Most code blocks, such as _loops_ and _functions_ start by a **colon**.\n",
    "- Most IDEs will automatically **add indentation** after colon is typed.\n",
    "```"
   ]
  },
  {
   "cell_type": "code",
   "execution_count": null,
   "metadata": {
    "pycharm": {
     "name": "#%%\n"
    }
   },
   "outputs": [],
   "source": [
    "# the following code will raise an Indentation Error\n",
    "if a == 62:\n",
    "print('a equals to 62')"
   ]
  },
  {
   "cell_type": "markdown",
   "metadata": {
    "pycharm": {
     "name": "#%% md\n"
    }
   },
   "source": [
    "We now understand that if statement can determine whether to run certain statements.\n",
    "But what if we want to do something else if the condition **is false** (`False`).\n",
    "Here comes the **else statement**."
   ]
  },
  {
   "cell_type": "code",
   "execution_count": null,
   "metadata": {
    "pycharm": {
     "name": "#%%\n"
    }
   },
   "outputs": [],
   "source": [
    "x = '+'\n",
    "\n",
    "if x == '+':\n",
    "    print('x is a plus sign')\n",
    "else:\n",
    "    print('x is not a plus sign')"
   ]
  },
  {
   "cell_type": "markdown",
   "metadata": {
    "pycharm": {
     "name": "#%% md\n"
    }
   },
   "source": [
    "The **Else-If statement** (`elif`) is used when the else condition might not suffice.\n",
    "This is used mostly in those cases when you have to justify more than two results."
   ]
  },
  {
   "cell_type": "code",
   "execution_count": null,
   "metadata": {
    "pycharm": {
     "name": "#%%\n"
    }
   },
   "outputs": [],
   "source": [
    "x = '-'\n",
    "\n",
    "if x == '+':\n",
    "    print('x is a plus sign')\n",
    "elif x == \"-\":\n",
    "    print('x is a minus sign')\n",
    "else:\n",
    "    print('x is neither a plus nor a minus sign')"
   ]
  },
  {
   "cell_type": "markdown",
   "metadata": {
    "pycharm": {
     "name": "#%% md\n"
    }
   },
   "source": [
    "## 2. Comparing two numbers"
   ]
  },
  {
   "cell_type": "code",
   "execution_count": null,
   "metadata": {
    "pycharm": {
     "name": "#%%\n"
    }
   },
   "outputs": [],
   "source": [
    "num_1 = 784533\n",
    "num_2 = 763092\n",
    "\n",
    "if num_1 > num_2:\n",
    "    print(str(num_1) + \" is greater than \" + str(num_2)) \n",
    "elif num_1 < num_2:\n",
    "    print(str(num_1) + \" is smaller than \" + str(num_2))\n",
    "else:  \n",
    "    print(str(num_1) + \" is equal to \" + str(num_2))"
   ]
  },
  {
   "cell_type": "markdown",
   "metadata": {
    "pycharm": {
     "name": "#%% md\n"
    }
   },
   "source": [
    "```{tip}\n",
    "The `input` statement allows user to dynamically insert inputs.\n",
    "Then, use the inserted values to carry out the rest of statements.\n",
    "The **type of values inserted** by `input` is **string** (`str`).\n",
    "```"
   ]
  },
  {
   "cell_type": "code",
   "execution_count": null,
   "metadata": {
    "pycharm": {
     "name": "#%%\n"
    },
    "tags": [
     "remove-output"
    ]
   },
   "outputs": [],
   "source": [
    "num_1 = int(input(\"Enter first number: \"))\n",
    "num_2 = int(input(\"Enter second number: \"))\n",
    "\n",
    "if num_1 > num_2:\n",
    "    print(str(num_1) + \" is greater than \" + str(num_2))\n",
    "elif num_1 < num_2:\n",
    "    print(str(num_1) + \" is smaller than \" + str(num_2))\n",
    "else:\n",
    "    print(str(num_1) + \" is equal to \" + str(num_2))"
   ]
  },
  {
   "cell_type": "markdown",
   "metadata": {
    "pycharm": {
     "name": "#%% md\n"
    }
   },
   "source": [
    "```{warning}\n",
    "String comparison always compare the first character according to the [**ASCII table**](https://www.asciitable.com/).\n",
    "This can results in conterintuitive results. See example below.\n",
    "```"
   ]
  },
  {
   "cell_type": "code",
   "execution_count": null,
   "metadata": {
    "pycharm": {
     "name": "#%%\n"
    }
   },
   "outputs": [],
   "source": [
    "'45' > '245'"
   ]
  },
  {
   "cell_type": "markdown",
   "metadata": {
    "pycharm": {
     "name": "#%% md\n"
    }
   },
   "source": [
    "## 3. Compound condition\n",
    "\n",
    "In many situations, a decision is not made only by a single condition.\n",
    "For example, a number is an even number if it is an integer and can be completely divided by 2.\n",
    "To write a more complicated condition, we can use **compound Boolean expressions**\n",
    "which are combinations of multiple conditions, i.e., variables and values that produce\n",
    "a **Boolean value**.\n",
    "\n",
    "To write **compound conditions** we need to use **logical operators** (or boolean operators).\n",
    "\n",
    "Assume `a = True` and `b = False`, then\n",
    "\n",
    "| Symbol | Meaning                                 | Example   | Result  |\n",
    "|--------|-----------------------------------------|-----------|---------|\n",
    "| `and`  | Both expressions are True               | `a and b` | `False` |\n",
    "| `or`   | At least one of the expressions is True | `a or b`  | `True`  |\n",
    "| `not`  | The expression is not True              | `not a`   | `False` |"
   ]
  },
  {
   "cell_type": "code",
   "execution_count": null,
   "metadata": {
    "pycharm": {
     "name": "#%%\n"
    }
   },
   "outputs": [],
   "source": [
    "True or False  # Returns True if one of the statements is true"
   ]
  },
  {
   "cell_type": "code",
   "execution_count": null,
   "metadata": {
    "pycharm": {
     "name": "#%%\n"
    }
   },
   "outputs": [],
   "source": [
    "True and False  # Returns True if both statements are true"
   ]
  },
  {
   "cell_type": "markdown",
   "metadata": {
    "pycharm": {
     "name": "#%% md\n"
    }
   },
   "source": [
    "```{tip}\n",
    "You can directly use `True` or `False` in your code or assign them to a variable. You can then update the variable's value later.\n",
    "```"
   ]
  },
  {
   "cell_type": "code",
   "execution_count": null,
   "metadata": {
    "pycharm": {
     "name": "#%%\n"
    }
   },
   "outputs": [],
   "source": [
    "not True  # Reverse the result"
   ]
  },
  {
   "cell_type": "markdown",
   "metadata": {
    "pycharm": {
     "name": "#%% md\n"
    }
   },
   "source": [
    "Now let's see how we can extend the example of comparing two numbers by adding compound conditions."
   ]
  },
  {
   "cell_type": "code",
   "execution_count": null,
   "metadata": {
    "pycharm": {
     "name": "#%%\n"
    },
    "tags": [
     "remove-output"
    ]
   },
   "outputs": [],
   "source": [
    "num_1 = int(input(\"Enter first number: \"))\n",
    "\n",
    "if num_1 > 10:\n",
    "    print(str(num_1) + \" is greater than 10.\")\n",
    "elif num_1 > 5 and num_1 <= 10:\n",
    "    print(str(num_1) + \" is smaller or equal to 10 but greater than 5.\")\n",
    "elif num_1 > 0 and num_1 <= 5:\n",
    "    print(str(num_1) + \" is smaller or equal to 5 but greater than 0.\")\n",
    "else:\n",
    "    print(str(num_1) + \" is negative.\")"
   ]
  }
 ],
 "metadata": {
  "celltoolbar": "Edit Metadata",
  "kernelspec": {
   "display_name": "Python 3 (ipykernel)",
   "language": "python",
   "name": "python3"
  },
  "language_info": {
   "codemirror_mode": {
    "name": "ipython",
    "version": 3
   },
   "file_extension": ".py",
   "mimetype": "text/x-python",
   "name": "python",
   "nbconvert_exporter": "python",
   "pygments_lexer": "ipython3",
   "version": "3.9.18"
  },
  "vscode": {
   "interpreter": {
    "hash": "ce21b655b4d6c9e397d5ad93d5666c623f49909f6d0cc2f72076dafcf1b3ecfb"
   }
  }
 },
 "nbformat": 4,
 "nbformat_minor": 2
}
