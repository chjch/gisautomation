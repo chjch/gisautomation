{
 "cells": [
  {
   "attachments": {},
   "cell_type": "markdown",
   "metadata": {},
   "source": [
    "# 8-1: The Basics of a Script Tool"
   ]
  },
  {
   "attachments": {},
   "cell_type": "markdown",
   "metadata": {},
   "source": [
    "<img src=\"https://live.staticflickr.com/65535/51945473980_8811fd9c3c_o.png\" width=\"341\" height=\"341\" alt=\"script_tool\" style=\"float: right\">\n",
    "\n",
    "## 1. What is a script tool? \n",
    "\n",
    "A script tool allows you to turn your own **Python scripts** and functionality\n",
    "into your own **geoprocessing tools**.\n",
    "\n",
    "- an integral part of geoprocessing, just like a system tool; \n",
    "- open and run it in ArcGIS Pro;\n",
    "- use it in a ModelBuiler model."
   ]
  },
  {
   "cell_type": "markdown",
   "metadata": {},
   "source": [
    "## 2. What parts needed to create a script tool?\n",
    "\n",
    "1. The source code i.e., a Python script (.py).\n",
    "2. A custom toolbox used to host script tools.\n",
    "3. A precise definition of the parameters of your script (defined through a wizard in ArcGIS Pro)."
   ]
  },
  {
   "cell_type": "markdown",
   "metadata": {},
   "source": [
    "## 3. Work on the script in Jupyter Notebook\n",
    "\n",
    "<br>\n",
    "\n",
    "<div style=\"padding: 10px;margin-bottom: 20px;border: thin solid #3F48CC;border-left-width: 25px;background-color: #fff\">\n",
    "\n",
    "**Homework 1 ModelBuilder model**: find census block groups without law enforcement.\n",
    "\n",
    "<img src=\"https://gist.githubusercontent.com/chjch/6da40e9b15aef3a6571975f03ba90c93/raw/295f510ceada6f68dad90defe0b3ac1a9acdc6e2/hw1_mb.svg\">\n",
    "\n",
    "</div>"
   ]
  },
  {
   "cell_type": "code",
   "execution_count": 1,
   "metadata": {},
   "outputs": [],
   "source": [
    "# setup workspace\n",
    "import arcpy\n",
    "gdb_worksp = r\"..\\data\\class_data.gdb\"\n",
    "arcpy.env.workspace = gdb_worksp"
   ]
  },
  {
   "cell_type": "code",
   "execution_count": 8,
   "metadata": {},
   "outputs": [],
   "source": [
    "# setup input feature classes\n",
    "I75_fc = \"I75\"\n",
    "blkgrp_fc = \"blockgroups\"\n",
    "cntbnd_fc = \"county_boundary\"\n",
    "lawenforce_fc = \"law_enforcement\""
   ]
  },
  {
   "cell_type": "code",
   "execution_count": 14,
   "metadata": {},
   "outputs": [],
   "source": [
    "# setup output feature\n",
    "output_gdb = r\"..\\data\\class_data.gdb\\module8\\in class\\FirstScriptTool\\FirstScriptTool.gdb\"\n",
    "I75_buff = output_gdb + \"\\\\\" + \"I75_Buff\"\n",
    "blkgrp_law = output_gdb + \"\\\\\" + \"blkgrp_law\"\n",
    "blkgrp_select = \"blockgroups_select\""
   ]
  },
  {
   "cell_type": "code",
   "execution_count": 15,
   "metadata": {},
   "outputs": [
    {
     "data": {
      "text/plain": [
       "<Result 'D:\\\\Dropbox (UFL)\\\\GIS Automation\\\\urp6271_spring2020\\\\module7\\\\in class\\\\custom tool dev\\\\FirstScriptTool\\\\FirstScriptTool.gdb\\\\blockgroups_select'>"
      ]
     },
     "execution_count": 15,
     "metadata": {},
     "output_type": "execute_result"
    }
   ],
   "source": [
    "# geoprocessing operations \n",
    "arcpy.analysis.Buffer(I75_fc, I75_buff, \"6 Miles\")\n",
    "\n",
    "blkgrp_lyr_1 = arcpy.management.SelectLayerByLocation(\n",
    "    blkgrp_fc, \"WITHIN\", cntbnd_fc\n",
    ")\n",
    "blkgrp_lyr_2 = arcpy.management.SelectLayerByLocation(\n",
    "    blkgrp_lyr_1, \"WITHIN\", I75_buff, selection_type=\"SUBSET_SELECTION\"\n",
    ")\n",
    "\n",
    "arcpy.analysis.SpatialJoin(\n",
    "    blkgrp_lyr_2, lawenforce_fc, blkgrp_law, \n",
    "    \"JOIN_ONE_TO_ONE\", \"KEEP_ALL\", \"\", \"INTERSECT\", \"\", \"\"\n",
    ")\n",
    "\n",
    "query_exp = \"{} = 0\".format('\"Join_Count\"')\n",
    "arcpy.FeatureClassToFeatureClass_conversion(\n",
    "    blkgrp_law, output_gdb, blkgrp_select, query_exp, \"\", \"\"\n",
    ")"
   ]
  },
  {
   "cell_type": "markdown",
   "metadata": {},
   "source": [
    "<div style=\"padding: 10px;margin-bottom: 20px;border: thin solid #3F48CC;border-left-width: 25px;background-color: #fff\">\n",
    "\n",
    "We now have the codes that does the job.\n",
    "Before making a \"Script Tool\", we need to put the codes in a python (**\\*.py**) file."
   ]
  }
 ],
 "metadata": {
  "kernelspec": {
   "display_name": "arcgispro-py3",
   "language": "python",
   "name": "python3"
  },
  "language_info": {
   "codemirror_mode": {
    "name": "ipython",
    "version": 3
   },
   "file_extension": ".py",
   "mimetype": "text/x-python",
   "name": "python",
   "nbconvert_exporter": "python",
   "pygments_lexer": "ipython3",
   "version": "3.9.11 [MSC v.1931 64 bit (AMD64)]"
  },
  "vscode": {
   "interpreter": {
    "hash": "ce21b655b4d6c9e397d5ad93d5666c623f49909f6d0cc2f72076dafcf1b3ecfb"
   }
  }
 },
 "nbformat": 4,
 "nbformat_minor": 2
}
