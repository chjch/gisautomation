{
 "cells": [
  {
   "cell_type": "markdown",
   "metadata": {
    "pycharm": {
     "name": "#%% md\n"
    },
    "slideshow": {
     "slide_type": "slide"
    }
   },
   "source": [
    "# Introduction to ModelBuilder"
   ]
  },
  {
   "cell_type": "markdown",
   "metadata": {
    "pycharm": {
     "name": "#%% md\n"
    },
    "slideshow": {
     "slide_type": "subslide"
    }
   },
   "source": [
    "**Outline**:\n",
    "\n",
    "- Feature classes in the class geodatabase\n",
    "- About this website (course materials)\n",
    "- A tour of ArcGIS Pro’s interface\n",
    "    - Maps and Scene,\n",
    "    - Contents and Catalog Pane\n",
    "    - Geoprocessing\n",
    "    - Tools and Toolboxes\n",
    "- Automation with ArcGIS ModelBuilder"
   ]
  },
  {
   "cell_type": "markdown",
   "metadata": {
    "pycharm": {
     "name": "#%% md\n"
    }
   },
   "source": [
    "## What is ModelBuilder\n",
    "\n",
    "ArcGIS Pro [ModelBuilder](https://pro.arcgis.com/en/pro-app/latest/help/analysis/geoprocessing/modelbuilder/what-is-modelbuilder-.htm) is a visual programming language for building _geoprocessing_ workflows.\n",
    "\n",
    "- Build a model by [adding and connecting data and tools](https://pro.arcgis.com/en/pro-app/latest/help/analysis/geoprocessing/modelbuilder/add-connect-and-modify-data-and-tools-in-a-model.htm)\n",
    "- [Iteratively](https://pro.arcgis.com/en/pro-app/latest/help/analysis/geoprocessing/modelbuilder/iterators-for-looping.htm) process every feature class, raster, file, or table in a workspace.\n",
    "- Visualize your workflow sequence as an easy-to-understand diagram.\n",
    "- [Run a model](https://pro.arcgis.com/en/pro-app/latest/help/analysis/geoprocessing/modelbuilder/run-a-model.htm) step-by-step, up to a selected step, or run the entire model.\n",
    "- [Make your model into a geoprocessing tool](https://pro.arcgis.com/en/pro-app/latest/help/analysis/geoprocessing/modelbuilder/create-a-model-tool.htm) that can be shared or can be used in Python scripting and other models."
   ]
  },
  {
   "cell_type": "markdown",
   "metadata": {
    "pycharm": {
     "name": "#%% md\n"
    }
   },
   "source": [
    "![mb-cenblk-select](../_static/images/mb_cenblk_select.png)"
   ]
  },
  {
   "cell_type": "markdown",
   "metadata": {
    "pycharm": {
     "name": "#%% md\n"
    }
   },
   "source": [
    "## Create a model\n",
    "\n",
    "**Step 1**. Navigate to the _Toolboxes_ section in the _Catalog_ pane.\n",
    "   <br><img src=\"../_static/images/create_model.png\" vspace=\"5px\">"
   ]
  },
  {
   "cell_type": "markdown",
   "metadata": {
    "pycharm": {
     "name": "#%% md\n"
    }
   },
   "source": [
    "**Step 2**. Modify the model's _Name_ and _Label_ by go to the _Properties_ menu.\n",
    "   <br><img src=\"../_static/images/mb_property.png\" vspace=\"5px\">\n",
    "\n",
    "```{note}\n",
    "\n",
    "- Name only supports alphanumeric characters.\n",
    "- Label is what you see in ArcGIS Pro support all characters.\n",
    "```"
   ]
  },
  {
   "cell_type": "markdown",
   "metadata": {
    "pycharm": {
     "name": "#%% md\n"
    }
   },
   "source": [
    "**Step 3**. Start to design the model's workflow by adding data and geoprocessing functions."
   ]
  },
  {
   "cell_type": "markdown",
   "metadata": {
    "pycharm": {
     "name": "#%% md\n"
    }
   },
   "source": [
    "## Problem 1"
   ]
  },
  {
   "cell_type": "markdown",
   "metadata": {
    "pycharm": {
     "name": "#%% md\n"
    }
   },
   "source": [
    "```{admonition} Question:\n",
    ":class: tip\n",
    "Find census blockgroups that have at least one school within 2 miles of I-75\n",
    "\n",
    "<details>\n",
    "  <summary><strong>Solution</strong></summary>\n",
    "\n",
    "  - Create a 2-mile buffer around I-75 (Buffer)\n",
    "  - Use this buffer to clip schools (Clip)\n",
    "  - Spatial Join the schools to blockgroups (Spatial Join)\n",
    "  - Select blockgroups that have at least one school (select by Location)\n",
    "  - Save the selected features as a separate layer (Copy Features)\n",
    "  \n",
    "</details>\n",
    "```"
   ]
  },
  {
   "cell_type": "markdown",
   "metadata": {
    "pycharm": {
     "name": "#%% md\n"
    },
    "slideshow": {
     "slide_type": "slide"
    }
   },
   "source": [
    "## Problem 2"
   ]
  },
  {
   "cell_type": "markdown",
   "metadata": {
    "pycharm": {
     "name": "#%% md\n"
    }
   },
   "source": [
    "```{admonition} Question:\n",
    ":class: tip\n",
    "Develop an index as a ratio of street length to the blockgroup area\n",
    "\n",
    "<details>\n",
    "  <summary><strong>Solution</strong></summary>\n",
    "\n",
    "  - Intersect roads by blockgroups (Intersect)\n",
    "  - Spatial Join roads to blockgroups (Spatial Join)\n",
    "    - Choose to Sum the length of the roads during spatial join \n",
    "  - Add and calculate a new field as the ratio of total road lengths by blockgroups area  (Calculate Field)\n",
    "  \n",
    "</details>\n",
    "```"
   ]
  },
  {
   "cell_type": "markdown",
   "metadata": {
    "pycharm": {
     "name": "#%% md\n"
    },
    "slideshow": {
     "slide_type": "subslide"
    }
   },
   "source": []
  }
 ],
 "metadata": {
  "celltoolbar": "Slideshow",
  "jupytext": {
   "formats": "ipynb,md:myst"
  },
  "kernelspec": {
   "display_name": "Python 3",
   "language": "python",
   "name": "python3"
  },
  "language_info": {
   "codemirror_mode": {
    "name": "ipython",
    "version": 3
   },
   "file_extension": ".py",
   "mimetype": "text/x-python",
   "name": "python",
   "nbconvert_exporter": "python",
   "pygments_lexer": "ipython3",
   "version": "3.9.11"
  },
  "vscode": {
   "interpreter": {
    "hash": "ce21b655b4d6c9e397d5ad93d5666c623f49909f6d0cc2f72076dafcf1b3ecfb"
   }
  }
 },
 "nbformat": 4,
 "nbformat_minor": 2
}
