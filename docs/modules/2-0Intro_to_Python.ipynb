{
 "cells": [
  {
   "attachments": {},
   "cell_type": "markdown",
   "metadata": {},
   "source": [
    "# Introduction to Python Programming"
   ]
  },
  {
   "attachments": {},
   "cell_type": "markdown",
   "metadata": {},
   "source": [
    "## Learning Objectives\n",
    "\n",
    "Upon completion of this module, you should be able to:\n",
    "\n",
    "- Use the Python Notebook in ArcGIS Pro\n",
    "- Understand markdown syntax and write markdown cell in Python notebook\n",
    "- Explore the various data types, including number, string, boolean, and list.\n",
    "- Construct conditional statements.\n",
    "- Construct iterations in Python including for loop and while loop.\n",
    "- Create control flow statements."
   ]
  },
  {
   "attachments": {},
   "cell_type": "markdown",
   "metadata": {},
   "source": [
    "## Learning Steps\n",
    "\n",
    "- Work on Homework 2 Assignment\n",
    "- Submit Assignment by date"
   ]
  }
 ],
 "metadata": {
  "kernelspec": {
   "display_name": "Python 3",
   "language": "python",
   "name": "python3"
  },
  "language_info": {
   "name": "python",
   "version": "3.9.11 [MSC v.1931 64 bit (AMD64)]"
  },
  "orig_nbformat": 4,
  "vscode": {
   "interpreter": {
    "hash": "4512e868ce03776b2acb55696d863bcca535b363b5450b1af05055989d5d969c"
   }
  }
 },
 "nbformat": 4,
 "nbformat_minor": 2
}
