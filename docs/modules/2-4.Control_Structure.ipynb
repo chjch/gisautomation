{
 "cells": [
  {
   "cell_type": "markdown",
   "metadata": {
    "pycharm": {
     "name": "#%% md\n"
    },
    "slideshow": {
     "slide_type": "slide"
    }
   },
   "source": [
    "# Control Flow Structure\n",
    "\n",
    "There comes situations in real life when we need to make some decisions and based\n",
    "on these decisions, we decide what should we do next.\n",
    "Similar situations arise in programming also where we need to make some decisions\n",
    "and based on these decisions we will execute the next block of code, **_or not_**.\n",
    "\n",
    "Decision-making statements in programming languages decide the **direction of the flow**\n",
    "of program execution. These decision-making statements include:\n",
    "\n",
    "- conditional statements,\n",
    "- loops, and\n",
    "- function calls.\n",
    "\n",
    "**Control flow** refers to the **order** in which individual statements,\n",
    "instructions, or function calls are executed or evaluated. "
   ]
  },
  {
   "cell_type": "markdown",
   "metadata": {
    "pycharm": {
     "name": "#%% md\n"
    }
   },
   "source": [
    "## 1. Conditional Statement\n",
    "\n",
    "The conditional statement checks to see if a statement is `True` or `False`.\n",
    "So, executing a conditional statement outputs a [Boolean](./2-3.Data_Types.html#boolean).\n",
    "\n",
    "Here is a simple example:"
   ]
  },
  {
   "cell_type": "code",
   "execution_count": 6,
   "metadata": {
    "pycharm": {
     "name": "#%%\n"
    }
   },
   "outputs": [
    {
     "name": "stdout",
     "output_type": "stream",
     "text": [
      "False\n"
     ]
    }
   ],
   "source": [
    "a = 62\n",
    "b = 71\n",
    "print(a == b)"
   ]
  },
  {
   "cell_type": "markdown",
   "metadata": {
    "pycharm": {
     "name": "#%% md\n"
    }
   },
   "source": [
    "``` {note}\n",
    "- \"=\" is the **assignment** operator.\n",
    "- \"==\" is a **comparison** operator.\n",
    "```"
   ]
  },
  {
   "cell_type": "markdown",
   "metadata": {},
   "source": [
    "Comparison operators are used to form conditions.\n",
    "Python supports the usual _logical_ conditions from mathematics:\n",
    "\n",
    "| Symbol | Meaning                  | Example   | Result  |\n",
    "|--------|--------------------------|-----------|---------|\n",
    "| `==`   | Equal to                 | `a == b`  | `False` |\n",
    "| `!=`   | Not equal to             | `a != b`  | `True`  |\n",
    "| `>`    | Greater than             | `a > b`   | `False` |\n",
    "| `<`    | Less than                | `a < b`   | `True`  |\n",
    "| `>=`   | Greater than or equal to | `a >= b`  | `False` |\n",
    "| `<=`   | Less than or equal to    | `a <= b`  | `True`  |"
   ]
  },
  {
   "cell_type": "markdown",
   "metadata": {
    "pycharm": {
     "name": "#%% md\n"
    }
   },
   "source": [
    "### 1.1 if statement\n",
    "\n",
    "**if statement** is one of the most common conditional statements.\n",
    "It is used to decide whether a line of code or a block of codes will\n",
    "be executed if the condition **is true**, i.e., `True`.\n",
    "Otherwise, the codes **immediately** following it will not be executed."
   ]
  },
  {
   "cell_type": "code",
   "execution_count": 8,
   "metadata": {
    "pycharm": {
     "name": "#%%\n"
    }
   },
   "outputs": [
    {
     "name": "stdout",
     "output_type": "stream",
     "text": [
      "yes\n"
     ]
    }
   ],
   "source": [
    "if a == 71:\n",
    "    print('a equals to 71')"
   ]
  },
  {
   "cell_type": "code",
   "execution_count": null,
   "metadata": {},
   "outputs": [],
   "source": [
    "if a == 62:\n",
    "    print('a equals to 62')"
   ]
  },
  {
   "cell_type": "markdown",
   "metadata": {
    "pycharm": {
     "name": "#%% md\n"
    }
   },
   "source": [
    "Use `in` or `not in` with a list to test if a list contains a specific element."
   ]
  },
  {
   "cell_type": "code",
   "execution_count": null,
   "metadata": {
    "pycharm": {
     "name": "#%%\n"
    }
   },
   "outputs": [],
   "source": [
    "states = ['Florida', 'New York', 'California']\n",
    "\n",
    "if 'Florida' in states:\n",
    "    print('Florida is in the list.')\n",
    "    \n",
    "if 'Texas' not in states:\n",
    "    print('Texas is not in the list.')"
   ]
  },
  {
   "cell_type": "markdown",
   "metadata": {
    "pycharm": {
     "name": "#%% md\n"
    }
   },
   "source": [
    "```{admonition} Code Block Definition\n",
    ":class: important\n",
    "Python relies on indentation (whitespace at the beginning of a line) to define scope in the code. Missing indentation will raise an exception (`IndentationError`).\n",
    "\n",
    "- By convention, indentation is **four white spaces**.\n",
    "- The **colon** after the **if** statement is required. \n",
    "- Most code blocks, such as _loops_ and _functions_ start by a **colon**.\n",
    "- Most IDEs will automatically **add indentation** after colon is typed.\n",
    "```"
   ]
  },
  {
   "cell_type": "code",
   "execution_count": null,
   "metadata": {
    "pycharm": {
     "name": "#%%\n"
    }
   },
   "outputs": [],
   "source": [
    "if a == 62:\n",
    "print('a equals to 62')"
   ]
  },
  {
   "cell_type": "markdown",
   "metadata": {
    "pycharm": {
     "name": "#%% md\n"
    }
   },
   "source": [
    "We now understand that if statement can determine whether to run certain statements.\n",
    "But what if we want to do something else if the condition **is false** (`False`).\n",
    "Here comes the **else statement**."
   ]
  },
  {
   "cell_type": "code",
   "execution_count": null,
   "metadata": {
    "pycharm": {
     "name": "#%%\n"
    }
   },
   "outputs": [],
   "source": [
    "x = '+'\n",
    "\n",
    "if x == '+':\n",
    "    print('x is a plus sign')\n",
    "else:\n",
    "    print('x is not a plus sign')"
   ]
  },
  {
   "cell_type": "markdown",
   "metadata": {
    "pycharm": {
     "name": "#%% md\n"
    }
   },
   "source": [
    "The **Else-If statement** (`elif`) is used when the else condition might not suffice.\n",
    "This is used mostly in those cases when you have to justify more than two results."
   ]
  },
  {
   "cell_type": "code",
   "execution_count": null,
   "metadata": {
    "pycharm": {
     "name": "#%%\n"
    }
   },
   "outputs": [],
   "source": [
    "x = '-'\n",
    "\n",
    "if x == '+':\n",
    "    print('x is a plus sign')\n",
    "elif x == \"-\":\n",
    "    print('x is a minus sign')\n",
    "else:\n",
    "    print('x is neither a plus nor a minus sign')"
   ]
  },
  {
   "cell_type": "markdown",
   "metadata": {
    "pycharm": {
     "name": "#%% md\n"
    }
   },
   "source": [
    "### 1.2 Comparing two numbers"
   ]
  },
  {
   "cell_type": "code",
   "execution_count": null,
   "metadata": {
    "pycharm": {
     "name": "#%%\n"
    }
   },
   "outputs": [],
   "source": [
    "num_1 = 784533\n",
    "num_2 = 763092\n",
    "\n",
    "if num_1 > num_2:\n",
    "    print(str(num_1) + \" is greater than \" + str(num_2)) \n",
    "elif num_1 < num_2:\n",
    "    print(str(num_1) + \" is smaller than \" + str(num_2))\n",
    "else:  \n",
    "    print(str(num_1) + \" is equal to \" + str(num_2))"
   ]
  },
  {
   "cell_type": "markdown",
   "metadata": {
    "pycharm": {
     "name": "#%% md\n"
    }
   },
   "source": [
    "```{tip}\n",
    "The `input` statement allows user to dynamically insert inputs.\n",
    "Then, use the inserted values to carry out the rest of statements.\n",
    "The **type of values inserted** by `input` is **string** (`str`).\n",
    "```"
   ]
  },
  {
   "cell_type": "code",
   "execution_count": null,
   "metadata": {
    "pycharm": {
     "name": "#%%\n"
    },
    "tags": [
     "remove-output"
    ]
   },
   "outputs": [],
   "source": [
    "num_1 = int(input(\"Enter first number: \"))\n",
    "num_2 = int(input(\"Enter second number: \"))\n",
    "\n",
    "if num_1 > num_2:\n",
    "    print(str(num_1) + \" is greater than \" + str(num_2))\n",
    "elif num_1 < num_2:\n",
    "    print(str(num_1) + \" is smaller than \" + str(num_2))\n",
    "else:\n",
    "    print(str(num_1) + \" is equal to \" + str(num_2))"
   ]
  },
  {
   "cell_type": "markdown",
   "metadata": {
    "pycharm": {
     "name": "#%% md\n"
    }
   },
   "source": [
    "```{warning}\n",
    "String comparison always compare the first character according to the [**ASCII table**](https://www.asciitable.com/).\n",
    "This can results in conterintuitive results. See example below.\n",
    "```"
   ]
  },
  {
   "cell_type": "code",
   "execution_count": null,
   "metadata": {
    "pycharm": {
     "name": "#%%\n"
    }
   },
   "outputs": [],
   "source": [
    "'45' > '245'"
   ]
  },
  {
   "cell_type": "markdown",
   "metadata": {
    "pycharm": {
     "name": "#%% md\n"
    }
   },
   "source": [
    "### 1.3 Compound condition\n",
    "\n",
    "In many situations, a decision is not made only by a single condition.\n",
    "For example, a number is an even number if it is an integer and can be completely divided by 2.\n",
    "To write a more complicated condition, we can use **compound Boolean expressions**\n",
    "which are combinations of multiple conditions, i.e., variables and values that produce\n",
    "a **Boolean value**.\n",
    "\n",
    "To write **compound conditions** we need to use **logical operators** (or boolean operators).\n",
    "\n",
    "Assume `a = True` and `b = False`, then\n",
    "\n",
    "| Symbol | Meaning                                 | Example   | Result  |\n",
    "|--------|-----------------------------------------|-----------|---------|\n",
    "| `and`  | Both expressions are True               | `a and b` | `False` |\n",
    "| `or`   | At least one of the expressions is True | `a or b`  | `True`  |\n",
    "| `not`  | The expression is not True              | `not a`   | `False` |"
   ]
  },
  {
   "cell_type": "code",
   "execution_count": null,
   "metadata": {
    "pycharm": {
     "name": "#%%\n"
    }
   },
   "outputs": [],
   "source": [
    "True or False  # Returns True if one of the statements is true"
   ]
  },
  {
   "cell_type": "code",
   "execution_count": null,
   "metadata": {
    "pycharm": {
     "name": "#%%\n"
    }
   },
   "outputs": [],
   "source": [
    "True and False  # Returns True if both statements are true"
   ]
  },
  {
   "cell_type": "markdown",
   "metadata": {
    "pycharm": {
     "name": "#%% md\n"
    }
   },
   "source": [
    "```{tip}\n",
    "You can directly use `True` or `False` in your code or assign them to a variable. You can then update the variable's value later.\n",
    "```"
   ]
  },
  {
   "cell_type": "code",
   "execution_count": null,
   "metadata": {
    "pycharm": {
     "name": "#%%\n"
    }
   },
   "outputs": [],
   "source": [
    "not True  # Reverse the result"
   ]
  },
  {
   "cell_type": "markdown",
   "metadata": {
    "pycharm": {
     "name": "#%% md\n"
    }
   },
   "source": [
    "Now let's see how we can extend the example of comparing two numbers by adding compound conditions."
   ]
  },
  {
   "cell_type": "code",
   "execution_count": null,
   "metadata": {
    "pycharm": {
     "name": "#%%\n"
    },
    "tags": [
     "remove-output"
    ]
   },
   "outputs": [],
   "source": [
    "num_1 = int(input(\"Enter first number: \"))\n",
    "\n",
    "if num_1 > 10:\n",
    "    print(str(num_1) + \" is greater than 10.\")\n",
    "elif num_1 > 5 and num_1 <= 10:\n",
    "    print(str(num_1) + \" is smaller or equal to 10 but greater than 5.\")\n",
    "elif num_1 > 0 and num_1 <= 5:\n",
    "    print(str(num_1) + \" is smaller or equal to 5 but greater than 0.\")\n",
    "else:\n",
    "    print(str(num_1) + \" is negative.\")"
   ]
  },
  {
   "cell_type": "markdown",
   "metadata": {
    "pycharm": {
     "name": "#%% md\n"
    }
   },
   "source": [
    "## 2. Loops\n",
    "\n",
    "A loop is an instruction that repeats multiple times (iterations) as long as some **condition** is met.\n",
    "There are two types of loops in Python:\n",
    "\n",
    "- `for` loop\n",
    "- `while` loop"
   ]
  },
  {
   "cell_type": "markdown",
   "metadata": {
    "pycharm": {
     "name": "#%% md\n"
    }
   },
   "source": [
    "### 2.1 For Loop\n",
    "\n",
    "A for loop in Python is used to iterate over a sequence, e.g., list, _tuple_, set, dictionary, string.\n",
    "\n",
    "Following is an example of For loop using a `range` object."
   ]
  },
  {
   "cell_type": "code",
   "execution_count": null,
   "metadata": {
    "pycharm": {
     "name": "#%%\n"
    }
   },
   "outputs": [],
   "source": [
    "for i in range(5):\n",
    "    print(i)"
   ]
  },
  {
   "cell_type": "markdown",
   "metadata": {
    "pycharm": {
     "name": "#%% md\n"
    }
   },
   "source": [
    "```{note}\n",
    "A `range` object starts at 0 and doesn’t include the upper number.\n",
    "Therefore, `range(5)` would include the numbers 0, 1, 2, 3, 4.\n",
    "Simliar to indexing of other data types, `range` can take two arguments\n",
    "(starting and end index) and an additional \"step\" argument.\n",
    "```"
   ]
  },
  {
   "cell_type": "code",
   "execution_count": null,
   "metadata": {
    "pycharm": {
     "name": "#%%\n"
    }
   },
   "outputs": [],
   "source": [
    "for i in range(1, 4):\n",
    "    print(i)"
   ]
  },
  {
   "cell_type": "markdown",
   "metadata": {
    "pycharm": {
     "name": "#%% md\n"
    }
   },
   "source": [
    "You can also convert `range` to a `list` object."
   ]
  },
  {
   "cell_type": "code",
   "execution_count": null,
   "metadata": {
    "pycharm": {
     "name": "#%%\n"
    }
   },
   "outputs": [],
   "source": [
    "list(range(1, 10, 2))"
   ]
  },
  {
   "cell_type": "code",
   "execution_count": null,
   "metadata": {
    "pycharm": {
     "name": "#%%\n"
    }
   },
   "outputs": [],
   "source": [
    "list(range(10, 1, -1))  # notice the 2nd index is not included"
   ]
  },
  {
   "cell_type": "markdown",
   "metadata": {
    "pycharm": {
     "name": "#%% md\n"
    }
   },
   "source": [
    "Use **for loop** to calculate a sum."
   ]
  },
  {
   "cell_type": "code",
   "execution_count": null,
   "metadata": {
    "pycharm": {
     "name": "#%%\n"
    }
   },
   "outputs": [],
   "source": [
    "# sum up value from 1 to 4.\n",
    "total = 0\n",
    "for i in range(4):\n",
    "    print(\"i is \" + str(i))\n",
    "    total = total + i\n",
    "    print(\"sum is \" + str(total))\n",
    "print(\"program done.\")"
   ]
  },
  {
   "cell_type": "markdown",
   "metadata": {
    "pycharm": {
     "name": "#%% md\n"
    }
   },
   "source": [
    "```{note}\n",
    "\"`sum`\" is a reserved word in python. It is a function, so avoid using it for variable names.\n",
    "Stay alert and memorize these **reserved words** as you learn Python\n",
    "```"
   ]
  },
  {
   "cell_type": "markdown",
   "metadata": {
    "pycharm": {
     "name": "#%% md\n"
    }
   },
   "source": [
    "For loop with a **list** object"
   ]
  },
  {
   "cell_type": "code",
   "execution_count": null,
   "metadata": {
    "pycharm": {
     "name": "#%%\n"
    }
   },
   "outputs": [],
   "source": [
    "cities = ['Gainesville', 'Miami', 'Orlando', 'Tampa']\n",
    "for city in cities:\n",
    "    print(\"I like \" + city)"
   ]
  },
  {
   "cell_type": "markdown",
   "metadata": {
    "pycharm": {
     "name": "#%% md\n"
    }
   },
   "source": [
    "```{tip}\n",
    "In the example above, `city` is just **_a pointer_** it can have any name as long as the name abides by the rules.\n",
    "**Try** use `for c in cities:` or `for _ in cities:`.\n",
    "```"
   ]
  },
  {
   "cell_type": "markdown",
   "metadata": {
    "pycharm": {
     "name": "#%% md\n"
    }
   },
   "source": [
    "### 2.2 While Loop\n",
    "\n",
    "While loops repeat (iterate) as long as a certain boolean condition is met (`True`).\n",
    "\n",
    "Calculate the **total sum from 1 to 100**."
   ]
  },
  {
   "cell_type": "code",
   "execution_count": null,
   "metadata": {
    "pycharm": {
     "name": "#%%\n"
    }
   },
   "outputs": [],
   "source": [
    "i = 1\n",
    "total = 0\n",
    "while i <= 100:\n",
    "    # print(\"i is \" + str(i))\n",
    "    total = total + i\n",
    "    i += 1 # same as i = i + 1\n",
    "print(\"Final sum is \" + str(total))"
   ]
  },
  {
   "cell_type": "markdown",
   "metadata": {
    "pycharm": {
     "name": "#%% md\n"
    }
   },
   "source": [
    "The while loop requires relevant variables to be ready, in this example we need to define **an indexing variable**, `i`, which we set to 1."
   ]
  },
  {
   "cell_type": "markdown",
   "metadata": {
    "pycharm": {
     "name": "#%% md\n"
    }
   },
   "source": [
    "```{warning}\n",
    "Remember to increment i, or else the loop will continue forever (**_infinite loop_**).\n",
    "Because of how the two types of loops operate, `while` loop is more inclined to infinite loops.\n",
    "```\n",
    "\n",
    "```{tip}\n",
    "The difference between for and while loops is whether the number of iteration is known.\n",
    "In for loops, you can pre-define a sequence over which the iteration loops through.\n",
    "```"
   ]
  },
  {
   "cell_type": "code",
   "execution_count": null,
   "metadata": {
    "pycharm": {
     "name": "#%%\n"
    }
   },
   "outputs": [],
   "source": [
    "my_bool = True\n",
    "while my_bool:\n",
    "    x = input(\"Please enter a number: \")\n",
    "    if x == \"3\":\n",
    "        my_bool = False\n",
    "print(\"program finished.\")"
   ]
  },
  {
   "cell_type": "markdown",
   "metadata": {
    "pycharm": {
     "name": "#%% md\n"
    }
   },
   "source": [
    "## 3. Guess a Randomly Generated Integer"
   ]
  },
  {
   "cell_type": "code",
   "execution_count": null,
   "metadata": {
    "pycharm": {
     "name": "#%%\n"
    }
   },
   "outputs": [],
   "source": [
    "import random"
   ]
  },
  {
   "cell_type": "markdown",
   "metadata": {
    "pycharm": {
     "name": "#%% md\n"
    }
   },
   "source": [
    "```{tip}\n",
    "The `import` statement is required to add more functions from modules or packages outside\n",
    "of the [builtins](https://docs.python.org/3/library/builtins.html).\n",
    "\n",
    "`random` is a module that implements _pseudo-random_ number generators for various distributions.\n",
    "```\n",
    "\n",
    "Generate a random integer between 1 and 6."
   ]
  },
  {
   "cell_type": "code",
   "execution_count": null,
   "metadata": {
    "pycharm": {
     "name": "#%%\n"
    }
   },
   "outputs": [],
   "source": [
    "x = random.randint(1, 6)\n",
    "print(x)"
   ]
  },
  {
   "cell_type": "markdown",
   "metadata": {
    "pycharm": {
     "name": "#%% md\n"
    }
   },
   "source": [
    "```{note}\n",
    "`randint` is a method belongs to the `random` module.\n",
    "\n",
    "Unlike the `range` object, it includes both ends.\n",
    "```"
   ]
  },
  {
   "cell_type": "markdown",
   "metadata": {
    "pycharm": {
     "name": "#%% md\n"
    }
   },
   "source": [
    "```{tip}\n",
    "- `tab` to **auto**complete code.\n",
    "- `Shift + tab` to view the documentation.\n",
    "```"
   ]
  },
  {
   "cell_type": "markdown",
   "metadata": {
    "pycharm": {
     "name": "#%% md\n"
    }
   },
   "source": [
    "```{tip}\n",
    "- `tab` to **auto**complete code.\n",
    "- `Shift + tab` to view the documentation.\n",
    "```"
   ]
  },
  {
   "cell_type": "markdown",
   "metadata": {},
   "source": [
    "We can add a `break` to **terminate** a while loop prematurely. "
   ]
  },
  {
   "cell_type": "code",
   "execution_count": null,
   "metadata": {
    "tags": [
     "remove-output"
    ]
   },
   "outputs": [],
   "source": [
    "x = random.randint(1, 6)\n",
    "chance = 5\n",
    "\n",
    "while chance > 0:\n",
    "    guess = int(input(\"Enter a number between 1 and 6: \"))\n",
    "    chance -= 1\n",
    "    if x > guess:\n",
    "        print(\"Try larger.\")\n",
    "    elif x < guess:\n",
    "        print(\"Try smaller.\")\n",
    "    else:\n",
    "        print(\"Bingo!\")\n",
    "        break    \n",
    "        \n",
    "    if chance > 0:\n",
    "        print(str(num_guess) + \" more guesses left.\")\n",
    "    else:\n",
    "        print(\"Sorry, no more guesses.\")"
   ]
  }
 ],
 "metadata": {
  "celltoolbar": "Edit Metadata",
  "kernelspec": {
   "display_name": "Python 3",
   "language": "python",
   "name": "python3"
  },
  "language_info": {
   "codemirror_mode": {
    "name": "ipython",
    "version": 3
   },
   "file_extension": ".py",
   "mimetype": "text/x-python",
   "name": "python",
   "nbconvert_exporter": "python",
   "pygments_lexer": "ipython3",
   "version": "3.9.11"
  },
  "vscode": {
   "interpreter": {
    "hash": "ce21b655b4d6c9e397d5ad93d5666c623f49909f6d0cc2f72076dafcf1b3ecfb"
   }
  }
 },
 "nbformat": 4,
 "nbformat_minor": 2
}
