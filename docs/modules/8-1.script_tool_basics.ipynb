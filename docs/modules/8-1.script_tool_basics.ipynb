{
 "cells": [
  {
   "cell_type": "markdown",
   "metadata": {},
   "source": [
    "# The Basics of a Script Tool"
   ]
  },
  {
   "cell_type": "markdown",
   "metadata": {},
   "source": [
    "<img src=\"https://live.staticflickr.com/65535/51945473980_8811fd9c3c_o.png\"\n",
    "width=\"341\" height=\"341\" alt=\"script_tool\" style=\"float: right; padding-left:20px; padding-top:20px\">\n",
    "\n",
    "## 1. What is a script tool\n",
    "\n",
    "A script tool allows you to turn your own **Python scripts** and functionality\n",
    "into your own **geoprocessing tools**.\n",
    "\n",
    "- an integral part of geoprocessing, just like the native tools;\n",
    "- open and run it in ArcGIS Pro;\n",
    "- use it within a ModelBuiler model."
   ]
  },
  {
   "cell_type": "markdown",
   "metadata": {},
   "source": [
    "To build a script tool, we need to have the following components.\n",
    "\n",
    "1. The source code i.e., a Python script (`.py`).\n",
    "2. A custom toolbox as a container of the script tool.\n",
    "3. Definitions for the parameters in the script tool."
   ]
  },
  {
   "cell_type": "markdown",
   "metadata": {},
   "source": [
    "## 2. Develop a script\n",
    "\n",
    "<br>\n",
    "\n",
    "<div style=\"padding: 10px;margin-bottom: 20px;border: thin solid #3F48CC;border-left-width: 25px;background-color: #fff\">\n",
    "\n",
    "**Homework 1 ModelBuilder model**: find census block groups without law enforcement.\n",
    "\n",
    "<img src=\"https://gist.githubusercontent.com/chjch/6da40e9b15aef3a6571975f03ba90c93/raw/295f510ceada6f68dad90defe0b3ac1a9acdc6e2/hw1_mb.svg\">\n",
    "\n",
    "</div>"
   ]
  },
  {
   "cell_type": "markdown",
   "metadata": {},
   "source": [
    "Let's recap the whole process. First, we need to set up the `env.workspace`."
   ]
  },
  {
   "cell_type": "code",
   "execution_count": 1,
   "metadata": {},
   "outputs": [],
   "source": [
    "# setup workspace\n",
    "import arcpy\n",
    "gdb_worksp = r\"..\\data\\class_data.gdb\"\n",
    "arcpy.env.workspace = gdb_worksp"
   ]
  },
  {
   "cell_type": "markdown",
   "metadata": {},
   "source": [
    "Then, let's define the input feature classes that we will work with."
   ]
  },
  {
   "cell_type": "code",
   "execution_count": 8,
   "metadata": {},
   "outputs": [],
   "source": [
    "I75_fc = \"I75\"\n",
    "blkgrp_fc = \"blockgroups\"\n",
    "cntbnd_fc = \"county_boundary\"\n",
    "lawenforce_fc = \"law_enforcement\""
   ]
  },
  {
   "cell_type": "markdown",
   "metadata": {},
   "source": [
    "Define the output feature classes."
   ]
  },
  {
   "cell_type": "code",
   "execution_count": 14,
   "metadata": {},
   "outputs": [],
   "source": [
    "output_gdb = r\"..\\data\\output_data.gdb\"\n",
    "I75_buff = output_gdb + \"\\\\\" + \"I75_Buff\"\n",
    "blkgrp_law = output_gdb + \"\\\\\" + \"blkgrp_law\"\n",
    "blkgrp_select = \"blockgroups_select\""
   ]
  },
  {
   "cell_type": "markdown",
   "metadata": {},
   "source": [
    "We now execute **geoprocessing functions** in the following sequence."
   ]
  },
  {
   "cell_type": "code",
   "execution_count": 15,
   "metadata": {
    "tags": [
     "remove-output",
     "number_source_lines"
    ]
   },
   "outputs": [
    {
     "data": {
      "text/plain": [
       "<Result 'D:\\\\Dropbox (UFL)\\\\GIS Automation\\\\urp6271_spring2020\\\\module7\\\\in class\\\\custom tool dev\\\\FirstScriptTool\\\\FirstScriptTool.gdb\\\\blockgroups_select'>"
      ]
     },
     "execution_count": 15,
     "metadata": {},
     "output_type": "execute_result"
    }
   ],
   "source": [
    "# Buffer\n",
    "arcpy.analysis.Buffer(I75_fc, I75_buff, \"6 Miles\")\n",
    "\n",
    "# Select Layer By Location\n",
    "blkgrp_lyr_1 = arcpy.management.SelectLayerByLocation(\n",
    "    blkgrp_fc, \"WITHIN\", cntbnd_fc\n",
    ")\n",
    "blkgrp_lyr_2 = arcpy.management.SelectLayerByLocation(\n",
    "    blkgrp_lyr_1, \"WITHIN\", I75_buff, selection_type=\"SUBSET_SELECTION\"\n",
    ")\n",
    "\n",
    "# Spatial Join\n",
    "arcpy.analysis.SpatialJoin(\n",
    "    blkgrp_lyr_2, lawenforce_fc, blkgrp_law, \n",
    "    \"JOIN_ONE_TO_ONE\", \"KEEP_ALL\", \"\", \"INTERSECT\", \"\", \"\"\n",
    ")\n",
    "\n",
    "# Feature Class to Feature Class\n",
    "query_exp = \"{} = 0\".format('\"Join_Count\"')\n",
    "arcpy.FeatureClassToFeatureClass_conversion(\n",
    "    blkgrp_law, output_gdb, blkgrp_select, query_exp, \"\", \"\"\n",
    ")"
   ]
  },
  {
   "cell_type": "markdown",
   "metadata": {},
   "source": [
    "We now have the working codes. To make it into a \"Script Tool\", we need to put the codes in a python file (`.py`).\n",
    "You can either copy and paste the codes to a `.py` file using your favorite text editor (e.g., Visual Studio Code)\n",
    "or use the **Export to Python File** option in ArcGIS Pro. "
   ]
  }
 ],
 "metadata": {
  "celltoolbar": "Edit Metadata",
  "kernelspec": {
   "display_name": "Python 3 (ipykernel)",
   "language": "python",
   "name": "python3"
  },
  "language_info": {
   "codemirror_mode": {
    "name": "ipython",
    "version": 3
   },
   "file_extension": ".py",
   "mimetype": "text/x-python",
   "name": "python",
   "nbconvert_exporter": "python",
   "pygments_lexer": "ipython3",
   "version": "3.9.16"
  },
  "vscode": {
   "interpreter": {
    "hash": "ce21b655b4d6c9e397d5ad93d5666c623f49909f6d0cc2f72076dafcf1b3ecfb"
   }
  }
 },
 "nbformat": 4,
 "nbformat_minor": 2
}
