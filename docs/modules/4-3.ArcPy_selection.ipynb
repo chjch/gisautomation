{
 "cells": [
  {
   "cell_type": "markdown",
   "metadata": {
    "pycharm": {
     "name": "#%% md\n"
    }
   },
   "source": [
    "# Querying with ArcPy\n",
    "\n",
    "## 1. Selection Query\n",
    "\n",
    "### 1.1 SQL (structured query language) expression\n",
    "\n",
    "**Expression**: `<field name> <logic operator> <value>`\n",
    "\n",
    "![SQL exp](https://pro.arcgis.com/en/pro-app/latest/help/mapping/navigation/GUID-F131B6FC-4650-4EFD-B2BE-4C500E5E5A94-web.png)\n",
    "\n",
    "Referenes:\n",
    "\n",
    "- [SQL reference for query expressions used in ArcGIS](http://pro.arcgis.com/en/pro-app/help/mapping/navigation/sql-reference-for-elements-used-in-query-expressions.htm)\n",
    "- [Specifying a query in Python](http://pro.arcgis.com/en/pro-app/arcpy/get-started/specifying-a-query.htm)\n",
    "\n",
    "Let's work on two examples using the `zip_bounaries` feature class:\n",
    "\n",
    "- numeric value: `POP2010 > 10000`\n",
    "- text value: `PO_NAME = Gainesville`"
   ]
  },
  {
   "cell_type": "markdown",
   "metadata": {
    "pycharm": {
     "name": "#%% md\n"
    }
   },
   "source": [
    "``` {admonition} 📝 Notes for specifying SQL with ArcPy:\n",
    "- Query in ArcPy functions is supplied as a **Python string**.\n",
    "- **Field delimiter** must be used to denote a field in the query. \n",
    "    - `\"field\"`: a _shapefile_ or a _feature class_ in a **_file geodatabase_**\n",
    "    - `[field]`: a _feature class_ in a **_personal geodatabase_**\n",
    "- **Text value** must always be enclosed in <u>single quotes</u>.\n",
    "```"
   ]
  },
  {
   "cell_type": "markdown",
   "metadata": {
    "pycharm": {
     "name": "#%% md\n"
    }
   },
   "source": [
    "```\n",
    "\" \"     # double quote\n",
    "' '     # single quote\n",
    "\"\"\" \"\"\" # triple quotes\n",
    "'\\'     # escape character\n",
    "```"
   ]
  },
  {
   "cell_type": "markdown",
   "metadata": {
    "pycharm": {
     "name": "#%% md\n"
    }
   },
   "source": [
    "### 1.2 Build SQL query with triple quotes"
   ]
  },
  {
   "cell_type": "code",
   "execution_count": 61,
   "metadata": {
    "pycharm": {
     "name": "#%%\n"
    }
   },
   "outputs": [
    {
     "name": "stdout",
     "output_type": "stream",
     "text": [
      "\"POP2010\" > 10000\n"
     ]
    }
   ],
   "source": [
    "# numeric value\n",
    "print(\"\"\"\"POP2010\" > 10000\"\"\")"
   ]
  },
  {
   "cell_type": "code",
   "execution_count": 60,
   "metadata": {
    "pycharm": {
     "name": "#%%\n"
    }
   },
   "outputs": [
    {
     "name": "stdout",
     "output_type": "stream",
     "text": [
      "\"PO_NAME\" = 'GAINESVILLE'\n"
     ]
    }
   ],
   "source": [
    "# text value\n",
    "print(\"\"\"\"PO_NAME\" = 'GAINESVILLE'\"\"\")"
   ]
  },
  {
   "cell_type": "markdown",
   "metadata": {
    "pycharm": {
     "name": "#%% md\n"
    }
   },
   "source": [
    "### 1.3 Build SQL query with escape character"
   ]
  },
  {
   "cell_type": "code",
   "execution_count": 62,
   "metadata": {
    "pycharm": {
     "name": "#%%\n"
    }
   },
   "outputs": [
    {
     "name": "stdout",
     "output_type": "stream",
     "text": [
      "\"\n",
      "'\n"
     ]
    }
   ],
   "source": [
    "print(\"\\\"\")\n",
    "print(\"\\'\")"
   ]
  },
  {
   "cell_type": "code",
   "execution_count": 63,
   "metadata": {
    "pycharm": {
     "name": "#%%\n"
    }
   },
   "outputs": [
    {
     "name": "stdout",
     "output_type": "stream",
     "text": [
      "\"POP2010\" > 10000\n"
     ]
    }
   ],
   "source": [
    "query_numeric = \"\\\"POP2010\\\" > 10000\"\n",
    "print(query_numeric)"
   ]
  },
  {
   "cell_type": "code",
   "execution_count": 64,
   "metadata": {
    "pycharm": {
     "name": "#%%\n"
    }
   },
   "outputs": [
    {
     "name": "stdout",
     "output_type": "stream",
     "text": [
      "\"PO_NAME\" = 'GAINESVILLE'\n"
     ]
    }
   ],
   "source": [
    "query_text = \"\\\"PO_NAME\\\" = \\'GAINESVILLE\\'\"\n",
    "print(query_text)"
   ]
  },
  {
   "cell_type": "markdown",
   "metadata": {
    "pycharm": {
     "name": "#%% md\n"
    }
   },
   "source": [
    "### 1.4 Build SQL query with `.format` string"
   ]
  },
  {
   "cell_type": "code",
   "execution_count": 65,
   "metadata": {
    "pycharm": {
     "name": "#%%\n"
    }
   },
   "outputs": [
    {
     "name": "stdout",
     "output_type": "stream",
     "text": [
      "\"POP2010\" > 10000\n"
     ]
    }
   ],
   "source": [
    "query_numeric = \"{} > {}\".format('\"POP2010\"', 10000)\n",
    "print(query_numeric)"
   ]
  },
  {
   "cell_type": "code",
   "execution_count": 66,
   "metadata": {
    "pycharm": {
     "name": "#%%\n"
    }
   },
   "outputs": [
    {
     "name": "stdout",
     "output_type": "stream",
     "text": [
      "\"PO_NAME\" = 'GAINESVILLE'\n"
     ]
    }
   ],
   "source": [
    "query_text = \"{} = {}\".format('\"PO_NAME\"', \"'GAINESVILLE'\")\n",
    "print(query_text)"
   ]
  },
  {
   "cell_type": "markdown",
   "metadata": {
    "pycharm": {
     "name": "#%% md\n"
    }
   },
   "source": [
    "### 1.5 Create query with compound criterion\n",
    "\n",
    "- population greater than 10,000 **AND** name equals to gainesville\n",
    "- population greater than 10,000 **OR** name equals to gainesville"
   ]
  },
  {
   "cell_type": "code",
   "execution_count": 67,
   "metadata": {
    "pycharm": {
     "name": "#%%\n"
    }
   },
   "outputs": [
    {
     "name": "stdout",
     "output_type": "stream",
     "text": [
      "\"POP2010\" > 10000 AND \"PO_NAME\" = 'GAINESVILLE'\n"
     ]
    }
   ],
   "source": [
    "query_comp = \"{} > {} AND {} = {}\".format('\"POP2010\"', 10000, '\"PO_NAME\"', \"'GAINESVILLE'\")\n",
    "print(query_comp)"
   ]
  },
  {
   "cell_type": "code",
   "execution_count": 68,
   "metadata": {
    "pycharm": {
     "name": "#%%\n"
    }
   },
   "outputs": [
    {
     "name": "stdout",
     "output_type": "stream",
     "text": [
      "\"POP2010\" > 10000 OR \"PO_NAME\" = 'GAINESVILLE'\n"
     ]
    }
   ],
   "source": [
    "query_comp = \"{} > {} OR {} = {}\".format('\"POP2010\"', 10000, '\"PO_NAME\"', \"'GAINESVILLE'\")\n",
    "print(query_comp)"
   ]
  },
  {
   "cell_type": "markdown",
   "metadata": {
    "pycharm": {
     "name": "#%% md\n"
    }
   },
   "source": [
    "## 2. `Select` Function\n",
    "\n",
    "[This function](https://pro.arcgis.com/en/pro-app/latest/tool-reference/analysis/select.htm)\n",
    "Extracts features from an input feature class or input feature layer, typically\n",
    "using a select or Structured Query Language (SQL) expression, and **stores**\n",
    "them in an output feature class, i.e., saves on the drive."
   ]
  },
  {
   "cell_type": "code",
   "execution_count": 25,
   "metadata": {
    "pycharm": {
     "name": "#%%\n"
    }
   },
   "outputs": [],
   "source": [
    "import arcpy"
   ]
  },
  {
   "cell_type": "code",
   "execution_count": 26,
   "metadata": {
    "pycharm": {
     "name": "#%%\n"
    }
   },
   "outputs": [],
   "source": [
    "gdb_worksp = r\"..\\data\\class_data.gdb\"\n",
    "arcpy.env.workspace = gdb_worksp"
   ]
  },
  {
   "cell_type": "code",
   "execution_count": 4,
   "metadata": {
    "pycharm": {
     "name": "#%%\n"
    }
   },
   "outputs": [],
   "source": [
    "zip_fc = \"zip_boundaries\""
   ]
  },
  {
   "cell_type": "code",
   "execution_count": 27,
   "metadata": {
    "pycharm": {
     "name": "#%%\n"
    }
   },
   "outputs": [
    {
     "data": {
      "text/html": [
       "<div class='gpresult'><h2>Messages</h2><div id='messages' data-messages='[\"Start Time: Tuesday, January 3, 2023 9:25:35 PM\",\"Succeeded at Tuesday, January 3, 2023 9:25:36 PM (Elapsed Time: 0.52 seconds)\"]' data-show='true'><div id = 'default' /></div></div>"
      ],
      "text/plain": [
       "<Result '..\\\\data\\\\class_data.gdb\\\\zipbnd_q1'>"
      ]
     },
     "execution_count": 27,
     "metadata": {},
     "output_type": "execute_result"
    }
   ],
   "source": [
    "query_numeric = \"\"\"\"POP2010\" > 10000\"\"\"\n",
    "zip_output = \"zipbnd_q1\"\n",
    "arcpy.Select_analysis(zip_fc, zip_output, query_numeric)"
   ]
  },
  {
   "cell_type": "code",
   "execution_count": 28,
   "metadata": {
    "pycharm": {
     "name": "#%%\n"
    }
   },
   "outputs": [
    {
     "data": {
      "text/html": [
       "<div class='gpresult'><h2>Messages</h2><div id='messages' data-messages='[\"Start Time: Tuesday, January 3, 2023 9:25:37 PM\",\"Succeeded at Tuesday, January 3, 2023 9:25:38 PM (Elapsed Time: 0.52 seconds)\"]' data-show='true'><div id = 'default' /></div></div>"
      ],
      "text/plain": [
       "<Result '..\\\\data\\\\class_data.gdb\\\\zipbnd_q2'>"
      ]
     },
     "execution_count": 28,
     "metadata": {},
     "output_type": "execute_result"
    }
   ],
   "source": [
    "query_text = \"\\\"PO_NAME\\\" = \\'GAINESVILLE\\'\"\n",
    "zip_output = \"zipbnd_q2\"\n",
    "arcpy.analysis.Select(zip_fc, zip_output, query_text)"
   ]
  },
  {
   "cell_type": "code",
   "execution_count": 30,
   "metadata": {
    "pycharm": {
     "name": "#%%\n"
    }
   },
   "outputs": [
    {
     "data": {
      "text/html": [
       "<div class='gpresult'><h2>Messages</h2><div id='messages' data-messages='[\"Start Time: Tuesday, January 3, 2023 9:29:46 PM\",\"Succeeded at Tuesday, January 3, 2023 9:29:46 PM (Elapsed Time: 0.54 seconds)\"]' data-show='true'><div id = 'default' /></div></div>"
      ],
      "text/plain": [
       "<Result '..\\\\data\\\\class_data.gdb\\\\zipbnd_q2'>"
      ]
     },
     "execution_count": 30,
     "metadata": {},
     "output_type": "execute_result"
    }
   ],
   "source": [
    "# arcpy.env.overwriteOutput = True\n",
    "query_comp = \"{} > {} AND {} = {}\".format('\"POP2010\"', 10000, '\"PO_NAME\"', \"'GAINESVILLE'\")\n",
    "zip_output = \"zipbnd_q2\"\n",
    "arcpy.analysis.Select(zip_fc, zip_output, query_comp)"
   ]
  },
  {
   "cell_type": "markdown",
   "metadata": {
    "pycharm": {
     "name": "#%% md\n"
    }
   },
   "source": [
    "## 3. Select by Attributes"
   ]
  },
  {
   "cell_type": "code",
   "execution_count": 31,
   "metadata": {
    "pycharm": {
     "name": "#%%\n"
    }
   },
   "outputs": [],
   "source": [
    "zip_fc = \"zip_boundaries\"\n",
    "query_numeric = \"\"\"\"POP2010\" > 10000\"\"\"\n",
    "zip_lyr = arcpy.management.SelectLayerByAttribute(zip_fc, \"NEW_SELECTION\", query_numeric)"
   ]
  },
  {
   "cell_type": "code",
   "execution_count": 32,
   "metadata": {
    "pycharm": {
     "name": "#%%\n"
    }
   },
   "outputs": [
    {
     "name": "stdout",
     "output_type": "stream",
     "text": [
      "13\n"
     ]
    }
   ],
   "source": [
    "print(arcpy.GetCount_management(zip_lyr))"
   ]
  },
  {
   "cell_type": "markdown",
   "metadata": {
    "pycharm": {
     "name": "#%% md\n"
    }
   },
   "source": [
    "```{admonition} 🧭**Pro Tip**:\n",
    "\n",
    "Select by attribute and Select by location introduced later only **temporarily**\n",
    "select features out of the specified feature class, meaning they\n",
    "**don't physically save files** on the hard disk of your computer.\n",
    "\n",
    "Therefore, it is a good idea to save the output as a variable to be able to\n",
    "reference the selection later in the codes. "
   ]
  },
  {
   "cell_type": "markdown",
   "metadata": {
    "pycharm": {
     "name": "#%% md\n"
    }
   },
   "source": [
    "## 4. Select by Location"
   ]
  },
  {
   "cell_type": "code",
   "execution_count": 33,
   "metadata": {
    "pycharm": {
     "name": "#%%\n"
    }
   },
   "outputs": [],
   "source": [
    "blkgrp_fc = \"blockgroups\"\n",
    "cntbnd_fc = \"county_boundary\"\n",
    "blkgrp_lyr = arcpy.management.SelectLayerByLocation(blkgrp_fc, \"WITHIN\", cntbnd_fc, \"\", \"\", \"\")"
   ]
  },
  {
   "cell_type": "code",
   "execution_count": 34,
   "metadata": {
    "pycharm": {
     "name": "#%%\n"
    }
   },
   "outputs": [
    {
     "name": "stdout",
     "output_type": "stream",
     "text": [
      "178\n"
     ]
    }
   ],
   "source": [
    "print(arcpy.management.GetCount(blkgrp_fc))"
   ]
  },
  {
   "cell_type": "code",
   "execution_count": 35,
   "metadata": {
    "pycharm": {
     "name": "#%%\n"
    }
   },
   "outputs": [
    {
     "name": "stdout",
     "output_type": "stream",
     "text": [
      "142\n"
     ]
    }
   ],
   "source": [
    "print(arcpy.GetCount_management(blkgrp_lyr))"
   ]
  },
  {
   "cell_type": "markdown",
   "metadata": {
    "pycharm": {
     "name": "#%% md\n"
    }
   },
   "source": [
    "## 5. Save Selection to a Feature Class\n",
    "\n",
    "There are two options to save a \"temporary\" selection to an output layer.\n",
    "It is critical to understand how to set output **path** and **name** in each\n",
    "of the method.\n",
    "\n",
    "- `arcpy.conversion.FeatureClassToFeatureClass(<path>, <fc name>)`\n",
    "- `arcpy.management.CopyFeatures()`\n",
    "    - without a path: create feature class in current workspace\n",
    "    - with specified path:\n",
    "        - use `\"\\\\\"` to concatenate path and name\n",
    "        - use `os.path.join()` function\n",
    "        - define the full path name altogether"
   ]
  },
  {
   "cell_type": "markdown",
   "metadata": {
    "pycharm": {
     "name": "#%% md\n"
    }
   },
   "source": []
  },
  {
   "cell_type": "code",
   "execution_count": 38,
   "metadata": {
    "pycharm": {
     "name": "#%%\n"
    }
   },
   "outputs": [],
   "source": [
    "output_path = r\"..\\data\\class_data.gdb\"\n",
    "output_fc = \"blockgroups_I75_2mi\""
   ]
  },
  {
   "cell_type": "code",
   "execution_count": 39,
   "metadata": {
    "pycharm": {
     "name": "#%%\n"
    }
   },
   "outputs": [
    {
     "data": {
      "text/html": [
       "<div class='gpresult'><h2>Messages</h2><div id='messages' data-messages='[\"Start Time: Tuesday, January 3, 2023 9:30:39 PM\",\"Succeeded at Tuesday, January 3, 2023 9:30:40 PM (Elapsed Time: 0.87 seconds)\"]' data-show='true'><div id = 'default' /></div></div>"
      ],
      "text/plain": [
       "<Result '..\\\\data\\\\class_data.gdb\\\\blockgroups_I75_2mi'>"
      ]
     },
     "execution_count": 39,
     "metadata": {},
     "output_type": "execute_result"
    }
   ],
   "source": [
    "arcpy.conversion.FeatureClassToFeatureClass(blkgrp_lyr, output_path, output_fc)"
   ]
  },
  {
   "cell_type": "code",
   "execution_count": 40,
   "metadata": {
    "pycharm": {
     "name": "#%%\n"
    }
   },
   "outputs": [
    {
     "data": {
      "text/html": [
       "<div class='gpresult'><h2>Messages</h2><div id='messages' data-messages='[\"Start Time: Tuesday, January 3, 2023 9:30:42 PM\",\"Succeeded at Tuesday, January 3, 2023 9:30:43 PM (Elapsed Time: 0.84 seconds)\"]' data-show='true'><div id = 'default' /></div></div>"
      ],
      "text/plain": [
       "<Result '..\\\\data\\\\class_data.gdb\\\\blockgroups_Layer5_CopyFeatures'>"
      ]
     },
     "execution_count": 40,
     "metadata": {},
     "output_type": "execute_result"
    }
   ],
   "source": [
    "# ouptut not specified\n",
    "arcpy.management.CopyFeatures(blkgrp_lyr)"
   ]
  },
  {
   "cell_type": "code",
   "execution_count": 41,
   "metadata": {
    "pycharm": {
     "name": "#%%\n"
    }
   },
   "outputs": [
    {
     "data": {
      "text/plain": [
       "'..\\\\data\\\\class_data.gdb\\\\blockgroups_I75_2mi'"
      ]
     },
     "execution_count": 41,
     "metadata": {},
     "output_type": "execute_result"
    }
   ],
   "source": [
    "output_path + \"\\\\\" + output_fc"
   ]
  },
  {
   "cell_type": "code",
   "execution_count": 42,
   "metadata": {
    "pycharm": {
     "name": "#%%\n"
    }
   },
   "outputs": [
    {
     "data": {
      "text/plain": [
       "'..\\\\data\\\\class_data.gdb\\\\blockgroups_I75_2mi'"
      ]
     },
     "execution_count": 42,
     "metadata": {},
     "output_type": "execute_result"
    }
   ],
   "source": [
    "import os\n",
    "output_name = os.path.join(output_path, output_fc)\n",
    "output_name"
   ]
  },
  {
   "cell_type": "code",
   "execution_count": 43,
   "metadata": {
    "pycharm": {
     "name": "#%%\n"
    }
   },
   "outputs": [],
   "source": [
    "output_name = r'..data\\class_data.gdb\\module1\\FirstModelBuilder\\FirstModelBuilder.gdb\\blockgroups_I75_2mi'"
   ]
  }
 ],
 "metadata": {
  "kernelspec": {
   "display_name": "Python 3",
   "language": "python",
   "name": "python3"
  },
  "language_info": {
   "codemirror_mode": {
    "name": "ipython",
    "version": 3
   },
   "file_extension": ".py",
   "mimetype": "text/x-python",
   "name": "python",
   "nbconvert_exporter": "python",
   "pygments_lexer": "ipython3",
   "version": "3.9.11"
  },
  "vscode": {
   "interpreter": {
    "hash": "ce21b655b4d6c9e397d5ad93d5666c623f49909f6d0cc2f72076dafcf1b3ecfb"
   }
  }
 },
 "nbformat": 4,
 "nbformat_minor": 2
}