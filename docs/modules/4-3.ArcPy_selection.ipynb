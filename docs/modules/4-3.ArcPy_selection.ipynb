{
 "cells": [
  {
   "cell_type": "markdown",
   "metadata": {},
   "source": [
    "# ArcPy Selection Functions\n",
    "\n",
    "An essential task in GIS is to select a subset of a layer or feature class that\n",
    "matches certain criteria.\n",
    "\n",
    "The criteria could be based on the information carried\n",
    "within the data's **attributes**, e.g., _block groups with more than 1000 population_,\n",
    "or based on **locational** traits, e.g., _within 2 miles of any school_.\n",
    "\n",
    "In this section, we will take a look at several functions that are used to selecting\n",
    "(or querying) features."
   ]
  },
  {
   "cell_type": "markdown",
   "source": [
    "## 1. Selection Query\n",
    "\n",
    "Structured Query Language (**SQL**) is a powerful language used to define one or more criteria that can consist of attributes, operators, and calculations.\n",
    "\n",
    "```{hint}\n",
    "SQL reads as S-Q-L or \"sequel\" by many professional database developers.\n",
    "```\n",
    "\n",
    "Whether you're aware or not, as users of ArcGIS Pro, you must have already used it.\n",
    "Perhaps, in the form of the following approach.\n",
    "\n",
    "```{image} ../_static/images/selection_query.png\n",
    ":class: border mb-2\n",
    ":alt: \"selection query\"\n",
    ":scale: 55%\n",
    ":align: center\n",
    "```"
   ],
   "metadata": {
    "collapsed": false
   }
  },
  {
   "cell_type": "markdown",
   "source": [
    "Query expressions in ArcGIS adhere to standard SQL expressions.\n",
    "Accordingly, if we turn the \"switch\" to **SQL**, we will see the\n",
    "following equivalent expression written in SQL.\n",
    "\n",
    "```{image} ../_static/images/selection_query_SQL.png\n",
    ":class: border mb-2\n",
    ":alt: \"selection query SQL\"\n",
    ":scale: 55%\n",
    ":align: center\n",
    "```"
   ],
   "metadata": {
    "collapsed": false
   }
  },
  {
   "cell_type": "markdown",
   "source": [
    "\n",
    "### 1.1 Writing SQL expression in ArcPy\n",
    "\n",
    "Without loss of generality, a single SQL expression can be written\n",
    "in the following pattern:\n",
    "\n",
    "`<field name> <logic operator> <value>`\n",
    "\n",
    "Rules to remember when writing SQL expression for ArcPy functions.\n",
    "\n",
    "1. Query in ArcPy functions is defined using Python `str`.\n",
    "2. [Field delimiter](https://pro.arcgis.com/en/pro-app/latest/arcpy/get-started/specifying-a-query.htm#GUID-98106084-6ECE-4647-A50D-50EF0B46EC25)\n",
    "   must be used to specify a **field of an attribute** table.\n",
    "   For _shapefile_ and _feature class_ (in _file geodatabase_), the field delimiter\n",
    "   is **double quotes**, i.e., `\"<fieldname>\"`.\n",
    "3. _Text_ values must always be enclosed by **single quotes** `'<some text>'`.\n",
    "\n",
    "```{admonition} History of Geodatabases\n",
    ":class: seealso\n",
    "\n",
    "Read this blog about [a brief history](https://www.esri.com/arcgis-blog/products/arcgis-pro/data-management/its-not-personal-its-mobile/)\n",
    "of the geodatabase and why personal geodatabases are no longer supported in ArcGIS Pro. And, learn what is mobile geodatabase?\n",
    "\n",
    "- [Personal geodatabase](https://desktop.arcgis.com/en/arcmap/latest/manage-data/administer-file-gdbs/personal-geodatabases.htm)\n",
    "- [Types of geodatabases (ArcGIS Pro)](https://pro.arcgis.com/en/pro-app/latest/help/data/geodatabases/overview/types-of-geodatabases.htm)\n",
    "```"
   ],
   "metadata": {
    "collapsed": false
   }
  },
  {
   "cell_type": "markdown",
   "source": [
    "Since there are multiple rules to follow when writing SQL expressions,\n",
    "we must use a combination of methods that we have learned\n",
    "about defining Python strings, including `\" \"` (double quotes), `' '` (single quotes),\n",
    "`\"\"\" \"\"\"` (triple quotes), and `\\` (the escape character).\n",
    "\n",
    "Now, let’s work on two examples using the _zip_boundaries_ feature class.\n",
    "Specifically, we will write SQL expressions (in Python) to query against\n",
    "a field containing **numeric values** and another field containing\n",
    "**text values**.\n",
    "\n",
    "- numeric value: `POP2010 > 10000`, (zip codes have more than 10,000 people)\n",
    "- text value: `PO_NAME = Gainesville` (zip codes in the City of Gainesville)"
   ],
   "metadata": {
    "collapsed": false
   }
  },
  {
   "cell_type": "markdown",
   "source": [
    "### 1.2 Expression with triple quotes\n",
    "\n",
    "Strings defined by \"triple quotes\" is commonly used to define SQL\n",
    "expressions in ArcPy because this form can accommodate both double quotes\n",
    "and single quotes."
   ],
   "metadata": {
    "collapsed": false
   }
  },
  {
   "cell_type": "code",
   "execution_count": 61,
   "metadata": {},
   "outputs": [
    {
     "name": "stdout",
     "output_type": "stream",
     "text": [
      "\"POP2010\" > 10000\n"
     ]
    }
   ],
   "source": [
    "# numeric value\n",
    "print(\"\"\"\"POP2010\" > 10000\"\"\")"
   ]
  },
  {
   "cell_type": "code",
   "execution_count": 60,
   "metadata": {},
   "outputs": [
    {
     "name": "stdout",
     "output_type": "stream",
     "text": [
      "\"PO_NAME\" = 'GAINESVILLE'\n"
     ]
    }
   ],
   "source": [
    "# text value\n",
    "print(\"\"\"\"PO_NAME\" = 'GAINESVILLE'\"\"\")"
   ]
  },
  {
   "cell_type": "markdown",
   "source": [
    "```{seealso}\n",
    "- [SQL reference for query expressions used in ArcGIS](http://pro.arcgis.com/en/pro-app/help/mapping/navigation/sql-reference-for-elements-used-in-query-expressions.htm)\n",
    "- [Specifying a query in Python](http://pro.arcgis.com/en/pro-app/arcpy/get-started/specifying-a-query.htm)\n",
    "```"
   ],
   "metadata": {
    "collapsed": false
   }
  },
  {
   "cell_type": "markdown",
   "metadata": {},
   "source": [
    "### 1.3 Expression with escape character\n",
    "\n",
    "Remember that we can include double quote and single quote in string\n",
    "by using the escape character (`\\`)."
   ]
  },
  {
   "cell_type": "code",
   "execution_count": 62,
   "metadata": {},
   "outputs": [
    {
     "name": "stdout",
     "output_type": "stream",
     "text": [
      "\"\n",
      "'\n"
     ]
    }
   ],
   "source": [
    "print(\"\\\"\")\n",
    "print(\"\\'\")"
   ]
  },
  {
   "cell_type": "code",
   "execution_count": 63,
   "metadata": {},
   "outputs": [
    {
     "name": "stdout",
     "output_type": "stream",
     "text": [
      "\"POP2010\" > 10000\n"
     ]
    }
   ],
   "source": [
    "query_numeric = \"\\\"POP2010\\\" > 10000\"\n",
    "print(query_numeric)"
   ]
  },
  {
   "cell_type": "code",
   "execution_count": 64,
   "metadata": {},
   "outputs": [
    {
     "name": "stdout",
     "output_type": "stream",
     "text": [
      "\"PO_NAME\" = 'GAINESVILLE'\n"
     ]
    }
   ],
   "source": [
    "query_text = \"\\\"PO_NAME\\\" = \\'GAINESVILLE\\'\"\n",
    "print(query_text)"
   ]
  },
  {
   "cell_type": "markdown",
   "metadata": {},
   "source": [
    "### 1.4 Expression with `.format`"
   ]
  },
  {
   "cell_type": "code",
   "execution_count": 65,
   "metadata": {},
   "outputs": [
    {
     "name": "stdout",
     "output_type": "stream",
     "text": [
      "\"POP2010\" > 10000\n"
     ]
    }
   ],
   "source": [
    "query_numeric = \"{} > {}\".format('\"POP2010\"', 10000)\n",
    "print(query_numeric)"
   ]
  },
  {
   "cell_type": "code",
   "execution_count": 66,
   "metadata": {},
   "outputs": [
    {
     "name": "stdout",
     "output_type": "stream",
     "text": [
      "\"PO_NAME\" = 'GAINESVILLE'\n"
     ]
    }
   ],
   "source": [
    "query_text = \"{} = {}\".format('\"PO_NAME\"', \"'GAINESVILLE'\")\n",
    "print(query_text)"
   ]
  },
  {
   "cell_type": "markdown",
   "metadata": {},
   "source": [
    "## 2. Define Compound Criteria\n",
    "\n",
    "Consider the following compound criteria.\n",
    "\n",
    "- population greater than 10,000 **AND** name equals to Gainesville\n",
    "- population greater than 10,000 **OR** name equals to Gainesville\n",
    "\n",
    "We use `AND` and `OR` to connect two expressions together. Note that\n",
    "all letters in both words are **capitalized**.\n",
    "❓ Do you still remember how _logical operators_ are written **in Python**?\n",
    "Are they upper case or lower case?"
   ]
  },
  {
   "cell_type": "code",
   "execution_count": 67,
   "metadata": {},
   "outputs": [
    {
     "name": "stdout",
     "output_type": "stream",
     "text": [
      "\"POP2010\" > 10000 AND \"PO_NAME\" = 'GAINESVILLE'\n"
     ]
    }
   ],
   "source": [
    "query_comp = \"{} > {} AND {} = {}\".format('\"POP2010\"', 10000,\n",
    "                                          '\"PO_NAME\"', \"'GAINESVILLE'\")\n",
    "print(query_comp)"
   ]
  },
  {
   "cell_type": "code",
   "execution_count": 68,
   "metadata": {},
   "outputs": [
    {
     "name": "stdout",
     "output_type": "stream",
     "text": [
      "\"POP2010\" > 10000 OR \"PO_NAME\" = 'GAINESVILLE'\n"
     ]
    }
   ],
   "source": [
    "query_comp = \"{} > {} OR {} = {}\".format('\"POP2010\"', 10000,\n",
    "                                         '\"PO_NAME\"', \"'GAINESVILLE'\")\n",
    "print(query_comp)"
   ]
  },
  {
   "cell_type": "markdown",
   "metadata": {},
   "source": [
    "## 3. `Select` Function\n",
    "\n",
    "[`arcpy.analysis.Select`](https://pro.arcgis.com/en/pro-app/latest/tool-reference/analysis/select.htm)\n",
    "extracts features from an input feature class or input feature layer, typically\n",
    "using a SQL expression, and **stores**\n",
    "them in an output feature class, i.e., saves physically on the drive.\n",
    "\n",
    "Now, let's apply what we have learned about SQL expressions in this function."
   ]
  },
  {
   "cell_type": "code",
   "execution_count": 25,
   "metadata": {},
   "outputs": [],
   "source": [
    "import arcpy"
   ]
  },
  {
   "cell_type": "code",
   "execution_count": 26,
   "metadata": {},
   "outputs": [],
   "source": [
    "gdb_worksp = r\"..\\data\\class_data.gdb\"\n",
    "arcpy.env.workspace = gdb_worksp"
   ]
  },
  {
   "cell_type": "code",
   "execution_count": 4,
   "metadata": {},
   "outputs": [],
   "source": [
    "zip_fc = \"zip_boundaries\""
   ]
  },
  {
   "cell_type": "code",
   "execution_count": 27,
   "metadata": {},
   "outputs": [
    {
     "data": {
      "text/html": [
       "<div class='gpresult'><h2>Messages</h2><div id='messages' data-messages='[\"Start Time: Tuesday, January 3, 2023 9:25:35 PM\",\"Succeeded at Tuesday, January 3, 2023 9:25:36 PM (Elapsed Time: 0.52 seconds)\"]' data-show='true'><div id = 'default' /></div></div>"
      ],
      "text/plain": [
       "<Result '..\\\\data\\\\class_data.gdb\\\\zipbnd_q1'>"
      ]
     },
     "execution_count": 27,
     "metadata": {},
     "output_type": "execute_result"
    }
   ],
   "source": [
    "pop_query = \"\"\"\"POP2010\" > 10000\"\"\"\n",
    "zip_output = \"zip_q1_out\"\n",
    "arcpy.Select_analysis(zip_fc, zip_output, pop_query)\n",
    "\n",
    "print(\"{} zip codes selected.\".format(arcpy.GetCount_management(zip_output)))"
   ]
  },
  {
   "cell_type": "code",
   "execution_count": 28,
   "metadata": {},
   "outputs": [
    {
     "data": {
      "text/html": [
       "<div class='gpresult'><h2>Messages</h2><div id='messages' data-messages='[\"Start Time: Tuesday, January 3, 2023 9:25:37 PM\",\"Succeeded at Tuesday, January 3, 2023 9:25:38 PM (Elapsed Time: 0.52 seconds)\"]' data-show='true'><div id = 'default' /></div></div>"
      ],
      "text/plain": [
       "<Result '..\\\\data\\\\class_data.gdb\\\\zipbnd_q2'>"
      ]
     },
     "execution_count": 28,
     "metadata": {},
     "output_type": "execute_result"
    }
   ],
   "source": [
    "city_query = \"\\\"PO_NAME\\\" = \\'GAINESVILLE\\'\"\n",
    "zip_output = \"zip_q2_out\"\n",
    "arcpy.analysis.Select(zip_fc, zip_output, city_query)\n",
    "\n",
    "print(\"{} zip codes selected.\".format(arcpy.GetCount_management(zip_output)))"
   ]
  },
  {
   "cell_type": "code",
   "execution_count": 30,
   "metadata": {},
   "outputs": [
    {
     "data": {
      "text/html": [
       "<div class='gpresult'><h2>Messages</h2><div id='messages' data-messages='[\"Start Time: Tuesday, January 3, 2023 9:29:46 PM\",\"Succeeded at Tuesday, January 3, 2023 9:29:46 PM (Elapsed Time: 0.54 seconds)\"]' data-show='true'><div id = 'default' /></div></div>"
      ],
      "text/plain": [
       "<Result '..\\\\data\\\\class_data.gdb\\\\zipbnd_q2'>"
      ]
     },
     "execution_count": 30,
     "metadata": {},
     "output_type": "execute_result"
    }
   ],
   "source": [
    "comp_query = \"{} > {} AND {} = {}\".format('\"POP2010\"', 10000,\n",
    "                                          '\"PO_NAME\"', \"'GAINESVILLE'\")\n",
    "zip_output = \"zipbnd_q3_out\"\n",
    "arcpy.analysis.Select(zip_fc, zip_output, comp_query)\n",
    "\n",
    "print(\"{} zip codes selected.\".format(arcpy.GetCount_management(zip_output)))"
   ]
  },
  {
   "cell_type": "markdown",
   "metadata": {},
   "source": [
    "## 4. Select by Attributes\n",
    "\n",
    "[`arcpy.management.SelectLayerByAttribute()`](https://pro.arcgis.com/en/pro-app/latest/tool-reference/data-management/select-layer-by-attribute.htm)\n",
    "adds, updates, or removes a selection based on an attribute query."
   ]
  },
  {
   "cell_type": "code",
   "execution_count": 31,
   "metadata": {},
   "outputs": [],
   "source": [
    "zip_fc = \"zip_boundaries\"\n",
    "pop_query = \"\"\"\"POP2010\" > 10000\"\"\"\n",
    "zip_lyr = arcpy.management.SelectLayerByAttribute(zip_fc,\n",
    "                                                  \"NEW_SELECTION\",\n",
    "                                                  pop_query)\n",
    "print(\"{} records selected.\".format(arcpy.GetCount_management(zip_lyr)))"
   ]
  },
  {
   "cell_type": "markdown",
   "metadata": {},
   "source": [
    "```{admonition} Selection on layers\n",
    "\n",
    "**Select by attribute** and **Select by location** introduced later only\n",
    "\"temporarily\" select features from a specified feature class or layer,meaning\n",
    "they **DO NOT physically** save files on the hard disk.\n",
    "See [creating and using layer selections](https://pro.arcgis.com/en/pro-app/latest/tool-reference/data-management/creating-and-using-layer-selections.htm).\n",
    "\n",
    "It is a good idea to assign the output to **a variable**, just like the example\n",
    "above. Hence, we can reference that selection later in the script.\n",
    "```"
   ]
  },
  {
   "cell_type": "markdown",
   "metadata": {},
   "source": [
    "## 5. Select by Location\n",
    "\n",
    "[`arcpy.management.SelectLayerByLocation`](https://pro.arcgis.com/en/pro-app/latest/tool-reference/data-management/select-layer-by-location.htm)\n",
    "selects features based on a spatial relationship to features in another dataset.\n",
    "\n",
    "Each feature in the Input Features parameter is evaluated against the features\n",
    "in the Selecting Features parameter.\n",
    "If the specified Relationship parameter value is met, the input feature is selected.\n",
    "\n",
    "```{seealso}\n",
    "All [spatial relationships](https://pro.arcgis.com/en/pro-app/latest/tool-reference/data-management/select-by-location-graphical-examples.htm)\n",
    "supported by ArcGIS Pro.\n",
    "```"
   ]
  },
  {
   "cell_type": "code",
   "execution_count": 33,
   "metadata": {},
   "outputs": [],
   "source": [
    "blkgrp_fc = \"blockgroups\"\n",
    "cntbnd_fc = \"county_boundary\"\n",
    "blkgrp_lyr = arcpy.management.SelectLayerByLocation(\n",
    "    blkgrp_fc, \"WITHIN\", cntbnd_fc, \"\", \"\", \"\"\n",
    ")"
   ]
  },
  {
   "cell_type": "markdown",
   "source": [
    "Note the difference between the two print statements below.\n",
    "The first one prints the number of features in the feature class.\n",
    "The second, on the other hand, prints the number of records get selected\n",
    "in the layer which references that same feature class."
   ],
   "metadata": {
    "collapsed": false
   }
  },
  {
   "cell_type": "code",
   "execution_count": 34,
   "metadata": {},
   "outputs": [
    {
     "name": "stdout",
     "output_type": "stream",
     "text": [
      "178\n"
     ]
    }
   ],
   "source": [
    "print(\"{} features selected.\".format(\n",
    "    arcpy.management.GetCount(blkgrp_fc))\n",
    ")"
   ]
  },
  {
   "cell_type": "code",
   "execution_count": 35,
   "metadata": {},
   "outputs": [
    {
     "name": "stdout",
     "output_type": "stream",
     "text": [
      "142\n"
     ]
    }
   ],
   "source": [
    "print(\"{} records selected.\".format(\n",
    "    arcpy.management.GetCount(blkgrp_lyr))\n",
    ")"
   ]
  },
  {
   "cell_type": "markdown",
   "metadata": {},
   "source": [
    "## 5. Save Layer Selection to a Feature Class\n",
    "\n",
    "There are two options to save a \"temporary\" selection to an output layer.\n",
    "\n",
    "- `arcpy.conversion.FeatureClassToFeatureClass(<path>, <fc name>)`\n",
    "- `arcpy.management.CopyFeatures(<full path>)`\n",
    "\n",
    "It is critical to understand how to set output **path** and **name** in each\n",
    "of the method.\n",
    "\n",
    "If path not set, the output feature class will be stored in current workspace.\n",
    "\n",
    "To specify a path use one of the following methods:\n",
    "\n",
    "- use `\"\\\\\"` to concatenate path and name\n",
    "- use `os.path.join()` function\n",
    "- define the full path name altogether"
   ]
  },
  {
   "cell_type": "markdown",
   "metadata": {},
   "source": []
  },
  {
   "cell_type": "code",
   "execution_count": 38,
   "metadata": {},
   "outputs": [],
   "source": [
    "output_path = r\"..\\data\\output_data.gdb\"\n",
    "output_name = \"bg_within_cnt\""
   ]
  },
  {
   "cell_type": "code",
   "execution_count": 39,
   "metadata": {},
   "outputs": [
    {
     "data": {
      "text/html": [
       "<div class='gpresult'><h2>Messages</h2><div id='messages' data-messages='[\"Start Time: Tuesday, January 3, 2023 9:30:39 PM\",\"Succeeded at Tuesday, January 3, 2023 9:30:40 PM (Elapsed Time: 0.87 seconds)\"]' data-show='true'><div id = 'default' /></div></div>"
      ],
      "text/plain": [
       "<Result '..\\\\data\\\\class_data.gdb\\\\blockgroups_I75_2mi'>"
      ]
     },
     "execution_count": 39,
     "metadata": {},
     "output_type": "execute_result"
    }
   ],
   "source": [
    "result = arcpy.conversion.FeatureClassToFeatureClass(\n",
    "    blkgrp_lyr, output_path, output_name\n",
    ")\n",
    "print(\"{}\".format(result.getOutput(0)))"
   ]
  },
  {
   "cell_type": "code",
   "execution_count": 40,
   "metadata": {},
   "outputs": [
    {
     "data": {
      "text/html": [
       "<div class='gpresult'><h2>Messages</h2><div id='messages' data-messages='[\"Start Time: Tuesday, January 3, 2023 9:30:42 PM\",\"Succeeded at Tuesday, January 3, 2023 9:30:43 PM (Elapsed Time: 0.84 seconds)\"]' data-show='true'><div id = 'default' /></div></div>"
      ],
      "text/plain": [
       "<Result '..\\\\data\\\\class_data.gdb\\\\blockgroups_Layer5_CopyFeatures'>"
      ]
     },
     "execution_count": 40,
     "metadata": {},
     "output_type": "execute_result"
    }
   ],
   "source": [
    "# path not specified\n",
    "result = arcpy.management.CopyFeatures(blkgrp_lyr)\n",
    "print(\"{}\".format(result.getOutput(0)))"
   ]
  },
  {
   "cell_type": "markdown",
   "source": [
    "```{seealso}\n",
    "The `Result` object is used to see the output locations.\n",
    "To learn more about it, see [here](https://pro.arcgis.com/en/pro-app/latest/arcpy/classes/result.htm).\n",
    "```"
   ],
   "metadata": {
    "collapsed": false
   }
  },
  {
   "cell_type": "markdown",
   "source": [
    "The output feature class can be defined using the following ways.\n",
    "Note that they result in the same value."
   ],
   "metadata": {
    "collapsed": false
   }
  },
  {
   "cell_type": "code",
   "execution_count": 41,
   "metadata": {},
   "outputs": [
    {
     "data": {
      "text/plain": [
       "'..\\\\data\\\\class_data.gdb\\\\blockgroups_I75_2mi'"
      ]
     },
     "execution_count": 41,
     "metadata": {},
     "output_type": "execute_result"
    }
   ],
   "source": [
    "output_path + \"\\\\\" + output_name"
   ]
  },
  {
   "cell_type": "code",
   "execution_count": 42,
   "metadata": {},
   "outputs": [
    {
     "data": {
      "text/plain": [
       "'..\\\\data\\\\class_data.gdb\\\\blockgroups_I75_2mi'"
      ]
     },
     "execution_count": 42,
     "metadata": {},
     "output_type": "execute_result"
    }
   ],
   "source": [
    "import os\n",
    "output_name = os.path.join(output_path, output_name)\n",
    "output_name"
   ]
  },
  {
   "cell_type": "code",
   "execution_count": 43,
   "metadata": {},
   "outputs": [],
   "source": [
    "output_fc = r'..data\\class_data.gdb\\bg_within_cnt'\n",
    "output_fc"
   ]
  }
 ],
 "metadata": {
  "kernelspec": {
   "display_name": "Python 3",
   "language": "python",
   "name": "python3"
  },
  "language_info": {
   "codemirror_mode": {
    "name": "ipython",
    "version": 3
   },
   "file_extension": ".py",
   "mimetype": "text/x-python",
   "name": "python",
   "nbconvert_exporter": "python",
   "pygments_lexer": "ipython3",
   "version": "3.9.11"
  },
  "vscode": {
   "interpreter": {
    "hash": "ce21b655b4d6c9e397d5ad93d5666c623f49909f6d0cc2f72076dafcf1b3ecfb"
   }
  }
 },
 "nbformat": 4,
 "nbformat_minor": 2
}
