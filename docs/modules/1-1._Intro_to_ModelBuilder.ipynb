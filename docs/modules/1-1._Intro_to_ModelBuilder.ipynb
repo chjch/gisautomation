{
 "cells": [
  {
   "cell_type": "markdown",
   "metadata": {
    "pycharm": {
     "name": "#%% md\n"
    },
    "slideshow": {
     "slide_type": "slide"
    }
   },
   "source": [
    "# Introduction to ModelBuilder"
   ]
  },
  {
   "cell_type": "markdown",
   "metadata": {
    "pycharm": {
     "name": "#%% md\n"
    },
    "slideshow": {
     "slide_type": "subslide"
    }
   },
   "source": [
    "## Agenda\n",
    "\n",
    "- GIS database for this course\n",
    "- Sharing Python Notebooks via ArcGIS Online Group\n",
    "- A tour of ArcGIS Pro’s interface\n",
    "    - Maps and Scene,\n",
    "    - Contents and Catalog Pane\n",
    "    - Geoprocessing\n",
    "    - Tools and Toolboxes\n",
    "- Automation with ArcGIS ModelBuilder"
   ]
  },
  {
   "cell_type": "markdown",
   "metadata": {
    "collapsed": false,
    "pycharm": {
     "name": "#%% md\n"
    }
   },
   "source": [
    "## Problem 1"
   ]
  },
  {
   "cell_type": "markdown",
   "metadata": {
    "pycharm": {
     "name": "#%% md\n"
    }
   },
   "source": [
    "```{admonition} Question:\n",
    ":class: tip\n",
    "Find census blockgroups that have at least one school within 2 miles of I-75\n",
    "\n",
    "<details>\n",
    "  <summary><strong>Solution</strong></summary>\n",
    "\n",
    "  - Create a 2-mile buffer around I-75 (Buffer)\n",
    "  - Use this buffer to clip schools (Clip)\n",
    "  - Spatial Join the schools to blockgroups (Spatial Join)\n",
    "  - Select blockgroups that have at least one school (select by Location)\n",
    "  - Save the selected features as a separate layer (Copy Features)\n",
    "  \n",
    "</details>\n",
    "```"
   ]
  },
  {
   "cell_type": "markdown",
   "metadata": {
    "pycharm": {
     "name": "#%% md\n"
    },
    "slideshow": {
     "slide_type": "slide"
    }
   },
   "source": [
    "## Problem 2\n",
    "\n",
    "### Develop an index as a ratio of street length to the blockgroup area"
   ]
  },
  {
   "cell_type": "markdown",
   "metadata": {
    "pycharm": {
     "name": "#%% md\n"
    },
    "slideshow": {
     "slide_type": "subslide"
    }
   },
   "source": [
    "## Solution\n",
    "\n",
    "- Intersect roads by blockgroups (Intersect)\n",
    "- Spatial Join roads to blockgroups (Spatial Join)\n",
    "    - Choose to Sum the length of the roads during spatial join \n",
    "- Add and calculate a new field as the ratio of total road lengths by blockgroups area  (Calculate Field)"
   ]
  }
 ],
 "metadata": {
  "celltoolbar": "Slideshow",
  "jupytext": {
   "formats": "ipynb,md:myst"
  },
  "kernelspec": {
   "display_name": "arcgispro-py3",
   "language": "python",
   "name": "python3"
  },
  "language_info": {
   "codemirror_mode": {
    "name": "ipython",
    "version": 3
   },
   "file_extension": ".py",
   "mimetype": "text/x-python",
   "name": "python",
   "nbconvert_exporter": "python",
   "pygments_lexer": "ipython3",
   "version": "3.9.11 [MSC v.1931 64 bit (AMD64)]"
  },
  "vscode": {
   "interpreter": {
    "hash": "ce21b655b4d6c9e397d5ad93d5666c623f49909f6d0cc2f72076dafcf1b3ecfb"
   }
  }
 },
 "nbformat": 4,
 "nbformat_minor": 2
}
