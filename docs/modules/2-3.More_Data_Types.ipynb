{
 "cells": [
  {
   "cell_type": "markdown",
   "metadata": {
    "pycharm": {
     "name": "#%% md\n"
    }
   },
   "source": [
    "# More Python Data Types\n",
    "\n",
    "So far, we have seen some basic data types of Python, e.g., String (`str`), Integer (`int`), List (`list`), and Boolean (`True` and `False`).\n",
    "Now, we are going to take a look at some additional data types."
   ]
  },
  {
   "cell_type": "markdown",
   "metadata": {
    "pycharm": {
     "name": "#%% md\n"
    }
   },
   "source": [
    "## 1. Tuple\n",
    "\n",
    "**_Tuples_** are defined by **parentheses**, e.g., `()`.\n",
    "\n",
    "Tuples are used to store multiple items in a single variable.\n",
    "In other words, _tuple_ is another kind of **sequence**.\n",
    "So, you can perform indexing and slicing on tuples following the\n",
    "same way we discussed on _lists_ and _strings_."
   ]
  },
  {
   "cell_type": "code",
   "execution_count": 2,
   "metadata": {
    "pycharm": {
     "name": "#%%\n"
    }
   },
   "outputs": [],
   "source": [
    "t = (1, 2, 3)"
   ]
  },
  {
   "cell_type": "code",
   "execution_count": 4,
   "metadata": {
    "pycharm": {
     "name": "#%%\n"
    }
   },
   "outputs": [
    {
     "data": {
      "text/plain": [
       "1"
      ]
     },
     "execution_count": 4,
     "metadata": {},
     "output_type": "execute_result"
    }
   ],
   "source": [
    "t[0]"
   ]
  },
  {
   "cell_type": "markdown",
   "metadata": {
    "pycharm": {
     "name": "#%% md\n"
    }
   },
   "source": [
    "````{note}\n",
    "Tuple is **immutable**, meaning you can not change values of its elements after the tuple is defined.\n",
    "The following code will produce a `TypeError` as we try to modify\n",
    "an element of a tuple.\n",
    "```python\n",
    "t = (1, 2, 3)\n",
    "t[0] = 0\n",
    "```\n",
    "````"
   ]
  },
  {
   "cell_type": "markdown",
   "metadata": {
    "pycharm": {
     "name": "#%% md\n"
    }
   },
   "source": [
    "### 1.1 Tuple unpacking\n",
    "\n",
    "As the example above, when we create a _tuple_, we normally assign values to it.\n",
    "This is called **packing** a tuple.\n",
    "In Python, we are also allowed to extract the values back into variables.\n",
    "This is called tuple **_unpacking_** which allows us to define **multiple\n",
    "variables** in one line. "
   ]
  },
  {
   "cell_type": "code",
   "execution_count": 4,
   "metadata": {
    "pycharm": {
     "name": "#%%\n"
    }
   },
   "outputs": [],
   "source": [
    "a, b = (1, 2)"
   ]
  },
  {
   "cell_type": "code",
   "execution_count": 5,
   "metadata": {
    "pycharm": {
     "name": "#%%\n"
    }
   },
   "outputs": [
    {
     "name": "stdout",
     "output_type": "stream",
     "text": [
      "1\n",
      "2\n"
     ]
    }
   ],
   "source": [
    "print(a)\n",
    "print(b)"
   ]
  },
  {
   "cell_type": "markdown",
   "metadata": {
    "pycharm": {
     "name": "#%% md\n"
    }
   },
   "source": [
    "### 1.2 Conversion between tuple and list"
   ]
  },
  {
   "cell_type": "code",
   "execution_count": 1,
   "metadata": {
    "pycharm": {
     "name": "#%%\n"
    }
   },
   "outputs": [
    {
     "data": {
      "text/plain": [
       "['Gainesville', 'Orlando', 'Tampa']"
      ]
     },
     "execution_count": 1,
     "metadata": {},
     "output_type": "execute_result"
    }
   ],
   "source": [
    "fl_city_list = [\"Gainesville\", \"Orlando\", \"Tampa\"]\n",
    "fl_city_list"
   ]
  },
  {
   "cell_type": "code",
   "execution_count": 7,
   "metadata": {
    "pycharm": {
     "name": "#%%\n"
    }
   },
   "outputs": [
    {
     "data": {
      "text/plain": [
       "('Gainesville', 'Orlando', 'Tampa')"
      ]
     },
     "execution_count": 7,
     "metadata": {},
     "output_type": "execute_result"
    }
   ],
   "source": [
    "fl_city_tuple = tuple(fl_city_list)\n",
    "fl_city_tuple"
   ]
  },
  {
   "cell_type": "code",
   "execution_count": 8,
   "metadata": {
    "pycharm": {
     "name": "#%%\n"
    }
   },
   "outputs": [
    {
     "data": {
      "text/plain": [
       "['Gainesville', 'Orlando', 'Tampa']"
      ]
     },
     "execution_count": 8,
     "metadata": {},
     "output_type": "execute_result"
    }
   ],
   "source": [
    "list(fl_city_tuple) # convert back from tuple to list"
   ]
  },
  {
   "cell_type": "markdown",
   "metadata": {
    "pycharm": {
     "name": "#%% md\n"
    }
   },
   "source": [
    "Note that, if we want to add another element to the end of a list, we can use\n",
    "the function `append`."
   ]
  },
  {
   "cell_type": "code",
   "execution_count": 3,
   "metadata": {
    "pycharm": {
     "name": "#%%\n"
    }
   },
   "outputs": [
    {
     "data": {
      "text/plain": [
       "['Gainesville', 'Orlando', 'Tampa', 'Jacksonville', 'Jacksonville']"
      ]
     },
     "execution_count": 3,
     "metadata": {},
     "output_type": "execute_result"
    }
   ],
   "source": [
    "fl_city_list.append('Jacksonville')\n",
    "fl_city_list"
   ]
  },
  {
   "cell_type": "markdown",
   "metadata": {
    "pycharm": {
     "name": "#%% md\n"
    }
   },
   "source": [
    "However, since tuple is immutable, it doesn't have this capability to add an\n",
    "additional element either once it's defined."
   ]
  },
  {
   "cell_type": "markdown",
   "metadata": {
    "pycharm": {
     "name": "#%% md\n"
    }
   },
   "source": [
    "## 2. Set\n",
    "\n",
    "**_Sets_** are defined by **curly brackets**, e.g., `{}`.\n",
    "\n",
    "In Python, set is **uniquely** indexed. Thus, there's no duplicates in\n",
    "a set."
   ]
  },
  {
   "cell_type": "code",
   "execution_count": 7,
   "metadata": {
    "pycharm": {
     "name": "#%%\n"
    }
   },
   "outputs": [],
   "source": [
    "s = {1, 2, 3}"
   ]
  },
  {
   "cell_type": "markdown",
   "metadata": {
    "pycharm": {
     "name": "#%% md\n"
    }
   },
   "source": [
    "You can create a set with `set` constructor. "
   ]
  },
  {
   "cell_type": "code",
   "execution_count": null,
   "metadata": {
    "pycharm": {
     "name": "#%%\n"
    }
   },
   "outputs": [],
   "source": [
    "s = set((1, 2, 3))  # (1, 2, 3) is a tuple"
   ]
  },
  {
   "cell_type": "markdown",
   "metadata": {
    "pycharm": {
     "name": "#%% md\n"
    }
   },
   "source": [
    "Similar to _list_, we can mix multiple data types in a _set_."
   ]
  },
  {
   "cell_type": "code",
   "execution_count": 9,
   "metadata": {
    "pycharm": {
     "name": "#%%\n"
    }
   },
   "outputs": [],
   "source": [
    "mixed_set = {'URP', 6271, True}"
   ]
  },
  {
   "cell_type": "markdown",
   "metadata": {
    "pycharm": {
     "name": "#%% md\n"
    }
   },
   "source": [
    "````{warning}\n",
    "Since _set_ is **unordered**, unlike other \"collections\" of Python,\n",
    "e.g., _list_, _string_, _tuple_, set is **not subscripable**, meaning we can't\n",
    "perform indexing and slicing on it.\n",
    "The following codes will produce an `TypeError`, as we attempt to grab the\n",
    "first element of the set.\n",
    "```python\n",
    "s = {1, 2, 3}\n",
    "s[0]\n",
    "```\n",
    "````"
   ]
  },
  {
   "cell_type": "code",
   "execution_count": 2,
   "metadata": {
    "pycharm": {
     "name": "#%%\n"
    }
   },
   "outputs": [
    {
     "name": "stdout",
     "output_type": "stream",
     "text": [
      "['Gainesville', 'Orlando', 'Tampa', 'Gainesville']\n",
      "['Gainesville', 'Orlando', 'Tampa', 'Gainesville', 'Tampa']\n",
      "['Gainesville', 'Orlando', 'Tampa', 'Gainesville', 'Tampa', 'Fort Myers']\n",
      "['Gainesville', 'Orlando', 'Tampa', 'Gainesville', 'Tampa', 'Fort Myers', 'St. Augustine']\n",
      "['Gainesville', 'Orlando', 'Tampa', 'Gainesville', 'Tampa', 'Fort Myers', 'St. Augustine', 'Orlando']\n"
     ]
    }
   ],
   "source": [
    "more_cities = ['Gainesville', 'Tampa', 'Fort Myers', \n",
    "               'St. Augustine', 'Orlando']\n",
    "\n",
    "for fl_city in more_cities:\n",
    "    fl_city_list.append(fl_city)\n",
    "    print(fl_city_list)"
   ]
  },
  {
   "cell_type": "code",
   "execution_count": 14,
   "metadata": {
    "pycharm": {
     "name": "#%%\n"
    }
   },
   "outputs": [
    {
     "data": {
      "text/plain": [
       "{'Boca Raton', 'Miami', 'Orlando', 'Gainesville', 'Jacksonville', 'Tampa'}"
      ]
     },
     "execution_count": 14,
     "metadata": {},
     "output_type": "execute_result"
    }
   ],
   "source": [
    "set(fl_city_list)"
   ]
  },
  {
   "cell_type": "code",
   "execution_count": 16,
   "metadata": {
    "pycharm": {
     "name": "#%%\n"
    }
   },
   "outputs": [
    {
     "name": "stdout",
     "output_type": "stream",
     "text": [
      "I like Boca Raton\n",
      "I like Miami\n",
      "I like Orlando\n",
      "I like Gainesville\n",
      "I like Jacksonville\n",
      "I like Tampa\n"
     ]
    }
   ],
   "source": [
    "for city in set(fl_city_list):\n",
    "    print('I like ' + city)"
   ]
  },
  {
   "cell_type": "markdown",
   "metadata": {
    "pycharm": {
     "name": "#%% md\n"
    }
   },
   "source": [
    "## 3. Dictionary\n",
    "\n",
    "Consists of a collection of `{<key>: <value>}` pairs wrapped around by curly brackets."
   ]
  },
  {
   "cell_type": "code",
   "execution_count": null,
   "metadata": {
    "pycharm": {
     "name": "#%%\n"
    }
   },
   "outputs": [],
   "source": [
    "my_dict = {'institution': 'University of Florida',\n",
    "           'college': 'Design, Construction, and Planning',\n",
    "           'enrollment year': 2023, \n",
    "           'graduate': True}\n",
    "my_dict"
   ]
  },
  {
   "cell_type": "markdown",
   "metadata": {
    "pycharm": {
     "name": "#%% md\n"
    }
   },
   "source": [
    "### 3.1 Indexing on Dictionary\n",
    "\n",
    "You can access a dictionary's value(s) by its corresponding key(s)."
   ]
  },
  {
   "cell_type": "code",
   "execution_count": null,
   "metadata": {
    "pycharm": {
     "name": "#%%\n"
    }
   },
   "outputs": [],
   "source": [
    "print(my_dict['college'])"
   ]
  },
  {
   "cell_type": "markdown",
   "metadata": {
    "pycharm": {
     "name": "#%% md\n"
    }
   },
   "source": [
    "```{warning}\n",
    "For dictionaries, you cannot use positional index.\n",
    "```"
   ]
  },
  {
   "cell_type": "code",
   "execution_count": null,
   "metadata": {
    "pycharm": {
     "name": "#%%\n"
    }
   },
   "outputs": [],
   "source": [
    "my_dict[0]"
   ]
  },
  {
   "cell_type": "markdown",
   "metadata": {
    "pycharm": {
     "name": "#%% md\n"
    }
   },
   "source": [
    "### 3.2 Keys and values\n",
    "\n",
    "The `keys()` and `values()` functions return an iterable of all keys and values.\n",
    "Therefore, you can iterate over them using a `for` loop."
   ]
  },
  {
   "cell_type": "code",
   "execution_count": null,
   "metadata": {
    "pycharm": {
     "name": "#%%\n"
    }
   },
   "outputs": [],
   "source": [
    "my_dict.keys()"
   ]
  },
  {
   "cell_type": "code",
   "execution_count": null,
   "metadata": {
    "pycharm": {
     "name": "#%%\n"
    }
   },
   "outputs": [],
   "source": [
    "my_dict.values()"
   ]
  },
  {
   "cell_type": "code",
   "execution_count": null,
   "metadata": {
    "pycharm": {
     "name": "#%%\n"
    }
   },
   "outputs": [],
   "source": [
    "for key in my_dict.keys():\n",
    "    print(my_dict[key])"
   ]
  },
  {
   "cell_type": "markdown",
   "metadata": {
    "pycharm": {
     "name": "#%% md\n"
    }
   },
   "source": [
    "The `items()` return a tuple of `(<key>, <value>)` pair.\n",
    "We can use tuple unpacking technique to assign values to two variables at the same time."
   ]
  },
  {
   "cell_type": "code",
   "execution_count": null,
   "metadata": {
    "pycharm": {
     "name": "#%%\n"
    }
   },
   "outputs": [],
   "source": [
    "for key, value in my_dict.items():\n",
    "    print('the value of ' + key + 'is ' + value)  # what's wrong here"
   ]
  },
  {
   "cell_type": "markdown",
   "metadata": {
    "pycharm": {
     "name": "#%% md\n"
    }
   },
   "source": [
    "### 3.3 Dictionary with values of list\n",
    "\n",
    "Note how we can access elements of individual lists."
   ]
  },
  {
   "cell_type": "code",
   "execution_count": null,
   "metadata": {
    "pycharm": {
     "name": "#%%\n"
    }
   },
   "outputs": [],
   "source": [
    "city_dict = {\"FL\": [\"Gainesville\", \"Orlando\", \"Tampa\"],\n",
    "             \"CA\": [\"San Francisco\", \"Los Angeles\"], \n",
    "             \"TA\": [\"Houston\", \"San Antonio\"]}"
   ]
  },
  {
   "cell_type": "code",
   "execution_count": null,
   "metadata": {
    "pycharm": {
     "name": "#%%\n"
    }
   },
   "outputs": [],
   "source": [
    "city_dict['FL'][0]"
   ]
  },
  {
   "cell_type": "markdown",
   "metadata": {
    "pycharm": {
     "name": "#%% md\n"
    }
   },
   "source": [
    "## 4. String `format()` function\n",
    "\n",
    "The `format()` function is capable of handling complex string formatting more efficiently.\n",
    "Sometimes we want to make **generalized print statements or string definitions**\n",
    "in that case instead of writing it differently every time we use the concept of **formatting**."
   ]
  },
  {
   "cell_type": "code",
   "execution_count": 4,
   "metadata": {},
   "outputs": [
    {
     "name": "stdout",
     "output_type": "stream",
     "text": [
      "I'm from the College of Design, Construction, and Planning at the University of Florida.\n"
     ]
    }
   ],
   "source": [
    "print(\"I'm from the College of {} at the {}.\".format(my_dict[\"college\"],\n",
    "                                                     my_dict[\"institution\"]))"
   ]
  },
  {
   "cell_type": "code",
   "execution_count": 26,
   "metadata": {
    "pycharm": {
     "name": "#%%\n"
    }
   },
   "outputs": [
    {
     "name": "stdout",
     "output_type": "stream",
     "text": [
      "the value of institution is University of Florida\n",
      "the value of college is Design, Construction, and Planning\n",
      "the value of enrollment year is 2022\n",
      "the value of graduate is True\n"
     ]
    }
   ],
   "source": [
    "for key, value in my_dict.items():\n",
    "    print('the value of {} is {}'.format(key, value)) # what is the problem and how to fix it"
   ]
  },
  {
   "cell_type": "code",
   "execution_count": 27,
   "metadata": {
    "pycharm": {
     "name": "#%%\n"
    }
   },
   "outputs": [
    {
     "name": "stdout",
     "output_type": "stream",
     "text": [
      "the value of INSTITUTION is University of Florida\n",
      "the value of COLLEGE is Design, Construction, and Planning\n",
      "the value of ENROLLMENT YEAR is 2022\n",
      "the value of GRADUATE is True\n"
     ]
    }
   ],
   "source": [
    "for key, value in my_dict.items():\n",
    "    print('the value of {} is {}'.format(key.upper(), value)) # what is the problem and how to fix it"
   ]
  },
  {
   "cell_type": "markdown",
   "metadata": {
    "pycharm": {
     "name": "#%% md\n"
    }
   },
   "source": [
    "## 5. List comprehension \n",
    "\n",
    "List comprehension offers a **shorter syntax** when you want to create\n",
    "a new list based on the values of an existing list.\n",
    "You can also use it to very neatly iterate through a list."
   ]
  },
  {
   "cell_type": "code",
   "execution_count": 28,
   "metadata": {
    "pycharm": {
     "name": "#%%\n"
    }
   },
   "outputs": [
    {
     "name": "stdout",
     "output_type": "stream",
     "text": [
      "Gainesville\n",
      "Orlando\n",
      "Tampa\n",
      "Jacksonville\n",
      "Miami\n",
      "Orlando\n",
      "Boca Raton\n",
      "Tampa\n"
     ]
    },
    {
     "data": {
      "text/plain": [
       "[None, None, None, None, None, None, None, None]"
      ]
     },
     "execution_count": 28,
     "metadata": {},
     "output_type": "execute_result"
    }
   ],
   "source": [
    "[print(city) for city in fl_city_list]"
   ]
  },
  {
   "cell_type": "code",
   "execution_count": 29,
   "metadata": {
    "pycharm": {
     "name": "#%%\n"
    }
   },
   "outputs": [],
   "source": [
    "x = [1, 2, 3, 4]"
   ]
  },
  {
   "cell_type": "code",
   "execution_count": 30,
   "metadata": {
    "pycharm": {
     "name": "#%%\n"
    }
   },
   "outputs": [
    {
     "name": "stdout",
     "output_type": "stream",
     "text": [
      "[1, 4, 9, 16]\n"
     ]
    }
   ],
   "source": [
    "out = []\n",
    "for item in x:\n",
    "    out.append(item**2)\n",
    "print(out)"
   ]
  },
  {
   "cell_type": "code",
   "execution_count": 31,
   "metadata": {
    "pycharm": {
     "name": "#%%\n"
    }
   },
   "outputs": [
    {
     "data": {
      "text/plain": [
       "[1, 4, 9, 16]"
      ]
     },
     "execution_count": 31,
     "metadata": {},
     "output_type": "execute_result"
    }
   ],
   "source": [
    "[item**2 for item in x]"
   ]
  }
 ],
 "metadata": {
  "kernelspec": {
   "display_name": "Python 3",
   "language": "python",
   "name": "python3"
  },
  "language_info": {
   "codemirror_mode": {
    "name": "ipython",
    "version": 3
   },
   "file_extension": ".py",
   "mimetype": "text/x-python",
   "name": "python",
   "nbconvert_exporter": "python",
   "pygments_lexer": "ipython3",
   "version": "3.9.11"
  },
  "vscode": {
   "interpreter": {
    "hash": "4512e868ce03776b2acb55696d863bcca535b363b5450b1af05055989d5d969c"
   }
  }
 },
 "nbformat": 4,
 "nbformat_minor": 2
}