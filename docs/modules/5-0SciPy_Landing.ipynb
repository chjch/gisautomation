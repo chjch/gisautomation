{
 "cells": [
  {
   "attachments": {},
   "cell_type": "markdown",
   "metadata": {},
   "source": [
    "# Introduction to the Scientific Python Ecosystem\n"
   ]
  },
  {
   "attachments": {},
   "cell_type": "markdown",
   "metadata": {},
   "source": [
    "## Learning Objectives\n",
    "\n",
    "Upon completion of this module, you should be able to:\n",
    "\n",
    "- Getting to know the three most popular Python packages used in data science\n",
    "- Apply highly productive functions from these packages in the context of ArcGIS\n",
    "- Convert feature classes into Numpy structured arrays\n",
    "- Calculate statistics and run query against arrays\n",
    "- Understand the structure of pandas Series and DataFrame\n",
    "- Select DataFrame records based on single or multiple conditions\n",
    "- Use Matplotlib to create simple plots to better understand attribute data"
   ]
  },
  {
   "attachments": {},
   "cell_type": "markdown",
   "metadata": {},
   "source": [
    "## Learning Steps\n",
    "\n",
    "- Work on Homework #5 Assignment\n",
    "- Submit Assignment by Date"
   ]
  }
 ],
 "metadata": {
  "kernelspec": {
   "display_name": "arcgispro-py3",
   "language": "python",
   "name": "python3"
  },
  "language_info": {
   "name": "python",
   "version": "3.9.11 [MSC v.1931 64 bit (AMD64)]"
  },
  "orig_nbformat": 4,
  "vscode": {
   "interpreter": {
    "hash": "ce21b655b4d6c9e397d5ad93d5666c623f49909f6d0cc2f72076dafcf1b3ecfb"
   }
  }
 },
 "nbformat": 4,
 "nbformat_minor": 2
}
