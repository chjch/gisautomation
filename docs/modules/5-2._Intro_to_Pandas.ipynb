{
 "cells": [
  {
   "attachments": {},
   "cell_type": "markdown",
   "metadata": {},
   "source": [
    "# 5-2: Using Pandas for ArcGIS\n",
    "\n",
    "- pandas is built on top of NumPy\n",
    "- the \"_excel sheet_\" of Python\n",
    "- fast data analysis that improves your productivity\n",
    "\n",
    "**Helpful resource on pandas:**\n",
    "- [pandas official website - Getting started](https://pandas.pydata.org/docs/getting_started/index.html)\n",
    "- [pandas playlist from Corey Schafer](https://www.youtube.com/playlist?list=PL-osiE80TeTsWmV9i9c58mdDCSskIFdDS)"
   ]
  },
  {
   "cell_type": "markdown",
   "metadata": {},
   "source": [
    "## 1. Import the pandas package"
   ]
  },
  {
   "cell_type": "code",
   "execution_count": 1,
   "metadata": {},
   "outputs": [],
   "source": [
    "import numpy as np\n",
    "import pandas as pd # this is also a convention "
   ]
  },
  {
   "cell_type": "markdown",
   "metadata": {},
   "source": [
    "## 2. Series object\n",
    "\n",
    "[Series](https://pandas.pydata.org/docs/reference/api/pandas.Series.html) is the fundamental data structure of the pandas package.\n",
    "\n",
    "A `pandas.Series` object is an 1-dimensional ndarray.\n",
    "\n",
    "The key difference comparing with a numpy array is that Series have **indexed labels**.\n",
    "\n",
    "### 2.1 Create a pandas Series"
   ]
  },
  {
   "cell_type": "code",
   "execution_count": 2,
   "metadata": {},
   "outputs": [
    {
     "data": {
      "text/plain": [
       "[0, 1, 2, 3, 4, 5, 6, 7, 8, 9]"
      ]
     },
     "execution_count": 2,
     "metadata": {},
     "output_type": "execute_result"
    }
   ],
   "source": [
    "my_list = list(range(10))\n",
    "my_list"
   ]
  },
  {
   "cell_type": "code",
   "execution_count": 3,
   "metadata": {},
   "outputs": [
    {
     "data": {
      "text/plain": [
       "0    0\n",
       "1    1\n",
       "2    2\n",
       "3    3\n",
       "4    4\n",
       "5    5\n",
       "6    6\n",
       "7    7\n",
       "8    8\n",
       "9    9\n",
       "dtype: int64"
      ]
     },
     "execution_count": 3,
     "metadata": {},
     "output_type": "execute_result"
    }
   ],
   "source": [
    "pd.Series(my_list) # note that the S in Series is upper case"
   ]
  },
  {
   "cell_type": "code",
   "execution_count": 4,
   "metadata": {},
   "outputs": [
    {
     "data": {
      "text/plain": [
       "'abcdefghij'"
      ]
     },
     "execution_count": 4,
     "metadata": {},
     "output_type": "execute_result"
    }
   ],
   "source": [
    "import string\n",
    "string.ascii_lowercase[:10]"
   ]
  },
  {
   "cell_type": "code",
   "execution_count": 5,
   "metadata": {},
   "outputs": [
    {
     "data": {
      "text/plain": [
       "['a', 'b', 'c', 'd', 'e', 'f', 'g', 'h', 'i', 'j']"
      ]
     },
     "execution_count": 5,
     "metadata": {},
     "output_type": "execute_result"
    }
   ],
   "source": [
    "labels = list(string.ascii_lowercase[:10])\n",
    "labels"
   ]
  },
  {
   "cell_type": "markdown",
   "metadata": {},
   "source": [
    "### 2.2 Series with label index\n",
    "\n",
    "Check the documentation for arguments"
   ]
  },
  {
   "cell_type": "code",
   "execution_count": 6,
   "metadata": {},
   "outputs": [
    {
     "data": {
      "text/plain": [
       "a    0\n",
       "b    1\n",
       "c    2\n",
       "d    3\n",
       "e    4\n",
       "f    5\n",
       "g    6\n",
       "h    7\n",
       "i    8\n",
       "j    9\n",
       "dtype: int64"
      ]
     },
     "execution_count": 6,
     "metadata": {},
     "output_type": "execute_result"
    }
   ],
   "source": [
    "pd.Series(data=my_list, index=labels)  # named argument or keyword argument"
   ]
  },
  {
   "cell_type": "code",
   "execution_count": 7,
   "metadata": {
    "scrolled": true
   },
   "outputs": [
    {
     "data": {
      "text/plain": [
       "a    0\n",
       "b    1\n",
       "c    2\n",
       "d    3\n",
       "e    4\n",
       "f    5\n",
       "g    6\n",
       "h    7\n",
       "i    8\n",
       "j    9\n",
       "dtype: int64"
      ]
     },
     "execution_count": 7,
     "metadata": {},
     "output_type": "execute_result"
    }
   ],
   "source": [
    "pd.Series(my_list, labels)  # positional argument"
   ]
  },
  {
   "cell_type": "code",
   "execution_count": 8,
   "metadata": {},
   "outputs": [],
   "source": [
    "my_sr = pd.Series(my_list, labels)"
   ]
  },
  {
   "cell_type": "markdown",
   "metadata": {},
   "source": [
    "### 2.3 indexing and slicing for Series\n",
    "\n",
    "- indexing by label\n",
    "- indexing by location"
   ]
  },
  {
   "cell_type": "code",
   "execution_count": 9,
   "metadata": {},
   "outputs": [
    {
     "data": {
      "text/plain": [
       "2"
      ]
     },
     "execution_count": 9,
     "metadata": {},
     "output_type": "execute_result"
    }
   ],
   "source": [
    "my_sr['c']   # indexing by label"
   ]
  },
  {
   "cell_type": "code",
   "execution_count": 10,
   "metadata": {
    "hide_input": false,
    "scrolled": true
   },
   "outputs": [
    {
     "data": {
      "text/plain": [
       "2"
      ]
     },
     "execution_count": 10,
     "metadata": {},
     "output_type": "execute_result"
    }
   ],
   "source": [
    "my_sr[2]   # indexing by position"
   ]
  },
  {
   "cell_type": "code",
   "execution_count": 11,
   "metadata": {},
   "outputs": [
    {
     "data": {
      "text/plain": [
       "c    2\n",
       "d    3\n",
       "e    4\n",
       "f    5\n",
       "g    6\n",
       "h    7\n",
       "dtype: int64"
      ]
     },
     "execution_count": 11,
     "metadata": {},
     "output_type": "execute_result"
    }
   ],
   "source": [
    "my_sr[2:8]"
   ]
  },
  {
   "cell_type": "code",
   "execution_count": 12,
   "metadata": {
    "hide_input": false
   },
   "outputs": [
    {
     "data": {
      "text/html": [
       "<style>\n",
       "table {float:left}\n",
       "</style>\n"
      ],
      "text/plain": [
       "<IPython.core.display.HTML object>"
      ]
     },
     "metadata": {},
     "output_type": "display_data"
    }
   ],
   "source": [
    "%%html\n",
    "<style>\n",
    "table {float:left}\n",
    "</style>"
   ]
  },
  {
   "cell_type": "markdown",
   "metadata": {
    "hide_input": true
   },
   "source": [
    "### 2.4 Operations on Series\n",
    "\n",
    "> 📝 Pandas perform operations based on labels (indicies)\n",
    "\n",
    "<font color='steelblue'>**Top 3 U.S. State by Population**</font>\n",
    "\n",
    "State|Population\n",
    "--|----------\n",
    "CA|39512223\n",
    "TA|28995881\n",
    "FL|21477737"
   ]
  },
  {
   "cell_type": "markdown",
   "metadata": {},
   "source": [
    "<font color='steelblue'>**Top 3 U.S. State by Area**</font>\n",
    "\n",
    "State|Area(sq mi)\n",
    "--|----------\n",
    "AL|665384\n",
    "TA|268596\t\n",
    "CA|163694"
   ]
  },
  {
   "cell_type": "code",
   "execution_count": 13,
   "metadata": {},
   "outputs": [
    {
     "data": {
      "text/plain": [
       "['CA', 'TA', 'FL']"
      ]
     },
     "execution_count": 13,
     "metadata": {},
     "output_type": "execute_result"
    }
   ],
   "source": [
    "\"CA TA FL\".split(\" \")  # use split() function of string to split on space "
   ]
  },
  {
   "cell_type": "code",
   "execution_count": 14,
   "metadata": {},
   "outputs": [
    {
     "data": {
      "text/plain": [
       "['CA', 'TA', 'FL']"
      ]
     },
     "execution_count": 14,
     "metadata": {},
     "output_type": "execute_result"
    }
   ],
   "source": [
    "\"CA TA FL\".split() # split() acts on space by default"
   ]
  },
  {
   "cell_type": "code",
   "execution_count": 15,
   "metadata": {},
   "outputs": [
    {
     "data": {
      "text/plain": [
       "CA    39512223\n",
       "TA    28995881\n",
       "FL    21477737\n",
       "dtype: int64"
      ]
     },
     "execution_count": 15,
     "metadata": {},
     "output_type": "execute_result"
    }
   ],
   "source": [
    "sr1 = pd.Series(data=[39512223, 28995881, 21477737],\n",
    "                index=\"CA TA FL\".split())\n",
    "sr1"
   ]
  },
  {
   "cell_type": "code",
   "execution_count": 16,
   "metadata": {},
   "outputs": [
    {
     "data": {
      "text/plain": [
       "CA    39.51\n",
       "TA    29.00\n",
       "FL    21.48\n",
       "dtype: float64"
      ]
     },
     "execution_count": 16,
     "metadata": {},
     "output_type": "execute_result"
    }
   ],
   "source": [
    "round(sr1 / 1000000, 2)"
   ]
  },
  {
   "cell_type": "code",
   "execution_count": 17,
   "metadata": {
    "scrolled": true
   },
   "outputs": [
    {
     "data": {
      "text/plain": [
       "['AL', 'TA', 'CA']"
      ]
     },
     "execution_count": 17,
     "metadata": {},
     "output_type": "execute_result"
    }
   ],
   "source": [
    "\"AL,TA,CA\".split(\",\")"
   ]
  },
  {
   "cell_type": "code",
   "execution_count": 18,
   "metadata": {},
   "outputs": [
    {
     "data": {
      "text/plain": [
       "AL    665384\n",
       "TA    268596\n",
       "CA    163694\n",
       "dtype: int64"
      ]
     },
     "execution_count": 18,
     "metadata": {},
     "output_type": "execute_result"
    }
   ],
   "source": [
    "sr2 = pd.Series([665384, 268596, 163694], \"AL,TA,CA\".split(\",\"))\n",
    "sr2"
   ]
  },
  {
   "cell_type": "code",
   "execution_count": 19,
   "metadata": {},
   "outputs": [
    {
     "data": {
      "text/plain": [
       "AL           NaN\n",
       "CA    241.378566\n",
       "FL           NaN\n",
       "TA    107.953510\n",
       "dtype: float64"
      ]
     },
     "execution_count": 19,
     "metadata": {},
     "output_type": "execute_result"
    }
   ],
   "source": [
    "sr1 / sr2"
   ]
  },
  {
   "cell_type": "markdown",
   "metadata": {},
   "source": [
    "## 3. DataFrame object\n",
    "\n",
    "[DataFrame](https://pandas.pydata.org/docs/reference/api/pandas.DataFrame.html): **Two-dimensional** (rows & columns), size-mutable, potentially heterogeneous tabular data.\n",
    "\n",
    "`DataFrame` consists of one or more `Series` that shares the same labels (indicies).\n",
    "\n",
    "It is the **DataFrame** structure makes pandas a powerful tool for scientific data analysis.\n",
    "\n",
    "### 3.1 Create DataFrame from Series"
   ]
  },
  {
   "cell_type": "code",
   "execution_count": 20,
   "metadata": {},
   "outputs": [
    {
     "data": {
      "text/html": [
       "<div>\n",
       "<style scoped>\n",
       "    .dataframe tbody tr th:only-of-type {\n",
       "        vertical-align: middle;\n",
       "    }\n",
       "\n",
       "    .dataframe tbody tr th {\n",
       "        vertical-align: top;\n",
       "    }\n",
       "\n",
       "    .dataframe thead th {\n",
       "        text-align: right;\n",
       "    }\n",
       "</style>\n",
       "<table border=\"1\" class=\"dataframe\">\n",
       "  <thead>\n",
       "    <tr style=\"text-align: right;\">\n",
       "      <th></th>\n",
       "      <th>population</th>\n",
       "    </tr>\n",
       "  </thead>\n",
       "  <tbody>\n",
       "    <tr>\n",
       "      <th>CA</th>\n",
       "      <td>39512223</td>\n",
       "    </tr>\n",
       "    <tr>\n",
       "      <th>TA</th>\n",
       "      <td>28995881</td>\n",
       "    </tr>\n",
       "    <tr>\n",
       "      <th>FL</th>\n",
       "      <td>21477737</td>\n",
       "    </tr>\n",
       "  </tbody>\n",
       "</table>\n",
       "</div>"
      ],
      "text/plain": [
       "    population\n",
       "CA    39512223\n",
       "TA    28995881\n",
       "FL    21477737"
      ]
     },
     "execution_count": 20,
     "metadata": {},
     "output_type": "execute_result"
    }
   ],
   "source": [
    "pd.DataFrame(sr1, columns=['population']) # note that the column names must be supplied as a list"
   ]
  },
  {
   "cell_type": "markdown",
   "metadata": {},
   "source": [
    "`concat` function: series are supplied as **a list**"
   ]
  },
  {
   "cell_type": "code",
   "execution_count": 21,
   "metadata": {},
   "outputs": [
    {
     "data": {
      "text/html": [
       "<div>\n",
       "<style scoped>\n",
       "    .dataframe tbody tr th:only-of-type {\n",
       "        vertical-align: middle;\n",
       "    }\n",
       "\n",
       "    .dataframe tbody tr th {\n",
       "        vertical-align: top;\n",
       "    }\n",
       "\n",
       "    .dataframe thead th {\n",
       "        text-align: right;\n",
       "    }\n",
       "</style>\n",
       "<table border=\"1\" class=\"dataframe\">\n",
       "  <thead>\n",
       "    <tr style=\"text-align: right;\">\n",
       "      <th></th>\n",
       "      <th>0</th>\n",
       "      <th>1</th>\n",
       "    </tr>\n",
       "  </thead>\n",
       "  <tbody>\n",
       "    <tr>\n",
       "      <th>CA</th>\n",
       "      <td>39512223.0</td>\n",
       "      <td>163694.0</td>\n",
       "    </tr>\n",
       "    <tr>\n",
       "      <th>TA</th>\n",
       "      <td>28995881.0</td>\n",
       "      <td>268596.0</td>\n",
       "    </tr>\n",
       "    <tr>\n",
       "      <th>FL</th>\n",
       "      <td>21477737.0</td>\n",
       "      <td>NaN</td>\n",
       "    </tr>\n",
       "    <tr>\n",
       "      <th>AL</th>\n",
       "      <td>NaN</td>\n",
       "      <td>665384.0</td>\n",
       "    </tr>\n",
       "  </tbody>\n",
       "</table>\n",
       "</div>"
      ],
      "text/plain": [
       "             0         1\n",
       "CA  39512223.0  163694.0\n",
       "TA  28995881.0  268596.0\n",
       "FL  21477737.0       NaN\n",
       "AL         NaN  665384.0"
      ]
     },
     "execution_count": 21,
     "metadata": {},
     "output_type": "execute_result"
    }
   ],
   "source": [
    "pd.concat([sr1, sr2], axis=1) # axis=1 means on columns"
   ]
  },
  {
   "cell_type": "code",
   "execution_count": 22,
   "metadata": {},
   "outputs": [
    {
     "data": {
      "text/plain": [
       "CA    39512223\n",
       "TA    28995881\n",
       "FL    21477737\n",
       "AL      665384\n",
       "TA      268596\n",
       "CA      163694\n",
       "dtype: int64"
      ]
     },
     "execution_count": 22,
     "metadata": {},
     "output_type": "execute_result"
    }
   ],
   "source": [
    "pd.concat([sr1, sr2]) # by default, axis=0, meaning on rows"
   ]
  },
  {
   "cell_type": "markdown",
   "metadata": {},
   "source": [
    "`concat` function: series are supplied as **a dictionary**"
   ]
  },
  {
   "cell_type": "code",
   "execution_count": 23,
   "metadata": {},
   "outputs": [
    {
     "data": {
      "text/html": [
       "<div>\n",
       "<style scoped>\n",
       "    .dataframe tbody tr th:only-of-type {\n",
       "        vertical-align: middle;\n",
       "    }\n",
       "\n",
       "    .dataframe tbody tr th {\n",
       "        vertical-align: top;\n",
       "    }\n",
       "\n",
       "    .dataframe thead th {\n",
       "        text-align: right;\n",
       "    }\n",
       "</style>\n",
       "<table border=\"1\" class=\"dataframe\">\n",
       "  <thead>\n",
       "    <tr style=\"text-align: right;\">\n",
       "      <th></th>\n",
       "      <th>population</th>\n",
       "      <th>area (sq mi)</th>\n",
       "    </tr>\n",
       "  </thead>\n",
       "  <tbody>\n",
       "    <tr>\n",
       "      <th>CA</th>\n",
       "      <td>39512223.0</td>\n",
       "      <td>163694.0</td>\n",
       "    </tr>\n",
       "    <tr>\n",
       "      <th>TA</th>\n",
       "      <td>28995881.0</td>\n",
       "      <td>268596.0</td>\n",
       "    </tr>\n",
       "    <tr>\n",
       "      <th>FL</th>\n",
       "      <td>21477737.0</td>\n",
       "      <td>NaN</td>\n",
       "    </tr>\n",
       "    <tr>\n",
       "      <th>AL</th>\n",
       "      <td>NaN</td>\n",
       "      <td>665384.0</td>\n",
       "    </tr>\n",
       "  </tbody>\n",
       "</table>\n",
       "</div>"
      ],
      "text/plain": [
       "    population  area (sq mi)\n",
       "CA  39512223.0      163694.0\n",
       "TA  28995881.0      268596.0\n",
       "FL  21477737.0           NaN\n",
       "AL         NaN      665384.0"
      ]
     },
     "execution_count": 23,
     "metadata": {},
     "output_type": "execute_result"
    }
   ],
   "source": [
    "pd.concat({'population': sr1, 'area (sq mi)': sr2}, axis=1)"
   ]
  },
  {
   "cell_type": "markdown",
   "metadata": {},
   "source": [
    "### 3.2 Convert numpy Structured Array to pandas DataFrame\n",
    "\n",
    "Recall how we convert a feature class to a **structured ndarray**"
   ]
  },
  {
   "cell_type": "code",
   "execution_count": 24,
   "metadata": {},
   "outputs": [],
   "source": [
    "import arcpy\n",
    "\n",
    "gdb_worksp = r\"D:\\Dropbox (UFL)\\URP6271\\urp6271_spring2022\\class_data.gdb\"\n",
    "arcpy.env.workspace = gdb_worksp\n",
    "school_fc = \"schools\"\n",
    "\n",
    "school_arr = arcpy.da.FeatureClassToNumPyArray(school_fc, '*') # use '*' to get all fields"
   ]
  },
  {
   "cell_type": "code",
   "execution_count": 25,
   "metadata": {},
   "outputs": [
    {
     "data": {
      "text/plain": [
       "('OBJECTID_1',\n",
       " 'Shape',\n",
       " 'OBJECTID',\n",
       " 'STATUS',\n",
       " 'SCORE',\n",
       " 'SIDE',\n",
       " 'MATCH_ADDR',\n",
       " 'FEDERAL_ID',\n",
       " 'STATE_ID',\n",
       " 'SCHOOL_ID',\n",
       " 'NAME',\n",
       " 'ADDRESS',\n",
       " 'CITY',\n",
       " 'ZIPCODE',\n",
       " 'PHONE',\n",
       " 'COUNTY',\n",
       " 'OPERATING',\n",
       " 'OP_CLASS',\n",
       " 'ENROLLMENT',\n",
       " 'PROGRAMS',\n",
       " 'COMMON_USE',\n",
       " 'USE',\n",
       " 'TYPE',\n",
       " 'ACTIVITY',\n",
       " 'GRADES',\n",
       " 'LOW_GRADE',\n",
       " 'HIGH_GRADE',\n",
       " 'PRINCIPAL',\n",
       " 'TEACHERS',\n",
       " 'STDTCH_RT',\n",
       " 'MIGRNT_STD',\n",
       " 'TITLE1SCHO',\n",
       " 'MAGNETINFO',\n",
       " 'FREE_LUNCH',\n",
       " 'REDUCED_LU',\n",
       " 'FISH_FAC1',\n",
       " 'FISH_FAC2',\n",
       " 'COMMENTS',\n",
       " 'BBSERVICE',\n",
       " 'BBPROVIDER',\n",
       " 'BBSPEED',\n",
       " 'DSTREAMSPD',\n",
       " 'YR_BUILT',\n",
       " 'PARCEL_ID',\n",
       " 'LAT_DD',\n",
       " 'LONG_DD',\n",
       " 'USNG_FL_1K',\n",
       " 'FDOE_MSID',\n",
       " 'NCES_PUB',\n",
       " 'NCES_PRIV',\n",
       " 'FDOE_PRV',\n",
       " 'SOURCE',\n",
       " 'DESCRIPT',\n",
       " 'FLAG',\n",
       " 'UPDATE_DAY',\n",
       " 'FGDLAQDATE',\n",
       " 'AUTOID')"
      ]
     },
     "execution_count": 25,
     "metadata": {},
     "output_type": "execute_result"
    }
   ],
   "source": [
    "school_arr.dtype.names"
   ]
  },
  {
   "cell_type": "code",
   "execution_count": 26,
   "metadata": {},
   "outputs": [
    {
     "data": {
      "text/html": [
       "<div>\n",
       "<style scoped>\n",
       "    .dataframe tbody tr th:only-of-type {\n",
       "        vertical-align: middle;\n",
       "    }\n",
       "\n",
       "    .dataframe tbody tr th {\n",
       "        vertical-align: top;\n",
       "    }\n",
       "\n",
       "    .dataframe thead th {\n",
       "        text-align: right;\n",
       "    }\n",
       "</style>\n",
       "<table border=\"1\" class=\"dataframe\">\n",
       "  <thead>\n",
       "    <tr style=\"text-align: right;\">\n",
       "      <th></th>\n",
       "      <th>NAME</th>\n",
       "      <th>OP_CLASS</th>\n",
       "      <th>ENROLLMENT</th>\n",
       "      <th>TYPE</th>\n",
       "      <th>TEACHERS</th>\n",
       "    </tr>\n",
       "  </thead>\n",
       "  <tbody>\n",
       "    <tr>\n",
       "      <th>0</th>\n",
       "      <td>GRACE CHRISTIAN SCHOOL OF ALACHUA CO.</td>\n",
       "      <td>PRIVATE</td>\n",
       "      <td>0.0</td>\n",
       "      <td>SENIOR HIGH</td>\n",
       "      <td>0.0</td>\n",
       "    </tr>\n",
       "    <tr>\n",
       "      <th>1</th>\n",
       "      <td>FAMILY LIFE ACADEMY</td>\n",
       "      <td>PRIVATE</td>\n",
       "      <td>0.0</td>\n",
       "      <td>COMBINATION ELEMENTARY &amp; SECONDARY</td>\n",
       "      <td>0.0</td>\n",
       "    </tr>\n",
       "    <tr>\n",
       "      <th>2</th>\n",
       "      <td>FOREST GROVE CHRISTIAN ACADEMY</td>\n",
       "      <td>PRIVATE</td>\n",
       "      <td>53.0</td>\n",
       "      <td>COMBINATION ELEMENTARY &amp; SECONDARY</td>\n",
       "      <td>9.4</td>\n",
       "    </tr>\n",
       "    <tr>\n",
       "      <th>3</th>\n",
       "      <td>VAISHNAVA ACADEMY FOR GIRLS</td>\n",
       "      <td>PRIVATE</td>\n",
       "      <td>19.0</td>\n",
       "      <td>COMBINATION JR. HIGH &amp; SENIOR HIGH</td>\n",
       "      <td>0.0</td>\n",
       "    </tr>\n",
       "    <tr>\n",
       "      <th>4</th>\n",
       "      <td>BHAKTIVEDANTA ACADEMY</td>\n",
       "      <td>PRIVATE</td>\n",
       "      <td>0.0</td>\n",
       "      <td>COMBINATION ELEMENTARY &amp; MIDDLE</td>\n",
       "      <td>0.0</td>\n",
       "    </tr>\n",
       "    <tr>\n",
       "      <th>...</th>\n",
       "      <td>...</td>\n",
       "      <td>...</td>\n",
       "      <td>...</td>\n",
       "      <td>...</td>\n",
       "      <td>...</td>\n",
       "    </tr>\n",
       "    <tr>\n",
       "      <th>107</th>\n",
       "      <td>SANTA FE COLLEGE - CHARLES L BLOUNT DOWNTOWN C...</td>\n",
       "      <td>PUBLIC</td>\n",
       "      <td>0.0</td>\n",
       "      <td>COLLEGE/UNIVERSITY</td>\n",
       "      <td>0.0</td>\n",
       "    </tr>\n",
       "    <tr>\n",
       "      <th>108</th>\n",
       "      <td>SANTA FE COLLEGE - KIRKPATRICK CENTER</td>\n",
       "      <td>PUBLIC</td>\n",
       "      <td>0.0</td>\n",
       "      <td>COLLEGE/UNIVERSITY</td>\n",
       "      <td>0.0</td>\n",
       "    </tr>\n",
       "    <tr>\n",
       "      <th>109</th>\n",
       "      <td>ALACHUA COUNTY JAIL</td>\n",
       "      <td>PUBLIC</td>\n",
       "      <td>0.0</td>\n",
       "      <td>COMBINATION JR. HIGH &amp; SENIOR HIGH</td>\n",
       "      <td>0.0</td>\n",
       "    </tr>\n",
       "    <tr>\n",
       "      <th>110</th>\n",
       "      <td>ALACHUA  COUNTY STUDENT SERVICES/ MIGRANT/ VIR...</td>\n",
       "      <td>PUBLIC</td>\n",
       "      <td>0.0</td>\n",
       "      <td>MIGRANT EDUCATION PROGRAM</td>\n",
       "      <td>4.0</td>\n",
       "    </tr>\n",
       "    <tr>\n",
       "      <th>111</th>\n",
       "      <td>OAK HALL LOWER SCHOOL</td>\n",
       "      <td>PRIVATE</td>\n",
       "      <td>365.0</td>\n",
       "      <td>ELEMENTARY</td>\n",
       "      <td>16.0</td>\n",
       "    </tr>\n",
       "  </tbody>\n",
       "</table>\n",
       "<p>112 rows × 5 columns</p>\n",
       "</div>"
      ],
      "text/plain": [
       "                                                  NAME OP_CLASS  ENROLLMENT  \\\n",
       "0                GRACE CHRISTIAN SCHOOL OF ALACHUA CO.  PRIVATE         0.0   \n",
       "1                                  FAMILY LIFE ACADEMY  PRIVATE         0.0   \n",
       "2                       FOREST GROVE CHRISTIAN ACADEMY  PRIVATE        53.0   \n",
       "3                          VAISHNAVA ACADEMY FOR GIRLS  PRIVATE        19.0   \n",
       "4                                BHAKTIVEDANTA ACADEMY  PRIVATE         0.0   \n",
       "..                                                 ...      ...         ...   \n",
       "107  SANTA FE COLLEGE - CHARLES L BLOUNT DOWNTOWN C...   PUBLIC         0.0   \n",
       "108              SANTA FE COLLEGE - KIRKPATRICK CENTER   PUBLIC         0.0   \n",
       "109                                ALACHUA COUNTY JAIL   PUBLIC         0.0   \n",
       "110  ALACHUA  COUNTY STUDENT SERVICES/ MIGRANT/ VIR...   PUBLIC         0.0   \n",
       "111                              OAK HALL LOWER SCHOOL  PRIVATE       365.0   \n",
       "\n",
       "                                   TYPE  TEACHERS  \n",
       "0                           SENIOR HIGH       0.0  \n",
       "1    COMBINATION ELEMENTARY & SECONDARY       0.0  \n",
       "2    COMBINATION ELEMENTARY & SECONDARY       9.4  \n",
       "3    COMBINATION JR. HIGH & SENIOR HIGH       0.0  \n",
       "4       COMBINATION ELEMENTARY & MIDDLE       0.0  \n",
       "..                                  ...       ...  \n",
       "107                  COLLEGE/UNIVERSITY       0.0  \n",
       "108                  COLLEGE/UNIVERSITY       0.0  \n",
       "109  COMBINATION JR. HIGH & SENIOR HIGH       0.0  \n",
       "110           MIGRANT EDUCATION PROGRAM       4.0  \n",
       "111                          ELEMENTARY      16.0  \n",
       "\n",
       "[112 rows x 5 columns]"
      ]
     },
     "execution_count": 26,
     "metadata": {},
     "output_type": "execute_result"
    }
   ],
   "source": [
    "columns = [\"NAME\", 'OP_CLASS', 'ENROLLMENT', 'TYPE', 'TEACHERS']\n",
    "school_arr = arcpy.da.FeatureClassToNumPyArray(school_fc, columns)\n",
    "\n",
    "pd.DataFrame(school_arr, columns=columns) # first columns and second columns"
   ]
  },
  {
   "cell_type": "markdown",
   "metadata": {},
   "source": [
    "### 3.3 preview the head and tail of a DataFrame"
   ]
  },
  {
   "cell_type": "code",
   "execution_count": 27,
   "metadata": {},
   "outputs": [
    {
     "data": {
      "text/html": [
       "<div>\n",
       "<style scoped>\n",
       "    .dataframe tbody tr th:only-of-type {\n",
       "        vertical-align: middle;\n",
       "    }\n",
       "\n",
       "    .dataframe tbody tr th {\n",
       "        vertical-align: top;\n",
       "    }\n",
       "\n",
       "    .dataframe thead th {\n",
       "        text-align: right;\n",
       "    }\n",
       "</style>\n",
       "<table border=\"1\" class=\"dataframe\">\n",
       "  <thead>\n",
       "    <tr style=\"text-align: right;\">\n",
       "      <th></th>\n",
       "      <th>NAME</th>\n",
       "      <th>OP_CLASS</th>\n",
       "      <th>ENROLLMENT</th>\n",
       "      <th>TYPE</th>\n",
       "      <th>TEACHERS</th>\n",
       "    </tr>\n",
       "  </thead>\n",
       "  <tbody>\n",
       "    <tr>\n",
       "      <th>0</th>\n",
       "      <td>GRACE CHRISTIAN SCHOOL OF ALACHUA CO.</td>\n",
       "      <td>PRIVATE</td>\n",
       "      <td>0.0</td>\n",
       "      <td>SENIOR HIGH</td>\n",
       "      <td>0.0</td>\n",
       "    </tr>\n",
       "    <tr>\n",
       "      <th>1</th>\n",
       "      <td>FAMILY LIFE ACADEMY</td>\n",
       "      <td>PRIVATE</td>\n",
       "      <td>0.0</td>\n",
       "      <td>COMBINATION ELEMENTARY &amp; SECONDARY</td>\n",
       "      <td>0.0</td>\n",
       "    </tr>\n",
       "    <tr>\n",
       "      <th>2</th>\n",
       "      <td>FOREST GROVE CHRISTIAN ACADEMY</td>\n",
       "      <td>PRIVATE</td>\n",
       "      <td>53.0</td>\n",
       "      <td>COMBINATION ELEMENTARY &amp; SECONDARY</td>\n",
       "      <td>9.4</td>\n",
       "    </tr>\n",
       "    <tr>\n",
       "      <th>3</th>\n",
       "      <td>VAISHNAVA ACADEMY FOR GIRLS</td>\n",
       "      <td>PRIVATE</td>\n",
       "      <td>19.0</td>\n",
       "      <td>COMBINATION JR. HIGH &amp; SENIOR HIGH</td>\n",
       "      <td>0.0</td>\n",
       "    </tr>\n",
       "    <tr>\n",
       "      <th>4</th>\n",
       "      <td>BHAKTIVEDANTA ACADEMY</td>\n",
       "      <td>PRIVATE</td>\n",
       "      <td>0.0</td>\n",
       "      <td>COMBINATION ELEMENTARY &amp; MIDDLE</td>\n",
       "      <td>0.0</td>\n",
       "    </tr>\n",
       "  </tbody>\n",
       "</table>\n",
       "</div>"
      ],
      "text/plain": [
       "                                    NAME OP_CLASS  ENROLLMENT  \\\n",
       "0  GRACE CHRISTIAN SCHOOL OF ALACHUA CO.  PRIVATE         0.0   \n",
       "1                    FAMILY LIFE ACADEMY  PRIVATE         0.0   \n",
       "2         FOREST GROVE CHRISTIAN ACADEMY  PRIVATE        53.0   \n",
       "3            VAISHNAVA ACADEMY FOR GIRLS  PRIVATE        19.0   \n",
       "4                  BHAKTIVEDANTA ACADEMY  PRIVATE         0.0   \n",
       "\n",
       "                                 TYPE  TEACHERS  \n",
       "0                         SENIOR HIGH       0.0  \n",
       "1  COMBINATION ELEMENTARY & SECONDARY       0.0  \n",
       "2  COMBINATION ELEMENTARY & SECONDARY       9.4  \n",
       "3  COMBINATION JR. HIGH & SENIOR HIGH       0.0  \n",
       "4     COMBINATION ELEMENTARY & MIDDLE       0.0  "
      ]
     },
     "execution_count": 27,
     "metadata": {},
     "output_type": "execute_result"
    }
   ],
   "source": [
    "school_df = pd.DataFrame(school_arr, columns=columns)\n",
    "school_df.head()"
   ]
  },
  {
   "cell_type": "code",
   "execution_count": 28,
   "metadata": {},
   "outputs": [
    {
     "data": {
      "text/html": [
       "<div>\n",
       "<style scoped>\n",
       "    .dataframe tbody tr th:only-of-type {\n",
       "        vertical-align: middle;\n",
       "    }\n",
       "\n",
       "    .dataframe tbody tr th {\n",
       "        vertical-align: top;\n",
       "    }\n",
       "\n",
       "    .dataframe thead th {\n",
       "        text-align: right;\n",
       "    }\n",
       "</style>\n",
       "<table border=\"1\" class=\"dataframe\">\n",
       "  <thead>\n",
       "    <tr style=\"text-align: right;\">\n",
       "      <th></th>\n",
       "      <th>NAME</th>\n",
       "      <th>OP_CLASS</th>\n",
       "      <th>ENROLLMENT</th>\n",
       "      <th>TYPE</th>\n",
       "      <th>TEACHERS</th>\n",
       "    </tr>\n",
       "  </thead>\n",
       "  <tbody>\n",
       "    <tr>\n",
       "      <th>107</th>\n",
       "      <td>SANTA FE COLLEGE - CHARLES L BLOUNT DOWNTOWN C...</td>\n",
       "      <td>PUBLIC</td>\n",
       "      <td>0.0</td>\n",
       "      <td>COLLEGE/UNIVERSITY</td>\n",
       "      <td>0.0</td>\n",
       "    </tr>\n",
       "    <tr>\n",
       "      <th>108</th>\n",
       "      <td>SANTA FE COLLEGE - KIRKPATRICK CENTER</td>\n",
       "      <td>PUBLIC</td>\n",
       "      <td>0.0</td>\n",
       "      <td>COLLEGE/UNIVERSITY</td>\n",
       "      <td>0.0</td>\n",
       "    </tr>\n",
       "    <tr>\n",
       "      <th>109</th>\n",
       "      <td>ALACHUA COUNTY JAIL</td>\n",
       "      <td>PUBLIC</td>\n",
       "      <td>0.0</td>\n",
       "      <td>COMBINATION JR. HIGH &amp; SENIOR HIGH</td>\n",
       "      <td>0.0</td>\n",
       "    </tr>\n",
       "    <tr>\n",
       "      <th>110</th>\n",
       "      <td>ALACHUA  COUNTY STUDENT SERVICES/ MIGRANT/ VIR...</td>\n",
       "      <td>PUBLIC</td>\n",
       "      <td>0.0</td>\n",
       "      <td>MIGRANT EDUCATION PROGRAM</td>\n",
       "      <td>4.0</td>\n",
       "    </tr>\n",
       "    <tr>\n",
       "      <th>111</th>\n",
       "      <td>OAK HALL LOWER SCHOOL</td>\n",
       "      <td>PRIVATE</td>\n",
       "      <td>365.0</td>\n",
       "      <td>ELEMENTARY</td>\n",
       "      <td>16.0</td>\n",
       "    </tr>\n",
       "  </tbody>\n",
       "</table>\n",
       "</div>"
      ],
      "text/plain": [
       "                                                  NAME OP_CLASS  ENROLLMENT  \\\n",
       "107  SANTA FE COLLEGE - CHARLES L BLOUNT DOWNTOWN C...   PUBLIC         0.0   \n",
       "108              SANTA FE COLLEGE - KIRKPATRICK CENTER   PUBLIC         0.0   \n",
       "109                                ALACHUA COUNTY JAIL   PUBLIC         0.0   \n",
       "110  ALACHUA  COUNTY STUDENT SERVICES/ MIGRANT/ VIR...   PUBLIC         0.0   \n",
       "111                              OAK HALL LOWER SCHOOL  PRIVATE       365.0   \n",
       "\n",
       "                                   TYPE  TEACHERS  \n",
       "107                  COLLEGE/UNIVERSITY       0.0  \n",
       "108                  COLLEGE/UNIVERSITY       0.0  \n",
       "109  COMBINATION JR. HIGH & SENIOR HIGH       0.0  \n",
       "110           MIGRANT EDUCATION PROGRAM       4.0  \n",
       "111                          ELEMENTARY      16.0  "
      ]
     },
     "execution_count": 28,
     "metadata": {},
     "output_type": "execute_result"
    }
   ],
   "source": [
    "school_df.tail()"
   ]
  },
  {
   "cell_type": "code",
   "execution_count": 29,
   "metadata": {},
   "outputs": [
    {
     "data": {
      "text/html": [
       "<div>\n",
       "<style scoped>\n",
       "    .dataframe tbody tr th:only-of-type {\n",
       "        vertical-align: middle;\n",
       "    }\n",
       "\n",
       "    .dataframe tbody tr th {\n",
       "        vertical-align: top;\n",
       "    }\n",
       "\n",
       "    .dataframe thead th {\n",
       "        text-align: right;\n",
       "    }\n",
       "</style>\n",
       "<table border=\"1\" class=\"dataframe\">\n",
       "  <thead>\n",
       "    <tr style=\"text-align: right;\">\n",
       "      <th></th>\n",
       "      <th>NAME</th>\n",
       "      <th>OP_CLASS</th>\n",
       "      <th>ENROLLMENT</th>\n",
       "      <th>TYPE</th>\n",
       "      <th>TEACHERS</th>\n",
       "    </tr>\n",
       "  </thead>\n",
       "  <tbody>\n",
       "    <tr>\n",
       "      <th>0</th>\n",
       "      <td>GRACE CHRISTIAN SCHOOL OF ALACHUA CO.</td>\n",
       "      <td>PRIVATE</td>\n",
       "      <td>0.0</td>\n",
       "      <td>SENIOR HIGH</td>\n",
       "      <td>0.0</td>\n",
       "    </tr>\n",
       "    <tr>\n",
       "      <th>1</th>\n",
       "      <td>FAMILY LIFE ACADEMY</td>\n",
       "      <td>PRIVATE</td>\n",
       "      <td>0.0</td>\n",
       "      <td>COMBINATION ELEMENTARY &amp; SECONDARY</td>\n",
       "      <td>0.0</td>\n",
       "    </tr>\n",
       "    <tr>\n",
       "      <th>2</th>\n",
       "      <td>FOREST GROVE CHRISTIAN ACADEMY</td>\n",
       "      <td>PRIVATE</td>\n",
       "      <td>53.0</td>\n",
       "      <td>COMBINATION ELEMENTARY &amp; SECONDARY</td>\n",
       "      <td>9.4</td>\n",
       "    </tr>\n",
       "    <tr>\n",
       "      <th>3</th>\n",
       "      <td>VAISHNAVA ACADEMY FOR GIRLS</td>\n",
       "      <td>PRIVATE</td>\n",
       "      <td>19.0</td>\n",
       "      <td>COMBINATION JR. HIGH &amp; SENIOR HIGH</td>\n",
       "      <td>0.0</td>\n",
       "    </tr>\n",
       "    <tr>\n",
       "      <th>4</th>\n",
       "      <td>BHAKTIVEDANTA ACADEMY</td>\n",
       "      <td>PRIVATE</td>\n",
       "      <td>0.0</td>\n",
       "      <td>COMBINATION ELEMENTARY &amp; MIDDLE</td>\n",
       "      <td>0.0</td>\n",
       "    </tr>\n",
       "    <tr>\n",
       "      <th>5</th>\n",
       "      <td>DESTINY CHRISTIAN ACADEMY</td>\n",
       "      <td>PRIVATE</td>\n",
       "      <td>0.0</td>\n",
       "      <td>COMBINATION ELEMENTARY &amp; MIDDLE</td>\n",
       "      <td>0.0</td>\n",
       "    </tr>\n",
       "    <tr>\n",
       "      <th>6</th>\n",
       "      <td>INCAF MONTESSORI SCHOOL</td>\n",
       "      <td>PRIVATE</td>\n",
       "      <td>0.0</td>\n",
       "      <td>ELEMENTARY</td>\n",
       "      <td>0.0</td>\n",
       "    </tr>\n",
       "    <tr>\n",
       "      <th>7</th>\n",
       "      <td>GREAT AMERICAN VISIONS ENTERPRISES,INC</td>\n",
       "      <td>PRIVATE</td>\n",
       "      <td>0.0</td>\n",
       "      <td>COMBINATION ELEMENTARY &amp; MIDDLE</td>\n",
       "      <td>0.0</td>\n",
       "    </tr>\n",
       "    <tr>\n",
       "      <th>8</th>\n",
       "      <td>JORDAN GLEN SCHOOL INC.</td>\n",
       "      <td>PRIVATE</td>\n",
       "      <td>115.0</td>\n",
       "      <td>COMBINATION ELEMENTARY &amp; MIDDLE</td>\n",
       "      <td>14.5</td>\n",
       "    </tr>\n",
       "    <tr>\n",
       "      <th>9</th>\n",
       "      <td>QUEEN OF PEACE CATHOLIC ACADEMY</td>\n",
       "      <td>PRIVATE</td>\n",
       "      <td>358.0</td>\n",
       "      <td>COMBINATION ELEMENTARY &amp; MIDDLE</td>\n",
       "      <td>28.4</td>\n",
       "    </tr>\n",
       "  </tbody>\n",
       "</table>\n",
       "</div>"
      ],
      "text/plain": [
       "                                     NAME OP_CLASS  ENROLLMENT  \\\n",
       "0   GRACE CHRISTIAN SCHOOL OF ALACHUA CO.  PRIVATE         0.0   \n",
       "1                     FAMILY LIFE ACADEMY  PRIVATE         0.0   \n",
       "2          FOREST GROVE CHRISTIAN ACADEMY  PRIVATE        53.0   \n",
       "3             VAISHNAVA ACADEMY FOR GIRLS  PRIVATE        19.0   \n",
       "4                   BHAKTIVEDANTA ACADEMY  PRIVATE         0.0   \n",
       "5               DESTINY CHRISTIAN ACADEMY  PRIVATE         0.0   \n",
       "6                 INCAF MONTESSORI SCHOOL  PRIVATE         0.0   \n",
       "7  GREAT AMERICAN VISIONS ENTERPRISES,INC  PRIVATE         0.0   \n",
       "8                 JORDAN GLEN SCHOOL INC.  PRIVATE       115.0   \n",
       "9         QUEEN OF PEACE CATHOLIC ACADEMY  PRIVATE       358.0   \n",
       "\n",
       "                                 TYPE  TEACHERS  \n",
       "0                         SENIOR HIGH       0.0  \n",
       "1  COMBINATION ELEMENTARY & SECONDARY       0.0  \n",
       "2  COMBINATION ELEMENTARY & SECONDARY       9.4  \n",
       "3  COMBINATION JR. HIGH & SENIOR HIGH       0.0  \n",
       "4     COMBINATION ELEMENTARY & MIDDLE       0.0  \n",
       "5     COMBINATION ELEMENTARY & MIDDLE       0.0  \n",
       "6                          ELEMENTARY       0.0  \n",
       "7     COMBINATION ELEMENTARY & MIDDLE       0.0  \n",
       "8     COMBINATION ELEMENTARY & MIDDLE      14.5  \n",
       "9     COMBINATION ELEMENTARY & MIDDLE      28.4  "
      ]
     },
     "execution_count": 29,
     "metadata": {},
     "output_type": "execute_result"
    }
   ],
   "source": [
    "school_df.head(10)"
   ]
  },
  {
   "cell_type": "markdown",
   "metadata": {},
   "source": [
    "### 3.4 Indexing and Slicing\n",
    "\n",
    "Select single column return a pandas **Series**"
   ]
  },
  {
   "cell_type": "code",
   "execution_count": 30,
   "metadata": {},
   "outputs": [
    {
     "data": {
      "text/plain": [
       "0                  GRACE CHRISTIAN SCHOOL OF ALACHUA CO.\n",
       "1                                    FAMILY LIFE ACADEMY\n",
       "2                         FOREST GROVE CHRISTIAN ACADEMY\n",
       "3                            VAISHNAVA ACADEMY FOR GIRLS\n",
       "4                                  BHAKTIVEDANTA ACADEMY\n",
       "                             ...                        \n",
       "107    SANTA FE COLLEGE - CHARLES L BLOUNT DOWNTOWN C...\n",
       "108                SANTA FE COLLEGE - KIRKPATRICK CENTER\n",
       "109                                  ALACHUA COUNTY JAIL\n",
       "110    ALACHUA  COUNTY STUDENT SERVICES/ MIGRANT/ VIR...\n",
       "111                                OAK HALL LOWER SCHOOL\n",
       "Name: NAME, Length: 112, dtype: object"
      ]
     },
     "execution_count": 30,
     "metadata": {},
     "output_type": "execute_result"
    }
   ],
   "source": [
    "school_df[\"NAME\"]"
   ]
  },
  {
   "cell_type": "markdown",
   "metadata": {},
   "source": [
    "Select multiple columns return a pandas **DataFrame**"
   ]
  },
  {
   "cell_type": "code",
   "execution_count": 31,
   "metadata": {},
   "outputs": [
    {
     "data": {
      "text/html": [
       "<div>\n",
       "<style scoped>\n",
       "    .dataframe tbody tr th:only-of-type {\n",
       "        vertical-align: middle;\n",
       "    }\n",
       "\n",
       "    .dataframe tbody tr th {\n",
       "        vertical-align: top;\n",
       "    }\n",
       "\n",
       "    .dataframe thead th {\n",
       "        text-align: right;\n",
       "    }\n",
       "</style>\n",
       "<table border=\"1\" class=\"dataframe\">\n",
       "  <thead>\n",
       "    <tr style=\"text-align: right;\">\n",
       "      <th></th>\n",
       "      <th>NAME</th>\n",
       "      <th>ENROLLMENT</th>\n",
       "    </tr>\n",
       "  </thead>\n",
       "  <tbody>\n",
       "    <tr>\n",
       "      <th>0</th>\n",
       "      <td>GRACE CHRISTIAN SCHOOL OF ALACHUA CO.</td>\n",
       "      <td>0.0</td>\n",
       "    </tr>\n",
       "    <tr>\n",
       "      <th>1</th>\n",
       "      <td>FAMILY LIFE ACADEMY</td>\n",
       "      <td>0.0</td>\n",
       "    </tr>\n",
       "    <tr>\n",
       "      <th>2</th>\n",
       "      <td>FOREST GROVE CHRISTIAN ACADEMY</td>\n",
       "      <td>53.0</td>\n",
       "    </tr>\n",
       "    <tr>\n",
       "      <th>3</th>\n",
       "      <td>VAISHNAVA ACADEMY FOR GIRLS</td>\n",
       "      <td>19.0</td>\n",
       "    </tr>\n",
       "    <tr>\n",
       "      <th>4</th>\n",
       "      <td>BHAKTIVEDANTA ACADEMY</td>\n",
       "      <td>0.0</td>\n",
       "    </tr>\n",
       "    <tr>\n",
       "      <th>...</th>\n",
       "      <td>...</td>\n",
       "      <td>...</td>\n",
       "    </tr>\n",
       "    <tr>\n",
       "      <th>107</th>\n",
       "      <td>SANTA FE COLLEGE - CHARLES L BLOUNT DOWNTOWN C...</td>\n",
       "      <td>0.0</td>\n",
       "    </tr>\n",
       "    <tr>\n",
       "      <th>108</th>\n",
       "      <td>SANTA FE COLLEGE - KIRKPATRICK CENTER</td>\n",
       "      <td>0.0</td>\n",
       "    </tr>\n",
       "    <tr>\n",
       "      <th>109</th>\n",
       "      <td>ALACHUA COUNTY JAIL</td>\n",
       "      <td>0.0</td>\n",
       "    </tr>\n",
       "    <tr>\n",
       "      <th>110</th>\n",
       "      <td>ALACHUA  COUNTY STUDENT SERVICES/ MIGRANT/ VIR...</td>\n",
       "      <td>0.0</td>\n",
       "    </tr>\n",
       "    <tr>\n",
       "      <th>111</th>\n",
       "      <td>OAK HALL LOWER SCHOOL</td>\n",
       "      <td>365.0</td>\n",
       "    </tr>\n",
       "  </tbody>\n",
       "</table>\n",
       "<p>112 rows × 2 columns</p>\n",
       "</div>"
      ],
      "text/plain": [
       "                                                  NAME  ENROLLMENT\n",
       "0                GRACE CHRISTIAN SCHOOL OF ALACHUA CO.         0.0\n",
       "1                                  FAMILY LIFE ACADEMY         0.0\n",
       "2                       FOREST GROVE CHRISTIAN ACADEMY        53.0\n",
       "3                          VAISHNAVA ACADEMY FOR GIRLS        19.0\n",
       "4                                BHAKTIVEDANTA ACADEMY         0.0\n",
       "..                                                 ...         ...\n",
       "107  SANTA FE COLLEGE - CHARLES L BLOUNT DOWNTOWN C...         0.0\n",
       "108              SANTA FE COLLEGE - KIRKPATRICK CENTER         0.0\n",
       "109                                ALACHUA COUNTY JAIL         0.0\n",
       "110  ALACHUA  COUNTY STUDENT SERVICES/ MIGRANT/ VIR...         0.0\n",
       "111                              OAK HALL LOWER SCHOOL       365.0\n",
       "\n",
       "[112 rows x 2 columns]"
      ]
     },
     "execution_count": 31,
     "metadata": {},
     "output_type": "execute_result"
    }
   ],
   "source": [
    "school_df[[\"NAME\", \"ENROLLMENT\"]] # multiple columns supplied as a list"
   ]
  },
  {
   "cell_type": "markdown",
   "metadata": {},
   "source": [
    "Select row using the `.loc[]` function (**label/index-based**)"
   ]
  },
  {
   "cell_type": "code",
   "execution_count": 32,
   "metadata": {},
   "outputs": [
    {
     "data": {
      "text/plain": [
       "NAME              FOREST GROVE CHRISTIAN ACADEMY\n",
       "OP_CLASS                                 PRIVATE\n",
       "ENROLLMENT                                  53.0\n",
       "TYPE          COMBINATION ELEMENTARY & SECONDARY\n",
       "TEACHERS                                     9.4\n",
       "Name: 2, dtype: object"
      ]
     },
     "execution_count": 32,
     "metadata": {},
     "output_type": "execute_result"
    }
   ],
   "source": [
    "school_df.loc[2] # note that .loc followed by square brackets not parentheses"
   ]
  },
  {
   "cell_type": "markdown",
   "metadata": {},
   "source": [
    "Select row using the `.iloc[]` function (**position/order-based**)"
   ]
  },
  {
   "cell_type": "code",
   "execution_count": 33,
   "metadata": {},
   "outputs": [
    {
     "data": {
      "text/plain": [
       "NAME              FOREST GROVE CHRISTIAN ACADEMY\n",
       "OP_CLASS                                 PRIVATE\n",
       "ENROLLMENT                                  53.0\n",
       "TYPE          COMBINATION ELEMENTARY & SECONDARY\n",
       "TEACHERS                                     9.4\n",
       "Name: 2, dtype: object"
      ]
     },
     "execution_count": 33,
     "metadata": {},
     "output_type": "execute_result"
    }
   ],
   "source": [
    "school_df.iloc[2]"
   ]
  },
  {
   "cell_type": "markdown",
   "metadata": {},
   "source": [
    "Use `set_index()` to choose a column as index.\n",
    "\n",
    "- `inplace=True`\n",
    "- reassign the result of `set_index()`"
   ]
  },
  {
   "cell_type": "code",
   "execution_count": 34,
   "metadata": {},
   "outputs": [
    {
     "data": {
      "text/html": [
       "<div>\n",
       "<style scoped>\n",
       "    .dataframe tbody tr th:only-of-type {\n",
       "        vertical-align: middle;\n",
       "    }\n",
       "\n",
       "    .dataframe tbody tr th {\n",
       "        vertical-align: top;\n",
       "    }\n",
       "\n",
       "    .dataframe thead th {\n",
       "        text-align: right;\n",
       "    }\n",
       "</style>\n",
       "<table border=\"1\" class=\"dataframe\">\n",
       "  <thead>\n",
       "    <tr style=\"text-align: right;\">\n",
       "      <th></th>\n",
       "      <th>OP_CLASS</th>\n",
       "      <th>ENROLLMENT</th>\n",
       "      <th>TYPE</th>\n",
       "      <th>TEACHERS</th>\n",
       "    </tr>\n",
       "    <tr>\n",
       "      <th>NAME</th>\n",
       "      <th></th>\n",
       "      <th></th>\n",
       "      <th></th>\n",
       "      <th></th>\n",
       "    </tr>\n",
       "  </thead>\n",
       "  <tbody>\n",
       "    <tr>\n",
       "      <th>GRACE CHRISTIAN SCHOOL OF ALACHUA CO.</th>\n",
       "      <td>PRIVATE</td>\n",
       "      <td>0.0</td>\n",
       "      <td>SENIOR HIGH</td>\n",
       "      <td>0.0</td>\n",
       "    </tr>\n",
       "    <tr>\n",
       "      <th>FAMILY LIFE ACADEMY</th>\n",
       "      <td>PRIVATE</td>\n",
       "      <td>0.0</td>\n",
       "      <td>COMBINATION ELEMENTARY &amp; SECONDARY</td>\n",
       "      <td>0.0</td>\n",
       "    </tr>\n",
       "    <tr>\n",
       "      <th>FOREST GROVE CHRISTIAN ACADEMY</th>\n",
       "      <td>PRIVATE</td>\n",
       "      <td>53.0</td>\n",
       "      <td>COMBINATION ELEMENTARY &amp; SECONDARY</td>\n",
       "      <td>9.4</td>\n",
       "    </tr>\n",
       "    <tr>\n",
       "      <th>VAISHNAVA ACADEMY FOR GIRLS</th>\n",
       "      <td>PRIVATE</td>\n",
       "      <td>19.0</td>\n",
       "      <td>COMBINATION JR. HIGH &amp; SENIOR HIGH</td>\n",
       "      <td>0.0</td>\n",
       "    </tr>\n",
       "    <tr>\n",
       "      <th>BHAKTIVEDANTA ACADEMY</th>\n",
       "      <td>PRIVATE</td>\n",
       "      <td>0.0</td>\n",
       "      <td>COMBINATION ELEMENTARY &amp; MIDDLE</td>\n",
       "      <td>0.0</td>\n",
       "    </tr>\n",
       "  </tbody>\n",
       "</table>\n",
       "</div>"
      ],
      "text/plain": [
       "                                      OP_CLASS  ENROLLMENT  \\\n",
       "NAME                                                         \n",
       "GRACE CHRISTIAN SCHOOL OF ALACHUA CO.  PRIVATE         0.0   \n",
       "FAMILY LIFE ACADEMY                    PRIVATE         0.0   \n",
       "FOREST GROVE CHRISTIAN ACADEMY         PRIVATE        53.0   \n",
       "VAISHNAVA ACADEMY FOR GIRLS            PRIVATE        19.0   \n",
       "BHAKTIVEDANTA ACADEMY                  PRIVATE         0.0   \n",
       "\n",
       "                                                                     TYPE  \\\n",
       "NAME                                                                        \n",
       "GRACE CHRISTIAN SCHOOL OF ALACHUA CO.                         SENIOR HIGH   \n",
       "FAMILY LIFE ACADEMY                    COMBINATION ELEMENTARY & SECONDARY   \n",
       "FOREST GROVE CHRISTIAN ACADEMY         COMBINATION ELEMENTARY & SECONDARY   \n",
       "VAISHNAVA ACADEMY FOR GIRLS            COMBINATION JR. HIGH & SENIOR HIGH   \n",
       "BHAKTIVEDANTA ACADEMY                     COMBINATION ELEMENTARY & MIDDLE   \n",
       "\n",
       "                                       TEACHERS  \n",
       "NAME                                             \n",
       "GRACE CHRISTIAN SCHOOL OF ALACHUA CO.       0.0  \n",
       "FAMILY LIFE ACADEMY                         0.0  \n",
       "FOREST GROVE CHRISTIAN ACADEMY              9.4  \n",
       "VAISHNAVA ACADEMY FOR GIRLS                 0.0  \n",
       "BHAKTIVEDANTA ACADEMY                       0.0  "
      ]
     },
     "execution_count": 34,
     "metadata": {},
     "output_type": "execute_result"
    }
   ],
   "source": [
    "school_df.set_index('NAME').head()"
   ]
  },
  {
   "cell_type": "code",
   "execution_count": 35,
   "metadata": {},
   "outputs": [
    {
     "data": {
      "text/html": [
       "<div>\n",
       "<style scoped>\n",
       "    .dataframe tbody tr th:only-of-type {\n",
       "        vertical-align: middle;\n",
       "    }\n",
       "\n",
       "    .dataframe tbody tr th {\n",
       "        vertical-align: top;\n",
       "    }\n",
       "\n",
       "    .dataframe thead th {\n",
       "        text-align: right;\n",
       "    }\n",
       "</style>\n",
       "<table border=\"1\" class=\"dataframe\">\n",
       "  <thead>\n",
       "    <tr style=\"text-align: right;\">\n",
       "      <th></th>\n",
       "      <th>NAME</th>\n",
       "      <th>OP_CLASS</th>\n",
       "      <th>ENROLLMENT</th>\n",
       "      <th>TYPE</th>\n",
       "      <th>TEACHERS</th>\n",
       "    </tr>\n",
       "  </thead>\n",
       "  <tbody>\n",
       "    <tr>\n",
       "      <th>0</th>\n",
       "      <td>GRACE CHRISTIAN SCHOOL OF ALACHUA CO.</td>\n",
       "      <td>PRIVATE</td>\n",
       "      <td>0.0</td>\n",
       "      <td>SENIOR HIGH</td>\n",
       "      <td>0.0</td>\n",
       "    </tr>\n",
       "    <tr>\n",
       "      <th>1</th>\n",
       "      <td>FAMILY LIFE ACADEMY</td>\n",
       "      <td>PRIVATE</td>\n",
       "      <td>0.0</td>\n",
       "      <td>COMBINATION ELEMENTARY &amp; SECONDARY</td>\n",
       "      <td>0.0</td>\n",
       "    </tr>\n",
       "    <tr>\n",
       "      <th>2</th>\n",
       "      <td>FOREST GROVE CHRISTIAN ACADEMY</td>\n",
       "      <td>PRIVATE</td>\n",
       "      <td>53.0</td>\n",
       "      <td>COMBINATION ELEMENTARY &amp; SECONDARY</td>\n",
       "      <td>9.4</td>\n",
       "    </tr>\n",
       "    <tr>\n",
       "      <th>3</th>\n",
       "      <td>VAISHNAVA ACADEMY FOR GIRLS</td>\n",
       "      <td>PRIVATE</td>\n",
       "      <td>19.0</td>\n",
       "      <td>COMBINATION JR. HIGH &amp; SENIOR HIGH</td>\n",
       "      <td>0.0</td>\n",
       "    </tr>\n",
       "    <tr>\n",
       "      <th>4</th>\n",
       "      <td>BHAKTIVEDANTA ACADEMY</td>\n",
       "      <td>PRIVATE</td>\n",
       "      <td>0.0</td>\n",
       "      <td>COMBINATION ELEMENTARY &amp; MIDDLE</td>\n",
       "      <td>0.0</td>\n",
       "    </tr>\n",
       "  </tbody>\n",
       "</table>\n",
       "</div>"
      ],
      "text/plain": [
       "                                    NAME OP_CLASS  ENROLLMENT  \\\n",
       "0  GRACE CHRISTIAN SCHOOL OF ALACHUA CO.  PRIVATE         0.0   \n",
       "1                    FAMILY LIFE ACADEMY  PRIVATE         0.0   \n",
       "2         FOREST GROVE CHRISTIAN ACADEMY  PRIVATE        53.0   \n",
       "3            VAISHNAVA ACADEMY FOR GIRLS  PRIVATE        19.0   \n",
       "4                  BHAKTIVEDANTA ACADEMY  PRIVATE         0.0   \n",
       "\n",
       "                                 TYPE  TEACHERS  \n",
       "0                         SENIOR HIGH       0.0  \n",
       "1  COMBINATION ELEMENTARY & SECONDARY       0.0  \n",
       "2  COMBINATION ELEMENTARY & SECONDARY       9.4  \n",
       "3  COMBINATION JR. HIGH & SENIOR HIGH       0.0  \n",
       "4     COMBINATION ELEMENTARY & MIDDLE       0.0  "
      ]
     },
     "execution_count": 35,
     "metadata": {},
     "output_type": "execute_result"
    }
   ],
   "source": [
    "school_df.head()"
   ]
  },
  {
   "cell_type": "code",
   "execution_count": 36,
   "metadata": {},
   "outputs": [],
   "source": [
    "school_df.set_index('NAME', inplace=True) # or\n",
    "# school_df = school_df.set_index('NAME')"
   ]
  },
  {
   "cell_type": "code",
   "execution_count": 37,
   "metadata": {},
   "outputs": [
    {
     "data": {
      "text/html": [
       "<div>\n",
       "<style scoped>\n",
       "    .dataframe tbody tr th:only-of-type {\n",
       "        vertical-align: middle;\n",
       "    }\n",
       "\n",
       "    .dataframe tbody tr th {\n",
       "        vertical-align: top;\n",
       "    }\n",
       "\n",
       "    .dataframe thead th {\n",
       "        text-align: right;\n",
       "    }\n",
       "</style>\n",
       "<table border=\"1\" class=\"dataframe\">\n",
       "  <thead>\n",
       "    <tr style=\"text-align: right;\">\n",
       "      <th></th>\n",
       "      <th>OP_CLASS</th>\n",
       "      <th>ENROLLMENT</th>\n",
       "      <th>TYPE</th>\n",
       "      <th>TEACHERS</th>\n",
       "    </tr>\n",
       "    <tr>\n",
       "      <th>NAME</th>\n",
       "      <th></th>\n",
       "      <th></th>\n",
       "      <th></th>\n",
       "      <th></th>\n",
       "    </tr>\n",
       "  </thead>\n",
       "  <tbody>\n",
       "    <tr>\n",
       "      <th>GRACE CHRISTIAN SCHOOL OF ALACHUA CO.</th>\n",
       "      <td>PRIVATE</td>\n",
       "      <td>0.0</td>\n",
       "      <td>SENIOR HIGH</td>\n",
       "      <td>0.0</td>\n",
       "    </tr>\n",
       "    <tr>\n",
       "      <th>FAMILY LIFE ACADEMY</th>\n",
       "      <td>PRIVATE</td>\n",
       "      <td>0.0</td>\n",
       "      <td>COMBINATION ELEMENTARY &amp; SECONDARY</td>\n",
       "      <td>0.0</td>\n",
       "    </tr>\n",
       "    <tr>\n",
       "      <th>FOREST GROVE CHRISTIAN ACADEMY</th>\n",
       "      <td>PRIVATE</td>\n",
       "      <td>53.0</td>\n",
       "      <td>COMBINATION ELEMENTARY &amp; SECONDARY</td>\n",
       "      <td>9.4</td>\n",
       "    </tr>\n",
       "    <tr>\n",
       "      <th>VAISHNAVA ACADEMY FOR GIRLS</th>\n",
       "      <td>PRIVATE</td>\n",
       "      <td>19.0</td>\n",
       "      <td>COMBINATION JR. HIGH &amp; SENIOR HIGH</td>\n",
       "      <td>0.0</td>\n",
       "    </tr>\n",
       "    <tr>\n",
       "      <th>BHAKTIVEDANTA ACADEMY</th>\n",
       "      <td>PRIVATE</td>\n",
       "      <td>0.0</td>\n",
       "      <td>COMBINATION ELEMENTARY &amp; MIDDLE</td>\n",
       "      <td>0.0</td>\n",
       "    </tr>\n",
       "  </tbody>\n",
       "</table>\n",
       "</div>"
      ],
      "text/plain": [
       "                                      OP_CLASS  ENROLLMENT  \\\n",
       "NAME                                                         \n",
       "GRACE CHRISTIAN SCHOOL OF ALACHUA CO.  PRIVATE         0.0   \n",
       "FAMILY LIFE ACADEMY                    PRIVATE         0.0   \n",
       "FOREST GROVE CHRISTIAN ACADEMY         PRIVATE        53.0   \n",
       "VAISHNAVA ACADEMY FOR GIRLS            PRIVATE        19.0   \n",
       "BHAKTIVEDANTA ACADEMY                  PRIVATE         0.0   \n",
       "\n",
       "                                                                     TYPE  \\\n",
       "NAME                                                                        \n",
       "GRACE CHRISTIAN SCHOOL OF ALACHUA CO.                         SENIOR HIGH   \n",
       "FAMILY LIFE ACADEMY                    COMBINATION ELEMENTARY & SECONDARY   \n",
       "FOREST GROVE CHRISTIAN ACADEMY         COMBINATION ELEMENTARY & SECONDARY   \n",
       "VAISHNAVA ACADEMY FOR GIRLS            COMBINATION JR. HIGH & SENIOR HIGH   \n",
       "BHAKTIVEDANTA ACADEMY                     COMBINATION ELEMENTARY & MIDDLE   \n",
       "\n",
       "                                       TEACHERS  \n",
       "NAME                                             \n",
       "GRACE CHRISTIAN SCHOOL OF ALACHUA CO.       0.0  \n",
       "FAMILY LIFE ACADEMY                         0.0  \n",
       "FOREST GROVE CHRISTIAN ACADEMY              9.4  \n",
       "VAISHNAVA ACADEMY FOR GIRLS                 0.0  \n",
       "BHAKTIVEDANTA ACADEMY                       0.0  "
      ]
     },
     "execution_count": 37,
     "metadata": {},
     "output_type": "execute_result"
    }
   ],
   "source": [
    "school_df.head()"
   ]
  },
  {
   "cell_type": "code",
   "execution_count": 38,
   "metadata": {},
   "outputs": [
    {
     "data": {
      "text/plain": [
       "OP_CLASS                                 PRIVATE\n",
       "ENROLLMENT                                  53.0\n",
       "TYPE          COMBINATION ELEMENTARY & SECONDARY\n",
       "TEACHERS                                     9.4\n",
       "Name: FOREST GROVE CHRISTIAN ACADEMY, dtype: object"
      ]
     },
     "execution_count": 38,
     "metadata": {},
     "output_type": "execute_result"
    }
   ],
   "source": [
    "school_df.loc['FOREST GROVE CHRISTIAN ACADEMY']"
   ]
  },
  {
   "cell_type": "code",
   "execution_count": 39,
   "metadata": {},
   "outputs": [
    {
     "data": {
      "text/plain": [
       "NAME\n",
       "GRACE CHRISTIAN SCHOOL OF ALACHUA CO.                                                                 0.0\n",
       "FAMILY LIFE ACADEMY                                                                                   0.0\n",
       "FOREST GROVE CHRISTIAN ACADEMY                                                                       53.0\n",
       "VAISHNAVA ACADEMY FOR GIRLS                                                                          19.0\n",
       "BHAKTIVEDANTA ACADEMY                                                                                 0.0\n",
       "                                                                                                    ...  \n",
       "SANTA FE COLLEGE - CHARLES L BLOUNT DOWNTOWN CENTER                                                   0.0\n",
       "SANTA FE COLLEGE - KIRKPATRICK CENTER                                                                 0.0\n",
       "ALACHUA COUNTY JAIL                                                                                   0.0\n",
       "ALACHUA  COUNTY STUDENT SERVICES/ MIGRANT/ VIRTUAL PROGRAM/ MCKAY SCHOLARSHIP/ HOMEBOUND PROGRAM      0.0\n",
       "OAK HALL LOWER SCHOOL                                                                               365.0\n",
       "Name: ENROLLMENT, Length: 112, dtype: float64"
      ]
     },
     "execution_count": 39,
     "metadata": {},
     "output_type": "execute_result"
    }
   ],
   "source": [
    "school_df.loc[:, 'ENROLLMENT']"
   ]
  },
  {
   "cell_type": "code",
   "execution_count": 40,
   "metadata": {},
   "outputs": [
    {
     "data": {
      "text/html": [
       "<div>\n",
       "<style scoped>\n",
       "    .dataframe tbody tr th:only-of-type {\n",
       "        vertical-align: middle;\n",
       "    }\n",
       "\n",
       "    .dataframe tbody tr th {\n",
       "        vertical-align: top;\n",
       "    }\n",
       "\n",
       "    .dataframe thead th {\n",
       "        text-align: right;\n",
       "    }\n",
       "</style>\n",
       "<table border=\"1\" class=\"dataframe\">\n",
       "  <thead>\n",
       "    <tr style=\"text-align: right;\">\n",
       "      <th></th>\n",
       "      <th>ENROLLMENT</th>\n",
       "      <th>TYPE</th>\n",
       "      <th>TEACHERS</th>\n",
       "    </tr>\n",
       "    <tr>\n",
       "      <th>NAME</th>\n",
       "      <th></th>\n",
       "      <th></th>\n",
       "      <th></th>\n",
       "    </tr>\n",
       "  </thead>\n",
       "  <tbody>\n",
       "    <tr>\n",
       "      <th>THE ROCK SCHOOL</th>\n",
       "      <td>207.0</td>\n",
       "      <td>COMBINATION ELEMENTARY &amp; SECONDARY</td>\n",
       "      <td>17.9</td>\n",
       "    </tr>\n",
       "    <tr>\n",
       "      <th>CHRISTIAN LIFE ACADEMY</th>\n",
       "      <td>52.0</td>\n",
       "      <td>COMBINATION ELEMENTARY &amp; SECONDARY</td>\n",
       "      <td>5.9</td>\n",
       "    </tr>\n",
       "    <tr>\n",
       "      <th>SAINT FRANCIS CATHOLIC HIGH SCHOOL</th>\n",
       "      <td>260.0</td>\n",
       "      <td>SENIOR HIGH</td>\n",
       "      <td>19.8</td>\n",
       "    </tr>\n",
       "    <tr>\n",
       "      <th>COUNTRYSIDE CHRISTIAN SCHOOL</th>\n",
       "      <td>106.0</td>\n",
       "      <td>COMBINATION ELEMENTARY &amp; SECONDARY</td>\n",
       "      <td>6.5</td>\n",
       "    </tr>\n",
       "    <tr>\n",
       "      <th>TRILOGY SCHOOL OF LEARNING ALTERNATIVE</th>\n",
       "      <td>84.0</td>\n",
       "      <td>COMBINATION ELEMENTARY &amp; SECONDARY</td>\n",
       "      <td>11.5</td>\n",
       "    </tr>\n",
       "    <tr>\n",
       "      <th>MILLHOPPER MONTESSORI SCHOOL</th>\n",
       "      <td>209.0</td>\n",
       "      <td>COMBINATION ELEMENTARY &amp; MIDDLE</td>\n",
       "      <td>19.1</td>\n",
       "    </tr>\n",
       "    <tr>\n",
       "      <th>BNAI ISRAEL DAY SCHOOL</th>\n",
       "      <td>22.0</td>\n",
       "      <td>ELEMENTARY</td>\n",
       "      <td>0.0</td>\n",
       "    </tr>\n",
       "    <tr>\n",
       "      <th>GAINESVILLE CONDUCTIVE EDUCATION ACADEMY</th>\n",
       "      <td>0.0</td>\n",
       "      <td>COMBINATION ELEMENTARY &amp; SECONDARY</td>\n",
       "      <td>0.0</td>\n",
       "    </tr>\n",
       "    <tr>\n",
       "      <th>BRENTWOOD SCHOOL</th>\n",
       "      <td>246.0</td>\n",
       "      <td>ELEMENTARY</td>\n",
       "      <td>10.8</td>\n",
       "    </tr>\n",
       "    <tr>\n",
       "      <th>CORNERSTONE ACADEMY</th>\n",
       "      <td>216.0</td>\n",
       "      <td>COMBINATION ELEMENTARY &amp; SECONDARY</td>\n",
       "      <td>24.8</td>\n",
       "    </tr>\n",
       "  </tbody>\n",
       "</table>\n",
       "</div>"
      ],
      "text/plain": [
       "                                          ENROLLMENT  \\\n",
       "NAME                                                   \n",
       "THE ROCK SCHOOL                                207.0   \n",
       "CHRISTIAN LIFE ACADEMY                          52.0   \n",
       "SAINT FRANCIS CATHOLIC HIGH SCHOOL             260.0   \n",
       "COUNTRYSIDE CHRISTIAN SCHOOL                   106.0   \n",
       "TRILOGY SCHOOL OF LEARNING ALTERNATIVE          84.0   \n",
       "MILLHOPPER MONTESSORI SCHOOL                   209.0   \n",
       "BNAI ISRAEL DAY SCHOOL                          22.0   \n",
       "GAINESVILLE CONDUCTIVE EDUCATION ACADEMY         0.0   \n",
       "BRENTWOOD SCHOOL                               246.0   \n",
       "CORNERSTONE ACADEMY                            216.0   \n",
       "\n",
       "                                                                        TYPE  \\\n",
       "NAME                                                                           \n",
       "THE ROCK SCHOOL                           COMBINATION ELEMENTARY & SECONDARY   \n",
       "CHRISTIAN LIFE ACADEMY                    COMBINATION ELEMENTARY & SECONDARY   \n",
       "SAINT FRANCIS CATHOLIC HIGH SCHOOL                               SENIOR HIGH   \n",
       "COUNTRYSIDE CHRISTIAN SCHOOL              COMBINATION ELEMENTARY & SECONDARY   \n",
       "TRILOGY SCHOOL OF LEARNING ALTERNATIVE    COMBINATION ELEMENTARY & SECONDARY   \n",
       "MILLHOPPER MONTESSORI SCHOOL                 COMBINATION ELEMENTARY & MIDDLE   \n",
       "BNAI ISRAEL DAY SCHOOL                                            ELEMENTARY   \n",
       "GAINESVILLE CONDUCTIVE EDUCATION ACADEMY  COMBINATION ELEMENTARY & SECONDARY   \n",
       "BRENTWOOD SCHOOL                                                  ELEMENTARY   \n",
       "CORNERSTONE ACADEMY                       COMBINATION ELEMENTARY & SECONDARY   \n",
       "\n",
       "                                          TEACHERS  \n",
       "NAME                                                \n",
       "THE ROCK SCHOOL                               17.9  \n",
       "CHRISTIAN LIFE ACADEMY                         5.9  \n",
       "SAINT FRANCIS CATHOLIC HIGH SCHOOL            19.8  \n",
       "COUNTRYSIDE CHRISTIAN SCHOOL                   6.5  \n",
       "TRILOGY SCHOOL OF LEARNING ALTERNATIVE        11.5  \n",
       "MILLHOPPER MONTESSORI SCHOOL                  19.1  \n",
       "BNAI ISRAEL DAY SCHOOL                         0.0  \n",
       "GAINESVILLE CONDUCTIVE EDUCATION ACADEMY       0.0  \n",
       "BRENTWOOD SCHOOL                              10.8  \n",
       "CORNERSTONE ACADEMY                           24.8  "
      ]
     },
     "execution_count": 40,
     "metadata": {},
     "output_type": "execute_result"
    }
   ],
   "source": [
    "school_df.iloc[10:20, 1:4]"
   ]
  },
  {
   "cell_type": "code",
   "execution_count": 41,
   "metadata": {},
   "outputs": [
    {
     "data": {
      "text/plain": [
       "207.0"
      ]
     },
     "execution_count": 41,
     "metadata": {},
     "output_type": "execute_result"
    }
   ],
   "source": [
    "school_df.loc['THE ROCK SCHOOL', 'ENROLLMENT']"
   ]
  },
  {
   "cell_type": "markdown",
   "metadata": {},
   "source": [
    "## 4. Selection query on pandas DataFrame\n",
    "\n",
    "A single condition returns a Series of booleans again with the same index"
   ]
  },
  {
   "cell_type": "code",
   "execution_count": 42,
   "metadata": {},
   "outputs": [
    {
     "data": {
      "text/plain": [
       "NAME\n",
       "GRACE CHRISTIAN SCHOOL OF ALACHUA CO.                                                               False\n",
       "FAMILY LIFE ACADEMY                                                                                 False\n",
       "FOREST GROVE CHRISTIAN ACADEMY                                                                       True\n",
       "VAISHNAVA ACADEMY FOR GIRLS                                                                          True\n",
       "BHAKTIVEDANTA ACADEMY                                                                               False\n",
       "                                                                                                    ...  \n",
       "SANTA FE COLLEGE - CHARLES L BLOUNT DOWNTOWN CENTER                                                 False\n",
       "SANTA FE COLLEGE - KIRKPATRICK CENTER                                                               False\n",
       "ALACHUA COUNTY JAIL                                                                                 False\n",
       "ALACHUA  COUNTY STUDENT SERVICES/ MIGRANT/ VIRTUAL PROGRAM/ MCKAY SCHOLARSHIP/ HOMEBOUND PROGRAM    False\n",
       "OAK HALL LOWER SCHOOL                                                                                True\n",
       "Name: ENROLLMENT, Length: 112, dtype: bool"
      ]
     },
     "execution_count": 42,
     "metadata": {},
     "output_type": "execute_result"
    }
   ],
   "source": [
    "school_df[\"ENROLLMENT\"] > 0"
   ]
  },
  {
   "cell_type": "code",
   "execution_count": 43,
   "metadata": {},
   "outputs": [
    {
     "data": {
      "text/plain": [
       "NAME\n",
       "GRACE CHRISTIAN SCHOOL OF ALACHUA CO.     0.0\n",
       "FAMILY LIFE ACADEMY                       0.0\n",
       "FOREST GROVE CHRISTIAN ACADEMY           53.0\n",
       "VAISHNAVA ACADEMY FOR GIRLS              19.0\n",
       "BHAKTIVEDANTA ACADEMY                     0.0\n",
       "Name: ENROLLMENT, dtype: float64"
      ]
     },
     "execution_count": 43,
     "metadata": {},
     "output_type": "execute_result"
    }
   ],
   "source": [
    "school_df.ENROLLMENT.head()"
   ]
  },
  {
   "cell_type": "code",
   "execution_count": 44,
   "metadata": {},
   "outputs": [
    {
     "data": {
      "text/plain": [
       "True"
      ]
     },
     "execution_count": 44,
     "metadata": {},
     "output_type": "execute_result"
    }
   ],
   "source": [
    "school_df.ENROLLMENT.index.name == school_df.index.name"
   ]
  },
  {
   "cell_type": "code",
   "execution_count": 45,
   "metadata": {},
   "outputs": [
    {
     "data": {
      "text/plain": [
       "array(['GRACE CHRISTIAN SCHOOL OF ALACHUA CO.', 'FAMILY LIFE ACADEMY',\n",
       "       'FOREST GROVE CHRISTIAN ACADEMY', 'VAISHNAVA ACADEMY FOR GIRLS',\n",
       "       'BHAKTIVEDANTA ACADEMY', 'DESTINY CHRISTIAN ACADEMY',\n",
       "       'INCAF MONTESSORI SCHOOL',\n",
       "       'GREAT AMERICAN VISIONS ENTERPRISES,INC',\n",
       "       'JORDAN GLEN SCHOOL INC.', 'QUEEN OF PEACE CATHOLIC ACADEMY',\n",
       "       'THE ROCK SCHOOL', 'CHRISTIAN LIFE ACADEMY',\n",
       "       'SAINT FRANCIS CATHOLIC HIGH SCHOOL',\n",
       "       'COUNTRYSIDE CHRISTIAN SCHOOL',\n",
       "       'TRILOGY SCHOOL OF LEARNING ALTERNATIVE',\n",
       "       'MILLHOPPER MONTESSORI SCHOOL', 'BNAI ISRAEL DAY SCHOOL',\n",
       "       'GAINESVILLE CONDUCTIVE EDUCATION ACADEMY', 'BRENTWOOD SCHOOL',\n",
       "       'CORNERSTONE ACADEMY', 'WESTWOOD HILLS CHRISTIAN SCHOOL',\n",
       "       'FLOWERS MONTESSORI SCHOOL', 'Z.L. SUNG S.D.A. SCHOOL',\n",
       "       'GAINESVILLE CONDUCTIVE EDUCATION ACADEMY',\n",
       "       'KIDS N ALL CHRISTIAN ACADEMY', 'OAK HALL SCHOOL',\n",
       "       'FREEDOM CHRISTIAN ACADEMY', 'GAINESVILLE COUNTRY DAY SCHOOL',\n",
       "       'FAITH TABERNACLE OF PRAISE SCHOOL OF MINISTRY',\n",
       "       \"THE CHILDREN'S CENTER\", 'CITY COLLEGE',\n",
       "       'SAINT PATRICK INTERPARISH SCHOOL',\n",
       "       'STAR CHRISTIAN CENTER AND ACADEMY',\n",
       "       'COMPASSIONATE OUTREACH MINISTRIES', 'WINDSOR CHRISTIAN ACADEMY',\n",
       "       'OAK HILL COMMUNITY PRIVATE SCHOOL SYSTEM',\n",
       "       'NORTH FLORIDA SDA ELEMENTARY',\n",
       "       'MICANOPY AREA COOPERATIVE SCHOOL, INC.',\n",
       "       'ARCHER COMMUNITY SCHOOL', 'SANTA FE COLLEGE - DAVIS CENTER',\n",
       "       'MICANOPY MIDDLE SCHOOL, INC.', 'OAK VIEW MIDDLE SCHOOL',\n",
       "       'NEWBERRY ELEMENTARY SCHOOL', 'NEWBERRY HIGH SCHOOL',\n",
       "       'HIGH SPRINGS COMMUNITY - ELEMENTARY AND MIDDLE SCHOOL',\n",
       "       'UNIVERSITY OF FLORIDA - COMPARITIVE MEDICINE',\n",
       "       'NORTH AMERICAN FAMILY INSTITUTE ALACHUA ACADEMY', 'PACE',\n",
       "       'HOSPITAL HOMEBOUND', 'SWEETWATER BRANCH ACADEMY',\n",
       "       'PROFESSIONAL ACADEMY MAGNET AT LOFTEN HIGH SCHOOL',\n",
       "       'SANTA FE HIGH SCHOOL', 'MEBANE MIDDLE SCHOOL',\n",
       "       'ALACHUA LEARNING CENTER - PUBLIC CHARTER SCHOOL',\n",
       "       'IRBY ELEMENTARY SCHOOL', 'ALACHUA ELEMENTARY SCHOOL',\n",
       "       'UNIVERSITY OF FLORIDA', 'UNIVERSITY OF FLORIDA - AGRONOMY LAB',\n",
       "       'SANTA FE COLLEGE - NORTHWEST CAMPUS', 'BUCHHOLZ HIGH SCHOOL',\n",
       "       'FINLEY ELEMENTARY SCHOOL',\n",
       "       'P.K. YONGE DEVELOPMENTAL RESEARCH SCHOOL',\n",
       "       'CHILES ELEMENTARY SCHOOL', 'FT CLARKE MIDDLE SCHOOL',\n",
       "       'HIDDEN OAK ELEMENTARY SCHOOL', 'TERWILLIGER ELEMENTARY SCHOOL',\n",
       "       'TALBOT ELEMENTARY SCHOOL', 'NORTON ELEMENTARY SCHOOL',\n",
       "       'LITTLEWOOD ELEMENTARY SCHOOL', 'WESTWOOD MIDDLE SCHOOL',\n",
       "       'HEALTHY LEARNING ACADEMY CHARTER SCHOOL',\n",
       "       'GLEN SPRINGS ELEMENTARY SCHOOL', 'GAINESVILLE HIGH SCHOOL',\n",
       "       'FOSTER ELEMENTARY SCHOOL', 'GENESIS PREPARATORY SCHOOL',\n",
       "       'LANIER CENTER & ANCHOR CENTER', 'UNIVERSITY OF FLORIDA',\n",
       "       'A. QUINN JONES CENTER', 'CHARACTER COUNTS CENTER',\n",
       "       'SANTA FE COMMUNITY COLLEGE', 'KANAPAHA MIDDLE SCHOOL',\n",
       "       'WILES ELEMENTARY SCHOOL',\n",
       "       'FAMILY PROGRESS CENTER - WILES HEAD START',\n",
       "       'EINSTEIN MONTESSORI SCHOOL',\n",
       "       'IDYLWILD ELEMENTARY SCHOOL AND MULTI-COUNTY MIGRANT PROGRAM',\n",
       "       'EXPRESSIONS LEARNING ARTS ACADEMY',\n",
       "       'GAINESVILLE WILDERNESS INSTITUTE',\n",
       "       'CARING & SHARING LEARNING SCHOOL',\n",
       "       'PRAIRIE VIEW ELEMENTARY SCHOOL', 'LINCOLN MIDDLE SCHOOL',\n",
       "       'WILLIAMS ELEMENTARY SCHOOL',\n",
       "       'ALACHUA COUNTY SUPERINTENDENT OFFICE - KIRBY-SMITH CENTER',\n",
       "       'DUVAL ELEMENTARY SCHOOL', 'BISHOP MIDDLE SCHOOL',\n",
       "       'METCALFE ELEMENTARY SCHOOL', 'THE ONE ROOM SCHOOL HOUSE PROJECT',\n",
       "       'RAWLINGS ELEMENTARY SCHOOL',\n",
       "       'FEARNSIDE FAMILY SERVICES CENTER AND HEAD START / PREK E I CENTER',\n",
       "       'HOGGETOWNE MIDDLE SCHOOL', 'HORIZON CENTER. ALTERNATIVE SCHOOL',\n",
       "       'LAKE FOREST ELEMENTARY SCHOOL', 'EASTSIDE HIGH SCHOOL',\n",
       "       'FLORIDA SIATECH AT GAINESVILLE,INC.', 'SHELL ELEMENTARY SCHOOL',\n",
       "       'HAWTHORNE JR/SR HIGH SCHOOL', 'WALDO COMMUNITY SCHOOL',\n",
       "       'UNIVERSITY OF FLORIDA',\n",
       "       'SANTA FE COLLEGE - CHARLES L BLOUNT DOWNTOWN CENTER',\n",
       "       'SANTA FE COLLEGE - KIRKPATRICK CENTER', 'ALACHUA COUNTY JAIL',\n",
       "       'ALACHUA  COUNTY STUDENT SERVICES/ MIGRANT/ VIRTUAL PROGRAM/ MCKAY SCHOLARSHIP/ HOMEBOUND PROGRAM',\n",
       "       'OAK HALL LOWER SCHOOL'], dtype=object)"
      ]
     },
     "execution_count": 45,
     "metadata": {},
     "output_type": "execute_result"
    }
   ],
   "source": [
    "school_df.index.values"
   ]
  },
  {
   "cell_type": "code",
   "execution_count": 46,
   "metadata": {},
   "outputs": [
    {
     "data": {
      "text/html": [
       "<div>\n",
       "<style scoped>\n",
       "    .dataframe tbody tr th:only-of-type {\n",
       "        vertical-align: middle;\n",
       "    }\n",
       "\n",
       "    .dataframe tbody tr th {\n",
       "        vertical-align: top;\n",
       "    }\n",
       "\n",
       "    .dataframe thead th {\n",
       "        text-align: right;\n",
       "    }\n",
       "</style>\n",
       "<table border=\"1\" class=\"dataframe\">\n",
       "  <thead>\n",
       "    <tr style=\"text-align: right;\">\n",
       "      <th></th>\n",
       "      <th>OP_CLASS</th>\n",
       "      <th>ENROLLMENT</th>\n",
       "      <th>TYPE</th>\n",
       "      <th>TEACHERS</th>\n",
       "    </tr>\n",
       "    <tr>\n",
       "      <th>NAME</th>\n",
       "      <th></th>\n",
       "      <th></th>\n",
       "      <th></th>\n",
       "      <th></th>\n",
       "    </tr>\n",
       "  </thead>\n",
       "  <tbody>\n",
       "    <tr>\n",
       "      <th>FOREST GROVE CHRISTIAN ACADEMY</th>\n",
       "      <td>PRIVATE</td>\n",
       "      <td>53.0</td>\n",
       "      <td>COMBINATION ELEMENTARY &amp; SECONDARY</td>\n",
       "      <td>9.4</td>\n",
       "    </tr>\n",
       "    <tr>\n",
       "      <th>VAISHNAVA ACADEMY FOR GIRLS</th>\n",
       "      <td>PRIVATE</td>\n",
       "      <td>19.0</td>\n",
       "      <td>COMBINATION JR. HIGH &amp; SENIOR HIGH</td>\n",
       "      <td>0.0</td>\n",
       "    </tr>\n",
       "    <tr>\n",
       "      <th>JORDAN GLEN SCHOOL INC.</th>\n",
       "      <td>PRIVATE</td>\n",
       "      <td>115.0</td>\n",
       "      <td>COMBINATION ELEMENTARY &amp; MIDDLE</td>\n",
       "      <td>14.5</td>\n",
       "    </tr>\n",
       "    <tr>\n",
       "      <th>QUEEN OF PEACE CATHOLIC ACADEMY</th>\n",
       "      <td>PRIVATE</td>\n",
       "      <td>358.0</td>\n",
       "      <td>COMBINATION ELEMENTARY &amp; MIDDLE</td>\n",
       "      <td>28.4</td>\n",
       "    </tr>\n",
       "    <tr>\n",
       "      <th>THE ROCK SCHOOL</th>\n",
       "      <td>PRIVATE</td>\n",
       "      <td>207.0</td>\n",
       "      <td>COMBINATION ELEMENTARY &amp; SECONDARY</td>\n",
       "      <td>17.9</td>\n",
       "    </tr>\n",
       "    <tr>\n",
       "      <th>...</th>\n",
       "      <td>...</td>\n",
       "      <td>...</td>\n",
       "      <td>...</td>\n",
       "      <td>...</td>\n",
       "    </tr>\n",
       "    <tr>\n",
       "      <th>FLORIDA SIATECH AT GAINESVILLE,INC.</th>\n",
       "      <td>PUBLIC</td>\n",
       "      <td>202.0</td>\n",
       "      <td>SENIOR HIGH</td>\n",
       "      <td>5.0</td>\n",
       "    </tr>\n",
       "    <tr>\n",
       "      <th>SHELL ELEMENTARY SCHOOL</th>\n",
       "      <td>PUBLIC</td>\n",
       "      <td>193.0</td>\n",
       "      <td>ELEMENTARY</td>\n",
       "      <td>16.0</td>\n",
       "    </tr>\n",
       "    <tr>\n",
       "      <th>HAWTHORNE JR/SR HIGH SCHOOL</th>\n",
       "      <td>PUBLIC</td>\n",
       "      <td>395.0</td>\n",
       "      <td>COMBINATION JR. HIGH &amp; SENIOR HIGH</td>\n",
       "      <td>23.0</td>\n",
       "    </tr>\n",
       "    <tr>\n",
       "      <th>WALDO COMMUNITY SCHOOL</th>\n",
       "      <td>PUBLIC</td>\n",
       "      <td>215.0</td>\n",
       "      <td>ELEMENTARY</td>\n",
       "      <td>17.0</td>\n",
       "    </tr>\n",
       "    <tr>\n",
       "      <th>OAK HALL LOWER SCHOOL</th>\n",
       "      <td>PRIVATE</td>\n",
       "      <td>365.0</td>\n",
       "      <td>ELEMENTARY</td>\n",
       "      <td>16.0</td>\n",
       "    </tr>\n",
       "  </tbody>\n",
       "</table>\n",
       "<p>84 rows × 4 columns</p>\n",
       "</div>"
      ],
      "text/plain": [
       "                                    OP_CLASS  ENROLLMENT  \\\n",
       "NAME                                                       \n",
       "FOREST GROVE CHRISTIAN ACADEMY       PRIVATE        53.0   \n",
       "VAISHNAVA ACADEMY FOR GIRLS          PRIVATE        19.0   \n",
       "JORDAN GLEN SCHOOL INC.              PRIVATE       115.0   \n",
       "QUEEN OF PEACE CATHOLIC ACADEMY      PRIVATE       358.0   \n",
       "THE ROCK SCHOOL                      PRIVATE       207.0   \n",
       "...                                      ...         ...   \n",
       "FLORIDA SIATECH AT GAINESVILLE,INC.   PUBLIC       202.0   \n",
       "SHELL ELEMENTARY SCHOOL               PUBLIC       193.0   \n",
       "HAWTHORNE JR/SR HIGH SCHOOL           PUBLIC       395.0   \n",
       "WALDO COMMUNITY SCHOOL                PUBLIC       215.0   \n",
       "OAK HALL LOWER SCHOOL                PRIVATE       365.0   \n",
       "\n",
       "                                                                   TYPE  \\\n",
       "NAME                                                                      \n",
       "FOREST GROVE CHRISTIAN ACADEMY       COMBINATION ELEMENTARY & SECONDARY   \n",
       "VAISHNAVA ACADEMY FOR GIRLS          COMBINATION JR. HIGH & SENIOR HIGH   \n",
       "JORDAN GLEN SCHOOL INC.                 COMBINATION ELEMENTARY & MIDDLE   \n",
       "QUEEN OF PEACE CATHOLIC ACADEMY         COMBINATION ELEMENTARY & MIDDLE   \n",
       "THE ROCK SCHOOL                      COMBINATION ELEMENTARY & SECONDARY   \n",
       "...                                                                 ...   \n",
       "FLORIDA SIATECH AT GAINESVILLE,INC.                         SENIOR HIGH   \n",
       "SHELL ELEMENTARY SCHOOL                                      ELEMENTARY   \n",
       "HAWTHORNE JR/SR HIGH SCHOOL          COMBINATION JR. HIGH & SENIOR HIGH   \n",
       "WALDO COMMUNITY SCHOOL                                       ELEMENTARY   \n",
       "OAK HALL LOWER SCHOOL                                        ELEMENTARY   \n",
       "\n",
       "                                     TEACHERS  \n",
       "NAME                                           \n",
       "FOREST GROVE CHRISTIAN ACADEMY            9.4  \n",
       "VAISHNAVA ACADEMY FOR GIRLS               0.0  \n",
       "JORDAN GLEN SCHOOL INC.                  14.5  \n",
       "QUEEN OF PEACE CATHOLIC ACADEMY          28.4  \n",
       "THE ROCK SCHOOL                          17.9  \n",
       "...                                       ...  \n",
       "FLORIDA SIATECH AT GAINESVILLE,INC.       5.0  \n",
       "SHELL ELEMENTARY SCHOOL                  16.0  \n",
       "HAWTHORNE JR/SR HIGH SCHOOL              23.0  \n",
       "WALDO COMMUNITY SCHOOL                   17.0  \n",
       "OAK HALL LOWER SCHOOL                    16.0  \n",
       "\n",
       "[84 rows x 4 columns]"
      ]
     },
     "execution_count": 46,
     "metadata": {},
     "output_type": "execute_result"
    }
   ],
   "source": [
    "school_df.loc[school_df[\"ENROLLMENT\"] > 0] # with loc (recommeneded)"
   ]
  },
  {
   "cell_type": "code",
   "execution_count": 47,
   "metadata": {},
   "outputs": [
    {
     "data": {
      "text/html": [
       "<div>\n",
       "<style scoped>\n",
       "    .dataframe tbody tr th:only-of-type {\n",
       "        vertical-align: middle;\n",
       "    }\n",
       "\n",
       "    .dataframe tbody tr th {\n",
       "        vertical-align: top;\n",
       "    }\n",
       "\n",
       "    .dataframe thead th {\n",
       "        text-align: right;\n",
       "    }\n",
       "</style>\n",
       "<table border=\"1\" class=\"dataframe\">\n",
       "  <thead>\n",
       "    <tr style=\"text-align: right;\">\n",
       "      <th></th>\n",
       "      <th>OP_CLASS</th>\n",
       "      <th>ENROLLMENT</th>\n",
       "      <th>TYPE</th>\n",
       "      <th>TEACHERS</th>\n",
       "    </tr>\n",
       "    <tr>\n",
       "      <th>NAME</th>\n",
       "      <th></th>\n",
       "      <th></th>\n",
       "      <th></th>\n",
       "      <th></th>\n",
       "    </tr>\n",
       "  </thead>\n",
       "  <tbody>\n",
       "    <tr>\n",
       "      <th>FOREST GROVE CHRISTIAN ACADEMY</th>\n",
       "      <td>PRIVATE</td>\n",
       "      <td>53.0</td>\n",
       "      <td>COMBINATION ELEMENTARY &amp; SECONDARY</td>\n",
       "      <td>9.4</td>\n",
       "    </tr>\n",
       "    <tr>\n",
       "      <th>VAISHNAVA ACADEMY FOR GIRLS</th>\n",
       "      <td>PRIVATE</td>\n",
       "      <td>19.0</td>\n",
       "      <td>COMBINATION JR. HIGH &amp; SENIOR HIGH</td>\n",
       "      <td>0.0</td>\n",
       "    </tr>\n",
       "    <tr>\n",
       "      <th>JORDAN GLEN SCHOOL INC.</th>\n",
       "      <td>PRIVATE</td>\n",
       "      <td>115.0</td>\n",
       "      <td>COMBINATION ELEMENTARY &amp; MIDDLE</td>\n",
       "      <td>14.5</td>\n",
       "    </tr>\n",
       "    <tr>\n",
       "      <th>QUEEN OF PEACE CATHOLIC ACADEMY</th>\n",
       "      <td>PRIVATE</td>\n",
       "      <td>358.0</td>\n",
       "      <td>COMBINATION ELEMENTARY &amp; MIDDLE</td>\n",
       "      <td>28.4</td>\n",
       "    </tr>\n",
       "    <tr>\n",
       "      <th>THE ROCK SCHOOL</th>\n",
       "      <td>PRIVATE</td>\n",
       "      <td>207.0</td>\n",
       "      <td>COMBINATION ELEMENTARY &amp; SECONDARY</td>\n",
       "      <td>17.9</td>\n",
       "    </tr>\n",
       "    <tr>\n",
       "      <th>...</th>\n",
       "      <td>...</td>\n",
       "      <td>...</td>\n",
       "      <td>...</td>\n",
       "      <td>...</td>\n",
       "    </tr>\n",
       "    <tr>\n",
       "      <th>FLORIDA SIATECH AT GAINESVILLE,INC.</th>\n",
       "      <td>PUBLIC</td>\n",
       "      <td>202.0</td>\n",
       "      <td>SENIOR HIGH</td>\n",
       "      <td>5.0</td>\n",
       "    </tr>\n",
       "    <tr>\n",
       "      <th>SHELL ELEMENTARY SCHOOL</th>\n",
       "      <td>PUBLIC</td>\n",
       "      <td>193.0</td>\n",
       "      <td>ELEMENTARY</td>\n",
       "      <td>16.0</td>\n",
       "    </tr>\n",
       "    <tr>\n",
       "      <th>HAWTHORNE JR/SR HIGH SCHOOL</th>\n",
       "      <td>PUBLIC</td>\n",
       "      <td>395.0</td>\n",
       "      <td>COMBINATION JR. HIGH &amp; SENIOR HIGH</td>\n",
       "      <td>23.0</td>\n",
       "    </tr>\n",
       "    <tr>\n",
       "      <th>WALDO COMMUNITY SCHOOL</th>\n",
       "      <td>PUBLIC</td>\n",
       "      <td>215.0</td>\n",
       "      <td>ELEMENTARY</td>\n",
       "      <td>17.0</td>\n",
       "    </tr>\n",
       "    <tr>\n",
       "      <th>OAK HALL LOWER SCHOOL</th>\n",
       "      <td>PRIVATE</td>\n",
       "      <td>365.0</td>\n",
       "      <td>ELEMENTARY</td>\n",
       "      <td>16.0</td>\n",
       "    </tr>\n",
       "  </tbody>\n",
       "</table>\n",
       "<p>84 rows × 4 columns</p>\n",
       "</div>"
      ],
      "text/plain": [
       "                                    OP_CLASS  ENROLLMENT  \\\n",
       "NAME                                                       \n",
       "FOREST GROVE CHRISTIAN ACADEMY       PRIVATE        53.0   \n",
       "VAISHNAVA ACADEMY FOR GIRLS          PRIVATE        19.0   \n",
       "JORDAN GLEN SCHOOL INC.              PRIVATE       115.0   \n",
       "QUEEN OF PEACE CATHOLIC ACADEMY      PRIVATE       358.0   \n",
       "THE ROCK SCHOOL                      PRIVATE       207.0   \n",
       "...                                      ...         ...   \n",
       "FLORIDA SIATECH AT GAINESVILLE,INC.   PUBLIC       202.0   \n",
       "SHELL ELEMENTARY SCHOOL               PUBLIC       193.0   \n",
       "HAWTHORNE JR/SR HIGH SCHOOL           PUBLIC       395.0   \n",
       "WALDO COMMUNITY SCHOOL                PUBLIC       215.0   \n",
       "OAK HALL LOWER SCHOOL                PRIVATE       365.0   \n",
       "\n",
       "                                                                   TYPE  \\\n",
       "NAME                                                                      \n",
       "FOREST GROVE CHRISTIAN ACADEMY       COMBINATION ELEMENTARY & SECONDARY   \n",
       "VAISHNAVA ACADEMY FOR GIRLS          COMBINATION JR. HIGH & SENIOR HIGH   \n",
       "JORDAN GLEN SCHOOL INC.                 COMBINATION ELEMENTARY & MIDDLE   \n",
       "QUEEN OF PEACE CATHOLIC ACADEMY         COMBINATION ELEMENTARY & MIDDLE   \n",
       "THE ROCK SCHOOL                      COMBINATION ELEMENTARY & SECONDARY   \n",
       "...                                                                 ...   \n",
       "FLORIDA SIATECH AT GAINESVILLE,INC.                         SENIOR HIGH   \n",
       "SHELL ELEMENTARY SCHOOL                                      ELEMENTARY   \n",
       "HAWTHORNE JR/SR HIGH SCHOOL          COMBINATION JR. HIGH & SENIOR HIGH   \n",
       "WALDO COMMUNITY SCHOOL                                       ELEMENTARY   \n",
       "OAK HALL LOWER SCHOOL                                        ELEMENTARY   \n",
       "\n",
       "                                     TEACHERS  \n",
       "NAME                                           \n",
       "FOREST GROVE CHRISTIAN ACADEMY            9.4  \n",
       "VAISHNAVA ACADEMY FOR GIRLS               0.0  \n",
       "JORDAN GLEN SCHOOL INC.                  14.5  \n",
       "QUEEN OF PEACE CATHOLIC ACADEMY          28.4  \n",
       "THE ROCK SCHOOL                          17.9  \n",
       "...                                       ...  \n",
       "FLORIDA SIATECH AT GAINESVILLE,INC.       5.0  \n",
       "SHELL ELEMENTARY SCHOOL                  16.0  \n",
       "HAWTHORNE JR/SR HIGH SCHOOL              23.0  \n",
       "WALDO COMMUNITY SCHOOL                   17.0  \n",
       "OAK HALL LOWER SCHOOL                    16.0  \n",
       "\n",
       "[84 rows x 4 columns]"
      ]
     },
     "execution_count": 47,
     "metadata": {},
     "output_type": "execute_result"
    }
   ],
   "source": [
    "school_df[school_df[\"ENROLLMENT\"] > 0] # without loc"
   ]
  },
  {
   "cell_type": "markdown",
   "metadata": {},
   "source": [
    "For multiple conditions, use **parentheses** to enclose each criterion\n",
    "\n",
    "- **AND** operation: `&`\n",
    "- **OR** operation: `|`"
   ]
  },
  {
   "cell_type": "code",
   "execution_count": 48,
   "metadata": {},
   "outputs": [
    {
     "data": {
      "text/html": [
       "<div>\n",
       "<style scoped>\n",
       "    .dataframe tbody tr th:only-of-type {\n",
       "        vertical-align: middle;\n",
       "    }\n",
       "\n",
       "    .dataframe tbody tr th {\n",
       "        vertical-align: top;\n",
       "    }\n",
       "\n",
       "    .dataframe thead th {\n",
       "        text-align: right;\n",
       "    }\n",
       "</style>\n",
       "<table border=\"1\" class=\"dataframe\">\n",
       "  <thead>\n",
       "    <tr style=\"text-align: right;\">\n",
       "      <th></th>\n",
       "      <th>OP_CLASS</th>\n",
       "      <th>ENROLLMENT</th>\n",
       "      <th>TYPE</th>\n",
       "      <th>TEACHERS</th>\n",
       "    </tr>\n",
       "    <tr>\n",
       "      <th>NAME</th>\n",
       "      <th></th>\n",
       "      <th></th>\n",
       "      <th></th>\n",
       "      <th></th>\n",
       "    </tr>\n",
       "  </thead>\n",
       "  <tbody>\n",
       "    <tr>\n",
       "      <th>FOREST GROVE CHRISTIAN ACADEMY</th>\n",
       "      <td>PRIVATE</td>\n",
       "      <td>53.0</td>\n",
       "      <td>COMBINATION ELEMENTARY &amp; SECONDARY</td>\n",
       "      <td>9.4</td>\n",
       "    </tr>\n",
       "    <tr>\n",
       "      <th>JORDAN GLEN SCHOOL INC.</th>\n",
       "      <td>PRIVATE</td>\n",
       "      <td>115.0</td>\n",
       "      <td>COMBINATION ELEMENTARY &amp; MIDDLE</td>\n",
       "      <td>14.5</td>\n",
       "    </tr>\n",
       "    <tr>\n",
       "      <th>QUEEN OF PEACE CATHOLIC ACADEMY</th>\n",
       "      <td>PRIVATE</td>\n",
       "      <td>358.0</td>\n",
       "      <td>COMBINATION ELEMENTARY &amp; MIDDLE</td>\n",
       "      <td>28.4</td>\n",
       "    </tr>\n",
       "    <tr>\n",
       "      <th>THE ROCK SCHOOL</th>\n",
       "      <td>PRIVATE</td>\n",
       "      <td>207.0</td>\n",
       "      <td>COMBINATION ELEMENTARY &amp; SECONDARY</td>\n",
       "      <td>17.9</td>\n",
       "    </tr>\n",
       "    <tr>\n",
       "      <th>CHRISTIAN LIFE ACADEMY</th>\n",
       "      <td>PRIVATE</td>\n",
       "      <td>52.0</td>\n",
       "      <td>COMBINATION ELEMENTARY &amp; SECONDARY</td>\n",
       "      <td>5.9</td>\n",
       "    </tr>\n",
       "    <tr>\n",
       "      <th>...</th>\n",
       "      <td>...</td>\n",
       "      <td>...</td>\n",
       "      <td>...</td>\n",
       "      <td>...</td>\n",
       "    </tr>\n",
       "    <tr>\n",
       "      <th>FLORIDA SIATECH AT GAINESVILLE,INC.</th>\n",
       "      <td>PUBLIC</td>\n",
       "      <td>202.0</td>\n",
       "      <td>SENIOR HIGH</td>\n",
       "      <td>5.0</td>\n",
       "    </tr>\n",
       "    <tr>\n",
       "      <th>SHELL ELEMENTARY SCHOOL</th>\n",
       "      <td>PUBLIC</td>\n",
       "      <td>193.0</td>\n",
       "      <td>ELEMENTARY</td>\n",
       "      <td>16.0</td>\n",
       "    </tr>\n",
       "    <tr>\n",
       "      <th>HAWTHORNE JR/SR HIGH SCHOOL</th>\n",
       "      <td>PUBLIC</td>\n",
       "      <td>395.0</td>\n",
       "      <td>COMBINATION JR. HIGH &amp; SENIOR HIGH</td>\n",
       "      <td>23.0</td>\n",
       "    </tr>\n",
       "    <tr>\n",
       "      <th>WALDO COMMUNITY SCHOOL</th>\n",
       "      <td>PUBLIC</td>\n",
       "      <td>215.0</td>\n",
       "      <td>ELEMENTARY</td>\n",
       "      <td>17.0</td>\n",
       "    </tr>\n",
       "    <tr>\n",
       "      <th>OAK HALL LOWER SCHOOL</th>\n",
       "      <td>PRIVATE</td>\n",
       "      <td>365.0</td>\n",
       "      <td>ELEMENTARY</td>\n",
       "      <td>16.0</td>\n",
       "    </tr>\n",
       "  </tbody>\n",
       "</table>\n",
       "<p>76 rows × 4 columns</p>\n",
       "</div>"
      ],
      "text/plain": [
       "                                    OP_CLASS  ENROLLMENT  \\\n",
       "NAME                                                       \n",
       "FOREST GROVE CHRISTIAN ACADEMY       PRIVATE        53.0   \n",
       "JORDAN GLEN SCHOOL INC.              PRIVATE       115.0   \n",
       "QUEEN OF PEACE CATHOLIC ACADEMY      PRIVATE       358.0   \n",
       "THE ROCK SCHOOL                      PRIVATE       207.0   \n",
       "CHRISTIAN LIFE ACADEMY               PRIVATE        52.0   \n",
       "...                                      ...         ...   \n",
       "FLORIDA SIATECH AT GAINESVILLE,INC.   PUBLIC       202.0   \n",
       "SHELL ELEMENTARY SCHOOL               PUBLIC       193.0   \n",
       "HAWTHORNE JR/SR HIGH SCHOOL           PUBLIC       395.0   \n",
       "WALDO COMMUNITY SCHOOL                PUBLIC       215.0   \n",
       "OAK HALL LOWER SCHOOL                PRIVATE       365.0   \n",
       "\n",
       "                                                                   TYPE  \\\n",
       "NAME                                                                      \n",
       "FOREST GROVE CHRISTIAN ACADEMY       COMBINATION ELEMENTARY & SECONDARY   \n",
       "JORDAN GLEN SCHOOL INC.                 COMBINATION ELEMENTARY & MIDDLE   \n",
       "QUEEN OF PEACE CATHOLIC ACADEMY         COMBINATION ELEMENTARY & MIDDLE   \n",
       "THE ROCK SCHOOL                      COMBINATION ELEMENTARY & SECONDARY   \n",
       "CHRISTIAN LIFE ACADEMY               COMBINATION ELEMENTARY & SECONDARY   \n",
       "...                                                                 ...   \n",
       "FLORIDA SIATECH AT GAINESVILLE,INC.                         SENIOR HIGH   \n",
       "SHELL ELEMENTARY SCHOOL                                      ELEMENTARY   \n",
       "HAWTHORNE JR/SR HIGH SCHOOL          COMBINATION JR. HIGH & SENIOR HIGH   \n",
       "WALDO COMMUNITY SCHOOL                                       ELEMENTARY   \n",
       "OAK HALL LOWER SCHOOL                                        ELEMENTARY   \n",
       "\n",
       "                                     TEACHERS  \n",
       "NAME                                           \n",
       "FOREST GROVE CHRISTIAN ACADEMY            9.4  \n",
       "JORDAN GLEN SCHOOL INC.                  14.5  \n",
       "QUEEN OF PEACE CATHOLIC ACADEMY          28.4  \n",
       "THE ROCK SCHOOL                          17.9  \n",
       "CHRISTIAN LIFE ACADEMY                    5.9  \n",
       "...                                       ...  \n",
       "FLORIDA SIATECH AT GAINESVILLE,INC.       5.0  \n",
       "SHELL ELEMENTARY SCHOOL                  16.0  \n",
       "HAWTHORNE JR/SR HIGH SCHOOL              23.0  \n",
       "WALDO COMMUNITY SCHOOL                   17.0  \n",
       "OAK HALL LOWER SCHOOL                    16.0  \n",
       "\n",
       "[76 rows x 4 columns]"
      ]
     },
     "execution_count": 48,
     "metadata": {},
     "output_type": "execute_result"
    }
   ],
   "source": [
    "school_df[(school_df[\"ENROLLMENT\"] > 0) & (school_df[\"TEACHERS\"] > 0)] # positive enrollment and positive # teachers"
   ]
  },
  {
   "cell_type": "code",
   "execution_count": 49,
   "metadata": {
    "scrolled": false
   },
   "outputs": [
    {
     "data": {
      "text/html": [
       "<div>\n",
       "<style scoped>\n",
       "    .dataframe tbody tr th:only-of-type {\n",
       "        vertical-align: middle;\n",
       "    }\n",
       "\n",
       "    .dataframe tbody tr th {\n",
       "        vertical-align: top;\n",
       "    }\n",
       "\n",
       "    .dataframe thead th {\n",
       "        text-align: right;\n",
       "    }\n",
       "</style>\n",
       "<table border=\"1\" class=\"dataframe\">\n",
       "  <thead>\n",
       "    <tr style=\"text-align: right;\">\n",
       "      <th></th>\n",
       "      <th>OP_CLASS</th>\n",
       "      <th>ENROLLMENT</th>\n",
       "      <th>TYPE</th>\n",
       "      <th>TEACHERS</th>\n",
       "    </tr>\n",
       "    <tr>\n",
       "      <th>NAME</th>\n",
       "      <th></th>\n",
       "      <th></th>\n",
       "      <th></th>\n",
       "      <th></th>\n",
       "    </tr>\n",
       "  </thead>\n",
       "  <tbody>\n",
       "    <tr>\n",
       "      <th>FOREST GROVE CHRISTIAN ACADEMY</th>\n",
       "      <td>PRIVATE</td>\n",
       "      <td>53.0</td>\n",
       "      <td>COMBINATION ELEMENTARY &amp; SECONDARY</td>\n",
       "      <td>9.4</td>\n",
       "    </tr>\n",
       "    <tr>\n",
       "      <th>VAISHNAVA ACADEMY FOR GIRLS</th>\n",
       "      <td>PRIVATE</td>\n",
       "      <td>19.0</td>\n",
       "      <td>COMBINATION JR. HIGH &amp; SENIOR HIGH</td>\n",
       "      <td>0.0</td>\n",
       "    </tr>\n",
       "    <tr>\n",
       "      <th>JORDAN GLEN SCHOOL INC.</th>\n",
       "      <td>PRIVATE</td>\n",
       "      <td>115.0</td>\n",
       "      <td>COMBINATION ELEMENTARY &amp; MIDDLE</td>\n",
       "      <td>14.5</td>\n",
       "    </tr>\n",
       "    <tr>\n",
       "      <th>QUEEN OF PEACE CATHOLIC ACADEMY</th>\n",
       "      <td>PRIVATE</td>\n",
       "      <td>358.0</td>\n",
       "      <td>COMBINATION ELEMENTARY &amp; MIDDLE</td>\n",
       "      <td>28.4</td>\n",
       "    </tr>\n",
       "    <tr>\n",
       "      <th>THE ROCK SCHOOL</th>\n",
       "      <td>PRIVATE</td>\n",
       "      <td>207.0</td>\n",
       "      <td>COMBINATION ELEMENTARY &amp; SECONDARY</td>\n",
       "      <td>17.9</td>\n",
       "    </tr>\n",
       "    <tr>\n",
       "      <th>...</th>\n",
       "      <td>...</td>\n",
       "      <td>...</td>\n",
       "      <td>...</td>\n",
       "      <td>...</td>\n",
       "    </tr>\n",
       "    <tr>\n",
       "      <th>SHELL ELEMENTARY SCHOOL</th>\n",
       "      <td>PUBLIC</td>\n",
       "      <td>193.0</td>\n",
       "      <td>ELEMENTARY</td>\n",
       "      <td>16.0</td>\n",
       "    </tr>\n",
       "    <tr>\n",
       "      <th>HAWTHORNE JR/SR HIGH SCHOOL</th>\n",
       "      <td>PUBLIC</td>\n",
       "      <td>395.0</td>\n",
       "      <td>COMBINATION JR. HIGH &amp; SENIOR HIGH</td>\n",
       "      <td>23.0</td>\n",
       "    </tr>\n",
       "    <tr>\n",
       "      <th>WALDO COMMUNITY SCHOOL</th>\n",
       "      <td>PUBLIC</td>\n",
       "      <td>215.0</td>\n",
       "      <td>ELEMENTARY</td>\n",
       "      <td>17.0</td>\n",
       "    </tr>\n",
       "    <tr>\n",
       "      <th>ALACHUA  COUNTY STUDENT SERVICES/ MIGRANT/ VIRTUAL PROGRAM/ MCKAY SCHOLARSHIP/ HOMEBOUND PROGRAM</th>\n",
       "      <td>PUBLIC</td>\n",
       "      <td>0.0</td>\n",
       "      <td>MIGRANT EDUCATION PROGRAM</td>\n",
       "      <td>4.0</td>\n",
       "    </tr>\n",
       "    <tr>\n",
       "      <th>OAK HALL LOWER SCHOOL</th>\n",
       "      <td>PRIVATE</td>\n",
       "      <td>365.0</td>\n",
       "      <td>ELEMENTARY</td>\n",
       "      <td>16.0</td>\n",
       "    </tr>\n",
       "  </tbody>\n",
       "</table>\n",
       "<p>86 rows × 4 columns</p>\n",
       "</div>"
      ],
      "text/plain": [
       "                                                   OP_CLASS  ENROLLMENT  \\\n",
       "NAME                                                                      \n",
       "FOREST GROVE CHRISTIAN ACADEMY                      PRIVATE        53.0   \n",
       "VAISHNAVA ACADEMY FOR GIRLS                         PRIVATE        19.0   \n",
       "JORDAN GLEN SCHOOL INC.                             PRIVATE       115.0   \n",
       "QUEEN OF PEACE CATHOLIC ACADEMY                     PRIVATE       358.0   \n",
       "THE ROCK SCHOOL                                     PRIVATE       207.0   \n",
       "...                                                     ...         ...   \n",
       "SHELL ELEMENTARY SCHOOL                              PUBLIC       193.0   \n",
       "HAWTHORNE JR/SR HIGH SCHOOL                          PUBLIC       395.0   \n",
       "WALDO COMMUNITY SCHOOL                               PUBLIC       215.0   \n",
       "ALACHUA  COUNTY STUDENT SERVICES/ MIGRANT/ VIRT...   PUBLIC         0.0   \n",
       "OAK HALL LOWER SCHOOL                               PRIVATE       365.0   \n",
       "\n",
       "                                                                                  TYPE  \\\n",
       "NAME                                                                                     \n",
       "FOREST GROVE CHRISTIAN ACADEMY                      COMBINATION ELEMENTARY & SECONDARY   \n",
       "VAISHNAVA ACADEMY FOR GIRLS                         COMBINATION JR. HIGH & SENIOR HIGH   \n",
       "JORDAN GLEN SCHOOL INC.                                COMBINATION ELEMENTARY & MIDDLE   \n",
       "QUEEN OF PEACE CATHOLIC ACADEMY                        COMBINATION ELEMENTARY & MIDDLE   \n",
       "THE ROCK SCHOOL                                     COMBINATION ELEMENTARY & SECONDARY   \n",
       "...                                                                                ...   \n",
       "SHELL ELEMENTARY SCHOOL                                                     ELEMENTARY   \n",
       "HAWTHORNE JR/SR HIGH SCHOOL                         COMBINATION JR. HIGH & SENIOR HIGH   \n",
       "WALDO COMMUNITY SCHOOL                                                      ELEMENTARY   \n",
       "ALACHUA  COUNTY STUDENT SERVICES/ MIGRANT/ VIRT...           MIGRANT EDUCATION PROGRAM   \n",
       "OAK HALL LOWER SCHOOL                                                       ELEMENTARY   \n",
       "\n",
       "                                                    TEACHERS  \n",
       "NAME                                                          \n",
       "FOREST GROVE CHRISTIAN ACADEMY                           9.4  \n",
       "VAISHNAVA ACADEMY FOR GIRLS                              0.0  \n",
       "JORDAN GLEN SCHOOL INC.                                 14.5  \n",
       "QUEEN OF PEACE CATHOLIC ACADEMY                         28.4  \n",
       "THE ROCK SCHOOL                                         17.9  \n",
       "...                                                      ...  \n",
       "SHELL ELEMENTARY SCHOOL                                 16.0  \n",
       "HAWTHORNE JR/SR HIGH SCHOOL                             23.0  \n",
       "WALDO COMMUNITY SCHOOL                                  17.0  \n",
       "ALACHUA  COUNTY STUDENT SERVICES/ MIGRANT/ VIRT...       4.0  \n",
       "OAK HALL LOWER SCHOOL                                   16.0  \n",
       "\n",
       "[86 rows x 4 columns]"
      ]
     },
     "execution_count": 49,
     "metadata": {},
     "output_type": "execute_result"
    }
   ],
   "source": [
    "school_df[(school_df[\"ENROLLMENT\"] > 0) | (school_df[\"TEACHERS\"] > 0)]"
   ]
  },
  {
   "cell_type": "markdown",
   "metadata": {},
   "source": [
    "## 5. `groupby()` function\n",
    "\n",
    "[groupby](https://pandas.pydata.org/docs/reference/api/pandas.DataFrame.groupby.html) is a powerful function to aggregate data.\n",
    "\n",
    "A groupby operation involves some combination of splitting the object, **applying a function**, and combining the results.\n",
    "\n",
    "This can be used to group large amounts of data and **compute operations on these groups** to understand the subgroups in the data."
   ]
  },
  {
   "cell_type": "code",
   "execution_count": 50,
   "metadata": {},
   "outputs": [],
   "source": [
    "school_df = school_df.loc[(school_df[\"ENROLLMENT\"] > 0) & (school_df[\"TEACHERS\"])]"
   ]
  },
  {
   "cell_type": "code",
   "execution_count": 51,
   "metadata": {},
   "outputs": [
    {
     "data": {
      "text/plain": [
       "<pandas.core.groupby.generic.DataFrameGroupBy object at 0x0000029A672E9588>"
      ]
     },
     "execution_count": 51,
     "metadata": {},
     "output_type": "execute_result"
    }
   ],
   "source": [
    "school_df.groupby(\"TYPE\")"
   ]
  },
  {
   "cell_type": "code",
   "execution_count": 52,
   "metadata": {},
   "outputs": [
    {
     "data": {
      "text/html": [
       "<div>\n",
       "<style scoped>\n",
       "    .dataframe tbody tr th:only-of-type {\n",
       "        vertical-align: middle;\n",
       "    }\n",
       "\n",
       "    .dataframe tbody tr th {\n",
       "        vertical-align: top;\n",
       "    }\n",
       "\n",
       "    .dataframe thead th {\n",
       "        text-align: right;\n",
       "    }\n",
       "</style>\n",
       "<table border=\"1\" class=\"dataframe\">\n",
       "  <thead>\n",
       "    <tr style=\"text-align: right;\">\n",
       "      <th></th>\n",
       "      <th>ENROLLMENT</th>\n",
       "      <th>TEACHERS</th>\n",
       "    </tr>\n",
       "    <tr>\n",
       "      <th>TYPE</th>\n",
       "      <th></th>\n",
       "      <th></th>\n",
       "    </tr>\n",
       "  </thead>\n",
       "  <tbody>\n",
       "    <tr>\n",
       "      <th>COMBINATION ELEMENTARY &amp; MIDDLE</th>\n",
       "      <td>2664.0</td>\n",
       "      <td>176.0</td>\n",
       "    </tr>\n",
       "    <tr>\n",
       "      <th>COMBINATION ELEMENTARY &amp; SECONDARY</th>\n",
       "      <td>3094.0</td>\n",
       "      <td>323.3</td>\n",
       "    </tr>\n",
       "    <tr>\n",
       "      <th>COMBINATION JR. HIGH &amp; SENIOR HIGH</th>\n",
       "      <td>768.0</td>\n",
       "      <td>63.0</td>\n",
       "    </tr>\n",
       "    <tr>\n",
       "      <th>ELEMENTARY</th>\n",
       "      <td>13231.0</td>\n",
       "      <td>961.3</td>\n",
       "    </tr>\n",
       "    <tr>\n",
       "      <th>MIDDLE/JR. HIGH</th>\n",
       "      <td>4844.0</td>\n",
       "      <td>286.0</td>\n",
       "    </tr>\n",
       "    <tr>\n",
       "      <th>PRE-KINDERGARTEN</th>\n",
       "      <td>163.0</td>\n",
       "      <td>20.0</td>\n",
       "    </tr>\n",
       "    <tr>\n",
       "      <th>PRE-KINDERGARTEN-KINDERGARTEN</th>\n",
       "      <td>45.0</td>\n",
       "      <td>6.1</td>\n",
       "    </tr>\n",
       "    <tr>\n",
       "      <th>SENIOR HIGH</th>\n",
       "      <td>7885.0</td>\n",
       "      <td>390.8</td>\n",
       "    </tr>\n",
       "  </tbody>\n",
       "</table>\n",
       "</div>"
      ],
      "text/plain": [
       "                                    ENROLLMENT  TEACHERS\n",
       "TYPE                                                    \n",
       "COMBINATION ELEMENTARY & MIDDLE         2664.0     176.0\n",
       "COMBINATION ELEMENTARY & SECONDARY      3094.0     323.3\n",
       "COMBINATION JR. HIGH & SENIOR HIGH       768.0      63.0\n",
       "ELEMENTARY                             13231.0     961.3\n",
       "MIDDLE/JR. HIGH                         4844.0     286.0\n",
       "PRE-KINDERGARTEN                         163.0      20.0\n",
       "PRE-KINDERGARTEN-KINDERGARTEN             45.0       6.1\n",
       "SENIOR HIGH                             7885.0     390.8"
      ]
     },
     "execution_count": 52,
     "metadata": {},
     "output_type": "execute_result"
    }
   ],
   "source": [
    "by_type = school_df.groupby(\"TYPE\")\n",
    "by_type.sum()"
   ]
  },
  {
   "cell_type": "code",
   "execution_count": 53,
   "metadata": {},
   "outputs": [
    {
     "data": {
      "text/html": [
       "<div>\n",
       "<style scoped>\n",
       "    .dataframe tbody tr th:only-of-type {\n",
       "        vertical-align: middle;\n",
       "    }\n",
       "\n",
       "    .dataframe tbody tr th {\n",
       "        vertical-align: top;\n",
       "    }\n",
       "\n",
       "    .dataframe thead th {\n",
       "        text-align: right;\n",
       "    }\n",
       "</style>\n",
       "<table border=\"1\" class=\"dataframe\">\n",
       "  <thead>\n",
       "    <tr style=\"text-align: right;\">\n",
       "      <th></th>\n",
       "      <th>OP_CLASS</th>\n",
       "      <th>ENROLLMENT</th>\n",
       "      <th>TEACHERS</th>\n",
       "    </tr>\n",
       "    <tr>\n",
       "      <th>TYPE</th>\n",
       "      <th></th>\n",
       "      <th></th>\n",
       "      <th></th>\n",
       "    </tr>\n",
       "  </thead>\n",
       "  <tbody>\n",
       "    <tr>\n",
       "      <th>COMBINATION ELEMENTARY &amp; MIDDLE</th>\n",
       "      <td>PUBLIC</td>\n",
       "      <td>938.0</td>\n",
       "      <td>54.0</td>\n",
       "    </tr>\n",
       "    <tr>\n",
       "      <th>COMBINATION ELEMENTARY &amp; SECONDARY</th>\n",
       "      <td>PUBLIC</td>\n",
       "      <td>1139.0</td>\n",
       "      <td>122.0</td>\n",
       "    </tr>\n",
       "    <tr>\n",
       "      <th>COMBINATION JR. HIGH &amp; SENIOR HIGH</th>\n",
       "      <td>PUBLIC</td>\n",
       "      <td>395.0</td>\n",
       "      <td>23.0</td>\n",
       "    </tr>\n",
       "    <tr>\n",
       "      <th>ELEMENTARY</th>\n",
       "      <td>PUBLIC</td>\n",
       "      <td>836.0</td>\n",
       "      <td>56.0</td>\n",
       "    </tr>\n",
       "    <tr>\n",
       "      <th>MIDDLE/JR. HIGH</th>\n",
       "      <td>PUBLIC</td>\n",
       "      <td>1047.0</td>\n",
       "      <td>62.0</td>\n",
       "    </tr>\n",
       "    <tr>\n",
       "      <th>PRE-KINDERGARTEN</th>\n",
       "      <td>PUBLIC</td>\n",
       "      <td>100.0</td>\n",
       "      <td>15.0</td>\n",
       "    </tr>\n",
       "    <tr>\n",
       "      <th>PRE-KINDERGARTEN-KINDERGARTEN</th>\n",
       "      <td>PRIVATE</td>\n",
       "      <td>45.0</td>\n",
       "      <td>6.1</td>\n",
       "    </tr>\n",
       "    <tr>\n",
       "      <th>SENIOR HIGH</th>\n",
       "      <td>PUBLIC</td>\n",
       "      <td>2221.0</td>\n",
       "      <td>100.0</td>\n",
       "    </tr>\n",
       "  </tbody>\n",
       "</table>\n",
       "</div>"
      ],
      "text/plain": [
       "                                   OP_CLASS  ENROLLMENT  TEACHERS\n",
       "TYPE                                                             \n",
       "COMBINATION ELEMENTARY & MIDDLE      PUBLIC       938.0      54.0\n",
       "COMBINATION ELEMENTARY & SECONDARY   PUBLIC      1139.0     122.0\n",
       "COMBINATION JR. HIGH & SENIOR HIGH   PUBLIC       395.0      23.0\n",
       "ELEMENTARY                           PUBLIC       836.0      56.0\n",
       "MIDDLE/JR. HIGH                      PUBLIC      1047.0      62.0\n",
       "PRE-KINDERGARTEN                     PUBLIC       100.0      15.0\n",
       "PRE-KINDERGARTEN-KINDERGARTEN       PRIVATE        45.0       6.1\n",
       "SENIOR HIGH                          PUBLIC      2221.0     100.0"
      ]
     },
     "execution_count": 53,
     "metadata": {},
     "output_type": "execute_result"
    }
   ],
   "source": [
    "by_type.max()"
   ]
  },
  {
   "cell_type": "code",
   "execution_count": 54,
   "metadata": {},
   "outputs": [
    {
     "data": {
      "text/html": [
       "<div>\n",
       "<style scoped>\n",
       "    .dataframe tbody tr th:only-of-type {\n",
       "        vertical-align: middle;\n",
       "    }\n",
       "\n",
       "    .dataframe tbody tr th {\n",
       "        vertical-align: top;\n",
       "    }\n",
       "\n",
       "    .dataframe thead th {\n",
       "        text-align: right;\n",
       "    }\n",
       "</style>\n",
       "<table border=\"1\" class=\"dataframe\">\n",
       "  <thead>\n",
       "    <tr style=\"text-align: right;\">\n",
       "      <th></th>\n",
       "      <th>ENROLLMENT</th>\n",
       "      <th>TEACHERS</th>\n",
       "    </tr>\n",
       "    <tr>\n",
       "      <th>TYPE</th>\n",
       "      <th></th>\n",
       "      <th></th>\n",
       "    </tr>\n",
       "  </thead>\n",
       "  <tbody>\n",
       "    <tr>\n",
       "      <th>COMBINATION ELEMENTARY &amp; MIDDLE</th>\n",
       "      <td>333.000000</td>\n",
       "      <td>22.000000</td>\n",
       "    </tr>\n",
       "    <tr>\n",
       "      <th>COMBINATION ELEMENTARY &amp; SECONDARY</th>\n",
       "      <td>238.000000</td>\n",
       "      <td>24.869231</td>\n",
       "    </tr>\n",
       "    <tr>\n",
       "      <th>COMBINATION JR. HIGH &amp; SENIOR HIGH</th>\n",
       "      <td>192.000000</td>\n",
       "      <td>15.750000</td>\n",
       "    </tr>\n",
       "    <tr>\n",
       "      <th>ELEMENTARY</th>\n",
       "      <td>400.939394</td>\n",
       "      <td>29.130303</td>\n",
       "    </tr>\n",
       "    <tr>\n",
       "      <th>MIDDLE/JR. HIGH</th>\n",
       "      <td>605.500000</td>\n",
       "      <td>35.750000</td>\n",
       "    </tr>\n",
       "    <tr>\n",
       "      <th>PRE-KINDERGARTEN</th>\n",
       "      <td>81.500000</td>\n",
       "      <td>10.000000</td>\n",
       "    </tr>\n",
       "    <tr>\n",
       "      <th>PRE-KINDERGARTEN-KINDERGARTEN</th>\n",
       "      <td>45.000000</td>\n",
       "      <td>6.100000</td>\n",
       "    </tr>\n",
       "    <tr>\n",
       "      <th>SENIOR HIGH</th>\n",
       "      <td>1126.428571</td>\n",
       "      <td>55.828571</td>\n",
       "    </tr>\n",
       "  </tbody>\n",
       "</table>\n",
       "</div>"
      ],
      "text/plain": [
       "                                     ENROLLMENT   TEACHERS\n",
       "TYPE                                                      \n",
       "COMBINATION ELEMENTARY & MIDDLE      333.000000  22.000000\n",
       "COMBINATION ELEMENTARY & SECONDARY   238.000000  24.869231\n",
       "COMBINATION JR. HIGH & SENIOR HIGH   192.000000  15.750000\n",
       "ELEMENTARY                           400.939394  29.130303\n",
       "MIDDLE/JR. HIGH                      605.500000  35.750000\n",
       "PRE-KINDERGARTEN                      81.500000  10.000000\n",
       "PRE-KINDERGARTEN-KINDERGARTEN         45.000000   6.100000\n",
       "SENIOR HIGH                         1126.428571  55.828571"
      ]
     },
     "execution_count": 54,
     "metadata": {},
     "output_type": "execute_result"
    }
   ],
   "source": [
    "school_df.groupby(\"TYPE\").mean()"
   ]
  },
  {
   "cell_type": "code",
   "execution_count": 55,
   "metadata": {
    "scrolled": false
   },
   "outputs": [
    {
     "data": {
      "text/html": [
       "<div>\n",
       "<style scoped>\n",
       "    .dataframe tbody tr th:only-of-type {\n",
       "        vertical-align: middle;\n",
       "    }\n",
       "\n",
       "    .dataframe tbody tr th {\n",
       "        vertical-align: top;\n",
       "    }\n",
       "\n",
       "    .dataframe thead th {\n",
       "        text-align: right;\n",
       "    }\n",
       "</style>\n",
       "<table border=\"1\" class=\"dataframe\">\n",
       "  <thead>\n",
       "    <tr style=\"text-align: right;\">\n",
       "      <th></th>\n",
       "      <th>ENROLLMENT</th>\n",
       "      <th>TEACHERS</th>\n",
       "      <th>OP_CLASS</th>\n",
       "    </tr>\n",
       "    <tr>\n",
       "      <th>TYPE</th>\n",
       "      <th></th>\n",
       "      <th></th>\n",
       "      <th></th>\n",
       "    </tr>\n",
       "  </thead>\n",
       "  <tbody>\n",
       "    <tr>\n",
       "      <th>COMBINATION ELEMENTARY &amp; MIDDLE</th>\n",
       "      <td>2664.0</td>\n",
       "      <td>22.000000</td>\n",
       "      <td>8</td>\n",
       "    </tr>\n",
       "    <tr>\n",
       "      <th>COMBINATION ELEMENTARY &amp; SECONDARY</th>\n",
       "      <td>3094.0</td>\n",
       "      <td>24.869231</td>\n",
       "      <td>13</td>\n",
       "    </tr>\n",
       "    <tr>\n",
       "      <th>COMBINATION JR. HIGH &amp; SENIOR HIGH</th>\n",
       "      <td>768.0</td>\n",
       "      <td>15.750000</td>\n",
       "      <td>4</td>\n",
       "    </tr>\n",
       "    <tr>\n",
       "      <th>ELEMENTARY</th>\n",
       "      <td>13231.0</td>\n",
       "      <td>29.130303</td>\n",
       "      <td>33</td>\n",
       "    </tr>\n",
       "    <tr>\n",
       "      <th>MIDDLE/JR. HIGH</th>\n",
       "      <td>4844.0</td>\n",
       "      <td>35.750000</td>\n",
       "      <td>8</td>\n",
       "    </tr>\n",
       "    <tr>\n",
       "      <th>PRE-KINDERGARTEN</th>\n",
       "      <td>163.0</td>\n",
       "      <td>10.000000</td>\n",
       "      <td>2</td>\n",
       "    </tr>\n",
       "    <tr>\n",
       "      <th>PRE-KINDERGARTEN-KINDERGARTEN</th>\n",
       "      <td>45.0</td>\n",
       "      <td>6.100000</td>\n",
       "      <td>1</td>\n",
       "    </tr>\n",
       "    <tr>\n",
       "      <th>SENIOR HIGH</th>\n",
       "      <td>7885.0</td>\n",
       "      <td>55.828571</td>\n",
       "      <td>7</td>\n",
       "    </tr>\n",
       "  </tbody>\n",
       "</table>\n",
       "</div>"
      ],
      "text/plain": [
       "                                    ENROLLMENT   TEACHERS  OP_CLASS\n",
       "TYPE                                                               \n",
       "COMBINATION ELEMENTARY & MIDDLE         2664.0  22.000000         8\n",
       "COMBINATION ELEMENTARY & SECONDARY      3094.0  24.869231        13\n",
       "COMBINATION JR. HIGH & SENIOR HIGH       768.0  15.750000         4\n",
       "ELEMENTARY                             13231.0  29.130303        33\n",
       "MIDDLE/JR. HIGH                         4844.0  35.750000         8\n",
       "PRE-KINDERGARTEN                         163.0  10.000000         2\n",
       "PRE-KINDERGARTEN-KINDERGARTEN             45.0   6.100000         1\n",
       "SENIOR HIGH                             7885.0  55.828571         7"
      ]
     },
     "execution_count": 55,
     "metadata": {},
     "output_type": "execute_result"
    }
   ],
   "source": [
    "by_type.agg({'ENROLLMENT': np.sum, 'TEACHERS': np.mean, 'OP_CLASS': 'count'})"
   ]
  }
 ],
 "metadata": {
  "kernelspec": {
   "display_name": "arcgispro-py3",
   "language": "python",
   "name": "python3"
  },
  "language_info": {
   "codemirror_mode": {
    "name": "ipython",
    "version": 3
   },
   "file_extension": ".py",
   "mimetype": "text/x-python",
   "name": "python",
   "nbconvert_exporter": "python",
   "pygments_lexer": "ipython3",
   "version": "3.9.11 [MSC v.1931 64 bit (AMD64)]"
  },
  "vscode": {
   "interpreter": {
    "hash": "ce21b655b4d6c9e397d5ad93d5666c623f49909f6d0cc2f72076dafcf1b3ecfb"
   }
  }
 },
 "nbformat": 4,
 "nbformat_minor": 2
}
