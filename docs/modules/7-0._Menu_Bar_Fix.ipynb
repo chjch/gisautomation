{
 "cells": [
  {
   "cell_type": "markdown",
   "id": "d4b94056",
   "metadata": {},
   "source": [
    "# Fix missing buttons in Jupyter Notebook\n",
    "\n",
    "In ArcGIS Pro's Jupyter Notebook, two useful buttons in the menu bar are missing: **Files** and **Kernel**.\n",
    "\n",
    "These two buttons give you access to several key functions, such as **_Restart Kernel_** and **_Download Notebook as Python file_**.\n",
    "\n",
    "A solution to fix the missing buttons is presented below. The answer is based on this [post](https://community.esri.com/t5/arcgis-online-questions/juypter-notebook-via-arcpro-missing-menu-bar/td-p/1118984/page/3)."
   ]
  },
  {
   "cell_type": "markdown",
   "id": "8b19c382",
   "metadata": {},
   "source": [
    "<div style=\"padding: 10px;margin-bottom: 20px;border: thin solid #3F48CC;border-left-width: 25px;background-color: #fff\"><strong>Step 1:</strong> Navigate to the following folder.\n",
    "</div>\n",
    "\n",
    "`C:\\Program Files\\ArcGIS\\Pro\\bin\\Python\\envs\\arcgispro-py3\\share\\jupyter\\kernels\\ArcGISPro\\default`"
   ]
  },
  {
   "cell_type": "markdown",
   "id": "64b31ebd",
   "metadata": {},
   "source": [
    "<div style=\"padding: 10px;margin-bottom: 20px;border: thin solid #3F48CC;border-left-width: 25px;background-color: #fff\"><strong>Step 2:</strong> Copy the two files below.\n",
    "</div>\n",
    "\n",
    "1. `messsages.css`\n",
    "2. `messages.js`\n",
    "\n",
    "    <img src=\"https://live.staticflickr.com/65535/51888195506_7591dc13fe_o.png\" width=\"620\" height=\"202\" alt=\"jupyter_files\" align=\"left\">"
   ]
  },
  {
   "cell_type": "markdown",
   "id": "1efbe124",
   "metadata": {},
   "source": [
    "<div style=\"padding: 10px;margin-bottom: 20px;border: thin solid #3F48CC;border-left-width: 25px;background-color: #fff\"><strong>Step 3:</strong> Paste the two files into the following folder.\n",
    "</div>\n",
    "\n",
    "`C:\\Program Files\\ArcGIS\\Pro\\bin\\Python\\envs\\arcgispro-py3\\Lib\\site-packages\\notebook\\static\\custom`"
   ]
  },
  {
   "cell_type": "markdown",
   "id": "47e9792b",
   "metadata": {},
   "source": [
    "<div style=\"padding: 10px;margin-bottom: 20px;border: thin solid #3F48CC;border-left-width: 25px;background-color: #fff\"><strong>Step 4:</strong> Restart the Jupyter Notebook. (restart the _Python Command Prompt_ if necessary)\n",
    "</div>"
   ]
  }
 ],
 "metadata": {
  "kernelspec": {
   "display_name": "arcgispro-py3",
   "language": "python",
   "name": "python3"
  },
  "language_info": {
   "codemirror_mode": {
    "name": "ipython",
    "version": 3
   },
   "file_extension": ".py",
   "mimetype": "text/x-python",
   "name": "python",
   "nbconvert_exporter": "python",
   "pygments_lexer": "ipython3",
   "version": "3.9.11 [MSC v.1931 64 bit (AMD64)]"
  },
  "vscode": {
   "interpreter": {
    "hash": "ce21b655b4d6c9e397d5ad93d5666c623f49909f6d0cc2f72076dafcf1b3ecfb"
   }
  }
 },
 "nbformat": 4,
 "nbformat_minor": 5
}
