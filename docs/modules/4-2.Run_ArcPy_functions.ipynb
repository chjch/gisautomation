{
 "cells": [
  {
   "cell_type": "markdown",
   "metadata": {},
   "source": [
    "# Run ArcPy Functions\n",
    "\n",
    "Here, we will look at several `arcpy` functions, including `ListFeatureClasses`, `Buffer`,\n",
    "`Clip`, and `SpatialJoin`. Before we discuss how to run these `arcpy` functions, consider\n",
    "the question \"_which toolbox or toolboxes do they belong to_?\" As mentioned earlier, the answer to this\n",
    "question will determine the name of the function."
   ]
  },
  {
   "cell_type": "markdown",
   "metadata": {},
   "source": [
    "## 1. `ListFeatureClasses()`\n",
    "\n",
    "[`ListFeatureClasses`](https://pro.arcgis.com/en/pro-app/latest/arcpy/functions/listfeatureclasses.htm)\n",
    "returns a Python `list` consists of names of feature classes in the **current workspace** defined in the environment. It also supports additional parameters (arguments) to control which feature classes will\n",
    "be in the returned `list`."
   ]
  },
  {
   "cell_type": "markdown",
   "metadata": {},
   "source": [
    "### 1.1 Basic usage\n",
    "\n",
    "As usual, we need to _import_ the `arcpy` package first."
   ]
  },
  {
   "cell_type": "code",
   "execution_count": 1,
   "metadata": {},
   "outputs": [],
   "source": [
    "import arcpy"
   ]
  },
  {
   "cell_type": "markdown",
   "metadata": {},
   "source": [
    "Then, we define the **workspace** and set it to be the `class_data.gdb` geodatabase."
   ]
  },
  {
   "cell_type": "code",
   "execution_count": 2,
   "metadata": {},
   "outputs": [],
   "source": [
    "gdb_worksp = r\"../data/class_data.gdb\"\n",
    "arcpy.env.workspace = gdb_worksp"
   ]
  },
  {
   "cell_type": "markdown",
   "metadata": {},
   "source": [
    "```{note}\n",
    "The `workspace` environment (i.e., `arcpy.env` object) must be set before using `ListFeatureClasses`.\n",
    "```"
   ]
  },
  {
   "cell_type": "code",
   "execution_count": 3,
   "metadata": {},
   "outputs": [
    {
     "data": {
      "text/plain": [
       "['county_boundary',\n",
       " 'hospitals',\n",
       " 'schools',\n",
       " 'I75',\n",
       " 'roads',\n",
       " 'law_enforcement',\n",
       " 'major_highways',\n",
       " 'zip_boundaries',\n",
       " 'major_roads',\n",
       " 'landuse',\n",
       " 'crash',\n",
       " 'blockgroups']"
      ]
     },
     "execution_count": 3,
     "metadata": {},
     "output_type": "execute_result"
    }
   ],
   "source": [
    "arcpy.ListFeatureClasses()"
   ]
  },
  {
   "cell_type": "markdown",
   "metadata": {},
   "source": [
    "### 1.2 Optional keyword arguments\n",
    "\n",
    "We can give additional arguments to the function to have more control over what feature classes are returned.\n",
    "\n",
    "- `wild_card`: a string with an asterisk `*` specifying the _name pattern_.\n",
    "- `feature_type`: a string specifying feature type, i.e., _Point_, _Line_, _Polygon_.\n",
    "- `feature_dataset`: a string specifying the name of a particular [feature dataset](https://pro.arcgis.com/en/pro-app/latest/help/data/feature-datasets/feature-datasets-in-arcgis-pro.htm)."
   ]
  },
  {
   "cell_type": "code",
   "execution_count": 4,
   "metadata": {},
   "outputs": [
    {
     "data": {
      "text/plain": [
       "['major_highways', 'major_roads']"
      ]
     },
     "execution_count": 4,
     "metadata": {},
     "output_type": "execute_result"
    }
   ],
   "source": [
    "# return feature class whose name starts with \"major\"\n",
    "arcpy.ListFeatureClasses(\"major*\")"
   ]
  },
  {
   "cell_type": "code",
   "execution_count": 5,
   "metadata": {},
   "outputs": [
    {
     "data": {
      "text/plain": [
       "['roads', 'major_roads']"
      ]
     },
     "execution_count": 5,
     "metadata": {},
     "output_type": "execute_result"
    }
   ],
   "source": [
    "# return feature class whose name ends with \"roads\"\n",
    "arcpy.ListFeatureClasses(\"*roads\")"
   ]
  },
  {
   "cell_type": "markdown",
   "metadata": {},
   "source": [
    "As shown in the two examples above, the position of the asterisk `*` determines the **pattern of the wildcard**."
   ]
  },
  {
   "cell_type": "markdown",
   "metadata": {},
   "source": [
    "```{admonition} Supply arguments to functions\n",
    ":class: tip\n",
    "\n",
    "Most of `arcpy` functions are defined with **keyword arguments**, i.e., the argument itself has a name.\n",
    "Therefore, when calling a function, we can specify the arguments in two ways:\n",
    "\n",
    "(1). by _position_: set arguments based on their positions in the function definition. If needed, skip an argument by either an **empty string** (`\"\"`) or `None`.\n",
    "\n",
    "(2). by _name_: set arguments **explicitly** based on their names. In this case, you don't need to follow the same order as how they were defined in the original function.\n",
    "```"
   ]
  },
  {
   "cell_type": "markdown",
   "metadata": {},
   "source": [
    "The following examples call the same function `ListFeatureClasses` using positional arguments.\n",
    "Pay attention to the difference on how they skip the first argument, i.e., `wild_card`."
   ]
  },
  {
   "cell_type": "code",
   "execution_count": 6,
   "metadata": {},
   "outputs": [
    {
     "data": {
      "text/plain": [
       "['I75', 'roads', 'major_highways', 'major_roads']"
      ]
     },
     "execution_count": 6,
     "metadata": {},
     "output_type": "execute_result"
    }
   ],
   "source": [
    "# skipping using an empty string\n",
    "arcpy.ListFeatureClasses(\"\", \"Line\")  # return line feature classes"
   ]
  },
  {
   "cell_type": "code",
   "execution_count": 7,
   "metadata": {},
   "outputs": [
    {
     "data": {
      "text/plain": [
       "['hospitals', 'schools', 'law_enforcement', 'crash']"
      ]
     },
     "execution_count": 7,
     "metadata": {},
     "output_type": "execute_result"
    }
   ],
   "source": [
    "# skipping using None\n",
    "arcpy.ListFeatureClasses(None, \"Point\")  # return point feature classes"
   ]
  },
  {
   "cell_type": "markdown",
   "metadata": {},
   "source": [
    "````{note}\n",
    "`None` is a built-in Python type. Try run:\n",
    "\n",
    "```python\n",
    "type(None)\n",
    "```\n",
    "````"
   ]
  },
  {
   "cell_type": "markdown",
   "metadata": {},
   "source": [
    "If no arguments are skipped, you need to set arguments based on their original definition.\n",
    "View the documentation (signature) of the function to know which arguments need to be\n",
    "defined and in what order. **Recall** the methods we introduced in the [previous page](4-1.ArcPy_Basics.html#view-help-documentation)."
   ]
  },
  {
   "cell_type": "code",
   "execution_count": 4,
   "metadata": {},
   "outputs": [
    {
     "data": {
      "text/plain": [
       "['hospitals', 'schools']"
      ]
     },
     "execution_count": 4,
     "metadata": {},
     "output_type": "execute_result"
    }
   ],
   "source": [
    "# specifying both arguments by position\n",
    "arcpy.ListFeatureClasses(\"*s\", \"Point\")"
   ]
  },
  {
   "cell_type": "markdown",
   "metadata": {},
   "source": [
    "Alternatively, we can set arguments using their names."
   ]
  },
  {
   "cell_type": "code",
   "execution_count": 11,
   "metadata": {},
   "outputs": [],
   "source": [
    "# skip the first argument with no empty string or None\n",
    "\n",
    "arcpy.ListFeatureClasses(feature_type=\"Polygon\")"
   ]
  },
  {
   "cell_type": "markdown",
   "metadata": {},
   "source": [
    "```{admonition} According to PEP8\n",
    ":class: tip\n",
    "\n",
    "Different than assigning values to variables, in the code above,\n",
    "there are no _white spaces_ around the assignment operator,\n",
    "i.e., `feature_type=\"Point\"`.\n",
    "```"
   ]
  },
  {
   "cell_type": "markdown",
   "metadata": {},
   "source": [
    "In a function call, if all arguments are named (i.e., _keyword_ arguments),\n",
    "the order of the arguments can be ignored.\n",
    "For example, in the function below, we don't need to follow the order\n",
    "in the definition, i.e., first set `wild_card`\n",
    "then set `feature_type`, because they are both keyword arguments."
   ]
  },
  {
   "cell_type": "code",
   "execution_count": 12,
   "metadata": {},
   "outputs": [],
   "source": [
    "arcpy.ListFeatureClasses(feature_type=\"Point\", wild_card=\"*s\")"
   ]
  },
  {
   "cell_type": "markdown",
   "metadata": {},
   "source": [
    "The return `list` will be empty if no feature classes match the setting.\n",
    "For example, there is no _feature dataset_ named \"test\" in the class\n",
    "geodatabase."
   ]
  },
  {
   "cell_type": "code",
   "execution_count": 14,
   "metadata": {},
   "outputs": [],
   "source": [
    "arcpy.ListFeatureClasses(feature_dataset=\"test\")"
   ]
  },
  {
   "cell_type": "markdown",
   "source": [
    "Now, let's look at some commonly used _geoprocessing_ functions.\n",
    "We will revisit [an example](1-1.Intro_to_ModelBuilder.html#problem-1)\n",
    "that we previously solved by **ModelBuilder**.\n",
    "\n",
    "We will reproduce the result of the following model using `arcpy` functions.\n",
    "\n",
    "![select_bg_mb](../_static/images/select_bg_mb.png)"
   ],
   "metadata": {
    "collapsed": false
   }
  },
  {
   "cell_type": "markdown",
   "metadata": {},
   "source": [
    "## 2. `Buffer`"
   ]
  },
  {
   "cell_type": "code",
   "execution_count": null,
   "metadata": {
    "tags": [
     "remove-output"
    ]
   },
   "outputs": [],
   "source": [
    "I75 = \"I75\"                    # input features\n",
    "I75_2mi_buff = \"I75_2mi_buff\"  # output feature class\n",
    "arcpy.Buffer_analysis(I75, I75_2mi_buff, \"2 Miles\")"
   ]
  },
  {
   "cell_type": "markdown",
   "metadata": {},
   "source": [
    "```{tip}\n",
    "Create variables to store values of **arguments**, especially for the _input_ and _output_ feature class.\n",
    "It is helpful for us reference them later. It is also a good practice from a data management perspective.\n",
    "```"
   ]
  },
  {
   "cell_type": "markdown",
   "metadata": {},
   "source": [
    "## 3. `Clip`"
   ]
  },
  {
   "cell_type": "code",
   "execution_count": null,
   "metadata": {
    "tags": [
     "remove-output"
    ]
   },
   "outputs": [
    {
     "data": {
      "text/html": [
       "<div class='gpresult'><h2>Messages</h2><div id='messages' data-messages='[\"Start Time: Thursday, January 27, 2022 11:13:00 PM\",\"Analyzing input features...\",\"Dissolving clip features...\",\"Clipping input features...\",\"Succeeded at Thursday, January 27, 2022 11:13:01 PM (Elapsed Time: 0.77 seconds)\"]' data-show='true'><div id = 'default' /></div></div>"
      ],
      "text/plain": [
       "<Result 'D:\\\\Dropbox (UFL)\\\\URP6271\\\\urp6271_spring2022\\\\class_data.gdb\\\\schools_2mile_I75'>"
      ]
     },
     "execution_count": 50,
     "metadata": {},
     "output_type": "execute_result"
    }
   ],
   "source": [
    "school = \"schools\"\n",
    "school_2mi_I75 = \"schools_2mile_I75\"\n",
    "arcpy.analysis.Clip(school,          # input features\n",
    "                    I75_2mi_buff,    # clipping features\n",
    "                    school_2mi_I75)  # output feature class"
   ]
  },
  {
   "cell_type": "markdown",
   "metadata": {},
   "source": [
    "## 4. `SpatialJoin`"
   ]
  },
  {
   "cell_type": "code",
   "execution_count": 51,
   "metadata": {
    "tags": [
     "remove-output"
    ]
   },
   "outputs": [
    {
     "data": {
      "text/html": [
       "<div class='gpresult'><h2>Messages</h2><div id='messages' data-messages='[\"Start Time: Thursday, January 27, 2022 11:14:01 PM\",\"Succeeded at Thursday, January 27, 2022 11:14:03 PM (Elapsed Time: 1.49 seconds)\"]' data-show='true'><div id = 'default' /></div></div>"
      ],
      "text/plain": [
       "<Result 'D:\\\\Dropbox (UFL)\\\\URP6271\\\\urp6271_spring2022\\\\class_data.gdb\\\\blockgroups_school_spjoin'>"
      ]
     },
     "execution_count": 51,
     "metadata": {},
     "output_type": "execute_result"
    }
   ],
   "source": [
    "blkgrp = \"blockgroups\"\n",
    "bg_school_spjoin = \"bg_school_spjoin\"\n",
    "arcpy.SpatialJoin_analysis(blkgrp,            # target features\n",
    "                           school_2mi_I75,    # join features\n",
    "                           bg_school_spjoin,  # output feature class\n",
    "                           \"\",                # join operation\n",
    "                           \"KEEP_COMMON\")     # join type"
   ]
  },
  {
   "cell_type": "markdown",
   "source": [
    "To see how many output features are there, we can use the either `GetCount_management()`\n",
    "or `management.GetCount()`."
   ],
   "metadata": {
    "collapsed": false
   }
  },
  {
   "cell_type": "code",
   "execution_count": 53,
   "metadata": {},
   "outputs": [
    {
     "name": "stdout",
     "output_type": "stream",
     "text": [
      "19\n"
     ]
    }
   ],
   "source": [
    "# number of block groups matching the criteria\n",
    "print(arcpy.GetCount_management(bg_school_spjoin))"
   ]
  },
  {
   "cell_type": "markdown",
   "metadata": {},
   "source": [
    "## 5. Add Exception Handling\n",
    "\n",
    "```\n",
    "try:\n",
    "    arcpy.Toolname_toolboxalias\n",
    "except Exception as e:\n",
    "    print(e)\n",
    "```"
   ]
  },
  {
   "cell_type": "code",
   "execution_count": null,
   "metadata": {},
   "outputs": [
    {
     "name": "stdout",
     "output_type": "stream",
     "text": [
      "Error: Failed to execute. Parameters are not valid.\n",
      "ERROR 000725: Output Feature Class: Dataset D:\\Dropbox (UFL)\\URP6271\\urp6271_spring2022\\class_data.gdb\\blockgroups_school_spjoin already exists.\n",
      "Failed to execute (SpatialJoin).\n",
      "\n"
     ]
    }
   ],
   "source": [
    "try:\n",
    "    blkgrp = \"blockgroups\"\n",
    "    bg_school_spjoin = \"bg_school_spjoin\"\n",
    "    arcpy.SpatialJoin_analysis(\n",
    "        blkgrp, school_2mi_I75, bg_school_spjoin, \n",
    "        \"\", \"KEEP_COMMON\"\n",
    "    )\n",
    "    arcpy.GetCount_management(bg_school_spjoin)\n",
    "except Exception as e:  # any type of Exception will be captured\n",
    "    print(\"Error: \" + str(e))\n",
    "    \n",
    "print(\"This message proves the script continues moving on after the ERROR.\")"
   ]
  },
  {
   "cell_type": "markdown",
   "metadata": {},
   "source": [
    "### 5.1 Detect feature class existance\n",
    "\n",
    "As seen in the above cell, if the output feature class already exists in a\n",
    "workspace, by default, ArcPy will complain and stop executing the function.\n",
    "\n",
    "In this situation we can use `arcpy.Exist` to detect the existance of a feature\n",
    "class first, if already exists, use `arcpy.management.Delete` to **delete** it."
   ]
  },
  {
   "cell_type": "code",
   "execution_count": null,
   "metadata": {},
   "outputs": [
    {
     "name": "stdout",
     "output_type": "stream",
     "text": [
      "A feature class with the name blockgroups_school_spjoin already exists\n",
      "However, arcpy helped you deleted blockgroups_school_spjoin.\n",
      "succeed, output 19 features\n"
     ]
    }
   ],
   "source": [
    "if arcpy.Exists(bg_school_spjoin):\n",
    "    print(\"Message 1: {} already exists.\".format(bg_school_spjoin))\n",
    "    arcpy.Delete_management(bg_school_spjoin)\n",
    "    print(\"Message 2: {} has been removed.\".format(bg_school_spjoin))\n",
    "    \n",
    "blkgrp = \"blockgroups\"\n",
    "bg_school_spjoin = \"blockgroups_school_spjoin\"\n",
    "\n",
    "arcpy.SpatialJoin_analysis(\n",
    "    blkgrp, school_2mi_I75, bg_school_spjoin, \n",
    "    \"\", \"KEEP_COMMON\"\n",
    ")\n",
    "print(\"Message 3: success! {} output features\".format(\n",
    "    arcpy.GetCount_management(bg_school_spjoin)\n",
    "))"
   ]
  },
  {
   "cell_type": "markdown",
   "metadata": {},
   "source": [
    "### 5.2 Set `OverwriteOutput`\n",
    "\n",
    "Another option is to simply set `env.OverwriteOutput` to `True`.\n",
    "However, be careful, enable this setting will cause **arcpy** to always overwrite\n",
    "current feature class to write output feature class."
   ]
  },
  {
   "cell_type": "code",
   "execution_count": null,
   "metadata": {},
   "outputs": [
    {
     "name": "stdout",
     "output_type": "stream",
     "text": [
      "Yes, blockgroups_school_spjoin exists\n",
      "succeed, output 19 features\n"
     ]
    }
   ],
   "source": [
    "arcpy.env.overwriteOutput = True\n",
    "\n",
    "if arcpy.Exists(bg_school_spjoin):\n",
    "    print(\"Message 1: {} already exists.\".format(bg_school_spjoin))\n",
    "    \n",
    "\n",
    "blkgrp = \"blockgroups\"\n",
    "bg_school_spjoin = \"blockgroups_school_spjoin\"\n",
    "\n",
    "arcpy.SpatialJoin_analysis(\n",
    "    blkgrp, school_2mi_I75, bg_school_spjoin, \n",
    "    \"\", \"KEEP_COMMON\"\n",
    ")\n",
    "print(\"Message 2: success! {} output features\".format(\n",
    "    arcpy.GetCount_management(bg_school_spjoin)\n",
    "))"
   ]
  }
 ],
 "metadata": {
  "celltoolbar": "Edit Metadata",
  "kernelspec": {
   "display_name": "Python 3 (ipykernel)",
   "language": "python",
   "name": "python3"
  },
  "language_info": {
   "codemirror_mode": {
    "name": "ipython",
    "version": 3
   },
   "file_extension": ".py",
   "mimetype": "text/x-python",
   "name": "python",
   "nbconvert_exporter": "python",
   "pygments_lexer": "ipython3",
   "version": "3.9.11"
  },
  "vscode": {
   "interpreter": {
    "hash": "4512e868ce03776b2acb55696d863bcca535b363b5450b1af05055989d5d969c"
   }
  }
 },
 "nbformat": 4,
 "nbformat_minor": 2
}
