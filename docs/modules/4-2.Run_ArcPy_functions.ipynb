{
 "cells": [
  {
   "cell_type": "markdown",
   "metadata": {
    "pycharm": {
     "name": "#%% md\n"
    }
   },
   "source": [
    "# Run ArcPy Functions"
   ]
  },
  {
   "cell_type": "markdown",
   "metadata": {
    "pycharm": {
     "name": "#%% md\n"
    }
   },
   "source": [
    "## 1. `ListFeatureClasses()`\n",
    "\n",
    "[The function](https://pro.arcgis.com/en/pro-app/latest/arcpy/functions/listfeatureclasses.htm)\n",
    "returns a list of the feature classes in the current workspace, which can be\n",
    "further filtered by specifying **_name_**, **_feature type_**, and\n",
    "**_feature dataset_** as optional arguments.\n",
    "\n",
    "### 1.1 Basic setting"
   ]
  },
  {
   "cell_type": "code",
   "execution_count": 1,
   "metadata": {
    "pycharm": {
     "name": "#%%\n"
    }
   },
   "outputs": [],
   "source": [
    "import arcpy"
   ]
  },
  {
   "cell_type": "code",
   "execution_count": 2,
   "metadata": {
    "pycharm": {
     "name": "#%%\n"
    }
   },
   "outputs": [],
   "source": [
    "gdb_worksp = r\"../data/class_data.gdb\"\n",
    "arcpy.env.workspace = gdb_worksp"
   ]
  },
  {
   "cell_type": "code",
   "execution_count": 3,
   "metadata": {
    "pycharm": {
     "name": "#%%\n"
    }
   },
   "outputs": [
    {
     "data": {
      "text/plain": [
       "['county_boundary',\n",
       " 'hospitals',\n",
       " 'schools',\n",
       " 'I75',\n",
       " 'roads',\n",
       " 'law_enforcement',\n",
       " 'major_highways',\n",
       " 'zip_boundaries',\n",
       " 'major_roads',\n",
       " 'landuse',\n",
       " 'crash',\n",
       " 'blockgroups',\n",
       " 'I75_2mile_buff',\n",
       " 'schools_2mile_I75',\n",
       " 'blockgroups_school_spjoin',\n",
       " 'zipbnd_q1',\n",
       " 'zipbnd_q2',\n",
       " 'blockgroups_I75_2mi',\n",
       " 'blockgroups_Layer2_CopyFeatures']"
      ]
     },
     "execution_count": 3,
     "metadata": {},
     "output_type": "execute_result"
    }
   ],
   "source": [
    "arcpy.ListFeatureClasses()"
   ]
  },
  {
   "cell_type": "markdown",
   "metadata": {
    "pycharm": {
     "name": "#%% md\n"
    }
   },
   "source": [
    "```{admonition} Note:\n",
    "The `workspace` environment must be set before using the list function.\n",
    "```"
   ]
  },
  {
   "cell_type": "markdown",
   "metadata": {
    "pycharm": {
     "name": "#%% md\n"
    }
   },
   "source": [
    "### 1.2 Optional keyword arguments\n",
    "\n",
    "- `wild_card`: a string with an asterisk \n",
    "- `feature_type`: a string indicating feature type, i.e., _Point_, _Line_, _Polygon_\n",
    "- `feature_dataset`: a string that is the name of the feature dataset."
   ]
  },
  {
   "cell_type": "code",
   "execution_count": 5,
   "metadata": {
    "pycharm": {
     "name": "#%%\n"
    }
   },
   "outputs": [],
   "source": [
    "arcpy.ListFeatureClasses(\"major*\")"
   ]
  },
  {
   "cell_type": "code",
   "execution_count": 6,
   "metadata": {
    "pycharm": {
     "name": "#%%\n"
    }
   },
   "outputs": [],
   "source": [
    "arcpy.ListFeatureClasses(\"*roads\")"
   ]
  },
  {
   "cell_type": "markdown",
   "metadata": {
    "pycharm": {
     "name": "#%% md\n"
    }
   },
   "source": [
    "### 1.3 Supply arguments to Python functions\n",
    "\n",
    "- by order:\n",
    "  - skip the argument if using default by either **empty string** or `None`.\n",
    "- by keyword:\n",
    "  - the order of arguments doesn't matter if using keyword"
   ]
  },
  {
   "cell_type": "code",
   "execution_count": 7,
   "metadata": {
    "pycharm": {
     "name": "#%%\n"
    }
   },
   "outputs": [],
   "source": [
    "# by order with empty string\n",
    "arcpy.ListFeatureClasses(\"\", \"Line\")"
   ]
  },
  {
   "cell_type": "code",
   "execution_count": 8,
   "metadata": {
    "pycharm": {
     "name": "#%%\n"
    }
   },
   "outputs": [],
   "source": [
    "# by order with None object\n",
    "arcpy.ListFeatureClasses(None, \"Point\")"
   ]
  },
  {
   "cell_type": "markdown",
   "metadata": {
    "pycharm": {
     "name": "#%% md\n"
    }
   },
   "source": [
    "``` {admonition} Note:\n",
    "`None` is a Python object not a string.\n",
    "```"
   ]
  },
  {
   "cell_type": "code",
   "execution_count": 9,
   "metadata": {
    "pycharm": {
     "name": "#%%\n"
    }
   },
   "outputs": [
    {
     "data": {
      "text/plain": [
       "NoneType"
      ]
     },
     "execution_count": 9,
     "metadata": {},
     "output_type": "execute_result"
    }
   ],
   "source": [
    "type(None)"
   ]
  },
  {
   "cell_type": "code",
   "execution_count": 4,
   "metadata": {
    "pycharm": {
     "name": "#%%\n"
    }
   },
   "outputs": [
    {
     "data": {
      "text/plain": [
       "['hospitals', 'schools']"
      ]
     },
     "execution_count": 4,
     "metadata": {},
     "output_type": "execute_result"
    }
   ],
   "source": [
    "# specifying both arguments by order\n",
    "arcpy.ListFeatureClasses(\"*s\", \"Point\")"
   ]
  },
  {
   "cell_type": "code",
   "execution_count": 11,
   "metadata": {
    "pycharm": {
     "name": "#%%\n"
    }
   },
   "outputs": [],
   "source": [
    "# no space around the assignment operator when assign value to argument (PEP8)\n",
    "arcpy.ListFeatureClasses(feature_type=\"Point\") # skipped the first argument"
   ]
  },
  {
   "cell_type": "code",
   "execution_count": 12,
   "metadata": {
    "pycharm": {
     "name": "#%%\n"
    }
   },
   "outputs": [],
   "source": [
    "# no need to supply in sequence if using keyword\n",
    "arcpy.ListFeatureClasses(feature_type=\"Point\", wild_card=\"*s\") "
   ]
  },
  {
   "cell_type": "code",
   "execution_count": 13,
   "metadata": {
    "pycharm": {
     "name": "#%%\n"
    }
   },
   "outputs": [],
   "source": [
    "arcpy.ListFeatureClasses(feature_type=\"Polygon\") "
   ]
  },
  {
   "cell_type": "code",
   "execution_count": 14,
   "metadata": {
    "pycharm": {
     "name": "#%%\n"
    }
   },
   "outputs": [],
   "source": [
    "# return empty list if no match found in the workspace\n",
    "arcpy.ListFeatureClasses(feature_dataset=\"test\")"
   ]
  },
  {
   "cell_type": "markdown",
   "metadata": {
    "pycharm": {
     "name": "#%% md\n"
    }
   },
   "source": [
    "## 2. Buffer"
   ]
  },
  {
   "cell_type": "code",
   "execution_count": 4,
   "metadata": {
    "pycharm": {
     "name": "#%%\n"
    }
   },
   "outputs": [
    {
     "data": {
      "text/html": [
       "<div class='gpresult'><h2>Messages</h2><div id='messages' data-messages='[\"Start Time: Wednesday, January 4, 2023 9:25:01 PM\",\"Succeeded at Wednesday, January 4, 2023 9:25:01 PM (Elapsed Time: 0.85 seconds)\"]' data-show='true'><div id = 'default' /></div></div>"
      ],
      "text/plain": [
       "<Result '..\\\\data\\\\class_data.gdb\\\\I75_2mile_buff'>"
      ]
     },
     "execution_count": 4,
     "metadata": {},
     "output_type": "execute_result"
    }
   ],
   "source": [
    "I75 = \"I75\"\n",
    "I75_buff = \"I75_2mile_buff\"\n",
    "arcpy.Buffer_analysis(I75, \"I75_2mile_buff\", \"2 Miles\")"
   ]
  },
  {
   "cell_type": "markdown",
   "metadata": {
    "pycharm": {
     "name": "#%% md\n"
    }
   },
   "source": [
    "```{admonition} Pro Tip:\n",
    "Create variables for **arguments**, especially for the _input_ and _output_ feature class.\n",
    "```"
   ]
  },
  {
   "cell_type": "markdown",
   "metadata": {
    "pycharm": {
     "name": "#%% md\n"
    }
   },
   "source": [
    "## 3. Clip"
   ]
  },
  {
   "cell_type": "code",
   "execution_count": null,
   "metadata": {
    "pycharm": {
     "name": "#%%\n"
    }
   },
   "outputs": [
    {
     "data": {
      "text/html": [
       "<div class='gpresult'><h2>Messages</h2><div id='messages' data-messages='[\"Start Time: Thursday, January 27, 2022 11:13:00 PM\",\"Analyzing input features...\",\"Dissolving clip features...\",\"Clipping input features...\",\"Succeeded at Thursday, January 27, 2022 11:13:01 PM (Elapsed Time: 0.77 seconds)\"]' data-show='true'><div id = 'default' /></div></div>"
      ],
      "text/plain": [
       "<Result 'D:\\\\Dropbox (UFL)\\\\URP6271\\\\urp6271_spring2022\\\\class_data.gdb\\\\schools_2mile_I75'>"
      ]
     },
     "execution_count": 50,
     "metadata": {},
     "output_type": "execute_result"
    }
   ],
   "source": [
    "school = \"schools\"\n",
    "school_2mile_I75 = \"schools_2mile_I75\"\n",
    "arcpy.analysis.Clip(school, I75_buff, school_2mile_I75)"
   ]
  },
  {
   "cell_type": "markdown",
   "metadata": {
    "pycharm": {
     "name": "#%% md\n"
    }
   },
   "source": [
    "## 4. Spatial Join"
   ]
  },
  {
   "cell_type": "code",
   "execution_count": 51,
   "metadata": {
    "pycharm": {
     "name": "#%%\n"
    }
   },
   "outputs": [
    {
     "data": {
      "text/html": [
       "<div class='gpresult'><h2>Messages</h2><div id='messages' data-messages='[\"Start Time: Thursday, January 27, 2022 11:14:01 PM\",\"Succeeded at Thursday, January 27, 2022 11:14:03 PM (Elapsed Time: 1.49 seconds)\"]' data-show='true'><div id = 'default' /></div></div>"
      ],
      "text/plain": [
       "<Result 'D:\\\\Dropbox (UFL)\\\\URP6271\\\\urp6271_spring2022\\\\class_data.gdb\\\\blockgroups_school_spjoin'>"
      ]
     },
     "execution_count": 51,
     "metadata": {},
     "output_type": "execute_result"
    }
   ],
   "source": [
    "blkgrp = \"blockgroups\"\n",
    "bg_school_spjoin = \"blockgroups_school_spjoin\"\n",
    "arcpy.SpatialJoin_analysis(blkgrp, school_2mile_I75, bg_school_spjoin, \"\", \"KEEP_COMMON\") # keep common as the join type"
   ]
  },
  {
   "cell_type": "code",
   "execution_count": 53,
   "metadata": {
    "pycharm": {
     "name": "#%%\n"
    }
   },
   "outputs": [
    {
     "name": "stdout",
     "output_type": "stream",
     "text": [
      "19\n"
     ]
    }
   ],
   "source": [
    "# count number of census block groups that match critieria\n",
    "print(arcpy.GetCount_management(bg_school_spjoin))"
   ]
  },
  {
   "cell_type": "markdown",
   "metadata": {
    "pycharm": {
     "name": "#%% md\n"
    }
   },
   "source": [
    "## 5. Add Exception Handling\n",
    "\n",
    "```\n",
    "try:\n",
    "    arcpy.Toolname_toolboxalias\n",
    "except Exception as e:\n",
    "    print(e)\n",
    "```"
   ]
  },
  {
   "cell_type": "code",
   "execution_count": null,
   "metadata": {
    "pycharm": {
     "name": "#%%\n"
    }
   },
   "outputs": [
    {
     "name": "stdout",
     "output_type": "stream",
     "text": [
      "Error: Failed to execute. Parameters are not valid.\n",
      "ERROR 000725: Output Feature Class: Dataset D:\\Dropbox (UFL)\\URP6271\\urp6271_spring2022\\class_data.gdb\\blockgroups_school_spjoin already exists.\n",
      "Failed to execute (SpatialJoin).\n",
      "\n"
     ]
    }
   ],
   "source": [
    "try:\n",
    "    blkgrp = \"blockgroups\"\n",
    "    bg_school_spjoin = \"blockgroups_school_spjoin\"\n",
    "    arcpy.SpatialJoin_analysis(blkgrp, school_2mile_I75, bg_school_spjoin, \"\", \"KEEP_COMMON\")\n",
    "    arcpy.GetCount_management(bg_school_spjoin)\n",
    "except Exception as e:\n",
    "    print(\"Error: \" + str(e)) #.strip())"
   ]
  },
  {
   "cell_type": "markdown",
   "metadata": {
    "pycharm": {
     "name": "#%% md\n"
    }
   },
   "source": [
    "### 5.1 Detect feature class existance\n",
    "\n",
    "As seen in the above cell, if the output feature class already exists in a\n",
    "workspace, by default, ArcPy will complain and stop executing the function.\n",
    "\n",
    "In this situation we can use `arcpy.Exist` to detect the existance of a feature\n",
    "class first, if already exists, use `arcpy.management.Delete` to **delete** it."
   ]
  },
  {
   "cell_type": "code",
   "execution_count": null,
   "metadata": {
    "pycharm": {
     "name": "#%%\n"
    }
   },
   "outputs": [
    {
     "name": "stdout",
     "output_type": "stream",
     "text": [
      "A feature class with the name blockgroups_school_spjoin already exists\n",
      "However, arcpy helped you deleted blockgroups_school_spjoin.\n",
      "succeed, output 19 features\n"
     ]
    }
   ],
   "source": [
    "if arcpy.Exists(bg_school_spjoin):\n",
    "    print(\"A feature class with the name {} already exists\".format(bg_school_spjoin))\n",
    "    arcpy.Delete_management(bg_school_spjoin)\n",
    "    print(\"However, arcpy helped you deleted {}.\".format(bg_school_spjoin))\n",
    "try:\n",
    "    blkgrp = \"blockgroups\"\n",
    "    bg_school_spjoin = \"blockgroups_school_spjoin\"\n",
    "    arcpy.SpatialJoin_analysis(blkgrp, school_2mile_I75, bg_school_spjoin, \"\", \"KEEP_COMMON\")\n",
    "    print(\"succeed, output {} features\".format(arcpy.GetCount_management(bg_school_spjoin)))\n",
    "except Exception as e:\n",
    "    print(\"Error: \" + str(e).strip())"
   ]
  },
  {
   "cell_type": "markdown",
   "metadata": {
    "pycharm": {
     "name": "#%% md\n"
    }
   },
   "source": [
    "### 5.2 Set the `OverwriteOutput` attribute of the `env` class\n",
    "\n",
    "Another option is to simply set `OverwriteOutput` to be `True`.\n",
    "However, be careful, enable this setting will cause ArcPy to always overwrite\n",
    "current feature class to write output feature class."
   ]
  },
  {
   "cell_type": "code",
   "execution_count": null,
   "metadata": {
    "pycharm": {
     "name": "#%%\n"
    }
   },
   "outputs": [
    {
     "name": "stdout",
     "output_type": "stream",
     "text": [
      "Yes, blockgroups_school_spjoin exists\n",
      "succeed, output 19 features\n"
     ]
    }
   ],
   "source": [
    "arcpy.env.overwriteOutput = True\n",
    "if arcpy.Exists(bg_school_spjoin):\n",
    "    print(\"Yes, {} exists\".format(bg_school_spjoin))\n",
    "try:\n",
    "    blkgrp = \"blockgroups\"\n",
    "    bg_school_spjoin = \"blockgroups_school_spjoin\"\n",
    "    arcpy.SpatialJoin_analysis(blkgrp, school_2mile_I75, bg_school_spjoin, \"\", \"KEEP_COMMON\")\n",
    "    print(\"succeed, output {} features\".format(arcpy.GetCount_management(bg_school_spjoin)))\n",
    "except Exception as e:\n",
    "    print(\"Error: \" + str(e).strip())"
   ]
  }
 ],
 "metadata": {
  "kernelspec": {
   "display_name": "Python 3",
   "language": "python",
   "name": "python3"
  },
  "language_info": {
   "codemirror_mode": {
    "name": "ipython",
    "version": 3
   },
   "file_extension": ".py",
   "mimetype": "text/x-python",
   "name": "python",
   "nbconvert_exporter": "python",
   "pygments_lexer": "ipython3",
   "version": "3.9.11"
  },
  "vscode": {
   "interpreter": {
    "hash": "4512e868ce03776b2acb55696d863bcca535b363b5450b1af05055989d5d969c"
   }
  }
 },
 "nbformat": 4,
 "nbformat_minor": 2
}