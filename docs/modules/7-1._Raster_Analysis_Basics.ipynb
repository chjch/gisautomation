{
 "cells": [
  {
   "attachments": {},
   "cell_type": "markdown",
   "id": "86ba7235",
   "metadata": {},
   "source": [
    "# 7-1: Raster Analysis Basics\n",
    "\n",
    "## 1. Raster Properties \n",
    "\n",
    "<img style=\"float: right;\" src=\"https://raw.githubusercontent.com/chjch/LAA6656/master/tutorials/img/rasterbands.png\">\n",
    "\n",
    "### 1.1 What is raster data?\n",
    "\n",
    "In its simplest form, a raster consists of ***a matrix of cells*** (or pixels) organized into rows and columns (or a grid) where ***each cell contains a value*** representing information, such as temperature. Raster grids can be outputs from raseter analysis, digital aerial photographs, imagery from satellites, digital pictures, or even scanned maps."
   ]
  },
  {
   "cell_type": "markdown",
   "id": "2750861c",
   "metadata": {},
   "source": [
    "<div style=\"padding: 10px;margin-bottom: 20px;border: thin solid #FF7F27;border-left-width: 25px;background-color: #fff\"><strong>Single-band: </strong> e.g., <i>temperature</i>, <i>elevation</i>, <i>soil pH value</i>.\n",
    "</div>\n",
    "\n",
    "<img align=\"left\" src=\"https://raw.githubusercontent.com/chjch/LAA6656/master/tutorials/img/raster_colormap.gif\">"
   ]
  },
  {
   "cell_type": "markdown",
   "id": "bffe114d",
   "metadata": {},
   "source": [
    "<div style=\"padding: 10px;margin-bottom: 20px;border: thin solid #FF7F27;border-left-width: 25px;background-color: #fff\"><strong>Multi-band and <a href=\"https://desktop.arcgis.com/en/arcmap/10.3/manage-data/raster-and-img/renderers-used-to-display-raster-data.htm#ESRI_SECTION2_6DA80CD25C02461BBD61A752F92D2E6D\">RGB composite</a></strong> e.g., time series, satellite imagery.\n",
    "</div>\n",
    "\n",
    "<img align=\"left\" src=\"https://raw.githubusercontent.com/chjch/LAA6656/master/tutorials/img/rgb_composite.gif\">"
   ]
  },
  {
   "cell_type": "markdown",
   "id": "63dd5332",
   "metadata": {},
   "source": [
    "<div style=\"padding: 10px;margin-bottom: 20px;border: thin solid #FF7F27;border-left-width: 25px;background-color: #fff\"><strong>Comparison</strong>\n",
    "</div>\n",
    "\n",
    "|    single-band satellite image     |    3-band RGB composite satellite image    |\n",
    "|:----------------------------------:|:------------------------------------------:|\n",
    "| ![grayscale](https://raw.githubusercontent.com/chjch/LAA6656/master/tutorials/img/grayscale.png) | ![rgb_composite](https://raw.githubusercontent.com/chjch/LAA6656/master/tutorials/img/rgb_composite.png) |\n"
   ]
  },
  {
   "cell_type": "markdown",
   "id": "23929ae4",
   "metadata": {},
   "source": [
    "### 1.2 List Rasters"
   ]
  },
  {
   "cell_type": "code",
   "execution_count": 1,
   "id": "fec3de40",
   "metadata": {},
   "outputs": [],
   "source": [
    "import arcpy\n",
    "\n",
    "gdb_worksp = r\"D:\\Dropbox (UFL)\\URP6271\\urp6271_spring2022\\class_data.gdb\"\n",
    "arcpy.env.workspace = gdb_worksp"
   ]
  },
  {
   "cell_type": "code",
   "execution_count": 2,
   "id": "fde39526",
   "metadata": {},
   "outputs": [
    {
     "data": {
      "text/plain": [
       "['dem', 'habitat']"
      ]
     },
     "execution_count": 2,
     "metadata": {},
     "output_type": "execute_result"
    }
   ],
   "source": [
    "rasters = arcpy.ListRasters()\n",
    "rasters"
   ]
  },
  {
   "cell_type": "markdown",
   "id": "d1926abc",
   "metadata": {},
   "source": [
    "## 2. Run Raster Tools in ArcGIS Pro\n",
    "\n",
    "### 2.1 [Euclidean distance](https://pro.arcgis.com/en/pro-app/tool-reference/spatial-analyst/euclidean-distance.htm)\n",
    "\n",
    "<img align=\"left\" src=\"https://raw.githubusercontent.com/chjch/LAA6656/master/tutorials/img/eucdist.gif\">"
   ]
  },
  {
   "cell_type": "markdown",
   "id": "a832ada4",
   "metadata": {},
   "source": [
    "### 2.2 [Slice](https://pro.arcgis.com/en/pro-app/tool-reference/spatial-analyst/slice.htm)\n",
    "<br>\n",
    "\n",
    "<div style=\"padding: 10px;margin-bottom: 20px;border: thin solid #3F48CC;border-left-width: 25px;background-color: #fff\"><strong>Slice Method - Natural breaks:</strong> <a href=\"https://pro.arcgis.com/en/pro-app/help/mapping/layer-properties/data-classification-methods.htm#ESRI_SECTION1_B47C458CFF6A4EEC933A8C7612DA558B\">Natural Breaks</a> classes are based on natural groupings inherent in the data.Class breaks are identified that best group similar values and that maximize the differences between classes. Natural breaks are data-specific classifications and not useful for comparing multiple maps built from different underlying information.\n",
    "</div>\n",
    "\n",
    "<p><img align=\"left\" src=\"https://raw.githubusercontent.com/chjch/LAA6656/master/tutorials/img/slice.gif\"></p><br>\n",
    "<p><img style=\"clear:left;\" align=\"left\" src=\"https://raw.githubusercontent.com/chjch/LAA6656/master/tutorials/img/naturalbreaks.png\"></p>"
   ]
  },
  {
   "cell_type": "markdown",
   "id": "dfd61560",
   "metadata": {},
   "source": [
    "### 2.3 [Reclassify](https://pro.arcgis.com/en/pro-app/tool-reference/spatial-analyst/reclassify.htm)\n",
    "- RemapValue\n",
    "- RemapRange"
   ]
  },
  {
   "cell_type": "markdown",
   "id": "43078dc0",
   "metadata": {},
   "source": [
    "### 2.4. [Raster Calculator](https://pro.arcgis.com/en/pro-app/tool-reference/spatial-analyst/raster-calculator.htm)\n",
    "\n",
    "- [Map Algebra Expression](https://pro.arcgis.com/en/pro-app/help/analysis/spatial-analyst/mapalgebra/working-with-operators.htm)"
   ]
  },
  {
   "cell_type": "markdown",
   "id": "1d74532d",
   "metadata": {},
   "source": [
    "## 3. Raster Processing [Environment](https://pro.arcgis.com/en/pro-app/latest/tool-reference/environment-settings/an-overview-of-geoprocessing-environment-settings.htm)\n",
    "\n",
    "General info about [Geoprocessing environment settings](https://pro.arcgis.com/en/pro-app/latest/tool-reference/environment-settings/what-is-a-geoprocessing-environment.htm).\n",
    "\n",
    "\"**MESC**\" are the four most important environment settings for raster analysis."
   ]
  },
  {
   "cell_type": "markdown",
   "id": "f2ae3ce8",
   "metadata": {},
   "source": [
    "<div style=\"padding: 10px;margin-bottom: 20px;border: thin solid #3F48CC;border-left-width: 25px;background-color: #fff\"><strong><a href=\"https://pro.arcgis.com/en/pro-app/tool-reference/environment-settings/mask.htm\">Mask</a>:</strong> set by feature class or raster dataset \n",
    "</div>\n",
    "\n",
    "<img align=\"left\" src=\"https://raw.githubusercontent.com/chjch/LAA6656/master/tutorials/img/mask.gif\">"
   ]
  },
  {
   "cell_type": "markdown",
   "id": "08dda03b",
   "metadata": {},
   "source": [
    "<div style=\"padding: 10px;margin-bottom: 20px;border: thin solid #3F48CC;border-left-width: 25px;background-color: #fff\"><strong><a href=\"https://pro.arcgis.com/en/pro-app/tool-reference/environment-settings/output-extent.htm\">Extent</a>:</strong> set by feature class, raster dataset, or coordinates of the sides of the rectangle (Left, Right, Top, and Bottom).\n",
    "</div>\n",
    "\n",
    "<img align=\"left\" src=\"https://raw.githubusercontent.com/chjch/LAA6656/master/tutorials/img/extent.png\">"
   ]
  },
  {
   "cell_type": "markdown",
   "id": "434d8809",
   "metadata": {},
   "source": [
    "<div style=\"padding: 10px;margin-bottom: 20px;border: thin solid #3F48CC;border-left-width: 25px;background-color: #fff\"><strong><a href=\"https://pro.arcgis.com/en/pro-app/tool-reference/environment-settings/snap-raster.htm\">Snap raster</a>:</strong> set by a raster dataset.\n",
    "</div>\n",
    "\n",
    "|            no snapping raster            |            with snapping raster                |\n",
    "|:----------------------------------------:|:----------------------------------------------:|\n",
    "| ![snap_left](https://raw.githubusercontent.com/chjch/LAA6656/master/tutorials/img/snapRaster_left.png) | ![snap_right](https://raw.githubusercontent.com/chjch/LAA6656/master/tutorials/img/snapRaster_right.png)     |"
   ]
  },
  {
   "cell_type": "markdown",
   "id": "efbbba39",
   "metadata": {},
   "source": [
    "<div style=\"padding: 10px;margin-bottom: 20px;border: thin solid #3F48CC;border-left-width: 25px;background-color: #fff\"><strong><a href=\"https://pro.arcgis.com/en/pro-app/tool-reference/environment-settings/output-extent.htm\">Cell size</a>:</strong> set by a raster dataset or number.\n",
    "</div>\n",
    "\n",
    "<img align=\"left\" src=\"https://raw.githubusercontent.com/chjch/LAA6656/master/tutorials/img/cellSize.gif\">"
   ]
  }
 ],
 "metadata": {
  "kernelspec": {
   "display_name": "arcgispro-py3",
   "language": "python",
   "name": "python3"
  },
  "language_info": {
   "file_extension": ".py",
   "name": "python",
   "version": "3.9.11 [MSC v.1931 64 bit (AMD64)]"
  },
  "vscode": {
   "interpreter": {
    "hash": "ce21b655b4d6c9e397d5ad93d5666c623f49909f6d0cc2f72076dafcf1b3ecfb"
   }
  }
 },
 "nbformat": 4,
 "nbformat_minor": 5
}
