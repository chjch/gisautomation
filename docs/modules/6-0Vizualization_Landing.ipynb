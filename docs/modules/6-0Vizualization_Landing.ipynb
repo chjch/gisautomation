{
 "cells": [
  {
   "attachments": {},
   "cell_type": "markdown",
   "metadata": {},
   "source": [
    "# Data Vizualization in Python"
   ]
  },
  {
   "attachments": {},
   "cell_type": "markdown",
   "metadata": {},
   "source": [
    "## Learning Objectives\n",
    "\n",
    "Upon completion of this module, you should be able to:\n",
    "\n",
    "- Learn the basics about Matplotlib\n",
    "- Create plots using Matplotlib, e.g., scatter plot, bar plot, historgram\n",
    "- Learn the mapping functions with ArcGIS API for Python\n",
    "- Understand the Spatially Enabled DataFrame (SEDF)\n",
    "- Visualize spatial data in Jupyter Notebook"
   ]
  },
  {
   "attachments": {},
   "cell_type": "markdown",
   "metadata": {},
   "source": [
    "## Learning Steps\n",
    "\n",
    "- Download the notebooks from the group portal in ArcGIS Pro\n",
    "- Review the resources listed in the notebook\n",
    "- Visualize spatial and aspatial data by running the notebooks"
   ]
  }
 ],
 "metadata": {
  "kernelspec": {
   "display_name": "arcgispro-py3",
   "language": "python",
   "name": "python3"
  },
  "language_info": {
   "name": "python",
   "version": "3.9.11 [MSC v.1931 64 bit (AMD64)]"
  },
  "orig_nbformat": 4,
  "vscode": {
   "interpreter": {
    "hash": "ce21b655b4d6c9e397d5ad93d5666c623f49909f6d0cc2f72076dafcf1b3ecfb"
   }
  }
 },
 "nbformat": 4,
 "nbformat_minor": 2
}
