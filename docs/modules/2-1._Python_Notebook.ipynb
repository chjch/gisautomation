{
 "cells": [
  {
   "cell_type": "markdown",
   "metadata": {
    "slideshow": {
     "slide_type": "slide"
    },
    "pycharm": {
     "name": "#%% md\n"
    }
   },
   "source": [
    "# Module 2 - Introduction to Python"
   ]
  },
  {
   "cell_type": "markdown",
   "metadata": {
    "slideshow": {
     "slide_type": "slide"
    },
    "pycharm": {
     "name": "#%% md\n"
    }
   },
   "source": [
    "## Part 1. Getting to know Jupyter Notebook"
   ]
  },
  {
   "cell_type": "markdown",
   "metadata": {
    "slideshow": {
     "slide_type": "fragment"
    },
    "pycharm": {
     "name": "#%% md\n"
    }
   },
   "source": [
    "### What is Jupyter Notebook?\n",
    "\n",
    "1. An Integrated Development Environment (**IDE**) embedded in web browser. \n",
    "2. Experiment with your codes dynamicly (run your codes CELL BY CELL).\n",
    "3. A light-weight application.\n",
    "4. Powerful in sharing, visualizing, and presenting ideas and results of analysis."
   ]
  },
  {
   "cell_type": "markdown",
   "metadata": {
    "slideshow": {
     "slide_type": "subslide"
    },
    "pycharm": {
     "name": "#%% md\n"
    }
   },
   "source": [
    "## Part 1. Getting to know Jupyter Notebook\n",
    "\n",
    "### How to use Jupyter Notebook in ArcGIS Pro?\n",
    "- Start ArcGIS Pro -> Analysis (tab) -> Geoprocessing (group) -> Python Notebook.\n",
    "- Save the notebook. View and rename the notebook (\\*.ipynb) in the **Catalog Pane**.\n",
    "- Run cells:\n",
    "    1. `Ctrl+Enter`: run a cell and stay focus on the current cell.\n",
    "    2. `Shift+Enter`: run a cell and move selection to the next cell.\n",
    "    3. `Alt+Enter`: run a cell and insert a new cell below the current cell."
   ]
  },
  {
   "cell_type": "code",
   "execution_count": null,
   "metadata": {
    "slideshow": {
     "slide_type": "subslide"
    },
    "pycharm": {
     "name": "#%%\n"
    }
   },
   "outputs": [],
   "source": [
    "\"Welcome to URP 6271\""
   ]
  },
  {
   "cell_type": "code",
   "execution_count": null,
   "metadata": {
    "slideshow": {
     "slide_type": "fragment"
    },
    "pycharm": {
     "name": "#%%\n"
    }
   },
   "outputs": [],
   "source": [
    "a = \"today is saturday\""
   ]
  },
  {
   "cell_type": "markdown",
   "metadata": {
    "slideshow": {
     "slide_type": "slide"
    },
    "pycharm": {
     "name": "#%% md\n"
    }
   },
   "source": [
    "### Two modes\n",
    "\n",
    "After a notebook is opened, it can be in either one of the two modes:\n",
    "\n",
    "- **Command mode**: indicated by a <span style=\"color:blue\">*blue*</span> vertical bar; press **Esc** key to enable. \n",
    "- **Edit mode**: indicated by a <span style=\"color:green\">*green*</span> vertical bar; press **Enter** to enable or simply click the cell."
   ]
  },
  {
   "cell_type": "markdown",
   "metadata": {
    "slideshow": {
     "slide_type": "subslide"
    },
    "pycharm": {
     "name": "#%% md\n"
    }
   },
   "source": [
    "### Two cell types\n",
    "\n",
    "- **Code** cell: contains Python codes ready to run, indicated by `In [ ]`.\n",
    "- **Markdown** cell: contains markdown codes to complement the Python code, without `In [ ]`."
   ]
  },
  {
   "cell_type": "code",
   "execution_count": null,
   "metadata": {
    "slideshow": {
     "slide_type": "fragment"
    },
    "pycharm": {
     "name": "#%%\n"
    }
   },
   "outputs": [],
   "source": [
    "\"This is a code cell.\""
   ]
  },
  {
   "cell_type": "markdown",
   "metadata": {
    "slideshow": {
     "slide_type": "fragment"
    },
    "pycharm": {
     "name": "#%% md\n"
    }
   },
   "source": [
    "This is a markdown cell."
   ]
  },
  {
   "cell_type": "markdown",
   "metadata": {
    "slideshow": {
     "slide_type": "slide"
    },
    "pycharm": {
     "name": "#%% md\n"
    }
   },
   "source": [
    "### Useful shortcuts (only when in command mode)"
   ]
  },
  {
   "cell_type": "markdown",
   "metadata": {
    "slideshow": {
     "slide_type": "fragment"
    },
    "pycharm": {
     "name": "#%% md\n"
    }
   },
   "source": [
    "1. `A`/`B`: Create a new cell above/below the current cell.\n",
    "2. `UP`/`DOWN`: Arrow key to navigate between cells.\n",
    "3. `M`: Convert a cell from code mode to markdown code.\n",
    "4. `Y`: Convert a cell from markdown mode to code mode.\n",
    "5. `D,D`: Delete a cell.\n",
    "6. `L`: Toggle line number.\n",
    "7. `F`: Find and replace text in markdown.\n",
    "8. `H`: Show all keyboard shortcuts."
   ]
  },
  {
   "cell_type": "markdown",
   "metadata": {
    "slideshow": {
     "slide_type": "slide"
    },
    "pycharm": {
     "name": "#%% md\n"
    }
   },
   "source": [
    "> **Tip**: multi-cursor support in Jupyter Notebook\n",
    "> - Ctrl + mouse click\n",
    "> - Alt + mouse click\n",
    "> - [Helpful tricks in Jupyter Notebook](https://www.dataquest.io/blog/jupyter-notebook-tips-tricks-shortcuts/)"
   ]
  },
  {
   "attachments": {},
   "cell_type": "markdown",
   "metadata": {
    "slideshow": {
     "slide_type": "slide"
    },
    "pycharm": {
     "name": "#%% md\n"
    }
   },
   "source": [
    "**<center>[Top 20](https://en.wikipedia.org/wiki/List_of_largest_cities) largest city in the world]</center>**\n",
    "\n",
    "| Name           | Country        | Continent     | UN Estimation (2018) | Urban Area |\n",
    "|----------------|----------------|---------------|----------------------|------------|\n",
    "| Tokyo          |  Japan         | Asia          | 37,400,068           | 4,751      |\n",
    "| Delhi          |  India         | Asia          | 28,514,000           | 14,272     |\n",
    "| Shanghai       |  China         | Asia          | 25,582,000           | 5,436      |\n",
    "| Sao Paulo      |  Brazil        | South America | 21,650,000           | 6,949      |\n",
    "| Mexico City    |  Mexico        | South America | 21,581,000           | 9,017      |\n",
    "| Cairo          |  Egypt         | Africa        | 20,076,000           | 9,844      |\n",
    "| Mumbai         |  India         | Asia          | 19,980,000           | 22,010     |\n",
    "| Beijing        |  China         | Asia          | 19,618,000           | 4,659      |\n",
    "| Dhaka          |  Bangladesh    | Asia          | 19,578,000           | 36,928     |\n",
    "| Osaka          |  Japan         | Asia          | 19,281,000           | 5,129      |\n",
    "| New York       |  United States | North America | 18,819,000           | 684        |\n",
    "| Karachi        |  Pakistan      | Asia          | 15,400,000           | 14,648     |\n",
    "| Buenos Aires   |  Argentina     | South America | 14,967,000           | 5,033      |\n",
    "| Chongqing      |  China         | Asia          | 14,838,000           | 5,378      |\n",
    "| Istanbul       |  Turkey        | Europe        | 14,751,000           | 11,135     |\n",
    "| Kolkata        |  India         | Asia          | 14,681,000           | 13,830     |\n",
    "| Manila         |  Philippines   | Asia          | 13,482,000           | 12,798     |\n",
    "| Lagos          |  Nigeria       | Africa        | 13,463,000           | 7,877      |\n",
    "| Rio de Janeiro |  Brazil        | South America | 13,293,000           | 6,181      |\n",
    "| Tianjin        |  China         | Asia          | 13,215,000           | 3,886      |"
   ]
  }
 ],
 "metadata": {
  "celltoolbar": "Slideshow",
  "kernelspec": {
   "display_name": "ArcGISPro",
   "language": "Python",
   "name": "python3"
  },
  "language_info": {
   "file_extension": ".py",
   "name": "python",
   "version": "3"
  }
 },
 "nbformat": 4,
 "nbformat_minor": 2
}