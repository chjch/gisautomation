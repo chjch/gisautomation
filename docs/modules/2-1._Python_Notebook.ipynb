{
 "cells": [
  {
   "attachments": {},
   "cell_type": "markdown",
   "metadata": {
    "pycharm": {
     "name": "#%% md\n"
    },
    "slideshow": {
     "slide_type": "slide"
    }
   },
   "source": [
    "# 2-1: Jupyter Notebook"
   ]
  },
  {
   "attachments": {},
   "cell_type": "markdown",
   "metadata": {
    "pycharm": {
     "name": "#%% md\n"
    },
    "slideshow": {
     "slide_type": "fragment"
    }
   },
   "source": [
    "## What is Jupyter Notebook?\n",
    "\n",
    "1. An Integrated Development Environment (**IDE**) embedded in web browser. \n",
    "2. Experiment with your codes dynamicly (run your codes CELL BY CELL).\n",
    "3. A light-weight application.\n",
    "4. Powerful in sharing, visualizing, and presenting ideas and results of analysis."
   ]
  },
  {
   "attachments": {},
   "cell_type": "markdown",
   "metadata": {
    "pycharm": {
     "name": "#%% md\n"
    },
    "slideshow": {
     "slide_type": "subslide"
    }
   },
   "source": [
    "## How to use Jupyter Notebook in ArcGIS Pro?\n",
    "- Start ArcGIS Pro -> Analysis (tab) -> Geoprocessing (group) -> Python Notebook.\n",
    "- Save the notebook. View and rename the notebook (\\*.ipynb) in the **Catalog Pane**.\n",
    "- Run cells:\n",
    "    1. `Ctrl+Enter`: run a cell and stay focus on the current cell.\n",
    "    2. `Shift+Enter`: run a cell and move selection to the next cell.\n",
    "    3. `Alt+Enter`: run a cell and insert a new cell below the current cell."
   ]
  },
  {
   "cell_type": "code",
   "execution_count": 1,
   "metadata": {
    "pycharm": {
     "name": "#%%\n"
    },
    "slideshow": {
     "slide_type": "subslide"
    }
   },
   "outputs": [
    {
     "data": {
      "text/plain": [
       "'Welcome to URP 6271'"
      ]
     },
     "execution_count": 1,
     "metadata": {},
     "output_type": "execute_result"
    }
   ],
   "source": [
    "\"Welcome to URP 6271\""
   ]
  },
  {
   "cell_type": "code",
   "execution_count": 2,
   "metadata": {
    "pycharm": {
     "name": "#%%\n"
    },
    "slideshow": {
     "slide_type": "fragment"
    }
   },
   "outputs": [],
   "source": [
    "a = \"today is saturday\""
   ]
  },
  {
   "cell_type": "markdown",
   "metadata": {
    "pycharm": {
     "name": "#%% md\n"
    },
    "slideshow": {
     "slide_type": "slide"
    }
   },
   "source": [
    "### Two modes\n",
    "\n",
    "After a notebook is opened, it can be in either one of the two modes:\n",
    "\n",
    "- **Command mode**: indicated by a <span style=\"color:blue\">*blue*</span> vertical bar; press **Esc** key to enable. \n",
    "- **Edit mode**: indicated by a <span style=\"color:green\">*green*</span> vertical bar; press **Enter** to enable or simply click the cell."
   ]
  },
  {
   "cell_type": "markdown",
   "metadata": {
    "pycharm": {
     "name": "#%% md\n"
    },
    "slideshow": {
     "slide_type": "subslide"
    }
   },
   "source": [
    "### Two cell types\n",
    "\n",
    "- **Code** cell: contains Python codes ready to run, indicated by `In [ ]`.\n",
    "- **Markdown** cell: contains markdown codes to complement the Python code, without `In [ ]`."
   ]
  },
  {
   "cell_type": "code",
   "execution_count": null,
   "metadata": {
    "pycharm": {
     "name": "#%%\n"
    },
    "slideshow": {
     "slide_type": "fragment"
    }
   },
   "outputs": [],
   "source": [
    "\"This is a code cell.\""
   ]
  },
  {
   "cell_type": "markdown",
   "metadata": {
    "pycharm": {
     "name": "#%% md\n"
    },
    "slideshow": {
     "slide_type": "fragment"
    }
   },
   "source": [
    "This is a markdown cell."
   ]
  },
  {
   "cell_type": "markdown",
   "metadata": {
    "pycharm": {
     "name": "#%% md\n"
    },
    "slideshow": {
     "slide_type": "slide"
    }
   },
   "source": [
    "### Useful shortcuts (only when in command mode)"
   ]
  },
  {
   "cell_type": "markdown",
   "metadata": {
    "pycharm": {
     "name": "#%% md\n"
    },
    "slideshow": {
     "slide_type": "fragment"
    }
   },
   "source": [
    "1. `A`/`B`: Create a new cell above/below the current cell.\n",
    "2. `UP`/`DOWN`: Arrow key to navigate between cells.\n",
    "3. `M`: Convert a cell from code mode to markdown code.\n",
    "4. `Y`: Convert a cell from markdown mode to code mode.\n",
    "5. `D,D`: Delete a cell.\n",
    "6. `L`: Toggle line number.\n",
    "7. `F`: Find and replace text in markdown.\n",
    "8. `H`: Show all keyboard shortcuts."
   ]
  },
  {
   "attachments": {},
   "cell_type": "markdown",
   "metadata": {},
   "source": [
    "```{admonition} Tip:\n",
    ":class: tip\n",
    "Multi-cursor support in Jupyter Notebook\n",
    "\n",
    "- Ctrl + mouse click\n",
    "- Alt + mouse click\n",
    "- [Helpful tricks in Jupyter Notebook](https://www.dataquest.io/blog/jupyter-notebook-tips-tricks-shortcuts/)\n",
    "\n",
    "```"
   ]
  },
  {
   "attachments": {},
   "cell_type": "markdown",
   "metadata": {
    "pycharm": {
     "name": "#%% md\n"
    },
    "slideshow": {
     "slide_type": "slide"
    }
   },
   "source": [
    "**<center>[Top 20](https://en.wikipedia.org/wiki/List_of_largest_cities) largest city in the world]</center>**\n",
    "\n",
    "| Name           | Country        | Continent     | UN Estimation (2018) | Urban Area |\n",
    "|----------------|----------------|---------------|----------------------|------------|\n",
    "| Tokyo          |  Japan         | Asia          | 37,400,068           | 4,751      |\n",
    "| Delhi          |  India         | Asia          | 28,514,000           | 14,272     |\n",
    "| Shanghai       |  China         | Asia          | 25,582,000           | 5,436      |\n",
    "| Sao Paulo      |  Brazil        | South America | 21,650,000           | 6,949      |\n",
    "| Mexico City    |  Mexico        | South America | 21,581,000           | 9,017      |\n",
    "| Cairo          |  Egypt         | Africa        | 20,076,000           | 9,844      |\n",
    "| Mumbai         |  India         | Asia          | 19,980,000           | 22,010     |\n",
    "| Beijing        |  China         | Asia          | 19,618,000           | 4,659      |\n",
    "| Dhaka          |  Bangladesh    | Asia          | 19,578,000           | 36,928     |\n",
    "| Osaka          |  Japan         | Asia          | 19,281,000           | 5,129      |\n",
    "| New York       |  United States | North America | 18,819,000           | 684        |\n",
    "| Karachi        |  Pakistan      | Asia          | 15,400,000           | 14,648     |\n",
    "| Buenos Aires   |  Argentina     | South America | 14,967,000           | 5,033      |\n",
    "| Chongqing      |  China         | Asia          | 14,838,000           | 5,378      |\n",
    "| Istanbul       |  Turkey        | Europe        | 14,751,000           | 11,135     |\n",
    "| Kolkata        |  India         | Asia          | 14,681,000           | 13,830     |\n",
    "| Manila         |  Philippines   | Asia          | 13,482,000           | 12,798     |\n",
    "| Lagos          |  Nigeria       | Africa        | 13,463,000           | 7,877      |\n",
    "| Rio de Janeiro |  Brazil        | South America | 13,293,000           | 6,181      |\n",
    "| Tianjin        |  China         | Asia          | 13,215,000           | 3,886      |"
   ]
  }
 ],
 "metadata": {
  "celltoolbar": "Slideshow",
  "kernelspec": {
   "display_name": "arcgispro-py3",
   "language": "python",
   "name": "python3"
  },
  "language_info": {
   "codemirror_mode": {
    "name": "ipython",
    "version": 3
   },
   "file_extension": ".py",
   "mimetype": "text/x-python",
   "name": "python",
   "nbconvert_exporter": "python",
   "pygments_lexer": "ipython3",
   "version": "3.9.11"
  },
  "vscode": {
   "interpreter": {
    "hash": "ce21b655b4d6c9e397d5ad93d5666c623f49909f6d0cc2f72076dafcf1b3ecfb"
   }
  }
 },
 "nbformat": 4,
 "nbformat_minor": 2
}
