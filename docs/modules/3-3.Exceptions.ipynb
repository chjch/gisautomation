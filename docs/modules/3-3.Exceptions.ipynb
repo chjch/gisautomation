{
 "cells": [
  {
   "cell_type": "markdown",
   "id": "70c50295",
   "metadata": {},
   "source": [
    "# Exceptions\n",
    "\n",
    "In general, two types of errors we can encounter in Python:\n",
    "- **syntax error**: also known as _parsing_ error, the _Python interprter_ cannot parse the codes to machine language.\n",
    "- **exception**: _syntactically correct_, cause an error when an attempt is made to execute the codes."
   ]
  },
  {
   "cell_type": "markdown",
   "id": "1cbecee5",
   "metadata": {},
   "source": [
    "## 1. Syntax Error\n",
    "\n",
    "Syntax error is the most common complaint you get while you are still learning Python.\n",
    "This type of error is checked first before all other types of \"Exceptions.\"\n",
    "Following are some common examples:\n",
    "\n",
    "- In `if` statement, use **assignment operator** `=`, rather than **comparison operator** `==`.\n",
    "- \"if-else\" statement without colon.\n",
    "- `else` without an `if`\n",
    "- define string with just one quote, or mixed single and double quotes.\n",
    "- mistyped dots e.g., `1.3.2`"
   ]
  },
  {
   "cell_type": "markdown",
   "id": "b57c6bfb",
   "metadata": {},
   "source": [
    "````{tip}\n",
    "Can you identify the syntax error in the following code?\n",
    "\n",
    "```python\n",
    "a = 3.4\n",
    "\n",
    "if a = 3\n",
    "    print(\"a is equal to 3\")\n",
    "elif:\n",
    "    print(\"a is not equal to 3')\n",
    "```\n",
    "````"
   ]
  },
  {
   "cell_type": "markdown",
   "id": "30ffe029",
   "metadata": {},
   "source": [
    "```{note}\n",
    "Syntax error were checked first because Python **Interpreter** first converts Python code to machine code.\n",
    "```"
   ]
  },
  {
   "cell_type": "markdown",
   "id": "67219032",
   "metadata": {},
   "source": [
    "## 2.  Exceptions\n",
    "\n",
    "**Type Error**\n",
    "\n",
    "- pass a list where a number or string is expected\n",
    "- more arguments received"
   ]
  },
  {
   "cell_type": "code",
   "execution_count": null,
   "id": "3f24ada1",
   "metadata": {},
   "outputs": [],
   "source": [
    "int(['3.4'])"
   ]
  },
  {
   "cell_type": "markdown",
   "id": "bbfba726",
   "metadata": {},
   "source": [
    "**Name Error**\n",
    "\n",
    "- A typo in Python keywords\n",
    "- A variable is called before it get defined"
   ]
  },
  {
   "cell_type": "markdown",
   "id": "dc8ceb9a",
   "metadata": {},
   "source": [
    "**Zero Division Error**"
   ]
  },
  {
   "cell_type": "code",
   "execution_count": null,
   "id": "92f5bcef",
   "metadata": {},
   "outputs": [],
   "source": [
    "print(3 / 0)"
   ]
  },
  {
   "cell_type": "markdown",
   "id": "6cafa90c",
   "metadata": {},
   "source": [
    "**Attribute Error**\n",
    "\n",
    "- An object does not have the attribute called.m"
   ]
  },
  {
   "cell_type": "code",
   "execution_count": null,
   "id": "e25838c5",
   "metadata": {},
   "outputs": [],
   "source": [
    "\"a\".upper()"
   ]
  },
  {
   "cell_type": "code",
   "execution_count": null,
   "id": "3c2557c9",
   "metadata": {},
   "outputs": [],
   "source": [
    "[\"a\"].upper()"
   ]
  },
  {
   "cell_type": "markdown",
   "id": "c1205e34",
   "metadata": {},
   "source": [
    "**Value Error**\n",
    "\n",
    "- Cannot convert something\n",
    "- useful when checking whether the input is numeric"
   ]
  },
  {
   "cell_type": "code",
   "execution_count": null,
   "id": "013a8dcb",
   "metadata": {},
   "outputs": [],
   "source": [
    "float(\"3\")"
   ]
  },
  {
   "cell_type": "code",
   "execution_count": null,
   "id": "2606d795",
   "metadata": {},
   "outputs": [],
   "source": [
    "float(\"d\")"
   ]
  },
  {
   "cell_type": "code",
   "execution_count": null,
   "id": "24b12446",
   "metadata": {
    "tags": [
     "remove-output"
    ]
   },
   "outputs": [],
   "source": [
    "num = input(\"Please enter a number: \")\n",
    "print(float(num))"
   ]
  },
  {
   "cell_type": "markdown",
   "id": "b90cfb29",
   "metadata": {},
   "source": [
    "## 3. Exception Handling\n",
    "\n",
    "Customize the behavior when an exception occured. Using the `try`-`except` statement\n",
    "```\n",
    "try:\n",
    "    some Python\n",
    "    statements\n",
    "except:\n",
    "    what to do \n",
    "    if exception is raised\n",
    "```"
   ]
  },
  {
   "cell_type": "code",
   "execution_count": null,
   "id": "07efaea8",
   "metadata": {
    "tags": [
     "remove-output"
    ]
   },
   "outputs": [],
   "source": [
    "try:\n",
    "    guess = int(input(\"Enter a number between 1 and 6: \"))\n",
    "except ValueError:\n",
    "    print(\"Invalid number\")"
   ]
  }
 ],
 "metadata": {
  "celltoolbar": "Edit Metadata",
  "kernelspec": {
   "display_name": "Python 3",
   "language": "python",
   "name": "python3"
  },
  "language_info": {
   "codemirror_mode": {
    "name": "ipython",
    "version": 3
   },
   "file_extension": ".py",
   "mimetype": "text/x-python",
   "name": "python",
   "nbconvert_exporter": "python",
   "pygments_lexer": "ipython3",
   "version": "3.9.11"
  }
 },
 "nbformat": 4,
 "nbformat_minor": 5
}
