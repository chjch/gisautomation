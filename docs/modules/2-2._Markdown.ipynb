{
 "cells": [
  {
   "cell_type": "markdown",
   "metadata": {
    "slideshow": {
     "slide_type": "slide"
    }
   },
   "source": [
    "# 2-2: Markdown"
   ]
  },
  {
   "cell_type": "markdown",
   "metadata": {
    "slideshow": {
     "slide_type": "fragment"
    }
   },
   "source": [
    "![image](C:/Users/korey/gisautomation/docs/src/images/Markdown-mark.svg)\n",
    "\n",
    "Markdown is a _lightweight_ **markup language** for creating formatted text using a\n",
    "plain-text editor.\n",
    "\n",
    "Jupyter notebook has built-in support for the Markdown language.\n",
    "\n",
    "Besides staying inside a notebook file (.ipynb), markdown codes can also exists in\n",
    "its own file (more commonly) with an file extension (\\*.md)."
   ]
  },
  {
   "cell_type": "markdown",
   "metadata": {
    "slideshow": {
     "slide_type": "slide"
    }
   },
   "source": [
    "## 1. Basic Syntax of Markdown"
   ]
  },
  {
   "cell_type": "markdown",
   "metadata": {
    "slideshow": {
     "slide_type": "fragment"
    }
   },
   "source": [
    "1. Header\n",
    "    - `# H1`\n",
    "    - `## H2`"
   ]
  },
  {
   "cell_type": "markdown",
   "metadata": {
    "slideshow": {
     "slide_type": "fragment"
    }
   },
   "source": [
    "2. Emphasize\n",
    "    - Italic: `_`\n",
    "    - Bold: `**`\n",
    "    - Italic and Bold"
   ]
  },
  {
   "cell_type": "markdown",
   "metadata": {
    "slideshow": {
     "slide_type": "subslide"
    }
   },
   "source": [
    "### 1. Basics Syntax of Markdown"
   ]
  },
  {
   "cell_type": "markdown",
   "metadata": {
    "slideshow": {
     "slide_type": "fragment"
    }
   },
   "source": [
    "3. List\n",
    "    - Unordered list: `*`, `-`, `+`\n",
    "    - Ordered list: `1.`, `2.`, `3.`\n",
    "    - Nested list\n",
    "    - To do list"
   ]
  },
  {
   "cell_type": "markdown",
   "metadata": {
    "slideshow": {
     "slide_type": "fragment"
    }
   },
   "source": [
    "4. Link \n",
    "    - Website: `[name of link](url)`, e.g., `[Markdown Cheatsheet](https://en.support.wordpress.com/markdown-quick-reference/)`\n",
    "    - Image: `![alttext](path to image)`"
   ]
  },
  {
   "cell_type": "markdown",
   "metadata": {
    "slideshow": {
     "slide_type": "slide"
    }
   },
   "source": [
    "## 2. An Example"
   ]
  },
  {
   "cell_type": "markdown",
   "metadata": {},
   "source": [
    "```{admonition} \n",
    "<details>\n",
    "  <summary><strong>Show Raw Text</strong></summary>\n",
    "\n",
    "  [link](https://pro.arcgis.com/en/pro-app/latest/arcpy/get-started/a-quick-tour-of-arcpy.htm)\n",
    "  A quick tour of ArcPy\n",
    "  ArcPy is a Python site package that provides a useful and productive way to perform geographic data analysis, data conversion, data management, and map automation with Python.\n",
    "  Running a tool\n",
    "  arcpy.Buffer_analysis(\"c:/data/Portland.gdb/streets\", \"c:/data/Portland.gdb/steets_buffer\", \"500 METERS\")\n",
    "  Working with modules\n",
    "  ArcPy includes modules covering other areas of ArcGIS. ArcPy is supported by a series of modules, including the following:\n",
    "  Charts module (arcpy.charts)\n",
    "  Data Access module (arcpy.da)\n",
    "  Geocoding module (arcpy.geocoding)\n",
    "  Image Analysis module (arcpy.ia)\n",
    "  Mapping module (arcpy.mp)\n",
    "  Metadata module (arcpy.metadata)\n",
    "  Network Analyst modules (arcpy.nax and arcpy.na)\n",
    "  Sharing module (arcpy.sharing)\n",
    "  Spatial Analyst module (arcpy.sa)\n",
    "  Workflow Manager (Classic) module (arcpy.wmx)\n",
    "  Related topics\n",
    "  What is ArcPy?\n",
    "  Essential ArcPy vocabulary\n",
    "  Install ArcPy\n",
    "  Importing ArcPy\n",
    "  \n",
    "</details>\n",
    "```"
   ]
  },
  {
   "cell_type": "markdown",
   "metadata": {
    "slideshow": {
     "slide_type": "fragment"
    }
   },
   "source": [
    "[link](https://pro.arcgis.com/en/pro-app/latest/arcpy/get-started/a-quick-tour-of-arcpy.htm)\n",
    "A quick tour of ArcPy\n",
    "ArcPy is a Python site package that provides a useful and productive way to perform geographic data analysis, data conversion, data management, and map automation with Python.\n",
    "Running a tool\n",
    "arcpy.Buffer_analysis(\"c:/data/Portland.gdb/streets\", \"c:/data/Portland.gdb/steets_buffer\", \"500 METERS\")\n",
    "Working with modules\n",
    "ArcPy includes modules covering other areas of ArcGIS. ArcPy is supported by a series of modules, including the following:\n",
    "Charts module (arcpy.charts)\n",
    "Data Access module (arcpy.da)\n",
    "Geocoding module (arcpy.geocoding)\n",
    "Image Analysis module (arcpy.ia)\n",
    "Mapping module (arcpy.mp)\n",
    "Metadata module (arcpy.metadata)\n",
    "Network Analyst modules (arcpy.nax and arcpy.na)\n",
    "Sharing module (arcpy.sharing)\n",
    "Spatial Analyst module (arcpy.sa)\n",
    "Workflow Manager (Classic) module (arcpy.wmx)\n",
    "Related topics\n",
    "What is ArcPy?\n",
    "Essential ArcPy vocabulary\n",
    "Install ArcPy\n",
    "Importing ArcPy\n",
    "\n",
    "\n",
    " change to code block - italic and bold"
   ]
  },
  {
   "cell_type": "markdown",
   "metadata": {
    "slideshow": {
     "slide_type": "slide"
    }
   },
   "source": [
    "## 3. Support of LaTeX"
   ]
  },
  {
   "cell_type": "markdown",
   "metadata": {
    "slideshow": {
     "slide_type": "fragment"
    }
   },
   "source": [
    "**What is LaTeX**\n",
    "\n",
    "- [LaTeX](https://www.latex-project.org/) is a software system for document preparation.\n",
    "  When writing, the writer uses plain text as opposed to the formatted text found in\n",
    "  \"What You See Is What You Get\" word processors, such as _Microsoft Word_.\n",
    "- LaTeX started as a writing tool for mathematicians and computer scientists, but even\n",
    "  from early in its development, it has also been taken up by scholars who needed to\n",
    "  write documents that include **complex math expressions**."
   ]
  },
  {
   "cell_type": "markdown",
   "metadata": {},
   "source": [
    "Jupyter Notebook has built-in support for LaTeX, which makes it even more appealing\n",
    "for presentation and instruction purposes.\n",
    "When writing equation in LaTeX, simply enclose the equation with `$`."
   ]
  },
  {
   "cell_type": "markdown",
   "metadata": {},
   "source": [
    "```{admonition} Note\n",
    "To work with LaTeX in Jupyter, the cell must be a **markdown** cell.\n",
    "```"
   ]
  },
  {
   "cell_type": "markdown",
   "metadata": {
    "slideshow": {
     "slide_type": "fragment"
    }
   },
   "source": [
    "As an example, let's write some euqation on the\n",
    "[ArcGIS Documentation](https://pro.arcgis.com/en/pro-app/latest/tool-reference/spatial-statistics/h-how-average-nearest-neighbor-distance-spatial-st.htm). "
   ]
  }
 ],
 "metadata": {
  "celltoolbar": "Slideshow",
  "kernelspec": {
   "display_name": "Python 3",
   "language": "python",
   "name": "python3"
  },
  "language_info": {
   "codemirror_mode": {
    "name": "ipython",
    "version": 3
   },
   "file_extension": ".py",
   "mimetype": "text/x-python",
   "name": "python",
   "nbconvert_exporter": "python",
   "pygments_lexer": "ipython3",
   "version": "3.9.11"
  },
  "vscode": {
   "interpreter": {
    "hash": "ce21b655b4d6c9e397d5ad93d5666c623f49909f6d0cc2f72076dafcf1b3ecfb"
   }
  }
 },
 "nbformat": 4,
 "nbformat_minor": 2
}
