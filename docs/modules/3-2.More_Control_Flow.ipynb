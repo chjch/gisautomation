{
 "cells": [
  {
   "cell_type": "markdown",
   "metadata": {
    "pycharm": {
     "name": "#%% md\n"
    }
   },
   "source": [
    "# More Statements for Control Flow\n",
    "\n",
    "Using loops in Python automates and repeats the tasks in an efficient manner.\n",
    "But sometimes, there may arise a condition where you want to (1) _exit the loop completely_, \n",
    "(2) skip an iteration, or (3) ignore that condition.\n",
    "These can be done by **loop control statements**.\n",
    "\n",
    "Loop control statements change execution from its normal sequence.\n",
    "In Python, these statements include:\n",
    "\n",
    "- `break`,\n",
    "- `continue`,\n",
    "- `path`."
   ]
  },
  {
   "cell_type": "code",
   "execution_count": null,
   "metadata": {
    "pycharm": {
     "name": "#%%\n"
    }
   },
   "outputs": [],
   "source": [
    "import random\n",
    "x = random.randint(1, 6)"
   ]
  },
  {
   "cell_type": "markdown",
   "metadata": {
    "pycharm": {
     "name": "#%% md\n"
    }
   },
   "source": [
    "## 1. `break` statement\n",
    "\n",
    "The `break` statement is used to **terminate the loop** or statement in which it is present.\n",
    "After that, the control will pass to the statements that are present after the break statement, if available."
   ]
  },
  {
   "cell_type": "code",
   "execution_count": null,
   "metadata": {
    "pycharm": {
     "name": "#%%\n"
    },
    "tags": [
     "remove-output"
    ]
   },
   "outputs": [],
   "source": [
    "# example of break statement (same script from last module)\n",
    "num_guess = 3\n",
    "\n",
    "while num_guess > 0:\n",
    "    guess = int(input(\"Enter a number between 1 and 6: \"))\n",
    "    num_guess -= 1\n",
    "    if x > guess:\n",
    "        print(\"Try larger.\")\n",
    "    elif x < guess:\n",
    "        print(\"Try smaller.\")\n",
    "    else:\n",
    "        print(\"Bingo!\")\n",
    "        break  # using break to terminate the loop although num_guess > 0\n",
    "        \n",
    "    if num_guess > 0:\n",
    "        print(str(num_guess) + \" more guesses left.\")\n",
    "    else:\n",
    "        print(\"Sorry, no more guesses.\")"
   ]
  },
  {
   "cell_type": "markdown",
   "metadata": {
    "pycharm": {
     "name": "#%% md\n"
    }
   },
   "source": [
    "```{note}\n",
    "When execution leaves a scope, all automatic objects that were created in that scope are destroyed.\n",
    "```"
   ]
  },
  {
   "cell_type": "markdown",
   "metadata": {
    "pycharm": {
     "name": "#%% md\n"
    }
   },
   "source": [
    "If the break statement is present in the nested loop, then it terminates\n",
    "only those loops which contains `break` statement.\n",
    "\n",
    "```{image} ../_static/images/tictactoe.png\n",
    ":class: shadow mb-3\n",
    ":alt: tictactoe\n",
    ":scale: 70%\n",
    ":align: center\n",
    "```"
   ]
  },
  {
   "cell_type": "code",
   "execution_count": 5,
   "metadata": {
    "pycharm": {
     "name": "#%%\n"
    }
   },
   "outputs": [
    {
     "name": "stdout",
     "output_type": "stream",
     "text": [
      "0 0\n",
      "0 1\n",
      "0 2\n",
      "1 0\n",
      "1 1\n",
      "1 2\n",
      "2 0\n",
      "2 1\n",
      "2 2\n"
     ]
    }
   ],
   "source": [
    "for x in range(3):\n",
    "    for y in range(3):\n",
    "        print(x, y)"
   ]
  },
  {
   "cell_type": "markdown",
   "metadata": {
    "pycharm": {
     "name": "#%% md\n"
    }
   },
   "source": [
    "The following code will skip row 2 (`x == 1`) completely.\n",
    "When x is equal to 1, the `break` statement terminate the inner `for` loop,\n",
    "but the outer `for` loop is **not affected**."
   ]
  },
  {
   "cell_type": "markdown",
   "metadata": {
    "pycharm": {
     "name": "#%% md\n"
    }
   },
   "source": [
    "<script>mermaid.initialize({\n",
    "    theme: \"forest\",\n",
    "    mermaid: {\n",
    "        flowchart: {useMaxWidth: true}\n",
    "    }\n",
    "});\n",
    "</script>\n",
    "\n",
    "```{mermaid}\n",
    ":align: center\n",
    "flowchart TD\n",
    "    A[outer loop] -->|enter| B[inner loop]\n",
    "    B -->|enter| C{condition?}\n",
    "    C -->|True| D[`break` statement]\n",
    "    C -->|False| B\n",
    "    D -->|loop\\ninner\\nterminate| A\n",
    "```"
   ]
  },
  {
   "cell_type": "code",
   "execution_count": 4,
   "metadata": {
    "pycharm": {
     "name": "#%%\n"
    }
   },
   "outputs": [
    {
     "name": "stdout",
     "output_type": "stream",
     "text": [
      "0 0\n",
      "0 1\n",
      "0 2\n",
      "2 0\n",
      "2 1\n",
      "2 2\n"
     ]
    }
   ],
   "source": [
    "for x in range(3):\n",
    "    for y in range(3):\n",
    "        if x == 1:\n",
    "            break\n",
    "        print(x, y)"
   ]
  },
  {
   "cell_type": "markdown",
   "metadata": {
    "pycharm": {
     "name": "#%% md\n"
    }
   },
   "source": [
    "## 2. `continue` statement\n",
    "\n",
    "`continue` statement is opposite to that of `break` statement, instead of\n",
    "terminating the loop, it forces to execute the next iteration of the loop.\n",
    "\n",
    "The following example allows us to **validate the input** before evaluate the value of the input number."
   ]
  },
  {
   "cell_type": "code",
   "execution_count": null,
   "metadata": {
    "pycharm": {
     "name": "#%%\n"
    },
    "tags": [
     "remove-output"
    ]
   },
   "outputs": [],
   "source": [
    "num_guess = 3\n",
    "while num_guess > 0:\n",
    "    guess = int(input(\"Enter a number between 1 and 6: \"))\n",
    "    \n",
    "    if guess > 6 or guess < 1:\n",
    "        print(\"Your input is out of range\")\n",
    "        continue\n",
    "    \n",
    "    num_guess -= 1\n",
    "    \n",
    "    if x > guess:\n",
    "        hint = \"Try larger. \"\n",
    "    elif x < guess:\n",
    "        hint = \"Try smaller. \"\n",
    "    else:\n",
    "        print(\"Bingo!\")\n",
    "        break      \n",
    "        \n",
    "    if num_guess > 0:\n",
    "        print(hint + str(num_guess) + \" more guesses left.\")\n",
    "    else:\n",
    "        print(\"You guessed wrong, no more guesses.\")"
   ]
  },
  {
   "cell_type": "markdown",
   "metadata": {
    "pycharm": {
     "name": "#%% md\n"
    }
   },
   "source": [
    "## 3. `pass` statement\n",
    "\n",
    "The pass statement does nothing. It can be used when a statement is required syntactically but the program requires no action. "
   ]
  },
  {
   "cell_type": "code",
   "execution_count": null,
   "metadata": {
    "pycharm": {
     "name": "#%%\n"
    },
    "tags": [
     "remove-output"
    ]
   },
   "outputs": [],
   "source": [
    "num_guess = 3\n",
    "while num_guess > 0:\n",
    "    guess = int(input(\"Enter a number between 1 and 6: \"))\n",
    "    num_guess -= 1\n",
    "    \n",
    "    if guess > 6 or guess < 1:\n",
    "        print(\"Your input is out of range\")\n",
    "        continue\n",
    "    else:\n",
    "        if x > guess:\n",
    "            hint = \"Try larger. \"\n",
    "        elif x < guess:\n",
    "            hint = \"Try smaller. \"\n",
    "        else:\n",
    "            print(\"Bingo!\")\n",
    "            break      \n",
    "        \n",
    "    if num_guess > 0:\n",
    "        print(hint + str(num_guess) + \" more guesses left.\")\n",
    "    else:\n",
    "        pass\n",
    "    \n",
    "else: # else on exhaustion of loop\n",
    "    print(\"You guessed wrong, no more guesses.\")"
   ]
  },
  {
   "cell_type": "markdown",
   "metadata": {
    "pycharm": {
     "name": "#%% md\n"
    }
   },
   "source": [
    "```{note}\n",
    "Note the last `else` statement is in the same indentation level as the `while` statement.\n",
    "This means that the `else` is only get executed after `while` loop exhausted. \n",
    "```"
   ]
  }
 ],
 "metadata": {
  "celltoolbar": "Edit Metadata",
  "kernelspec": {
   "display_name": "Python 3",
   "language": "python",
   "name": "python3"
  },
  "language_info": {
   "codemirror_mode": {
    "name": "ipython",
    "version": 3
   },
   "file_extension": ".py",
   "mimetype": "text/x-python",
   "name": "python",
   "nbconvert_exporter": "python",
   "pygments_lexer": "ipython3",
   "version": "3.9.11"
  },
  "vscode": {
   "interpreter": {
    "hash": "ce21b655b4d6c9e397d5ad93d5666c623f49909f6d0cc2f72076dafcf1b3ecfb"
   }
  }
 },
 "nbformat": 4,
 "nbformat_minor": 2
}