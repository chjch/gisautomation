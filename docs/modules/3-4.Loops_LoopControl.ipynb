{
 "cells": [
  {
   "cell_type": "markdown",
   "metadata": {
    "pycharm": {
     "name": "#%% md\n"
    }
   },
   "source": [
    "# Loops and Loop Control\n",
    "\n",
    "A loop is an instruction that repeats multiple times (iterations) as long as some **condition** is met.\n",
    "There are two types of loops in Python:\n",
    "\n",
    "- `for` loop\n",
    "- `while` loop"
   ]
  },
  {
   "cell_type": "markdown",
   "metadata": {
    "pycharm": {
     "name": "#%% md\n"
    }
   },
   "source": [
    "## 1. For Loop\n",
    "\n",
    "A for loop in Python is used to iterate over a sequence, e.g., list, _tuple_, set, dictionary, string.\n",
    "\n",
    "Following is an example of For loop using a `range` object."
   ]
  },
  {
   "cell_type": "code",
   "execution_count": null,
   "metadata": {
    "pycharm": {
     "name": "#%%\n"
    }
   },
   "outputs": [],
   "source": [
    "for i in range(5):\n",
    "    print(i)"
   ]
  },
  {
   "cell_type": "markdown",
   "metadata": {
    "pycharm": {
     "name": "#%% md\n"
    }
   },
   "source": [
    "```{note}\n",
    "A `range` object starts at 0 and doesn’t include the upper number.\n",
    "Therefore, `range(5)` would include the numbers 0, 1, 2, 3, 4.\n",
    "Simliar to indexing of other data types, `range` can take two arguments\n",
    "(starting and end index) and an additional \"step\" argument.\n",
    "```"
   ]
  },
  {
   "cell_type": "code",
   "execution_count": null,
   "metadata": {
    "pycharm": {
     "name": "#%%\n"
    }
   },
   "outputs": [],
   "source": [
    "for i in range(1, 4):\n",
    "    print(i)"
   ]
  },
  {
   "cell_type": "markdown",
   "metadata": {
    "pycharm": {
     "name": "#%% md\n"
    }
   },
   "source": [
    "You can also convert `range` to a `list` object."
   ]
  },
  {
   "cell_type": "code",
   "execution_count": null,
   "metadata": {
    "pycharm": {
     "name": "#%%\n"
    }
   },
   "outputs": [],
   "source": [
    "list(range(1, 10, 2))"
   ]
  },
  {
   "cell_type": "code",
   "execution_count": null,
   "metadata": {
    "pycharm": {
     "name": "#%%\n"
    }
   },
   "outputs": [],
   "source": [
    "list(range(10, 1, -1))  # notice the 2nd index is not included"
   ]
  },
  {
   "cell_type": "markdown",
   "metadata": {
    "pycharm": {
     "name": "#%% md\n"
    }
   },
   "source": [
    "Use **for loop** to calculate a sum."
   ]
  },
  {
   "cell_type": "code",
   "execution_count": null,
   "metadata": {
    "pycharm": {
     "name": "#%%\n"
    }
   },
   "outputs": [],
   "source": [
    "# sum up value from 1 to 4.\n",
    "total = 0\n",
    "for i in range(4):\n",
    "    print(\"i is \" + str(i))\n",
    "    total = total + i\n",
    "    print(\"sum is \" + str(total))\n",
    "print(\"program done.\")"
   ]
  },
  {
   "cell_type": "markdown",
   "metadata": {
    "pycharm": {
     "name": "#%% md\n"
    }
   },
   "source": [
    "```{note}\n",
    "\"`sum`\" is a reserved word in python. It is a function, so avoid using it for variable names.\n",
    "Stay alert and memorize these **reserved words** as you learn Python\n",
    "```"
   ]
  },
  {
   "cell_type": "markdown",
   "metadata": {
    "pycharm": {
     "name": "#%% md\n"
    }
   },
   "source": [
    "For loop with a **list** object"
   ]
  },
  {
   "cell_type": "code",
   "execution_count": null,
   "metadata": {
    "pycharm": {
     "name": "#%%\n"
    }
   },
   "outputs": [],
   "source": [
    "cities = ['Gainesville', 'Miami', 'Orlando', 'Tampa']\n",
    "for city in cities:\n",
    "    print(\"I like \" + city)"
   ]
  },
  {
   "cell_type": "markdown",
   "metadata": {
    "pycharm": {
     "name": "#%% md\n"
    }
   },
   "source": [
    "```{tip}\n",
    "In the example above, `city` is just **_a pointer_** it can have any name as long as the name abides by the rules.\n",
    "**Try** use `for c in cities:` or `for _ in cities:`.\n",
    "```"
   ]
  },
  {
   "cell_type": "markdown",
   "metadata": {
    "pycharm": {
     "name": "#%% md\n"
    }
   },
   "source": [
    "## 2. While Loop\n",
    "\n",
    "While loops repeat (iterate) as long as a certain boolean condition is met (`True`).\n",
    "\n",
    "Calculate the **total sum from 1 to 100**."
   ]
  },
  {
   "cell_type": "code",
   "execution_count": null,
   "metadata": {
    "pycharm": {
     "name": "#%%\n"
    }
   },
   "outputs": [],
   "source": [
    "i = 1\n",
    "total = 0\n",
    "while i <= 100:\n",
    "    # print(\"i is \" + str(i))\n",
    "    total = total + i\n",
    "    i += 1 # same as i = i + 1\n",
    "print(\"Final sum is \" + str(total))"
   ]
  },
  {
   "cell_type": "markdown",
   "metadata": {
    "pycharm": {
     "name": "#%% md\n"
    }
   },
   "source": [
    "The while loop requires relevant variables to be ready, in this example we need to define **an indexing variable**, `i`, which we set to 1."
   ]
  },
  {
   "cell_type": "markdown",
   "metadata": {
    "pycharm": {
     "name": "#%% md\n"
    }
   },
   "source": [
    "```{warning}\n",
    "Remember to increment i, or else the loop will continue forever (**_infinite loop_**).\n",
    "Because of how the two types of loops operate, `while` loop is more inclined to infinite loops.\n",
    "```\n",
    "\n",
    "```{tip}\n",
    "The difference between for and while loops is whether the number of iteration is known.\n",
    "In for loops, you can pre-define a sequence over which the iteration loops through.\n",
    "```"
   ]
  },
  {
   "cell_type": "code",
   "execution_count": null,
   "metadata": {
    "pycharm": {
     "name": "#%%\n"
    },
    "tags": [
     "remove-output"
    ]
   },
   "outputs": [],
   "source": [
    "my_bool = True\n",
    "while my_bool:\n",
    "    x = input(\"Please enter a number: \")\n",
    "    if x == \"3\":\n",
    "        my_bool = False\n",
    "print(\"program finished.\")"
   ]
  },
  {
   "cell_type": "markdown",
   "metadata": {
    "pycharm": {
     "name": "#%% md\n"
    }
   },
   "source": [
    "## 3. Guess a Randomly Generated Integer"
   ]
  },
  {
   "cell_type": "code",
   "execution_count": null,
   "metadata": {
    "pycharm": {
     "name": "#%%\n"
    }
   },
   "outputs": [],
   "source": [
    "import random"
   ]
  },
  {
   "cell_type": "markdown",
   "metadata": {
    "pycharm": {
     "name": "#%% md\n"
    }
   },
   "source": [
    "```{tip}\n",
    "The `import` statement is required to add more functions from modules or packages outside\n",
    "of the [builtins](https://docs.python.org/3/library/builtins.html).\n",
    "\n",
    "`random` is a module that implements _pseudo-random_ number generators for various distributions.\n",
    "```\n",
    "\n",
    "Generate a random integer between 1 and 6."
   ]
  },
  {
   "cell_type": "code",
   "execution_count": null,
   "metadata": {
    "pycharm": {
     "name": "#%%\n"
    }
   },
   "outputs": [],
   "source": [
    "x = random.randint(1, 6)\n",
    "print(x)"
   ]
  },
  {
   "cell_type": "markdown",
   "metadata": {
    "pycharm": {
     "name": "#%% md\n"
    }
   },
   "source": [
    "```{note}\n",
    "`randint` is a method belongs to the `random` module.\n",
    "\n",
    "Unlike the `range` object, it includes both ends.\n",
    "```"
   ]
  },
  {
   "cell_type": "markdown",
   "metadata": {
    "pycharm": {
     "name": "#%% md\n"
    }
   },
   "source": [
    "```{tip}\n",
    "- `tab` to **auto**complete code.\n",
    "- `Shift + tab` to view the documentation.\n",
    "```"
   ]
  },
  {
   "cell_type": "markdown",
   "metadata": {
    "pycharm": {
     "name": "#%% md\n"
    }
   },
   "source": [
    "```{tip}\n",
    "- `tab` to **auto**complete code.\n",
    "- `Shift + tab` to view the documentation.\n",
    "```"
   ]
  },
  {
   "cell_type": "markdown",
   "metadata": {
    "pycharm": {
     "name": "#%% md\n"
    }
   },
   "source": [
    "We can add a `break` to **terminate** a while loop prematurely. "
   ]
  },
  {
   "cell_type": "code",
   "execution_count": null,
   "metadata": {
    "pycharm": {
     "name": "#%%\n"
    },
    "tags": [
     "remove-output"
    ]
   },
   "outputs": [],
   "source": [
    "x = random.randint(1, 6)\n",
    "chance = 5\n",
    "\n",
    "while chance > 0:\n",
    "    guess = int(input(\"Enter a number between 1 and 6: \"))\n",
    "    chance -= 1\n",
    "    if x > guess:\n",
    "        print(\"Try larger.\")\n",
    "    elif x < guess:\n",
    "        print(\"Try smaller.\")\n",
    "    else:\n",
    "        print(\"Bingo!\")\n",
    "        break    \n",
    "        \n",
    "    if chance > 0:\n",
    "        print(str(num_guess) + \" more guesses left.\")\n",
    "    else:\n",
    "        print(\"Sorry, no more guesses.\")"
   ]
  },
  {
   "cell_type": "markdown",
   "metadata": {},
   "source": [
    "## 4. Loop Control Statements\n",
    "\n",
    "Using loops in Python automates and repeats the tasks in an efficient manner.\n",
    "But sometimes, there may arise a condition where you want to (1) _exit the loop completely_, \n",
    "(2) skip an iteration, or (3) ignore that condition.\n",
    "These can be done by **loop control statements**.\n",
    "\n",
    "Loop control statements change execution from its normal sequence.\n",
    "In Python, these statements include:\n",
    "\n",
    "- `break`,\n",
    "- `continue`,\n",
    "- `path`.\n",
    "\n",
    "## 4.1 `break` statement\n",
    "\n",
    "The `break` statement is used to **terminate the loop** or statement in which it is present.\n",
    "After that, the control will pass to the statements that are present after the break statement, if available."
   ]
  },
  {
   "cell_type": "code",
   "execution_count": null,
   "metadata": {},
   "outputs": [],
   "source": [
    "import random\n",
    "x = random.randint(1, 6)"
   ]
  },
  {
   "cell_type": "code",
   "execution_count": null,
   "metadata": {
    "tags": [
     "remove-output"
    ]
   },
   "outputs": [],
   "source": [
    "# example of break statement (same script from last module)\n",
    "num_guess = 3\n",
    "\n",
    "while num_guess > 0:\n",
    "    guess = int(input(\"Enter a number between 1 and 6: \"))\n",
    "    num_guess -= 1\n",
    "    if x > guess:\n",
    "        print(\"Try larger.\")\n",
    "    elif x < guess:\n",
    "        print(\"Try smaller.\")\n",
    "    else:\n",
    "        print(\"Bingo!\")\n",
    "        break  # using break to terminate the loop although num_guess > 0\n",
    "        \n",
    "    if num_guess > 0:\n",
    "        print(str(num_guess) + \" more guesses left.\")\n",
    "    else:\n",
    "        print(\"Sorry, no more guesses.\")"
   ]
  },
  {
   "cell_type": "markdown",
   "metadata": {},
   "source": [
    "```{note}\n",
    "When execution leaves a scope, all automatic objects that were created in that scope are destroyed.\n",
    "```"
   ]
  },
  {
   "cell_type": "markdown",
   "metadata": {},
   "source": [
    "If the break statement is present in the nested loop, then it terminates\n",
    "only those loops which contains `break` statement.\n",
    "\n",
    "```{image} ../_static/images/tictactoe.png\n",
    ":class: shadow mb-3\n",
    ":alt: tictactoe\n",
    ":scale: 70%\n",
    ":align: center\n",
    "```"
   ]
  },
  {
   "cell_type": "code",
   "execution_count": 5,
   "metadata": {},
   "outputs": [
    {
     "name": "stdout",
     "output_type": "stream",
     "text": [
      "0 0\n",
      "0 1\n",
      "0 2\n",
      "1 0\n",
      "1 1\n",
      "1 2\n",
      "2 0\n",
      "2 1\n",
      "2 2\n"
     ]
    }
   ],
   "source": [
    "for x in range(3):\n",
    "    for y in range(3):\n",
    "        print(x, y)"
   ]
  },
  {
   "cell_type": "markdown",
   "metadata": {},
   "source": [
    "The following code will _skip row 2_ (`x == 1`) completely.\n",
    "When x is equal to 1, the `break` statement terminate the inner `for` loop,\n",
    "but the outer `for` loop is **not affected**."
   ]
  },
  {
   "cell_type": "markdown",
   "metadata": {},
   "source": [
    "```{mermaid}\n",
    ":align: center\n",
    "\n",
    "%%{init: {'theme':'forest'}}%%\n",
    "flowchart TD\n",
    "    A[outer loop] -->|enter| B[inner loop]\n",
    "    B -->|enter| C{condition?}\n",
    "    C -->|True| D[`break` statement]\n",
    "    C -->|False| B\n",
    "    D -->|loop\\ninner\\nterminate| A\n",
    "```"
   ]
  },
  {
   "cell_type": "code",
   "execution_count": 4,
   "metadata": {},
   "outputs": [
    {
     "name": "stdout",
     "output_type": "stream",
     "text": [
      "0 0\n",
      "0 1\n",
      "0 2\n",
      "2 0\n",
      "2 1\n",
      "2 2\n"
     ]
    }
   ],
   "source": [
    "for x in range(3):\n",
    "    for y in range(3):\n",
    "        if x == 1:\n",
    "            break\n",
    "        print(x, y)"
   ]
  },
  {
   "cell_type": "markdown",
   "metadata": {},
   "source": [
    "### 4.2 `continue` statement\n",
    "\n",
    "`continue` statement is opposite to that of `break` statement, instead of\n",
    "terminating the loop, it forces to execute the next iteration of the loop.\n",
    "\n",
    "The following example allows us to **validate the input** before evaluate the value of the input number."
   ]
  },
  {
   "cell_type": "code",
   "execution_count": null,
   "metadata": {
    "tags": [
     "remove-output"
    ]
   },
   "outputs": [],
   "source": [
    "num_guess = 3\n",
    "while num_guess > 0:\n",
    "    guess = int(input(\"Enter a number between 1 and 6: \"))\n",
    "    \n",
    "    if guess > 6 or guess < 1:\n",
    "        print(\"Your input is out of range\")\n",
    "        continue\n",
    "    \n",
    "    num_guess -= 1\n",
    "    \n",
    "    if x > guess:\n",
    "        hint = \"Try larger. \"\n",
    "    elif x < guess:\n",
    "        hint = \"Try smaller. \"\n",
    "    else:\n",
    "        print(\"Bingo!\")\n",
    "        break      \n",
    "        \n",
    "    if num_guess > 0:\n",
    "        print(hint + str(num_guess) + \" more guesses left.\")\n",
    "    else:\n",
    "        print(\"You guessed wrong, no more guesses.\")"
   ]
  },
  {
   "cell_type": "markdown",
   "metadata": {},
   "source": [
    "### 4.3 `pass` statement\n",
    "\n",
    "The pass statement does nothing. It can be used when a statement is required syntactically but the program requires no action. "
   ]
  },
  {
   "cell_type": "code",
   "execution_count": null,
   "metadata": {
    "tags": [
     "remove-output"
    ]
   },
   "outputs": [],
   "source": [
    "num_guess = 3\n",
    "while num_guess > 0:\n",
    "    guess = int(input(\"Enter a number between 1 and 6: \"))\n",
    "    num_guess -= 1\n",
    "    \n",
    "    if guess > 6 or guess < 1:\n",
    "        print(\"Your input is out of range\")\n",
    "        continue\n",
    "    else:\n",
    "        if x > guess:\n",
    "            hint = \"Try larger. \"\n",
    "        elif x < guess:\n",
    "            hint = \"Try smaller. \"\n",
    "        else:\n",
    "            print(\"Bingo!\")\n",
    "            break      \n",
    "        \n",
    "    if num_guess > 0:\n",
    "        print(hint + str(num_guess) + \" more guesses left.\")\n",
    "    else:\n",
    "        pass\n",
    "    \n",
    "else: # else on exhaustion of loop\n",
    "    print(\"You guessed wrong, no more guesses.\")"
   ]
  },
  {
   "cell_type": "markdown",
   "metadata": {},
   "source": [
    "```{note}\n",
    "Note the last `else` statement is in the same indentation level as the `while` statement.\n",
    "This means that the `else` is only get executed after `while` loop exhausted. \n",
    "```"
   ]
  }
 ],
 "metadata": {
  "celltoolbar": "Edit Metadata",
  "kernelspec": {
   "display_name": "Python 3 (ipykernel)",
   "language": "python",
   "name": "python3"
  },
  "language_info": {
   "codemirror_mode": {
    "name": "ipython",
    "version": 3
   },
   "file_extension": ".py",
   "mimetype": "text/x-python",
   "name": "python",
   "nbconvert_exporter": "python",
   "pygments_lexer": "ipython3",
   "version": "3.9.18"
  },
  "vscode": {
   "interpreter": {
    "hash": "ce21b655b4d6c9e397d5ad93d5666c623f49909f6d0cc2f72076dafcf1b3ecfb"
   }
  }
 },
 "nbformat": 4,
 "nbformat_minor": 2
}
