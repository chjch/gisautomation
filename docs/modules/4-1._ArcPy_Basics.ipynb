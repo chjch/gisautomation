{
 "cells": [
  {
   "cell_type": "markdown",
   "metadata": {},
   "source": [
    "# Module 4 - Introduction to ArcPy\n",
    "\n",
    "## Part 1 - ArcPy Settings "
   ]
  },
  {
   "cell_type": "markdown",
   "metadata": {},
   "source": [
    "> **What is ArcPy**?<br>\n",
    "> ArcPy is a Python site package that provides a useful and productive way to perform:\n",
    ">\n",
    "> - geographic data analysis,\n",
    "> - data conversion,\n",
    "> - data management,and\n",
    "> - map automation\n",
    ">\n",
    "> with Python.\n",
    "\n",
    "- [Essential ArcPy Vocabulary](https://pro.arcgis.com/en/pro-app/2.8/arcpy/get-started/essential-arcpy-vocabulary.htm)\n",
    "- [A quick tour of ArcPy](https://pro.arcgis.com/en/pro-app/2.8/arcpy/get-started/a-quick-tour-of-arcpy.htm)\n",
    "- [Python in ArcGIS Pro](https://pro.arcgis.com/en/pro-app/2.8/arcpy/get-started/installing-python-for-arcgis-pro.htm)"
   ]
  },
  {
   "cell_type": "markdown",
   "metadata": {},
   "source": [
    "## 1. ArcPy Workspace\n",
    "\n",
    "### 1.1 Import the package"
   ]
  },
  {
   "cell_type": "code",
   "execution_count": 1,
   "metadata": {},
   "outputs": [],
   "source": [
    "import arcpy"
   ]
  },
  {
   "cell_type": "markdown",
   "metadata": {},
   "source": [
    "### 1.2 ArcGIS Workspace\n",
    "\n",
    "In ArcGIS, a workspace is a **container** for **_geographic data_**. A workspace can be a _folder_ that contains shapefiles, a _geodatabase_, a _feature dataset_, or an _ArcInfo workspace_. \n",
    "\n",
    "To reference a workspace, one needs to specify the **path to the directory** where the workspace is located.\n",
    "\n",
    "> ✒️ **Ways to quickly grab a path**\n",
    "> 1. In File Explorer: `shift + right click` -> copy as path\n",
    "> 2. In ArcGIS Pro: Map Tab -> Clipboard -> Copy Path ![copy path](https://pro.arcgis.com/en/pro-app/latest/help/projects/GUID-E1EBAAF8-8264-4357-98F1-35B9E6DEEC6C-web.png)\n",
    "> (Only works when a workspace/dataset is selected in _Catalog Pane_)"
   ]
  },
  {
   "cell_type": "code",
   "execution_count": 3,
   "metadata": {},
   "outputs": [
    {
     "ename": "SyntaxError",
     "evalue": "(unicode error) 'unicodeescape' codec can't decode bytes in position 16-17: truncated \\UXXXXXXXX escape (<ipython-input-3-c77095bf36e2>, line 1)",
     "output_type": "error",
     "traceback": [
      "\u001b[1;36m  File \u001b[1;32m\"<ipython-input-3-c77095bf36e2>\"\u001b[1;36m, line \u001b[1;32m1\u001b[0m\n\u001b[1;33m    print('D:\\Dropbox (UFL)\\URP6271\\urp6271_spring2022\\module1\\urp6271_class_data_geodatabase\\class_data.gdb\\major_roads')\u001b[0m\n\u001b[1;37m         ^\u001b[0m\n\u001b[1;31mSyntaxError\u001b[0m\u001b[1;31m:\u001b[0m (unicode error) 'unicodeescape' codec can't decode bytes in position 16-17: truncated \\UXXXXXXXX escape\n"
     ]
    }
   ],
   "source": [
    "print('D:\\Dropbox (UFL)\\URP6271\\urp6271_spring2022\\module1\\urp6271_class_data_geodatabase\\class_data.gdb\\major_roads')"
   ]
  },
  {
   "cell_type": "markdown",
   "metadata": {},
   "source": [
    "### 1.3 Working with paths\n",
    "\n",
    "The above methods copy the path with a backslash, i.e., `\\` as the delimiter\n",
    "between a parent folder and a sub-folder, which is in conflict with the\n",
    "**escape character** of Python.\n",
    "\n",
    "There are three options to address this:\n",
    "\n",
    "1. Change the delimiter to be double backslashes, i.e., `\\\\`\n",
    "2. Change the delimiter to be a single forwardslash, i.e., `/`\n",
    "3. Change the string to a raw string with a `r` in front of the path."
   ]
  },
  {
   "cell_type": "code",
   "execution_count": 8,
   "metadata": {},
   "outputs": [
    {
     "name": "stdout",
     "output_type": "stream",
     "text": [
      "D:\\Dropbox (UFL)\\URP6271\\urp6271_spring2022\\module1\\urp6271_class_data_geodatabase\\class_data.gdb\n"
     ]
    }
   ],
   "source": [
    "print(\"D:\\\\Dropbox (UFL)\\\\URP6271\\\\urp6271_spring2022\\\\module1\\\\urp6271_class_data_geodatabase\\\\class_data.gdb\") # double backslashes"
   ]
  },
  {
   "cell_type": "code",
   "execution_count": 9,
   "metadata": {},
   "outputs": [
    {
     "name": "stdout",
     "output_type": "stream",
     "text": [
      "D:/Dropbox (UFL)/URP6271/urp6271_spring2022/module1/urp6271_class_data_geodatabase/class_data.gdb\n"
     ]
    }
   ],
   "source": [
    "print(\"D:/Dropbox (UFL)/URP6271/urp6271_spring2022/module1/urp6271_class_data_geodatabase/class_data.gdb\") # single forward slash"
   ]
  },
  {
   "cell_type": "code",
   "execution_count": 10,
   "metadata": {},
   "outputs": [
    {
     "name": "stdout",
     "output_type": "stream",
     "text": [
      "D:\\Dropbox (UFL)\\URP6271\\urp6271_spring2022\\module1\\urp6271_class_data_geodatabase\\class_data.gdb\n"
     ]
    }
   ],
   "source": [
    "print(r\"D:\\Dropbox (UFL)\\URP6271\\urp6271_spring2022\\module1\\urp6271_class_data_geodatabase\\class_data.gdb\") # raw string"
   ]
  },
  {
   "cell_type": "code",
   "execution_count": 11,
   "metadata": {},
   "outputs": [
    {
     "data": {
      "text/plain": [
       "True"
      ]
     },
     "execution_count": 11,
     "metadata": {},
     "output_type": "execute_result"
    }
   ],
   "source": [
    "import os\n",
    "os.path.exists(\"D:/Dropbox (UFL)/URP6271/urp6271_spring2022/module1/urp6271_class_data_geodatabase/class_data.gdb\")"
   ]
  },
  {
   "cell_type": "markdown",
   "metadata": {},
   "source": [
    "> 📝 **Escape sequence to remember**\n",
    "> \n",
    "> - `\\\\` --> backslash (\\)\n",
    "> - `\\\"` --> double quote\n",
    "> - `\\'` --> single quote\n",
    "> - `\\n` --> line feed (start a new line)\n",
    "> - `\\t` --> a Tab (**eight** spaces by default in Python)\n",
    "> \n",
    "> [more escape sequence](https://docs.python.org/3/reference/lexical_analysis.html\\#index-22)"
   ]
  },
  {
   "cell_type": "code",
   "execution_count": 18,
   "metadata": {},
   "outputs": [
    {
     "name": "stdout",
     "output_type": "stream",
     "text": [
      "hello\n",
      "world\n",
      "\thello\n",
      "        world\n"
     ]
    }
   ],
   "source": [
    "print('hello\\nworld')\n",
    "print('\\thello')\n",
    "print('        world')"
   ]
  },
  {
   "cell_type": "markdown",
   "metadata": {},
   "source": [
    "### 1.4 Set `workspace` of the `env` object"
   ]
  },
  {
   "cell_type": "code",
   "execution_count": 20,
   "metadata": {},
   "outputs": [],
   "source": [
    "gdb_worksp = r\"D:\\Dropbox (UFL)\\URP6271\\urp6271_spring2022\\module1\\urp6271_class_data_geodatabase\\class_data.gdb\"\n",
    "arcpy.env.workspace = gdb_worksp"
   ]
  },
  {
   "cell_type": "markdown",
   "metadata": {},
   "source": [
    "> 🔔 `workspace` is an **attribute** of the `env` class in the `arcpy` package"
   ]
  },
  {
   "cell_type": "code",
   "execution_count": 22,
   "metadata": {},
   "outputs": [
    {
     "data": {
      "text/plain": [
       "'D:\\\\Dropbox (UFL)\\\\URP6271\\\\urp6271_spring2022\\\\module1\\\\urp6271_class_data_geodatabase\\\\class_data.gdb'"
      ]
     },
     "execution_count": 22,
     "metadata": {},
     "output_type": "execute_result"
    }
   ],
   "source": [
    "getattr(arcpy.env, \"workspace\")"
   ]
  },
  {
   "cell_type": "code",
   "execution_count": 23,
   "metadata": {},
   "outputs": [
    {
     "data": {
      "text/plain": [
       "arcpy.geoprocessing._base.GPEnvironments.<locals>.GPEnvironment"
      ]
     },
     "execution_count": 23,
     "metadata": {},
     "output_type": "execute_result"
    }
   ],
   "source": [
    "type(arcpy.env)"
   ]
  },
  {
   "cell_type": "code",
   "execution_count": 24,
   "metadata": {},
   "outputs": [
    {
     "name": "stdout",
     "output_type": "stream",
     "text": [
      "['MDomain', 'MResolution', 'MTolerance', 'S100FeatureCatalogueFile', 'XYDomain', 'XYResolution', 'XYTolerance', 'ZDomain', 'ZResolution', 'ZTolerance', '__class__', '__delattr__', '__delitem__', '__dir__', '__doc__', '__eq__', '__format__', '__ge__', '__getattribute__', '__getitem__', '__gt__', '__hash__', '__init__', '__init_subclass__', '__iter__', '__le__', '__lt__', '__module__', '__ne__', '__new__', '__reduce__', '__reduce_ex__', '__repr__', '__setattr__', '__setitem__', '__sizeof__', '__slots__', '__str__', '__subclasshook__', '_environments', '_gp', '_refresh', 'addOutputsToMap', 'annotationTextStringFieldLength', 'autoCancelling', 'autoCommit', 'baDataSource', 'baNetworkSource', 'baUseDetailedAggregation', 'buildStatsAndRATForTempRaster', 'cartographicCoordinateSystem', 'cartographicPartitions', 'cellAlignment', 'cellSize', 'cellSizeProjectionMethod', 'coincidentPoints', 'compression', 'configKeyword', 'extent', 'geographicTransformations', 'gpuId', 'isCancelled', 'items', 'iteritems', 'keys', 'maintainAttachments', 'maintainCurveSegments', 'maintainSpatialIndex', 'mask', 'matchMultidimensionalVariable', 'nodata', 'outputCoordinateSystem', 'outputMFlag', 'outputZFlag', 'outputZValue', 'overwriteOutput', 'packageWorkspace', 'parallelProcessingFactor', 'preserveGlobalIds', 'processingServer', 'processingServerPassword', 'processingServerUser', 'processorType', 'pyramid', 'qualifiedFieldNames', 'randomGenerator', 'rasterStatistics', 'recycleProcessingWorkers', 'referenceScale', 'resamplingMethod', 'retryOnFailures', 'scratchFolder', 'scratchGDB', 'scratchWorkspace', 'scriptWorkspace', 'snapRaster', 'terrainMemoryUsage', 'tileSize', 'tinSaveVersion', 'transferDomains', 'transferGDBAttributeProperties', 'unionDimension', 'values', 'workspace']\n"
     ]
    }
   ],
   "source": [
    "# view all attributes of the env class of ArcPy\n",
    "print(dir(arcpy.env))"
   ]
  },
  {
   "cell_type": "markdown",
   "metadata": {},
   "source": [
    "## 2. Basic Things to Know about ArcPy\n",
    "\n",
    "### 2.1 Naming Conventions of ArcPy functions\n",
    "\n",
    "In ArcPy, a function is referenced by the geoprocessing (GP) **tool name** and\n",
    "the **alias of the toolbox** that the tool is contained.\n",
    "The first letter of every word in the tool name is capitalized.\n",
    "The alias of the toolbox are all in lowercase. \n",
    "\n",
    "- Old: `arcpy.<ToolName>_<toolboxalias>`\n",
    "  - Buffer: `arcpy.AddField_management`\n",
    "  - Add Field: `arcpy.AddField_management`\n",
    "- Modern: `arcpy.<toolboxalias>.<ToolName>`\n",
    "  - Buffer: `arcpy.analysis.Buffer`\n",
    "  - Add Field: `arcpy.management.AddField`\n",
    "\n",
    "Following are the aliases for some commonly used toolbox.\n",
    "\n",
    "| System Toolbox         | Alias        |\n",
    "|------------------------|--------------|\n",
    "| Analysis               | `analysis`   |\n",
    "| Conversion             | `conversion` |\n",
    "| Data Management        | `management` |\n",
    "| Editing                | `edit`       |\n",
    "| Geostatistical Analyst | `ga`         |\n",
    "| Network Analyst        | `na`         |\n",
    "| Spatial Analyst        | `sa`         |\n",
    "| Spatial Statistics     | `stats`      |"
   ]
  },
  {
   "cell_type": "markdown",
   "metadata": {},
   "source": [
    "### 2.2 View the documentation of a function\n",
    "\n",
    "1. `Shift + Tab`\n",
    "2. use the function's `.__doc__` attribute\n",
    "3. `help(<function>)`\n",
    "4. `? <function>`"
   ]
  },
  {
   "cell_type": "code",
   "execution_count": null,
   "metadata": {},
   "outputs": [],
   "source": [
    "arcpy.Buffer_analysis()"
   ]
  },
  {
   "cell_type": "code",
   "execution_count": 25,
   "metadata": {},
   "outputs": [
    {
     "name": "stdout",
     "output_type": "stream",
     "text": [
      "Buffer_analysis(in_features, out_feature_class, buffer_distance_or_field, {line_side}, {line_end_type}, {dissolve_option}, {dissolve_field;dissolve_field...}, {method})\n",
      "\n",
      "        Creates buffer polygons around input features to a specified distance.\n",
      "\n",
      "     INPUTS:\n",
      "      in_features (Feature Layer):\n",
      "          The input point, line, or polygon features to be buffered.\n",
      "      buffer_distance_or_field (Linear Unit / Field):\n",
      "          The distance around the input features that will be buffered.\n",
      "          Distances can be provided as either a value representing a linear\n",
      "          distance or as a field from the input features that contains the\n",
      "          distance to buffer each feature.If linear units are not specified or\n",
      "          are entered as Unknown, the\n",
      "          linear unit of the input features' spatial reference will be used.When\n",
      "          specifying a distance, if the desired linear unit has two words,\n",
      "          such as Decimal Degrees, combine the two words into one (for example,\n",
      "          20 DecimalDegrees).\n",
      "      line_side {String}:\n",
      "          Specifies the sides of the input features that will be buffered. This\n",
      "          parameter is only supported for polygon and line features.\n",
      "\n",
      "          * FULL-For lines, buffers will be generated on both sides of the line.\n",
      "          For polygons, buffers will be generated around the polygon and will\n",
      "          contain and overlap the area of the input features. This is the\n",
      "          default.\n",
      "\n",
      "          * LEFT-For lines, buffers will be generated on the topological left of\n",
      "          the line. This option is not supported for polygon input features.\n",
      "\n",
      "          * RIGHT-For lines, buffers will be generated on the topological right\n",
      "          of the line. This option is not supported for polygon input features.\n",
      "\n",
      "          * OUTSIDE_ONLY-For polygons, buffers will be generated outside the\n",
      "          input polygon only (the area inside the input polygon will be erased\n",
      "          from the output buffer). This option is not supported for line input\n",
      "          features.\n",
      "          This optional parameter is not available with a Desktop Basic or\n",
      "          Desktop Standard license.\n",
      "      line_end_type {String}:\n",
      "          Specifies the shape of the buffer at the end of line input features.\n",
      "          This parameter is not valid for polygon input features.\n",
      "\n",
      "          * ROUND-The ends of the buffer will be round, in the shape of a half\n",
      "          circle. This is the default.\n",
      "\n",
      "          * FLAT-The ends of the buffer will be flat or squared and will end at\n",
      "          the endpoint of the input line feature.\n",
      "          This optional parameter is not available with a Desktop Basic or\n",
      "          Desktop Standard license.\n",
      "      dissolve_option {String}:\n",
      "          Specifies the type of dissolve that will be performed to remove buffer\n",
      "          overlap.\n",
      "\n",
      "          * NONE-An individual buffer for each feature will be maintained,\n",
      "          regardless of overlap. This is the default.\n",
      "\n",
      "          * ALL-All buffers will be dissolved together into a single feature,\n",
      "          removing any overlap.\n",
      "\n",
      "          * LIST-Any buffers sharing attribute values in the listed fields\n",
      "          (carried over from the input features) will be dissolved.\n",
      "      dissolve_field {Field}:\n",
      "          The list of fields from the input features on which the output buffers\n",
      "          will be dissolved. Any buffers sharing attribute values in the listed\n",
      "          fields (carried over from the input features) will be dissolved.\n",
      "      method {String}:\n",
      "          Specifies whether the planar or geodesic method will be used to create\n",
      "          the buffers.\n",
      "\n",
      "          * PLANAR-If the input features are in a projected coordinate system,\n",
      "          Euclidean buffers will be created. If the input features are in a\n",
      "          geographic coordinate system and the buffer distance is in linear\n",
      "          units (meters, feet, and so forth, as opposed to angular units such as\n",
      "          degrees), geodesic buffers will be created. This is the default. You\n",
      "          can use the Output Coordinate System environment setting to specify\n",
      "          the coordinate system to use. For example, if your input features are\n",
      "          in a projected coordinate system, you can set the environment to a\n",
      "          geographic coordinate system to create geodesic buffers.\n",
      "\n",
      "          * GEODESIC-All buffers will be created using a shape-preserving\n",
      "          geodesic buffer method, regardless of the input coordinate system.\n",
      "\n",
      "     OUTPUTS:\n",
      "      out_feature_class (Feature Class):\n",
      "          The feature class containing the output buffers.\n"
     ]
    }
   ],
   "source": [
    "print(arcpy.Buffer_analysis.__doc__)"
   ]
  },
  {
   "cell_type": "code",
   "execution_count": 26,
   "metadata": {},
   "outputs": [
    {
     "name": "stdout",
     "output_type": "stream",
     "text": [
      "Help on function Buffer in module arcpy.analysis:\n",
      "\n",
      "Buffer(in_features=None, out_feature_class=None, buffer_distance_or_field=None, line_side=None, line_end_type=None, dissolve_option=None, dissolve_field=None, method=None)\n",
      "    Buffer_analysis(in_features, out_feature_class, buffer_distance_or_field, {line_side}, {line_end_type}, {dissolve_option}, {dissolve_field;dissolve_field...}, {method})\n",
      "    \n",
      "       Creates buffer polygons around input features to a specified distance.\n",
      "    \n",
      "    INPUTS:\n",
      "     in_features (Feature Layer):\n",
      "         The input point, line, or polygon features to be buffered.\n",
      "     buffer_distance_or_field (Linear Unit / Field):\n",
      "         The distance around the input features that will be buffered.\n",
      "         Distances can be provided as either a value representing a linear\n",
      "         distance or as a field from the input features that contains the\n",
      "         distance to buffer each feature.If linear units are not specified or\n",
      "         are entered as Unknown, the\n",
      "         linear unit of the input features' spatial reference will be used.When\n",
      "         specifying a distance, if the desired linear unit has two words,\n",
      "         such as Decimal Degrees, combine the two words into one (for example,\n",
      "         20 DecimalDegrees).\n",
      "     line_side {String}:\n",
      "         Specifies the sides of the input features that will be buffered. This\n",
      "         parameter is only supported for polygon and line features.\n",
      "    \n",
      "         * FULL-For lines, buffers will be generated on both sides of the line.\n",
      "         For polygons, buffers will be generated around the polygon and will\n",
      "         contain and overlap the area of the input features. This is the\n",
      "         default.\n",
      "    \n",
      "         * LEFT-For lines, buffers will be generated on the topological left of\n",
      "         the line. This option is not supported for polygon input features.\n",
      "    \n",
      "         * RIGHT-For lines, buffers will be generated on the topological right\n",
      "         of the line. This option is not supported for polygon input features.\n",
      "    \n",
      "         * OUTSIDE_ONLY-For polygons, buffers will be generated outside the\n",
      "         input polygon only (the area inside the input polygon will be erased\n",
      "         from the output buffer). This option is not supported for line input\n",
      "         features.\n",
      "         This optional parameter is not available with a Desktop Basic or\n",
      "         Desktop Standard license.\n",
      "     line_end_type {String}:\n",
      "         Specifies the shape of the buffer at the end of line input features.\n",
      "         This parameter is not valid for polygon input features.\n",
      "    \n",
      "         * ROUND-The ends of the buffer will be round, in the shape of a half\n",
      "         circle. This is the default.\n",
      "    \n",
      "         * FLAT-The ends of the buffer will be flat or squared and will end at\n",
      "         the endpoint of the input line feature.\n",
      "         This optional parameter is not available with a Desktop Basic or\n",
      "         Desktop Standard license.\n",
      "     dissolve_option {String}:\n",
      "         Specifies the type of dissolve that will be performed to remove buffer\n",
      "         overlap.\n",
      "    \n",
      "         * NONE-An individual buffer for each feature will be maintained,\n",
      "         regardless of overlap. This is the default.\n",
      "    \n",
      "         * ALL-All buffers will be dissolved together into a single feature,\n",
      "         removing any overlap.\n",
      "    \n",
      "         * LIST-Any buffers sharing attribute values in the listed fields\n",
      "         (carried over from the input features) will be dissolved.\n",
      "     dissolve_field {Field}:\n",
      "         The list of fields from the input features on which the output buffers\n",
      "         will be dissolved. Any buffers sharing attribute values in the listed\n",
      "         fields (carried over from the input features) will be dissolved.\n",
      "     method {String}:\n",
      "         Specifies whether the planar or geodesic method will be used to create\n",
      "         the buffers.\n",
      "    \n",
      "         * PLANAR-If the input features are in a projected coordinate system,\n",
      "         Euclidean buffers will be created. If the input features are in a\n",
      "         geographic coordinate system and the buffer distance is in linear\n",
      "         units (meters, feet, and so forth, as opposed to angular units such as\n",
      "         degrees), geodesic buffers will be created. This is the default. You\n",
      "         can use the Output Coordinate System environment setting to specify\n",
      "         the coordinate system to use. For example, if your input features are\n",
      "         in a projected coordinate system, you can set the environment to a\n",
      "         geographic coordinate system to create geodesic buffers.\n",
      "    \n",
      "         * GEODESIC-All buffers will be created using a shape-preserving\n",
      "         geodesic buffer method, regardless of the input coordinate system.\n",
      "    \n",
      "    OUTPUTS:\n",
      "     out_feature_class (Feature Class):\n",
      "         The feature class containing the output buffers.\n",
      "\n"
     ]
    }
   ],
   "source": [
    "help(arcpy.Buffer_analysis)"
   ]
  },
  {
   "cell_type": "code",
   "execution_count": 27,
   "metadata": {},
   "outputs": [
    {
     "name": "stdout",
     "output_type": "stream",
     "text": [
      "\u001b[1;31mSignature:\u001b[0m\n",
      " \u001b[0marcpy\u001b[0m\u001b[1;33m.\u001b[0m\u001b[0mBuffer_analysis\u001b[0m\u001b[1;33m(\u001b[0m\u001b[1;33m\n",
      "\u001b[0m    \u001b[0min_features\u001b[0m\u001b[1;33m=\u001b[0m\u001b[1;32mNone\u001b[0m\u001b[1;33m,\u001b[0m\u001b[1;33m\n",
      "\u001b[0m    \u001b[0mout_feature_class\u001b[0m\u001b[1;33m=\u001b[0m\u001b[1;32mNone\u001b[0m\u001b[1;33m,\u001b[0m\u001b[1;33m\n",
      "\u001b[0m    \u001b[0mbuffer_distance_or_field\u001b[0m\u001b[1;33m=\u001b[0m\u001b[1;32mNone\u001b[0m\u001b[1;33m,\u001b[0m\u001b[1;33m\n",
      "\u001b[0m    \u001b[0mline_side\u001b[0m\u001b[1;33m=\u001b[0m\u001b[1;32mNone\u001b[0m\u001b[1;33m,\u001b[0m\u001b[1;33m\n",
      "\u001b[0m    \u001b[0mline_end_type\u001b[0m\u001b[1;33m=\u001b[0m\u001b[1;32mNone\u001b[0m\u001b[1;33m,\u001b[0m\u001b[1;33m\n",
      "\u001b[0m    \u001b[0mdissolve_option\u001b[0m\u001b[1;33m=\u001b[0m\u001b[1;32mNone\u001b[0m\u001b[1;33m,\u001b[0m\u001b[1;33m\n",
      "\u001b[0m    \u001b[0mdissolve_field\u001b[0m\u001b[1;33m=\u001b[0m\u001b[1;32mNone\u001b[0m\u001b[1;33m,\u001b[0m\u001b[1;33m\n",
      "\u001b[0m    \u001b[0mmethod\u001b[0m\u001b[1;33m=\u001b[0m\u001b[1;32mNone\u001b[0m\u001b[1;33m,\u001b[0m\u001b[1;33m\n",
      "\u001b[0m\u001b[1;33m)\u001b[0m\u001b[1;33m\u001b[0m\u001b[1;33m\u001b[0m\u001b[0m\n",
      "\u001b[1;31mDocstring:\u001b[0m\n",
      "Buffer_analysis(in_features, out_feature_class, buffer_distance_or_field, {line_side}, {line_end_type}, {dissolve_option}, {dissolve_field;dissolve_field...}, {method})\n",
      "\n",
      "   Creates buffer polygons around input features to a specified distance.\n",
      "\n",
      "INPUTS:\n",
      " in_features (Feature Layer):\n",
      "     The input point, line, or polygon features to be buffered.\n",
      " buffer_distance_or_field (Linear Unit / Field):\n",
      "     The distance around the input features that will be buffered.\n",
      "     Distances can be provided as either a value representing a linear\n",
      "     distance or as a field from the input features that contains the\n",
      "     distance to buffer each feature.If linear units are not specified or\n",
      "     are entered as Unknown, the\n",
      "     linear unit of the input features' spatial reference will be used.When\n",
      "     specifying a distance, if the desired linear unit has two words,\n",
      "     such as Decimal Degrees, combine the two words into one (for example,\n",
      "     20 DecimalDegrees).\n",
      " line_side {String}:\n",
      "     Specifies the sides of the input features that will be buffered. This\n",
      "     parameter is only supported for polygon and line features.\n",
      "\n",
      "     * FULL-For lines, buffers will be generated on both sides of the line.\n",
      "     For polygons, buffers will be generated around the polygon and will\n",
      "     contain and overlap the area of the input features. This is the\n",
      "     default.\n",
      "\n",
      "     * LEFT-For lines, buffers will be generated on the topological left of\n",
      "     the line. This option is not supported for polygon input features.\n",
      "\n",
      "     * RIGHT-For lines, buffers will be generated on the topological right\n",
      "     of the line. This option is not supported for polygon input features.\n",
      "\n",
      "     * OUTSIDE_ONLY-For polygons, buffers will be generated outside the\n",
      "     input polygon only (the area inside the input polygon will be erased\n",
      "     from the output buffer). This option is not supported for line input\n",
      "     features.\n",
      "     This optional parameter is not available with a Desktop Basic or\n",
      "     Desktop Standard license.\n",
      " line_end_type {String}:\n",
      "     Specifies the shape of the buffer at the end of line input features.\n",
      "     This parameter is not valid for polygon input features.\n",
      "\n",
      "     * ROUND-The ends of the buffer will be round, in the shape of a half\n",
      "     circle. This is the default.\n",
      "\n",
      "     * FLAT-The ends of the buffer will be flat or squared and will end at\n",
      "     the endpoint of the input line feature.\n",
      "     This optional parameter is not available with a Desktop Basic or\n",
      "     Desktop Standard license.\n",
      " dissolve_option {String}:\n",
      "     Specifies the type of dissolve that will be performed to remove buffer\n",
      "     overlap.\n",
      "\n",
      "     * NONE-An individual buffer for each feature will be maintained,\n",
      "     regardless of overlap. This is the default.\n",
      "\n",
      "     * ALL-All buffers will be dissolved together into a single feature,\n",
      "     removing any overlap.\n",
      "\n",
      "     * LIST-Any buffers sharing attribute values in the listed fields\n",
      "     (carried over from the input features) will be dissolved.\n",
      " dissolve_field {Field}:\n",
      "     The list of fields from the input features on which the output buffers\n",
      "     will be dissolved. Any buffers sharing attribute values in the listed\n",
      "     fields (carried over from the input features) will be dissolved.\n",
      " method {String}:\n",
      "     Specifies whether the planar or geodesic method will be used to create\n",
      "     the buffers.\n",
      "\n",
      "     * PLANAR-If the input features are in a projected coordinate system,\n",
      "     Euclidean buffers will be created. If the input features are in a\n",
      "     geographic coordinate system and the buffer distance is in linear\n",
      "     units (meters, feet, and so forth, as opposed to angular units such as\n",
      "     degrees), geodesic buffers will be created. This is the default. You\n",
      "     can use the Output Coordinate System environment setting to specify\n",
      "     the coordinate system to use. For example, if your input features are\n",
      "     in a projected coordinate system, you can set the environment to a\n",
      "     geographic coordinate system to create geodesic buffers.\n",
      "\n",
      "     * GEODESIC-All buffers will be created using a shape-preserving\n",
      "     geodesic buffer method, regardless of the input coordinate system.\n",
      "\n",
      "OUTPUTS:\n",
      " out_feature_class (Feature Class):\n",
      "     The feature class containing the output buffers.\n",
      "\u001b[1;31mFile:\u001b[0m      c:\\program files\\arcgis\\pro\\resources\\arcpy\\arcpy\\analysis.py\n",
      "\u001b[1;31mType:\u001b[0m      function\n"
     ]
    }
   ],
   "source": [
    "? arcpy.Buffer_analysis"
   ]
  }
 ],
 "metadata": {
  "kernelspec": {
   "display_name": "Python 3",
   "language": "python",
   "name": "python3"
  }
 },
 "nbformat": 4,
 "nbformat_minor": 2
}
