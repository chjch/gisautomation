{
 "cells": [
  {
   "cell_type": "markdown",
   "id": "49d115cd",
   "metadata": {},
   "source": [
    "# Homework 3\n",
    "\n",
    "## Assignment Instruction\n",
    "\n",
    "- Create a new Jupyter Notebook file to work on the following questions.\n",
    "- Run your codes to ensure the output is the same as the expected result of each question.\n",
    "- Rename your Jupyter Notebook (the `.ipynb` file) as `HW3_<LASTNAME>.ipynb`, e.g., `HW3_CHEN.ipynb`.\n",
    "- Submit this Jupyter Notebook no later than the deadline posted in the course schedule on Canvas."
   ]
  },
  {
   "cell_type": "markdown",
   "id": "b7ca6264",
   "metadata": {},
   "source": [
    "## Question 1:\n",
    "\n",
    "Write a Python program that checks the value of a variable temperature. If the temperature is greater than or equal to 100, the program should print \"Boiling Point\". If the temperature is less than 100 but greater than or equal to 0, it should print \"Liquid\". If the temperature is below 0, it should print \"Freezing\".\n",
    "\n",
    "### Example Code:"
   ]
  },
  {
   "cell_type": "code",
   "execution_count": null,
   "id": "initial_id",
   "metadata": {
    "collapsed": true
   },
   "outputs": [],
   "source": [
    "temperature = 50  # You can change this number to test with other values\n",
    "\n",
    "# Your if-else logic goes here\n",
    "\n"
   ]
  },
  {
   "cell_type": "markdown",
   "id": "bb13bbbe",
   "metadata": {},
   "source": [
    "Sample Output for `temperature = 50`:"
   ]
  },
  {
   "cell_type": "code",
   "execution_count": null,
   "id": "6f8d13e8",
   "metadata": {
    "tags": [
     "remove-input"
    ]
   },
   "outputs": [],
   "source": [
    "print(\"Liquid\")"
   ]
  },
  {
   "cell_type": "markdown",
   "id": "79e28c0b",
   "metadata": {},
   "source": [
    "### Expected Concepts to be Used:\n",
    "\n",
    "- Variables\n",
    "- If-Else statement\n",
    "- Comparison operators"
   ]
  }
 ],
 "metadata": {
  "celltoolbar": "Edit Metadata",
  "kernelspec": {
   "display_name": "Python 3 (ipykernel)",
   "language": "python",
   "name": "python3"
  },
  "language_info": {
   "codemirror_mode": {
    "name": "ipython",
    "version": 3
   },
   "file_extension": ".py",
   "mimetype": "text/x-python",
   "name": "python",
   "nbconvert_exporter": "python",
   "pygments_lexer": "ipython3",
   "version": "3.9.18"
  }
 },
 "nbformat": 4,
 "nbformat_minor": 5
}
