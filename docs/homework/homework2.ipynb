{
 "cells": [
  {
   "cell_type": "markdown",
   "metadata": {
    "pycharm": {
     "name": "#%% md\n"
    }
   },
   "source": [
    "## Homework 2\n",
    "### Assignment Instruction\n",
    "- Work on the following 6 questions.\n",
    "- Type your codes only in the cell created for you below the question.\n",
    "- Run your codes and see if the output meet the expected result of each question.\n",
    "- Your homework will be evaluated by whether I can successfully run your codes and the correctness of the output.\n",
    "- Rename this Jupyter Notebook (the .ipynb file) as ```HW2_[LASTNAME].ipynb```, e.g., ```HW2_CHEN.ipynb```.\n",
    "- Submit this Jupyter Notebook no later than the deadline posted in the course schedule on Canvas."
   ]
  },
  {
   "cell_type": "markdown",
   "metadata": {
    "pycharm": {
     "name": "#%% md\n"
    }
   },
   "source": [
    "### 1. Create a list of cities \n",
    "- create a variable, ```city_list```, whose data type is of a Python **list**.\n",
    "- the list contains the **names** of the world top 20 populated cities in the table below, retrieved from [Wikipedia](https://en.wikipedia.org/wiki/List_of_largest_cities).\n",
    "    \n",
    "**<center>[Top 20](https://en.wikipedia.org/wiki/List_of_largest_cities) largest city in the world</center>**\n",
    "\n",
    "| ID | Name           | Country        | Continent     | UN Estimation (2018) | Urban Area |\n",
    "|----|----------------|----------------|---------------|----------------------|------------|\n",
    "| 1  | Tokyo          |  Japan         | Asia          | 37,400,068           | 4,751      |\n",
    "| 2  | Delhi          |  India         | Asia          | 28,514,000           | 14,272     |\n",
    "| 3  | Shanghai       |  China         | Asia          | 25,582,000           | 5,436      |\n",
    "| 4  | Sao Paulo      |  Brazil        | South America | 21,650,000           | 6,949      |\n",
    "| 5  | Mexico City    |  Mexico        | South America | 21,581,000           | 9,017      |\n",
    "| 6  | Cairo          |  Egypt         | Africa        | 20,076,000           | 9,844      |\n",
    "| 7  | Mumbai         |  India         | Asia          | 19,980,000           | 22,010     |\n",
    "| 8  | Beijing        |  China         | Asia          | 19,618,000           | 4,659      |\n",
    "| 9  | Dhaka          |  Bangladesh    | Asia          | 19,578,000           | 36,928     |\n",
    "| 10 | Osaka          |  Japan         | Asia          | 19,281,000           | 5,129      |\n",
    "| 11 | New York       |  United States | North America | 18,819,000           | 684        |\n",
    "| 12 | Karachi        |  Pakistan      | Asia          | 15,400,000           | 14,648     |\n",
    "| 13 | Buenos Aires   |  Argentina     | South America | 14,967,000           | 5,033      |\n",
    "| 14 | Chongqing      |  China         | Asia          | 14,838,000           | 5,378      |\n",
    "| 15 | Istanbul       |  Turkey        | Europe        | 14,751,000           | 11,135     |\n",
    "| 16 | Kolkata        |  India         | Asia          | 14,681,000           | 13,830     |\n",
    "| 17 | Manila         |  Philippines   | Asia          | 13,482,000           | 12,798     |\n",
    "| 18 | Lagos          |  Nigeria       | Africa        | 13,463,000           | 7,877      |\n",
    "| 19 | Rio de Janeiro |  Brazil        | South America | 13,293,000           | 6,181      |\n",
    "| 20 | Tianjin        |  China         | Asia          | 13,215,000           | 3,886      |"
   ]
  },
  {
   "cell_type": "code",
   "execution_count": 1,
   "metadata": {
    "pycharm": {
     "name": "#%%\n"
    }
   },
   "outputs": [],
   "source": [
    "city_list = ['Tokyo', 'Delhi', 'Shanghai', 'Sao Paulo', 'Mexico City',\n",
    "             'Cairo', 'Mumbai', 'Beijing', 'Dhaka', 'Osaka', 'New York',\n",
    "             'Karachi', 'Buenos Aires', 'Chongqing', 'Istanbul', 'Kolkata',\n",
    "             'Manila', 'Lagos', 'Rio de Janeiro', 'Tianjin']"
   ]
  },
  {
   "cell_type": "markdown",
   "metadata": {
    "pycharm": {
     "name": "#%% md\n"
    }
   },
   "source": [
    "### 2. Calculate the ratio of Asian cities in the list\n",
    "- create a new list called ```asian_cities```.\n",
    "- create two integer variables that retrieve the length of the two lists respectively. \n",
    "- print the integer variables out. "
   ]
  },
  {
   "cell_type": "code",
   "execution_count": null,
   "metadata": {
    "pycharm": {
     "name": "#%%\n"
    }
   },
   "outputs": [],
   "source": [
    "# write your code below\n"
   ]
  },
  {
   "cell_type": "markdown",
   "metadata": {
    "pycharm": {
     "name": "#%% md\n"
    }
   },
   "source": [
    "- Define a new variable called ```ratio```\n",
    "- calculate the ratio by using the two lengths.\n",
    "- Your result should be the same as the output of the following cell."
   ]
  },
  {
   "cell_type": "code",
   "execution_count": null,
   "metadata": {},
   "outputs": [],
   "source": [
    "# write your code below\n",
    "  "
   ]
  },
  {
   "cell_type": "code",
   "execution_count": 2,
   "metadata": {
    "pycharm": {
     "name": "#%%\n"
    },
    "tags": [
     "remove-input"
    ]
   },
   "outputs": [
    {
     "data": {
      "text/plain": [
       "0.6"
      ]
     },
     "execution_count": 2,
     "metadata": {},
     "output_type": "execute_result"
    }
   ],
   "source": [
    "asian_cities = ['Tokyo', 'Delhi', 'Shanghai', 'Mumbai',\n",
    "                'Beijing', 'Dhaka', 'Osaka', 'Karachi',\n",
    "                'Chongqing', 'Kolkata','Manila', 'Tianjin']\n",
    "print(\"the ratio is: \" + str(len(asian_cities) / len(city_list)))"
   ]
  },
  {
   "cell_type": "markdown",
   "metadata": {
    "pycharm": {
     "name": "#%% md\n"
    }
   },
   "source": [
    "### 3. Indexing and Selecting for list and string\n",
    "- Select the 16th item in the ```city_list``` and assign the value to a new variable ```city```.\n",
    "- create a new variable, you define its name, that calculates the number of characters in ```city```. \n",
    "- print both variables."
   ]
  },
  {
   "cell_type": "code",
   "execution_count": null,
   "metadata": {
    "pycharm": {
     "name": "#%%\n"
    }
   },
   "outputs": [],
   "source": [
    "# write your code below\n",
    "  "
   ]
  },
  {
   "cell_type": "markdown",
   "metadata": {
    "pycharm": {
     "name": "#%% md\n"
    }
   },
   "source": [
    "- Convert the ```city``` variable to upper case and lower case and assign the results to ```city_upper``` and ```city_lower``` respectively.\n",
    "- print the two new variables"
   ]
  },
  {
   "cell_type": "code",
   "execution_count": null,
   "metadata": {
    "pycharm": {
     "name": "#%%\n"
    }
   },
   "outputs": [],
   "source": [
    "# write your code below\n"
   ]
  },
  {
   "cell_type": "markdown",
   "metadata": {
    "pycharm": {
     "name": "#%% md\n"
    }
   },
   "source": [
    "- retrieve the second last item of ```city_list```, note that you cannot use index 19 (use the other way you learned from the lecture).\n",
    "- assign the value you retrieved to a new variable ```city2```.\n",
    "- concatenate ```city``` and ```city2``` and print the result."
   ]
  },
  {
   "cell_type": "code",
   "execution_count": null,
   "metadata": {
    "pycharm": {
     "name": "#%%\n"
    }
   },
   "outputs": [],
   "source": [
    "# write your code below\n"
   ]
  },
  {
   "cell_type": "markdown",
   "metadata": {
    "pycharm": {
     "name": "#%% md\n"
    }
   },
   "source": [
    "- Select and print out the middle part of the variable ```city```, i.e., characters between the two spaces.\n",
    "- To do this, you must use proper start and end indices. \n",
    "- Your output should be the same as the following cell."
   ]
  },
  {
   "cell_type": "code",
   "execution_count": 3,
   "metadata": {
    "pycharm": {
     "name": "#%%\n"
    }
   },
   "outputs": [
    {
     "data": {
      "text/plain": [
       "'de'"
      ]
     },
     "execution_count": 3,
     "metadata": {},
     "output_type": "execute_result"
    }
   ],
   "source": [
    "# write your code below\n",
    "  "
   ]
  },
  {
   "cell_type": "code",
   "execution_count": null,
   "metadata": {
    "tags": [
     "remove-input"
    ]
   },
   "outputs": [],
   "source": [
    "print('de')"
   ]
  },
  {
   "cell_type": "markdown",
   "metadata": {
    "pycharm": {
     "name": "#%% md\n"
    }
   },
   "source": [
    "- reverse the order of the ```city_list``` and assign the value to a new variable ```re_city_list```.\n",
    "- print out the value of ```re_city_list```."
   ]
  },
  {
   "cell_type": "code",
   "execution_count": null,
   "metadata": {
    "pycharm": {
     "name": "#%%\n"
    }
   },
   "outputs": [],
   "source": [
    "# write your code below\n"
   ]
  },
  {
   "cell_type": "markdown",
   "metadata": {
    "pycharm": {
     "name": "#%% md\n"
    }
   },
   "source": [
    "### 4. Iteration using For loop\n",
    "- Do a For loop with the ```city_list```.\n",
    "    + You can choose either to use a ```range``` object or looping through the list directly.\n",
    "    + Print out the city's name if it contains a space in the name. \n",
    "    + Within the for loop, count the number of cities that contains a space in its name.\n",
    "- Print the count when the loop is finished.\n",
    "- Your result should be the same as the following cell's output."
   ]
  },
  {
   "cell_type": "code",
   "execution_count": null,
   "metadata": {
    "pycharm": {
     "name": "#%%\n"
    }
   },
   "outputs": [],
   "source": [
    "# write your code below\n"
   ]
  },
  {
   "cell_type": "code",
   "execution_count": 4,
   "metadata": {
    "pycharm": {
     "name": "#%%\n"
    }
   },
   "outputs": [
    {
     "name": "stdout",
     "output_type": "stream",
     "text": [
      "Sao Paulo\n",
      "Mexico City\n",
      "New York\n",
      "Buenos Aires\n",
      "Rio de Janeiro\n",
      "5\n"
     ]
    }
   ],
   "source": [
    "# write your code below\n",
    "  "
   ]
  },
  {
   "cell_type": "code",
   "execution_count": null,
   "metadata": {
    "tags": [
     "remove-input"
    ]
   },
   "outputs": [],
   "source": [
    "i = 0\n",
    "for city in city_list:\n",
    "    if ' ' in city:\n",
    "        print(city)\n",
    "        i += 1\n",
    "print(i)"
   ]
  },
  {
   "cell_type": "markdown",
   "metadata": {
    "pycharm": {
     "name": "#%% md\n"
    }
   },
   "source": [
    "### 5. Iteration using While loop\n",
    "- Do a while loop with the city_list\n",
    "    + consider use the length of the city_list\n",
    "    + i.e., `while i < len(city_list):`\n",
    "- Print out the city's name if it is **not a city in Asia**. Tips are following:\n",
    "    + recall the list created in Question 2 `asian_cities`.\n",
    "    + within the while loop, you want to check ```if city_list[i] not in asian_cities:```. \n",
    "    + if true, then ```print(city_list[i])```.\n",
    "- Your result should be the same as the following cell's output."
   ]
  },
  {
   "cell_type": "code",
   "execution_count": 5,
   "metadata": {
    "pycharm": {
     "name": "#%%\n"
    }
   },
   "outputs": [
    {
     "name": "stdout",
     "output_type": "stream",
     "text": [
      "Sao Paulo\n",
      "Mexico City\n",
      "Cairo\n",
      "New York\n",
      "Buenos Aires\n",
      "Istanbul\n",
      "Lagos\n",
      "Rio de Janeiro\n"
     ]
    }
   ],
   "source": [
    "# write your code below\n",
    "  "
   ]
  },
  {
   "cell_type": "code",
   "execution_count": null,
   "metadata": {
    "tags": [
     "remove-input"
    ]
   },
   "outputs": [],
   "source": [
    "i = 0\n",
    "while i < len(city_list):\n",
    "    if city_list[i] not in asian_cities:\n",
    "        print(city_list[i])\n",
    "    i += 1"
   ]
  },
  {
   "cell_type": "markdown",
   "metadata": {
    "pycharm": {
     "name": "#%% md\n"
    }
   },
   "source": [
    "### 6. Get user input\n",
    "- Ask user to type in a city name\n",
    "- based on the user's input, print whether the input is within the ```city_list``` or not."
   ]
  },
  {
   "cell_type": "code",
   "execution_count": null,
   "metadata": {
    "pycharm": {
     "name": "#%%\n"
    }
   },
   "outputs": [],
   "source": [
    "# write your code below\n",
    "  "
   ]
  }
 ],
 "metadata": {
  "celltoolbar": "Edit Metadata",
  "kernelspec": {
   "display_name": "Python 3",
   "language": "python",
   "name": "python3"
  },
  "language_info": {
   "codemirror_mode": {
    "name": "ipython",
    "version": 3
   },
   "file_extension": ".py",
   "mimetype": "text/x-python",
   "name": "python",
   "nbconvert_exporter": "python",
   "pygments_lexer": "ipython3",
   "version": "3.9.11"
  },
  "varInspector": {
   "cols": {
    "lenName": 16,
    "lenType": 16,
    "lenVar": 40
   },
   "kernels_config": {
    "python": {
     "delete_cmd_postfix": "",
     "delete_cmd_prefix": "del ",
     "library": "var_list.py",
     "varRefreshCmd": "print(var_dic_list())"
    },
    "r": {
     "delete_cmd_postfix": ") ",
     "delete_cmd_prefix": "rm(",
     "library": "var_list.r",
     "varRefreshCmd": "cat(var_dic_list()) "
    }
   },
   "types_to_exclude": [
    "module",
    "function",
    "builtin_function_or_method",
    "instance",
    "_Feature"
   ],
   "window_display": false
  }
 },
 "nbformat": 4,
 "nbformat_minor": 2
}
