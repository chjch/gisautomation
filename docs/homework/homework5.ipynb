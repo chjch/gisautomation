{
 "cells": [
  {
   "cell_type": "markdown",
   "metadata": {},
   "source": [
    "# Homework 4\n",
    "\n",
    "## Assignment\n",
    "1. Solve the problem in [Homework 1](homework1.html).\n",
    "2. However, other than using ModelBuilder, you are asked to tackle the problem **using ArcPy functions**, just as the instructor did in the second lecture in Module 4.\n",
    "3. For criterion (a), i.e., _\"completely within 6 miles of I-75\"_, you **must use \"Select by Location\"**.\n",
    "4. For criterion (b), i.e., \"_within Alachua County boundary_\" you **must use \"Select by Attributes\"** in ArcPy to select records whose `COUNTY` field equals to `'001'`.\n",
    "\n",
    "## Files to Submit\n",
    "\n",
    "- Put all the codes in this Jupyter Notebook.\n",
    "- Rename this Jupyter Notebook (the .ipynb file) as `HW4_<LASTNAME>.ipynb`, e.g., `HW4_CHEN.ipynb`.\n",
    "- Create a short video (5 minutes) to present your work.\n",
    "- Submit both files (e.g., `HW4_CHEN.ipynb` and `HW4_CHEN.mp4`) through canvas.\n",
    "- See syllabus for deadline."
   ]
  }
 ],
 "metadata": {
  "kernelspec": {
   "display_name": "Python 3",
   "language": "python",
   "name": "python3"
  },
  "language_info": {
   "codemirror_mode": {
    "name": "ipython",
    "version": 3
   },
   "file_extension": ".py",
   "mimetype": "text/x-python",
   "name": "python",
   "nbconvert_exporter": "python",
   "pygments_lexer": "ipython3",
   "version": "3.7.11"
  },
  "varInspector": {
   "cols": {
    "lenName": 16,
    "lenType": 16,
    "lenVar": 40
   },
   "kernels_config": {
    "python": {
     "delete_cmd_postfix": "",
     "delete_cmd_prefix": "del ",
     "library": "var_list.py",
     "varRefreshCmd": "print(var_dic_list())"
    },
    "r": {
     "delete_cmd_postfix": ") ",
     "delete_cmd_prefix": "rm(",
     "library": "var_list.r",
     "varRefreshCmd": "cat(var_dic_list()) "
    }
   },
   "types_to_exclude": [
    "module",
    "function",
    "builtin_function_or_method",
    "instance",
    "_Feature"
   ],
   "window_display": false
  }
 },
 "nbformat": 4,
 "nbformat_minor": 2
}
