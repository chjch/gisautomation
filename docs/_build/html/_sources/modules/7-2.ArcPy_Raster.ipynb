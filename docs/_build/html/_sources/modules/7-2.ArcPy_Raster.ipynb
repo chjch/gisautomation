{
 "cells": [
  {
   "attachments": {},
   "cell_type": "markdown",
   "metadata": {},
   "source": [
    "# 7-2: Run Raster Geoprocessing using ArcPy\n",
    "\n",
    "## 1. Setup \"mesc\" for ArcPy"
   ]
  },
  {
   "cell_type": "code",
   "execution_count": 1,
   "metadata": {},
   "outputs": [],
   "source": [
    "import arcpy\n",
    "\n",
    "gdb_worksp = r\"..\\data\\class_data.gdb\"\n",
    "arcpy.env.workspace = gdb_worksp"
   ]
  },
  {
   "cell_type": "markdown",
   "metadata": {},
   "source": [
    "### 1.1 `env` object\n",
    "\n",
    "The [env](https://pro.arcgis.com/en/pro-app/arcpy/classes/env.htm) object exposes\n",
    "**environment settings** for geoprocessing functions in ArcGIS.\n",
    "\n",
    "These properties can be used to retrieve (_read_) the current values or to set\n",
    "(_write_) them.\n",
    "\n",
    "Geoprocessing environment settings can be thought of as **additional parameters**\n",
    "that affect a tool's results.\n",
    "\n",
    "### 1.2 Set mask"
   ]
  },
  {
   "cell_type": "code",
   "execution_count": 3,
   "metadata": {},
   "outputs": [],
   "source": [
    "arcpy.env.mask = \"county_boundary\"  # set mask by a feature class"
   ]
  },
  {
   "cell_type": "code",
   "execution_count": 4,
   "metadata": {},
   "outputs": [],
   "source": [
    "arcpy.env.mask = \"dem\"  # set mask by a raster dataset"
   ]
  },
  {
   "cell_type": "markdown",
   "metadata": {},
   "source": [
    "### 1.3 Set extent and Read extent"
   ]
  },
  {
   "cell_type": "code",
   "execution_count": 5,
   "metadata": {},
   "outputs": [],
   "source": [
    "arcpy.env.extent = \"county_boundary\" # set extent by a feature class"
   ]
  },
  {
   "cell_type": "code",
   "execution_count": 6,
   "metadata": {},
   "outputs": [],
   "source": [
    "arcpy.env.extent = \"dem\""
   ]
  },
  {
   "cell_type": "code",
   "execution_count": 10,
   "metadata": {},
   "outputs": [],
   "source": [
    "# read the left, right, top, bottom coordinates of the extent setting\n",
    "extent_info = \"Left:\\t{}\\nRight:\\t{}\\nTop:\\t{}\\nBottom:\\t{}\".format(\n",
    "    arcpy.env.extent.XMin, \n",
    "    arcpy.env.extent.XMax, \n",
    "    arcpy.env.extent.YMax, \n",
    "    arcpy.env.extent.YMin\n",
    ")"
   ]
  },
  {
   "cell_type": "code",
   "execution_count": null,
   "metadata": {},
   "outputs": [],
   "source": [
    "print(extent_info)"
   ]
  },
  {
   "cell_type": "markdown",
   "metadata": {},
   "source": [
    "### 1.4 Set snap raster"
   ]
  },
  {
   "cell_type": "code",
   "execution_count": 11,
   "metadata": {},
   "outputs": [],
   "source": [
    "arcpy.env.snapRaster = \"dem\" # can only be set by a raster dataset"
   ]
  },
  {
   "cell_type": "markdown",
   "metadata": {},
   "source": [
    "### 1.5 Set cell size"
   ]
  },
  {
   "cell_type": "code",
   "execution_count": 12,
   "metadata": {},
   "outputs": [],
   "source": [
    "arcpy.env.cellSize = \"dem\" # set output raster cell size by another raster"
   ]
  },
  {
   "cell_type": "code",
   "execution_count": 13,
   "metadata": {},
   "outputs": [],
   "source": [
    "arcpy.env.cellSize = 90 # set output raster cell size by a number (in default linear unit)"
   ]
  },
  {
   "cell_type": "markdown",
   "metadata": {},
   "source": [
    "## 2. Run Raster Functions using ArcPy"
   ]
  },
  {
   "cell_type": "code",
   "execution_count": 14,
   "metadata": {},
   "outputs": [],
   "source": [
    "# setup \"mesc\"\n",
    "\n",
    "cntbnd_fc = \"county_boundary\"\n",
    "dem_rast = \"dem\"\n",
    "\n",
    "arcpy.env.mask = cntbnd_fc\n",
    "arcpy.env.extent = cntbnd_fc\n",
    "arcpy.env.snapRaster = None\n",
    "arcpy.env.cellSize = 30"
   ]
  },
  {
   "cell_type": "markdown",
   "metadata": {},
   "source": [
    "### 2.1 Setup output geodatabse"
   ]
  },
  {
   "cell_type": "code",
   "execution_count": 5,
   "metadata": {},
   "outputs": [
    {
     "data": {
      "text/plain": [
       "'..\\\\data\\\\class_data.gdb\\\\module7\\\\in class\\\\Raster\\\\Raster.gdb\\\\out_rast'"
      ]
     },
     "execution_count": 5,
     "metadata": {},
     "output_type": "execute_result"
    }
   ],
   "source": [
    "import os\n",
    "\n",
    "output_gdb = r\"..\\data\\class_data.gdb\\module7\\in class\\Raster\\Raster.gdb\"\n",
    "os.path.join(output_gdb, 'out_rast') # with built-in function"
   ]
  },
  {
   "cell_type": "code",
   "execution_count": 6,
   "metadata": {},
   "outputs": [
    {
     "data": {
      "text/plain": [
       "'..\\\\data\\\\class_data.gdb\\\\module7\\\\in class\\\\Raster\\\\Raster.gdb\\\\out_rast'"
      ]
     },
     "execution_count": 6,
     "metadata": {},
     "output_type": "execute_result"
    }
   ],
   "source": [
    "output_gdb + \"\\\\\" + 'out_rast' # with string concatnation"
   ]
  },
  {
   "cell_type": "code",
   "execution_count": 7,
   "metadata": {},
   "outputs": [
    {
     "data": {
      "text/plain": [
       "'..\\\\data\\\\class_data.gdb\\\\module7\\\\in class\\\\Raster\\\\Raster.gdb\\\\out_rast'"
      ]
     },
     "execution_count": 7,
     "metadata": {},
     "output_type": "execute_result"
    }
   ],
   "source": [
    "\"{}\\{}\".format(output_gdb, 'out_rast') # with .format function"
   ]
  },
  {
   "cell_type": "markdown",
   "metadata": {},
   "source": [
    "### 2.2 Euclidean Distance"
   ]
  },
  {
   "cell_type": "code",
   "execution_count": 15,
   "metadata": {
    "hide_input": false
   },
   "outputs": [
    {
     "name": "stdout",
     "output_type": "stream",
     "text": [
      "\u001b[1;31mSignature:\u001b[0m\n",
      "\u001b[0marcpy\u001b[0m\u001b[1;33m.\u001b[0m\u001b[0msa\u001b[0m\u001b[1;33m.\u001b[0m\u001b[0mEucDistance\u001b[0m\u001b[1;33m(\u001b[0m\u001b[1;33m\n",
      "\u001b[0m    \u001b[0min_source_data\u001b[0m\u001b[1;33m,\u001b[0m\u001b[1;33m\n",
      "\u001b[0m    \u001b[0mmaximum_distance\u001b[0m\u001b[1;33m=\u001b[0m\u001b[1;34m'#'\u001b[0m\u001b[1;33m,\u001b[0m\u001b[1;33m\n",
      "\u001b[0m    \u001b[0mcell_size\u001b[0m\u001b[1;33m=\u001b[0m\u001b[1;34m'#'\u001b[0m\u001b[1;33m,\u001b[0m\u001b[1;33m\n",
      "\u001b[0m    \u001b[0mout_direction_raster\u001b[0m\u001b[1;33m=\u001b[0m\u001b[1;34m'#'\u001b[0m\u001b[1;33m,\u001b[0m\u001b[1;33m\n",
      "\u001b[0m    \u001b[0mdistance_method\u001b[0m\u001b[1;33m=\u001b[0m\u001b[1;34m'#'\u001b[0m\u001b[1;33m,\u001b[0m\u001b[1;33m\n",
      "\u001b[0m    \u001b[0min_barrier_data\u001b[0m\u001b[1;33m=\u001b[0m\u001b[1;34m'#'\u001b[0m\u001b[1;33m,\u001b[0m\u001b[1;33m\n",
      "\u001b[0m    \u001b[0mout_back_direction_raster\u001b[0m\u001b[1;33m=\u001b[0m\u001b[1;34m'#'\u001b[0m\u001b[1;33m,\u001b[0m\u001b[1;33m\n",
      "\u001b[0m\u001b[1;33m)\u001b[0m\u001b[1;33m\u001b[0m\u001b[1;33m\u001b[0m\u001b[0m\n",
      "\u001b[1;31mDocstring:\u001b[0m\n",
      "EucDistance_sa(in_source_data, {maximum_distance}, {cell_size}, {out_direction_raster}, {distance_method}, {in_barrier_data}, {out_back_direction_raster})\n",
      "\n",
      "Calculates, for each cell, the Euclidean distance to the closest source.\n",
      "\n",
      "Arguments:\n",
      "in_source_data -- The input source locations.\n",
      "maximum_distance -- The threshold that the accumulative distance values cannot exceed.\n",
      "cell_size -- The cell size of the output raster that will be created.\n",
      "out_direction_raster -- The output Euclidean direction raster.\n",
      "distance_method -- Specifies whether the distance will be calculated using a planar (flat earth) or a geodesic (ellipsoid) method.\n",
      "in_barrier_data -- The dataset that defines the barriers.\n",
      "out_back_direction_raster -- The output Euclidean back direction raster.\n",
      "\n",
      "---Return to continue, q to quit---                                    \u001b[0mResults:\n",
      "out_distance_raster -- Output distance raster\n",
      "\u001b[1;31mFile:\u001b[0m      c:\\program files\\arcgis\\pro\\resources\\arcpy\\arcpy\\sa\\functions.py\n",
      "\u001b[1;31mType:\u001b[0m      function\n"
     ]
    }
   ],
   "source": [
    "?arcpy.sa.EucDistance"
   ]
  },
  {
   "cell_type": "code",
   "execution_count": 21,
   "metadata": {},
   "outputs": [],
   "source": [
    "school_fc = \"schools\"\n",
    "\n",
    "school_dist_rast = arcpy.sa.EucDistance(school_fc)   # cell_size using default setup in env parameter\n",
    "school_dist_rast.save(os.path.join(output_gdb, 'school_dist_rast'))"
   ]
  },
  {
   "cell_type": "markdown",
   "metadata": {},
   "source": [
    "### 2.3 Slice"
   ]
  },
  {
   "cell_type": "code",
   "execution_count": 20,
   "metadata": {},
   "outputs": [
    {
     "name": "stdout",
     "output_type": "stream",
     "text": [
      "\u001b[1;31mSignature:\u001b[0m\n",
      "\u001b[0marcpy\u001b[0m\u001b[1;33m.\u001b[0m\u001b[0msa\u001b[0m\u001b[1;33m.\u001b[0m\u001b[0mSlice\u001b[0m\u001b[1;33m(\u001b[0m\u001b[1;33m\n",
      "\u001b[0m    \u001b[0min_raster\u001b[0m\u001b[1;33m,\u001b[0m\u001b[1;33m\n",
      "\u001b[0m    \u001b[0mnumber_zones\u001b[0m\u001b[1;33m=\u001b[0m\u001b[1;34m'#'\u001b[0m\u001b[1;33m,\u001b[0m\u001b[1;33m\n",
      "\u001b[0m    \u001b[0mslice_type\u001b[0m\u001b[1;33m=\u001b[0m\u001b[1;34m'#'\u001b[0m\u001b[1;33m,\u001b[0m\u001b[1;33m\n",
      "\u001b[0m    \u001b[0mbase_output_zone\u001b[0m\u001b[1;33m=\u001b[0m\u001b[1;34m'#'\u001b[0m\u001b[1;33m,\u001b[0m\u001b[1;33m\n",
      "\u001b[0m    \u001b[0mnodata_to_value\u001b[0m\u001b[1;33m=\u001b[0m\u001b[1;34m'#'\u001b[0m\u001b[1;33m,\u001b[0m\u001b[1;33m\n",
      "\u001b[0m    \u001b[0mclass_interval_size\u001b[0m\u001b[1;33m=\u001b[0m\u001b[1;34m'#'\u001b[0m\u001b[1;33m,\u001b[0m\u001b[1;33m\n",
      "\u001b[0m\u001b[1;33m)\u001b[0m\u001b[1;33m\u001b[0m\u001b[1;33m\u001b[0m\u001b[0m\n",
      "\u001b[1;31mDocstring:\u001b[0m\n",
      "Slice_sa(in_raster, {number_zones}, {slice_type}, {base_output_zone}, {nodata_to_value}, {class_interval_size})\n",
      "\n",
      "Slices or reclassifies the range of values of the input cells into zones (classes). The available data classification methods are equal interval, equal area (quantile), natural breaks, standard deviation (mean-centered), standard deviation (mean as a break), defined interval, and geometric interval.\n",
      "\n",
      "Arguments:\n",
      "in_raster -- The input raster to be reclassified.\n",
      "number_zones -- The number of zones that the input raster will be reclassified into.\n",
      "slice_type -- Specifies the manner in which the input raster will be reclassified into zones.\n",
      "base_output_zone -- The starting value that will be used for zones (classes) on the output raster dataset.\n",
      "nodata_to_value -- Replace NoData with a value in the output.\n",
      "class_interval_size -- The size of the interval between classes.\n",
      "\n",
      "Results:\n",
      "out_raster -- Output raster\n",
      "---Return to continue, q to quit---                                    \u001b[0m\u001b[1;31mFile:\u001b[0m      c:\\program files\\arcgis\\pro\\resources\\arcpy\\arcpy\\sa\\functions.py\n",
      "\u001b[1;31mType:\u001b[0m      function\n"
     ]
    }
   ],
   "source": [
    "?arcpy.sa.Slice"
   ]
  },
  {
   "cell_type": "code",
   "execution_count": 22,
   "metadata": {},
   "outputs": [],
   "source": [
    "arcpy.env.snapRaster = school_dist_rast\n",
    "\n",
    "school_dist_1_9 = arcpy.sa.Slice(\n",
    "    school_dist_grid,\n",
    "    number_zones=9, \n",
    "    slice_type=\"NATURAL_BREAKS\",\n",
    "    base_output_zone=1\n",
    ")\n",
    "\n",
    "school_dist_1_9.save(output_gdb + \"\\\\\" + \"school_dist_1_9\")"
   ]
  },
  {
   "cell_type": "markdown",
   "metadata": {},
   "source": [
    "### 2.4 Reclassify\n",
    "\n",
    "- [_RemapValue_](https://pro.arcgis.com/en/pro-app/arcpy/spatial-analyst/remapvalue-class.htm) object takes **a list of lists**, with the inner lists being composed of 2 parts\n",
    "    + oldValue\n",
    "    + newValue\n",
    "- [_RemapRange_](https://pro.arcgis.com/en/pro-app/arcpy/spatial-analyst/an-overview-of-transformation-classes.htm) object takes **a list of lists**, with the inner lists being composed of 3 parts\n",
    "    + startValue\n",
    "    + endValue\n",
    "    + newvalue"
   ]
  },
  {
   "cell_type": "code",
   "execution_count": 27,
   "metadata": {},
   "outputs": [
    {
     "name": "stdout",
     "output_type": "stream",
     "text": [
      "\u001b[1;31mSignature:\u001b[0m \u001b[0marcpy\u001b[0m\u001b[1;33m.\u001b[0m\u001b[0msa\u001b[0m\u001b[1;33m.\u001b[0m\u001b[0mReclassify\u001b[0m\u001b[1;33m(\u001b[0m\u001b[0min_raster\u001b[0m\u001b[1;33m,\u001b[0m \u001b[0mreclass_field\u001b[0m\u001b[1;33m,\u001b[0m \u001b[0mremap\u001b[0m\u001b[1;33m,\u001b[0m \u001b[0mmissing_values\u001b[0m\u001b[1;33m=\u001b[0m\u001b[1;34m'#'\u001b[0m\u001b[1;33m)\u001b[0m\u001b[1;33m\u001b[0m\u001b[1;33m\u001b[0m\u001b[0m\n",
      "\u001b[1;31mDocstring:\u001b[0m\n",
      "Reclassify_sa(in_raster, reclass_field, remap, {missing_values})\n",
      "\n",
      "Reclassifies (or changes) the values in a raster.\n",
      "\n",
      "Arguments:\n",
      "in_raster -- The input raster to be reclassified.\n",
      "reclass_field -- Field denoting the values that will be reclassified.\n",
      "remap -- A remap table that defines how the values will be reclassified. Working with the table and it options are as follows:\n",
      "missing_values -- Denotes whether missing values in the reclass table retain their value or get mapped to NoData.\n",
      "\n",
      "Results:\n",
      "out_raster -- Output raster\n",
      "\u001b[1;31mFile:\u001b[0m      c:\\program files\\arcgis\\pro\\resources\\arcpy\\arcpy\\sa\\functions.py\n",
      "\u001b[1;31mType:\u001b[0m      function\n"
     ]
    }
   ],
   "source": [
    "?arcpy.sa.Reclassify"
   ]
  },
  {
   "cell_type": "code",
   "execution_count": 23,
   "metadata": {},
   "outputs": [],
   "source": [
    "dist_remap = arcpy.sa.RemapValue(\n",
    "    [[1, 9], [2, 8], [3, 7], [4, 6],\n",
    "     [6, 4], [7, 3], [8, 2], [9, 1]]\n",
    ")\n",
    "\n",
    "school_dist_9_1 = arcpy.sa.Reclassify(school_dist_1_9, \"Value\", dist_remap)\n",
    "school_dist_9_1.save(\"{}\\{}\".format(output_gdb, \"school_dist_9_1\"))"
   ]
  },
  {
   "cell_type": "markdown",
   "metadata": {},
   "source": [
    "### 2.5 Map Algebra directly operated on rasters"
   ]
  },
  {
   "cell_type": "code",
   "execution_count": 25,
   "metadata": {},
   "outputs": [],
   "source": [
    "school_dist_wgted = school_dist_9_1*0.3 + school_dist_1_9*0.7\n",
    "school_dist_wgted.save(os.path.join(output_gdb, \"school_dist_wgted\"))"
   ]
  },
  {
   "cell_type": "code",
   "execution_count": 29,
   "metadata": {},
   "outputs": [
    {
     "name": "stdout",
     "output_type": "stream",
     "text": [
      "\u001b[1;31mSignature:\u001b[0m \u001b[0marcpy\u001b[0m\u001b[1;33m.\u001b[0m\u001b[0msa\u001b[0m\u001b[1;33m.\u001b[0m\u001b[0mInt\u001b[0m\u001b[1;33m(\u001b[0m\u001b[0min_raster_or_constant\u001b[0m\u001b[1;33m)\u001b[0m\u001b[1;33m\u001b[0m\u001b[1;33m\u001b[0m\u001b[0m\n",
      "\u001b[1;31mDocstring:\u001b[0m\n",
      "Int_sa(in_raster_or_constant)\n",
      "\n",
      "Converts each cell value of a raster to an integer by truncation.\n",
      "\n",
      "Arguments:\n",
      "in_raster_or_constant -- The input raster to be converted to integer.\n",
      "\n",
      "Results:\n",
      "out_raster -- Output raster\n",
      "\u001b[1;31mFile:\u001b[0m      c:\\program files\\arcgis\\pro\\resources\\arcpy\\arcpy\\sa\\functions.py\n",
      "\u001b[1;31mType:\u001b[0m      function\n"
     ]
    }
   ],
   "source": [
    "?arcpy.sa.Int"
   ]
  },
  {
   "cell_type": "code",
   "execution_count": 26,
   "metadata": {},
   "outputs": [],
   "source": [
    "# without defining a variable to store the output raster\n",
    "\n",
    "arcpy.sa.Int(school_dist_wgted).save(\n",
    "    os.path.join(output_gdb, \"school_dist_wgted_int\")\n",
    ")"
   ]
  }
 ],
 "metadata": {
  "kernelspec": {
   "display_name": "Python 3",
   "language": "python",
   "name": "python3"
  },
  "language_info": {
   "codemirror_mode": {
    "name": "ipython",
    "version": 3
   },
   "file_extension": ".py",
   "mimetype": "text/x-python",
   "name": "python",
   "nbconvert_exporter": "python",
   "pygments_lexer": "ipython3",
   "version": "3.9.11"
  },
  "vscode": {
   "interpreter": {
    "hash": "4512e868ce03776b2acb55696d863bcca535b363b5450b1af05055989d5d969c"
   }
  }
 },
 "nbformat": 4,
 "nbformat_minor": 2
}
