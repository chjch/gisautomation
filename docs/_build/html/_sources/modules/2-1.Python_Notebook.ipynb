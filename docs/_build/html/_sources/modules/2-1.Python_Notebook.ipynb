{
 "cells": [
  {
   "cell_type": "markdown",
   "metadata": {
    "pycharm": {
     "name": "#%% md\n"
    },
    "slideshow": {
     "slide_type": "-"
    }
   },
   "source": [
    "# Basics of Jupyter Notebook"
   ]
  },
  {
   "cell_type": "markdown",
   "source": [
    "## What is Jupyter Notebook\n",
    "\n",
    "1. An Integrated Development Environment (**IDE**) embedded in web browser. \n",
    "2. Experiment with your codes dynamically (run your codes CELL BY CELL).\n",
    "3. A light-weight application runs inside ArcGIS Pro or a **_web browser_**.\n",
    "4. Powerful in sharing, visualizing, and presenting ideas and results of analysis.\n",
    "\n",
    "```{image} ../_static/images/new_py_nb.png\n",
    ":class: shadow mb-1 border\n",
    ":alt: new_py_nb\n",
    "```"
   ],
   "metadata": {
    "collapsed": false,
    "pycharm": {
     "name": "#%% md\n"
    }
   }
  },
  {
   "cell_type": "markdown",
   "source": [
    "## How to create a new Python Notebook\n",
    "\n",
    "- **Analysis** (_tab_) -> **Geoprocessing** (_group_) -> **Python Notebook**.\n",
    "\n",
    "  ```{image} ../_static/images/py_nb_menubar.png\n",
    "  :class: shadow mb-2 border\n",
    "  :alt: py_nb_menubar\n",
    "  :scale: 50%\n",
    "  ```\n",
    "\n",
    "- **Save** the notebook.\n",
    "\n",
    "  ```{image} ../_static/images/save_py_nb.png\n",
    "  :class: shadow mb-2 border\n",
    "  :alt: save_py_nb\n",
    "  :scale: 50%\n",
    "  ```\n",
    "\n",
    "- **Rename** the notebook (`.ipynb`) in the **Catalog Pane**."
   ],
   "metadata": {
    "collapsed": false,
    "pycharm": {
     "name": "#%% md\n"
    }
   }
  },
  {
   "cell_type": "markdown",
   "source": [
    "## How to run codes in a cell\n",
    "\n",
    "1. `Ctrl+Enter`: run a cell and stay focus on the current cell.\n",
    "2. `Shift+Enter`: run a cell and move selection to the next cell.\n",
    "3. `Alt+Enter`: run a cell and insert a new cell below the current cell."
   ],
   "metadata": {
    "collapsed": false,
    "pycharm": {
     "name": "#%% md\n"
    }
   }
  },
  {
   "cell_type": "markdown",
   "source": [
    "## Two types of cell\n",
    "\n",
    "- **Code** cell: contains _Python_ codes ready to run, indicated by `In [ ]`.\n",
    "\n",
    "  ```{image} ../_static/images/code_cell.png\n",
    "  :class: shadow mb-2 border\n",
    "  :alt: code_cell\n",
    "  ```\n",
    "\n",
    "- **Markdown** cell: contains _Markdown_ codes, without `In [ ]`.\n",
    "\n",
    "  ```{image} ../_static/images/md_cell_before.png\n",
    "  :class: shadow mb-2 border\n",
    "  :alt: md_cell_before\n",
    "  ```\n",
    "\n",
    "  ```{image} ../_static/images/md_cell_after.png\n",
    "  :class: shadow mb-2 border\n",
    "  :alt: md_cell_after\n",
    "  ```"
   ],
   "metadata": {
    "collapsed": false,
    "pycharm": {
     "name": "#%% md\n"
    }
   }
  },
  {
   "cell_type": "markdown",
   "source": [
    "```{tip}\n",
    "\n",
    "Follow the same way mentioned above to **run** both _Markdown_ cell and _Code_ cell.\n",
    "```"
   ],
   "metadata": {
    "collapsed": false,
    "pycharm": {
     "name": "#%% md\n"
    }
   }
  },
  {
   "cell_type": "markdown",
   "source": [
    "## Two cell modes\n",
    "\n",
    "Cells in Jupyter Notebook can be in either one of two modes:\n",
    "\n",
    "- **Command** mode: indicated by a <b><span style=\"color:dodgerblue\">*blue*</span></b> vertical bar; press `Esc` key to enable.\n",
    "- **Edit** mode: indicated by a <b><span style=\"color:forestgreen\">*green*</span></b> vertical bar; press `Enter` to enable or simply click the cell."
   ],
   "metadata": {
    "collapsed": false,
    "pycharm": {
     "name": "#%% md\n"
    }
   }
  },
  {
   "cell_type": "markdown",
   "source": [
    "## Useful shortcuts (only when in command mode)"
   ],
   "metadata": {
    "collapsed": false,
    "pycharm": {
     "name": "#%% md\n"
    }
   }
  },
  {
   "cell_type": "markdown",
   "source": [
    "1. `A`/`B`: Create a new cell above/below the current cell.\n",
    "2. `UP`/`DOWN`: Arrow key to navigate between cells.\n",
    "3. `M`: Convert a cell from code mode to markdown code.\n",
    "4. `Y`: Convert a cell from markdown mode to code mode.\n",
    "5. `D,D`: Delete a cell.\n",
    "6. `L`: Toggle line number.\n",
    "7. `F`: Find and replace text in markdown.\n",
    "8. `H`: Show all keyboard shortcuts."
   ],
   "metadata": {
    "collapsed": false,
    "pycharm": {
     "name": "#%% md\n"
    }
   }
  },
  {
   "cell_type": "markdown",
   "source": [
    "```{tip}\n",
    "\n",
    "**Multi-cursor support** in Jupyter Notebook\n",
    "\n",
    "- `Ctrl` + mouse click\n",
    "- `Alt` + mouse click\n",
    "- [Helpful tricks in Jupyter Notebook](https://www.dataquest.io/blog/jupyter-notebook-tips-tricks-shortcuts/)\n",
    "\n",
    "```"
   ],
   "metadata": {
    "collapsed": false,
    "pycharm": {
     "name": "#%% md\n"
    }
   }
  },
  {
   "cell_type": "markdown",
   "source": [
    "**<center>[Top 20](https://en.wikipedia.org/wiki/List_of_largest_cities) largest city in the world</center>**\n",
    "\n",
    "| Name           | Country        | Continent     | UN Estimation (2018) | Urban Area |\n",
    "|----------------|----------------|---------------|----------------------|------------|\n",
    "| Tokyo          |  Japan         | Asia          | 37,400,068           | 4,751      |\n",
    "| Delhi          |  India         | Asia          | 28,514,000           | 14,272     |\n",
    "| Shanghai       |  China         | Asia          | 25,582,000           | 5,436      |\n",
    "| Sao Paulo      |  Brazil        | South America | 21,650,000           | 6,949      |\n",
    "| Mexico City    |  Mexico        | South America | 21,581,000           | 9,017      |\n",
    "| Cairo          |  Egypt         | Africa        | 20,076,000           | 9,844      |\n",
    "| Mumbai         |  India         | Asia          | 19,980,000           | 22,010     |\n",
    "| Beijing        |  China         | Asia          | 19,618,000           | 4,659      |\n",
    "| Dhaka          |  Bangladesh    | Asia          | 19,578,000           | 36,928     |\n",
    "| Osaka          |  Japan         | Asia          | 19,281,000           | 5,129      |\n",
    "| New York       |  United States | North America | 18,819,000           | 684        |\n",
    "| Karachi        |  Pakistan      | Asia          | 15,400,000           | 14,648     |\n",
    "| Buenos Aires   |  Argentina     | South America | 14,967,000           | 5,033      |\n",
    "| Chongqing      |  China         | Asia          | 14,838,000           | 5,378      |\n",
    "| Istanbul       |  Turkey        | Europe        | 14,751,000           | 11,135     |\n",
    "| Kolkata        |  India         | Asia          | 14,681,000           | 13,830     |\n",
    "| Manila         |  Philippines   | Asia          | 13,482,000           | 12,798     |\n",
    "| Lagos          |  Nigeria       | Africa        | 13,463,000           | 7,877      |\n",
    "| Rio de Janeiro |  Brazil        | South America | 13,293,000           | 6,181      |\n",
    "| Tianjin        |  China         | Asia          | 13,215,000           | 3,886      |"
   ],
   "metadata": {
    "collapsed": false,
    "pycharm": {
     "name": "#%% md\n"
    }
   }
  }
 ],
 "metadata": {
  "kernelspec": {
   "display_name": "Python 3",
   "language": "python",
   "name": "python3"
  },
  "language_info": {
   "codemirror_mode": {
    "name": "ipython",
    "version": 3
   },
   "file_extension": ".py",
   "mimetype": "text/x-python",
   "name": "python",
   "nbconvert_exporter": "python",
   "pygments_lexer": "ipython3",
   "version": "3.9.11"
  },
  "vscode": {
   "interpreter": {
    "hash": "ce21b655b4d6c9e397d5ad93d5666c623f49909f6d0cc2f72076dafcf1b3ecfb"
   }
  }
 },
 "nbformat": 4,
 "nbformat_minor": 2
}