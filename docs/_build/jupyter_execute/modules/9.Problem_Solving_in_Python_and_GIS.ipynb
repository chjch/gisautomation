{
 "cells": [
  {
   "cell_type": "markdown",
   "metadata": {},
   "source": [
    "# A Journey of Solving a GIS Automation Problem: from Google to Settle\n"
   ]
  },
  {
   "cell_type": "markdown",
   "metadata": {},
   "source": [
    "## 1. A Land Cover Map Created in ArcGIS"
   ]
  },
  {
   "cell_type": "markdown",
   "metadata": {},
   "source": [
    "<details>\n",
    "    <summary><u><b>ArcGIS Pro</b></u></summary>\n",
    "<img src=\"https://live.staticflickr.com/65535/51973472722_fca6427b9c_o.png\" width=\"1512\" height=\"998\" alt=\"arcgis_landcover\">\n",
    "</details>"
   ]
  },
  {
   "cell_type": "markdown",
   "metadata": {},
   "source": [
    "## 2. Question: How to transfer the symbology to another software?"
   ]
  },
  {
   "cell_type": "markdown",
   "metadata": {},
   "source": [
    "<details>\n",
    "    <summary><u><b>QGIS</u></b></summary>\n",
    "<img src=\"https://live.staticflickr.com/65535/51974478781_4510e2f571_o.png\" width=\"1512\" height=\"999\" alt=\"qgis_landcover\">\n",
    "</details>"
   ]
  },
  {
   "cell_type": "markdown",
   "metadata": {},
   "source": [
    "## 3. Let's ask Google.\n",
    "\n",
    "### 3.1 Google Search 1: \"arcgis pro export symbology\"\n",
    "\n",
    "- https://community.esri.com/t5/arcgis-pro-ideas/arcgis-pro-quot-export-map-styles-quot-for-bulk/idi-p/937605\n",
    "- https://gis.stackexchange.com/questions/404262/how-to-save-symbol-to-style-for-layer-with-unique-values-style-in-arcgis-pro-2"
   ]
  },
  {
   "cell_type": "markdown",
   "metadata": {},
   "source": [
    "### 3.2 Google Search 2: \"save all symbols as a style arcgis pro\"\n",
    "\n",
    "- https://pro.arcgis.com/en/pro-app/2.7/help/mapping/layer-properties/save-symbols-in-styles.htm#:~:text=Click%20a%20symbol%20in%20the,open%20the%20Format%20Symbol%20pane.&text=in%20the%20upper%20right%20corner%20and%20click%20Save%20Symbol%20to%20Style.\n",
    "- https://gis.stackexchange.com/questions/404262/how-to-save-symbol-to-style-for-layer-with-unique-values-style-in-arcgis-pro-2"
   ]
  },
  {
   "cell_type": "markdown",
   "metadata": {},
   "source": [
    "### 3.3 Google Search 3: \"arcpy get rgb of symbology\"\n",
    "\n",
    "- https://community.esri.com/t5/python-questions/how-to-get-the-symbology-colors/td-p/475163"
   ]
  },
  {
   "cell_type": "markdown",
   "metadata": {},
   "source": [
    "## 4. Solution: Access properties of symbology through `arcpy.mp` module\n",
    "\n",
    "### 4.1 Develop the code\n",
    "\n",
    "- Think of the end goal: i.e., a pandas DataFrame containing all classes in a symbology with associated color rgb values.\n",
    "- What are the specific usage scenarios?\n",
    "- What tools are available? arcpy.mp, pandas\n",
    "- Establish a preliminary strategy (roadmap) to the final product.\n",
    "- Continue researching to figure out the nuts and bolts.\n",
    "\n",
    "### 4.2 Save for future use\n",
    "\n",
    "- GitHub Gist\n",
    "- Let's talk about **git**."
   ]
  },
  {
   "cell_type": "code",
   "execution_count": null,
   "metadata": {},
   "outputs": [],
   "source": []
  }
 ],
 "metadata": {
  "kernelspec": {
   "display_name": "ArcGISPro",
   "language": "Python",
   "name": "python3"
  },
  "language_info": {
   "codemirror_mode": {
    "name": "ipython",
    "version": 3
   },
   "file_extension": ".py",
   "mimetype": "text/x-python",
   "name": "python",
   "nbconvert_exporter": "python",
   "pygments_lexer": "ipython3",
   "version": "3.9.11"
  }
 },
 "nbformat": 4,
 "nbformat_minor": 2
}