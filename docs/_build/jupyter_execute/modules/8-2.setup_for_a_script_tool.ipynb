{
 "cells": [
  {
   "attachments": {},
   "cell_type": "markdown",
   "id": "5cdbc596",
   "metadata": {},
   "source": [
    "# 8-2: Create a Script Tool \n",
    "<img src=\"https://live.staticflickr.com/65535/51944863831_b009a5046f_o.png\" width=\"473\" height=\"492\" alt=\"create_script\" style=\"float:right\">\n",
    "\n",
    "## 1. The setup process\n",
    "- Step 1. Pick a toolbox to host the tool\n",
    "- Step 2. Create a new script tool\n",
    "- Step 3. Setup the \"General\" tab\n",
    "    - Name: for operation (alphanumeric only and no spaces)\n",
    "    - Label: for display (all characters allowed)\n",
    "    - Link the .py script to the tool\n",
    "- Step 4. Setup the \"Parameter\" tab\n",
    "    - Name and label for each parameter\n",
    "    - Data Type: Feature Class, Field, String, Number (short, long, double), Boolean, and [other](https://desktop.arcgis.com/en/arcmap/10.3/tools/supplement/pdf/Geoprocessing_data_types.pdf)\n",
    "    - Type: Required or Optional\n",
    "    - Direction: Input (in most situation) or Output\n",
    "\n",
    "[Official Document](https://pro.arcgis.com/en/pro-app/arcpy/geoprocessing_and_python/setting-script-tool-parameters.htm#GUID-852D5C7F-B0EE-41A2-B6F8-1A86CD1DE3E7)"
   ]
  },
  {
   "cell_type": "markdown",
   "id": "8eb61eaf",
   "metadata": {},
   "source": [
    "<div style=\"padding: 10px;margin-bottom: 20px;border: thin solid #3F48CC;border-left-width: 25px;background-color: #fff\">\n",
    "    \n",
    "_Step 3_\n",
    "\n",
    "<img src=\"https://live.staticflickr.com/65535/51945181259_f8f27d4b2e_o.png\" width=\"800\" height=\"400\" alt=\"wizard_general\">\n",
    "\n",
    "</div>"
   ]
  },
  {
   "cell_type": "markdown",
   "id": "83355901",
   "metadata": {},
   "source": [
    "<div style=\"padding: 10px;margin-bottom: 20px;border: thin solid #3F48CC;border-left-width: 25px;background-color: #fff\">\n",
    "    \n",
    "_Step 4_\n",
    "\n",
    "<img src=\"https://live.staticflickr.com/65535/51945473950_de9c5bffce_o.png\" width=\"800\" height=\"400\" alt=\"wizard_parameter\">\n",
    "    \n",
    "</div>"
   ]
  },
  {
   "cell_type": "markdown",
   "id": "497a5cf2",
   "metadata": {},
   "source": [
    "#### Step 5. Modify the script (.py) to access values of parameters from the tool\n",
    "- ```arcpy.GetParameterAsText()```\n",
    "- access by position of the parameter, e.g., ```arcpy.GetParameterAsText(0)```"
   ]
  },
  {
   "cell_type": "code",
   "execution_count": 1,
   "id": "aed11337",
   "metadata": {},
   "outputs": [],
   "source": [
    "# Define hard-coded parameter\n",
    "I75_fc = \"I75\"\n",
    "blkgrp_fc = \"blockgroups\"\n",
    "cntbnd_fc = \"county_boundary\"\n",
    "lawenforce_fc = \"law_enforcement\""
   ]
  },
  {
   "cell_type": "code",
   "execution_count": 2,
   "id": "189cd1f9",
   "metadata": {},
   "outputs": [
    {
     "ename": "NameError",
     "evalue": "name 'arcpy' is not defined",
     "output_type": "error",
     "traceback": [
      "\u001b[1;31m---------------------------------------------------------------------------\u001b[0m",
      "\u001b[1;31mNameError\u001b[0m                                 Traceback (most recent call last)",
      "\u001b[1;32m<ipython-input-2-42be1f54d328>\u001b[0m in \u001b[0;36m<module>\u001b[1;34m\u001b[0m\n\u001b[0;32m      1\u001b[0m \u001b[1;31m# Access soft-coded parameter\u001b[0m\u001b[1;33m\u001b[0m\u001b[1;33m\u001b[0m\u001b[0m\n\u001b[1;32m----> 2\u001b[1;33m \u001b[0mI75\u001b[0m \u001b[1;33m=\u001b[0m \u001b[0marcpy\u001b[0m\u001b[1;33m.\u001b[0m\u001b[0mGetParameterAsText\u001b[0m\u001b[1;33m(\u001b[0m\u001b[1;36m1\u001b[0m\u001b[1;33m)\u001b[0m\u001b[1;33m\u001b[0m\u001b[1;33m\u001b[0m\u001b[0m\n\u001b[0m\u001b[0;32m      3\u001b[0m \u001b[0mblkgrp\u001b[0m \u001b[1;33m=\u001b[0m \u001b[0marcpy\u001b[0m\u001b[1;33m.\u001b[0m\u001b[0mGetParameterAsText\u001b[0m\u001b[1;33m(\u001b[0m\u001b[1;36m0\u001b[0m\u001b[1;33m)\u001b[0m\u001b[1;33m\u001b[0m\u001b[1;33m\u001b[0m\u001b[0m\n\u001b[0;32m      4\u001b[0m \u001b[0mcntbnd\u001b[0m \u001b[1;33m=\u001b[0m \u001b[0marcpy\u001b[0m\u001b[1;33m.\u001b[0m\u001b[0mGetParameterAsText\u001b[0m\u001b[1;33m(\u001b[0m\u001b[1;36m2\u001b[0m\u001b[1;33m)\u001b[0m\u001b[1;33m\u001b[0m\u001b[1;33m\u001b[0m\u001b[0m\n\u001b[0;32m      5\u001b[0m \u001b[0mlawenforce\u001b[0m \u001b[1;33m=\u001b[0m \u001b[0marcpy\u001b[0m\u001b[1;33m.\u001b[0m\u001b[0mGetParameterAsText\u001b[0m\u001b[1;33m(\u001b[0m\u001b[1;36m3\u001b[0m\u001b[1;33m)\u001b[0m\u001b[1;33m\u001b[0m\u001b[1;33m\u001b[0m\u001b[0m\n",
      "\u001b[1;31mNameError\u001b[0m: name 'arcpy' is not defined"
     ]
    }
   ],
   "source": [
    "# Access soft-coded parameter\n",
    "I75 = arcpy.GetParameterAsText(1)\n",
    "blkgrp = arcpy.GetParameterAsText(0)\n",
    "cntbnd = arcpy.GetParameterAsText(2)\n",
    "lawenforce = arcpy.GetParameterAsText(3)"
   ]
  },
  {
   "cell_type": "code",
   "execution_count": null,
   "id": "25dbb7c0",
   "metadata": {},
   "outputs": [],
   "source": [
    "output_gdb = arcpy.GetParameterAsText(4)\n",
    "blkgrp_select = arcpy.GetParameterAsText(5)"
   ]
  },
  {
   "cell_type": "code",
   "execution_count": null,
   "id": "08f3104b",
   "metadata": {},
   "outputs": [],
   "source": [
    "# intermediate output\n",
    "I75_buff = output_gdb + \"\\\\\" + \"I75_Buff\"\n",
    "blkgrp_law = output_gdb + \"\\\\\" + \"blkgrp_law\""
   ]
  }
 ],
 "metadata": {
  "kernelspec": {
   "display_name": "arcgispro-py3",
   "language": "python",
   "name": "python3"
  },
  "language_info": {
   "codemirror_mode": {
    "name": "ipython",
    "version": 3
   },
   "file_extension": ".py",
   "mimetype": "text/x-python",
   "name": "python",
   "nbconvert_exporter": "python",
   "pygments_lexer": "ipython3",
   "version": "3.9.11"
  },
  "vscode": {
   "interpreter": {
    "hash": "ce21b655b4d6c9e397d5ad93d5666c623f49909f6d0cc2f72076dafcf1b3ecfb"
   }
  }
 },
 "nbformat": 4,
 "nbformat_minor": 5
}