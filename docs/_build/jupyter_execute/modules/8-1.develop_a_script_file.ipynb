{
 "cells": [
  {
   "attachments": {},
   "cell_type": "markdown",
   "metadata": {},
   "source": [
    "# 8-1: The Basics of a Script Tool"
   ]
  },
  {
   "attachments": {},
   "cell_type": "markdown",
   "metadata": {},
   "source": [
    "<img src=\"https://live.staticflickr.com/65535/51945473980_8811fd9c3c_o.png\" width=\"341\" height=\"341\" alt=\"script_tool\" style=\"float: right\">\n",
    "\n",
    "## 1. What is a script tool? \n",
    "\n",
    "A script tool allows you to turn your own **Python scripts** and functionality\n",
    "into your own **geoprocessing tools**.\n",
    "\n",
    "- an integral part of geoprocessing, just like a system tool; \n",
    "- open and run it in ArcGIS Pro;\n",
    "- use it in a ModelBuiler model."
   ]
  },
  {
   "cell_type": "markdown",
   "metadata": {},
   "source": [
    "## 2. What parts needed to create a script tool?\n",
    "\n",
    "1. The source code i.e., a Python script (.py).\n",
    "2. A custom toolbox used to host script tools.\n",
    "3. A precise definition of the parameters of your script (defined through a wizard in ArcGIS Pro)."
   ]
  },
  {
   "cell_type": "markdown",
   "metadata": {},
   "source": [
    "## 3. Work on the script in Jupyter Notebook\n",
    "\n",
    "<br>\n",
    "\n",
    "<div style=\"padding: 10px;margin-bottom: 20px;border: thin solid #3F48CC;border-left-width: 25px;background-color: #fff\">\n",
    "\n",
    "**Homework 1 ModelBuilder model**: find census block groups without law enforcement.\n",
    "\n",
    "<img src=\"https://gist.githubusercontent.com/chjch/6da40e9b15aef3a6571975f03ba90c93/raw/295f510ceada6f68dad90defe0b3ac1a9acdc6e2/hw1_mb.svg\">\n",
    "\n",
    "</div>"
   ]
  },
  {
   "cell_type": "code",
   "execution_count": 1,
   "metadata": {},
   "outputs": [],
   "source": [
    "# setup workspace\n",
    "import arcpy\n",
    "gdb_worksp = r\"..\\data\\class_data.gdb\"\n",
    "arcpy.env.workspace = gdb_worksp"
   ]
  },
  {
   "cell_type": "code",
   "execution_count": 2,
   "metadata": {},
   "outputs": [],
   "source": [
    "# setup input feature classes\n",
    "I75_fc = \"I75\"\n",
    "blkgrp_fc = \"blockgroups\"\n",
    "cntbnd_fc = \"county_boundary\"\n",
    "lawenforce_fc = \"law_enforcement\""
   ]
  },
  {
   "cell_type": "code",
   "execution_count": 3,
   "metadata": {},
   "outputs": [],
   "source": [
    "# setup output feature\n",
    "output_gdb = r\"..\\data\\class_data.gdb\\module8\\in class\\FirstScriptTool\\FirstScriptTool.gdb\"\n",
    "I75_buff = output_gdb + \"\\\\\" + \"I75_Buff\"\n",
    "blkgrp_law = output_gdb + \"\\\\\" + \"blkgrp_law\"\n",
    "blkgrp_select = \"blockgroups_select\""
   ]
  },
  {
   "cell_type": "code",
   "execution_count": 4,
   "metadata": {},
   "outputs": [
    {
     "ename": "ExecuteError",
     "evalue": "Failed to execute. Parameters are not valid.\nERROR 000732: Input Features: Dataset I75 does not exist or is not supported\nFailed to execute (Buffer).\n",
     "output_type": "error",
     "traceback": [
      "\u001b[1;31m---------------------------------------------------------------------------\u001b[0m",
      "\u001b[1;31mExecuteError\u001b[0m                              Traceback (most recent call last)",
      "\u001b[1;32m<ipython-input-4-d3234768f404>\u001b[0m in \u001b[0;36m<module>\u001b[1;34m\u001b[0m\n\u001b[0;32m      1\u001b[0m \u001b[1;31m# geoprocessing operations\u001b[0m\u001b[1;33m\u001b[0m\u001b[1;33m\u001b[0m\u001b[0m\n\u001b[1;32m----> 2\u001b[1;33m \u001b[0marcpy\u001b[0m\u001b[1;33m.\u001b[0m\u001b[0manalysis\u001b[0m\u001b[1;33m.\u001b[0m\u001b[0mBuffer\u001b[0m\u001b[1;33m(\u001b[0m\u001b[0mI75_fc\u001b[0m\u001b[1;33m,\u001b[0m \u001b[0mI75_buff\u001b[0m\u001b[1;33m,\u001b[0m \u001b[1;34m\"6 Miles\"\u001b[0m\u001b[1;33m)\u001b[0m\u001b[1;33m\u001b[0m\u001b[1;33m\u001b[0m\u001b[0m\n\u001b[0m\u001b[0;32m      3\u001b[0m \u001b[1;33m\u001b[0m\u001b[0m\n\u001b[0;32m      4\u001b[0m blkgrp_lyr_1 = arcpy.management.SelectLayerByLocation(\n\u001b[0;32m      5\u001b[0m     \u001b[0mblkgrp_fc\u001b[0m\u001b[1;33m,\u001b[0m \u001b[1;34m\"WITHIN\"\u001b[0m\u001b[1;33m,\u001b[0m \u001b[0mcntbnd_fc\u001b[0m\u001b[1;33m\u001b[0m\u001b[1;33m\u001b[0m\u001b[0m\n",
      "\u001b[1;32mC:\\Program Files\\ArcGIS\\Pro\\Resources\\ArcPy\\arcpy\\analysis.py\u001b[0m in \u001b[0;36mBuffer\u001b[1;34m(in_features, out_feature_class, buffer_distance_or_field, line_side, line_end_type, dissolve_option, dissolve_field, method)\u001b[0m\n\u001b[0;32m   1369\u001b[0m         \u001b[1;32mreturn\u001b[0m \u001b[0mretval\u001b[0m\u001b[1;33m\u001b[0m\u001b[1;33m\u001b[0m\u001b[0m\n\u001b[0;32m   1370\u001b[0m     \u001b[1;32mexcept\u001b[0m \u001b[0mException\u001b[0m \u001b[1;32mas\u001b[0m \u001b[0me\u001b[0m\u001b[1;33m:\u001b[0m\u001b[1;33m\u001b[0m\u001b[1;33m\u001b[0m\u001b[0m\n\u001b[1;32m-> 1371\u001b[1;33m         \u001b[1;32mraise\u001b[0m \u001b[0me\u001b[0m\u001b[1;33m\u001b[0m\u001b[1;33m\u001b[0m\u001b[0m\n\u001b[0m\u001b[0;32m   1372\u001b[0m \u001b[1;33m\u001b[0m\u001b[0m\n\u001b[0;32m   1373\u001b[0m \u001b[1;33m@\u001b[0m\u001b[0mgptooldoc\u001b[0m\u001b[1;33m(\u001b[0m\u001b[1;34m'CreateThiessenPolygons_analysis'\u001b[0m\u001b[1;33m,\u001b[0m \u001b[1;32mNone\u001b[0m\u001b[1;33m)\u001b[0m\u001b[1;33m\u001b[0m\u001b[1;33m\u001b[0m\u001b[0m\n",
      "\u001b[1;32mC:\\Program Files\\ArcGIS\\Pro\\Resources\\ArcPy\\arcpy\\analysis.py\u001b[0m in \u001b[0;36mBuffer\u001b[1;34m(in_features, out_feature_class, buffer_distance_or_field, line_side, line_end_type, dissolve_option, dissolve_field, method)\u001b[0m\n\u001b[0;32m   1366\u001b[0m     \u001b[1;32mfrom\u001b[0m \u001b[0marcpy\u001b[0m\u001b[1;33m.\u001b[0m\u001b[0marcobjects\u001b[0m\u001b[1;33m.\u001b[0m\u001b[0marcobjectconversion\u001b[0m \u001b[1;32mimport\u001b[0m \u001b[0mconvertArcObjectToPythonObject\u001b[0m\u001b[1;33m\u001b[0m\u001b[1;33m\u001b[0m\u001b[0m\n\u001b[0;32m   1367\u001b[0m     \u001b[1;32mtry\u001b[0m\u001b[1;33m:\u001b[0m\u001b[1;33m\u001b[0m\u001b[1;33m\u001b[0m\u001b[0m\n\u001b[1;32m-> 1368\u001b[1;33m         \u001b[0mretval\u001b[0m \u001b[1;33m=\u001b[0m \u001b[0mconvertArcObjectToPythonObject\u001b[0m\u001b[1;33m(\u001b[0m\u001b[0mgp\u001b[0m\u001b[1;33m.\u001b[0m\u001b[0mBuffer_analysis\u001b[0m\u001b[1;33m(\u001b[0m\u001b[1;33m*\u001b[0m\u001b[0mgp_fixargs\u001b[0m\u001b[1;33m(\u001b[0m\u001b[1;33m(\u001b[0m\u001b[0min_features\u001b[0m\u001b[1;33m,\u001b[0m \u001b[0mout_feature_class\u001b[0m\u001b[1;33m,\u001b[0m \u001b[0mbuffer_distance_or_field\u001b[0m\u001b[1;33m,\u001b[0m \u001b[0mline_side\u001b[0m\u001b[1;33m,\u001b[0m \u001b[0mline_end_type\u001b[0m\u001b[1;33m,\u001b[0m \u001b[0mdissolve_option\u001b[0m\u001b[1;33m,\u001b[0m \u001b[0mdissolve_field\u001b[0m\u001b[1;33m,\u001b[0m \u001b[0mmethod\u001b[0m\u001b[1;33m)\u001b[0m\u001b[1;33m,\u001b[0m \u001b[1;32mTrue\u001b[0m\u001b[1;33m)\u001b[0m\u001b[1;33m)\u001b[0m\u001b[1;33m)\u001b[0m\u001b[1;33m\u001b[0m\u001b[1;33m\u001b[0m\u001b[0m\n\u001b[0m\u001b[0;32m   1369\u001b[0m         \u001b[1;32mreturn\u001b[0m \u001b[0mretval\u001b[0m\u001b[1;33m\u001b[0m\u001b[1;33m\u001b[0m\u001b[0m\n\u001b[0;32m   1370\u001b[0m     \u001b[1;32mexcept\u001b[0m \u001b[0mException\u001b[0m \u001b[1;32mas\u001b[0m \u001b[0me\u001b[0m\u001b[1;33m:\u001b[0m\u001b[1;33m\u001b[0m\u001b[1;33m\u001b[0m\u001b[0m\n",
      "\u001b[1;32mC:\\Program Files\\ArcGIS\\Pro\\Resources\\ArcPy\\arcpy\\geoprocessing\\_base.py\u001b[0m in \u001b[0;36m<lambda>\u001b[1;34m(*args)\u001b[0m\n\u001b[0;32m    510\u001b[0m         \u001b[0mval\u001b[0m \u001b[1;33m=\u001b[0m \u001b[0mgetattr\u001b[0m\u001b[1;33m(\u001b[0m\u001b[0mself\u001b[0m\u001b[1;33m.\u001b[0m\u001b[0m_gp\u001b[0m\u001b[1;33m,\u001b[0m \u001b[0mattr\u001b[0m\u001b[1;33m)\u001b[0m\u001b[1;33m\u001b[0m\u001b[1;33m\u001b[0m\u001b[0m\n\u001b[0;32m    511\u001b[0m         \u001b[1;32mif\u001b[0m \u001b[0mcallable\u001b[0m\u001b[1;33m(\u001b[0m\u001b[0mval\u001b[0m\u001b[1;33m)\u001b[0m\u001b[1;33m:\u001b[0m\u001b[1;33m\u001b[0m\u001b[1;33m\u001b[0m\u001b[0m\n\u001b[1;32m--> 512\u001b[1;33m             \u001b[1;32mreturn\u001b[0m \u001b[1;32mlambda\u001b[0m \u001b[1;33m*\u001b[0m\u001b[0margs\u001b[0m\u001b[1;33m:\u001b[0m \u001b[0mval\u001b[0m\u001b[1;33m(\u001b[0m\u001b[1;33m*\u001b[0m\u001b[0mgp_fixargs\u001b[0m\u001b[1;33m(\u001b[0m\u001b[0margs\u001b[0m\u001b[1;33m,\u001b[0m \u001b[1;32mTrue\u001b[0m\u001b[1;33m)\u001b[0m\u001b[1;33m)\u001b[0m\u001b[1;33m\u001b[0m\u001b[1;33m\u001b[0m\u001b[0m\n\u001b[0m\u001b[0;32m    513\u001b[0m         \u001b[1;32melse\u001b[0m\u001b[1;33m:\u001b[0m\u001b[1;33m\u001b[0m\u001b[1;33m\u001b[0m\u001b[0m\n\u001b[0;32m    514\u001b[0m             \u001b[1;32mreturn\u001b[0m \u001b[0mconvertArcObjectToPythonObject\u001b[0m\u001b[1;33m(\u001b[0m\u001b[0mval\u001b[0m\u001b[1;33m)\u001b[0m\u001b[1;33m\u001b[0m\u001b[1;33m\u001b[0m\u001b[0m\n",
      "\u001b[1;31mExecuteError\u001b[0m: Failed to execute. Parameters are not valid.\nERROR 000732: Input Features: Dataset I75 does not exist or is not supported\nFailed to execute (Buffer).\n"
     ]
    }
   ],
   "source": [
    "# geoprocessing operations \n",
    "arcpy.analysis.Buffer(I75_fc, I75_buff, \"6 Miles\")\n",
    "\n",
    "blkgrp_lyr_1 = arcpy.management.SelectLayerByLocation(\n",
    "    blkgrp_fc, \"WITHIN\", cntbnd_fc\n",
    ")\n",
    "blkgrp_lyr_2 = arcpy.management.SelectLayerByLocation(\n",
    "    blkgrp_lyr_1, \"WITHIN\", I75_buff, selection_type=\"SUBSET_SELECTION\"\n",
    ")\n",
    "\n",
    "arcpy.analysis.SpatialJoin(\n",
    "    blkgrp_lyr_2, lawenforce_fc, blkgrp_law, \n",
    "    \"JOIN_ONE_TO_ONE\", \"KEEP_ALL\", \"\", \"INTERSECT\", \"\", \"\"\n",
    ")\n",
    "\n",
    "query_exp = \"{} = 0\".format('\"Join_Count\"')\n",
    "arcpy.FeatureClassToFeatureClass_conversion(\n",
    "    blkgrp_law, output_gdb, blkgrp_select, query_exp, \"\", \"\"\n",
    ")"
   ]
  },
  {
   "cell_type": "markdown",
   "metadata": {},
   "source": [
    "<div style=\"padding: 10px;margin-bottom: 20px;border: thin solid #3F48CC;border-left-width: 25px;background-color: #fff\">\n",
    "\n",
    "We now have the codes that does the job.\n",
    "Before making a \"Script Tool\", we need to put the codes in a python (**\\*.py**) file."
   ]
  }
 ],
 "metadata": {
  "kernelspec": {
   "display_name": "arcgispro-py3",
   "language": "python",
   "name": "python3"
  },
  "language_info": {
   "codemirror_mode": {
    "name": "ipython",
    "version": 3
   },
   "file_extension": ".py",
   "mimetype": "text/x-python",
   "name": "python",
   "nbconvert_exporter": "python",
   "pygments_lexer": "ipython3",
   "version": "3.9.11"
  },
  "vscode": {
   "interpreter": {
    "hash": "ce21b655b4d6c9e397d5ad93d5666c623f49909f6d0cc2f72076dafcf1b3ecfb"
   }
  }
 },
 "nbformat": 4,
 "nbformat_minor": 2
}