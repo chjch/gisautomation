{
 "cells": [
  {
   "cell_type": "markdown",
   "metadata": {
    "heading_collapsed": true
   },
   "source": [
    "# Homework 5\n",
    "\n",
    "## Assignment\n",
    "\n",
    "## 1. NumPy"
   ]
  },
  {
   "cell_type": "markdown",
   "metadata": {
    "hidden": true
   },
   "source": [
    "### <span>**<font color='royalblue'>Question 1.1</font>**</span>\n",
    "\n",
    "Describe your answer to the question: \"what is NumPy?\" in a short paragraph (2-4 sentences)."
   ]
  },
  {
   "cell_type": "markdown",
   "metadata": {
    "hidden": true
   },
   "source": [
    "`# write markdown below (and then render it Ctrl + Enter)`\n",
    "\n",
    "NumPy is a Python package for data analysis. "
   ]
  },
  {
   "cell_type": "markdown",
   "metadata": {
    "hidden": true
   },
   "source": [
    "### <span>**<font color='royalblue'>Question 1.2</font>**</span>\n",
    "\n",
    "Import numpy (recall the convention)"
   ]
  },
  {
   "cell_type": "code",
   "execution_count": 1,
   "metadata": {
    "hidden": true
   },
   "outputs": [],
   "source": [
    "# Write your codes below\n",
    "import numpy as np"
   ]
  },
  {
   "cell_type": "markdown",
   "metadata": {
    "hidden": true
   },
   "source": [
    "### <span>**<font color='royalblue'>Question 1.3</font>**</span>\n",
    "\n",
    "Create a numpy ndarray that contains even numbers between 0 and 9. (using only numpy function)"
   ]
  },
  {
   "cell_type": "code",
   "execution_count": 2,
   "metadata": {
    "hidden": true
   },
   "outputs": [
    {
     "data": {
      "text/plain": [
       "array([0, 2, 4, 6, 8])"
      ]
     },
     "execution_count": 2,
     "metadata": {},
     "output_type": "execute_result"
    }
   ],
   "source": [
    "# Write your codes below\n",
    "np.arange(0, 10, 2)"
   ]
  },
  {
   "cell_type": "markdown",
   "metadata": {
    "hidden": true
   },
   "source": [
    "### <span>**<font color='royalblue'>Question 1.4</font>**</span>\n",
    "\n",
    "Create a sequence of numbers with **0.5** constant increment between 0 and 50 (i.e., 0, 0.5, 1, 1.5, ..., 49.5, 50). (using only numpy function)"
   ]
  },
  {
   "cell_type": "code",
   "execution_count": 3,
   "metadata": {
    "hidden": true
   },
   "outputs": [
    {
     "data": {
      "text/plain": [
       "array([ 0. ,  0.5,  1. ,  1.5,  2. ,  2.5,  3. ,  3.5,  4. ,  4.5,  5. ,\n",
       "        5.5,  6. ,  6.5,  7. ,  7.5,  8. ,  8.5,  9. ,  9.5, 10. , 10.5,\n",
       "       11. , 11.5, 12. , 12.5, 13. , 13.5, 14. , 14.5, 15. , 15.5, 16. ,\n",
       "       16.5, 17. , 17.5, 18. , 18.5, 19. , 19.5, 20. , 20.5, 21. , 21.5,\n",
       "       22. , 22.5, 23. , 23.5, 24. , 24.5, 25. , 25.5, 26. , 26.5, 27. ,\n",
       "       27.5, 28. , 28.5, 29. , 29.5, 30. , 30.5, 31. , 31.5, 32. , 32.5,\n",
       "       33. , 33.5, 34. , 34.5, 35. , 35.5, 36. , 36.5, 37. , 37.5, 38. ,\n",
       "       38.5, 39. , 39.5, 40. , 40.5, 41. , 41.5, 42. , 42.5, 43. , 43.5,\n",
       "       44. , 44.5, 45. , 45.5, 46. , 46.5, 47. , 47.5, 48. , 48.5, 49. ,\n",
       "       49.5, 50. ])"
      ]
     },
     "execution_count": 3,
     "metadata": {},
     "output_type": "execute_result"
    }
   ],
   "source": [
    "np.linspace(0, 50, 101)"
   ]
  },
  {
   "cell_type": "code",
   "execution_count": 4,
   "metadata": {
    "hidden": true
   },
   "outputs": [],
   "source": [
    "# Write your codes below\n"
   ]
  },
  {
   "cell_type": "markdown",
   "metadata": {
    "hidden": true
   },
   "source": [
    "### <span>**<font color='royalblue'>Question 1.5</font>**</span>\n",
    "\n",
    "Create a **4x4** 2-d array with **random numbers** in a _uniform distribution_ in the range \\[0, 1)."
   ]
  },
  {
   "cell_type": "code",
   "execution_count": 5,
   "metadata": {
    "hidden": true
   },
   "outputs": [
    {
     "data": {
      "text/plain": [
       "array([[0.53095681, 0.22006435, 0.04185445, 0.24395993],\n",
       "       [0.38179535, 0.09199175, 0.27705779, 0.10565163],\n",
       "       [0.62095397, 0.78390267, 0.38814554, 0.14176068],\n",
       "       [0.71977158, 0.43907444, 0.47792436, 0.28400568]])"
      ]
     },
     "execution_count": 5,
     "metadata": {},
     "output_type": "execute_result"
    }
   ],
   "source": [
    "np.random.rand(4,4)"
   ]
  },
  {
   "cell_type": "code",
   "execution_count": 6,
   "metadata": {
    "hidden": true
   },
   "outputs": [
    {
     "data": {
      "text/plain": [
       "array([[[0.64663204, 0.62196279],\n",
       "        [0.37321038, 0.71840831],\n",
       "        [0.24169695, 0.13896232],\n",
       "        [0.89847039, 0.84813799]],\n",
       "\n",
       "       [[0.2717057 , 0.43615286],\n",
       "        [0.09303788, 0.45002228],\n",
       "        [0.69295018, 0.7966078 ],\n",
       "        [0.66400361, 0.58317405]],\n",
       "\n",
       "       [[0.97903338, 0.95537331],\n",
       "        [0.15787144, 0.70597594],\n",
       "        [0.16359004, 0.41954089],\n",
       "        [0.29989525, 0.17073168]],\n",
       "\n",
       "       [[0.29741483, 0.63042839],\n",
       "        [0.92553906, 0.66881107],\n",
       "        [0.29201876, 0.15116088],\n",
       "        [0.46878505, 0.67487794]]])"
      ]
     },
     "execution_count": 6,
     "metadata": {},
     "output_type": "execute_result"
    }
   ],
   "source": [
    "np.random.rand(4,4,2)"
   ]
  },
  {
   "cell_type": "code",
   "execution_count": 7,
   "metadata": {
    "hidden": true
   },
   "outputs": [
    {
     "data": {
      "text/plain": [
       "array([[1, 3, 5, 2],\n",
       "       [6, 0, 9, 3],\n",
       "       [9, 9, 8, 6],\n",
       "       [6, 8, 3, 6]])"
      ]
     },
     "execution_count": 7,
     "metadata": {},
     "output_type": "execute_result"
    }
   ],
   "source": [
    "# Write your codes below\n",
    "\n",
    "(np.random.rand(4,4) * 10).astype(int)"
   ]
  },
  {
   "cell_type": "markdown",
   "metadata": {
    "hidden": true
   },
   "source": [
    "### <span>**<font color='royalblue'>Question 1.6</font>**</span>\n",
    "\n",
    "1. Import **arcpy** and set up the **workspace** to  your local _class geodatabase_, i.e., `class_data.gdb`.\n",
    "2. Create a variable that references the `crash` feature class in the geodatabase. "
   ]
  },
  {
   "cell_type": "code",
   "execution_count": 8,
   "metadata": {
    "hidden": true
   },
   "outputs": [],
   "source": [
    "# Write your codes below\n",
    "\n",
    "import arcpy\n",
    "\n",
    "gdb_worksp = r\"D:\\Dropbox (UFL)\\URP6271\\urp6271_spring2022\\class_data.gdb\"\n",
    "arcpy.env.workspace = gdb_worksp\n",
    "crash_fc = 'crash'"
   ]
  },
  {
   "cell_type": "markdown",
   "metadata": {
    "hidden": true
   },
   "source": [
    "### <span>**<font color='royalblue'>Question 1.7</font>**</span>\n",
    "\n",
    "1. Retrive and print out all the field names (as a Python List) in the `crash` feature class.\n",
    "2. Convert the `crash` feature class to a (_Structured_) NumPy array with the following fields.\n",
    "\n",
    "```python\n",
    "crash_fields = ['City', 'Crash_Type', 'Vehicles', 'Non_Motorists', 'Fatalities', 'Injuries',\n",
    "                'Alcohol_Related', 'Distraction_Related', 'Drug_Related', 'Estimated_Damages',\n",
    "                'Weather_Condition', 'Light_Condition', 'Crash_Severity', 'Manner_of_Collision',\n",
    "                'Type_of_Intersection', 'Passengers', 'Bicyclists', 'Pedestrians', 'Citations',\n",
    "                'Property_Dmg_Amt','Vehicle_Dmg_Amt']\n",
    "```\n",
    "3. Store the structured array with a variable named: `crash_arr`. \n",
    "4. Find out and **print** how many records (rows) in the `crash_arr`."
   ]
  },
  {
   "cell_type": "code",
   "execution_count": 9,
   "metadata": {
    "hidden": true
   },
   "outputs": [
    {
     "name": "stdout",
     "output_type": "stream",
     "text": [
      "['OBJECTID', 'Shape', 'HSMV_Report_Number', 'Agency_Report_Number', 'Reporting_Agency', 'Form_Type', 'Crash_Date', 'Crash_Time', 'City', 'County', 'Crash_Street', 'Intersecting_Street', 'Offset_Distance', 'Offset_Direction', 'Crash_Type', 'Vehicles', 'Non_Motorists', 'Fatalities', 'Injuries', 'Alcohol_Related', 'Distraction_Related', 'Drug_Related', 'Estimated_Damages', 'Weather_Condition', 'Light_Condition', 'Street_Number', 'Crash_Type_Detailed', 'Crash_Type_Dir', 'Crash_Severity', 'Within_City_Limits', 'Manner_of_Collision', 'First_Harmful_Event', 'First_HE_Location', 'First_HE_Relation_to_Jct', 'First_HE_Within_Interchange', 'Type_of_Intersection', 'Road_Sys_Identifier', 'Type_of_Shoulder', 'Road_Surf_Cond', 'Contrib_Circum_Road1', 'Contrib_Circum_Road2', 'Contrib_Circum_Road3', 'Contrib_Circum_Env1', 'Contrib_Circum_Env2', 'Contrib_Circum_Env3', 'School_Bus_Related', 'Work_Zone_Related', 'Type_of_Work_Zone', 'Loc_in_Work_Zone', 'Workers_in_Work_Zone', 'Law_Enforcement_in_Work_Zone', 'Mopeds', 'Motorcycles', 'Passengers', 'Bicyclists', 'Pedestrians', 'Fatalities_Unrestrained', 'Incapacitating_Injuries', 'Injuries_Unrestrained', 'Transported_by_EMS', 'Transported_by_Law_Enforcement', 'Transported_by_Other', 'Citations', 'Property_Dmg_Amt', 'Vehicle_Dmg_Amt', 'S4_Mapping', 'S4_Decimal_Degree_Longitude', 'S4_Decimal_Degree_Latitude', 'S4_Albers_X', 'S4_Albers_Y', 'S4_Mapping_Date']\n"
     ]
    }
   ],
   "source": [
    "crash_fields = []\n",
    "for field in arcpy.ListFields(crash_fc):\n",
    "    crash_fields.append(field.name)\n",
    "print(crash_fields)"
   ]
  },
  {
   "cell_type": "code",
   "execution_count": 10,
   "metadata": {
    "hidden": true
   },
   "outputs": [
    {
     "name": "stdout",
     "output_type": "stream",
     "text": [
      "['OBJECTID', 'Shape', 'HSMV_Report_Number', 'Agency_Report_Number', 'Reporting_Agency', 'Form_Type', 'Crash_Date', 'Crash_Time', 'City', 'County', 'Crash_Street', 'Intersecting_Street', 'Offset_Distance', 'Offset_Direction', 'Crash_Type', 'Vehicles', 'Non_Motorists', 'Fatalities', 'Injuries', 'Alcohol_Related', 'Distraction_Related', 'Drug_Related', 'Estimated_Damages', 'Weather_Condition', 'Light_Condition', 'Street_Number', 'Crash_Type_Detailed', 'Crash_Type_Dir', 'Crash_Severity', 'Within_City_Limits', 'Manner_of_Collision', 'First_Harmful_Event', 'First_HE_Location', 'First_HE_Relation_to_Jct', 'First_HE_Within_Interchange', 'Type_of_Intersection', 'Road_Sys_Identifier', 'Type_of_Shoulder', 'Road_Surf_Cond', 'Contrib_Circum_Road1', 'Contrib_Circum_Road2', 'Contrib_Circum_Road3', 'Contrib_Circum_Env1', 'Contrib_Circum_Env2', 'Contrib_Circum_Env3', 'School_Bus_Related', 'Work_Zone_Related', 'Type_of_Work_Zone', 'Loc_in_Work_Zone', 'Workers_in_Work_Zone', 'Law_Enforcement_in_Work_Zone', 'Mopeds', 'Motorcycles', 'Passengers', 'Bicyclists', 'Pedestrians', 'Fatalities_Unrestrained', 'Incapacitating_Injuries', 'Injuries_Unrestrained', 'Transported_by_EMS', 'Transported_by_Law_Enforcement', 'Transported_by_Other', 'Citations', 'Property_Dmg_Amt', 'Vehicle_Dmg_Amt', 'S4_Mapping', 'S4_Decimal_Degree_Longitude', 'S4_Decimal_Degree_Latitude', 'S4_Albers_X', 'S4_Albers_Y', 'S4_Mapping_Date']\n"
     ]
    }
   ],
   "source": [
    "# Write your codes below\n",
    "crash_fields = [field.name for field in arcpy.ListFields(crash_fc)] # list comprehension\n",
    "print(crash_fields)"
   ]
  },
  {
   "cell_type": "code",
   "execution_count": 11,
   "metadata": {
    "hidden": true
   },
   "outputs": [],
   "source": [
    "# Write your codes below (feel free to add/delete cells if necessary)\n",
    "crash_fields = ['City', 'Crash_Type', 'Vehicles', 'Non_Motorists', 'Fatalities', 'Injuries',\n",
    "                'Alcohol_Related', 'Distraction_Related', 'Drug_Related', 'Estimated_Damages',\n",
    "                'Weather_Condition', 'Light_Condition', 'Crash_Severity', 'Manner_of_Collision',\n",
    "                'Type_of_Intersection', 'Passengers', 'Bicyclists', 'Pedestrians', 'Citations',\n",
    "                'Property_Dmg_Amt','Vehicle_Dmg_Amt']\n",
    "crash_arr = arcpy.da.FeatureClassToNumPyArray(crash_fc, crash_fields)"
   ]
  },
  {
   "cell_type": "code",
   "execution_count": 12,
   "metadata": {
    "hidden": true
   },
   "outputs": [
    {
     "data": {
      "text/plain": [
       "(14086,)"
      ]
     },
     "execution_count": 12,
     "metadata": {},
     "output_type": "execute_result"
    }
   ],
   "source": [
    "crash_arr.shape"
   ]
  },
  {
   "cell_type": "markdown",
   "metadata": {
    "hidden": true
   },
   "source": [
    "### <span>**<font color='royalblue'>Question 1.8</font>**</span>\n",
    "\n",
    "1. Retrieve the first 7 elements of `crash_arr`.\n",
    "2. Grab (retrieve and store as a variable) the first, fourth, eighth, 12th, 50th, 100th row of the array.\n",
    "3. Grab the column `Fatalities` from the array."
   ]
  },
  {
   "cell_type": "code",
   "execution_count": 13,
   "metadata": {
    "hidden": true
   },
   "outputs": [
    {
     "data": {
      "text/plain": [
       "array([('Waldo', 'Sideswipe', 2, 1, 0, 1, 'N', 'N', 'N', 2800., 'Clear', 'Daylight', 'Injury', 'Sideswipe, Same Direction', 'Four-Way Intersection', 1, 0, 1, 0, 0., 2800.),\n",
       "       ('Waldo', 'Rear End', 2, 0, 0, 1, 'N', 'Y', 'N', 1000., 'Cloudy', 'Daylight', 'Injury', 'Front to Rear', 'T-Intersection', 3, 0, 0, 0, 0., 1000.),\n",
       "       ('Waldo', 'Rear End', 2, 0, 0, 3, 'N', 'Y', 'N', 1000., 'Clear', 'Daylight', 'Injury', 'Front to Rear', 'T-Intersection', 1, 0, 0, 1, 0., 1000.),\n",
       "       ('Waldo', 'Rear End', 2, 0, 0, 0, 'N', 'N', 'N', 1500., 'Cloudy', 'Daylight', 'Property Damage Only', 'Front to Rear', 'T-Intersection', 1, 0, 0, 1, 0., 1500.),\n",
       "       ('Waldo', 'Head On', 2, 0, 0, 0, 'N', 'N', 'N',  200., 'Clear', 'Daylight', 'Property Damage Only', 'Front to Rear', 'T-Intersection', 2, 0, 0, 0, 0.,  200.),\n",
       "       ('Unincorporated', 'Animal', 1, 0, 0, 2, 'N', 'N', 'N', 7000., 'Cloudy', 'Dark - Not Lighted', 'Injury', 'Other', 'Not at Intersection', 1, 0, 0, 0, 0., 7000.),\n",
       "       ('Gainesville', 'Animal', 1, 0, 0, 0, 'N', 'N', 'N', 1000., 'Clear', 'Dark - Not Lighted', 'Property Damage Only', 'Other', 'Not at Intersection', 0, 0, 0, 0, 0., 1000.)],\n",
       "      dtype=[('City', '<U8000'), ('Crash_Type', '<U8000'), ('Vehicles', '<i4'), ('Non_Motorists', '<i4'), ('Fatalities', '<i4'), ('Injuries', '<i4'), ('Alcohol_Related', '<U8000'), ('Distraction_Related', '<U8000'), ('Drug_Related', '<U8000'), ('Estimated_Damages', '<f8'), ('Weather_Condition', '<U8000'), ('Light_Condition', '<U8000'), ('Crash_Severity', '<U8000'), ('Manner_of_Collision', '<U8000'), ('Type_of_Intersection', '<U8000'), ('Passengers', '<i4'), ('Bicyclists', '<i4'), ('Pedestrians', '<i4'), ('Citations', '<i4'), ('Property_Dmg_Amt', '<f8'), ('Vehicle_Dmg_Amt', '<f8')])"
      ]
     },
     "execution_count": 13,
     "metadata": {},
     "output_type": "execute_result"
    }
   ],
   "source": [
    "# Write your codes below\n",
    "crash_arr[:7]"
   ]
  },
  {
   "cell_type": "code",
   "execution_count": 14,
   "metadata": {
    "hidden": true
   },
   "outputs": [
    {
     "data": {
      "text/plain": [
       "array([ 0,  3,  7, 11])"
      ]
     },
     "execution_count": 14,
     "metadata": {},
     "output_type": "execute_result"
    }
   ],
   "source": [
    "np.array((0,3,7,11))"
   ]
  },
  {
   "cell_type": "code",
   "execution_count": 15,
   "metadata": {
    "hidden": true
   },
   "outputs": [
    {
     "data": {
      "text/plain": [
       "array([('Waldo', 'Sideswipe', 2, 1, 0, 1, 'N', 'N', 'N', 2800., 'Clear', 'Daylight', 'Injury', 'Sideswipe, Same Direction', 'Four-Way Intersection', 1, 0, 1, 0, 0., 2800.),\n",
       "       ('Waldo', 'Rear End', 2, 0, 0, 0, 'N', 'N', 'N', 1500., 'Cloudy', 'Daylight', 'Property Damage Only', 'Front to Rear', 'T-Intersection', 1, 0, 0, 1, 0., 1500.),\n",
       "       ('Gainesville', 'Off Road', 1, 0, 0, 0, 'N', 'N', 'N', 4000., 'Clear', 'Dark - Lighted', 'Property Damage Only', 'Other', 'T-Intersection', 0, 0, 0, 2, 0., 4000.),\n",
       "       ('Unincorporated', 'Rear End', 2, 0, 0, 1, 'N', 'N', 'N', 3000., 'Clear', 'Dark - Lighted', 'Injury', 'Front to Rear', 'Not at Intersection', 0, 0, 0, 1, 0., 3000.)],\n",
       "      dtype=[('City', '<U8000'), ('Crash_Type', '<U8000'), ('Vehicles', '<i4'), ('Non_Motorists', '<i4'), ('Fatalities', '<i4'), ('Injuries', '<i4'), ('Alcohol_Related', '<U8000'), ('Distraction_Related', '<U8000'), ('Drug_Related', '<U8000'), ('Estimated_Damages', '<f8'), ('Weather_Condition', '<U8000'), ('Light_Condition', '<U8000'), ('Crash_Severity', '<U8000'), ('Manner_of_Collision', '<U8000'), ('Type_of_Intersection', '<U8000'), ('Passengers', '<i4'), ('Bicyclists', '<i4'), ('Pedestrians', '<i4'), ('Citations', '<i4'), ('Property_Dmg_Amt', '<f8'), ('Vehicle_Dmg_Amt', '<f8')])"
      ]
     },
     "execution_count": 15,
     "metadata": {},
     "output_type": "execute_result"
    }
   ],
   "source": [
    "crash_arr[np.array((0,3,7,11))]"
   ]
  },
  {
   "cell_type": "code",
   "execution_count": 16,
   "metadata": {
    "hidden": true
   },
   "outputs": [
    {
     "data": {
      "text/plain": [
       "array(['Sideswipe', 'Rear End', 'Rear End', ..., 'Rear End', 'Angle',\n",
       "       'Pedestrian'], dtype='<U8000')"
      ]
     },
     "execution_count": 16,
     "metadata": {},
     "output_type": "execute_result"
    }
   ],
   "source": [
    "crash_arr['Crash_Type']"
   ]
  },
  {
   "cell_type": "markdown",
   "metadata": {
    "hidden": true
   },
   "source": [
    "### <span>**<font color='royalblue'>Question 1.9</font>**</span>\n",
    "\n",
    "1. How many crashes have positive fatalities in this dataset?\n",
    "2. What is the maximum value of fatatlities in the data?\n",
    "3. How many total fatalities in the dataset?"
   ]
  },
  {
   "cell_type": "code",
   "execution_count": 17,
   "metadata": {
    "hidden": true
   },
   "outputs": [
    {
     "data": {
      "text/plain": [
       "(63,)"
      ]
     },
     "execution_count": 17,
     "metadata": {},
     "output_type": "execute_result"
    }
   ],
   "source": [
    "# Write your codes below\n",
    "crash_arr[crash_arr['Fatalities'] > 0].shape"
   ]
  },
  {
   "cell_type": "code",
   "execution_count": 18,
   "metadata": {
    "hidden": true
   },
   "outputs": [
    {
     "data": {
      "text/plain": [
       "2"
      ]
     },
     "execution_count": 18,
     "metadata": {},
     "output_type": "execute_result"
    }
   ],
   "source": [
    "# Write your codes below\n",
    "np.max(crash_arr['Fatalities'])"
   ]
  },
  {
   "cell_type": "code",
   "execution_count": 19,
   "metadata": {
    "hidden": true
   },
   "outputs": [
    {
     "data": {
      "text/plain": [
       "2"
      ]
     },
     "execution_count": 19,
     "metadata": {},
     "output_type": "execute_result"
    }
   ],
   "source": [
    "crash_arr['Fatalities'].max()"
   ]
  },
  {
   "cell_type": "code",
   "execution_count": 20,
   "metadata": {
    "hidden": true
   },
   "outputs": [
    {
     "data": {
      "text/plain": [
       "69"
      ]
     },
     "execution_count": 20,
     "metadata": {},
     "output_type": "execute_result"
    }
   ],
   "source": [
    "crash_arr['Fatalities'].sum()"
   ]
  },
  {
   "cell_type": "markdown",
   "metadata": {
    "hidden": true
   },
   "source": [
    "### <span>**<font color='royalblue'>Question 1.10</font>**</span>\n",
    "\n",
    "1. The **total Damage** of an accident is considered property damage plus vehicle damage. Create a new array that adds the two fields together.\n",
    "2. What is the average value (mean) of total damage per crash? What about the standard deviation? \n",
    "3. Find out the maximum **total damage** in this dataset; what was the **_weather condition_** and which **_city_** did it occur?"
   ]
  },
  {
   "cell_type": "code",
   "execution_count": 21,
   "metadata": {
    "hidden": true
   },
   "outputs": [],
   "source": [
    "# Write your codes below\n",
    "total_damage = crash_arr['Property_Dmg_Amt'] + crash_arr['Vehicle_Dmg_Amt']"
   ]
  },
  {
   "cell_type": "code",
   "execution_count": 22,
   "metadata": {
    "hidden": true
   },
   "outputs": [
    {
     "name": "stdout",
     "output_type": "stream",
     "text": [
      "[2800. 1000. 1000. ... 1000.  800. 2000.]\n"
     ]
    }
   ],
   "source": [
    "print(total_damage)"
   ]
  },
  {
   "cell_type": "code",
   "execution_count": 23,
   "metadata": {
    "hidden": true
   },
   "outputs": [
    {
     "data": {
      "text/plain": [
       "3828.614723839273"
      ]
     },
     "execution_count": 23,
     "metadata": {},
     "output_type": "execute_result"
    }
   ],
   "source": [
    "np.mean(total_damage)"
   ]
  },
  {
   "cell_type": "code",
   "execution_count": 24,
   "metadata": {
    "hidden": true
   },
   "outputs": [
    {
     "data": {
      "text/plain": [
       "12056.89709134384"
      ]
     },
     "execution_count": 24,
     "metadata": {},
     "output_type": "execute_result"
    }
   ],
   "source": [
    "np.std(total_damage)"
   ]
  },
  {
   "cell_type": "code",
   "execution_count": 25,
   "metadata": {
    "hidden": true
   },
   "outputs": [],
   "source": [
    "import matplotlib.pyplot as plt"
   ]
  },
  {
   "cell_type": "code",
   "execution_count": 26,
   "metadata": {
    "hidden": true
   },
   "outputs": [],
   "source": [
    "%matplotlib inline"
   ]
  },
  {
   "cell_type": "code",
   "execution_count": 27,
   "metadata": {
    "hidden": true
   },
   "outputs": [
    {
     "data": {
      "text/plain": [
       "(array([1.4083e+04, 2.0000e+00, 0.0000e+00, 0.0000e+00, 0.0000e+00,\n",
       "        0.0000e+00, 0.0000e+00, 0.0000e+00, 0.0000e+00, 1.0000e+00]),\n",
       " array([      0.,  121512.,  243024.,  364536.,  486048.,  607560.,\n",
       "         729072.,  850584.,  972096., 1093608., 1215120.]),\n",
       " <BarContainer object of 10 artists>)"
      ]
     },
     "execution_count": 27,
     "metadata": {},
     "output_type": "execute_result"
    },
    {
     "data": {
      "image/png": "[encoded data removed]",
      "text/plain": [
       "<Figure size 432x288 with 1 Axes>"
      ]
     },
     "metadata": {
      "filenames": {
       "image/png": "D:\\Dropbox (UFL)\\URP6271\\URP6271-JupyterBook\\docs\\_build\\jupyter_execute\\homework\\homework5_38_1.png"
      },
      "needs_background": "light"
     },
     "output_type": "display_data"
    }
   ],
   "source": [
    "fig, ax = plt.subplots()\n",
    "\n",
    "ax.hist(total_damage)"
   ]
  },
  {
   "cell_type": "code",
   "execution_count": 28,
   "metadata": {
    "hidden": true
   },
   "outputs": [
    {
     "data": {
      "text/plain": [
       "'Cloudy'"
      ]
     },
     "execution_count": 28,
     "metadata": {},
     "output_type": "execute_result"
    }
   ],
   "source": [
    "# Write your codes below\n",
    "crash_arr[total_damage.argmax()]['Weather_Condition']"
   ]
  },
  {
   "cell_type": "code",
   "execution_count": 29,
   "metadata": {
    "hidden": true
   },
   "outputs": [
    {
     "data": {
      "text/plain": [
       "'Gainesville'"
      ]
     },
     "execution_count": 29,
     "metadata": {},
     "output_type": "execute_result"
    }
   ],
   "source": [
    "crash_arr[total_damage.argmax()]['City']"
   ]
  },
  {
   "cell_type": "markdown",
   "metadata": {
    "hidden": true
   },
   "source": [
    "## 1. Pandas"
   ]
  },
  {
   "cell_type": "markdown",
   "metadata": {
    "hidden": true
   },
   "source": [
    "### <span>**<font color='royalblue'>Question 2.1</font>**</span>\n",
    "\n",
    "Describe your answer to the question: \"what is Pandas?\" in a short paragraph (2-4 sentences)."
   ]
  },
  {
   "cell_type": "markdown",
   "metadata": {
    "hidden": true
   },
   "source": [
    "`# write markdown below (and then render it Ctrl + Enter)`\n",
    "\n",
    "Pandas is a Python package for data analysis. Offers a flexible data struture, such as DataFrame, Series to do panel data. It's the \"excel sheet\" for Python."
   ]
  },
  {
   "cell_type": "markdown",
   "metadata": {
    "hidden": true
   },
   "source": [
    "### <span>**<font color='royalblue'>Question 2.2</font>**</span>\n",
    "\n",
    "import pandas (recall the convention and import numpy first)"
   ]
  },
  {
   "cell_type": "code",
   "execution_count": 30,
   "metadata": {
    "hidden": true
   },
   "outputs": [],
   "source": [
    "# Write your codes below\n",
    "\n",
    "import numpy as np\n",
    "import pandas as pd"
   ]
  },
  {
   "cell_type": "markdown",
   "metadata": {
    "hidden": true
   },
   "source": [
    "### <span>**<font color='royalblue'>Question 2.3</font>**</span>\n",
    "\n",
    "Convert the **total damage** array to a pandas `Series`"
   ]
  },
  {
   "cell_type": "code",
   "execution_count": 31,
   "metadata": {
    "hidden": true
   },
   "outputs": [
    {
     "data": {
      "text/plain": [
       "0        2800.0\n",
       "1        1000.0\n",
       "2        1000.0\n",
       "3        1500.0\n",
       "4         200.0\n",
       "          ...  \n",
       "14081    1700.0\n",
       "14082    4200.0\n",
       "14083    1000.0\n",
       "14084     800.0\n",
       "14085    2000.0\n",
       "Length: 14086, dtype: float64"
      ]
     },
     "execution_count": 31,
     "metadata": {},
     "output_type": "execute_result"
    }
   ],
   "source": [
    "# Write your codes below\n",
    "pd.Series(total_damage)"
   ]
  },
  {
   "cell_type": "markdown",
   "metadata": {
    "hidden": true
   },
   "source": [
    "### <span>**<font color='royalblue'>Question 2.4</font>**</span>\n",
    "\n",
    "1. Convert the `crash_arr` array to a pandas `DataFrame` with the name `crash_df`.\n",
    "2. Preview the first 5 elements.\n",
    "3. Preview the last 8 elements."
   ]
  },
  {
   "cell_type": "code",
   "execution_count": 32,
   "metadata": {
    "hidden": true
   },
   "outputs": [],
   "source": [
    "# Write your codes below\n",
    "crash_df = pd.DataFrame(crash_arr)"
   ]
  },
  {
   "cell_type": "code",
   "execution_count": 33,
   "metadata": {
    "hidden": true
   },
   "outputs": [
    {
     "data": {
      "text/html": [
       "<div>\n",
       "<style scoped>\n",
       "    .dataframe tbody tr th:only-of-type {\n",
       "        vertical-align: middle;\n",
       "    }\n",
       "\n",
       "    .dataframe tbody tr th {\n",
       "        vertical-align: top;\n",
       "    }\n",
       "\n",
       "    .dataframe thead th {\n",
       "        text-align: right;\n",
       "    }\n",
       "</style>\n",
       "<table border=\"1\" class=\"dataframe\">\n",
       "  <thead>\n",
       "    <tr style=\"text-align: right;\">\n",
       "      <th></th>\n",
       "      <th>City</th>\n",
       "      <th>Crash_Type</th>\n",
       "      <th>Vehicles</th>\n",
       "      <th>Non_Motorists</th>\n",
       "      <th>Fatalities</th>\n",
       "      <th>Injuries</th>\n",
       "      <th>Alcohol_Related</th>\n",
       "      <th>Distraction_Related</th>\n",
       "      <th>Drug_Related</th>\n",
       "      <th>Estimated_Damages</th>\n",
       "      <th>...</th>\n",
       "      <th>Light_Condition</th>\n",
       "      <th>Crash_Severity</th>\n",
       "      <th>Manner_of_Collision</th>\n",
       "      <th>Type_of_Intersection</th>\n",
       "      <th>Passengers</th>\n",
       "      <th>Bicyclists</th>\n",
       "      <th>Pedestrians</th>\n",
       "      <th>Citations</th>\n",
       "      <th>Property_Dmg_Amt</th>\n",
       "      <th>Vehicle_Dmg_Amt</th>\n",
       "    </tr>\n",
       "  </thead>\n",
       "  <tbody>\n",
       "    <tr>\n",
       "      <th>0</th>\n",
       "      <td>Waldo</td>\n",
       "      <td>Sideswipe</td>\n",
       "      <td>2</td>\n",
       "      <td>1</td>\n",
       "      <td>0</td>\n",
       "      <td>1</td>\n",
       "      <td>N</td>\n",
       "      <td>N</td>\n",
       "      <td>N</td>\n",
       "      <td>2800.0</td>\n",
       "      <td>...</td>\n",
       "      <td>Daylight</td>\n",
       "      <td>Injury</td>\n",
       "      <td>Sideswipe, Same Direction</td>\n",
       "      <td>Four-Way Intersection</td>\n",
       "      <td>1</td>\n",
       "      <td>0</td>\n",
       "      <td>1</td>\n",
       "      <td>0</td>\n",
       "      <td>0.0</td>\n",
       "      <td>2800.0</td>\n",
       "    </tr>\n",
       "    <tr>\n",
       "      <th>1</th>\n",
       "      <td>Waldo</td>\n",
       "      <td>Rear End</td>\n",
       "      <td>2</td>\n",
       "      <td>0</td>\n",
       "      <td>0</td>\n",
       "      <td>1</td>\n",
       "      <td>N</td>\n",
       "      <td>Y</td>\n",
       "      <td>N</td>\n",
       "      <td>1000.0</td>\n",
       "      <td>...</td>\n",
       "      <td>Daylight</td>\n",
       "      <td>Injury</td>\n",
       "      <td>Front to Rear</td>\n",
       "      <td>T-Intersection</td>\n",
       "      <td>3</td>\n",
       "      <td>0</td>\n",
       "      <td>0</td>\n",
       "      <td>0</td>\n",
       "      <td>0.0</td>\n",
       "      <td>1000.0</td>\n",
       "    </tr>\n",
       "    <tr>\n",
       "      <th>2</th>\n",
       "      <td>Waldo</td>\n",
       "      <td>Rear End</td>\n",
       "      <td>2</td>\n",
       "      <td>0</td>\n",
       "      <td>0</td>\n",
       "      <td>3</td>\n",
       "      <td>N</td>\n",
       "      <td>Y</td>\n",
       "      <td>N</td>\n",
       "      <td>1000.0</td>\n",
       "      <td>...</td>\n",
       "      <td>Daylight</td>\n",
       "      <td>Injury</td>\n",
       "      <td>Front to Rear</td>\n",
       "      <td>T-Intersection</td>\n",
       "      <td>1</td>\n",
       "      <td>0</td>\n",
       "      <td>0</td>\n",
       "      <td>1</td>\n",
       "      <td>0.0</td>\n",
       "      <td>1000.0</td>\n",
       "    </tr>\n",
       "    <tr>\n",
       "      <th>3</th>\n",
       "      <td>Waldo</td>\n",
       "      <td>Rear End</td>\n",
       "      <td>2</td>\n",
       "      <td>0</td>\n",
       "      <td>0</td>\n",
       "      <td>0</td>\n",
       "      <td>N</td>\n",
       "      <td>N</td>\n",
       "      <td>N</td>\n",
       "      <td>1500.0</td>\n",
       "      <td>...</td>\n",
       "      <td>Daylight</td>\n",
       "      <td>Property Damage Only</td>\n",
       "      <td>Front to Rear</td>\n",
       "      <td>T-Intersection</td>\n",
       "      <td>1</td>\n",
       "      <td>0</td>\n",
       "      <td>0</td>\n",
       "      <td>1</td>\n",
       "      <td>0.0</td>\n",
       "      <td>1500.0</td>\n",
       "    </tr>\n",
       "    <tr>\n",
       "      <th>4</th>\n",
       "      <td>Waldo</td>\n",
       "      <td>Head On</td>\n",
       "      <td>2</td>\n",
       "      <td>0</td>\n",
       "      <td>0</td>\n",
       "      <td>0</td>\n",
       "      <td>N</td>\n",
       "      <td>N</td>\n",
       "      <td>N</td>\n",
       "      <td>200.0</td>\n",
       "      <td>...</td>\n",
       "      <td>Daylight</td>\n",
       "      <td>Property Damage Only</td>\n",
       "      <td>Front to Rear</td>\n",
       "      <td>T-Intersection</td>\n",
       "      <td>2</td>\n",
       "      <td>0</td>\n",
       "      <td>0</td>\n",
       "      <td>0</td>\n",
       "      <td>0.0</td>\n",
       "      <td>200.0</td>\n",
       "    </tr>\n",
       "  </tbody>\n",
       "</table>\n",
       "<p>5 rows × 21 columns</p>\n",
       "</div>"
      ],
      "text/plain": [
       "    City Crash_Type  Vehicles  Non_Motorists  Fatalities  Injuries  \\\n",
       "0  Waldo  Sideswipe         2              1           0         1   \n",
       "1  Waldo   Rear End         2              0           0         1   \n",
       "2  Waldo   Rear End         2              0           0         3   \n",
       "3  Waldo   Rear End         2              0           0         0   \n",
       "4  Waldo    Head On         2              0           0         0   \n",
       "\n",
       "  Alcohol_Related Distraction_Related Drug_Related  Estimated_Damages  ...  \\\n",
       "0               N                   N            N             2800.0  ...   \n",
       "1               N                   Y            N             1000.0  ...   \n",
       "2               N                   Y            N             1000.0  ...   \n",
       "3               N                   N            N             1500.0  ...   \n",
       "4               N                   N            N              200.0  ...   \n",
       "\n",
       "  Light_Condition        Crash_Severity        Manner_of_Collision  \\\n",
       "0        Daylight                Injury  Sideswipe, Same Direction   \n",
       "1        Daylight                Injury              Front to Rear   \n",
       "2        Daylight                Injury              Front to Rear   \n",
       "3        Daylight  Property Damage Only              Front to Rear   \n",
       "4        Daylight  Property Damage Only              Front to Rear   \n",
       "\n",
       "    Type_of_Intersection Passengers  Bicyclists  Pedestrians  Citations  \\\n",
       "0  Four-Way Intersection          1           0            1          0   \n",
       "1         T-Intersection          3           0            0          0   \n",
       "2         T-Intersection          1           0            0          1   \n",
       "3         T-Intersection          1           0            0          1   \n",
       "4         T-Intersection          2           0            0          0   \n",
       "\n",
       "   Property_Dmg_Amt  Vehicle_Dmg_Amt  \n",
       "0               0.0           2800.0  \n",
       "1               0.0           1000.0  \n",
       "2               0.0           1000.0  \n",
       "3               0.0           1500.0  \n",
       "4               0.0            200.0  \n",
       "\n",
       "[5 rows x 21 columns]"
      ]
     },
     "execution_count": 33,
     "metadata": {},
     "output_type": "execute_result"
    }
   ],
   "source": [
    "# Write your codes below\n",
    "crash_df.head()"
   ]
  },
  {
   "cell_type": "code",
   "execution_count": 34,
   "metadata": {
    "hidden": true
   },
   "outputs": [
    {
     "data": {
      "text/html": [
       "<div>\n",
       "<style scoped>\n",
       "    .dataframe tbody tr th:only-of-type {\n",
       "        vertical-align: middle;\n",
       "    }\n",
       "\n",
       "    .dataframe tbody tr th {\n",
       "        vertical-align: top;\n",
       "    }\n",
       "\n",
       "    .dataframe thead th {\n",
       "        text-align: right;\n",
       "    }\n",
       "</style>\n",
       "<table border=\"1\" class=\"dataframe\">\n",
       "  <thead>\n",
       "    <tr style=\"text-align: right;\">\n",
       "      <th></th>\n",
       "      <th>City</th>\n",
       "      <th>Crash_Type</th>\n",
       "      <th>Vehicles</th>\n",
       "      <th>Non_Motorists</th>\n",
       "      <th>Fatalities</th>\n",
       "      <th>Injuries</th>\n",
       "      <th>Alcohol_Related</th>\n",
       "      <th>Distraction_Related</th>\n",
       "      <th>Drug_Related</th>\n",
       "      <th>Estimated_Damages</th>\n",
       "      <th>...</th>\n",
       "      <th>Light_Condition</th>\n",
       "      <th>Crash_Severity</th>\n",
       "      <th>Manner_of_Collision</th>\n",
       "      <th>Type_of_Intersection</th>\n",
       "      <th>Passengers</th>\n",
       "      <th>Bicyclists</th>\n",
       "      <th>Pedestrians</th>\n",
       "      <th>Citations</th>\n",
       "      <th>Property_Dmg_Amt</th>\n",
       "      <th>Vehicle_Dmg_Amt</th>\n",
       "    </tr>\n",
       "  </thead>\n",
       "  <tbody>\n",
       "    <tr>\n",
       "      <th>14078</th>\n",
       "      <td>Gainesville</td>\n",
       "      <td>Sideswipe</td>\n",
       "      <td>2</td>\n",
       "      <td>0</td>\n",
       "      <td>0</td>\n",
       "      <td>2</td>\n",
       "      <td>N</td>\n",
       "      <td>N</td>\n",
       "      <td>N</td>\n",
       "      <td>2000.0</td>\n",
       "      <td>...</td>\n",
       "      <td>Daylight</td>\n",
       "      <td>Injury</td>\n",
       "      <td>Sideswipe, Same Direction</td>\n",
       "      <td>Not at Intersection</td>\n",
       "      <td>0</td>\n",
       "      <td>0</td>\n",
       "      <td>0</td>\n",
       "      <td>1</td>\n",
       "      <td>0.0</td>\n",
       "      <td>2000.0</td>\n",
       "    </tr>\n",
       "    <tr>\n",
       "      <th>14079</th>\n",
       "      <td>Gainesville</td>\n",
       "      <td>Rear End</td>\n",
       "      <td>2</td>\n",
       "      <td>0</td>\n",
       "      <td>0</td>\n",
       "      <td>0</td>\n",
       "      <td>N</td>\n",
       "      <td>N</td>\n",
       "      <td>N</td>\n",
       "      <td>650.0</td>\n",
       "      <td>...</td>\n",
       "      <td>Daylight</td>\n",
       "      <td>Property Damage Only</td>\n",
       "      <td>Front to Rear</td>\n",
       "      <td>Not at Intersection</td>\n",
       "      <td>0</td>\n",
       "      <td>0</td>\n",
       "      <td>0</td>\n",
       "      <td>1</td>\n",
       "      <td>0.0</td>\n",
       "      <td>650.0</td>\n",
       "    </tr>\n",
       "    <tr>\n",
       "      <th>14080</th>\n",
       "      <td>Gainesville</td>\n",
       "      <td>Rear End</td>\n",
       "      <td>2</td>\n",
       "      <td>0</td>\n",
       "      <td>0</td>\n",
       "      <td>1</td>\n",
       "      <td>N</td>\n",
       "      <td>Y</td>\n",
       "      <td>N</td>\n",
       "      <td>400.0</td>\n",
       "      <td>...</td>\n",
       "      <td>Daylight</td>\n",
       "      <td>Injury</td>\n",
       "      <td>Front to Rear</td>\n",
       "      <td>Not at Intersection</td>\n",
       "      <td>0</td>\n",
       "      <td>0</td>\n",
       "      <td>0</td>\n",
       "      <td>1</td>\n",
       "      <td>0.0</td>\n",
       "      <td>400.0</td>\n",
       "    </tr>\n",
       "    <tr>\n",
       "      <th>14081</th>\n",
       "      <td>Gainesville</td>\n",
       "      <td>Rear End</td>\n",
       "      <td>2</td>\n",
       "      <td>0</td>\n",
       "      <td>0</td>\n",
       "      <td>3</td>\n",
       "      <td>N</td>\n",
       "      <td>N</td>\n",
       "      <td>N</td>\n",
       "      <td>1700.0</td>\n",
       "      <td>...</td>\n",
       "      <td>Daylight</td>\n",
       "      <td>Injury</td>\n",
       "      <td>Front to Rear</td>\n",
       "      <td>Y-Intersection</td>\n",
       "      <td>2</td>\n",
       "      <td>0</td>\n",
       "      <td>0</td>\n",
       "      <td>2</td>\n",
       "      <td>0.0</td>\n",
       "      <td>1700.0</td>\n",
       "    </tr>\n",
       "    <tr>\n",
       "      <th>14082</th>\n",
       "      <td>Gainesville</td>\n",
       "      <td>Rear End</td>\n",
       "      <td>3</td>\n",
       "      <td>0</td>\n",
       "      <td>0</td>\n",
       "      <td>0</td>\n",
       "      <td>N</td>\n",
       "      <td>N</td>\n",
       "      <td>N</td>\n",
       "      <td>4200.0</td>\n",
       "      <td>...</td>\n",
       "      <td>Daylight</td>\n",
       "      <td>Property Damage Only</td>\n",
       "      <td>Front to Rear</td>\n",
       "      <td>T-Intersection</td>\n",
       "      <td>0</td>\n",
       "      <td>0</td>\n",
       "      <td>0</td>\n",
       "      <td>1</td>\n",
       "      <td>0.0</td>\n",
       "      <td>4200.0</td>\n",
       "    </tr>\n",
       "    <tr>\n",
       "      <th>14083</th>\n",
       "      <td>Gainesville</td>\n",
       "      <td>Rear End</td>\n",
       "      <td>2</td>\n",
       "      <td>0</td>\n",
       "      <td>0</td>\n",
       "      <td>1</td>\n",
       "      <td>N</td>\n",
       "      <td>N</td>\n",
       "      <td>N</td>\n",
       "      <td>1000.0</td>\n",
       "      <td>...</td>\n",
       "      <td>Daylight</td>\n",
       "      <td>Injury</td>\n",
       "      <td>Front to Rear</td>\n",
       "      <td>Not at Intersection</td>\n",
       "      <td>2</td>\n",
       "      <td>0</td>\n",
       "      <td>0</td>\n",
       "      <td>1</td>\n",
       "      <td>0.0</td>\n",
       "      <td>1000.0</td>\n",
       "    </tr>\n",
       "    <tr>\n",
       "      <th>14084</th>\n",
       "      <td>Gainesville</td>\n",
       "      <td>Angle</td>\n",
       "      <td>2</td>\n",
       "      <td>0</td>\n",
       "      <td>0</td>\n",
       "      <td>1</td>\n",
       "      <td>N</td>\n",
       "      <td>N</td>\n",
       "      <td>N</td>\n",
       "      <td>800.0</td>\n",
       "      <td>...</td>\n",
       "      <td>Daylight</td>\n",
       "      <td>Injury</td>\n",
       "      <td>Angle</td>\n",
       "      <td>T-Intersection</td>\n",
       "      <td>0</td>\n",
       "      <td>0</td>\n",
       "      <td>0</td>\n",
       "      <td>0</td>\n",
       "      <td>0.0</td>\n",
       "      <td>800.0</td>\n",
       "    </tr>\n",
       "    <tr>\n",
       "      <th>14085</th>\n",
       "      <td>Unincorporated</td>\n",
       "      <td>Pedestrian</td>\n",
       "      <td>1</td>\n",
       "      <td>1</td>\n",
       "      <td>1</td>\n",
       "      <td>0</td>\n",
       "      <td>N</td>\n",
       "      <td>Y</td>\n",
       "      <td>N</td>\n",
       "      <td>2000.0</td>\n",
       "      <td>...</td>\n",
       "      <td>Dark - Not Lighted</td>\n",
       "      <td>Fatality</td>\n",
       "      <td>Other</td>\n",
       "      <td>Not at Intersection</td>\n",
       "      <td>0</td>\n",
       "      <td>0</td>\n",
       "      <td>1</td>\n",
       "      <td>3</td>\n",
       "      <td>0.0</td>\n",
       "      <td>2000.0</td>\n",
       "    </tr>\n",
       "  </tbody>\n",
       "</table>\n",
       "<p>8 rows × 21 columns</p>\n",
       "</div>"
      ],
      "text/plain": [
       "                 City  Crash_Type  Vehicles  Non_Motorists  Fatalities  \\\n",
       "14078     Gainesville   Sideswipe         2              0           0   \n",
       "14079     Gainesville    Rear End         2              0           0   \n",
       "14080     Gainesville    Rear End         2              0           0   \n",
       "14081     Gainesville    Rear End         2              0           0   \n",
       "14082     Gainesville    Rear End         3              0           0   \n",
       "14083     Gainesville    Rear End         2              0           0   \n",
       "14084     Gainesville       Angle         2              0           0   \n",
       "14085  Unincorporated  Pedestrian         1              1           1   \n",
       "\n",
       "       Injuries Alcohol_Related Distraction_Related Drug_Related  \\\n",
       "14078         2               N                   N            N   \n",
       "14079         0               N                   N            N   \n",
       "14080         1               N                   Y            N   \n",
       "14081         3               N                   N            N   \n",
       "14082         0               N                   N            N   \n",
       "14083         1               N                   N            N   \n",
       "14084         1               N                   N            N   \n",
       "14085         0               N                   Y            N   \n",
       "\n",
       "       Estimated_Damages  ...     Light_Condition        Crash_Severity  \\\n",
       "14078             2000.0  ...            Daylight                Injury   \n",
       "14079              650.0  ...            Daylight  Property Damage Only   \n",
       "14080              400.0  ...            Daylight                Injury   \n",
       "14081             1700.0  ...            Daylight                Injury   \n",
       "14082             4200.0  ...            Daylight  Property Damage Only   \n",
       "14083             1000.0  ...            Daylight                Injury   \n",
       "14084              800.0  ...            Daylight                Injury   \n",
       "14085             2000.0  ...  Dark - Not Lighted              Fatality   \n",
       "\n",
       "             Manner_of_Collision Type_of_Intersection Passengers  Bicyclists  \\\n",
       "14078  Sideswipe, Same Direction  Not at Intersection          0           0   \n",
       "14079              Front to Rear  Not at Intersection          0           0   \n",
       "14080              Front to Rear  Not at Intersection          0           0   \n",
       "14081              Front to Rear       Y-Intersection          2           0   \n",
       "14082              Front to Rear       T-Intersection          0           0   \n",
       "14083              Front to Rear  Not at Intersection          2           0   \n",
       "14084                      Angle       T-Intersection          0           0   \n",
       "14085                      Other  Not at Intersection          0           0   \n",
       "\n",
       "       Pedestrians  Citations  Property_Dmg_Amt  Vehicle_Dmg_Amt  \n",
       "14078            0          1               0.0           2000.0  \n",
       "14079            0          1               0.0            650.0  \n",
       "14080            0          1               0.0            400.0  \n",
       "14081            0          2               0.0           1700.0  \n",
       "14082            0          1               0.0           4200.0  \n",
       "14083            0          1               0.0           1000.0  \n",
       "14084            0          0               0.0            800.0  \n",
       "14085            1          3               0.0           2000.0  \n",
       "\n",
       "[8 rows x 21 columns]"
      ]
     },
     "execution_count": 34,
     "metadata": {},
     "output_type": "execute_result"
    }
   ],
   "source": [
    "# Write your codes below\n",
    "crash_df.tail(8)"
   ]
  },
  {
   "cell_type": "markdown",
   "metadata": {
    "hidden": true
   },
   "source": [
    "### <span>**<font color='royalblue'>Question 2.5</font>**</span>\n",
    "\n",
    "1. Retrive columns \\['Alcohol_Related', 'Drug_Related', 'Injuries'\\] from `crash_df`.\n",
    "    1. Using label indexing.\n",
    "    2. Using location/position based indexing.\n",
    "2. Assign these columns to a new dataframe variable (call the variable with a name you preferred).\n",
    "3. How many crashes are **alcohol related**? How about **drug related**?\n",
    "4. Driving Under Impact (DUI) is a criminal (not civil) charge (up to 6 months in jail first caught). Both drug or alcohol exceeding certain limit are considered DUI. In this dataset, what is the percentage of DUI-related crashes?"
   ]
  },
  {
   "cell_type": "code",
   "execution_count": 35,
   "metadata": {
    "hidden": true
   },
   "outputs": [
    {
     "data": {
      "text/html": [
       "<div>\n",
       "<style scoped>\n",
       "    .dataframe tbody tr th:only-of-type {\n",
       "        vertical-align: middle;\n",
       "    }\n",
       "\n",
       "    .dataframe tbody tr th {\n",
       "        vertical-align: top;\n",
       "    }\n",
       "\n",
       "    .dataframe thead th {\n",
       "        text-align: right;\n",
       "    }\n",
       "</style>\n",
       "<table border=\"1\" class=\"dataframe\">\n",
       "  <thead>\n",
       "    <tr style=\"text-align: right;\">\n",
       "      <th></th>\n",
       "      <th>Alcohol_Related</th>\n",
       "      <th>Drug_Related</th>\n",
       "      <th>Injuries</th>\n",
       "    </tr>\n",
       "  </thead>\n",
       "  <tbody>\n",
       "    <tr>\n",
       "      <th>0</th>\n",
       "      <td>N</td>\n",
       "      <td>N</td>\n",
       "      <td>1</td>\n",
       "    </tr>\n",
       "    <tr>\n",
       "      <th>1</th>\n",
       "      <td>N</td>\n",
       "      <td>N</td>\n",
       "      <td>1</td>\n",
       "    </tr>\n",
       "    <tr>\n",
       "      <th>2</th>\n",
       "      <td>N</td>\n",
       "      <td>N</td>\n",
       "      <td>3</td>\n",
       "    </tr>\n",
       "    <tr>\n",
       "      <th>3</th>\n",
       "      <td>N</td>\n",
       "      <td>N</td>\n",
       "      <td>0</td>\n",
       "    </tr>\n",
       "    <tr>\n",
       "      <th>4</th>\n",
       "      <td>N</td>\n",
       "      <td>N</td>\n",
       "      <td>0</td>\n",
       "    </tr>\n",
       "    <tr>\n",
       "      <th>...</th>\n",
       "      <td>...</td>\n",
       "      <td>...</td>\n",
       "      <td>...</td>\n",
       "    </tr>\n",
       "    <tr>\n",
       "      <th>14081</th>\n",
       "      <td>N</td>\n",
       "      <td>N</td>\n",
       "      <td>3</td>\n",
       "    </tr>\n",
       "    <tr>\n",
       "      <th>14082</th>\n",
       "      <td>N</td>\n",
       "      <td>N</td>\n",
       "      <td>0</td>\n",
       "    </tr>\n",
       "    <tr>\n",
       "      <th>14083</th>\n",
       "      <td>N</td>\n",
       "      <td>N</td>\n",
       "      <td>1</td>\n",
       "    </tr>\n",
       "    <tr>\n",
       "      <th>14084</th>\n",
       "      <td>N</td>\n",
       "      <td>N</td>\n",
       "      <td>1</td>\n",
       "    </tr>\n",
       "    <tr>\n",
       "      <th>14085</th>\n",
       "      <td>N</td>\n",
       "      <td>N</td>\n",
       "      <td>0</td>\n",
       "    </tr>\n",
       "  </tbody>\n",
       "</table>\n",
       "<p>14086 rows × 3 columns</p>\n",
       "</div>"
      ],
      "text/plain": [
       "      Alcohol_Related Drug_Related  Injuries\n",
       "0                   N            N         1\n",
       "1                   N            N         1\n",
       "2                   N            N         3\n",
       "3                   N            N         0\n",
       "4                   N            N         0\n",
       "...               ...          ...       ...\n",
       "14081               N            N         3\n",
       "14082               N            N         0\n",
       "14083               N            N         1\n",
       "14084               N            N         1\n",
       "14085               N            N         0\n",
       "\n",
       "[14086 rows x 3 columns]"
      ]
     },
     "execution_count": 35,
     "metadata": {},
     "output_type": "execute_result"
    }
   ],
   "source": [
    "# Write your codes below\n",
    "crash_df[['Alcohol_Related', 'Drug_Related', 'Injuries']]"
   ]
  },
  {
   "cell_type": "code",
   "execution_count": 36,
   "metadata": {
    "hidden": true
   },
   "outputs": [
    {
     "data": {
      "text/html": [
       "<div>\n",
       "<style scoped>\n",
       "    .dataframe tbody tr th:only-of-type {\n",
       "        vertical-align: middle;\n",
       "    }\n",
       "\n",
       "    .dataframe tbody tr th {\n",
       "        vertical-align: top;\n",
       "    }\n",
       "\n",
       "    .dataframe thead th {\n",
       "        text-align: right;\n",
       "    }\n",
       "</style>\n",
       "<table border=\"1\" class=\"dataframe\">\n",
       "  <thead>\n",
       "    <tr style=\"text-align: right;\">\n",
       "      <th></th>\n",
       "      <th>Injuries</th>\n",
       "      <th>Alcohol_Related</th>\n",
       "      <th>Drug_Related</th>\n",
       "    </tr>\n",
       "  </thead>\n",
       "  <tbody>\n",
       "    <tr>\n",
       "      <th>9</th>\n",
       "      <td>0</td>\n",
       "      <td>N</td>\n",
       "      <td>N</td>\n",
       "    </tr>\n",
       "    <tr>\n",
       "      <th>10</th>\n",
       "      <td>0</td>\n",
       "      <td>N</td>\n",
       "      <td>N</td>\n",
       "    </tr>\n",
       "    <tr>\n",
       "      <th>11</th>\n",
       "      <td>1</td>\n",
       "      <td>N</td>\n",
       "      <td>N</td>\n",
       "    </tr>\n",
       "    <tr>\n",
       "      <th>12</th>\n",
       "      <td>0</td>\n",
       "      <td>N</td>\n",
       "      <td>N</td>\n",
       "    </tr>\n",
       "    <tr>\n",
       "      <th>13</th>\n",
       "      <td>0</td>\n",
       "      <td>N</td>\n",
       "      <td>N</td>\n",
       "    </tr>\n",
       "    <tr>\n",
       "      <th>14</th>\n",
       "      <td>2</td>\n",
       "      <td>N</td>\n",
       "      <td>N</td>\n",
       "    </tr>\n",
       "    <tr>\n",
       "      <th>15</th>\n",
       "      <td>1</td>\n",
       "      <td>N</td>\n",
       "      <td>N</td>\n",
       "    </tr>\n",
       "    <tr>\n",
       "      <th>16</th>\n",
       "      <td>0</td>\n",
       "      <td>N</td>\n",
       "      <td>N</td>\n",
       "    </tr>\n",
       "    <tr>\n",
       "      <th>17</th>\n",
       "      <td>0</td>\n",
       "      <td>N</td>\n",
       "      <td>N</td>\n",
       "    </tr>\n",
       "    <tr>\n",
       "      <th>18</th>\n",
       "      <td>0</td>\n",
       "      <td>N</td>\n",
       "      <td>N</td>\n",
       "    </tr>\n",
       "  </tbody>\n",
       "</table>\n",
       "</div>"
      ],
      "text/plain": [
       "    Injuries Alcohol_Related Drug_Related\n",
       "9          0               N            N\n",
       "10         0               N            N\n",
       "11         1               N            N\n",
       "12         0               N            N\n",
       "13         0               N            N\n",
       "14         2               N            N\n",
       "15         1               N            N\n",
       "16         0               N            N\n",
       "17         0               N            N\n",
       "18         0               N            N"
      ]
     },
     "execution_count": 36,
     "metadata": {},
     "output_type": "execute_result"
    }
   ],
   "source": [
    "crash_df.iloc[9:19, [5, 6, 8]]"
   ]
  },
  {
   "cell_type": "code",
   "execution_count": 37,
   "metadata": {
    "hidden": true
   },
   "outputs": [],
   "source": [
    "crash_subdf = crash_df.loc[:, ['Alcohol_Related', 'Drug_Related', 'Injuries']]"
   ]
  },
  {
   "cell_type": "code",
   "execution_count": 38,
   "metadata": {
    "hidden": true
   },
   "outputs": [
    {
     "data": {
      "text/html": [
       "<div>\n",
       "<style scoped>\n",
       "    .dataframe tbody tr th:only-of-type {\n",
       "        vertical-align: middle;\n",
       "    }\n",
       "\n",
       "    .dataframe tbody tr th {\n",
       "        vertical-align: top;\n",
       "    }\n",
       "\n",
       "    .dataframe thead th {\n",
       "        text-align: right;\n",
       "    }\n",
       "</style>\n",
       "<table border=\"1\" class=\"dataframe\">\n",
       "  <thead>\n",
       "    <tr style=\"text-align: right;\">\n",
       "      <th></th>\n",
       "      <th>Alcohol_Related</th>\n",
       "      <th>Drug_Related</th>\n",
       "      <th>Injuries</th>\n",
       "    </tr>\n",
       "  </thead>\n",
       "  <tbody>\n",
       "    <tr>\n",
       "      <th>90</th>\n",
       "      <td>Y</td>\n",
       "      <td>N</td>\n",
       "      <td>0</td>\n",
       "    </tr>\n",
       "    <tr>\n",
       "      <th>120</th>\n",
       "      <td>Y</td>\n",
       "      <td>N</td>\n",
       "      <td>1</td>\n",
       "    </tr>\n",
       "    <tr>\n",
       "      <th>137</th>\n",
       "      <td>Y</td>\n",
       "      <td>N</td>\n",
       "      <td>1</td>\n",
       "    </tr>\n",
       "    <tr>\n",
       "      <th>144</th>\n",
       "      <td>Y</td>\n",
       "      <td>Y</td>\n",
       "      <td>2</td>\n",
       "    </tr>\n",
       "    <tr>\n",
       "      <th>173</th>\n",
       "      <td>Y</td>\n",
       "      <td>N</td>\n",
       "      <td>0</td>\n",
       "    </tr>\n",
       "    <tr>\n",
       "      <th>...</th>\n",
       "      <td>...</td>\n",
       "      <td>...</td>\n",
       "      <td>...</td>\n",
       "    </tr>\n",
       "    <tr>\n",
       "      <th>13945</th>\n",
       "      <td>Y</td>\n",
       "      <td>N</td>\n",
       "      <td>1</td>\n",
       "    </tr>\n",
       "    <tr>\n",
       "      <th>13977</th>\n",
       "      <td>Y</td>\n",
       "      <td>N</td>\n",
       "      <td>1</td>\n",
       "    </tr>\n",
       "    <tr>\n",
       "      <th>14037</th>\n",
       "      <td>Y</td>\n",
       "      <td>N</td>\n",
       "      <td>2</td>\n",
       "    </tr>\n",
       "    <tr>\n",
       "      <th>14040</th>\n",
       "      <td>Y</td>\n",
       "      <td>N</td>\n",
       "      <td>1</td>\n",
       "    </tr>\n",
       "    <tr>\n",
       "      <th>14044</th>\n",
       "      <td>Y</td>\n",
       "      <td>N</td>\n",
       "      <td>1</td>\n",
       "    </tr>\n",
       "  </tbody>\n",
       "</table>\n",
       "<p>371 rows × 3 columns</p>\n",
       "</div>"
      ],
      "text/plain": [
       "      Alcohol_Related Drug_Related  Injuries\n",
       "90                  Y            N         0\n",
       "120                 Y            N         1\n",
       "137                 Y            N         1\n",
       "144                 Y            Y         2\n",
       "173                 Y            N         0\n",
       "...               ...          ...       ...\n",
       "13945               Y            N         1\n",
       "13977               Y            N         1\n",
       "14037               Y            N         2\n",
       "14040               Y            N         1\n",
       "14044               Y            N         1\n",
       "\n",
       "[371 rows x 3 columns]"
      ]
     },
     "execution_count": 38,
     "metadata": {},
     "output_type": "execute_result"
    }
   ],
   "source": [
    "# Write your codes below\n",
    "crash_subdf.loc[crash_subdf['Alcohol_Related'] == 'Y']"
   ]
  },
  {
   "cell_type": "code",
   "execution_count": 39,
   "metadata": {
    "hidden": true
   },
   "outputs": [
    {
     "data": {
      "text/plain": [
       "False    13715\n",
       "True       371\n",
       "Name: Alcohol_Related, dtype: int64"
      ]
     },
     "execution_count": 39,
     "metadata": {},
     "output_type": "execute_result"
    }
   ],
   "source": [
    "(crash_subdf['Alcohol_Related'] == 'Y').value_counts()"
   ]
  },
  {
   "cell_type": "code",
   "execution_count": 40,
   "metadata": {
    "hidden": true
   },
   "outputs": [
    {
     "data": {
      "text/plain": [
       "371"
      ]
     },
     "execution_count": 40,
     "metadata": {},
     "output_type": "execute_result"
    }
   ],
   "source": [
    "np.sum(crash_subdf['Alcohol_Related'] == 'Y')"
   ]
  },
  {
   "cell_type": "code",
   "execution_count": 41,
   "metadata": {
    "hidden": true
   },
   "outputs": [
    {
     "data": {
      "text/html": [
       "<div>\n",
       "<style scoped>\n",
       "    .dataframe tbody tr th:only-of-type {\n",
       "        vertical-align: middle;\n",
       "    }\n",
       "\n",
       "    .dataframe tbody tr th {\n",
       "        vertical-align: top;\n",
       "    }\n",
       "\n",
       "    .dataframe thead th {\n",
       "        text-align: right;\n",
       "    }\n",
       "</style>\n",
       "<table border=\"1\" class=\"dataframe\">\n",
       "  <thead>\n",
       "    <tr style=\"text-align: right;\">\n",
       "      <th></th>\n",
       "      <th>Alcohol_Related</th>\n",
       "      <th>Drug_Related</th>\n",
       "      <th>Injuries</th>\n",
       "    </tr>\n",
       "  </thead>\n",
       "  <tbody>\n",
       "    <tr>\n",
       "      <th>0</th>\n",
       "      <td>N</td>\n",
       "      <td>N</td>\n",
       "      <td>1</td>\n",
       "    </tr>\n",
       "    <tr>\n",
       "      <th>1</th>\n",
       "      <td>N</td>\n",
       "      <td>N</td>\n",
       "      <td>1</td>\n",
       "    </tr>\n",
       "    <tr>\n",
       "      <th>2</th>\n",
       "      <td>N</td>\n",
       "      <td>N</td>\n",
       "      <td>3</td>\n",
       "    </tr>\n",
       "    <tr>\n",
       "      <th>3</th>\n",
       "      <td>N</td>\n",
       "      <td>N</td>\n",
       "      <td>0</td>\n",
       "    </tr>\n",
       "    <tr>\n",
       "      <th>4</th>\n",
       "      <td>N</td>\n",
       "      <td>N</td>\n",
       "      <td>0</td>\n",
       "    </tr>\n",
       "    <tr>\n",
       "      <th>...</th>\n",
       "      <td>...</td>\n",
       "      <td>...</td>\n",
       "      <td>...</td>\n",
       "    </tr>\n",
       "    <tr>\n",
       "      <th>14081</th>\n",
       "      <td>N</td>\n",
       "      <td>N</td>\n",
       "      <td>3</td>\n",
       "    </tr>\n",
       "    <tr>\n",
       "      <th>14082</th>\n",
       "      <td>N</td>\n",
       "      <td>N</td>\n",
       "      <td>0</td>\n",
       "    </tr>\n",
       "    <tr>\n",
       "      <th>14083</th>\n",
       "      <td>N</td>\n",
       "      <td>N</td>\n",
       "      <td>1</td>\n",
       "    </tr>\n",
       "    <tr>\n",
       "      <th>14084</th>\n",
       "      <td>N</td>\n",
       "      <td>N</td>\n",
       "      <td>1</td>\n",
       "    </tr>\n",
       "    <tr>\n",
       "      <th>14085</th>\n",
       "      <td>N</td>\n",
       "      <td>N</td>\n",
       "      <td>0</td>\n",
       "    </tr>\n",
       "  </tbody>\n",
       "</table>\n",
       "<p>14086 rows × 3 columns</p>\n",
       "</div>"
      ],
      "text/plain": [
       "      Alcohol_Related Drug_Related  Injuries\n",
       "0                   N            N         1\n",
       "1                   N            N         1\n",
       "2                   N            N         3\n",
       "3                   N            N         0\n",
       "4                   N            N         0\n",
       "...               ...          ...       ...\n",
       "14081               N            N         3\n",
       "14082               N            N         0\n",
       "14083               N            N         1\n",
       "14084               N            N         1\n",
       "14085               N            N         0\n",
       "\n",
       "[14086 rows x 3 columns]"
      ]
     },
     "execution_count": 41,
     "metadata": {},
     "output_type": "execute_result"
    }
   ],
   "source": [
    "crash_subdf"
   ]
  },
  {
   "cell_type": "code",
   "execution_count": 42,
   "metadata": {
    "hidden": true
   },
   "outputs": [
    {
     "data": {
      "text/plain": [
       "False    13978\n",
       "True       108\n",
       "Name: Drug_Related, dtype: int64"
      ]
     },
     "execution_count": 42,
     "metadata": {},
     "output_type": "execute_result"
    }
   ],
   "source": [
    "# Write your codes below\n",
    "(crash_subdf['Drug_Related'] == 'Y').value_counts()"
   ]
  },
  {
   "cell_type": "code",
   "execution_count": 43,
   "metadata": {
    "hidden": true
   },
   "outputs": [
    {
     "data": {
      "text/plain": [
       "420"
      ]
     },
     "execution_count": 43,
     "metadata": {},
     "output_type": "execute_result"
    }
   ],
   "source": [
    "371 + 108 - 59"
   ]
  },
  {
   "cell_type": "code",
   "execution_count": 44,
   "metadata": {
    "hidden": true,
    "scrolled": false
   },
   "outputs": [
    {
     "data": {
      "text/html": [
       "<div>\n",
       "<style scoped>\n",
       "    .dataframe tbody tr th:only-of-type {\n",
       "        vertical-align: middle;\n",
       "    }\n",
       "\n",
       "    .dataframe tbody tr th {\n",
       "        vertical-align: top;\n",
       "    }\n",
       "\n",
       "    .dataframe thead th {\n",
       "        text-align: right;\n",
       "    }\n",
       "</style>\n",
       "<table border=\"1\" class=\"dataframe\">\n",
       "  <thead>\n",
       "    <tr style=\"text-align: right;\">\n",
       "      <th></th>\n",
       "      <th>City</th>\n",
       "      <th>Crash_Type</th>\n",
       "      <th>Vehicles</th>\n",
       "      <th>Non_Motorists</th>\n",
       "      <th>Fatalities</th>\n",
       "      <th>Injuries</th>\n",
       "      <th>Alcohol_Related</th>\n",
       "      <th>Distraction_Related</th>\n",
       "      <th>Drug_Related</th>\n",
       "      <th>Estimated_Damages</th>\n",
       "      <th>...</th>\n",
       "      <th>Light_Condition</th>\n",
       "      <th>Crash_Severity</th>\n",
       "      <th>Manner_of_Collision</th>\n",
       "      <th>Type_of_Intersection</th>\n",
       "      <th>Passengers</th>\n",
       "      <th>Bicyclists</th>\n",
       "      <th>Pedestrians</th>\n",
       "      <th>Citations</th>\n",
       "      <th>Property_Dmg_Amt</th>\n",
       "      <th>Vehicle_Dmg_Amt</th>\n",
       "    </tr>\n",
       "  </thead>\n",
       "  <tbody>\n",
       "    <tr>\n",
       "      <th>45</th>\n",
       "      <td>Gainesville</td>\n",
       "      <td>Off Road</td>\n",
       "      <td>1</td>\n",
       "      <td>0</td>\n",
       "      <td>0</td>\n",
       "      <td>0</td>\n",
       "      <td>N</td>\n",
       "      <td>N</td>\n",
       "      <td>Y</td>\n",
       "      <td>1500.0</td>\n",
       "      <td>...</td>\n",
       "      <td>Dark - Lighted</td>\n",
       "      <td>Property Damage Only</td>\n",
       "      <td>Other</td>\n",
       "      <td>Not at Intersection</td>\n",
       "      <td>0</td>\n",
       "      <td>0</td>\n",
       "      <td>0</td>\n",
       "      <td>1</td>\n",
       "      <td>0.0</td>\n",
       "      <td>1500.0</td>\n",
       "    </tr>\n",
       "    <tr>\n",
       "      <th>90</th>\n",
       "      <td>Gainesville</td>\n",
       "      <td>Rear End</td>\n",
       "      <td>3</td>\n",
       "      <td>0</td>\n",
       "      <td>0</td>\n",
       "      <td>0</td>\n",
       "      <td>Y</td>\n",
       "      <td>Y</td>\n",
       "      <td>N</td>\n",
       "      <td>2000.0</td>\n",
       "      <td>...</td>\n",
       "      <td>Dark - Lighted</td>\n",
       "      <td>Property Damage Only</td>\n",
       "      <td>Front to Rear</td>\n",
       "      <td>Not at Intersection</td>\n",
       "      <td>0</td>\n",
       "      <td>0</td>\n",
       "      <td>0</td>\n",
       "      <td>1</td>\n",
       "      <td>0.0</td>\n",
       "      <td>2000.0</td>\n",
       "    </tr>\n",
       "    <tr>\n",
       "      <th>120</th>\n",
       "      <td>Gainesville</td>\n",
       "      <td>Head On</td>\n",
       "      <td>2</td>\n",
       "      <td>0</td>\n",
       "      <td>0</td>\n",
       "      <td>1</td>\n",
       "      <td>Y</td>\n",
       "      <td>N</td>\n",
       "      <td>N</td>\n",
       "      <td>2000.0</td>\n",
       "      <td>...</td>\n",
       "      <td>Dark - Lighted</td>\n",
       "      <td>Injury</td>\n",
       "      <td>Front to Front</td>\n",
       "      <td>Not at Intersection</td>\n",
       "      <td>0</td>\n",
       "      <td>0</td>\n",
       "      <td>0</td>\n",
       "      <td>1</td>\n",
       "      <td>0.0</td>\n",
       "      <td>2000.0</td>\n",
       "    </tr>\n",
       "    <tr>\n",
       "      <th>137</th>\n",
       "      <td>Gainesville</td>\n",
       "      <td>Rear End</td>\n",
       "      <td>2</td>\n",
       "      <td>0</td>\n",
       "      <td>0</td>\n",
       "      <td>1</td>\n",
       "      <td>Y</td>\n",
       "      <td>N</td>\n",
       "      <td>N</td>\n",
       "      <td>6000.0</td>\n",
       "      <td>...</td>\n",
       "      <td>Dark - Lighted</td>\n",
       "      <td>Injury</td>\n",
       "      <td>Front to Rear</td>\n",
       "      <td>T-Intersection</td>\n",
       "      <td>3</td>\n",
       "      <td>0</td>\n",
       "      <td>0</td>\n",
       "      <td>1</td>\n",
       "      <td>0.0</td>\n",
       "      <td>6000.0</td>\n",
       "    </tr>\n",
       "    <tr>\n",
       "      <th>144</th>\n",
       "      <td>Gainesville</td>\n",
       "      <td>Off Road</td>\n",
       "      <td>1</td>\n",
       "      <td>0</td>\n",
       "      <td>0</td>\n",
       "      <td>2</td>\n",
       "      <td>Y</td>\n",
       "      <td>N</td>\n",
       "      <td>Y</td>\n",
       "      <td>18000.0</td>\n",
       "      <td>...</td>\n",
       "      <td>Dark - Not Lighted</td>\n",
       "      <td>Injury</td>\n",
       "      <td>Other</td>\n",
       "      <td>Not at Intersection</td>\n",
       "      <td>2</td>\n",
       "      <td>0</td>\n",
       "      <td>0</td>\n",
       "      <td>0</td>\n",
       "      <td>15000.0</td>\n",
       "      <td>3000.0</td>\n",
       "    </tr>\n",
       "    <tr>\n",
       "      <th>...</th>\n",
       "      <td>...</td>\n",
       "      <td>...</td>\n",
       "      <td>...</td>\n",
       "      <td>...</td>\n",
       "      <td>...</td>\n",
       "      <td>...</td>\n",
       "      <td>...</td>\n",
       "      <td>...</td>\n",
       "      <td>...</td>\n",
       "      <td>...</td>\n",
       "      <td>...</td>\n",
       "      <td>...</td>\n",
       "      <td>...</td>\n",
       "      <td>...</td>\n",
       "      <td>...</td>\n",
       "      <td>...</td>\n",
       "      <td>...</td>\n",
       "      <td>...</td>\n",
       "      <td>...</td>\n",
       "      <td>...</td>\n",
       "      <td>...</td>\n",
       "    </tr>\n",
       "    <tr>\n",
       "      <th>13977</th>\n",
       "      <td>Gainesville</td>\n",
       "      <td>Rear End</td>\n",
       "      <td>2</td>\n",
       "      <td>0</td>\n",
       "      <td>0</td>\n",
       "      <td>1</td>\n",
       "      <td>Y</td>\n",
       "      <td>N</td>\n",
       "      <td>N</td>\n",
       "      <td>1000.0</td>\n",
       "      <td>...</td>\n",
       "      <td>Daylight</td>\n",
       "      <td>Injury</td>\n",
       "      <td>Front to Rear</td>\n",
       "      <td>Four-Way Intersection</td>\n",
       "      <td>0</td>\n",
       "      <td>0</td>\n",
       "      <td>0</td>\n",
       "      <td>3</td>\n",
       "      <td>0.0</td>\n",
       "      <td>1000.0</td>\n",
       "    </tr>\n",
       "    <tr>\n",
       "      <th>14023</th>\n",
       "      <td>Gainesville</td>\n",
       "      <td>Other</td>\n",
       "      <td>1</td>\n",
       "      <td>2</td>\n",
       "      <td>2</td>\n",
       "      <td>0</td>\n",
       "      <td>N</td>\n",
       "      <td>N</td>\n",
       "      <td>Y</td>\n",
       "      <td>200.0</td>\n",
       "      <td>...</td>\n",
       "      <td>Dark - Lighted</td>\n",
       "      <td>Fatality</td>\n",
       "      <td>Other</td>\n",
       "      <td>Four-Way Intersection</td>\n",
       "      <td>0</td>\n",
       "      <td>0</td>\n",
       "      <td>2</td>\n",
       "      <td>0</td>\n",
       "      <td>0.0</td>\n",
       "      <td>200.0</td>\n",
       "    </tr>\n",
       "    <tr>\n",
       "      <th>14037</th>\n",
       "      <td>Gainesville</td>\n",
       "      <td>Left Turn</td>\n",
       "      <td>2</td>\n",
       "      <td>0</td>\n",
       "      <td>0</td>\n",
       "      <td>2</td>\n",
       "      <td>Y</td>\n",
       "      <td>N</td>\n",
       "      <td>N</td>\n",
       "      <td>4000.0</td>\n",
       "      <td>...</td>\n",
       "      <td>Dark - Lighted</td>\n",
       "      <td>Injury</td>\n",
       "      <td>Angle</td>\n",
       "      <td>T-Intersection</td>\n",
       "      <td>2</td>\n",
       "      <td>0</td>\n",
       "      <td>0</td>\n",
       "      <td>1</td>\n",
       "      <td>0.0</td>\n",
       "      <td>4000.0</td>\n",
       "    </tr>\n",
       "    <tr>\n",
       "      <th>14040</th>\n",
       "      <td>Gainesville</td>\n",
       "      <td>Other</td>\n",
       "      <td>1</td>\n",
       "      <td>0</td>\n",
       "      <td>0</td>\n",
       "      <td>1</td>\n",
       "      <td>Y</td>\n",
       "      <td>Y</td>\n",
       "      <td>N</td>\n",
       "      <td>34000.0</td>\n",
       "      <td>...</td>\n",
       "      <td>Dark - Lighted</td>\n",
       "      <td>Injury</td>\n",
       "      <td>Angle</td>\n",
       "      <td>Four-Way Intersection</td>\n",
       "      <td>0</td>\n",
       "      <td>0</td>\n",
       "      <td>0</td>\n",
       "      <td>1</td>\n",
       "      <td>17000.0</td>\n",
       "      <td>17000.0</td>\n",
       "    </tr>\n",
       "    <tr>\n",
       "      <th>14044</th>\n",
       "      <td>Gainesville</td>\n",
       "      <td>Off Road</td>\n",
       "      <td>1</td>\n",
       "      <td>0</td>\n",
       "      <td>0</td>\n",
       "      <td>1</td>\n",
       "      <td>Y</td>\n",
       "      <td>Y</td>\n",
       "      <td>N</td>\n",
       "      <td>4000.0</td>\n",
       "      <td>...</td>\n",
       "      <td>Dark - Lighted</td>\n",
       "      <td>Injury</td>\n",
       "      <td>Other</td>\n",
       "      <td>Not at Intersection</td>\n",
       "      <td>0</td>\n",
       "      <td>0</td>\n",
       "      <td>0</td>\n",
       "      <td>2</td>\n",
       "      <td>0.0</td>\n",
       "      <td>4000.0</td>\n",
       "    </tr>\n",
       "  </tbody>\n",
       "</table>\n",
       "<p>420 rows × 21 columns</p>\n",
       "</div>"
      ],
      "text/plain": [
       "              City Crash_Type  Vehicles  Non_Motorists  Fatalities  Injuries  \\\n",
       "45     Gainesville   Off Road         1              0           0         0   \n",
       "90     Gainesville   Rear End         3              0           0         0   \n",
       "120    Gainesville    Head On         2              0           0         1   \n",
       "137    Gainesville   Rear End         2              0           0         1   \n",
       "144    Gainesville   Off Road         1              0           0         2   \n",
       "...            ...        ...       ...            ...         ...       ...   \n",
       "13977  Gainesville   Rear End         2              0           0         1   \n",
       "14023  Gainesville      Other         1              2           2         0   \n",
       "14037  Gainesville  Left Turn         2              0           0         2   \n",
       "14040  Gainesville      Other         1              0           0         1   \n",
       "14044  Gainesville   Off Road         1              0           0         1   \n",
       "\n",
       "      Alcohol_Related Distraction_Related Drug_Related  Estimated_Damages  \\\n",
       "45                  N                   N            Y             1500.0   \n",
       "90                  Y                   Y            N             2000.0   \n",
       "120                 Y                   N            N             2000.0   \n",
       "137                 Y                   N            N             6000.0   \n",
       "144                 Y                   N            Y            18000.0   \n",
       "...               ...                 ...          ...                ...   \n",
       "13977               Y                   N            N             1000.0   \n",
       "14023               N                   N            Y              200.0   \n",
       "14037               Y                   N            N             4000.0   \n",
       "14040               Y                   Y            N            34000.0   \n",
       "14044               Y                   Y            N             4000.0   \n",
       "\n",
       "       ...     Light_Condition        Crash_Severity Manner_of_Collision  \\\n",
       "45     ...      Dark - Lighted  Property Damage Only               Other   \n",
       "90     ...      Dark - Lighted  Property Damage Only       Front to Rear   \n",
       "120    ...      Dark - Lighted                Injury      Front to Front   \n",
       "137    ...      Dark - Lighted                Injury       Front to Rear   \n",
       "144    ...  Dark - Not Lighted                Injury               Other   \n",
       "...    ...                 ...                   ...                 ...   \n",
       "13977  ...            Daylight                Injury       Front to Rear   \n",
       "14023  ...      Dark - Lighted              Fatality               Other   \n",
       "14037  ...      Dark - Lighted                Injury               Angle   \n",
       "14040  ...      Dark - Lighted                Injury               Angle   \n",
       "14044  ...      Dark - Lighted                Injury               Other   \n",
       "\n",
       "        Type_of_Intersection Passengers  Bicyclists  Pedestrians  Citations  \\\n",
       "45       Not at Intersection          0           0            0          1   \n",
       "90       Not at Intersection          0           0            0          1   \n",
       "120      Not at Intersection          0           0            0          1   \n",
       "137           T-Intersection          3           0            0          1   \n",
       "144      Not at Intersection          2           0            0          0   \n",
       "...                      ...        ...         ...          ...        ...   \n",
       "13977  Four-Way Intersection          0           0            0          3   \n",
       "14023  Four-Way Intersection          0           0            2          0   \n",
       "14037         T-Intersection          2           0            0          1   \n",
       "14040  Four-Way Intersection          0           0            0          1   \n",
       "14044    Not at Intersection          0           0            0          2   \n",
       "\n",
       "       Property_Dmg_Amt  Vehicle_Dmg_Amt  \n",
       "45                  0.0           1500.0  \n",
       "90                  0.0           2000.0  \n",
       "120                 0.0           2000.0  \n",
       "137                 0.0           6000.0  \n",
       "144             15000.0           3000.0  \n",
       "...                 ...              ...  \n",
       "13977               0.0           1000.0  \n",
       "14023               0.0            200.0  \n",
       "14037               0.0           4000.0  \n",
       "14040           17000.0          17000.0  \n",
       "14044               0.0           4000.0  \n",
       "\n",
       "[420 rows x 21 columns]"
      ]
     },
     "execution_count": 44,
     "metadata": {},
     "output_type": "execute_result"
    }
   ],
   "source": [
    "# Write your codes below (again feel free to add/delete cells)\n",
    "crash_df.loc[(crash_subdf['Drug_Related'] == 'Y') | \n",
    "             (crash_subdf['Alcohol_Related'] == 'Y')]"
   ]
  },
  {
   "cell_type": "code",
   "execution_count": 45,
   "metadata": {
    "hidden": true
   },
   "outputs": [
    {
     "data": {
      "text/plain": [
       "0.029816839415022008"
      ]
     },
     "execution_count": 45,
     "metadata": {},
     "output_type": "execute_result"
    }
   ],
   "source": [
    "len(crash_df.loc[(crash_subdf['Drug_Related'] == 'Y') | \n",
    "             (crash_subdf['Alcohol_Related'] == 'Y')]) / len(crash_subdf)"
   ]
  },
  {
   "cell_type": "markdown",
   "metadata": {
    "hidden": true
   },
   "source": [
    "### <span>**<font color='royalblue'>Question 2.6</font>**</span>\n",
    "\n",
    "1. Aggregate `crash_df` by \"City\" and then calculated the **sum**?\n",
    "2. Which **city** has the most number of citations?"
   ]
  },
  {
   "cell_type": "code",
   "execution_count": 46,
   "metadata": {
    "hidden": true
   },
   "outputs": [],
   "source": [
    "# Write your codes below\n",
    "by_city_crash = crash_df.groupby('City')"
   ]
  },
  {
   "cell_type": "code",
   "execution_count": 47,
   "metadata": {
    "hidden": true
   },
   "outputs": [
    {
     "data": {
      "text/html": [
       "<div>\n",
       "<style scoped>\n",
       "    .dataframe tbody tr th:only-of-type {\n",
       "        vertical-align: middle;\n",
       "    }\n",
       "\n",
       "    .dataframe tbody tr th {\n",
       "        vertical-align: top;\n",
       "    }\n",
       "\n",
       "    .dataframe thead th {\n",
       "        text-align: right;\n",
       "    }\n",
       "</style>\n",
       "<table border=\"1\" class=\"dataframe\">\n",
       "  <thead>\n",
       "    <tr style=\"text-align: right;\">\n",
       "      <th></th>\n",
       "      <th>Vehicles</th>\n",
       "      <th>Non_Motorists</th>\n",
       "      <th>Fatalities</th>\n",
       "      <th>Injuries</th>\n",
       "      <th>Estimated_Damages</th>\n",
       "      <th>Passengers</th>\n",
       "      <th>Bicyclists</th>\n",
       "      <th>Pedestrians</th>\n",
       "      <th>Citations</th>\n",
       "      <th>Property_Dmg_Amt</th>\n",
       "      <th>Vehicle_Dmg_Amt</th>\n",
       "    </tr>\n",
       "    <tr>\n",
       "      <th>City</th>\n",
       "      <th></th>\n",
       "      <th></th>\n",
       "      <th></th>\n",
       "      <th></th>\n",
       "      <th></th>\n",
       "      <th></th>\n",
       "      <th></th>\n",
       "      <th></th>\n",
       "      <th></th>\n",
       "      <th></th>\n",
       "      <th></th>\n",
       "    </tr>\n",
       "  </thead>\n",
       "  <tbody>\n",
       "    <tr>\n",
       "      <th>Alachua</th>\n",
       "      <td>1594</td>\n",
       "      <td>17</td>\n",
       "      <td>5</td>\n",
       "      <td>307</td>\n",
       "      <td>4077884.0</td>\n",
       "      <td>802</td>\n",
       "      <td>4</td>\n",
       "      <td>8</td>\n",
       "      <td>398</td>\n",
       "      <td>154738.0</td>\n",
       "      <td>3923146.0</td>\n",
       "    </tr>\n",
       "    <tr>\n",
       "      <th>Archer</th>\n",
       "      <td>172</td>\n",
       "      <td>4</td>\n",
       "      <td>1</td>\n",
       "      <td>47</td>\n",
       "      <td>467555.0</td>\n",
       "      <td>49</td>\n",
       "      <td>1</td>\n",
       "      <td>2</td>\n",
       "      <td>75</td>\n",
       "      <td>12370.0</td>\n",
       "      <td>455185.0</td>\n",
       "    </tr>\n",
       "    <tr>\n",
       "      <th>Gainesville</th>\n",
       "      <td>21837</td>\n",
       "      <td>412</td>\n",
       "      <td>34</td>\n",
       "      <td>5477</td>\n",
       "      <td>38558924.0</td>\n",
       "      <td>8471</td>\n",
       "      <td>232</td>\n",
       "      <td>172</td>\n",
       "      <td>8762</td>\n",
       "      <td>1364070.0</td>\n",
       "      <td>37194854.0</td>\n",
       "    </tr>\n",
       "    <tr>\n",
       "      <th>Hawthorne</th>\n",
       "      <td>306</td>\n",
       "      <td>6</td>\n",
       "      <td>7</td>\n",
       "      <td>111</td>\n",
       "      <td>1431205.0</td>\n",
       "      <td>144</td>\n",
       "      <td>3</td>\n",
       "      <td>3</td>\n",
       "      <td>152</td>\n",
       "      <td>105055.0</td>\n",
       "      <td>1326150.0</td>\n",
       "    </tr>\n",
       "    <tr>\n",
       "      <th>High Springs</th>\n",
       "      <td>70</td>\n",
       "      <td>1</td>\n",
       "      <td>2</td>\n",
       "      <td>15</td>\n",
       "      <td>270389.0</td>\n",
       "      <td>22</td>\n",
       "      <td>1</td>\n",
       "      <td>0</td>\n",
       "      <td>31</td>\n",
       "      <td>18064.0</td>\n",
       "      <td>252325.0</td>\n",
       "    </tr>\n",
       "    <tr>\n",
       "      <th>La Crosse</th>\n",
       "      <td>7</td>\n",
       "      <td>1</td>\n",
       "      <td>1</td>\n",
       "      <td>5</td>\n",
       "      <td>28700.0</td>\n",
       "      <td>4</td>\n",
       "      <td>1</td>\n",
       "      <td>0</td>\n",
       "      <td>1</td>\n",
       "      <td>0.0</td>\n",
       "      <td>28700.0</td>\n",
       "    </tr>\n",
       "    <tr>\n",
       "      <th>Miami</th>\n",
       "      <td>1</td>\n",
       "      <td>0</td>\n",
       "      <td>0</td>\n",
       "      <td>0</td>\n",
       "      <td>200.0</td>\n",
       "      <td>0</td>\n",
       "      <td>0</td>\n",
       "      <td>0</td>\n",
       "      <td>0</td>\n",
       "      <td>0.0</td>\n",
       "      <td>200.0</td>\n",
       "    </tr>\n",
       "    <tr>\n",
       "      <th>Micanopy</th>\n",
       "      <td>512</td>\n",
       "      <td>2</td>\n",
       "      <td>1</td>\n",
       "      <td>133</td>\n",
       "      <td>1938079.0</td>\n",
       "      <td>402</td>\n",
       "      <td>1</td>\n",
       "      <td>1</td>\n",
       "      <td>241</td>\n",
       "      <td>133400.0</td>\n",
       "      <td>1804679.0</td>\n",
       "    </tr>\n",
       "    <tr>\n",
       "      <th>Newberry</th>\n",
       "      <td>531</td>\n",
       "      <td>7</td>\n",
       "      <td>3</td>\n",
       "      <td>147</td>\n",
       "      <td>1796672.0</td>\n",
       "      <td>192</td>\n",
       "      <td>2</td>\n",
       "      <td>4</td>\n",
       "      <td>237</td>\n",
       "      <td>57566.0</td>\n",
       "      <td>1739106.0</td>\n",
       "    </tr>\n",
       "    <tr>\n",
       "      <th>Ocala</th>\n",
       "      <td>9</td>\n",
       "      <td>0</td>\n",
       "      <td>0</td>\n",
       "      <td>2</td>\n",
       "      <td>30300.0</td>\n",
       "      <td>6</td>\n",
       "      <td>0</td>\n",
       "      <td>0</td>\n",
       "      <td>2</td>\n",
       "      <td>0.0</td>\n",
       "      <td>30300.0</td>\n",
       "    </tr>\n",
       "    <tr>\n",
       "      <th>Unincorporated</th>\n",
       "      <td>1431</td>\n",
       "      <td>18</td>\n",
       "      <td>14</td>\n",
       "      <td>371</td>\n",
       "      <td>4439163.0</td>\n",
       "      <td>504</td>\n",
       "      <td>4</td>\n",
       "      <td>10</td>\n",
       "      <td>501</td>\n",
       "      <td>222056.0</td>\n",
       "      <td>4217107.0</td>\n",
       "    </tr>\n",
       "    <tr>\n",
       "      <th>University of Florida</th>\n",
       "      <td>340</td>\n",
       "      <td>52</td>\n",
       "      <td>0</td>\n",
       "      <td>80</td>\n",
       "      <td>295369.0</td>\n",
       "      <td>91</td>\n",
       "      <td>31</td>\n",
       "      <td>20</td>\n",
       "      <td>22</td>\n",
       "      <td>17250.0</td>\n",
       "      <td>278119.0</td>\n",
       "    </tr>\n",
       "    <tr>\n",
       "      <th>Waldo</th>\n",
       "      <td>197</td>\n",
       "      <td>5</td>\n",
       "      <td>1</td>\n",
       "      <td>41</td>\n",
       "      <td>593427.0</td>\n",
       "      <td>101</td>\n",
       "      <td>3</td>\n",
       "      <td>2</td>\n",
       "      <td>76</td>\n",
       "      <td>84775.0</td>\n",
       "      <td>508652.0</td>\n",
       "    </tr>\n",
       "    <tr>\n",
       "      <th>Williston</th>\n",
       "      <td>1</td>\n",
       "      <td>0</td>\n",
       "      <td>0</td>\n",
       "      <td>0</td>\n",
       "      <td>2000.0</td>\n",
       "      <td>5</td>\n",
       "      <td>0</td>\n",
       "      <td>0</td>\n",
       "      <td>0</td>\n",
       "      <td>0.0</td>\n",
       "      <td>2000.0</td>\n",
       "    </tr>\n",
       "  </tbody>\n",
       "</table>\n",
       "</div>"
      ],
      "text/plain": [
       "                       Vehicles  Non_Motorists  Fatalities  Injuries  \\\n",
       "City                                                                   \n",
       "Alachua                    1594             17           5       307   \n",
       "Archer                      172              4           1        47   \n",
       "Gainesville               21837            412          34      5477   \n",
       "Hawthorne                   306              6           7       111   \n",
       "High Springs                 70              1           2        15   \n",
       "La Crosse                     7              1           1         5   \n",
       "Miami                         1              0           0         0   \n",
       "Micanopy                    512              2           1       133   \n",
       "Newberry                    531              7           3       147   \n",
       "Ocala                         9              0           0         2   \n",
       "Unincorporated             1431             18          14       371   \n",
       "University of Florida       340             52           0        80   \n",
       "Waldo                       197              5           1        41   \n",
       "Williston                     1              0           0         0   \n",
       "\n",
       "                       Estimated_Damages  Passengers  Bicyclists  Pedestrians  \\\n",
       "City                                                                            \n",
       "Alachua                        4077884.0         802           4            8   \n",
       "Archer                          467555.0          49           1            2   \n",
       "Gainesville                   38558924.0        8471         232          172   \n",
       "Hawthorne                      1431205.0         144           3            3   \n",
       "High Springs                    270389.0          22           1            0   \n",
       "La Crosse                        28700.0           4           1            0   \n",
       "Miami                              200.0           0           0            0   \n",
       "Micanopy                       1938079.0         402           1            1   \n",
       "Newberry                       1796672.0         192           2            4   \n",
       "Ocala                            30300.0           6           0            0   \n",
       "Unincorporated                 4439163.0         504           4           10   \n",
       "University of Florida           295369.0          91          31           20   \n",
       "Waldo                           593427.0         101           3            2   \n",
       "Williston                         2000.0           5           0            0   \n",
       "\n",
       "                       Citations  Property_Dmg_Amt  Vehicle_Dmg_Amt  \n",
       "City                                                                 \n",
       "Alachua                      398          154738.0        3923146.0  \n",
       "Archer                        75           12370.0         455185.0  \n",
       "Gainesville                 8762         1364070.0       37194854.0  \n",
       "Hawthorne                    152          105055.0        1326150.0  \n",
       "High Springs                  31           18064.0         252325.0  \n",
       "La Crosse                      1               0.0          28700.0  \n",
       "Miami                          0               0.0            200.0  \n",
       "Micanopy                     241          133400.0        1804679.0  \n",
       "Newberry                     237           57566.0        1739106.0  \n",
       "Ocala                          2               0.0          30300.0  \n",
       "Unincorporated               501          222056.0        4217107.0  \n",
       "University of Florida         22           17250.0         278119.0  \n",
       "Waldo                         76           84775.0         508652.0  \n",
       "Williston                      0               0.0           2000.0  "
      ]
     },
     "execution_count": 47,
     "metadata": {},
     "output_type": "execute_result"
    }
   ],
   "source": [
    "by_city_crash.sum()"
   ]
  },
  {
   "cell_type": "code",
   "execution_count": 48,
   "metadata": {
    "hidden": true
   },
   "outputs": [
    {
     "data": {
      "text/plain": [
       "'Gainesville'"
      ]
     },
     "execution_count": 48,
     "metadata": {},
     "output_type": "execute_result"
    }
   ],
   "source": [
    "by_city_crash.sum()['Citations'].idxmax()"
   ]
  },
  {
   "cell_type": "markdown",
   "metadata": {
    "hidden": true
   },
   "source": [
    "### <span>**<font color='royalblue'>Question 2.7</font>**</span>\n",
    "\n",
    "1. Aggregate `crash_df` by \"Alcohol_Related\" and then calculated the **mean** for \"Estimated_Damages\"?\n",
    "2. What do you find out?\n",
    "3. Aggregate `crash_df` by \"Drug_Related\" and then calculated the **mean** for \"Estimated_Damages\"?\n",
    "4. What do you find out?\n",
    "5. Was Drug-related or Alcohol-related crashes cost more damage?\n",
    "6. Was alcohol-related crash or drug-related crash more fatal? How many people were dead (per 100 crashes) for each category? (Show the codes you used to find out the answer)"
   ]
  },
  {
   "cell_type": "code",
   "execution_count": 49,
   "metadata": {
    "hidden": true
   },
   "outputs": [
    {
     "data": {
      "text/plain": [
       "Alcohol_Related\n",
       "N    3740.414801\n",
       "Y    7089.159030\n",
       "Name: Estimated_Damages, dtype: float64"
      ]
     },
     "execution_count": 49,
     "metadata": {},
     "output_type": "execute_result"
    }
   ],
   "source": [
    "# Write your codes below\n",
    "crash_df.groupby('Alcohol_Related').mean()['Estimated_Damages']"
   ]
  },
  {
   "cell_type": "code",
   "execution_count": 50,
   "metadata": {
    "hidden": true
   },
   "outputs": [
    {
     "data": {
      "text/plain": [
       "Alcohol_Related\n",
       "N    3740.414801\n",
       "Y    7089.159030\n",
       "Name: Estimated_Damages, dtype: float64"
      ]
     },
     "execution_count": 50,
     "metadata": {},
     "output_type": "execute_result"
    }
   ],
   "source": [
    "crash_df.groupby('Alcohol_Related').mean()['Estimated_Damages']"
   ]
  },
  {
   "cell_type": "code",
   "execution_count": 51,
   "metadata": {
    "hidden": true
   },
   "outputs": [
    {
     "data": {
      "text/plain": [
       "Drug_Related\n",
       "N    3807.029046\n",
       "Y    6622.361111\n",
       "Name: Estimated_Damages, dtype: float64"
      ]
     },
     "execution_count": 51,
     "metadata": {},
     "output_type": "execute_result"
    }
   ],
   "source": [
    "# Write your codes below\n",
    "crash_df.groupby('Drug_Related').mean()['Estimated_Damages']"
   ]
  },
  {
   "cell_type": "code",
   "execution_count": 52,
   "metadata": {
    "hidden": true
   },
   "outputs": [
    {
     "data": {
      "text/plain": [
       "Drug_Related\n",
       "N    0.004006\n",
       "Y    0.120370\n",
       "Name: Fatalities, dtype: float64"
      ]
     },
     "execution_count": 52,
     "metadata": {},
     "output_type": "execute_result"
    }
   ],
   "source": [
    "# Write your codes below\n",
    "crash_df.groupby('Drug_Related').mean()['Fatalities']"
   ]
  },
  {
   "cell_type": "code",
   "execution_count": 53,
   "metadata": {
    "hidden": true
   },
   "outputs": [
    {
     "data": {
      "text/plain": [
       "Drug_Related\n",
       "N     0.400630\n",
       "Y    12.037037\n",
       "Name: Fatalities, dtype: float64"
      ]
     },
     "execution_count": 53,
     "metadata": {},
     "output_type": "execute_result"
    }
   ],
   "source": [
    "crash_df.groupby('Drug_Related').mean()['Fatalities'] * 100"
   ]
  },
  {
   "cell_type": "code",
   "execution_count": 54,
   "metadata": {
    "hidden": true
   },
   "outputs": [
    {
     "data": {
      "text/plain": [
       "Alcohol_Related\n",
       "N    0.003646\n",
       "Y    0.051213\n",
       "Name: Fatalities, dtype: float64"
      ]
     },
     "execution_count": 54,
     "metadata": {},
     "output_type": "execute_result"
    }
   ],
   "source": [
    "# Write your codes below (again feel free to add/delete cells)\n",
    "crash_df.groupby('Alcohol_Related').mean()['Fatalities']"
   ]
  },
  {
   "cell_type": "code",
   "execution_count": 55,
   "metadata": {
    "hidden": true
   },
   "outputs": [
    {
     "data": {
      "text/plain": [
       "Alcohol_Related\n",
       "N    50\n",
       "Y    19\n",
       "Name: Fatalities, dtype: int32"
      ]
     },
     "execution_count": 55,
     "metadata": {},
     "output_type": "execute_result"
    }
   ],
   "source": [
    "# Write your codes below (again feel free to add/delete cells)\n",
    "crash_df.groupby('Alcohol_Related').sum()['Fatalities']"
   ]
  },
  {
   "cell_type": "code",
   "execution_count": 56,
   "metadata": {
    "hidden": true
   },
   "outputs": [
    {
     "data": {
      "text/plain": [
       "Drug_Related\n",
       "N    56\n",
       "Y    13\n",
       "Name: Fatalities, dtype: int32"
      ]
     },
     "execution_count": 56,
     "metadata": {},
     "output_type": "execute_result"
    }
   ],
   "source": [
    "crash_df.groupby('Drug_Related').sum()['Fatalities']"
   ]
  },
  {
   "cell_type": "code",
   "execution_count": 57,
   "metadata": {
    "hidden": true
   },
   "outputs": [
    {
     "data": {
      "text/plain": [
       "Alcohol_Related\n",
       "N    0.364564\n",
       "Y    5.121294\n",
       "Name: Fatalities, dtype: float64"
      ]
     },
     "execution_count": 57,
     "metadata": {},
     "output_type": "execute_result"
    }
   ],
   "source": [
    "# Write your codes below (again feel free to add/delete cells)\n",
    "crash_df.groupby('Alcohol_Related').mean()['Fatalities'] * 100"
   ]
  }
 ],
 "metadata": {
  "kernelspec": {
   "display_name": "ArcGISPro",
   "language": "Python",
   "name": "python3"
  },
  "language_info": {
   "codemirror_mode": {
    "name": "ipython",
    "version": 3
   },
   "file_extension": ".py",
   "mimetype": "text/x-python",
   "name": "python",
   "nbconvert_exporter": "python",
   "pygments_lexer": "ipython3",
   "version": "3.9.11"
  }
 },
 "nbformat": 4,
 "nbformat_minor": 2
}