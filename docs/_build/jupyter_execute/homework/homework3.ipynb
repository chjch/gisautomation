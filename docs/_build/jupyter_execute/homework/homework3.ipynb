{
 "cells": [
  {
   "cell_type": "markdown",
   "metadata": {},
   "source": [
    "# Homework 3\n",
    "\n",
    "Write a unit converter program that can convert any amount from input units to output units as follows:\n",
    "\n",
    "1. Feet to Miles,\n",
    "2. Feet to Meters,\n",
    "3. Meters to Feet,\n",
    "4. Meters to Miles,\n",
    "5. Square Feet to Acres,\n",
    "6. Square Meters to Acres,\n",
    "7. Square Miles to Acres, and\n",
    "8. Hectares to Acres."
   ]
  },
  {
   "cell_type": "markdown",
   "metadata": {},
   "source": [
    "## Program Structure:\n",
    "\n",
    "Two scripts are required: the main script (`.ipynb` file) and a module script (`.py` file).\n",
    "\n",
    "The module script should contain **8** functions, one for each of the conversions above. e.g., the function to convert feet to miles could be called `feet2miles`.\n",
    "It should take one numeric parameter (assumed to be the amount in feet) and should return the corresponding amount converted to miles. e.g., if we pass **5280** to the `feet2miles` function, it should return **1**.\n",
    "\n",
    "When the main script runs, it should prompt the user to enter a numeric amount in the interactive window, as below.\n",
    "\n",
    "<img src=\"https://live.staticflickr.com/65535/51833408835_e5c1fa67bc_z.jpg\">\n",
    "\n",
    "1. Make sure that the amount entered is a **positive** <u>valid number</u>, which can be either an integer or floating-point number.\n",
    "2. Once the number is entered and validated, prompt the user with a list of conversion options (see below).\n",
    "3. Check to make sure that the user chose one of the numbers between 1 and 8 (since 8 conversions are offered).\n",
    "4. Any other character should not be accepted, and the user should be asked to try again and enter a valid number between 1 and 8.\n",
    "\n",
    "<img src=\"https://live.staticflickr.com/65535/51833029594_58ac65499c_o.png\" alt=\"urp6271_hw3_img2\">\n",
    "\n",
    "Once the conversion option is chosen, you should display the results as follows: `xx input_unit = yy` output_unit e.g. `5280 Feet = 1 Mile` or `1 Square Mile = 640 Acres`.\n",
    "\n",
    "Last, prompt the user if they would like to **continue or not**.\n",
    "If they choose to continue, prompt them again to enter a numeric value.\n",
    "This should continue until the user chooses to stop.\n",
    "\n",
    "<img src=\"https://live.staticflickr.com/65535/51833029584_7734eee5aa_o.png\" width=\"587\" height=\"228\" alt=\"urp6271_hw3_img3\">"
   ]
  },
  {
   "cell_type": "markdown",
   "metadata": {},
   "source": [
    "## Error Handling:\n",
    "\n",
    "Make sure anticipate input errors e.g., if a user enters an amount that’s not a valid number e.g. **80a2g** or negative value **-50**.\n",
    "\n",
    "Additionally, include the use of `try-except` clause to capture unexpected errors and `print` the error messages on the screen similar to cases we have shown in class.\n",
    "\n",
    "**Note**: If Python is not finding the functions in your module, try to close python and open it again.\n",
    "\n",
    "**Data**: No data are required or used for this homework.\n",
    "\n",
    "**Turn In**: (pay attention to the naming convention)\n",
    "\n",
    "1. a Python Notebook, Name the file as following `LASTNAME_HW3.ipynb` e.g., `CHEN_HW3.ipynb`.\n",
    "2. python file (`CHEN_ucon.py`), and\n",
    "3. a presentation recording (`CHEN_HW3.mp4`)\n",
    "\n",
    "**Evaluation**: The instructor will review the contents and test the scripts.\n",
    "\n",
    "## REQUIRED INDIVIDUAL WORK\n",
    "\n",
    "Homework must be individual. Students are allowed to discuss ideas; however, the implementation of the solution should be individual. Please follow the honesty standards as defined by the University of Florida Honor Code. See syllabus for more information.\n",
    "\n",
    "## PENALTY FOR LATE SUBMISSION\n",
    "See syllabus"
   ]
  }
 ],
 "metadata": {
  "kernelspec": {
   "display_name": "ArcGISPro",
   "language": "Python",
   "name": "python3"
  },
  "language_info": {
   "codemirror_mode": {
    "name": "ipython",
    "version": 3
   },
   "file_extension": ".py",
   "mimetype": "text/x-python",
   "name": "python",
   "nbconvert_exporter": "python",
   "pygments_lexer": "ipython3",
   "version": "3.9.11"
  }
 },
 "nbformat": 4,
 "nbformat_minor": 2
}